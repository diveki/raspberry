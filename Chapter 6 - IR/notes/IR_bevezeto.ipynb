{
 "cells": [
  {
   "cell_type": "markdown",
   "metadata": {},
   "source": [
    "# Bevezető - Infravörös (IR) szenzorok"
   ]
  },
  {
   "cell_type": "markdown",
   "metadata": {},
   "source": [
    "## Az infravörös fény"
   ]
  },
  {
   "cell_type": "markdown",
   "metadata": {},
   "source": [
    "Az infravörös sugárzás egy elektromágneses sugárzás és nagyobb a hullámhossza, mint a látható fénynek, rögtön a vörös szín után következik. Ennek megfelelően infravörös sugárzáson a 780 nm és 1 mm közötti hullámhossz tartományt értjük.\n",
    "\n",
    "Az emberi szem nem képes fényként érzékelni, viszont „meleg érzetként” képesek vagyunk felfogni. Emiatt hősugárzásként is szoktuk emlegetni. Lényegében minden testnek van hősugárzása amit meg is lehet figyelni. Ez emberrel ellentétben jó néhány állat képes a spektrum ezen tartományát is érzékelni. \n",
    "\n",
    "Felhasználása az infravörös sugárzásnak szerteágazó, pl. hősugárzós fűtés, IR fényképezés, hőmérséklet mérés, vezeték nélküli kommunikáció, áram megszakítás, távolságmérés, pulzusszámlálás és egyéb orvosi alkalmazások stb.\n"
   ]
  },
  {
   "cell_type": "markdown",
   "metadata": {},
   "source": [
    "## IR érzékelők"
   ]
  },
  {
   "cell_type": "markdown",
   "metadata": {},
   "source": [
    "Az IR érzékelők olyan elektronikai eszközök, amik képesek az infravörös fény detektálására. Ezek a szenzorok sokszor érkeznek egy infravörös fényt sugárzó eszközzel, aminek a fényét a detektor érzékelheti. Ezekkel az eszközökkel érzékelhetjük a testek hőjét, illetve közvetett módon akár mozgást is detektálhatunk. \n",
    "\n",
    "Az IR sugárzó legtöbbször egy IR LED vagy IR lézer és a detektor pedig egy IR fotodióda vagy IR fototranzisztor. Oda kell figyelni, hogy a sugárzó ugyanazon a hullámhosszon sugározzon, mint amire a detektor érzékeny. Amikor az IR fény a detektorra esik, annak ellenállása és a mért feszültség is változik, a beérkezett fényintenzitás függvényében. \n",
    "\n",
    "Az IR fény a tárgyakon nem képes áthaladni. Gyakorlatban közvetítő közegként a vákuumot, levegőt és optikai kábeleket szoktak használni. "
   ]
  },
  {
   "cell_type": "markdown",
   "metadata": {},
   "source": [
    "<img src=\"bevezeto/emitter.jpg\" width=200 height=200 />"
   ]
  },
  {
   "cell_type": "markdown",
   "metadata": {},
   "source": [
    "<center> IR LED "
   ]
  },
  {
   "cell_type": "markdown",
   "metadata": {},
   "source": [
    "<img src=\"bevezeto/szenzor.jpg\" width=200 height=200 />"
   ]
  },
  {
   "cell_type": "markdown",
   "metadata": {},
   "source": [
    "<center> IR szenzor"
   ]
  },
  {
   "cell_type": "markdown",
   "metadata": {},
   "source": [
    "### Az IR szenzorok típusai\n",
    "\n",
    "Két típust különböztetünk meg:\n",
    "\n",
    "*Aktív IR szenzor*: Két elemből áll, egy IR forrásból és egy IR detektorból. A forrás általában egy IR LED vagy lézer, az IR detektor pedig egy fotodióda vagy pedig egy fototranzisztor. A forrás által kisugárzott infravörös fény a környezetben levő tárgyakról visszaverődve az érzékelőbe jut. \n",
    "\n",
    "*Passzív IR szenzor*: Ez csaj egy IR detektorból áll, nem használnak IR forrást. Két típusuk van, a quantumos és a termális. A termális infravörös szenzorok a környezetből jövő hőt használják detektálásra. A termoelem, piroelektrikus detektorok és a bolométerek tartoznak ebbe a csoportba. A quantum IR szenzorok nagyobb pontossággal érzékelnek és gyorsabbak mint a termális detektorok. Ezeknek a fényérzékenysége hullámhosszfüggő. \n",
    "\n",
    "### IR LED\n",
    "\n",
    "A diódára adott áramforrás a dióda anyagában levő atomok szabad elektronjainak többlet energiát ad, amitől azok magasabb energiájú pályára lépnek. Mivel ez nem stabil állapot, ezért hamarosan relaxálódnak az eredeti állapotukra és a felesleg energiát foton formájában adja le. A LED anyagától függően a leadott energia mértéke más és más, azaz a kibocsátott fény hullámhossza is változik. A LED által kibocsátott fény szöge függ a LED kialakításától. \n",
    "\n",
    "IR Receiver or Photodiode\n",
    "\n",
    "Infrared receivers or infrared sensors detect the radiation from an IR transmitter. IR receivers come in the form of photodiodes and phototransistors. Infrared Photodiodes are different from normal photo diodes as they detect only infrared radiation. Below image shows the picture of an IR receiver or a photodiode,\n",
    "\n",
    "Photodiode\n",
    "\n",
    "Different types of IR receivers exist based on the wavelength, voltage, package, etc. When used in an infrared transmitter – receiver combination, the wavelength of the receiver should match with that of the transmitter.\n",
    "\n",
    "The emitter is an IR LED and the detector is an IR photodiode. The IR photodiode is sensitive to the IR light emitted by an IR LED. The photo-diode’s resistance and output voltage change in proportion to the IR light received. This is the underlying working principle of the IR sensor.\n",
    "\n",
    "IR sensor Working\n",
    "\n",
    "When the IR transmitter emits radiation, it reaches the object and some of the radiation reflects back to the IR receiver. Based on the intensity of the reception by the IR receiver, the output of the sensor defines."
   ]
  },
  {
   "cell_type": "markdown",
   "metadata": {},
   "source": [
    "A thermisztorok alapvetően analóg jelet adnak ki magukból, de sokszor előfordul, hogy összeszereléskor egybeépítik egy analóg digitális átalakítóval (analoge-digital converter, ADC) és egy kommunikációs csatornával. A digitális szenzorok általában szilikon alapú integrált áramkörök. A legtöbbje tartalmazza a hőmérséklet szenzort, egy ADC-t, memóriát az adatok ideiglenes tárolására és egy kommunikációs interféjszt a szenzor és a mikrokontroller között. Így tehát ezek az eszközök egyból a hőmérsékletet adják meg.\n",
    "\n",
    "Az NTC thermisztorokat előszeretettel alkalmazzák fűtési rendszerek hőszabályozásánál, elemek hőmérsékletének mérésére töltés alatt pl. az autóiparban stb."
   ]
  },
  {
   "cell_type": "markdown",
   "metadata": {},
   "source": [
    "### Fontosabb paraméterek"
   ]
  },
  {
   "cell_type": "markdown",
   "metadata": {},
   "source": [
    "### Referencia\n",
    "\n",
    "1) https://hu.wikipedia.org/wiki/Infrav%C3%B6r%C3%B6s_sug%C3%A1rz%C3%A1s\n",
    "\n",
    "2) https://robu.in/ir-sensor-working/\n",
    "\n",
    "3) https://learn.sparkfun.com/tutorials/ir-communication/all\n",
    "\n",
    "4) https://www.sbprojects.net/knowledge/ir/index.php\n",
    "\n",
    "5) https://oktel.hu/szolgaltatas/riasztoberendezesek/mozgaserzekelok/a-passziv-infra-es-felepitese/"
   ]
  },
  {
   "cell_type": "markdown",
   "metadata": {},
   "source": [
    "## IR kommunikáció"
   ]
  },
  {
   "cell_type": "markdown",
   "metadata": {},
   "source": [
    "## A szenzor tesztelése"
   ]
  },
  {
   "cell_type": "markdown",
   "metadata": {},
   "source": [
    "## A szenzor Raspberry Pi-re csatlakoztatása"
   ]
  },
  {
   "cell_type": "markdown",
   "metadata": {},
   "source": [
    " A dolgunkat az nehezíti, hogy a Raspberry Pi nem tud analóg jelet olvasni, csakis digitális jel olvasására képes. Emiatt az áramkörünkben szükségünk lesz egy analóg-digitális átalakítóra (analoge-digital converter, ADC). Rengeteg különböző típus létezik a világon, mi ebből az MCP3008 nevű konvertert fogjuk használni. "
   ]
  },
  {
   "cell_type": "markdown",
   "metadata": {},
   "source": [
    "#### MCP3008 ADC"
   ]
  },
  {
   "cell_type": "markdown",
   "metadata": {},
   "source": [
    "Ez egy olcsó 8 csatornás (channel) 10-bites analóg digitális átalakító. Nagyon jól használható a Raspberry Pi-vel, ha egyszerű analóg jeleket akarunk olvasni, mint pl. a következő eszközök jelei: potenciométer, thermisztor, fotocella, 2 tengelyű joystick. 2.7V-5.5V tápfeszültséget képes elfogadni. Ez az eszköz az SPI kommunikációs protokollt támogatja, ami a Raspberry Pi-on is aktiválható. \n",
    "\n",
    "A fenti paraméterekből már látható, hogy mit érdemes figyelembe venni egy ADC kiválasztásánál: milyen táppal rendelkezünk, mekkora maximális áramerősséget bír el, milyen kommunikációs protokollt használ, mennyi analóg csatornát tud olvasni egyszerre, hány bites (milyen pontosan tudja az olvasott analóg jelet digitalizálni)?\n",
    "\n",
    "A lenti képen láthatjuk az ADC lábkiosztását. A lábak számozását a chip egyik szélén található félkör alapú bevágás alapján tudjuk meghatározni. A képen látható elrendezésben bal oldalt vannak a csatornák, amire az analóg jeleket kapcsolhatjuk rá, jobb oldalon pedig azok a lábak amiket a Rasperry Pi-ra kötünk. \n",
    "\n",
    "A **VDD**-re (16-os láb) kapcsoljuk azt a tápot ami biztosítja a chip működését. A Raspberry Pi-on 5V és 3.3V tápok vannak, bármelyiket rá lehet kapcsolni, illetve akár külső tápot is használhatunk. \n",
    "\n",
    "A **DGND**-re (digital ground) a földelést kapcsoljuk. Ez is a chip működéséhez szükséges.\n",
    "\n",
    "Az SPI kommunikációt 4 adat pin biztosítja:\n",
    "\n",
    "A **DOUT** (Data Out from MCP3008) ami az MCP3008-ból kimenő adatot szolgáltatja, azaz a Raspberrybe bemenő jelet, amit a **MISO** (Master In Slave Out) pinre (GPIO09) kell kapcsolni. A **DIN** (Data In from Raspberry Pi) ami a Raspberryből jövő adat fogadására szolgál, amit a Raspberryn a **MOSI** (Master Out Slave In) pinre (GPIO10) kell kötni. A **CLK** (clock pin) ami az órajelet adja, a Raspberryn az **SCLK** pinre (GPIO11) kell kötni. Végül a **CS** (Chip Select) ami ha aktív állapotban van, akkor lehetővé teszi a jelek kiolvasását az MCP3008-ból, de ha inaktív állapotban van, akkor hiába jön be jel a chipbe, azt a Raspberry nem fogja megkapni. Ezt a Raspberryn két pinre lehet kötni, a **CE0** (GPIO08) vagy a **CE1** (GPIO07).\n",
    "\n",
    "Az **AGND** (analog ground) amit általában a precíziós áramkörökben használnak, szintén a földelésre csatlakozik. \n",
    "\n",
    "A **VREF** (analog voltage reference) ami egy referencia feszültség, amivel a kiolvasandó feszültség skálázható. A mi esetünkben a thermisztor áramköre 3.3V-ot kap és kiolvasáskor ezt az értéket nem szeretnénk skálázni, így a VREF is a 3.3V-os pinre csatlakozik. "
   ]
  },
  {
   "cell_type": "markdown",
   "metadata": {},
   "source": [
    "<img src=\"bevezeto/mcp3008pin.gif\" width=400 height=400 />"
   ]
  },
  {
   "cell_type": "markdown",
   "metadata": {},
   "source": [
    "Összekötési táblázat az MCP3008 és a Raspberry Pi között:\n",
    "\n",
    "| Honnan (MCP3008)| Hova (Raspberry Pi) | \n",
    "|:---|:---|\n",
    "|MCP3008 VDD | 3.3V |\n",
    "|MCP3008 VREF | 3.3V |\n",
    "|MCP3008 AGND | GND |\n",
    "|MCP3008 CLK | GPIO11 SCLK |\n",
    "| MCP3008 DOUT | GPIO09 MISO | \n",
    "| MCP3008 DIN | GPIO10 MOSI | \n",
    "| MCP3008 CS | GPIO08 SPI0 CE0 |\n",
    "| MCP3008 DGND | GND|"
   ]
  },
  {
   "cell_type": "markdown",
   "metadata": {},
   "source": [
    "Lentebb egy ábra látható az MCP3008 átalakító Raspberryhez való kötéséről. Az analóg jel a CH0-n érkezik a chipbe, míg az SPI kommunikációhoz a drótok a Raspberryn az erre a célra kialakított pinekhez van kötve. \n"
   ]
  },
  {
   "cell_type": "markdown",
   "metadata": {},
   "source": [
    "*Az ábra forrása: https://learn.adafruit.com/reading-a-analog-in-and-controlling-audio-volume-with-the-raspberry-pi/connecting-the-cobbler-to-a-mcp3008*"
   ]
  },
  {
   "cell_type": "markdown",
   "metadata": {},
   "source": [
    "Az itt definiált Raspberry Pi pin bekötés a hardweres SPI kommunikációhoz kell. Ehhez engedélyeztetni kell a számítógépen ennek a lehetőségét. Először ellenőrízzük, hogy engedélyeztetve van-e. A terminálba gépeljük be, hogy ```ls -l /dev/spi*``` és ha a válaszban látszik a ```/dev/spidev0.0``` és ```/dev/spidev0.1``` akkor minden rendben van. \n",
    "\n",
    "Ha nem látszik a várt visszajelzés, akkor a következő lépéseket kell megtenni:"
   ]
  },
  {
   "cell_type": "markdown",
   "metadata": {},
   "source": [
    "1) Egy terminálban begépelni: ```sudo raspi-config```\n",
    "\n",
    "2) Válasszuk ki az ```Interfacing Options``` menűsort\n",
    "\n",
    "3) Válasszuk ki az ```SPI``` menűsort\n",
    "\n",
    "4) A ```YES``` kiválasztásával engedélyezzük az aktiválást\n",
    "\n",
    "5) Indítsuk újra a Raspberry Pit.\n"
   ]
  },
  {
   "cell_type": "markdown",
   "metadata": {},
   "source": [
    "Újraidítás után fel kell installálni még egy csomagot a ```spidev```-et. Ehhez a legegyszerűbb a terminálba begépelni a ```pip install spidev``` parancsot. "
   ]
  },
  {
   "cell_type": "markdown",
   "metadata": {},
   "source": [
    "Az ADC-k működésükből kifolyólag analóg jelet olvasnak be, ami pl. a mi Raspberry-s esetünkben 0V és 3.3V között bármilyen értéket fel vehet, és digitális jelet ad ki, ami magas és alacsony állapotot tud felvenni. Az MCP3008 10 bites felbontása azt jelenti, hogy a 0V-tól 3.3V-ig terjedő intervallumot 10 db bitbe tudja szétosztani egyenletesen. A kiolvasáskor egy számot kapunk ami a 2-nek a hatványa, maximum $2^{10}$, azaz 0-tól 1023-ig terjedő szám lehet. Ezt az értéket a következő képlettel tudjuk visszakonvertálni feszültségbe: $\\frac{ADC}{1023} \\times V_{ref}$, ahol az ADC a digitális oldalon kiolvasott szám, $V_{ref}$ pedig a referencia feszültség amit az MCP3008-ra kötöttünk. Az ADC-nek minél nagyobb bites felbontása van, annál pontosabban tudja előállítani az analóg jel digitális megfelelőjét. "
   ]
  },
  {
   "cell_type": "markdown",
   "metadata": {},
   "source": [
    "Az MCP3008-al több modulon keresztül is tudunk kommunikálni, de a *gpiozero* csomagnak is van előre definiált objektuma erre a célra, méghozzá az **MCP3008** objektum. Ezt beimportálva és inicializálva képesek leszünk kommunikálni az átalakítóval. Az MCP3008 objektumnak számos metódusa van, így pl. a kiolvasott digitális jelet nem kell nekünk átalakítani feszültséggé, ezt az objektum ```voltage``` metódusa alapból tudja."
   ]
  },
  {
   "cell_type": "markdown",
   "metadata": {},
   "source": [
    "### Referencia"
   ]
  },
  {
   "cell_type": "markdown",
   "metadata": {},
   "source": [
    "1) NTCC 10k datasheet - https://www.tme.eu/Document/f06e7f4c0fd5fd1c49c3e9fd8ceb0529/NTCC-10K.pdf\n",
    "\n",
    "2) MCP3008 datasheet - https://cdn-shop.adafruit.com/datasheets/MCP3008.pdf\n",
    "\n",
    "3) https://learn.adafruit.com/reading-a-analog-in-and-controlling-audio-volume-with-the-raspberry-pi/connecting-the-cobbler-to-a-mcp3008\n",
    "\n",
    "4) https://tutorials-raspberrypi.com/mcp3008-read-out-analog-signals-on-the-raspberry-pi/\n",
    "\n",
    "5) https://hu.wikipedia.org/wiki/Anal%C3%B3g-digit%C3%A1lis_%C3%A1talak%C3%ADt%C3%B3"
   ]
  },
  {
   "cell_type": "code",
   "execution_count": null,
   "metadata": {},
   "outputs": [],
   "source": []
  }
 ],
 "metadata": {
  "kernelspec": {
   "display_name": "Python 3",
   "language": "python",
   "name": "python3"
  },
  "language_info": {
   "codemirror_mode": {
    "name": "ipython",
    "version": 3
   },
   "file_extension": ".py",
   "mimetype": "text/x-python",
   "name": "python",
   "nbconvert_exporter": "python",
   "pygments_lexer": "ipython3",
   "version": "3.7.3"
  },
  "toc": {
   "base_numbering": 1,
   "nav_menu": {},
   "number_sections": true,
   "sideBar": true,
   "skip_h1_title": false,
   "title_cell": "Table of Contents",
   "title_sidebar": "Contents",
   "toc_cell": false,
   "toc_position": {},
   "toc_section_display": true,
   "toc_window_display": false
  }
 },
 "nbformat": 4,
 "nbformat_minor": 4
}
