{
 "cells": [
  {
   "cell_type": "markdown",
   "metadata": {},
   "source": [
    "# Bevezető - Infravörös (IR) szenzorok"
   ]
  },
  {
   "cell_type": "markdown",
   "metadata": {},
   "source": [
    "## Az infravörös fény"
   ]
  },
  {
   "cell_type": "markdown",
   "metadata": {},
   "source": [
    "Az infravörös sugárzás egy elektromágneses sugárzás és nagyobb a hullámhossza, mint a látható fénynek, rögtön a vörös szín után következik. Ennek megfelelően infravörös sugárzáson a 780 nm és 1 mm közötti hullámhossz tartományt értjük.\n",
    "\n",
    "Az emberi szem nem képes fényként érzékelni, viszont „meleg érzetként” képesek vagyunk felfogni. Emiatt hősugárzásként is szoktuk emlegetni. Lényegében minden testnek van hősugárzása amit meg is lehet figyelni. Ez emberrel ellentétben jó néhány állat képes a spektrum ezen tartományát is érzékelni. \n",
    "\n",
    "Felhasználása az infravörös sugárzásnak szerteágazó, pl. hősugárzós fűtés, IR fényképezés, hőmérséklet mérés, vezeték nélküli kommunikáció, áram megszakítás, távolságmérés, pulzusszámlálás és egyéb orvosi alkalmazások stb.\n"
   ]
  },
  {
   "cell_type": "markdown",
   "metadata": {},
   "source": [
    "## IR érzékelők"
   ]
  },
  {
   "cell_type": "markdown",
   "metadata": {},
   "source": [
    "Az IR érzékelők olyan elektronikai eszközök, amik képesek az infravörös fény detektálására. Ezek a szenzorok sokszor érkeznek egy infravörös fényt sugárzó eszközzel, aminek a fényét a detektor érzékelheti. Ezekkel az eszközökkel érzékelhetjük a testek hőjét, illetve közvetett módon akár mozgást is detektálhatunk. \n",
    "\n",
    "Az IR sugárzó legtöbbször egy IR LED vagy IR lézer és a detektor pedig egy IR fotodióda vagy IR fototranzisztor. Oda kell figyelni, hogy a sugárzó ugyanazon a hullámhosszon sugározzon, mint amire a detektor érzékeny. Amikor az IR fény a detektorra esik, annak ellenállása és a mért feszültség is változik, a beérkezett fényintenzitás függvényében. \n",
    "\n",
    "Az IR fény a tárgyakon nem képes áthaladni. Gyakorlatban közvetítő közegként a vákuumot, levegőt és optikai kábeleket szoktak használni. "
   ]
  },
  {
   "cell_type": "markdown",
   "metadata": {},
   "source": [
    "<img src=\"bevezeto/emitter.jpg\" width=200 height=200 />"
   ]
  },
  {
   "cell_type": "markdown",
   "metadata": {},
   "source": [
    "<center> IR LED "
   ]
  },
  {
   "cell_type": "markdown",
   "metadata": {},
   "source": [
    "<img src=\"bevezeto/szenzor.jpg\" width=200 height=200 />"
   ]
  },
  {
   "cell_type": "markdown",
   "metadata": {},
   "source": [
    "<center> IR szenzor"
   ]
  },
  {
   "cell_type": "markdown",
   "metadata": {},
   "source": [
    "### Az IR szenzorok típusai\n",
    "\n",
    "Két típust különböztetünk meg:\n",
    "\n",
    "*Aktív IR szenzor*: Két elemből áll, egy IR forrásból és egy IR detektorból. A forrás általában egy IR LED vagy lézer, az IR detektor pedig egy fotodióda vagy pedig egy fototranzisztor. A forrás által kisugárzott infravörös fény a környezetben levő tárgyakról visszaverődve az érzékelőbe jut. \n",
    "\n",
    "*Passzív IR szenzor*: Ez csaj egy IR detektorból áll, nem használnak IR forrást. Két típusuk van, a quantumos és a termális. A termális infravörös szenzorok a környezetből jövő hőt használják detektálásra. A termoelem, piroelektrikus detektorok és a bolométerek tartoznak ebbe a csoportba. A quantum IR szenzorok nagyobb pontossággal érzékelnek és gyorsabbak mint a termális detektorok. Ezeknek a fényérzékenysége hullámhosszfüggő. \n",
    "\n",
    "### IR LED\n",
    "\n",
    "A diódára adott áramforrás a dióda anyagában levő atomok szabad elektronjainak többlet energiát ad, amitől azok magasabb energiájú pályára lépnek. Mivel ez nem stabil állapot, ezért hamarosan relaxálódnak az eredeti állapotukra és a felesleg energiát foton formájában adja le. A LED anyagától függően a leadott energia mértéke más és más, azaz a kibocsátott fény hullámhossza is változik. A LED által kibocsátott fény szöge függ a LED kialakításától. \n",
    "\n",
    "Az IR LED hosszabb lába az anód (pozitív), míg a rövidebb lába a katód (negatív). A LED-ek általános jellemzői közé tartoznak a a tápfeszültség, az energia, az üzemi áram, a hatékonyság (fényteljesítmény), az izzás hőmérséklete (szín), a sugárzási szög, a méret. Az adott alkalmazáshoz megfelelő LED kiválasztásához érdemes figyelembe venni az előző paramétereket, de leginkább a rajta átmenő maximális áramerősséget, hisz ha azt túllépjük, a LED akár le is éghet. "
   ]
  },
  {
   "cell_type": "markdown",
   "metadata": {},
   "source": [
    "### IR vevő \n",
    "\n",
    "Az infravörös vevők az infravörös sugárzók jeleit  érzékelik. Az IR vevők lehetnek fotodiódák vagy fototranzisztorok. Ezek csak az infravörös fényre érzékenyek. \n",
    "\n",
    "**Fotodióda**\n",
    "\n",
    "A fotodióda működése azon alapszik, hogy a félvezetőben elnyelődő fény elektron-lyuk párokat hoz létre és (típustól függően) diffundálnak vagy alap elektromos tér hatására elmennek az anód és a katód felé, létrehozva az áramot. A fotodiódák ellenállása és kimenő feszültsége változik a rájuk eső fény mennyiségének függvényében. Fontos, hogy az IR fotodiódák meghatározott hullámhosszra érzékenyek, így ha egy jeladóval pl. IR LED-del szeretnénk használni, akkor ugyanazon a hullámhosszon kell működniük. \n",
    "\n",
    "**Fototranzisztor**\n",
    "\n",
    "A fototranzisztorok lényegében sima tranzisztorok, amiket nem fedtek le. A működési alapelve nagyban hasonlít a fotodiódáéhoz. Amit fontos tudni, hogy nagyobb áramerősségeket képes produkálni a fotodiódáknál, és emiatt relatív nagyon érzékenyek már kis fények mellett is. Viszont a válaszidejük sokkal lassabb és nagy feszültségeket sem képesek elviselni.\n"
   ]
  },
  {
   "cell_type": "markdown",
   "metadata": {},
   "source": [
    "### Fontosabb paraméterek"
   ]
  },
  {
   "cell_type": "markdown",
   "metadata": {},
   "source": [
    "Tipikus jellemzői egy IR szenzornak:\n",
    "\n",
    "* Működési feszültség,\n",
    "* Érzékelési távolság, hatótávolság,\n",
    "* Maximális áramerősség,\n",
    "* Működési hullámhossz."
   ]
  },
  {
   "cell_type": "markdown",
   "metadata": {},
   "source": [
    "### Referencia\n",
    "\n",
    "1) https://hu.wikipedia.org/wiki/Infrav%C3%B6r%C3%B6s_sug%C3%A1rz%C3%A1s\n",
    "\n",
    "2) https://robu.in/ir-sensor-working/\n",
    "\n",
    "3) https://learn.sparkfun.com/tutorials/ir-communication/all\n",
    "\n",
    "4) https://www.sbprojects.net/knowledge/ir/index.php\n",
    "\n",
    "5) https://oktel.hu/szolgaltatas/riasztoberendezesek/mozgaserzekelok/a-passziv-infra-es-felepitese/\n",
    "\n",
    "6) https://www.electronicwings.com/sensors-modules/ir-communication\n",
    "\n",
    "7) https://maxembedded.com/2013/08/how-to-build-an-ir-sensor/"
   ]
  },
  {
   "cell_type": "markdown",
   "metadata": {},
   "source": [
    "## Felhasználások"
   ]
  },
  {
   "cell_type": "markdown",
   "metadata": {},
   "source": [
    "*Közelség érzékelő*\n",
    "\n",
    "Visszavert indirekt beesésű infravörös fényt használunk közelség mérő elkészítéséhez. Egy IR LED-ből származó infravörös fény verődik vissza a környezetben lévő tárgyról, amit a szenzor érzékel. Minél közelebb van a tárgy, annál erősebb a jel a fotodiódán. Ezt a jelet feszültséggé alakítják egy áramkörben, amivel meghatározzuk egy referencia görbe alapján a tárgy távolságát. \n",
    "\n",
    "Ezt felhasználják pl. az érintőképernyős telefonokban is, hogy érzékeljék, hogy a fülünkhöz tesszük-e a telefont, hogy energiatakarékosság miatt, és, hogy az érintéssel kapcsoljunk be egy nem kívánt funkciót. \n",
    "\n",
    "*Vonal követő robot*\n",
    "\n",
    "Az IR érzékelők játszák a főszerepet a vonalkövető robotok mechanizmusában. Ezek a szenzorok \"érzékelik\" a szenzor előtti színeket. A világosabb felszínről több infravörös verődik vissza, mint a feketéről. A visszavert fény mennyisége indít el egy vezérlési mechanizmust a robotban, hogy a fekete csík mentén tartsa a robotot. \n",
    "\n",
    "*Darab számláló*\n",
    "\n",
    "Ez a direkt fénybeesés elvén működik. Akárhányszor egy tárgy a szenzor és a sugárzó közé kerül, akadályozza az infravörös fény érzékelését evvel triggerelve egy számlálót. Nagy gyárak gyártósorán szoktak ilyen számlálókat alkalmazni helyettesítve az emberi jelenlétet. \n",
    "\n",
    "*Rabló riasztó*\n",
    "\n",
    "Ez is direkt fénybeesési elven működik. Ebben az esetben az IR LED az ajtó keret egyik felére van rögzítve, míg az érzékelő a másik felére, úgy hogy merőleges fénybeesés legyen. Normális esetben az infravörös fény könnyedén a fotodiódába érkezik, de ha valaki elébe áll, pl. betörő elhalad előtte, megszakítja a fény folytonosságát, amivel egy riasztót triggerelhetünk. Biztonsági berendezésekben gyakran használják ezt a megoldást."
   ]
  },
  {
   "cell_type": "markdown",
   "metadata": {},
   "source": [
    "## IR kommunikáció"
   ]
  },
  {
   "cell_type": "markdown",
   "metadata": {},
   "source": [
    "Az egyik legolcsóbb módja a távirányításnak az infravörös fény használata. A legtöbb audió és videó lejátszására alkalmas eszközt lehet evvel vezérelni. Mivel széles körben elterjedt ez a vezérlés, így a hozzá tartozó alkatrészek olcsók és könnyen elérhetők. \n",
    "\n",
    "Mivel az infravörös fényt nem látjuk, ideális eszköz vezérlésre. Szinte minden sugároz ki infravörös fényt, a Nap, az izzók stb. Amikor a TV távirányítóját nyomjuk, egy IR LED-et kapcsolunk be, ami információt sugároz a TV-be. Ez a sugárzás nagy frekvencián modulált (általában 38 kHz-en), és emiatt megkülönböztethető a környezetből érkező egyéb infravörös jeltől. Az előre meghatározott protokollok döntik el, hogy milyen jel mit jelent a kommunikációban.\n",
    "\n",
    "Legtöbbször TSOP típusú szenzort használnak az IR kommunikációban, míg sugárzóként 940-950 nm körüli hullámhosszú IR LED-et. A létező protokollok közül a NEC kód, Toshiba Micom Format, Sharp Code, RC5 Code, RC6 Code, R–2000 Code, Sony Format (SIRCS) stb. a legelterjettebbek."
   ]
  },
  {
   "cell_type": "markdown",
   "metadata": {},
   "source": [
    "Ahogy a lenti ábrán látható az IR forrás modulálja a jelet, amit az érzékelő 0 állapotnak fordít le. Amikor a sugárzóból jön a 0 állapot, az érzékelő azt 1-es állapotra fordítja. A végrehajtandó utasítástól függően a 0 és 1-es állapotok hossza változhat."
   ]
  },
  {
   "cell_type": "markdown",
   "metadata": {},
   "source": [
    "<img src=\"bevezeto/ir_communication.png\" width=500 height=400 />"
   ]
  },
  {
   "cell_type": "markdown",
   "metadata": {},
   "source": [
    "<center> IR kommunikációs protokoll. Forrás: http://courses.cs.tau.ac.il/embedded/projects/spring2017/IRPi/"
   ]
  },
  {
   "cell_type": "markdown",
   "metadata": {},
   "source": [
    "## A szenzor tesztelése"
   ]
  },
  {
   "cell_type": "markdown",
   "metadata": {},
   "source": [
    "### Az IR LED tesztelése\n",
    "\n",
    "Az IR LED tesztelése nagyon egyszerű, lényegében ugyanaz mint a sima LED-eké. Kell hozzá egy műszer, amit az érintkezés megállapítására alkalmas üzemmódba helyezünk. Az IR LED hosszú (anód) lábához érintve a műszer piros kábeljét, a rövid (katód) lábához pedig a műszer fekete (földelés) kábeljét, azt kell tapasztalnunk, hogy a LED vezeti az áramot. Valószínűleg a műszer nem fog sípolni, de a kijelzőn látjuk, hogy megváltozott az ellenállása. Mivel szabad szemmel nem látjuk az infravörös fényt, így a sima LED-ekkel ellentétben itt nem látjuk a LED-et világítani, esetleg infravörösre érzékeny kamerán keresztül. Ha a műszer kimeneteit fordítva kötjük az IR LED-re, akkor nem fogunk vezetést tapasztalni. \n",
    "\n",
    "### A fotodióda tesztelése\n",
    "\n",
    "A fotodióda teszteléséhez szükségünk lesz egy műszerre és érdemes a közelbe tartani valami hő-, infravörös forrást, pl. távirányító, égő gyufa stb. A műszer piros kábelét a fotodióda hosszú (anód) lábára, a fekete kábelét pedig a rövid lábára kell csatolnunk. A mérőműszert állítsuk vagy mV feszültségmérés vagy 20 MOhm ellenállásmérés üzemmódba. Ha most a fotodiódára világítunk az infravörös forrásunkkal, akkor a műszer kijelzőjén változást kell látnunk (ami akár az IR forrás kikapcsolása után is kitarthat egy darabig). Ha ezt nem tapasztaljuk, akkor nem jó a fotodiódánk. "
   ]
  },
  {
   "cell_type": "markdown",
   "metadata": {},
   "source": [
    "### A fototranzisztor tesztelése\n",
    "\n",
    "A fototranzisztor teszteléséhez szükségünk lesz egy műszerre és érdemes a közelbe tartani valami hő-, infravörös forrást, pl. távirányító, égő gyufa stb. A műszer fekete kábelét a fototranzisztor középső lábára, a piros kábelét pedig az egyik szélső lábára kell csatolnunk. A mérőműszert állítsuk vagy mV feszültségmérés vagy 20 MOhm ellenállásmérés üzemmódba. Ha most a fototranzisztorra világítunk az infravörös forrásunkkal, akkor a műszer kijelzőjén változást kell látnunk (ami akár az IR forrás kikapcsolása után is kitarthat egy darabig). Ha ezt nem tapasztaljuk, akkor nem jó a fototranzisztorunk."
   ]
  },
  {
   "cell_type": "markdown",
   "metadata": {},
   "source": [
    "## A szenzor Raspberry Pi-re csatlakoztatása"
   ]
  },
  {
   "cell_type": "markdown",
   "metadata": {},
   "source": [
    " A dolgunkat az nehezíti, hogy a Raspberry Pi nem tud analóg jelet olvasni, csakis digitális jel olvasására képes. Emiatt az áramkörünkben szükségünk lesz egy analóg-digitális átalakítóra (analoge-digital converter, ADC). Rengeteg különböző típus létezik a világon, mi ebből az MCP3008 nevű konvertert fogjuk használni. \n",
    " \n",
    "Emellett az is könnyen fejfájást okozhat, hogy a fotodiódánkon megjelenő feszültség nagyon alacsony, típustól (és beeső fényerősségtől) függően jó ha eléri a 100 mV-ot. Mivel ilyen kicsi jelnél a fénymennyiség változása nem okoz nagy feszültségdinamikát és az ADC-nek van egy definiált minimum bemeneti feszültsége amit át tud alakítani digitális jellé, érdemes elgondolkodnunk, hogyan lehetne a fotodióda jelét felerősíteni. \n",
    "\n",
    "Mi ezt az erősítést két lépésben javasoljuk: transzimpedancia erősítés és műveleti erősítés. Némely esetekben lehet az első erősítés is elég lenne. \n",
    "\n",
    "A következőkben megnézünk egy lehetséges kapcsolási rajzot és értelmezzük azt."
   ]
  },
  {
   "cell_type": "markdown",
   "metadata": {},
   "source": [
    "### Jel érzékelés és erősítés"
   ]
  },
  {
   "cell_type": "markdown",
   "metadata": {},
   "source": [
    "<img src=\"bevezeto/lm358_plan.png\" width=1000 height=1000 />"
   ]
  },
  {
   "cell_type": "markdown",
   "metadata": {},
   "source": [
    "### LM358 erősítő"
   ]
  },
  {
   "cell_type": "markdown",
   "metadata": {},
   "source": [
    "### MCP3008 ADC"
   ]
  },
  {
   "cell_type": "markdown",
   "metadata": {},
   "source": [
    "Ez egy olcsó 8 csatornás (channel) 10-bites analóg digitális átalakító. Nagyon jól használható a Raspberry Pi-vel, ha egyszerű analóg jeleket akarunk olvasni, mint pl. a következő eszközök jelei: potenciométer, thermisztor, fotocella, 2 tengelyű joystick. 2.7V-5.5V tápfeszültséget képes elfogadni. Ez az eszköz az SPI kommunikációs protokollt támogatja, ami a Raspberry Pi-on is aktiválható. \n",
    "\n",
    "A fenti paraméterekből már látható, hogy mit érdemes figyelembe venni egy ADC kiválasztásánál: milyen táppal rendelkezünk, mekkora maximális áramerősséget bír el, milyen kommunikációs protokollt használ, mennyi analóg csatornát tud olvasni egyszerre, hány bites (milyen pontosan tudja az olvasott analóg jelet digitalizálni)?\n",
    "\n",
    "A lenti képen láthatjuk az ADC lábkiosztását. A lábak számozását a chip egyik szélén található félkör alapú bevágás alapján tudjuk meghatározni. A képen látható elrendezésben bal oldalt vannak a csatornák, amire az analóg jeleket kapcsolhatjuk rá, jobb oldalon pedig azok a lábak amiket a Rasperry Pi-ra kötünk. \n",
    "\n",
    "A **VDD**-re (16-os láb) kapcsoljuk azt a tápot ami biztosítja a chip működését. A Raspberry Pi-on 5V és 3.3V tápok vannak, bármelyiket rá lehet kapcsolni, illetve akár külső tápot is használhatunk. \n",
    "\n",
    "A **DGND**-re (digital ground) a földelést kapcsoljuk. Ez is a chip működéséhez szükséges.\n",
    "\n",
    "Az SPI kommunikációt 4 adat pin biztosítja:\n",
    "\n",
    "A **DOUT** (Data Out from MCP3008) ami az MCP3008-ból kimenő adatot szolgáltatja, azaz a Raspberrybe bemenő jelet, amit a **MISO** (Master In Slave Out) pinre (GPIO09) kell kapcsolni. A **DIN** (Data In from Raspberry Pi) ami a Raspberryből jövő adat fogadására szolgál, amit a Raspberryn a **MOSI** (Master Out Slave In) pinre (GPIO10) kell kötni. A **CLK** (clock pin) ami az órajelet adja, a Raspberryn az **SCLK** pinre (GPIO11) kell kötni. Végül a **CS** (Chip Select) ami ha aktív állapotban van, akkor lehetővé teszi a jelek kiolvasását az MCP3008-ból, de ha inaktív állapotban van, akkor hiába jön be jel a chipbe, azt a Raspberry nem fogja megkapni. Ezt a Raspberryn két pinre lehet kötni, a **CE0** (GPIO08) vagy a **CE1** (GPIO07).\n",
    "\n",
    "Az **AGND** (analog ground) amit általában a precíziós áramkörökben használnak, szintén a földelésre csatlakozik. \n",
    "\n",
    "A **VREF** (analog voltage reference) ami egy referencia feszültség, amivel a kiolvasandó feszültség skálázható. A mi esetünkben a thermisztor áramköre 3.3V-ot kap és kiolvasáskor ezt az értéket nem szeretnénk skálázni, így a VREF is a 3.3V-os pinre csatlakozik. "
   ]
  },
  {
   "cell_type": "markdown",
   "metadata": {},
   "source": [
    "<img src=\"bevezeto/mcp3008pin.gif\" width=400 height=400 />"
   ]
  },
  {
   "cell_type": "markdown",
   "metadata": {},
   "source": [
    "Összekötési táblázat az MCP3008 és a Raspberry Pi között:\n",
    "\n",
    "| Honnan (MCP3008)| Hova (Raspberry Pi) | \n",
    "|:---|:---|\n",
    "|MCP3008 VDD | 3.3V |\n",
    "|MCP3008 VREF | 3.3V |\n",
    "|MCP3008 AGND | GND |\n",
    "|MCP3008 CLK | GPIO11 SCLK |\n",
    "| MCP3008 DOUT | GPIO09 MISO | \n",
    "| MCP3008 DIN | GPIO10 MOSI | \n",
    "| MCP3008 CS | GPIO08 SPI0 CE0 |\n",
    "| MCP3008 DGND | GND|"
   ]
  },
  {
   "cell_type": "markdown",
   "metadata": {},
   "source": [
    "Lentebb egy ábra látható az MCP3008 átalakító Raspberryhez való kötéséről. Az analóg jel a CH0-n érkezik a chipbe, míg az SPI kommunikációhoz a drótok a Raspberryn az erre a célra kialakított pinekhez van kötve. \n"
   ]
  },
  {
   "cell_type": "markdown",
   "metadata": {},
   "source": [
    "*Az ábra forrása: https://learn.adafruit.com/reading-a-analog-in-and-controlling-audio-volume-with-the-raspberry-pi/connecting-the-cobbler-to-a-mcp3008*"
   ]
  },
  {
   "cell_type": "markdown",
   "metadata": {},
   "source": [
    "Az itt definiált Raspberry Pi pin bekötés a hardweres SPI kommunikációhoz kell. Ehhez engedélyeztetni kell a számítógépen ennek a lehetőségét. Először ellenőrízzük, hogy engedélyeztetve van-e. A terminálba gépeljük be, hogy ```ls -l /dev/spi*``` és ha a válaszban látszik a ```/dev/spidev0.0``` és ```/dev/spidev0.1``` akkor minden rendben van. \n",
    "\n",
    "Ha nem látszik a várt visszajelzés, akkor a következő lépéseket kell megtenni:"
   ]
  },
  {
   "cell_type": "markdown",
   "metadata": {},
   "source": [
    "1) Egy terminálban begépelni: ```sudo raspi-config```\n",
    "\n",
    "2) Válasszuk ki az ```Interfacing Options``` menűsort\n",
    "\n",
    "3) Válasszuk ki az ```SPI``` menűsort\n",
    "\n",
    "4) A ```YES``` kiválasztásával engedélyezzük az aktiválást\n",
    "\n",
    "5) Indítsuk újra a Raspberry Pit.\n"
   ]
  },
  {
   "cell_type": "markdown",
   "metadata": {},
   "source": [
    "Újraidítás után fel kell installálni még egy csomagot a ```spidev```-et. Ehhez a legegyszerűbb a terminálba begépelni a ```pip install spidev``` parancsot. "
   ]
  },
  {
   "cell_type": "markdown",
   "metadata": {},
   "source": [
    "Az ADC-k működésükből kifolyólag analóg jelet olvasnak be, ami pl. a mi Raspberry-s esetünkben 0V és 3.3V között bármilyen értéket fel vehet, és digitális jelet ad ki, ami magas és alacsony állapotot tud felvenni. Az MCP3008 10 bites felbontása azt jelenti, hogy a 0V-tól 3.3V-ig terjedő intervallumot 10 db bitbe tudja szétosztani egyenletesen. A kiolvasáskor egy számot kapunk ami a 2-nek a hatványa, maximum $2^{10}$, azaz 0-tól 1023-ig terjedő szám lehet. Ezt az értéket a következő képlettel tudjuk visszakonvertálni feszültségbe: $\\frac{ADC}{1023} \\times V_{ref}$, ahol az ADC a digitális oldalon kiolvasott szám, $V_{ref}$ pedig a referencia feszültség amit az MCP3008-ra kötöttünk. Az ADC-nek minél nagyobb bites felbontása van, annál pontosabban tudja előállítani az analóg jel digitális megfelelőjét. "
   ]
  },
  {
   "cell_type": "markdown",
   "metadata": {},
   "source": [
    "Az MCP3008-al több modulon keresztül is tudunk kommunikálni, de a *gpiozero* csomagnak is van előre definiált objektuma erre a célra, méghozzá az **MCP3008** objektum. Ezt beimportálva és inicializálva képesek leszünk kommunikálni az átalakítóval. Az MCP3008 objektumnak számos metódusa van, így pl. a kiolvasott digitális jelet nem kell nekünk átalakítani feszültséggé, ezt az objektum ```voltage``` metódusa alapból tudja."
   ]
  },
  {
   "cell_type": "markdown",
   "metadata": {},
   "source": [
    "### Referencia"
   ]
  },
  {
   "cell_type": "markdown",
   "metadata": {},
   "source": [
    "1) NTCC 10k datasheet - https://www.tme.eu/Document/f06e7f4c0fd5fd1c49c3e9fd8ceb0529/NTCC-10K.pdf\n",
    "\n",
    "2) MCP3008 datasheet - https://cdn-shop.adafruit.com/datasheets/MCP3008.pdf\n",
    "\n",
    "3) https://learn.adafruit.com/reading-a-analog-in-and-controlling-audio-volume-with-the-raspberry-pi/connecting-the-cobbler-to-a-mcp3008\n",
    "\n",
    "4) https://tutorials-raspberrypi.com/mcp3008-read-out-analog-signals-on-the-raspberry-pi/\n",
    "\n",
    "5) https://hu.wikipedia.org/wiki/Anal%C3%B3g-digit%C3%A1lis_%C3%A1talak%C3%ADt%C3%B3"
   ]
  },
  {
   "cell_type": "code",
   "execution_count": null,
   "metadata": {},
   "outputs": [],
   "source": []
  }
 ],
 "metadata": {
  "kernelspec": {
   "display_name": "Python 3",
   "language": "python",
   "name": "python3"
  },
  "language_info": {
   "codemirror_mode": {
    "name": "ipython",
    "version": 3
   },
   "file_extension": ".py",
   "mimetype": "text/x-python",
   "name": "python",
   "nbconvert_exporter": "python",
   "pygments_lexer": "ipython3",
   "version": "3.7.3"
  },
  "toc": {
   "base_numbering": 1,
   "nav_menu": {},
   "number_sections": true,
   "sideBar": true,
   "skip_h1_title": false,
   "title_cell": "Table of Contents",
   "title_sidebar": "Contents",
   "toc_cell": false,
   "toc_position": {},
   "toc_section_display": true,
   "toc_window_display": false
  }
 },
 "nbformat": 4,
 "nbformat_minor": 4
}
