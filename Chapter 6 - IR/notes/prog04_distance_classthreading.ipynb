{
 "cells": [
  {
   "cell_type": "markdown",
   "metadata": {},
   "source": [
    "# Projekt 4 - Infravörös távolság mérés klasszokkal"
   ]
  },
  {
   "cell_type": "markdown",
   "metadata": {},
   "source": [
    "Az előző projektben megtanultuk, hogyan tudjuk háttérben futtatni a távolság mérést folyamatosan a *thread*ek segítségével. Mindehhez definiálnunk kellett két segédfüggvényt, amiknek az újrahasznosítása nem feltétlenül a legoptimálisabb. Pl. amint láttuk már a DC motorok esetében, létezik egy ```Motor``` klassz ami magába tömöríti a motor különböző jellemzőit, pl. forgatás előre vagy hátra, és emiatt nem függvényeket kell beimportálnunk és meghívnunk, hanem egyetlenegy objektumot kell manipulálnunk.\n",
    "\n",
    "Ebben a projektben egy klassz keretein belül kódoljuk le a távolság mérést. A klassz keretein belül intézzük el a feszültség-távolság kalibrálást, indítjuk el és állítjuk meg a mérést. Ennek köszönhetően, újabb alkalmazásoknál már könnyebben importálható a távolság mérés illetve bővíthető különböző új tulajdonságokkal."
   ]
  },
  {
   "cell_type": "markdown",
   "metadata": {},
   "source": [
    "## Mit fogsz készíteni?"
   ]
  },
  {
   "cell_type": "markdown",
   "metadata": {},
   "source": [
    "Az elrendezésünk elsősorban egy IR forrásból (LED) és egy szenzorból fog állni, a hozzájuk tartozó ellenállásokkal együtt. A jel digitalizálására egy MCP3008-as ADC-t használunk. Másodsorban bemutatjuk, hogyan lehet a mért jelet felerősíteni a volt tartományba egy LM358-as operációs erősítő és a hozzá tartozó ellenállások segítségével. "
   ]
  },
  {
   "cell_type": "markdown",
   "metadata": {},
   "source": [
    "## Mit tanulsz meg?"
   ]
  },
  {
   "cell_type": "markdown",
   "metadata": {},
   "source": [
    "Az infravörös szenzor elkészítésével a következőket tanulod meg:\n",
    "\n",
    "* Hogyan működik az IR szenzor, hogyan digitalizáljuk az analóg jelet és olvassuk ki azt Pythonból.\n",
    "* Hogyan inicializáljunk egy IR LED-et és MCP3008 ADC-t.\n",
    "* Hogyan kapcsoljuk ki- és be az IR LED-et és hogyan olvassuk ki a szenzor feszültségét az ADC-n keresztül.\n",
    "* Hogyan olvassunk be fájlokat és nyerjük ki belőle az információt.\n",
    "* Hogyan kell interpolálni.\n",
    "* Mi az az ```event```?\n",
    "* Hogyan kell függvényeket elindítani a ```threading``` segítségével.\n",
    "* Hogyan kell klasszokat létrehozni."
   ]
  },
  {
   "cell_type": "markdown",
   "metadata": {},
   "source": [
    "## A projekt részletekre bontása"
   ]
  },
  {
   "cell_type": "markdown",
   "metadata": {},
   "source": [
    "* Elkészíteni az áramkört.\n",
    "* Beimportálni és inicializálni a ```LED``` és ```MCP3008``` objektumokat.\n",
    "* Definiálni a távolság mérést végző klasszt."
   ]
  },
  {
   "cell_type": "markdown",
   "metadata": {},
   "source": [
    "## Áramköri elemek listája"
   ]
  },
  {
   "cell_type": "markdown",
   "metadata": {},
   "source": [
    "a) [Raspberry PI](https://malnapc.hu/yis/raspberry-pi/rpi-panelek) \n",
    "\n",
    "b) IR LED, 940 nm: [itt vásárolhatsz](https://www.tme.eu/hu/details/lte-4206/ir-led-ek/liteon/)\n",
    "\n",
    "c) IR szenzor, 940 nm: [itt vásárolhatsz](https://www.tme.eu/hu/details/bpv10nf/fotodiodak/vishay/)\n",
    "\n",
    "d) [Jumper wires female/male](https://www.ret.hu/shop/product/e-call/jumper-vezetek-szet_53-22-63) \n",
    "\n",
    "e) Ellenállás: [itt vásárolhatsz](https://www.tme.eu/hu/katalog/metal-film-tht-ellenallasok_112313/?s_order=desc&search=ellenallas&s_field=1000011)\n",
    "\n",
    "f) [MCP3008 ADC](https://www.tme.eu/hu/details/mcp3008-i_p/a-d-konverterek-ic-k/microchip-technology/)\n",
    "\n",
    "g) [LM358 operációs erősítő](https://www.tme.eu/hu/details/lm358n_nopb/tht-muveleti-erositok/texas-instruments/)"
   ]
  },
  {
   "cell_type": "markdown",
   "metadata": {},
   "source": [
    "## A kapcsolási rajz"
   ]
  },
  {
   "cell_type": "markdown",
   "metadata": {},
   "source": [
    "<img src=\"bevezeto/prog01_schema.png\" width=600 height=400 />"
   ]
  },
  {
   "cell_type": "markdown",
   "metadata": {},
   "source": [
    "A fenti ábrához hasonlóan kapcsoljuk össze az áramköri elemeket és a Raspberry Pi-t.\n",
    "\n",
    "1) Kössük össze a Raspberry Pi egyik földelését az MCP3008 AGND ás DGND lábaival (fekete drót).\n",
    "\n",
    "2) Kössük az MCP3008 *VDD* és *VREF* nevű lábait a Raspberry Pi 3.3 V-os tüskéjére. \n",
    "\n",
    "3) Kössük az MCP3008 *CLK* nevű lábát a Raspberry Pi *GPIO11* tüskéjére. \n",
    "\n",
    "4) Kössük az MCP3008 *DOUT* nevű lábát a Raspberry Pi *GPIO09* tüskéjére. \n",
    "\n",
    "5) Kössük az MCP3008 *DIN* nevű lábát a Raspberry Pi *GPIO10* tüskéjére.\n",
    "\n",
    "6) Kössük az MCP3008 *CS* nevű lábát a Raspberry Pi *GPIO08* tüskéjére."
   ]
  },
  {
   "cell_type": "markdown",
   "metadata": {},
   "source": [
    "7) Az LM358 erősítő 8-as lábát kössük a Raspberry Pi 3.3 V-os tüskéjére.\n",
    "\n",
    "8) Az LM358 erősítő 4-es és 3-as (nem invertáló) lábát kössük a földelésre (GND) tüskéjére.\n",
    "\n",
    "9) A fotodióda anódját (pozitív, hosszabb láb) kössük szintén a földelésre.\n",
    "\n",
    "10) A fotodióda katódját (negatív, rövidebb láb) kössük az LM358 erősítő 2-es (invertáló) lábára.\n",
    "\n",
    "11) Az LM358 erősítő 2-es (invertáló) és 1-es (kimenet) lába közéiktassunk be egy R1 = 1 MOhmos ellenállást."
   ]
  },
  {
   "cell_type": "markdown",
   "metadata": {},
   "source": [
    "12) Az LM358 erősítő 1-es (kimenet) lábát kössük át a másik oldalon elhelyezkedő erősítő sorának 5-ös (nem invertáló) lábára.\n",
    "\n",
    "13) Az LM358 erősítő 6-os lába (invertáló) és a földelés (GND) közé kössünk be az R2 = 1 kOhm ellenállást.\n",
    "\n",
    "14) Az LM358 erősítő 6-os lába (invertáló) és a 7-es (kimenet) lába közé kössünk be az R3 = 10 kOhm ellenállást. Az R2 és R3 ellenállások ilyen választásával 11-szeres erősítést érhetünk el a jelen."
   ]
  },
  {
   "cell_type": "markdown",
   "metadata": {},
   "source": [
    "15) Az IR LED anódját (pozitív, hosszabb láb) kössük a Raspberry Pi *GPIO02*-es tüskéjére, míg a katódját (negatív, rövidebb láb) kössük sorba egy 200 Ohmos ellenállással.\n",
    "\n",
    "16) A 200 Ohmos ellenállás másik lábát kössük a földelésre (GND)."
   ]
  },
  {
   "cell_type": "markdown",
   "metadata": {},
   "source": [
    "## A kód\n",
    "\n",
    "Nyissunk meg egy új python fájlt és mentsük el pl. ```ir_threadingclass.py``` név alatt. A ```gpiozero``` csomagnak nincs beépített objektuma ami általánosan az IR szenzort tudná kezelni, így mi fogjuk megoldani a szenzorral való kommunikációt."
   ]
  },
  {
   "cell_type": "markdown",
   "metadata": {},
   "source": [
    "### Segédfüggvények beimportálása"
   ]
  },
  {
   "cell_type": "markdown",
   "metadata": {},
   "source": [
    "Az előző projektekben már tárgyaltuk milyen segédfüggvényekre van szükségünk a távolság méréshez, a kalibrációs fájlt beolvasó függvényre, ```read_2column_files``` és az interpolációs függvényre, ```interpolate1d```. Első körben ezeket importáljuk be a szenzorhoz szükséges objektumok mellett, ```LED``` és ```MCP3008```."
   ]
  },
  {
   "cell_type": "markdown",
   "metadata": {},
   "source": [
    "```ir_threadingclass.py```:"
   ]
  },
  {
   "cell_type": "code",
   "execution_count": null,
   "metadata": {},
   "outputs": [],
   "source": [
    "from gpiozero import LED, MCP3008\n",
    "from raspberry_functions import read_2column_files, interpolate1d"
   ]
  },
  {
   "cell_type": "markdown",
   "metadata": {},
   "source": [
    "Érdemes a fontosabb kódolások előtt letesztelni, hogy tudjuk-e szoftveresen vezérelni a LED-et illetve az MCP3008 ADC-t. Ezek mikéntjére itt nem térünk ki, az előző projektben ezt részleteztük."
   ]
  },
  {
   "cell_type": "markdown",
   "metadata": {},
   "source": [
    "### Objektum Orientált Programozás"
   ]
  },
  {
   "cell_type": "markdown",
   "metadata": {},
   "source": [
    "Az objektum orientált programozás abból áll, hogy a kódot úgy struktúráljuk, hogy egy dolog tulajdonsága és viselkedése egy objektumba van összpontosítva. Pl. a mi esetünkben, egy aktív szenzor objektumot hozunk létre, aminek a tulajdonsága lehet az, hogy milyen LED és ADC tartozik hozzá, milyen kalibrációs fájlt használunk, mekkora a mért feszültség, stb. míg a viselkedése lehet a mérés elindítása, leállítása, stb. Az objektum orientált programozás egy olyan programozási megközelítés ami lemodellezi az összefüggéseket egy valós rendszeren."
   ]
  },
  {
   "cell_type": "markdown",
   "metadata": {},
   "source": [
    "Nézzünk egy konkrét példát a mi célunkra kihegyezve. Hozzunk létre egy aktív szenzor klasszt, ami nem csinál semmit. Ez reprezentálja magának a struktúrának a használatát:"
   ]
  },
  {
   "cell_type": "code",
   "execution_count": 1,
   "metadata": {},
   "outputs": [],
   "source": [
    "class ActiveSensor:\n",
    "    pass\n",
    "\n",
    "a = ActiveSensor()"
   ]
  },
  {
   "cell_type": "markdown",
   "metadata": {},
   "source": [
    "A ```class ActiveSensor:``` sor mutatja a klasszok deklarálását, míg az ```a = ActiveSensor()``` sor egy aktív szenzor objektum inicializálását mutatja. Az ```ActiveSensor``` egy egyedi klassz, míg abból bármennyi objektumot inicializálhatunk (erre később látunk példát). "
   ]
  },
  {
   "cell_type": "markdown",
   "metadata": {},
   "source": [
    "Egy üres szenzor klassznak nem sok hasznát vesszük, ezért nézzük meg, hogy lehet feltölteni tulajdonságokkal és viselkedéssel. Az első metódus amivel megismerkedünk, az az ```__init__(self)```. Ezt a metódust hívja meg a python, amikor instanciálunk egy objektumot. Ebben a metódusban adhatjuk meg, hogy milyen bemenő paraméterekkel instanciáljunk. Ezen paramétereken felül jelen van még a ```self``` paraméter. Ez képviseli magát az objektumot. Ha ehhez rendelünk egy változót, ```self.led = led```, akkor létrehozunk egy új objektum tulajdonságot, ebben az esetben azt, hogy a szenzor sugárzója melyik LED-del egyezik meg. Legtöbbször az instanciáláskor megadott bemenő paraméterek ilyen tulajdonságok szoktak lenni, és azokat hozzárendeljük a ```self``` objektumhoz. Ha egy metódus bemenő paraméterei között szerepel a ```self```, akkor az a metódus látja az objektum összes tulajdonságát és viselkedését. "
   ]
  },
  {
   "cell_type": "code",
   "execution_count": 22,
   "metadata": {},
   "outputs": [],
   "source": [
    "class ActiveSensor:\n",
    "    def __init__(self, led, mcp, calibname):\n",
    "        self.led = led\n",
    "        self.mcp = mcp\n",
    "        self.calibfile = calibname\n",
    "    "
   ]
  },
  {
   "cell_type": "code",
   "execution_count": 23,
   "metadata": {},
   "outputs": [
    {
     "name": "stdout",
     "output_type": "stream",
     "text": [
      "led1 mcp1\n",
      "led2 mcp1\n"
     ]
    }
   ],
   "source": [
    "led1 = 'led1'\n",
    "led2 = 'led2'\n",
    "mcp1 = 'mcp1'\n",
    "file1 = 'calibfile1'\n",
    "\n",
    "a1 = ActiveSensor(led1, mcp1, file1)\n",
    "a2 = ActiveSensor(led2, mcp1, file1)\n",
    "\n",
    "print(a1.led, a1.mcp)\n",
    "print(a2.led, a2.mcp)"
   ]
  },
  {
   "cell_type": "markdown",
   "metadata": {},
   "source": [
    "A fenti példában definiáltunk két LED változót, ```led1``` és ```led2```, amik jelen pillanatban csak egyszerű stringek, de megfelelnek a szemléltetésnek. Ugyanígy definiáltunk egy ```mcp1``` és ```file1``` változókat. Segítségükkel instanciálunk két szenzort, az ```a1```-et és ```a2```-t. Ezek után az egyedi objektumokra, ezen változó neveken keresztül hivatkozhatunk, nem pedig a ```self```-et használva. Így tudjuk kinyomtatni, mindkét szenzor tulajdonságait, a ```.led``` és ```.mcp``` változókat. \n",
    "A kinyomtatott eredményeken keresztül leellenőrízhetjük, hogy valóban a két szenzornak két különböző LED-je van, de megegyező ADC-je. "
   ]
  },
  {
   "cell_type": "markdown",
   "metadata": {},
   "source": [
    "A következő lépésben elkezdjük a klasszt feldíszíteni további tulajdonságokkal és viselkedéssel. Ebben rejlik az OOP titka, ha jól átgondoljuk előre, hogy egy objektumnak milyen viselkedése és tulajdonsága van, akkor azt utólag már könnyen le tudjuk kódolni. Ez kicsit több gondolkodást igényel az elején, de hosszútávon kifizetődik, amikor pl. sokszor újra akarjuk használni ezt a klasszt. "
   ]
  },
  {
   "cell_type": "markdown",
   "metadata": {},
   "source": [
    "A mi szenzorunknak a következő viselkedéseket látjuk elő:\n",
    "\n",
    "* ```start(self)``` - ebben a metódusban indítjuk el a mérést a háttérben, meghívva a ```start_measurement``` metódust.\n",
    "* ```start_measurement(self)``` - ebben a metódusba foglaljuk össze a méréshez tartozó munka nagy részét. \n",
    "* ```stop(self)``` - ez a metódus felel a mérés leállításáért. \n",
    "* ```initialize_calibration(self, filename)``` - ez a metódus végzi majd el a mért feszültség távolsággá alakítását. Bemenő paraméterként szerepel egy fájlnév is. Annak ellenére, hogy a ```self``` objektum tartalmazza a kalibrációs fájlt, amit a ```self```-re hivatkozva ez a metódus is lát, ha másik kalibrációs fájlt használnánk, akkor van lehetőség annak megadására.  "
   ]
  },
  {
   "cell_type": "code",
   "execution_count": 15,
   "metadata": {},
   "outputs": [],
   "source": [
    "class ActiveSensor:\n",
    "    def __init__(self, led, mcp, calibname):\n",
    "        self.led = led\n",
    "        self.mcp = mcp\n",
    "        self.calibfile = calibname\n",
    "    \n",
    "    def start(self):\n",
    "        print('Meres elinditva')\n",
    "    \n",
    "    def start_measurement(self):\n",
    "        pass\n",
    "    \n",
    "    def stop(self):\n",
    "        print('Meres leallitva')\n",
    "    \n",
    "    def initialize_calibration(self, filename):\n",
    "        pass\n",
    "    "
   ]
  },
  {
   "cell_type": "code",
   "execution_count": 17,
   "metadata": {},
   "outputs": [
    {
     "name": "stdout",
     "output_type": "stream",
     "text": [
      "Meres elinditva\n",
      "Meres leallitva\n"
     ]
    }
   ],
   "source": [
    "a1 = ActiveSensor(led1, mcp1, file1)\n",
    "a1.start()\n",
    "a1.stop()"
   ]
  },
  {
   "cell_type": "markdown",
   "metadata": {},
   "source": [
    "A fenti példában láthatjuk, hogy hogyan hívhatjuk meg a metódusokat, viselkedéseket. Elindítjuk a mérést az ```a1.start()``` metódussal, illetve megállítjuk azt a ```a1.stop()``` metódussal. Egyelőre ezek csak egy szöveget jelentetnek meg a képernyőn, amíg a megfelelő kóddal nem töltjük föl ezeket a metódusokat. "
   ]
  },
  {
   "cell_type": "markdown",
   "metadata": {},
   "source": [
    "Szép lassan elkezdjük feltölteni a klassz viselkedését. Inicializáláskor, a megadott bemenő paraméterek elmentése mellett logikusnak tűnik azonnal elvégezni a kalibrálást is, ```self.initialize_calibration(self.calibfile)```. Ha a klasszon belül hivatkozunk egy metódusra ami tartalmazza a ```self``` paramétert, akkor a ```self.initialize_calibration``` módon kell hivatkozni rá és nem a ```initialize_calibration``` módon. Ezen felül inicializáláskor létrehozunk egy ```self.event = threading.Event()``` globális esemény tulajdonságot, amit az egész klasszból el lehet érni (annak aktuális állapotában) a ```self.event```-re hivatkozva. Az előző projektben már láttuk, hogy ez a globális esemény változó segít nekünk abban, hogy a háttérben futó *thread*del kommunikáljunk, elindítsuk és leállítsuk.  "
   ]
  },
  {
   "cell_type": "markdown",
   "metadata": {},
   "source": [
    "Az ```initialize_calibration(self, filename)``` metódusnak egyszerű dolga van, csak meghívja a beimportált ```read_2column_files``` függvényt és a visszaadott paramétereket a ```self.calib_volt``` és ```self.calib_distance``` tulajdonságokba menti el. Ezek a kalibrációs paraméterek így globálisan elérhetők a klasszon belül bármelyik metódusból, amelyik tartalmazza a ```self``` paramétert. "
   ]
  },
  {
   "cell_type": "code",
   "execution_count": 19,
   "metadata": {},
   "outputs": [],
   "source": [
    "import threading\n",
    "\n",
    "class ActiveSensor:\n",
    "    def __init__(self, led, mcp, calibname):\n",
    "        self.led = led\n",
    "        self.mcp = mcp\n",
    "        self.calibfile = calibname\n",
    "        self.initialize_calibration(self.calibfile)\n",
    "        self.event = threading.Event()\n",
    "        \n",
    "    def start(self):\n",
    "        print('Meres elinditva')\n",
    "    \n",
    "    def start_measurement(self):\n",
    "        pass\n",
    "    \n",
    "    def stop(self):\n",
    "        print('Meres leallitva')\n",
    "        \n",
    "    def initialize_calibration(self, filename):\n",
    "        self.calib_volt, self.calib_distance = read_2column_files(filename, header=True)"
   ]
  },
  {
   "cell_type": "code",
   "execution_count": 20,
   "metadata": {},
   "outputs": [
    {
     "name": "stdout",
     "output_type": "stream",
     "text": [
      "[0.  0.1 0.2 0.3 0.4 0.5 0.6 0.7 0.8 0.9 1.  1.1 1.2 1.3 1.4 1.5 1.6 1.7\n",
      " 1.8 1.9 2.  2.1]\n",
      "[21. 20. 19. 18. 17. 16. 15. 14. 13. 12. 11. 10.  9.  8.  7.  6.  5.  4.\n",
      "  3.  2.  1.  0.]\n"
     ]
    }
   ],
   "source": [
    "file1 = '../ir_calibration.csv'\n",
    "\n",
    "a1 = ActiveSensor(led1, mcp1, file1)\n",
    "\n",
    "print(a1.calib_volt)\n",
    "print(a1.calib_distance)"
   ]
  },
  {
   "cell_type": "markdown",
   "metadata": {},
   "source": [
    "A fenti példán keresztül láthatjuk, hogy csupán az objektum inicializálásával létrejönnek a ```.calib_volt``` és ```.calib_distance``` tulajdonságok, hiszen az ```__init__``` metódusban meghívtuk a kalibrálásért felelős metódust."
   ]
  },
  {
   "cell_type": "markdown",
   "metadata": {},
   "source": [
    "Mielőtt rátérnénk a mérések elindítására és leállítására, át kell gondolnunk a folyamatot szabályozó esemény, ```self.event```, működését. Amikor elindítunk egy mérést, a ```self.event``` tulajdonságnak ```False``` állapotban kell lennie, azaz még nem következett be a leállítás eseménye. Amikor leállítjuk a mérést a ```.stop()``` metódussal, az esemény állapotát át kell állítani ```True```-ra, azaz jelezni, hogy a leállítási esemény bekövetkezett. Ezt az esemény ```.set()``` metódusával tehetjük meg. Ha a későbbiekben újra akarjuk indítani a mérést a ```.start()``` metódussal, akkor előtte az esemény állapotát vissza kell állítani ```False```-ra az esemény ```.clear()``` metódusával. Mindezt a ```.start()``` metódusban kell megtennünk, mielőtt meghívnánk a ```.start_measurement``` függvényt a *thread*en keresztül. "
   ]
  },
  {
   "cell_type": "code",
   "execution_count": 21,
   "metadata": {},
   "outputs": [
    {
     "name": "stdout",
     "output_type": "stream",
     "text": [
      "False\n",
      "True\n",
      "False\n"
     ]
    }
   ],
   "source": [
    "kill = threading.Event()\n",
    "print(kill.is_set())\n",
    "kill.set()\n",
    "print(kill.is_set())\n",
    "kill.clear()\n",
    "print(kill.is_set())"
   ]
  },
  {
   "cell_type": "markdown",
   "metadata": {},
   "source": [
    "A fenti példa mutatja be, hogyan tudjuk egy esemény állapotát ki be kapcsolgatni."
   ]
  },
  {
   "cell_type": "markdown",
   "metadata": {},
   "source": [
    "A következő lépés a ```.start()``` és ```.stop()``` metódusok feltöltése. Ahogy fent már tárgyaltuk, a ```.start()``` metódusban, az eseményt vissza kell állítani alapállapotba, ```self.event.clear()```, azaz arra, hogy nem jött leállítási jel. Ezután bekapcsoljuk a LED-et, ```self.led.on()```, hogy legyen sugárzónk. Majd egy *thread*et inicializálunk, ```t = threading.Thread(target=self.start_measurement)```, aminek feladata a ```self.start_measurement``` függvény háttérben való lefuttatása. Végül elindítjuk a *thread*et, ```t.start()```."
   ]
  },
  {
   "cell_type": "markdown",
   "metadata": {},
   "source": [
    "A ```.stop()``` metódus valamennyivel könnyebb. Első lépésként, be kell állítani, hogy a leállítási esemény bekövetkezett, ```self.event.set()```. Majd kikapcsoljuk a LED-et, hiszen nem megy a mérés tovább.  Végül kiíratjuk, hogy leállt a mérés."
   ]
  },
  {
   "cell_type": "code",
   "execution_count": 27,
   "metadata": {},
   "outputs": [],
   "source": [
    "class ActiveSensor:\n",
    "    def __init__(self, led, mcp, calibname):\n",
    "        self.led = led\n",
    "        self.mcp = mcp\n",
    "        self.calibfile = calibname\n",
    "        self.initialize_calibration(self.calibfile)\n",
    "        self.event = threading.Event()\n",
    "        \n",
    "    def start(self):\n",
    "        self.event.clear()\n",
    "        self.led.on()\n",
    "        t = threading.Thread(target=self.start_measurement)\n",
    "        t.start()\n",
    "    \n",
    "    def start_measurement(self):\n",
    "        print('Measurement started')\n",
    "    \n",
    "    def stop(self):\n",
    "        self.event.set()\n",
    "        self.led.off()\n",
    "        print('Measurement is stopped')\n",
    "        \n",
    "    def initialize_calibration(self, filename):\n",
    "        self.calib_volt, self.calib_distance = read_2column_files(filename, header=True)"
   ]
  },
  {
   "cell_type": "code",
   "execution_count": 29,
   "metadata": {},
   "outputs": [
    {
     "name": "stdout",
     "output_type": "stream",
     "text": [
      "Measurement started\n",
      "Measurement is stopped\n"
     ]
    }
   ],
   "source": [
    "file1 = '../ir_calibration.csv'\n",
    "\n",
    "a1 = ActiveSensor(led1, mcp1, file1)\n",
    "\n",
    "a1.start()\n",
    "a1.stop()"
   ]
  },
  {
   "cell_type": "markdown",
   "metadata": {},
   "source": [
    "A fenti példában láthatjuk a szenzor elindítását és leállítását. Mivel maga a mérés folyamata, a ```.start_measurement()``` metódus még nincs részletesen definiálva, csak kiírattuk a képernyőre, hogy a mérés elindult és megállt. "
   ]
  },
  {
   "cell_type": "markdown",
   "metadata": {},
   "source": [
    "### A mért távolság lekódolása"
   ]
  },
  {
   "cell_type": "markdown",
   "metadata": {},
   "source": [
    "A ```.start_measurement()``` metódusban elindítunk egy végtelen ```while``` ciklust, amiben a mérést ismételjük folyamatosan, viszont a leállítási feltétele a ciklusnak az lesz, hogy a klasszon belül globálisan elérhető esemény, ```self.event```, bekövetkezett-e. Ha igen, álljon le a ciklus, ha nem, ismétlődjön, ```while not self.event.is_set():```. Az esemény folytonos megfigyelésének köszönhetően tudjuk kívülről egy utasítással leállítani a mérést."
   ]
  },
  {
   "cell_type": "markdown",
   "metadata": {},
   "source": [
    "A cikluson belül, kiolvassuk az ADC által mért feszültséget, ```current_voltage = self.mcp.voltage```, majd interpolálással megbecsüljük a hozzá tartozó távolságot, ```current_distance = interpolate1d(self.calib_volt, self.calib_distance, current_voltage)```, kinyomtatjuk a képernyőre, ```print(f'Current distance from object is: {current_distance:.2} cm')```. A méréseket másodpercenként megismételjük. "
   ]
  },
  {
   "cell_type": "markdown",
   "metadata": {},
   "source": [
    "```ir_threadingclass.py```:"
   ]
  },
  {
   "cell_type": "code",
   "execution_count": 51,
   "metadata": {},
   "outputs": [],
   "source": [
    "import threading\n",
    "import time\n",
    "from raspberry_functions import read_2column_files, interpolate1d\n",
    "from gpiozero import LED, MCP3008\n",
    "\n",
    "\n",
    "class ActiveSensor:\n",
    "\tdef __init__(self, led, mcp, calibname):\n",
    "\t\tself.led = led\n",
    "\t\tself.mcp = mcp\n",
    "\t\tself.calibfile = calibname\n",
    "\t\tself.initialize_calibration(self.calibfile)\n",
    "\t\tself.event = threading.Event()\n",
    "\t\t\n",
    "\tdef start(self):\n",
    "\t\tself.event.clear()\n",
    "\t\tself.led.on()\n",
    "\t\tt = threading.Thread(target=self.start_measurement)\n",
    "\t\tt.start()\n",
    "\n",
    "\tdef start_measurement(self):\n",
    "\t\tprint('Measurement started')\n",
    "\t\twhile not self.event.is_set():\n",
    "\t\t\tcurrent_voltage = self.mcp.voltage\n",
    "\t\t\tcurrent_distance = interpolate1d(self.calib_volt, self.calib_distance, current_voltage)\n",
    "\t\t\tprint(f'Current distance from object is: {current_distance:.2} cm')\n",
    "\t\t\ttime.sleep(1)\n",
    "\t\t\n",
    "\tdef stop(self):\n",
    "\t\tself.event.set()\n",
    "\t\tself.led.off()\n",
    "\t\tprint('Measurement is stopped')\n",
    "\n",
    "\tdef initialize_calibration(self, filename):\n",
    "\t\tself.calib_volt, self.calib_distance = read_2column_files(filename, header=True)\n",
    "\t\n",
    "\n",
    "if __name__ == '__main__':\n",
    "\tir = LED(2)\n",
    "\tmcp = MCP3008(channel=7)\n",
    "\tcalib_file = 'ir_calibration.csv'\n",
    "\tas = ActiveSensor(ir, mcp, calib_file)\n"
   ]
  },
  {
   "cell_type": "markdown",
   "metadata": {},
   "source": [
    "## A projekt tesztelése"
   ]
  },
  {
   "cell_type": "markdown",
   "metadata": {},
   "source": [
    "Miután összeszereltük az áramkört és a kódot is megírtuk, amit pl. ```ir_threadingclass.py``` név alatt mentettünk el, megnyithatunk a Raspberry Pi operációs rendszerén egy terminált. A terminálban a ```cd 'mappa név'``` paranccsal elnavigálunk abba a mappába, ahova a ```ir_threadingclass.py```-t elmentettük. Ott begépelve a ```python ir_threadingclass.py``` parancsot, letesztelhetjük a programunk működését. Ha minden jól megy akkor a terminálból létrehozhatjuk a távolság mérésért felelős objektumot, majd a metódusaival elindíthatjuk és leállíthatjuk a mérést.\n",
    "\n",
    "Hibaüzenetek esetén ki kell deríteni mi lehetett a probléma, pl. elgépelés, egy modul hiányzik, sorok megfelelő behúzása, idézőjel lemaradása stb. A hibaüzenet legtöbbször segít abban, hogy melyik sorban találta a hibát és hogy mi volt az. Egy kis gyakorlással bele lehet jönni azok értelmezésébe, valamint interneten is rá lehet keresni a hibaüzenet jelentésére és annak lehetséges elhárítására."
   ]
  },
  {
   "cell_type": "markdown",
   "metadata": {},
   "source": [
    "## Mit lehet javítani/továbbfejleszteni?"
   ]
  },
  {
   "cell_type": "markdown",
   "metadata": {},
   "source": [
    "* Írd át a klasszt úgy, hogy ha nincs inicializáláskor megadva kalibrációs fájl, akkor ne interpoláljon, hanem csak a mért feszültséget írja ki.\n",
    "* Módosítsd a ```while``` ciklust úgy, hogy ha elér a feszültség pl. 2 V-ot, akkor ne történjen több mérés.\n",
    "\n",
    "Írd meg kommentben, hogy szerinted mivel lehetne még feldobni ezt a kis programot!"
   ]
  },
  {
   "cell_type": "markdown",
   "metadata": {},
   "source": [
    "## Referencia"
   ]
  },
  {
   "cell_type": "markdown",
   "metadata": {},
   "source": [
    "1) gpiozero LED - https://gpiozero.readthedocs.io/en/stable/api_output.html#led\n",
    "\n",
    "2) MCP3008 datasheet - https://cdn-shop.adafruit.com/datasheets/MCP3008.pdf\n",
    "\n",
    "3) LM358 datasheet - https://www.ti.com/lit/ds/symlink/lm158-n.pdf , https://components101.com/ics/ic-lm358-pinout-details-datasheet\n",
    "\n",
    "4) gpiozero MCP3008 - https://gpiozero.readthedocs.io/en/stable/api_spi.html\n",
    "\n",
    "5) Fájlok kezelése - https://www.programiz.com/python-programming/file-operation\n",
    "\n",
    "6) Interpolálás - https://docs.scipy.org/doc/scipy/reference/generated/scipy.interpolate.interp1d.html#scipy.interpolate.interp1d\n",
    "\n",
    "7) threading - https://realpython.com/intro-to-python-threading/\n",
    "\n",
    "8) Objektum Orientált Programozás (OOP) - https://realpython.com/python3-object-oriented-programming/#:~:text=Programming%20with%20Python.-,What%20Is%20Object%2DOriented%20Programming%20in%20Python%3F,are%20bundled%20into%20individual%20objects."
   ]
  },
  {
   "cell_type": "code",
   "execution_count": null,
   "metadata": {},
   "outputs": [],
   "source": []
  }
 ],
 "metadata": {
  "kernelspec": {
   "display_name": "Python 3",
   "language": "python",
   "name": "python3"
  },
  "language_info": {
   "codemirror_mode": {
    "name": "ipython",
    "version": 3
   },
   "file_extension": ".py",
   "mimetype": "text/x-python",
   "name": "python",
   "nbconvert_exporter": "python",
   "pygments_lexer": "ipython3",
   "version": "3.7.3"
  },
  "toc": {
   "base_numbering": 1,
   "nav_menu": {},
   "number_sections": true,
   "sideBar": true,
   "skip_h1_title": false,
   "title_cell": "Table of Contents",
   "title_sidebar": "Contents",
   "toc_cell": false,
   "toc_position": {},
   "toc_section_display": true,
   "toc_window_display": false
  }
 },
 "nbformat": 4,
 "nbformat_minor": 2
}
