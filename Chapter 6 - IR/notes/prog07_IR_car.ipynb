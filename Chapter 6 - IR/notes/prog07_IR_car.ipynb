{
 "cells": [
  {
   "cell_type": "markdown",
   "metadata": {},
   "source": [
    "# Projekt 7 - Távvezérlésű autó távolság szenzorral"
   ]
  },
  {
   "cell_type": "markdown",
   "metadata": {},
   "source": [
    "Az eddig kifejlesztett távirányítású autónkat egy újabb funkcióval vértezzük fel, a körülötte lévő tárgyak detektálásával. A távolság szenzor segítségével folyamatosan mérjük, hogy az autó milyen távol van a környezetében levő tárgyaktól, és ha túl közel irányítanánk egy tárgyhoz, és fennálna az utközés veszélye, leállíttatjuk a motorokat. Ezenfelül megakadályozzuk a rendszert, hogy ugyanabba az irányba újabb indítási parancsokat adhassunk ki, mindaddig, míg el nem távolodtunk a tárgytól."
   ]
  },
  {
   "cell_type": "markdown",
   "metadata": {},
   "source": [
    "## Mit fogsz készíteni?"
   ]
  },
  {
   "cell_type": "markdown",
   "metadata": {},
   "source": [
    "Az elrendezésünk elsősorban egy IR forrásból (LED) és egy szenzorból fog állni, a hozzájuk tartozó ellenállásokkal együtt. A jel digitalizálására egy MCP3008-as ADC-t használunk. Másodsorban bemutatjuk, hogyan lehet a mért jelet felerősíteni a volt tartományba egy LM358-as operációs erősítő és a hozzá tartozó ellenállások segítségével. Ebben a projektben szükségünk lesz még egy kamerára és a távirányítható autónkra a rajta levő két DC motorral és a hozzájuk tartozó motorvezérlőkre, L293D. "
   ]
  },
  {
   "cell_type": "markdown",
   "metadata": {},
   "source": [
    "## Mit tanulsz meg?"
   ]
  },
  {
   "cell_type": "markdown",
   "metadata": {},
   "source": [
    "Az infravörös szenzoros autó elkészítésével a következőket tanulod meg:\n",
    "\n",
    "* Hogyan működik az IR szenzor, hogyan digitalizáljuk az analóg jelet és olvassuk ki azt Pythonból.\n",
    "* Hogyan inicializáljunk egy IR LED-et és MCP3008 ADC-t.\n",
    "* Hogyan kapcsoljuk ki- és be az IR LED-et és hogyan olvassuk ki a szenzor feszültségét az ADC-n keresztül.\n",
    "* Hogyan használjuk DC motorokat és a hozzá tartozó vezérlőt.\n",
    "* Hogyan olvassunk be fájlokat és nyerjük ki belőle az információt.\n",
    "* Hogyan kell interpolálni.\n",
    "* Mi az az ```event```?\n",
    "* Hogyan kell függvényeket elindítani a ```threading``` segítségével.\n",
    "* Hogyan kell klasszokat létrehozni.\n",
    "* Hogyan használjunk kamerát az ```opencv``` segtségével.\n",
    "* Hogyan jelenítsük meg a kamera képet és érzékeljünk billentyű lenyomásokat a ```pygame``` csomaggal."
   ]
  },
  {
   "cell_type": "markdown",
   "metadata": {},
   "source": [
    "## A projekt részletekre bontása"
   ]
  },
  {
   "cell_type": "markdown",
   "metadata": {},
   "source": [
    "* Elkészíteni az áramkört.\n",
    "* Beimportálni és inicializálni a ```LED```, ```Motor``` és ```MCP3008``` objektumokat.\n",
    "* Inicializálni a kamerát.\n",
    "* Definiálni a távolság mérést végző klasszt.\n",
    "* Írni egy autó klasszt, aminek bemenő paraméterei a kamera, motorok és az ```ActiveSensor```.\n",
    "* Megírni a metódusokat a motorok vezérlésére billentyűk segítségével, kamera bekapcsolását és a távolságmérő aktiválását.\n",
    "* Írni egy metódust, ami ellenőrzi, hogy az autó közel került-e valamihez, ha igen, akkor csak az ellenkező irányba haladhat, amíg a távolság elegendően nagy nem lesz."
   ]
  },
  {
   "cell_type": "markdown",
   "metadata": {},
   "source": [
    "## Áramköri elemek listája"
   ]
  },
  {
   "cell_type": "markdown",
   "metadata": {},
   "source": [
    "a) [Raspberry PI](https://malnapc.hu/yis/raspberry-pi/rpi-panelek) \n",
    "\n",
    "b) IR LED, 940 nm: [itt vásárolhatsz](https://www.tme.eu/hu/details/lte-4206/ir-led-ek/liteon/)\n",
    "\n",
    "c) IR szenzor, 940 nm: [itt vásárolhatsz](https://www.tme.eu/hu/details/bpv10nf/fotodiodak/vishay/)\n",
    "\n",
    "d) [Jumper wires female/male](https://www.ret.hu/shop/product/e-call/jumper-vezetek-szet_53-22-63) \n",
    "\n",
    "e) Ellenállás: [itt vásárolhatsz](https://www.tme.eu/hu/katalog/metal-film-tht-ellenallasok_112313/?s_order=desc&search=ellenallas&s_field=1000011)\n",
    "\n",
    "f) [MCP3008 ADC](https://www.tme.eu/hu/details/mcp3008-i_p/a-d-konverterek-ic-k/microchip-technology/)\n",
    "\n",
    "g) [LM358 operációs erősítő](https://www.tme.eu/hu/details/lm358n_nopb/tht-muveleti-erositok/texas-instruments/)\n",
    "\n",
    "h) 2db DC Motor: [itt vásárolhatsz](https://www.tme.eu/hu/details/oky5022-1/dc-motorok/okystar/)\n",
    "\n",
    "i) L293D vezérlő: [itt vásárolhatsz](https://www.tme.eu/hu/details/l293d/motor-es-pwm-driverek/stmicroelectronics/)\n",
    "\n",
    "j) 2db nagy kerék [https://www.tme.eu/hu/details/df-fit0003/robotika-es-rc-kellekek/dfrobot/fit0003/](https://www.tme.eu/hu/details/df-fit0003/robotika-es-rc-kellekek/dfrobot/fit0003/)\n",
    "\n",
    "k) 1db kis kerék [https://www.tme.eu/hu/details/hy006-01003/robotika-es-rc-kellekek/emax/emx-ac-1353/](https://www.tme.eu/hu/details/hy006-01003/robotika-es-rc-kellekek/emax/emx-ac-1353/) vagy [https://www.tme.eu/hu/details/pololu-950/robotika-es-rc-kellekek/pololu/ball-caster-with-3-8-plastic-ball/](https://www.tme.eu/hu/details/pololu-950/robotika-es-rc-kellekek/pololu/ball-caster-with-3-8-plastic-ball/)\n",
    "\n",
    "l) 1db doboz \n",
    "\n",
    "m) Szigetelő szalag\n",
    "\n",
    "n) 1db kb. 5-7 cm hosszú 1mm vastag drót vagy gemkapocs darab\n",
    "\n",
    "o) [Webkamera](https://www.emag.hu/iuni-k6i-webkamera-full-hd-1080p-mikrofonnal-usb-2-0-plug-play-515422/pd/DX66N2MBM/?cmpid=87141&gclid=CjwKCAjwj6SEBhAOEiwAvFRuKL7E3Z6v7Ei_MNy1eFxoAn4ySFojVRVyiqf8BByR43dhONUlKDsrPBoC4sIQAvD_BwE) vagy [Picam](https://malnapc.hu/raspberry-pi-camera-board-v2-8mp)"
   ]
  },
  {
   "cell_type": "markdown",
   "metadata": {},
   "source": [
    "## A kapcsolási rajz"
   ]
  },
  {
   "cell_type": "markdown",
   "metadata": {},
   "source": [
    "<img src=\"schema/prog07_schema_car.png\" width=600 height=400 />"
   ]
  },
  {
   "cell_type": "markdown",
   "metadata": {},
   "source": [
    "A fenti ábrához hasonlóan kapcsoljuk össze az áramköri elemeket és a Raspberry Pi-t.\n",
    "\n",
    "1) Kössük össze a Raspberry Pi egyik földelését az MCP3008 AGND ás DGND lábaival (fekete drót).\n",
    "\n",
    "2) Kössük az MCP3008 *VDD* és *VREF* nevű lábait a Raspberry Pi 3.3 V-os tüskéjére. \n",
    "\n",
    "3) Kössük az MCP3008 *CLK* nevű lábát a Raspberry Pi *GPIO11* tüskéjére. \n",
    "\n",
    "4) Kössük az MCP3008 *DOUT* nevű lábát a Raspberry Pi *GPIO09* tüskéjére. \n",
    "\n",
    "5) Kössük az MCP3008 *DIN* nevű lábát a Raspberry Pi *GPIO10* tüskéjére.\n",
    "\n",
    "6) Kössük az MCP3008 *CS* nevű lábát a Raspberry Pi *GPIO08* tüskéjére."
   ]
  },
  {
   "cell_type": "markdown",
   "metadata": {},
   "source": [
    "7) Az LM358 erősítő 8-as lábát kössük a Raspberry Pi 3.3 V-os tüskéjére.\n",
    "\n",
    "8) Az LM358 erősítő 4-es és 3-as (nem invertáló) lábát kössük a földelésre (GND) tüskéjére.\n",
    "\n",
    "9) A fotodióda anódját (pozitív, hosszabb láb) kössük szintén a földelésre.\n",
    "\n",
    "10) A fotodióda katódját (negatív, rövidebb láb) kössük az LM358 erősítő 2-es (invertáló) lábára.\n",
    "\n",
    "11) Az LM358 erősítő 2-es (invertáló) és 1-es (kimenet) lába közéiktassunk be egy R1 = 1 MOhmos ellenállást."
   ]
  },
  {
   "cell_type": "markdown",
   "metadata": {},
   "source": [
    "12) Az LM358 erősítő 1-es (kimenet) lábát kössük át a másik oldalon elhelyezkedő erősítő sorának 5-ös (nem invertáló) lábára.\n",
    "\n",
    "13) Az LM358 erősítő 6-os lába (invertáló) és a földelés (GND) közé kössünk be az R2 = 1 kOhm ellenállást.\n",
    "\n",
    "14) Az LM358 erősítő 6-os lába (invertáló) és a 7-es (kimenet) lába közé kössünk be az R3 = 10 kOhm ellenállást. Az R2 és R3 ellenállások ilyen választásával 11-szeres erősítést érhetünk el a jelen."
   ]
  },
  {
   "cell_type": "markdown",
   "metadata": {},
   "source": [
    "15) Az IR LED anódját (pozitív, hosszabb láb) kössük a Raspberry Pi *GPIO02*-es tüskéjére, míg a katódját (negatív, rövidebb láb) kössük sorba egy 200 Ohmos ellenállással.\n",
    "\n",
    "16) A 200 Ohmos ellenállás másik lábát kössük a földelésre (GND)."
   ]
  },
  {
   "cell_type": "markdown",
   "metadata": {},
   "source": [
    "17) Az L293D driver földelés lábait kössük össze egymással és az átellenes oldallal (fekete drót). Egyben az áramforrás (4 db AAA elem a rajzon) negatív végét és a Raspberry Pi egyik földelését is kössük össze az L293D driver földelésével. Így minden elem azonos földelésen lesz.\n",
    "\n",
    "18) Az áramforrás pozitív végét kapcsoljuk a driver *VS* lábára (*8*-as láb, piros drót). Ez adja a feszültséget a motor meghajtásához. \n",
    "\n",
    "19) Kapcsoljuk a Raspberry Pi +5V-os tüskéjét a driver *VSS* (*16*-os) lábával össze (fehér drót). Ez adja a driver működéséhez nélkülözhetetlen tápot. \n",
    "\n",
    "20) A Raspberry Pi *GPIO25*-ös tüskéjét kapcsoljuk az *EN1* (*1*-es) lábra (okkersárga drót). A driver ezen lába szolgál arra, hogy aktiválja a driver *IN1 (2), IN2 (7), OUT1 (3) és OUT2 (6)* lábait, amennyiben magas állapotba kerül. Alacsony állapotból az előbb említett lábak nem kapnak áramot. \n",
    "\n",
    "21) A Raspberry Pi *GPIO11*-es tüskéjét kapcsoljuk az *EN2* (*9*-es) lábra (okkersárga drót). A driver ezen lába szolgál arra, hogy aktiválja a driver *IN3 (10), IN4 (15), OUT3 (11) és OUT4 (14)* lábait, amennyiben magas állapotba kerül. Alacsony állapotból az előbb említett lábak nem kapnak áramot. Így két motort is tudunk már vezérelni."
   ]
  },
  {
   "cell_type": "markdown",
   "metadata": {},
   "source": [
    "22) A Raspberry Pi *GPIO23*-as és *GPIO24*-es tüskéit kapcsoljuk az *IN1 (2), IN2 (7)* lábakra a driveren (szürke és narancssárga drótok). Felváltva aktiválva őket vagyunk képesek előre és hátrafele forgatni a motort attől függően, hogy épp melyik van magas állapotban. \n",
    "\n",
    "23) A Raspberry Pi *GPIO9*-es és *GPIO10*-es tüskéit kapcsoljuk az *IN3 (10), IN4 (15)* lábakra a driveren (szürke és narancssárga drótok). Felváltva aktiválva őket vagyunk képesek előre és hátrafele forgatni a második motort attől függően, hogy épp melyik van magas állapotban.\n",
    "\n",
    "24) A motor két kimenetét (citromsárga és zöld drótok) kapcsoljuk a driver *OUT1 (3) és OUT2 (6)* lábaira. Az *IN1 és IN2* lábak állapota szabályozza, hogy ezek a lábak, azaz maga a motor, kap-e feszültséget.\n",
    "\n",
    "25) A második motor két kimenetét (citromsárga és zöld drótok) kapcsoljuk a driver *OUT3 (11) és OUT4 (14)* lábaira. Az *IN3 és IN4* lábak állapota szabályozza, hogy ezek a lábak, azaz maga a motor, kap-e feszültséget.\n",
    "\n",
    "**Kétszer is ellenőrizzük le, hogy a bekötésünk rendben van-e. A félrekötött tüskék nagyban növelik a motor vagy a Raspberry Pi tökremenési esélyeit. A motort SEMMIKÉPP SE tápláljuk és irányítsük direktben a Raspberry Pi-ről, mert az szinte biztosan a számítógép sérükéséhez vezet.**"
   ]
  },
  {
   "cell_type": "markdown",
   "metadata": {},
   "source": [
    "## A kód\n",
    "\n",
    "Nyissunk meg egy új python fájlt és mentsük el pl. ```ir_car.py``` név alatt. A ```gpiozero``` csomagnak nincs beépített objektuma ami általánosan az IR szenzort tudná kezelni, így mi fogjuk megoldani a szenzorral való kommunikációt."
   ]
  },
  {
   "cell_type": "markdown",
   "metadata": {},
   "source": [
    "Az előző projektekben már szépen kidolgoztunk egy aktív szenzor klasszt. Arra építve és azt beimportálva, hozunk létre egy új klasszt, ami tartalmazza majd az autó által megkövetelt feladatokat."
   ]
  },
  {
   "cell_type": "markdown",
   "metadata": {},
   "source": [
    "Érdemes a fontosabb kódolások előtt letesztelni, hogy tudjuk-e szoftveresen vezérelni a LED-et illetve az MCP3008 ADC-t. Emellett tesztelni kell a kamerát és a motorokat is. Ezek mikéntjére itt nem térünk ki, az előző projektben ezt részleteztük."
   ]
  },
  {
   "cell_type": "markdown",
   "metadata": {},
   "source": [
    "### Segédfüggvények beimportálása és eddigi kódok"
   ]
  },
  {
   "cell_type": "markdown",
   "metadata": {},
   "source": [
    "Első körben átvesszük, hogy milyen segédfüggvényeket és objektumokat fogunk felhasználni. Lényegében szükségünk lesz minden eddig kidolgozott kódrészletre: beolvasni a kalibráláshoz a fájlt ```read_2column_files```, interpolálni ```interpolate1d```, előkészíteni plottoláshoz az adatokat ```prepare_data``` és szükség lesz az ```ActiveSensor``` klasszra is. A lenti kódban az aktív szenzor klasszt kibővítettük néhány új tulajdonsággal. Inicializáláskor a következő plusz opcionális paramétereket lehet még megadni:\n",
    "\n",
    "* ```sampling_rate``` - meghatározza, hogy másodpercenként hányszor történyjen mérés.\n",
    "* ```print_distance``` - ha az értéke ```True```, akkor kiírja a képernyőre a mért távolságot, ha ```False```, akkor nem.\n",
    "* ```calibrate``` - ha az értéke ```True```, akkor a klassz ```self.current_distance``` paraméterének az értéka a kalibrált távolság lesz, míg ha ```False```, akkor a paraméter értéke a mért feszültség lesz.\n",
    "\n",
    "A klasszban a változások nagy része az ```__init__``` és a ```start_measurement``` metódusokban van."
   ]
  },
  {
   "cell_type": "markdown",
   "metadata": {},
   "source": [
    "```raspberry_functions.py```:"
   ]
  },
  {
   "cell_type": "code",
   "execution_count": 51,
   "metadata": {},
   "outputs": [],
   "source": [
    "from scipy.interpolate import interp1d\n",
    "import numpy as np\n",
    "import threading\n",
    "import time\n",
    "import datetime as dt\n",
    "import matplotlib.pyplot as plt\n",
    "\n",
    "\n",
    "def prepare_data(date, value, dplot, tplot, maxlen=20):\n",
    "    dplot.append(date)\n",
    "    tplot.append(value)\n",
    "    if len(dplot) > maxlen:\n",
    "        dplot.pop(0)\n",
    "        tplot.pop(0)\n",
    "    return dplot, tplot\n",
    "\n",
    "def read_2column_files(name, sep=',', header=True):\n",
    "    lines = read_temp_raw(name)\n",
    "    if header:\n",
    "        lines.pop(0)\n",
    "    distance = []\n",
    "    voltage = []\n",
    "    for line in lines:\n",
    "        if line.strip() != '':\n",
    "            data = line.strip().split(sep)\n",
    "            voltage.append(float(data[0]))\n",
    "            distance.append(float(data[1]))\n",
    "    return np.array(voltage), np.array(distance)\n",
    "\n",
    "def interpolate1d(x, y, target):\n",
    "    f = interp1d(x,y)\n",
    "    return f(target)\n",
    "\n",
    "\n",
    "class ActiveSensor:\n",
    "    def __init__(self, led, mcp, calibname, sampling_rate=1, print_distance=True, calibrate=True):\n",
    "        self.led = led\n",
    "        self.mcp = mcp\n",
    "        self.calibfile = calibname\n",
    "        self.sampling_rate = sampling_rate\n",
    "        self.plot_length = 20\n",
    "        self.initialize_calibration(self.calibfile)\n",
    "        self.event = threading.Event()\n",
    "        self.event_plot = threading.Event()\n",
    "        self.dlist = []\n",
    "        self.ylist = []\n",
    "        self.print_distance = print_distance\n",
    "        self.calibrate = calibrate\n",
    "        \n",
    "    def start(self):\n",
    "        self.event.clear()\n",
    "        self.led.on()\n",
    "        t = threading.Thread(target=self.start_measurement)\n",
    "        t.start()\n",
    "\n",
    "    def start_measurement(self):\n",
    "        print('Measurement started')\n",
    "        while not self.event.is_set():\n",
    "            dd = dt.datetime.now()\n",
    "            self.current_voltage = self.mcp.voltage\n",
    "            if self.calibrate:\n",
    "                self.current_distance = interpolate1d(self.calib_volt, self.calib_distance, self.current_voltage)\n",
    "            else:\n",
    "                self.current_distance = self.current_voltage\n",
    "            if self.print_distance:\n",
    "                print(f'Current distance from object is: {self.current_distance:.3} cm')\n",
    "            self.prepare_data(dd, self.current_distance)\n",
    "            time.sleep(1/self.sampling_rate)\n",
    "        \n",
    "    def stop(self):\n",
    "        self.event.set()\n",
    "        self.led.off()\n",
    "        print('Measurement is stopped')\n",
    "\n",
    "    def initialize_calibration(self, filename):\n",
    "        self.calib_volt, self.calib_distance = read_2column_files(filename, header=True)\n",
    "\n",
    "    def prepare_data(self, dd, yy):\n",
    "        self.dlist, self.ylist = prepare_data(dd, yy, self.dlist, self.ylist, maxlen=self.plot_length)\n",
    "\n",
    "    def plot_initialize(self):\n",
    "        plt.ion()\n",
    "        self.figure, self.ax = plt.subplots(figsize=(8,6))\n",
    "        self.line1, = self.ax.plot(self.dlist, self.ylist, 'o-')\n",
    "        plt.title(\"Dynamic Plot of measurement\",fontsize=25)\n",
    "        plt.xlabel(\"Time\",fontsize=18)\n",
    "        plt.ylabel(\"Distance (cm)\",fontsize=18)\n",
    "        plt.grid(True)\n",
    "\n",
    "    def start_plot(self):\n",
    "        self.event_plot.clear()\n",
    "        t = threading.Thread(target=self.plot_distance_thread)\n",
    "        t.start()\n",
    "\n",
    "    def stop_plot(self):\n",
    "        self.event_plot.set()\n",
    "        print('Measurement is stopped')\n",
    "\n",
    "    def plot_distance_thread(self):\n",
    "        while not self.event_plot.is_set():\n",
    "            self.line1.set_xdata(self.dlist)\n",
    "            self.line1.set_ydata(self.ylist)\n",
    "            self.ax.set_ylim(min(self.ylist)*0.99, max(self.ylist)*1.01) # +1 to avoid singular transformation warning\n",
    "            self.ax.set_xlim(min(self.dlist), max(self.dlist))\n",
    "            self.figure.canvas.draw()\n",
    "            self.figure.canvas.flush_events()\n",
    "            plt.gcf().autofmt_xdate()\n",
    "            time.sleep(2)\n"
   ]
  },
  {
   "cell_type": "markdown",
   "metadata": {},
   "source": [
    "Ha már van egy jól működő aktív szenzor klasszunk, akkor kihasználjuk annak az előnyeit és nem kódolunk le egy teljesen új klasszt ami egy RGB LED-et is tartalmaz plusszban. A klasszok öröklési tulajdonságára támaszkodva létrehozhatunk egy új klasszt, ami örökli és/vagy felülírja az ```ActiveSensor``` tulajdonságait valamint kiegészíti azt újakkal."
   ]
  },
  {
   "cell_type": "markdown",
   "metadata": {},
   "source": [
    "### Python csomagok beimportálása és objektumok inicializálása"
   ]
  },
  {
   "cell_type": "markdown",
   "metadata": {},
   "source": [
    "Az autó amit össze akarunk szerelni és működtetni, már kicsit bonyolultabb, mint amivel eddig találkoztunk. Sok segéd csomagra lesz szükség a vezérléséhez:"
   ]
  },
  {
   "cell_type": "markdown",
   "metadata": {},
   "source": [
    "* ```Motor, LED, MCP3008``` - a ```gpiozero``` csomagból az eszközök vezérléséért felelnek majd.\n",
    "* ```numpy``` - mátrix és vektoriális számolások segítségére szolgál majd. \n",
    "* ```sys``` - az operációs rendszerrel való kommunikálásra.\n",
    "* ```pygame``` - a GUI felületet adja a kamerának és érzékeli a billentyűk lenyomását.\n",
    "* ```time``` - a ```sleep``` függvény miatt szükséges.\n",
    "* ```threading``` - hogy a háttérben tudjunk futtatni függvényeket.\n",
    "* ```cv2``` - a kamerával való kommunikálás miatt kell."
   ]
  },
  {
   "cell_type": "markdown",
   "metadata": {},
   "source": [
    "A csomagok beimportálása után kezdjük inicializálni az objektumainkat, a két motort (jobb és bal oldali), az IR LED-et, az MCP-t és a kamerát. Felhasználva az előbb definiált objektumok egy részét, inicializálhatjuk az ```ActiveSensor``` objektumunkat is, amihez szükség van még egy kalibrálási fájl névre."
   ]
  },
  {
   "cell_type": "markdown",
   "metadata": {},
   "source": [
    "A következő lépésben inicializáljuk a ```pygame``` csomagot és létrehozunk egy kijelző felületet,```screen```, aminek előtte definiáljuk a szélességét és magasságát egy *tuple* változóban, ```size = 500, 500```."
   ]
  },
  {
   "cell_type": "markdown",
   "metadata": {},
   "source": [
    "```ir_car.py:```"
   ]
  },
  {
   "cell_type": "code",
   "execution_count": 5,
   "metadata": {},
   "outputs": [],
   "source": [
    "from gpiozero import Motor, LED, MCP3008\n",
    "import numpy as np\n",
    "import sys, pygame, pygame.freetype\n",
    "import time, threading\n",
    "import cv2\n",
    "from raspberry_functions import read_2column_files, interpolate1d, ActiveSensor\n",
    "\n",
    "motor_left = Motor(forward=24, backward = 23, enable=25)  #\n",
    "motor_right = Motor(forward=22, backward = 27, enable=17)  #\n",
    "\n",
    "ir = LED(2)\n",
    "mcp = MCP3008(channel=7)\n",
    "calib_file = 'ir_calibration.csv'\n",
    "sensor = ActiveSensor(ir, mcp, calib_file, print_distance=False)\n",
    "cap = cv2.VideoCapture('/dev/video0')\n",
    "\n",
    "pygame.init( )\n",
    "\n",
    "\n",
    "#Set canvas parameters\n",
    "size = 500, 500\n",
    "\n",
    "#Display size\n",
    "screen = pygame.display.set_mode(size)"
   ]
  },
  {
   "cell_type": "markdown",
   "metadata": {},
   "source": [
    "### Az autó klassz"
   ]
  },
  {
   "cell_type": "markdown",
   "metadata": {},
   "source": [
    "A következő lépés a ```Car``` klassz megírása lesz. Ennek elkészítésével egyszerűen metódusokon keresztül tudunk komolyabb műveleteket elvégezni az autón, amik sok energiát és kódot megspórolhatnak, ha egy összetettebb kód környezetben kellene használni. "
   ]
  },
  {
   "cell_type": "markdown",
   "metadata": {},
   "source": [
    "#### Tulajdonságok és viselkedések"
   ]
  },
  {
   "cell_type": "markdown",
   "metadata": {},
   "source": [
    "Első körben meg kell határoznunk milyen tulajdonságokat és viselkedést szeretnénk az autónknak adni. A következő metódusokat látjuk előre:"
   ]
  },
  {
   "cell_type": "markdown",
   "metadata": {},
   "source": [
    "* ```__init__(self, m1, m2, sensor, camera)``` - ebben a metódusban adjuk meg, hogy az autó objektumot milyen paraméterekkel tudjuk inicializálni. Mint sejthető, szükség van a motorokra, ```m1, m2```, a kamerára, ```camera```, és egy  ```ActiveSensor``` objektumra, ```sensor```. Ezeket az objektumokat rögzítjük a ```Car``` klasszhoz, és mint látni fogjuk itt definiálunk majd még néhány hasznos segéd paramétert.\n",
    "* ```start_camera(self):``` - ez a metódus felel majd a kamera elinditásáért és a kép megjelenítéséért.  \n",
    "* ```start_movement(self):``` - ez a metódus követi nyomon, hogy milyen billentyűket nyomtunk le, azaz figyeli milyen vezérlő parancsokat adtunk ki.\n",
    "* ```distance_check(self):``` - ez a metódus ellenőrzi folyamatosan a környezetben levő tárgyak távolságát, és ha valami túl közel kerül, akkor egy állj parancsot ad ki. \n",
    "* ```stop_motors(self):``` - evvel a metódussal tudjuk leállítani a motorokat.\n",
    "* autó mozgatások különböző irányba - ```move_left(self, speed=0.8)```, balra fordulás, ```move_right(self, speed=0.8)```, jobbra fordulás, ```move_forward(self, speed=0.8)```, előre haladás, ```move_backward(self, speed=0.8)```, hátra haladás. Mindegyik mozgatás esetében van egy plusz bemenő paraméter, ```speed```, amivel a mozgás sebességét lehet befolyásolni."
   ]
  },
  {
   "cell_type": "code",
   "execution_count": null,
   "metadata": {},
   "outputs": [],
   "source": [
    "class Car:\n",
    "    def __init__(self, m1, m2, sensor, camera):\n",
    "        pass\n",
    "\n",
    "    def start_camera(self):\n",
    "        pass\n",
    "\n",
    "    def start_movement(self):\n",
    "        pass\n",
    "    \n",
    "    def distance_check(self):\n",
    "        pass\n",
    "\n",
    "    def move_forward(self, speed=0.8):\n",
    "        pass\n",
    "\n",
    "    def move_backward(self, speed=0.8):\n",
    "        pass\n",
    "\n",
    "    def move_left(self, speed=0.8):\n",
    "        pass\n",
    "\n",
    "    def move_right(self, speed=0.8):\n",
    "        pass\n",
    "\n",
    "    def stop_motors(self):\n",
    "        pass"
   ]
  },
  {
   "cell_type": "markdown",
   "metadata": {},
   "source": [
    "Miután megterveztük a ```Car``` klassz felépítését, szerkezetét, kezdődhet a kódolás rész és leprogramozhatjuk hogyan érjék el a metódusok a céljaikat."
   ]
  },
  {
   "cell_type": "markdown",
   "metadata": {},
   "source": [
    "#### Az ```__init___``` függvény"
   ]
  },
  {
   "cell_type": "markdown",
   "metadata": {},
   "source": [
    "A ```Car``` klassz inicializálásakor az első dolgunk az lesz, hogy a bemenő paraméterként megadott változókat klasszon belül globálisan elérhetővé tesszük, avval, hogy hozzárendeljük a ```self``` objektumhoz. Így biztosítunk hozzáférést a kamerának, motoroknak és a szenzornak. "
   ]
  },
  {
   "cell_type": "markdown",
   "metadata": {},
   "source": [
    "A következő lépésben létrehozunk egy eseményt, ```self.stop_event```, ami ha aktivizálódik, pl. ha túl közel kerül az autó valamihez, leállítja a motorokat. Ezután inicializálunk három *thread*et, amit a háttérben futtatunk majd:\n",
    "\n",
    "* ```self.move_thread``` - ez indítja el a ```self.start_movement``` függvényt, ami figyeli a billentyűzetet, hogy milyen mozgást kell végezni és nyomon követi, hogy mi volt az utolsó mozgás mielőtt az autó a ```self.stop_event``` miatt megállt volna.\n",
    "* ```self.camera_thread``` - ez indítja el a ```self.start_camera``` függvényt, ami a aktivizálja a kamerát és kijelzi annak képét a képernyőn. \n",
    "* ```self.check_thread``` - ez indítja el a ```self.distance_check``` függvényt, ami folyamatosan ellenőrzi, hogy a tárgyak milyen messze vannak az autótól, és adott esetben aktivizálja a ```self.stop_event```-et.\n",
    "\n",
    "A *thread*ek inicializálása után el is indítjuk őket a ```.start()``` metódussal. "
   ]
  },
  {
   "cell_type": "markdown",
   "metadata": {},
   "source": [
    "Ezek után három változót definiálunk, amik segítségünkre lesznek abban, hogy az autó bárminek nekimenyjen. Az első, a ```self.current_key```, egy sztring lesz, ami jelzi, hogy az adott pillanatban melyik billentyű van lenyomva, azaz melyik irányba halad az autó. Kezdő értékként az ```'up'``` értéket adjuk neki. A következő változó a ```self.map_direction``` egy könyvtár, ami egy adott irányhoz annak az ellentétes irányát rendeli hozzá sztring formában. Erre azért van szükség, mert ha pl. előre haladás (*up*) közben közel kerülünk egy tárgyhoz, akkor jelezhetjük, hogy csak hátrafele (*down*) haladhatunk tovább. Ugyanis, ha az IR szenzor az előre haladás irányában túl kis távolságot (avagy túl nagy feszültséget) mér, akkor a motor leállítása után tovább előre vagy, oldalra haladva veszélyeztethetjük az ütközést. Az egyetlen biztonságos írány az ellenkező irányba haladás, mindaddig, amíg az IR szenzor nem mér újra biztonságos értékeket. Az utolsó paraméter pedig az ```self.allowed_direction```, amit első körben üres sztringnek inicializálunk. Ez fogja jelezni az autónak, ha közel került valamihez, akkor melyik a biztonságos haladási irány.  "
   ]
  },
  {
   "cell_type": "markdown",
   "metadata": {},
   "source": [
    "Végül elindítjuk a ```self.check_thread``` *thread*et, hogy kezdődjön a távolság ellenőrzés."
   ]
  },
  {
   "cell_type": "code",
   "execution_count": 1,
   "metadata": {},
   "outputs": [],
   "source": [
    "def __init__(self, m1, m2, sensor, camera):\n",
    "        self.cap = camera\n",
    "        self.motor1 = m1\n",
    "        self.motor2 = m2\n",
    "        self.ir_sensor = sensor\n",
    "        self.stop_event = threading.Event()\n",
    "        self.move_thread = threading.Thread(target=self.start_movement)\n",
    "        self.camera_thread = threading.Thread(target=self.start_camera)\n",
    "        self.check_thread = threading.Thread(target=self.distance_check)\n",
    "        self.ir_sensor.start()\n",
    "        self.camera_thread.start()\n",
    "        self.move_thread.start()\n",
    "        self.current_key = 'up'\n",
    "        self.map_direction = {\n",
    "            'right': 'left',\n",
    "            'left': 'right',\n",
    "            'up': 'down',\n",
    "            'down': 'up',\n",
    "        }\n",
    "        self.allowed_direction = ''\n",
    "        self.check_thread.start()"
   ]
  },
  {
   "cell_type": "markdown",
   "metadata": {},
   "source": [
    "#### A motorokat vezérlő metódusok"
   ]
  },
  {
   "cell_type": "markdown",
   "metadata": {},
   "source": [
    "Öt darab motort vezérlő metódust készítünk, az előre, hátra, jobbra, balra mozgásért és a motorok leállításáért felelős metódusokat. A motorokat leállító metódus, ```stop_motors(self)```, egyszerűen csak meghívja a ```Car``` klassz motorjainak a ```.stop()``` metódusát. \n",
    "\n",
    "A többi vezérlő metódusnál van egy bemenő paraméter, ```speed```, amivel szabályozni lehet a motorok sebességét. Alapértelmezetten, ennek az értéke 0.8. A vezérléstől függően a motorokat vagy előre vagy hátra forgatjuk."
   ]
  },
  {
   "cell_type": "code",
   "execution_count": 1,
   "metadata": {},
   "outputs": [],
   "source": [
    "def move_forward(self, speed=0.8):\n",
    "    self.motor1.forward(speed=speed)\n",
    "    self.motor2.forward(speed=speed)\n",
    "\n",
    "def move_backward(self, speed=0.8):\n",
    "    self.motor1.backward(speed=speed)\n",
    "    self.motor2.backward(speed=speed)\n",
    "\n",
    "def move_left(self, speed=0.8):\n",
    "    self.motor1.backward(speed=speed)\n",
    "    #mright.forward(speed=speed)\n",
    "\n",
    "def move_right(self, speed=0.8):\n",
    "    #mleft.forward(speed=speed)\n",
    "    self.motor2.backward(speed=speed)\n",
    "\n",
    "def stop_motors(self):\n",
    "    self.motor1.stop()\n",
    "    self.motor2.stop()"
   ]
  },
  {
   "cell_type": "markdown",
   "metadata": {},
   "source": [
    "#### A kamera vezérlése"
   ]
  },
  {
   "cell_type": "markdown",
   "metadata": {},
   "source": [
    "A kamera vezérléséért felelős metódus egy végtelen ciklust indít el, ami csak akkor áll le, ha a ```self.stop_event``` esemény aktivizálódik. Ezt az ```.is_set()``` metódussal tudjuk követni.\n",
    "\n",
    "A ciklusban az első dolgunk elkészíteni a képet, ```ret, frame = self.cap.read()```. A kamera elhelyezésétől függően, hogy jól jelenjen meg a képernyőnkön a kép, el lehet fordítani azt, akár 90 fokkal is, ```frame = np.rot90(frame)```. Mivel *cv2*-t használunk a képek készítéséhez, érdemes átváltanunk a *BGR* színskálát *RGB*-be, ```frame = cv2.cvtColor(frame, cv2.COLOR_BGR2RGB)```. "
   ]
  },
  {
   "cell_type": "markdown",
   "metadata": {},
   "source": [
    "Ezek után a kép formátumát át kell alakítanunk a ```pygame``` által is értelmezhető formába, ```frame = pygame.surfarray.make_surface(frame)```. A következő paranccsal frissítjük a megjelenített képet a *(0,0)* koordinátára helyezve, ```screen.blit(frame, (0,0))```, végül pedig meg is jelenítjük azt, ```pygame.display.flip()```."
   ]
  },
  {
   "cell_type": "code",
   "execution_count": 2,
   "metadata": {},
   "outputs": [],
   "source": [
    "def start_camera(self):\n",
    "    while not self.stop_event.is_set():\n",
    "        ret, frame = self.cap.read()\n",
    "        frame = np.rot90(frame)\n",
    "        frame = cv2.cvtColor(frame, cv2.COLOR_BGR2RGB)\n",
    "        frame = pygame.surfarray.make_surface(frame)\n",
    "        screen.blit(frame,(0,0))\n",
    "        pygame.display.flip()"
   ]
  },
  {
   "cell_type": "markdown",
   "metadata": {},
   "source": [
    "#### Az autó vezérlése billentyűkkel"
   ]
  },
  {
   "cell_type": "markdown",
   "metadata": {},
   "source": [
    "Az autó vezérlése a ```start_movement(self)``` metódusban történik. Ez is lényegében egy végtelen ```while``` ciklus, amiben a ```pygame``` folyamatosan figyeli milyen billentyű lett lenyomva. A ```while``` ciklus csak akkor áll meg, ha a ```self.stop_event``` esemény aktivizálódik. "
   ]
  },
  {
   "cell_type": "markdown",
   "metadata": {},
   "source": [
    "A ```pygame``` csomag egy ```for``` cikluson belül végig lépked az összes általa észlelt eseménye, ```for event in pygame.event.get()```. Ha az esemény típusa a ```pygame.Quit```, azaz a megjelent ablak piros X-ére lett kattintva, akkor sorban leállítjuk a rendszereinket: kikapcsoljuk az IR szenzort, ```self.ir_sensor.stop()```, aktivizáljuk a stop eseményt, ```self.stop_event.set()``` és végül kilépünk a pythonból, ```sys.exit()```."
   ]
  },
  {
   "cell_type": "markdown",
   "metadata": {},
   "source": [
    "Ha az esemény típusa billentyű lenyomás, ```if event.type == pygame.KEYDOWN:```, akkor kivizsgáljuk, melyik billentyű lett lenyomva. Számunkra a ```pygame.K_RIGHT```, jobbra nyíl, ```pygame.K_LEFT```, balra nyíl, ```pygame.K_UP```, felfele nyíl és a ```pygame.K_DOWN``` lefele nyíl az érdekes, hiszen ezekkel akarjuk vezérelni az autót. Ezen esetek mindegyikében rögzítjük, hogy a melyik a jelenleg lenyomott irány, ```self.current_key```, majd megvizsgáljuk, hogy ez a változó megegyezik-e a megengedett haladási iránnyal, ```self.allowed_direction``` vagy az megengedett irány egyelőre nem lett definiálva, ```self.allowed_direction == ''```. Ha ezek közül egyik igaz, akkor aktivizáljuk a mozgatást a megfelelő irányba a fent már definiált ```.move_*``` metódusokkal."
   ]
  },
  {
   "cell_type": "markdown",
   "metadata": {},
   "source": [
    "Viszont, ha a ```pygame``` által észlelt esemény a billentyűzet felengedése, ```if event.type == pygame.KEYUP:```, akkor ez üzenet arra, hogy leállítsük a motorokat a ```self.stop_motor()``` metódussal."
   ]
  },
  {
   "cell_type": "code",
   "execution_count": 3,
   "metadata": {},
   "outputs": [],
   "source": [
    "def start_movement(self):\n",
    "    while not self.stop_event.is_set():\n",
    "        for event in pygame.event.get():\n",
    "            if event.type == pygame.QUIT:\n",
    "                self.ir_sensor.stop()\n",
    "                self.stop_event.set()\n",
    "                sys.exit()\n",
    "            if event.type == pygame.KEYDOWN:\n",
    "                if event.key == pygame.K_RIGHT:\n",
    "                    self.current_key = 'right'\n",
    "                    if self.current_key == self.allowed_direction or self.allowed_direction == '':\n",
    "                        print('Move right...')\n",
    "                        self.move_right(speed=1)\n",
    "                if event.key == pygame.K_LEFT:\n",
    "                    self.current_key = 'left'\n",
    "                    if self.current_key == self.allowed_direction or self.allowed_direction == '':\n",
    "                        print('Move left...')\n",
    "                        self.move_left(speed=1)\n",
    "                if event.key == pygame.K_DOWN:\n",
    "                    self.current_key = 'down'\n",
    "                    if self.current_key == self.allowed_direction or self.allowed_direction == '':\n",
    "\n",
    "                        print('Move backward...')\n",
    "                        self.move_backward(speed=1)\n",
    "                if event.key == pygame.K_UP:\n",
    "                    self.current_key = 'up'\n",
    "                    if self.current_key == self.allowed_direction or self.allowed_direction == '':\n",
    "\n",
    "                        print('Move forward...')\n",
    "                        self.move_forward(speed=1)\n",
    "\n",
    "            if event.type == pygame.KEYUP:\n",
    "                print('Stop motors...')\n",
    "                self.stop_motors()\n",
    "\n",
    "        time.sleep(0.1)#Wait for 100ms before next button press"
   ]
  },
  {
   "cell_type": "markdown",
   "metadata": {},
   "source": [
    "#### A tárgyak távolságának ellenőrzése és esetleges vészleállás"
   ]
  },
  {
   "cell_type": "markdown",
   "metadata": {},
   "source": [
    "A klasszt inicializáló metódusában láttuk, hogy egy *threadben* elindítunk egy távolságot figyelő függvényt, ami ha közelbe kerül egy tárgy, leállítja a motorokat. Ezt a ```distance_check(self)``` függvényt végzi el. Ebben is egy végtelen ```while``` ciklus indul, ami csak akkor áll meg, ha a ```stop_event``` aktivizálódik. Első lépésként kiíratjuk a képernyőre az IR szenzoron aktuálisan mért feszültséget. "
   ]
  },
  {
   "cell_type": "markdown",
   "metadata": {},
   "source": [
    "Ez a feszültség alapján, egy ```if``` szerkezetben eldöntjük mi lesz a következő lépés. Ha a feszültség nagyobb mint 1.3 V, azaz közeledünk egy tárgyhoz (de még biztos távolságban vagyunk), akkor beállítjuk, hogy innentől kezdve melyik irányba lesz majd biztonságos közlekedni (pont az ellenkezőbe, mint eddig, mert az csökkenti majd a mért feszültséget). A ```self.map_direction``` könyvtár tartalmazza az irány párosításokat. Megadjuk neki, hogy mi volt az utolsó lenyomott billentyű, ```self.last_key```, és ebből meghatározzuk, melyik megengedett irány tartozik hozzá. Majd egy újabb ```if``` szerkezetben megvizsgáljuk, hogy a jelenleg lenyomott billentyű egyezik-e avval a billentyűvel, amit ez előtt lenyomtak. Ha igen, akkor leállítjuk a motorokat, ha nem, akkor csak megy a program tovább. "
   ]
  },
  {
   "cell_type": "markdown",
   "metadata": {},
   "source": [
    "Ha a mért feszültség nem éri el az 1.3 V-ot, akkor lényegében bármelyik irányba lehet haladni, azaz ```self.allowed_direction = ''```, és a ```self.last_key``` értéke felveszi az épp aktuálisan lenyomott billentyű, ```self.current_key```, értékét."
   ]
  },
  {
   "cell_type": "markdown",
   "metadata": {},
   "source": [
    "Ez egy kicsit bonyolult logikai műveletnek tűnik, de gondoljuk végig mit is csinál ez a függvény. Ha nincs a közelben tárgy, a ```self.last_key``` értéke a ```self.current_key``` lesz, ami épp le van nyomva. Hirtelen a mért feszültség megugrik 1.3 V fölé. Ekkor kiválasszuk, merre mehetünk, ```self.allowed_direction```, amit az előbbi fejeztben definiált függvényben használunk ellenőrzésre. Ha nem a ```self.allowed_direction```-nek megfelelő billentyűt nyomjuk, az autó nem mozdul. Ezután megnézzók, hogy milyen billentyűt próbáltak lenyomni. Ha tovább akarnánk folytatni az irányt arra, amerre a feszültség megnövekedett 1.3 V fölé, akkor a függvény leállítja a motorokat. Evvel is biztosítjuk, hogy csak az ```self.allowed_direction``` irányába mozdulhatunk és nem ütközünk."
   ]
  },
  {
   "cell_type": "code",
   "execution_count": 4,
   "metadata": {},
   "outputs": [],
   "source": [
    "def distance_check(self):\n",
    "    while not self.stop_event.is_set():\n",
    "        print(self.ir_sensor.current_voltage)\n",
    "        if self.ir_sensor.current_voltage > 1.3:\n",
    "            self.allowed_direction = self.map_direction.get(self.last_key, '')\n",
    "            if self.current_key != self.last_key:\n",
    "                print('Stop motors...')\n",
    "                self.stop_motors()\n",
    "        else:\n",
    "            self.allowed_direction = ''\n",
    "            self.last_key = self.current_key\n",
    "        time.sleep(0.5)"
   ]
  },
  {
   "cell_type": "markdown",
   "metadata": {},
   "source": [
    "### Az RGB LED-es aktív szenzor objektum ábrázolási lehetőséggel"
   ]
  },
  {
   "cell_type": "markdown",
   "metadata": {},
   "source": [
    "Minden elemet belerakva a kódba a következő programot kapjuk:"
   ]
  },
  {
   "cell_type": "markdown",
   "metadata": {},
   "source": [
    "```ir_car.py```:"
   ]
  },
  {
   "cell_type": "code",
   "execution_count": null,
   "metadata": {},
   "outputs": [],
   "source": [
    "from gpiozero import Motor, LED, MCP3008\n",
    "import numpy as np\n",
    "import sys, pygame, pygame.freetype\n",
    "import time, threading\n",
    "import cv2\n",
    "from raspberry_functions import read_2column_files, interpolate1d, ActiveSensor\n",
    "\n",
    "motor_left = Motor(forward=24, backward = 23, enable=25)  #\n",
    "motor_right = Motor(forward=22, backward = 27, enable=17)  #\n",
    "\n",
    "ir = LED(2)\n",
    "mcp = MCP3008(channel=7)\n",
    "calib_file = 'ir_calibration.csv'\n",
    "sensor = ActiveSensor(ir, mcp, calib_file, print_distance=False)\n",
    "cap = cv2.VideoCapture('/dev/video0')\n",
    "\n",
    "pygame.init( )\n",
    "\n",
    "\n",
    "#Set canvas parameters\n",
    "size = 500, 500\n",
    "\n",
    "#Display size\n",
    "screen = pygame.display.set_mode(size)\n",
    "\n",
    "class Car:\n",
    "    def __init__(self, m1, m2, sensor, camera):\n",
    "        self.cap = camera\n",
    "        self.motor1 = m1\n",
    "        self.motor2 = m2\n",
    "        self.ir_sensor = sensor\n",
    "        self.stop_event = threading.Event()\n",
    "        self.move_thread = threading.Thread(target=self.start_movement)\n",
    "        self.camera_thread = threading.Thread(target=self.start_camera)\n",
    "        self.check_thread = threading.Thread(target=self.distance_check)\n",
    "        self.ir_sensor.start()\n",
    "        self.camera_thread.start()\n",
    "        self.move_thread.start()\n",
    "        self.current_key = 'up'\n",
    "        self.map_direction = {\n",
    "            'right': 'left',\n",
    "            'left': 'right',\n",
    "            'up': 'down',\n",
    "            'down': 'up',\n",
    "        }\n",
    "        self.allowed_direction = ''\n",
    "        self.check_thread.start()\n",
    "\n",
    "    def start_camera(self):\n",
    "        while not self.stop_event.is_set():\n",
    "            ret, frame = self.cap.read()\n",
    "            frame = np.rot90(frame)\n",
    "            frame = cv2.cvtColor(frame, cv2.COLOR_BGR2RGB)\n",
    "            frame = pygame.surfarray.make_surface(frame)\n",
    "            screen.blit(frame,(0,0))\n",
    "            pygame.display.flip()\n",
    "\n",
    "    def start_movement(self):\n",
    "        while not self.stop_event.is_set():\n",
    "            for event in pygame.event.get():\n",
    "                if event.type == pygame.QUIT:\n",
    "                    self.ir_sensor.stop()\n",
    "                    self.stop_event.set()\n",
    "                    sys.exit()\n",
    "                if event.type == pygame.KEYDOWN:\n",
    "                    if event.key == pygame.K_RIGHT:\n",
    "                        self.current_key = 'right'\n",
    "                        if self.current_key == self.allowed_direction or self.allowed_direction == '':\n",
    "                            print('Move right...')\n",
    "                            self.move_right(speed=1)\n",
    "                    if event.key == pygame.K_LEFT:\n",
    "                        self.current_key = 'left'\n",
    "                        if self.current_key == self.allowed_direction or self.allowed_direction == '':\n",
    "                            print('Move left...')\n",
    "                            self.move_left(speed=1)\n",
    "                    if event.key == pygame.K_DOWN:\n",
    "                        self.current_key = 'down'\n",
    "                        if self.current_key == self.allowed_direction or self.allowed_direction == '':\n",
    "                            \n",
    "                            print('Move backward...')\n",
    "                            self.move_backward(speed=1)\n",
    "                    if event.key == pygame.K_UP:\n",
    "                        self.current_key = 'up'\n",
    "                        if self.current_key == self.allowed_direction or self.allowed_direction == '':\n",
    "                            \n",
    "                            print('Move forward...')\n",
    "                            self.move_forward(speed=1)\n",
    "\n",
    "                if event.type == pygame.KEYUP:\n",
    "                    print('Stop motors...')\n",
    "                    self.stop_motors()\n",
    "\n",
    "            time.sleep(0.1)#Wait for 100ms before next button press\n",
    "\n",
    "    def distance_check(self):\n",
    "        while not self.stop_event.is_set():\n",
    "            print(self.ir_sensor.current_voltage)\n",
    "            if self.ir_sensor.current_voltage > 1.3:\n",
    "                self.allowed_direction = self.map_direction.get(self.last_key, '')\n",
    "                if self.current_key != self.last_key:\n",
    "                    print('Stop motors...')\n",
    "                    self.stop_motors()\n",
    "            else:\n",
    "                self.allowed_direction = ''\n",
    "                self.last_key = self.current_key\n",
    "            time.sleep(0.5)\n",
    "\n",
    "    def move_forward(self, speed=0.8):\n",
    "        self.motor1.forward(speed=speed)\n",
    "        self.motor2.forward(speed=speed)\n",
    "\n",
    "    def move_backward(self, speed=0.8):\n",
    "        self.motor1.backward(speed=speed)\n",
    "        self.motor2.backward(speed=speed)\n",
    "\n",
    "    def move_left(self, speed=0.8):\n",
    "        self.motor1.backward(speed=speed)\n",
    "        #mright.forward(speed=speed)\n",
    "\n",
    "    def move_right(self, speed=0.8):\n",
    "        #mleft.forward(speed=speed)\n",
    "        self.motor2.backward(speed=speed)\n",
    "\n",
    "    def stop_motors(self):\n",
    "        self.motor1.stop()\n",
    "        self.motor2.stop()\n",
    "\n",
    "\n",
    "a = Car(motor_left, motor_right, sensor, cap)\n"
   ]
  },
  {
   "cell_type": "markdown",
   "metadata": {},
   "source": [
    "Ez a klassz képes lesz távolságmérésre, autó vezérlésre és a kamera üzemeltetésére. Az objektum inicializálásával, a kód már várja is a billentyűk lenyomását. "
   ]
  },
  {
   "cell_type": "markdown",
   "metadata": {},
   "source": [
    "## A projekt tesztelése"
   ]
  },
  {
   "cell_type": "markdown",
   "metadata": {},
   "source": [
    "Miután összeszereltük az áramkört és a kódot is megírtuk, amit pl. ```ir_car.py``` név alatt mentettünk el, megnyithatunk a Raspberry Pi operációs rendszerén egy terminált. A terminálban a ```cd 'mappa név'``` paranccsal elnavigálunk abba a mappába, ahova a ```ir_car.py```-t elmentettük. Ott begépelve a ```python ir_car.py``` parancsot, letesztelhetjük a programunk működését. Ha minden jól megy akkor a kód elindítása után vezérelhetjük az autót a billentyűk segítségével, látjuk a kamera képét, valamint ha közel megyünk egy tárgyhoz, az IR szenzor leállítattja a motorokat.\n",
    "\n",
    "Hibaüzenetek esetén ki kell deríteni mi lehetett a probléma, pl. elgépelés, egy modul hiányzik, sorok megfelelő behúzása, idézőjel lemaradása stb. A hibaüzenet legtöbbször segít abban, hogy melyik sorban találta a hibát és hogy mi volt az. Egy kis gyakorlással bele lehet jönni azok értelmezésébe, valamint interneten is rá lehet keresni a hibaüzenet jelentésére és annak lehetséges elhárítására."
   ]
  },
  {
   "cell_type": "markdown",
   "metadata": {},
   "source": [
    "## Mit lehet javítani/továbbfejleszteni?"
   ]
  },
  {
   "cell_type": "markdown",
   "metadata": {},
   "source": [
    "* Írjuk át a kódot úgy, hogy ha a kamera nagy fénymennyiséget észlel, állítsa le a motort, pl. ha pixelek átlag értéke nagyobb mint 100.\n",
    "* Módosítsd a kódot úgy, hogy a *P* billentyű lenyomásával felold a motorokat leállító esemény változót, azaz, ha egy tárgy közelsége miatt megáll az autó, akkor a *P* billentyű lenyomásával újra tud majd mozogni.\n",
    "\n",
    "Írd meg kommentben, hogy szerinted mivel lehetne még feldobni ezt a kis programot!"
   ]
  },
  {
   "cell_type": "markdown",
   "metadata": {},
   "source": [
    "## Referencia"
   ]
  },
  {
   "cell_type": "markdown",
   "metadata": {},
   "source": [
    "1) gpiozero LED - https://gpiozero.readthedocs.io/en/stable/api_output.html#led\n",
    "\n",
    "2) MCP3008 datasheet - https://cdn-shop.adafruit.com/datasheets/MCP3008.pdf\n",
    "\n",
    "3) LM358 datasheet - https://www.ti.com/lit/ds/symlink/lm158-n.pdf , https://components101.com/ics/ic-lm358-pinout-details-datasheet\n",
    "\n",
    "4) gpiozero MCP3008 - https://gpiozero.readthedocs.io/en/stable/api_spi.html\n",
    "\n",
    "5) Fájlok kezelése - https://www.programiz.com/python-programming/file-operation\n",
    "\n",
    "6) Interpolálás - https://docs.scipy.org/doc/scipy/reference/generated/scipy.interpolate.interp1d.html#scipy.interpolate.interp1d\n",
    "\n",
    "7) threading - https://realpython.com/intro-to-python-threading/\n",
    "\n",
    "8) Objektum Orientált Programozás (OOP) - https://realpython.com/python3-object-oriented-programming/#:~:text=Programming%20with%20Python.-,What%20Is%20Object%2DOriented%20Programming%20in%20Python%3F,are%20bundled%20into%20individual%20objects."
   ]
  },
  {
   "cell_type": "markdown",
   "metadata": {},
   "source": [
    "9) Objektum inheritálás - https://www.programiz.com/python-programming/inheritance\n",
    "\n",
    "10) Matplotlib - https://matplotlib.org/stable/tutorials/index.html\n",
    "\n",
    "11) Motor objektum leírása - https://gpiozero.readthedocs.io/en/stable/api_output.html#motor\n",
    "\n",
    "12) L293D driver leírása - https://www.ti.com/lit/ds/symlink/l293.pdf\n",
    "\n",
    "13) Pygame leírása - https://www.pygame.org/news\n",
    "\n",
    "14) Pygame event - https://www.raspberry-pi-geek.com/Archive/2014/05/Pygame-modules-for-interactive-programs\n",
    "\n",
    "15) https://opencv-python-tutroals.readthedocs.io/en/latest/py_tutorials/py_tutorials.html"
   ]
  },
  {
   "cell_type": "code",
   "execution_count": null,
   "metadata": {},
   "outputs": [],
   "source": []
  }
 ],
 "metadata": {
  "kernelspec": {
   "display_name": "Python 3",
   "language": "python",
   "name": "python3"
  },
  "language_info": {
   "codemirror_mode": {
    "name": "ipython",
    "version": 3
   },
   "file_extension": ".py",
   "mimetype": "text/x-python",
   "name": "python",
   "nbconvert_exporter": "python",
   "pygments_lexer": "ipython3",
   "version": "3.7.3"
  },
  "toc": {
   "base_numbering": 1,
   "nav_menu": {},
   "number_sections": true,
   "sideBar": true,
   "skip_h1_title": false,
   "title_cell": "Table of Contents",
   "title_sidebar": "Contents",
   "toc_cell": false,
   "toc_position": {},
   "toc_section_display": true,
   "toc_window_display": false
  }
 },
 "nbformat": 4,
 "nbformat_minor": 2
}
