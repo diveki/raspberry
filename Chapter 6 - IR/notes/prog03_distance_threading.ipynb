{
 "cells": [
  {
   "cell_type": "markdown",
   "metadata": {},
   "source": [
    "# Projekt 3 - Infravörös távolság mérés threadinggel"
   ]
  },
  {
   "cell_type": "markdown",
   "metadata": {},
   "source": [
    "Ha jól megfigyeltétek az eddigi projektjeinket akkor láttátok, hogy az általunk írt kódok sorrendben hajtják végre az utasításokat. Legtöbbször van egy végtelen ciklus, amiben a fő parancsokat végrehajtatjuk, pl. kiolvasni a fotodiódán mért feszültséget. A hátránya ennek a módszernek, hogy emellett más folyamatot nem tudunk végrehajtani.\n",
    "\n",
    "A DC motorok tesztelésénél láthattuk, hogy amikor a terminálból kiadtuk a motornak parancsba, hogy forogjon, az elkezdett forogni és visszakaptuk a terminál fölött az irányítást. A legtöbb esetben, ha mérni vagy vezérelni szeretnénk valamit, örülnénk, ha nem kellene megvárni az irányítás visszanyerésére azt, hogy az elindított folyamat befejeződjön.\n",
    "\n",
    "Pythonban erre használható a ```threading```. Ez lehetővé teszi, hogy két parancs egymástól függetlenül, \"párhuzamosan\" fusson. A valóságban a ```threading``` nem igazi párhuzamos parancs végrehajtás, de egyszerű körülmények között annak tűnhet. \n",
    "\n",
    "Ebben a projektben a távolság mérést egy függvénybe kódoljuk bele és a ```threading``` segítségével elindítjuk és hagyjuk mérni a háttérben, miközben nem veszítjük el a terminál feletti kontrolunkat. "
   ]
  },
  {
   "cell_type": "markdown",
   "metadata": {},
   "source": [
    "## Mit fogsz készíteni?"
   ]
  },
  {
   "cell_type": "markdown",
   "metadata": {},
   "source": [
    "Az elrendezésünk elsősorban egy IR forrásból (LED) és egy szenzorból fog állni, a hozzájuk tartozó ellenállásokkal együtt. A jel digitalizálására egy MCP3008-as ADC-t használunk. Másodsorban bemutatjuk, hogyan lehet a mért jelet felerősíteni a volt tartományba egy LM358-as operációs erősítő és a hozzá tartozó ellenállások segítségével. "
   ]
  },
  {
   "cell_type": "markdown",
   "metadata": {},
   "source": [
    "## Mit tanulsz meg?"
   ]
  },
  {
   "cell_type": "markdown",
   "metadata": {},
   "source": [
    "Az infravörös szenzor elkészítésével a következőket tanulod meg:\n",
    "\n",
    "* Hogyan működik az IR szenzor, hogyan digitalizáljuk az analóg jelet és olvassuk ki azt Pythonból.\n",
    "* Hogyan inicializáljunk egy IR LED-et és MCP3008 ADC-t.\n",
    "* Hogyan kapcsoljuk ki- és be az IR LED-et és hogyan olvassuk ki a szenzor feszültségét az ADC-n keresztül.\n",
    "* Hogyan olvassunk be fájlokat és nyerjük ki belőle az információt.\n",
    "* Hogyan kell interpolálni.\n",
    "* Mi az az ```event```?\n",
    "* Hogyan kell függvényeket elindítani a ```threading``` segítségével."
   ]
  },
  {
   "cell_type": "markdown",
   "metadata": {},
   "source": [
    "## A projekt részletekre bontása"
   ]
  },
  {
   "cell_type": "markdown",
   "metadata": {},
   "source": [
    "* Elkészíteni az áramkört.\n",
    "* Beimportálni és inicializálni a ```LED``` és ```MCP3008``` objektumokat.\n",
    "* Beolvasni a feszültséget távolsággá alakító referencia fájlt.\n",
    "* Definiálni egy függvényt ami folytonosan kiolvassa az ADC-ből a szenzor által mért feszültséget, majd megbecsüli (interpolálja) a távolságot és kinyomtatja a távolságot a képernyőre.\n",
    "* Definiálunk egy függvényt, ami létrehoz egy eseményt ami leállítja a háttérben futó mérést."
   ]
  },
  {
   "cell_type": "markdown",
   "metadata": {},
   "source": [
    "## Áramköri elemek listája"
   ]
  },
  {
   "cell_type": "markdown",
   "metadata": {},
   "source": [
    "a) [Raspberry PI](https://malnapc.hu/yis/raspberry-pi/rpi-panelek) \n",
    "\n",
    "b) IR LED, 940 nm: [itt vásárolhatsz](https://www.tme.eu/hu/details/lte-4206/ir-led-ek/liteon/)\n",
    "\n",
    "c) IR szenzor, 940 nm: [itt vásárolhatsz](https://www.tme.eu/hu/details/bpv10nf/fotodiodak/vishay/)\n",
    "\n",
    "d) [Jumper wires female/male](https://www.ret.hu/shop/product/e-call/jumper-vezetek-szet_53-22-63) \n",
    "\n",
    "e) Ellenállás: [itt vásárolhatsz](https://www.tme.eu/hu/katalog/metal-film-tht-ellenallasok_112313/?s_order=desc&search=ellenallas&s_field=1000011)\n",
    "\n",
    "f) [MCP3008 ADC](https://www.tme.eu/hu/details/mcp3008-i_p/a-d-konverterek-ic-k/microchip-technology/)\n",
    "\n",
    "g) [LM358 operációs erősítő](https://www.tme.eu/hu/details/lm358n_nopb/tht-muveleti-erositok/texas-instruments/)"
   ]
  },
  {
   "cell_type": "markdown",
   "metadata": {},
   "source": [
    "## A kapcsolási rajz"
   ]
  },
  {
   "cell_type": "markdown",
   "metadata": {},
   "source": [
    "<img src=\"bevezeto/prog01_schema.png\" width=600 height=400 />"
   ]
  },
  {
   "cell_type": "markdown",
   "metadata": {},
   "source": [
    "A fenti ábrához hasonlóan kapcsoljuk össze az áramköri elemeket és a Raspberry Pi-t.\n",
    "\n",
    "1) Kössük össze a Raspberry Pi egyik földelését az MCP3008 AGND ás DGND lábaival (fekete drót).\n",
    "\n",
    "2) Kössük az MCP3008 *VDD* és *VREF* nevű lábait a Raspberry Pi 3.3 V-os tüskéjére. \n",
    "\n",
    "3) Kössük az MCP3008 *CLK* nevű lábát a Raspberry Pi *GPIO11* tüskéjére. \n",
    "\n",
    "4) Kössük az MCP3008 *DOUT* nevű lábát a Raspberry Pi *GPIO09* tüskéjére. \n",
    "\n",
    "5) Kössük az MCP3008 *DIN* nevű lábát a Raspberry Pi *GPIO10* tüskéjére.\n",
    "\n",
    "6) Kössük az MCP3008 *CS* nevű lábát a Raspberry Pi *GPIO08* tüskéjére."
   ]
  },
  {
   "cell_type": "markdown",
   "metadata": {},
   "source": [
    "7) Az LM358 erősítő 8-as lábát kössük a Raspberry Pi 3.3 V-os tüskéjére.\n",
    "\n",
    "8) Az LM358 erősítő 4-es és 3-as (nem invertáló) lábát kössük a földelésre (GND) tüskéjére.\n",
    "\n",
    "9) A fotodióda anódját (pozitív, hosszabb láb) kössük szintén a földelésre.\n",
    "\n",
    "10) A fotodióda katódját (negatív, rövidebb láb) kössük az LM358 erősítő 2-es (invertáló) lábára.\n",
    "\n",
    "11) Az LM358 erősítő 2-es (invertáló) és 1-es (kimenet) lába közéiktassunk be egy R1 = 1 MOhmos ellenállást."
   ]
  },
  {
   "cell_type": "markdown",
   "metadata": {},
   "source": [
    "12) Az LM358 erősítő 1-es (kimenet) lábát kössük át a másik oldalon elhelyezkedő erősítő sorának 5-ös (nem invertáló) lábára.\n",
    "\n",
    "13) Az LM358 erősítő 6-os lába (invertáló) és a földelés (GND) közé kössünk be az R2 = 1 kOhm ellenállást.\n",
    "\n",
    "14) Az LM358 erősítő 6-os lába (invertáló) és a 7-es (kimenet) lába közé kössünk be az R3 = 10 kOhm ellenállást. Az R2 és R3 ellenállások ilyen választásával 11-szeres erősítést érhetünk el a jelen."
   ]
  },
  {
   "cell_type": "markdown",
   "metadata": {},
   "source": [
    "15) Az IR LED anódját (pozitív, hosszabb láb) kössük a Raspberry Pi *GPIO02*-es tüskéjére, míg a katódját (negatív, rövidebb láb) kössük sorba egy 200 Ohmos ellenállással.\n",
    "\n",
    "16) A 200 Ohmos ellenállás másik lábát kössük a földelésre (GND)."
   ]
  },
  {
   "cell_type": "markdown",
   "metadata": {},
   "source": [
    "## A kód\n",
    "\n",
    "Nyissunk meg egy új python fájlt és mentsük el pl. ```ir_threading.py``` név alatt. A ```gpiozero``` csomagnak nincs beépített objektuma ami általánosan az IR szenzort tudná kezelni, így mi fogjuk megoldani a szenzorral való kommunikációt."
   ]
  },
  {
   "cell_type": "markdown",
   "metadata": {},
   "source": [
    "### A segédfüggvények"
   ]
  },
  {
   "cell_type": "markdown",
   "metadata": {},
   "source": [
    "Ahhoz, hogy a szenzor által mért feszültséget távolság formájában tudjuk megjeleníteni, szükségünk lesz egy fájlra, ```ir_calibration.csv```, amit előre elkészítünk, és tartalmazza a mért feszültségeket és a hozzá tartozó kimért távolságokat, vesszővel elválasztva. Ha elkészítettük ezt a kalobrációs fájlt, mentsük le az előbb említett név alatt ugyanabba a mappába, ahova a kódot is lementjük. "
   ]
  },
  {
   "cell_type": "markdown",
   "metadata": {},
   "source": [
    "A fő kódban, szükségünk lesz egy függvényre, ```read_2column_files```, amivel be tudjuk olvasni a kalibrációs fájl tartalmát. Ezt a függvényt a ```raspberry_functions.py``` fájlba mentjük el, majd importáljuk a fő programba. Ennek a függvénynek 3 bemenő paramétere van, a ```name``` a fájl neve (vagy abszolút/relatív útvonalat is tartalamzó név), a ```sep``` ami az adatelválasztó karaktert adja meg (általában a ```','```) és végül a ```header``` amivel megadhatjuk, hogy a fájlnak van-e (```True```) fejléce vagy nincs (```False```). Ez a függvény támaszkodik egy másikra is, ```read_temp_raw```, ami a fájlnév alapján vissza adja annak sorait egy listában. "
   ]
  },
  {
   "cell_type": "markdown",
   "metadata": {},
   "source": [
    "```raspberry_functions.py```:"
   ]
  },
  {
   "cell_type": "code",
   "execution_count": 2,
   "metadata": {},
   "outputs": [],
   "source": [
    "# Ez a fuggeny csak beolvassa a fajl tartalmat es annak sorait\n",
    "# egy lista elemeive alakitva azt visszaadja\n",
    "def read_temp_raw(file_name):\n",
    "    f = open(file_name, 'r')\n",
    "    lines = f.readlines()\n",
    "    f.close()\n",
    "    return lines\n",
    "\n",
    "# A read_2column_files beolvassa a ket oszlopos csv fajlt, es annak oszlopait\n",
    "# kimenti ket numpy arraybe\n",
    "def read_2column_files(name, sep=',', header=True): \n",
    "    lines = read_temp_raw(name)   # listaba olvasni a fajl sorait\n",
    "    if header:                    # ha van fejlec azt eltavolitani\n",
    "        lines.pop(0)\n",
    "    distance = []                 # lista inicializalas a tavolsagok tarolasara\n",
    "    voltage = []                  # lista inicializalas a feszultsegek tarolasara\n",
    "    for line in lines:            # vegig lepni az osszes soron\n",
    "        if line.strip() != '':    # ha a kiolvasott sor nem ures\n",
    "            # szetvalasztani a sort a sep valtozo menten pl. sep=','. \n",
    "            # Az igy kapott ket elemet a data valtozoba menteni\n",
    "            data = line.strip().split(sep)   \n",
    "            voltage.append(float(data[0]))   # a data elso elemet adjuk a feszultseg listahoz szamma alakitva, float\n",
    "            distance.append(float(data[1]))  # a data masodik elemet adjuk a tavolsag listahoz szamma alakitva, float\n",
    "    return np.array(voltage), np.array(distance) # adjuk vissza a ket listat numpy array-e alakitva\n"
   ]
  },
  {
   "cell_type": "markdown",
   "metadata": {},
   "source": [
    "A ```read_2column_files``` először beolvassa a megadott fájl tartalmát egy listába, majd megviszgálja, hogy van-e fejléc. Ha igen, akkor azt eltávolítja a listából, ```lines.pop(0)```. Ezután létrehozunk két üres listát a távolságok és a hozzá tartozó feszültségek tárolására. Majd végig lépkedünk a fájl sorait tartalmazó listán ```for line in lines:```. Mielőtt kinyernénk a sorokból a számokat, megnézzük, hogy van-e egyáltalán a sorban valamilyen információ, ```if line.strip() != '':```. Ha a sor nem üres, akkor a két részre választjuk a megadott szeparátor mentén, ```data = line.strip().split(sep)```. Az így kapott lista első elemét a ```voltage``` listához adjuk, miután a sztring formátumot számmá alakítottuk a ```float``` paranccsal. Ugyanezt megtesszük a második elemmel is, csak azt a ```distance``` listához adjuk hozzá. Végül visszaadjuk a két listát miután ```numpy``` array-é alakítottuk."
   ]
  },
  {
   "cell_type": "markdown",
   "metadata": {},
   "source": [
    "### Távolság interpolálás"
   ]
  },
  {
   "cell_type": "markdown",
   "metadata": {},
   "source": [
    "Az ADC konverteren nem feltétlenül mérünk majd olyan feszültségeket, amik a kalibrációs táblázatunkban szerepelnek, így interpolálnunk kell majd."
   ]
  },
  {
   "cell_type": "markdown",
   "metadata": {},
   "source": [
    "#### Interpolálás"
   ]
  },
  {
   "cell_type": "markdown",
   "metadata": {},
   "source": [
    "Az interpoláció matematikai közelítő módszer, amely egy függvény nem ismert értékeire az ismert értékek alapján ad közelítést. Pythonban a ```scipy.interpolate``` csomagból az ```interp1d``` függvényt használjuk, aminél három bemenő paraméter van, a) az új érték(ek) aminél szeretnénk kivizsgálni a függvényt, b) az ismert *x* értékek és a c) hozzá tartozó ismert *y* értékek. "
   ]
  },
  {
   "cell_type": "markdown",
   "metadata": {},
   "source": [
    "Példaként definiáljunk egy parabolát 11 megadott pontban, majd keressük meg a parabola értéket egy új eddig nem használt pontban:"
   ]
  },
  {
   "cell_type": "code",
   "execution_count": 18,
   "metadata": {},
   "outputs": [
    {
     "name": "stdout",
     "output_type": "stream",
     "text": [
      "[93 67 45 27 13  3 -3 -5 -3  3 13]\n"
     ]
    }
   ],
   "source": [
    "from scipy.interpolate import interp1d\n",
    "x = np.array([-5,-4,-3,-2,-1,0,1,2,3,4,5])\n",
    "y = 2*x**2 - 8*x + 3\n",
    "print(y)"
   ]
  },
  {
   "cell_type": "markdown",
   "metadata": {},
   "source": [
    "Felhasználva az ```interp1d``` függvényt az lineáris összefüggést feltételezve az egymást követő pontok között megbecsüli, hogy két definiált közötti új pontnál milyen értéket vesz fel a függvény. Az ```f = interp1d(x, y)``` kifejezés egy függvényt hoz létre, aminek új *x* paramétereket adva kiszámolja, hogy az új helyeken mekkora a függvény értéke. \n",
    "\n",
    "Interpoláláshoz meg kell adnunk új értékeket ```new_x```, amelyekhez tartozó parabolaértékekre kíváncsiak vagyunk. "
   ]
  },
  {
   "cell_type": "code",
   "execution_count": 19,
   "metadata": {},
   "outputs": [
    {
     "data": {
      "text/plain": [
       "array([20.,  0.])"
      ]
     },
     "execution_count": 19,
     "metadata": {},
     "output_type": "execute_result"
    }
   ],
   "source": [
    "f = interp1d(x, y)\n",
    "new_x = np.array([-1.5, 3.5])\n",
    "f(new_x)"
   ]
  },
  {
   "cell_type": "markdown",
   "metadata": {},
   "source": [
    "Szemléltetés miatt, lejjebb bemutatjuk, hogy néz ki az eredeti parabola (kék vonal) és a megbecsült új *x* értékekhez tartozó *y* értékek (piros pontok). Amint láthatjuk, a piros pontok szépen illeszkednek a kék vonalhoz, azaz jó becslést adnak."
   ]
  },
  {
   "cell_type": "code",
   "execution_count": 33,
   "metadata": {},
   "outputs": [
    {
     "data": {
      "text/plain": [
       "<matplotlib.legend.Legend at 0x22180cf41d0>"
      ]
     },
     "execution_count": 33,
     "metadata": {},
     "output_type": "execute_result"
    },
    {
     "data": {
      "image/png": "[encoded data removed]",
      "text/plain": [
       "<Figure size 432x288 with 1 Axes>"
      ]
     },
     "metadata": {
      "needs_background": "light"
     },
     "output_type": "display_data"
    }
   ],
   "source": [
    "import matplotlib.pyplot as plt\n",
    "\n",
    "plt.plot(x,y, 's-', label='parabola')\n",
    "plt.plot(new_x, f(new_x), 'or', label = 'interpolalt ertekek')\n",
    "plt.legend()"
   ]
  },
  {
   "cell_type": "markdown",
   "metadata": {},
   "source": [
    "Az a módszer főleg akkor alkalmazható biztonságosan, ha az eredeti *x* értékek elég közel állnak egymáshoz, azaz a függvény folytonossága nem nagyon törik meg. "
   ]
  },
  {
   "cell_type": "markdown",
   "metadata": {},
   "source": [
    "#### Interpolálás függvény"
   ]
  },
  {
   "cell_type": "markdown",
   "metadata": {},
   "source": [
    "Az újrafelhasználhatóság végett, az interpolálás függvényt is a ```raspberry_functions.py``` fájlba mentjük el, ahonnan majd beimportáljuk a fő programba. Az ```interpolate1d``` nevű függvény három bemenő paramétert vár, az ismert *x* és az *y* értékeket valamint a ```target```, új *x* értékeket, ahol még nem ismert a függvény értéke. A visszaadott érték pedig nem más mint az új *x* értékekhez tartozó *y* értékek. A ```target``` lehet egy szám vagy akár egy numpy array is."
   ]
  },
  {
   "cell_type": "markdown",
   "metadata": {},
   "source": [
    "```raspberry_functions.py```:"
   ]
  },
  {
   "cell_type": "code",
   "execution_count": 4,
   "metadata": {},
   "outputs": [],
   "source": [
    "def interpolate1d(x, y, target):\n",
    "    f = interp1d(x,y)\n",
    "    return f(target)"
   ]
  },
  {
   "cell_type": "markdown",
   "metadata": {},
   "source": [
    "### Az IR LED tesztelése"
   ]
  },
  {
   "cell_type": "markdown",
   "metadata": {},
   "source": [
    "Az infravörös szenzorunk teszteléséhez először be kell importálnunk a ```LED``` és ```MCP3008``` objektumokat. Ezenfelül, beimportáljuk a ```read_2column_files``` és az ```interpolate1d``` függvényeket is a ```raspberry_functions``` modulból. A modul legyen ugyanabban a mappában, mint a fő kódunk. "
   ]
  },
  {
   "cell_type": "markdown",
   "metadata": {},
   "source": [
    "```ir_threading.py```:"
   ]
  },
  {
   "cell_type": "code",
   "execution_count": 1,
   "metadata": {},
   "outputs": [],
   "source": [
    "from gpiozero import LED, MCP3008\n",
    "from raspberry_functions import read_2column_files, interpolate1d"
   ]
  },
  {
   "cell_type": "markdown",
   "metadata": {},
   "source": [
    "A következő lépés letesztelni, hogy sikerül-e kommunikálni az IR LED-del. Ez a LED is pont ugyanolyan, mint a látható tartományban működő társai, így az inicializálása is ugyanúgy működik."
   ]
  },
  {
   "cell_type": "markdown",
   "metadata": {},
   "source": [
    "Az inicializálás után próbáljuk ki az ```.on(), .off(), .blink()``` metódusokat. Sajnos szabad szemmel semmi változást nem fogunk látni a LED-en, de a mobiltelefonunk kameráját a LED-re irányítva már nagyobb sikerünk lehet. Ha megjelenik, egy rózsaszínes folt a LED képén bekapcsoláskor, akkor működik a vezérlés."
   ]
  },
  {
   "cell_type": "markdown",
   "metadata": {},
   "source": [
    "```ir_threading.py```:"
   ]
  },
  {
   "cell_type": "code",
   "execution_count": null,
   "metadata": {},
   "outputs": [],
   "source": [
    "from gpiozero import LED, MCP3008\n",
    "\n",
    "# inicializaljunk egy LEDet\n",
    "\n",
    "ir = LED(2)\n",
    "\n",
    "# teszteljuk, ki be kapcsolassal, villogassal a mukodeset\n",
    "ir.on()\n",
    "ir.off()\n",
    "ir.blink()\n",
    "ir.off()"
   ]
  },
  {
   "cell_type": "markdown",
   "metadata": {},
   "source": [
    "### Az IR szenzor tesztelése"
   ]
  },
  {
   "cell_type": "markdown",
   "metadata": {},
   "source": [
    "Ezek után letesztelhetjük a fotodiódát is. Mivel az analóg jelet ad, azt egy ADC konverterre kellett kötnünk, hogy a Raspberry ki tudja a feszültséget olvasni. Mi itt a 8 csatornás 10 bites konvertert inicializáljuk, ```mcp = MCP3008(channel=7)```. A ```mcp.voltage``` változó meghívásával ki tudjuk olvasni az aktuálisan mért feszültséget. Alapjáraton nem kellene feszültséget mérnie, azaz 0 közeli értéket kellene mutatnia. Viszont, ha az IR LED-et rá irányítjuk, akkor a kiolvasott feszültségnek növekednie kell. Sőt a sima lámpafényt, napfényt vagy kisebb hatásfokkal a mobil flash lámpáját is ráirányíthatjuk. Ezek mindegyike tartalmaz kisebb-nagyobb mértékben infravörös jelet, amit a fotodióda mérhet. "
   ]
  },
  {
   "cell_type": "markdown",
   "metadata": {},
   "source": [
    "```ir_threading.py```:"
   ]
  },
  {
   "cell_type": "code",
   "execution_count": null,
   "metadata": {},
   "outputs": [],
   "source": [
    "from gpiozero import LED, MCP3008\n",
    "\n",
    "# inicializaljunk egy LEDet\n",
    "\n",
    "ir = LED(2)\n",
    "mcp = MCP3008(channel=7)\n",
    "\n",
    "# teszteljuk, ki be kapcsolassal, villogassal a mukodeset\n",
    "ir.on()\n",
    "\n",
    "print(mcp.voltage)"
   ]
  },
  {
   "cell_type": "markdown",
   "metadata": {},
   "source": [
    "### A threading"
   ]
  },
  {
   "cell_type": "code",
   "execution_count": 5,
   "metadata": {},
   "outputs": [
    {
     "name": "stdout",
     "output_type": "stream",
     "text": [
      "Az 1 feladat inditasa...\n",
      "kesz\n",
      "Az 2 feladat inditasa...\n",
      "kesz\n",
      "Az 3 feladat inditasa...\n",
      "kesz\n",
      "Az 4 feladat inditasa...\n",
      "kesz\n",
      "Az 5 feladat inditasa...\n",
      "kesz\n",
      "Az 6 feladat inditasa...\n",
      "kesz\n",
      "Az 7 feladat inditasa...\n",
      "kesz\n",
      "Az 8 feladat inditasa...\n",
      "kesz\n",
      "Az 9 feladat inditasa...\n",
      "kesz\n",
      "Az 10 feladat inditasa...\n",
      "kesz\n",
      " 10.12 masodpercbe telt befejezni.\n"
     ]
    }
   ],
   "source": [
    "from time import sleep, perf_counter\n",
    "\n",
    "def task(id):\n",
    "    print(f'Az {id} feladat inditasa...')\n",
    "    sleep(1)\n",
    "    print('kesz')\n",
    "\n",
    "\n",
    "start_time = perf_counter()\n",
    "\n",
    "for n in range(1, 11):\n",
    "    task(n)\n",
    "\n",
    "\n",
    "end_time = perf_counter()\n",
    "\n",
    "print(f'{end_time- start_time: 0.2f} masodpercbe telt befejezni.')"
   ]
  },
  {
   "cell_type": "code",
   "execution_count": 3,
   "metadata": {},
   "outputs": [
    {
     "name": "stdout",
     "output_type": "stream",
     "text": [
      "Az 1 feladat inditasa...Az 2 feladat inditasa...\n",
      "\n",
      "Az 3 feladat inditasa...\n",
      "Az 4 feladat inditasa...\n",
      "Az 5 feladat inditasa...\n",
      "Az 6 feladat inditasa...Az 7 feladat inditasa...\n",
      "Az 8 feladat inditasa...\n",
      "\n",
      "Az 9 feladat inditasa...\n",
      "Az 10 feladat inditasa...\n",
      "keszkesz\n",
      "\n",
      "keszkesz\n",
      "kesz\n",
      "\n",
      "keszkeszkeszkesz\n",
      "\n",
      "\n",
      "\n",
      "kesz\n",
      " 1.06 masodpercbe telt befejezni.\n"
     ]
    }
   ],
   "source": [
    "import threading\n",
    "\n",
    "\n",
    "def task(id):\n",
    "    print(f'Az {id} feladat inditasa...')\n",
    "    sleep(1)\n",
    "    print('kesz')\n",
    "\n",
    "\n",
    "start_time = perf_counter()\n",
    "\n",
    "# create and start 10 threads\n",
    "threads = []\n",
    "for n in range(1, 11):\n",
    "    t = threading.Thread(target=task, args=(n,))\n",
    "    threads.append(t)\n",
    "    t.start()\n",
    "\n",
    "# wait for the threads to complete\n",
    "for t in threads:\n",
    "    t.join()\n",
    "\n",
    "end_time = perf_counter()\n",
    "\n",
    "print(f'{end_time- start_time: 0.2f} masodpercbe telt befejezni.')"
   ]
  },
  {
   "cell_type": "markdown",
   "metadata": {},
   "source": [
    "#### A ```start``` függvény a mérés threadingben indítására"
   ]
  },
  {
   "cell_type": "code",
   "execution_count": 1,
   "metadata": {},
   "outputs": [],
   "source": [
    "def start(event):\n",
    "\tprint('Measurement started')\n",
    "\twhile not event.is_set():\n",
    "\t\tcurrent_voltage = mcp.voltage\n",
    "\t\tcurrent_distance = interpolate1d(volt, distance, current_voltage)\n",
    "\t\tprint(f'Current distance from object is: {current_distance:.2} cm')\n",
    "\t\ttime.sleep(1)"
   ]
  },
  {
   "cell_type": "markdown",
   "metadata": {},
   "source": [
    "#### A ```stop``` függvény a mérés threadingben megállítására"
   ]
  },
  {
   "cell_type": "code",
   "execution_count": 2,
   "metadata": {},
   "outputs": [],
   "source": [
    "def stop(event):\n",
    "\tevent.set()\n",
    "\tprint('Measurement is stopped')"
   ]
  },
  {
   "cell_type": "markdown",
   "metadata": {},
   "source": [
    "### A mért távolság lekódolása"
   ]
  },
  {
   "cell_type": "markdown",
   "metadata": {},
   "source": [
    "Miután inicializáltuk és leteszteltük a szenzorunk működését, beolvassuk a kalibrációs fájl tartalmát. A ```calib_file``` változóba elmentjük a fájlunk nevét (figyeljünk oda, hogy legyen a fájl ugyanabban a mappában mint ez a kód). Ezután felhasználjuk a ```read_2column_files``` segédfüggvényt, hogy kiolvassuk a kalibrációs fájl tartalmát. A ```volt``` változóba tároljuk az előre lemért feszültségeket és a ```distance``` változóba a hozzájuk tartozó távolságokat. A függvény ```header``` paraméterét aszerint állítsuk be, hogy van-e fejléc vagy sem. "
   ]
  },
  {
   "cell_type": "markdown",
   "metadata": {},
   "source": [
    "Indítsunk el egy végtelen ```while``` ciklust, amiben folyamatosan kiolvassuk a szenzor által mért feszültségeket, ```current_voltage = mcp.voltage```. Az így kapott értéket adjuk bemenő paraméterként a kalibrációs értékek mellett az interpoláló függvénynek, ```current_distance = interpolate1d(volt, distance, current_voltage)```, hogy meghatározzuk, mekkora távolság tartozik a mért feszültséghez. Végül kiíratjuk a kapott távolságot a képernyőre, ```print(f'Current distance from object is: {current_distance:.2} cm')```. "
   ]
  },
  {
   "cell_type": "markdown",
   "metadata": {},
   "source": [
    "```ir_threading.py```:"
   ]
  },
  {
   "cell_type": "code",
   "execution_count": 51,
   "metadata": {},
   "outputs": [],
   "source": [
    "import threading\n",
    "import time\n",
    "from gpiozero import LED, MCP3008\n",
    "from raspberry_functions import read_2column_files, interpolate1d\n",
    "\n",
    "ir = LED(2)\n",
    "mcp = MCP3008(channel=7)\n",
    "\n",
    "calib_file = 'ir_calibration.csv'\n",
    "volt, distance = read_2column_files(calib_file, header=True)\n",
    "\n",
    "def start(event):\n",
    "\tprint('Measurement started')\n",
    "\twhile not event.is_set():\n",
    "\t\tcurrent_voltage = mcp.voltage\n",
    "\t\tcurrent_distance = interpolate1d(volt, distance, current_voltage)\n",
    "\t\tprint(f'Current distance from object is: {current_distance:.2} cm')\n",
    "\t\ttime.sleep(1)\n",
    "\t\t\n",
    "def stop(event):\n",
    "\tevent.set()\n",
    "\tprint('Measurement is stopped')\n",
    "\t\n",
    "\n",
    "kill = threading.Event()\n",
    "t = threading.Thread(target=start, args=(kill,))\n",
    "t.start()\n",
    "time.sleep(6)\n",
    "stop(kill)\n",
    "t.join()\n"
   ]
  },
  {
   "cell_type": "markdown",
   "metadata": {},
   "source": [
    "Ha a program működik és fut, a ```CTRL+C``` billentyűpárral tudjuk leállítani."
   ]
  },
  {
   "cell_type": "markdown",
   "metadata": {},
   "source": [
    "## A projekt tesztelése"
   ]
  },
  {
   "cell_type": "markdown",
   "metadata": {},
   "source": [
    "Miután összeszereltük az áramkört és a kódot is megírtuk, amit pl. ```ir_threading.py``` név alatt mentettünk el, megnyithatunk a Raspberry Pi operációs rendszerén egy terminált. A terminálban a ```cd 'mappa név'``` paranccsal elnavigálunk abba a mappába, ahova a ```ir_threading.py```-t elmentettük. Ott begépelve a ```python ir_threading.py``` parancsot, letesztelhetjük a programunk működését. Ha minden jól megy akkor a terminálból el tudjuk indítani a mérést úgy, hogy visszakapjuk a terminál felett az irányításunk.\n",
    "\n",
    "Hibaüzenetek esetén ki kell deríteni mi lehetett a probléma, pl. elgépelés, egy modul hiányzik, sorok megfelelő behúzása, idézőjel lemaradása stb. A hibaüzenet legtöbbször segít abban, hogy melyik sorban találta a hibát és hogy mi volt az. Egy kis gyakorlással bele lehet jönni azok értelmezésébe, valamint interneten is rá lehet keresni a hibaüzenet jelentésére és annak lehetséges elhárítására."
   ]
  },
  {
   "cell_type": "markdown",
   "metadata": {},
   "source": [
    "## Mit lehet javítani/továbbfejleszteni?"
   ]
  },
  {
   "cell_type": "markdown",
   "metadata": {},
   "source": [
    "* Módosítsuk a kódot úgy, hogy csak minden 10-ik ciklusban írja ki a távolságot.\n",
    "* Módosítsuk a ```start``` függvényt, hogy elindítása után 10 másodperccel egy esemény leállítsa.\n",
    "\n",
    "Írd meg kommentben, hogy szerinted mivel lehetne még feldobni ezt a kis programot!"
   ]
  },
  {
   "cell_type": "markdown",
   "metadata": {},
   "source": [
    "## Referencia"
   ]
  },
  {
   "cell_type": "markdown",
   "metadata": {},
   "source": [
    "1) gpiozero LED - https://gpiozero.readthedocs.io/en/stable/api_output.html#led\n",
    "\n",
    "2) MCP3008 datasheet - https://cdn-shop.adafruit.com/datasheets/MCP3008.pdf\n",
    "\n",
    "3) LM358 datasheet - https://www.ti.com/lit/ds/symlink/lm158-n.pdf , https://components101.com/ics/ic-lm358-pinout-details-datasheet\n",
    "\n",
    "4) gpiozero MCP3008 - https://gpiozero.readthedocs.io/en/stable/api_spi.html\n",
    "\n",
    "5) Fájlok kezelése - https://www.programiz.com/python-programming/file-operation\n",
    "\n",
    "6) Interpolálás - https://docs.scipy.org/doc/scipy/reference/generated/scipy.interpolate.interp1d.html#scipy.interpolate.interp1d\n",
    "\n",
    "7) threading - https://realpython.com/intro-to-python-threading/"
   ]
  },
  {
   "cell_type": "code",
   "execution_count": null,
   "metadata": {},
   "outputs": [],
   "source": []
  }
 ],
 "metadata": {
  "kernelspec": {
   "display_name": "Python 3",
   "language": "python",
   "name": "python3"
  },
  "language_info": {
   "codemirror_mode": {
    "name": "ipython",
    "version": 3
   },
   "file_extension": ".py",
   "mimetype": "text/x-python",
   "name": "python",
   "nbconvert_exporter": "python",
   "pygments_lexer": "ipython3",
   "version": "3.7.3"
  },
  "toc": {
   "base_numbering": 1,
   "nav_menu": {},
   "number_sections": true,
   "sideBar": true,
   "skip_h1_title": false,
   "title_cell": "Table of Contents",
   "title_sidebar": "Contents",
   "toc_cell": false,
   "toc_position": {},
   "toc_section_display": true,
   "toc_window_display": false
  }
 },
 "nbformat": 4,
 "nbformat_minor": 2
}
