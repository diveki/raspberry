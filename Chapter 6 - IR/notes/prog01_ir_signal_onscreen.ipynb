{
 "cells": [
  {
   "cell_type": "markdown",
   "metadata": {},
   "source": [
    "# Projekt 1 - Infravörös jel kiolvasása"
   ]
  },
  {
   "cell_type": "markdown",
   "metadata": {},
   "source": [
    "Első projektünkben megismerkedünk az IR LED-del és IR szenzorral és, hogy hogyan tudunk belőlük pythonon keresztül információt kinyerni. Ennek első feltétele, hogy hogy beiktassunk egy analóg digitál átalakítót (ADC), ugyanis az IR szenzor analóg jelet ad, viszont a Rasperry Pi csak digitális jelet tud olvasni. \n",
    "\n",
    "Készítünk egy áramkört, ahol egy IR LED-et tudunk vezérelni (ki- és bekapcsolni), illetve elhelyezünk a közelében egy szenzort, amit egy ADC-re kapcsolva olvasunk. A szenzoron keletkező feszültséget pedig kinyomtatjuk a képernyőre. \n",
    "\n",
    "Mivel könnyen előfordulhat, hogy a szenzor által adott jel nagyon alacsony, a mV tartományba eshet, ezért megnézzük, hogy lehet operációs erősítőt használva felerősíteni a mért jelet."
   ]
  },
  {
   "cell_type": "markdown",
   "metadata": {},
   "source": [
    "## Mit fogsz készíteni?"
   ]
  },
  {
   "cell_type": "markdown",
   "metadata": {},
   "source": [
    "Az elrendezésünk elsősorban egy IR forrásból (LED) és egy szenzorból fog állni, a hozzájuk tartozó ellenállásokkal együtt. A jel digitalizálására egy MCP3008-as ADC-t használunk. Másodsorban bemutatjuk, hogyan lehet a mért jelet felerősíteni a volt tartományba egy LM358-as operációs erősítő és a hozzá tartozó ellenállások segítségével. "
   ]
  },
  {
   "cell_type": "markdown",
   "metadata": {},
   "source": [
    "## Mit tanulsz meg?"
   ]
  },
  {
   "cell_type": "markdown",
   "metadata": {},
   "source": [
    "Az infravörös szenzor elkészítésével a következőket tanulod meg:\n",
    "\n",
    "* Hogyan működik az IR szenzor, hogyan digitalizáljuk az analóg jelet és olvassuk ki azt Pythonból.\n",
    "* Hogyan inicializáljunk egy IR LED-et és MCP3008 ADC-t.\n",
    "* Hogyan kapcsoljuk ki- és be az IR LED-et és hogyan olvassuk ki a szenzor feszültségét az ADC-n keresztül."
   ]
  },
  {
   "cell_type": "markdown",
   "metadata": {},
   "source": [
    "## A projekt részletekre bontása"
   ]
  },
  {
   "cell_type": "markdown",
   "metadata": {},
   "source": [
    "* Elkészíteni az áramkört.\n",
    "* Beimportálni és inicializálni a ```LED``` és ```MCP3008``` objektumokat.\n",
    "* Ki- és bekapcsolni a LED-et.\n",
    "* Kiolvasni az ADC-ből a szenzor által mért feszültséget.\n",
    "* Kinyomtatni azt a képernyőre."
   ]
  },
  {
   "cell_type": "markdown",
   "metadata": {},
   "source": [
    "## Áramköri elemek listája"
   ]
  },
  {
   "cell_type": "markdown",
   "metadata": {},
   "source": [
    "a) [Raspberry PI](https://malnapc.hu/yis/raspberry-pi/rpi-panelek) \n",
    "\n",
    "b) IR LED, 940 nm: [itt vásárolhatsz](https://www.tme.eu/hu/details/lte-4206/ir-led-ek/liteon/)\n",
    "\n",
    "c) IR szenzor, 940 nm: [itt vásárolhatsz](https://www.tme.eu/hu/details/bpv10nf/fotodiodak/vishay/)\n",
    "\n",
    "d) [Jumper wires female/male](https://www.ret.hu/shop/product/e-call/jumper-vezetek-szet_53-22-63) \n",
    "\n",
    "e) Ellenállás: [itt vásárolhatsz](https://www.tme.eu/hu/katalog/metal-film-tht-ellenallasok_112313/?s_order=desc&search=ellenallas&s_field=1000011)\n",
    "\n",
    "f) [MCP3008 ADC](https://www.tme.eu/hu/details/mcp3008-i_p/a-d-konverterek-ic-k/microchip-technology/)\n",
    "\n",
    "g) [LM358 operációs erősítő](https://www.tme.eu/hu/details/lm358n_nopb/tht-muveleti-erositok/texas-instruments/)"
   ]
  },
  {
   "cell_type": "markdown",
   "metadata": {},
   "source": [
    "## A kapcsolási rajz"
   ]
  },
  {
   "cell_type": "markdown",
   "metadata": {},
   "source": [
    "<img src=\"bevezeto/prog01_schema.png\" width=600 height=400 />"
   ]
  },
  {
   "cell_type": "markdown",
   "metadata": {},
   "source": [
    "A fenti ábrához hasonlóan kapcsoljuk össze az áramköri elemeket és a Raspberry Pi-t.\n",
    "\n",
    "1) Kössük össze a Raspberry Pi egyik földelését az MCP3008 AGND ás DGND lábaival (fekete drót).\n",
    "\n",
    "2) Kössük az MCP3008 *VDD* és *VREF* nevű lábait a Raspberry Pi 3.3 V-os tüskéjére. \n",
    "\n",
    "3) Kössük az MCP3008 *CLK* nevű lábát a Raspberry Pi *GPIO11* tüskéjére. \n",
    "\n",
    "4) Kössük az MCP3008 *DOUT* nevű lábát a Raspberry Pi *GPIO09* tüskéjére. \n",
    "\n",
    "5) Kössük az MCP3008 *DIN* nevű lábát a Raspberry Pi *GPIO10* tüskéjére.\n",
    "\n",
    "6) Kössük az MCP3008 *CS* nevű lábát a Raspberry Pi *GPIO08* tüskéjére."
   ]
  },
  {
   "cell_type": "markdown",
   "metadata": {},
   "source": [
    "7) Az LM358 erősítő 8-as lábát kössük a Raspberry Pi 3.3 V-os tüskéjére.\n",
    "\n",
    "8) Az LM358 erősítő 4-es és 3-as (nem invertáló) lábát kössük a földelésre (GND) tüskéjére.\n",
    "\n",
    "9) A fotodióda anódját (pozitív, hosszabb láb) kössük szintén a földelésre.\n",
    "\n",
    "10) A fotodióda katódját (negatív, rövidebb láb) kössük az LM358 erősítő 2-es (invertáló) lábára.\n",
    "\n",
    "11) Az LM358 erősítő 2-es (invertáló) és 1-es (kimenet) lába közéiktassunk be egy R1 = 1 MOhmos ellenállást."
   ]
  },
  {
   "cell_type": "markdown",
   "metadata": {},
   "source": [
    "12) Az LM358 erősítő 1-es (kimenet) lábát kössük át a másik oldalon elhelyezkedő erősítő sorának 5-ös (nem invertáló) lábára.\n",
    "\n",
    "13) Az LM358 erősítő 6-os lába (invertáló) és a földelés (GND) közé kössünk be az R2 = 1 kOhm ellenállást.\n",
    "\n",
    "14) Az LM358 erősítő 6-os lába (invertáló) és a 7-es (kimenet) lába közé kössünk be az R3 = 10 kOhm ellenállást. Az R2 és R3 ellenállások ilyen választásával 11-szeres erősítést érhetünk el a jelen."
   ]
  },
  {
   "cell_type": "markdown",
   "metadata": {},
   "source": [
    "15) Az IR LED anódját (pozitív, hosszabb láb) kössük a Raspberry Pi *GPIO02*-es tüskéjére, míg a katódját (negatív, rövidebb láb) kössük sorba egy 200 Ohmos ellenállással.\n",
    "\n",
    "16) A 200 Ohmos ellenállás másik lábát kössük a földelésre (GND)."
   ]
  },
  {
   "cell_type": "markdown",
   "metadata": {},
   "source": [
    "## A kód\n",
    "\n",
    "Nyissunk meg egy új python fájlt és mentsük el pl. ```ds18b20_test.py``` név alatt. A ```gpiozero``` csomagnak nincs beépített objektuma ami általánosan a thermisztorokkat tudná kezelni, így minden egyes thermisztorhoz nekünk kell megoldani a szoftveres kommunikációt az adott eszközzel."
   ]
  },
  {
   "cell_type": "markdown",
   "metadata": {},
   "source": [
    "### A DS18b20 hőmérséklet fájljának előkészítése"
   ]
  },
  {
   "cell_type": "markdown",
   "metadata": {},
   "source": [
    "Miután elkészítettük az áramkört, meg kell írnunk a kódot ami utasítja a Raspberry Pi-t, a hőmérséklet kiolvasására.\n",
    "\n",
    "Mint tudjuk a hőmérséklet értékeket a Raspberry egy kernel parancs elindításával fogja majd a *w1_slave* nevű fájlban tárolni. Első lépésként így be kell olvasnunk azokat a csomagokat, amik lehetővé teszik, hogy parancsokat hajtsunk végre a terminálban. Ezért beimportáljuk az ```os```, ```glob``` és ```time```  csomagokat. Az első segít, hogy parancsokat futtassunk az operációs rendszerben, a második pedig, hogy a dájlrendszerben keresgessünk fájlokat."
   ]
  },
  {
   "cell_type": "markdown",
   "metadata": {},
   "source": [
    "```ds18b20_test.py```:"
   ]
  },
  {
   "cell_type": "code",
   "execution_count": 1,
   "metadata": {},
   "outputs": [],
   "source": [
    "import os\n",
    "import glob\n",
    "import time"
   ]
  },
  {
   "cell_type": "markdown",
   "metadata": {},
   "source": [
    "Le kell futtatnunk a ```modprobe w1-gpio``` és a ```modprobe w1-therm``` parancsokat a terminálból, amire a python ```os.system``` parancsát fogjuk használni. Evvel a python paranccsal tudunk a terminálban bármilyen parancsot lefuttatni. "
   ]
  },
  {
   "cell_type": "markdown",
   "metadata": {},
   "source": [
    "```ds18b20_test.py```:"
   ]
  },
  {
   "cell_type": "code",
   "execution_count": null,
   "metadata": {},
   "outputs": [],
   "source": [
    "import os\n",
    "import glob\n",
    "import time\n",
    " \n",
    "os.system('modprobe w1-gpio')\n",
    "os.system('modprobe w1-therm')"
   ]
  },
  {
   "cell_type": "markdown",
   "metadata": {},
   "source": [
    "Miután a fenti parancsok lefutottak, a Raspberry Pi operációs rendszerében a ```/sys/bus/w1/devices/``` útvonalon meg kell jelenjen a szenzorunk mappája. Ennek a szenzornak az azonosítója, 28-cal kezdődik, így szeretnénk a 28-cal kezdődőelemeket elmenteni egy python változóba. Erre használjuk a ```glob``` csomagot. A ```glob.glob``` metódusának argumentumába írt stringre fog rákeresni a megadott mappában. Itt lehet használni a unix rendszerben használatos wildcard szimbólumokat.\n",
    "\n",
    "Nézzünk néhány keresési példát. A ```*``` wildcard bármilyen hosszúságú és bármilyen karakterű string egyezést keres. Tehát, ha listázni szeretnénk, hogy a jelenlegi mappánkban mi található, akkor argumentumként a ```'*'```-t adjuk be."
   ]
  },
  {
   "cell_type": "code",
   "execution_count": 2,
   "metadata": {},
   "outputs": [
    {
     "data": {
      "text/plain": [
       "['bevezeto', 'prog01_temperature_onscreen.ipynb', 'Thermistor_bevezeto.ipynb']"
      ]
     },
     "execution_count": 2,
     "metadata": {},
     "output_type": "execute_result"
    }
   ],
   "source": [
    "glob.glob('*')"
   ]
  },
  {
   "cell_type": "markdown",
   "metadata": {},
   "source": [
    "Ha arra vagyunk kíváncsiak, hogy egy szintel feljebb a mappákban milyen fájlok/mappák vannak amik *p*-vel kezdődnek akkor:"
   ]
  },
  {
   "cell_type": "code",
   "execution_count": 5,
   "metadata": {},
   "outputs": [
    {
     "data": {
      "text/plain": [
       "['..\\\\prog01_temperature_humidity_onscreen.py',\n",
       " '..\\\\prog02_temperature_save_to_file.py',\n",
       " '..\\\\prog031_temperature_continuous_plot.py',\n",
       " '..\\\\prog03_temperature_plot.py',\n",
       " '..\\\\prog041_temperature_led_with_datareading.py',\n",
       " '..\\\\prog04_temperature_led.py',\n",
       " '..\\\\prog05_temperature_button.py',\n",
       " '..\\\\prog06_temperature_motor_fan.py',\n",
       " '..\\\\prog07_temperature_motor_fan_webpage.py']"
      ]
     },
     "execution_count": 5,
     "metadata": {},
     "output_type": "execute_result"
    }
   ],
   "source": [
    "glob.glob('../p*')"
   ]
  },
  {
   "cell_type": "markdown",
   "metadata": {},
   "source": [
    "A mi konkrét esetünkben egy olyan mappát keresünk aminek a neve *28*-cal kezdődik. Ezt a ```glob.glob(base_dir + '28*')``` paranccsal tudjuk listázni. A válasz (feltehetőleg) egy egy elemű lista lesz, így, hogy magát a stringet kapjuk vissza, hivatkozni kell a lista 0-ik elemére, ```device_folder = glob.glob(base_dir + '28*')[0]```. Most már elmenthetjük egy változóba annak a fájlnak a pontos útvonal meghatározását, amiből a hőmérsékleteket szeretnénk majd kiolvasni, ```device_file = device_folder + '/w1_slave'```."
   ]
  },
  {
   "cell_type": "markdown",
   "metadata": {},
   "source": [
    "```ds18b20_test.py```:"
   ]
  },
  {
   "cell_type": "code",
   "execution_count": null,
   "metadata": {},
   "outputs": [],
   "source": [
    "import os\n",
    "import glob\n",
    "import time\n",
    " \n",
    "os.system('modprobe w1-gpio')\n",
    "os.system('modprobe w1-therm')\n",
    " \n",
    "base_dir = '/sys/bus/w1/devices/'\n",
    "device_folder = glob.glob(base_dir + '28*')[0]\n",
    "device_file = device_folder + '/w1_slave'"
   ]
  },
  {
   "cell_type": "markdown",
   "metadata": {},
   "source": [
    "A ```device_file``` lesz a bemenő paraméter az ```open``` parancshoz, ami ki tudja majd olvasni a ```w1_slave``` fájl tartalmát. "
   ]
  },
  {
   "cell_type": "markdown",
   "metadata": {},
   "source": [
    "### A w1_slave fájl tartalmának beolvasása"
   ]
  },
  {
   "cell_type": "markdown",
   "metadata": {},
   "source": [
    "Egy függvényt írunk majd a fájl tartalmának kiolvasására, de ahhoz előbb meg kell ismerkednünk az ```open``` paranccsal."
   ]
  },
  {
   "cell_type": "markdown",
   "metadata": {},
   "source": [
    "#### Az open parancs"
   ]
  },
  {
   "cell_type": "markdown",
   "metadata": {},
   "source": [
    "Az ```open``` parancs szolgál arra, hogy a fájlrendszerben elmentett fájlok tartalmát be tudjuk olvasni a pythonba vagy esetleg pythonból töltsük meg egy fájlt tartalommal. Használata egyszerű, meg kell adni a fájl helyét és nevét a fájlrendzserben és meg kell adni, hogy már létező fájlt szeretnénk-e beolvasni (```r```), szeretnénk-e létrehozni egyet és megtölteni tartalommal (```w```) vagy esetleg a már létező fájl tartalmát szeretnénk kibővíteni (```a```)."
   ]
  },
  {
   "cell_type": "code",
   "execution_count": null,
   "metadata": {},
   "outputs": [],
   "source": [
    "f = open('filename', 'r') # beolvasásra megnyit egy fájlt\n",
    "f = open('filename', 'w') # új fájl létrehozása\n",
    "f = open('filename', 'a') # egy létező fájl tartalmának kibővítése"
   ]
  },
  {
   "cell_type": "markdown",
   "metadata": {},
   "source": [
    "Hozzunk létre először egy fájlt és adjunk neki tartalmat a ```write``` metódussal. "
   ]
  },
  {
   "cell_type": "code",
   "execution_count": 17,
   "metadata": {},
   "outputs": [],
   "source": [
    "file = open('testfile.txt','w') \n",
    " \n",
    "file.write('Hello World\\n') \n",
    "file.write('Felkészultel a homerseklet kiolvasasara?\\n') \n",
    "file.write('Lehet tobb sort is be kellene olvasni.\\n') \n",
    "file.write('Jo buli lesz.') \n",
    " \n",
    "file.close() "
   ]
  },
  {
   "cell_type": "markdown",
   "metadata": {},
   "source": [
    "Itt létrehoztunk egy ```testfile.txt``` nevű fájlt az aktuális mappánkban. A ```write``` metódussal megtöltöttük a fájlt tartalommal. Minden egyes ```write``` parancs ott folytattja a fájl tartalmát ahol az előző abbahagyta. Ha azt szeretnénk, hogy a szövegek új sorba kerüljenek, akkor azt a ```\\n``` karakterekkel jelezhetjük. Végül fontos, hogy a kommunikációs csatornát, azaz magát a fájlt is lezárjuk, ```file.close()```, különben a fájlrendszer azt hiszi, hogy még mindig fel szeretnénk tölteni tartalommal és nem lehetne rajta műveleteket végezni. **FONTOS: mindig zárjuk be az open-nel megnyitott kommunikációs csatornákat, ha végeztünk**. \n",
    "\n",
    "Most olvassuk be ennek a fáljnak a tartalmát és tároljuk el egy változóban."
   ]
  },
  {
   "cell_type": "code",
   "execution_count": 44,
   "metadata": {},
   "outputs": [
    {
     "data": {
      "text/plain": [
       "'Hello World\\n'"
      ]
     },
     "execution_count": 44,
     "metadata": {},
     "output_type": "execute_result"
    }
   ],
   "source": [
    "file = open('testfile.txt','r')\n",
    "file.readline()"
   ]
  },
  {
   "cell_type": "markdown",
   "metadata": {},
   "source": [
    "Amint láthatjuk, a ```readline``` metódus csak egy sort olvasott be. Ha a teljes fájl be akarjuk olvasni akkor a ```read``` metódust kell használni (ügyeljünk arra, hogy ebben az esetben maga a fájl mérete nem nagy (Giga Byte), különben nagyon megterheli a számítógépet). "
   ]
  },
  {
   "cell_type": "code",
   "execution_count": 45,
   "metadata": {},
   "outputs": [
    {
     "data": {
      "text/plain": [
       "'Felkészultel a homerseklet kiolvasasara?\\nLehet tobb sort is be kellene olvasni.\\nJo buli lesz.'"
      ]
     },
     "execution_count": 45,
     "metadata": {},
     "output_type": "execute_result"
    }
   ],
   "source": [
    "file.read()"
   ]
  },
  {
   "cell_type": "markdown",
   "metadata": {},
   "source": [
    "Mivel egy sort már beolvastunk a ```readline``` metódussal, a ```read``` csak a maradék részt olvassa be, ugyanis az olvasás pozíciója elmozdult a fájl elejéről, 0 pozíció. Ha szeretnénk a fájl elejére visszatenni az olvasási pozíciót akkor a ```seek``` metódust kell használnunk és bemenő paraméterként a 0 pozíciót kell megadni."
   ]
  },
  {
   "cell_type": "code",
   "execution_count": 48,
   "metadata": {},
   "outputs": [
    {
     "data": {
      "text/plain": [
       "0"
      ]
     },
     "execution_count": 48,
     "metadata": {},
     "output_type": "execute_result"
    }
   ],
   "source": [
    "file.seek(0)"
   ]
  },
  {
   "cell_type": "markdown",
   "metadata": {},
   "source": [
    "A ```readlines``` parancs listába tárolja a beolvasott teljes tartalmat, ahol a lista elemei a beolvasott sorok."
   ]
  },
  {
   "cell_type": "code",
   "execution_count": 49,
   "metadata": {},
   "outputs": [
    {
     "data": {
      "text/plain": [
       "['Hello World\\n',\n",
       " 'Felkészultel a homerseklet kiolvasasara?\\n',\n",
       " 'Lehet tobb sort is be kellene olvasni.\\n',\n",
       " 'Jo buli lesz.']"
      ]
     },
     "execution_count": 49,
     "metadata": {},
     "output_type": "execute_result"
    }
   ],
   "source": [
    "file.readlines()"
   ]
  },
  {
   "cell_type": "code",
   "execution_count": 50,
   "metadata": {},
   "outputs": [],
   "source": [
    "file.close()"
   ]
  },
  {
   "cell_type": "markdown",
   "metadata": {},
   "source": [
    "Ha befejeztük a fájl olvasását, ismét zárjuk be a kommunikációs csatornát a ```close``` metódussal. "
   ]
  },
  {
   "cell_type": "markdown",
   "metadata": {},
   "source": [
    "#### Függvény a fájl beolvasására"
   ]
  },
  {
   "cell_type": "markdown",
   "metadata": {},
   "source": [
    "Ezek után már egyszerű írni egy függvényt, ami kiolvassa a a bemenő paraméterként megadott fájl tartalmát:"
   ]
  },
  {
   "cell_type": "code",
   "execution_count": 51,
   "metadata": {},
   "outputs": [],
   "source": [
    "def read_temp_raw(file_name):\n",
    "    f = open(file_name, 'r')\n",
    "    lines = f.readlines()\n",
    "    f.close()\n",
    "    return lines"
   ]
  },
  {
   "cell_type": "code",
   "execution_count": 52,
   "metadata": {},
   "outputs": [
    {
     "data": {
      "text/plain": [
       "['Hello World\\n',\n",
       " 'Felkészultel a homerseklet kiolvasasara?\\n',\n",
       " 'Lehet tobb sort is be kellene olvasni.\\n',\n",
       " 'Jo buli lesz.']"
      ]
     },
     "execution_count": 52,
     "metadata": {},
     "output_type": "execute_result"
    }
   ],
   "source": [
    "read_temp_raw('testfile.txt')"
   ]
  },
  {
   "cell_type": "markdown",
   "metadata": {},
   "source": [
    "### A hőmérséklet kinyerése a beolvasott fájlból"
   ]
  },
  {
   "cell_type": "markdown",
   "metadata": {},
   "source": [
    "Miután képesek vagyunk beolvasni a fájl tartalmát egy python változóba, ki kell nyernünk a hőmérsékletet az ott tárolt információkból. A kiolvasott fájl kb. ezt a szerkezetet fogja felvenni:"
   ]
  },
  {
   "cell_type": "code",
   "execution_count": 64,
   "metadata": {},
   "outputs": [],
   "source": [
    "txt=['31 00 4b 46 ff ff 05 10 1c : crc=1c YES\\n','31 00 4b 46 ff ff 05 10 1c t=24437']"
   ]
  },
  {
   "cell_type": "code",
   "execution_count": 65,
   "metadata": {},
   "outputs": [
    {
     "name": "stdout",
     "output_type": "stream",
     "text": [
      "['31 00 4b 46 ff ff 05 10 1c : crc=1c YES\\n', '31 00 4b 46 ff ff 05 10 1c t=24437']\n"
     ]
    }
   ],
   "source": [
    "print(txt)"
   ]
  },
  {
   "cell_type": "markdown",
   "metadata": {},
   "source": [
    "Ebből a sok adatból két információra lesz szükségünk. Az első az a lista első elemének a végén lévő válasz (a fenti példában *YES*). Ha a válasz *YES* akkor az adat kiolvasása sikeres volt, ha *NO*, akkor sikertelen. A másik fontos információ az maga a hőmérséklet, amit a lista második elemének *t=* kifejezése után következik. Ezt 1000-el elosztva kapjuk meg a hőmérsékletet Celsius fokban kifejezve. Most nézzük át milyen string műveletekkel nyerhetjük ki ezeket az infokat."
   ]
  },
  {
   "cell_type": "markdown",
   "metadata": {},
   "source": [
    "#### String műveletek"
   ]
  },
  {
   "cell_type": "markdown",
   "metadata": {},
   "source": [
    "Pythonban a stringek karakterekből épülnek fel, amiket indexeléssel ki is nyerhetünk (akár egyszerre többet is):"
   ]
  },
  {
   "cell_type": "code",
   "execution_count": 70,
   "metadata": {},
   "outputs": [
    {
     "name": "stdout",
     "output_type": "stream",
     "text": [
      "3 0 6\n"
     ]
    }
   ],
   "source": [
    "tt = txt[0]\n",
    "print(tt[0], tt[3], tt[10])"
   ]
  },
  {
   "cell_type": "markdown",
   "metadata": {},
   "source": [
    "Ha a 4-ik karaktertől a 20-ik karakterig akarjuk megjeleníteni a szöveget akkor:"
   ]
  },
  {
   "cell_type": "code",
   "execution_count": 71,
   "metadata": {},
   "outputs": [
    {
     "name": "stdout",
     "output_type": "stream",
     "text": [
      "00 4b 46 ff ff 05\n"
     ]
    }
   ],
   "source": [
    "print(tt[3:20])"
   ]
  },
  {
   "cell_type": "markdown",
   "metadata": {},
   "source": [
    "Ha hátulról akarunk karaktereket megjeleníteni akkor használhatjuk a negatív számos indexelést:"
   ]
  },
  {
   "cell_type": "code",
   "execution_count": 74,
   "metadata": {},
   "outputs": [
    {
     "name": "stdout",
     "output_type": "stream",
     "text": [
      "rc=1c YE\n"
     ]
    }
   ],
   "source": [
    "print(tt[-10:-2])"
   ]
  },
  {
   "cell_type": "markdown",
   "metadata": {},
   "source": [
    "Alapjáraton a *YES* választ többféleképp is megkaphatjuk. Pl. megnézzük, hogy a string tartalmaz-e *YES* karaktert, ```'YES' in txt[0]``` vagy ```txt[0].find('YES')```, stb. Mi most azt vizsgáljuk meg, hogy a string utolsó 3 karaktere megegyezik-e a *YES* kifejezéssel."
   ]
  },
  {
   "cell_type": "code",
   "execution_count": 68,
   "metadata": {},
   "outputs": [
    {
     "data": {
      "text/plain": [
       "'ES\\n'"
      ]
     },
     "execution_count": 68,
     "metadata": {},
     "output_type": "execute_result"
    }
   ],
   "source": [
    "txt[0][-3:]"
   ]
  },
  {
   "cell_type": "markdown",
   "metadata": {},
   "source": [
    "Amint látjuk, az utolsó karakterekbe beleszámít az is, hogy ott van az újsor parancs. Sőt, ha üres hely lenne, az is egy karakterként számolódna. Így először, el kell tüntetnünk a string sor végére nem kívánatos újsort, üreshelyet stb. Ezt a ```strip``` metódus végzi el a stringen."
   ]
  },
  {
   "cell_type": "code",
   "execution_count": 69,
   "metadata": {},
   "outputs": [
    {
     "data": {
      "text/plain": [
       "'YES'"
      ]
     },
     "execution_count": 69,
     "metadata": {},
     "output_type": "execute_result"
    }
   ],
   "source": [
    "txt[0].strip()[-3:]"
   ]
  },
  {
   "cell_type": "markdown",
   "metadata": {},
   "source": [
    "Így már helyesen megkapjuk a kívánt *YES* értéket.\n",
    "\n",
    "A hőmérséklet megtalálásához arra támaszkodunk, hogy azt mindig megelőzi a *t=* karakterpár. Ha megtaláljuk a stringben a *t=* karakterpár pozícióját, akkor elég csak kiolvasnunk az utána következő összes karaktert és meg lesz a hőmérsékletünk. Ezt a ```find``` metódussal tesszük meg, ahol bemenő paraméterként megadjuk, hogy milyen kifejezést szeretnénk megtalálni a stringben."
   ]
  },
  {
   "cell_type": "code",
   "execution_count": 62,
   "metadata": {},
   "outputs": [
    {
     "name": "stdout",
     "output_type": "stream",
     "text": [
      "27\n"
     ]
    }
   ],
   "source": [
    "pos = txt[1].find('t=')\n",
    "print(pos)"
   ]
  },
  {
   "cell_type": "markdown",
   "metadata": {},
   "source": [
    "A fenti példában keresett kifejezés a 27-ik pozíciónál jelenik meg. Hozzáadva még két helyi értéket (a *t=* karakterhelyét), megkaphatjuk a hőmérséklet kezdőpozícióját és kiolvashatjuk a teljes hőmérsékletet:"
   ]
  },
  {
   "cell_type": "code",
   "execution_count": 63,
   "metadata": {},
   "outputs": [
    {
     "data": {
      "text/plain": [
       "'24437'"
      ]
     },
     "execution_count": 63,
     "metadata": {},
     "output_type": "execute_result"
    }
   ],
   "source": [
    "txt[1][pos+2:]"
   ]
  },
  {
   "cell_type": "markdown",
   "metadata": {},
   "source": [
    "#### Függvény a hőmérséklet kinyerésére"
   ]
  },
  {
   "cell_type": "markdown",
   "metadata": {},
   "source": [
    "Létrehzunk egy függvényt ```read_temp(file_name)```, aminek a bemenő paramétere a hőmérsékleteket tartalmazó fájl neve és ami beolvassa a fájl tartalmát majd kinyeri belőle a hőmérsékletet.\n",
    "\n",
    "Első lépésként meghívjuk az előző fejezetben definiált függvényt és beolvassuk a fájl tartalmát. A következő lépésben elindítunk egy ```while``` ciklust ami ellenőrzi, hogy a fájl tartalma szerint a hőmérséklet kiolvasás sikeres volt-e, azaz, hogy az első sor 3 utolsó karaktere megegyezik-e a *YES* szóval. Ha megegyezik, akkor kilépünk azonnal a ```while``` ciklusból, de ha nem egyezik, akkor 0.2 másodpercenként újra kiolvassuk a fájl tartalmát, addig amíg a hőmérséklet olvasás sikeres nem lesz.\n",
    "\n",
    "Sikeres hőmérséklet kiolvasás esetén a fájl második sorában megkeressük a *t=* karakterpárnak a helyét. Ha ez a karakterpár nincs abban a sorban, akkor a ```find('t=')``` metódus válasza -1 lesz és ebben az esetben semmit nem teszünk. Ha mégis sikerül megtalálni a karakterpár pozícióját, akkor kiolvassuk a karakterpár után következő összes karaktert, ```temp_string = lines[1][equals_pos+2:]```. Mivel ennek a típusa string, így számmá kell alakítanunk a ```float``` paranccsal, hogy aritmetikai műveleteket végezhessünk rajta, azaz 1000-el elosztva átalakíthassuk Celsius fokká, ```temp_c = float(temp_string) / 1000.0```. Ha ismerjük a hőmérsékletet Celsius fokban akkor a $t_F = t_C \\times \\frac{9}{5} + 32$ képlettel átalakítjuk Fahrenheitba is, majd mindkét értéket visszaadjuk."
   ]
  },
  {
   "cell_type": "code",
   "execution_count": null,
   "metadata": {},
   "outputs": [],
   "source": [
    "def read_temp(file_name):\n",
    "    lines = read_temp_raw(file_name)\n",
    "    while lines[0].strip()[-3:] != 'YES':\n",
    "        time.sleep(0.2)\n",
    "        lines = read_temp_raw(file_name)\n",
    "    equals_pos = lines[1].find('t=')\n",
    "    if equals_pos != -1:\n",
    "        temp_string = lines[1][equals_pos+2:]\n",
    "        temp_c = float(temp_string) / 1000.0\n",
    "        temp_f = temp_c * 9.0 / 5.0 + 32.0\n",
    "        return temp_c, temp_f"
   ]
  },
  {
   "cell_type": "markdown",
   "metadata": {},
   "source": [
    "### A hőmérséklet megjelenítése a képernyőn"
   ]
  },
  {
   "cell_type": "markdown",
   "metadata": {},
   "source": [
    "Nem maradt más hátra, mint a fent leírt programrészleteket egybegyúrni. Végül meghívunk egy végtelen ```while``` ciklust, hogy a hőmérsékletet újra és újra kiolvassuk és kiírjuk a képernyőre. A kiolvasások közé 1 másodperc szünetet teszünk."
   ]
  },
  {
   "cell_type": "markdown",
   "metadata": {},
   "source": [
    "```ds18b20_test.py```:"
   ]
  },
  {
   "cell_type": "code",
   "execution_count": null,
   "metadata": {},
   "outputs": [],
   "source": [
    "import os\n",
    "import glob\n",
    "import time\n",
    " \n",
    "os.system('modprobe w1-gpio')\n",
    "os.system('modprobe w1-therm')\n",
    " \n",
    "base_dir = '/sys/bus/w1/devices/'\n",
    "device_folder = glob.glob(base_dir + '28*')[0]\n",
    "device_file = device_folder + '/w1_slave'\n",
    " \n",
    "def read_temp_raw(file_name):\n",
    "    f = open(file_name, 'r')\n",
    "    lines = f.readlines()\n",
    "    f.close()\n",
    "    return lines\n",
    " \n",
    "def read_temp(file_name):\n",
    "    lines = read_temp_raw(file_name)\n",
    "    while lines[0].strip()[-3:] != 'YES':\n",
    "        time.sleep(0.2)\n",
    "        lines = read_temp_raw(file_name)\n",
    "    equals_pos = lines[1].find('t=')\n",
    "    if equals_pos != -1:\n",
    "        temp_string = lines[1][equals_pos+2:]\n",
    "        temp_c = float(temp_string) / 1000.0\n",
    "        temp_f = temp_c * 9.0 / 5.0 + 32.0\n",
    "        return temp_c, temp_f\n",
    "\t\n",
    "while True:\n",
    "\tprint(read_temp(device_file))\t\n",
    "\ttime.sleep(1)"
   ]
  },
  {
   "cell_type": "markdown",
   "metadata": {},
   "source": [
    "Ha a program működik és fut, a ```CTRL+C``` billentyűpárral tudjuk leállítani."
   ]
  },
  {
   "cell_type": "markdown",
   "metadata": {},
   "source": [
    "## A projekt tesztelése"
   ]
  },
  {
   "cell_type": "markdown",
   "metadata": {},
   "source": [
    "Miután összeszereltük az áramkört és a kódot is megírtuk, amit pl. ```ds18b20_test.py``` név alatt mentettünk el, megnyithatunk a Raspberry Pi operációs rendszerén egy terminált. A terminálban a ```cd 'mappa név'``` paranccsal elnavigálunk abba a mappába, ahova a ```ds18b20_test.py```-t elmentettük. Ott begépelve a ```python ds18b20_test.py``` parancsot, letesztelhetjük a programunk működését. Ha minden jól megy akkor a program elindításával a képernyőre kiíródik az aktuális hőmérséklet celsius és fahrenheit fokban is.\n",
    "\n",
    "Hibaüzenetek esetén ki kell deríteni mi lehetett a probléma, pl. elgépelés, egy modul hiányzik, sorok megfelelő behúzása, idézőjel lemaradása stb. A hibaüzenet legtöbbször segít abban, hogy melyik sorban találta a hibát és hogy mi volt az. Egy kis gyakorlással bele lehet jönni azok értelmezésébe, valamint interneten is rá lehet keresni a hibaüzenet jelentésére és annak lehetséges elhárítására."
   ]
  },
  {
   "cell_type": "markdown",
   "metadata": {},
   "source": [
    "## Mit lehet javítani/továbbfejleszteni?"
   ]
  },
  {
   "cell_type": "markdown",
   "metadata": {},
   "source": [
    "* Módosítsuk a kódot úgy, hogy ne csak a hőmérsékletet írja ki, hanem az hőmérséklet leolvasásának időpontját is.\n",
    "* Ha a hőmérséklet 30 Celsius fok fölé emelkedne, nyomtassuk ki a képernyőre, hogy Kánikula (és ne írassuk ki a hőmérsékletet) ameddig vissza nem csökken 30 Celsius fok alá.\n",
    "\n",
    "Írd meg kommentben, hogy szerinted mivel lehetne még feldobni ezt a kis programot!"
   ]
  },
  {
   "cell_type": "markdown",
   "metadata": {},
   "source": [
    "## Referencia"
   ]
  },
  {
   "cell_type": "markdown",
   "metadata": {},
   "source": [
    "1) https://thepihut.com/blogs/raspberry-pi-tutorials/18095732-sensors-temperature-with-the-1-wire-interface-and-the-ds18b20\n",
    "\n",
    "2) http://docs.37sensors.com/#\n",
    "\n",
    "3) https://sensorkit.en.joy-it.net/index.php?title=KY-028_Temperature_Sensor_module_(Thermistor)\n",
    "\n",
    "4) https://www.malnasuli.hu/leckek/homerseklet-merese-1-wire-szenzorral/\n",
    "\n",
    "5) https://www.electronicshub.org/raspberry-pi-ds18b20-tutorial/\n",
    "\n",
    "6) open parancs - https://www.guru99.com/reading-and-writing-files-in-python.html\n",
    "\n",
    "7) glob csomag - https://pymotw.com/2/glob/\n",
    "\n",
    "8) os csomag - https://www.python-course.eu/os_module_shell.php\n",
    "\n",
    "9) string metódusok - https://www.programiz.com/python-programming/string"
   ]
  },
  {
   "cell_type": "code",
   "execution_count": null,
   "metadata": {},
   "outputs": [],
   "source": []
  }
 ],
 "metadata": {
  "kernelspec": {
   "display_name": "Python 3",
   "language": "python",
   "name": "python3"
  },
  "language_info": {
   "codemirror_mode": {
    "name": "ipython",
    "version": 3
   },
   "file_extension": ".py",
   "mimetype": "text/x-python",
   "name": "python",
   "nbconvert_exporter": "python",
   "pygments_lexer": "ipython3",
   "version": "3.7.3"
  },
  "toc": {
   "base_numbering": 1,
   "nav_menu": {},
   "number_sections": true,
   "sideBar": true,
   "skip_h1_title": false,
   "title_cell": "Table of Contents",
   "title_sidebar": "Contents",
   "toc_cell": false,
   "toc_position": {},
   "toc_section_display": true,
   "toc_window_display": false
  }
 },
 "nbformat": 4,
 "nbformat_minor": 2
}
