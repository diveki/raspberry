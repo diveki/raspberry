{
 "cells": [
  {
   "cell_type": "markdown",
   "metadata": {},
   "source": [
    "# Projekt 2 - Infravörös távolság mérés"
   ]
  },
  {
   "cell_type": "markdown",
   "metadata": {},
   "source": [
    "Az elektromos autók korába érkeztünk. És nem csak elektromosak, hanem egyre \"okosabbak\" is. Minden jel arra mutat, hogy az közlekedés az önvezető autók irányába terelődik. Hogy mindez biztonságos legyen, fontos, hogy a járművűnkön sok érzékelő lehet, amik pontos információt adnak az autó számítógépének a körülötte zajló környezeti folyamatokról. Pl. az egyik ilyen érzékelő a LIDAR, ami megmondja milyen közel van hozzá a legközelebbi tárgy és segíthet elkerőlni az ütközéseket. \n",
    "\n",
    "Mi egy egyszerűbb technológiával modellezzük le a távolság mérést, méghozzá infravörös érzékelőkkel. Minél közelebb van az IR forrás a fotodiódához, annál nagyobb jelet ad a szenzor. Ha távolabb kerül a LED akkor a jelünk is csökken.\n",
    "\n",
    "Helyezzük egymás mellé az IR forrást és a szenzort, de ne egymással szembe. Közelítsünk hozzájuk egy tárgyat. Készítsünk egy táblázatot, amiben leírjuk mekkora feszültséget mérünk a fotodiódán annak függvényében, hogy a tárgyunk milyen távolságra van az IR szenzorunktól.\n",
    "\n",
    "Ezt a táblázatot felhasználva írhatunk egy kódot, amiben a mért fotodióda jelet azonnal átalakítjuk távolságra, így a képernyőn rögtön azt látjuk, hogy milyen közel van a szenzorunkhoz egy adott tárgy."
   ]
  },
  {
   "cell_type": "markdown",
   "metadata": {},
   "source": [
    "## Mit fogsz készíteni?"
   ]
  },
  {
   "cell_type": "markdown",
   "metadata": {},
   "source": [
    "Az elrendezésünk elsősorban egy IR forrásból (LED) és egy szenzorból fog állni, a hozzájuk tartozó ellenállásokkal együtt. A jel digitalizálására egy MCP3008-as ADC-t használunk. Másodsorban bemutatjuk, hogyan lehet a mért jelet felerősíteni a volt tartományba egy LM358-as operációs erősítő és a hozzá tartozó ellenállások segítségével. "
   ]
  },
  {
   "cell_type": "markdown",
   "metadata": {},
   "source": [
    "## Mit tanulsz meg?"
   ]
  },
  {
   "cell_type": "markdown",
   "metadata": {},
   "source": [
    "Az infravörös szenzor elkészítésével a következőket tanulod meg:\n",
    "\n",
    "* Hogyan működik az IR szenzor, hogyan digitalizáljuk az analóg jelet és olvassuk ki azt Pythonból.\n",
    "* Hogyan inicializáljunk egy IR LED-et és MCP3008 ADC-t.\n",
    "* Hogyan kapcsoljuk ki- és be az IR LED-et és hogyan olvassuk ki a szenzor feszültségét az ADC-n keresztül.\n",
    "* Hogyan olvassunk be fájlokat és nyerjük ki belőle az információt.\n",
    "* Hogyan kell interpolálni."
   ]
  },
  {
   "cell_type": "markdown",
   "metadata": {},
   "source": [
    "## A projekt részletekre bontása"
   ]
  },
  {
   "cell_type": "markdown",
   "metadata": {},
   "source": [
    "* Elkészíteni az áramkört.\n",
    "* Beimportálni és inicializálni a ```LED``` és ```MCP3008``` objektumokat.\n",
    "* Beolvasni a feszültséget távolsággá alakító referencia fájlt.\n",
    "* Kiolvasni az ADC-ből a szenzor által mért feszültséget.\n",
    "* A mért feszültség alapján megbecsülni (interpolálni) a távolságot a referencia táblázatból.\n",
    "* Kinyomtatni a távolságot a képernyőre."
   ]
  },
  {
   "cell_type": "markdown",
   "metadata": {},
   "source": [
    "## Áramköri elemek listája"
   ]
  },
  {
   "cell_type": "markdown",
   "metadata": {},
   "source": [
    "a) [Raspberry PI](https://malnapc.hu/yis/raspberry-pi/rpi-panelek) \n",
    "\n",
    "b) IR LED, 940 nm: [itt vásárolhatsz](https://www.tme.eu/hu/details/lte-4206/ir-led-ek/liteon/)\n",
    "\n",
    "c) IR szenzor, 940 nm: [itt vásárolhatsz](https://www.tme.eu/hu/details/bpv10nf/fotodiodak/vishay/)\n",
    "\n",
    "d) [Jumper wires female/male](https://www.ret.hu/shop/product/e-call/jumper-vezetek-szet_53-22-63) \n",
    "\n",
    "e) Ellenállás: [itt vásárolhatsz](https://www.tme.eu/hu/katalog/metal-film-tht-ellenallasok_112313/?s_order=desc&search=ellenallas&s_field=1000011)\n",
    "\n",
    "f) [MCP3008 ADC](https://www.tme.eu/hu/details/mcp3008-i_p/a-d-konverterek-ic-k/microchip-technology/)\n",
    "\n",
    "g) [LM358 operációs erősítő](https://www.tme.eu/hu/details/lm358n_nopb/tht-muveleti-erositok/texas-instruments/)"
   ]
  },
  {
   "cell_type": "markdown",
   "metadata": {},
   "source": [
    "## A kapcsolási rajz"
   ]
  },
  {
   "cell_type": "markdown",
   "metadata": {},
   "source": [
    "<img src=\"bevezeto/prog01_schema.png\" width=600 height=400 />"
   ]
  },
  {
   "cell_type": "markdown",
   "metadata": {},
   "source": [
    "A fenti ábrához hasonlóan kapcsoljuk össze az áramköri elemeket és a Raspberry Pi-t.\n",
    "\n",
    "1) Kössük össze a Raspberry Pi egyik földelését az MCP3008 AGND ás DGND lábaival (fekete drót).\n",
    "\n",
    "2) Kössük az MCP3008 *VDD* és *VREF* nevű lábait a Raspberry Pi 3.3 V-os tüskéjére. \n",
    "\n",
    "3) Kössük az MCP3008 *CLK* nevű lábát a Raspberry Pi *GPIO11* tüskéjére. \n",
    "\n",
    "4) Kössük az MCP3008 *DOUT* nevű lábát a Raspberry Pi *GPIO09* tüskéjére. \n",
    "\n",
    "5) Kössük az MCP3008 *DIN* nevű lábát a Raspberry Pi *GPIO10* tüskéjére.\n",
    "\n",
    "6) Kössük az MCP3008 *CS* nevű lábát a Raspberry Pi *GPIO08* tüskéjére."
   ]
  },
  {
   "cell_type": "markdown",
   "metadata": {},
   "source": [
    "7) Az LM358 erősítő 8-as lábát kössük a Raspberry Pi 3.3 V-os tüskéjére.\n",
    "\n",
    "8) Az LM358 erősítő 4-es és 3-as (nem invertáló) lábát kössük a földelésre (GND) tüskéjére.\n",
    "\n",
    "9) A fotodióda anódját (pozitív, hosszabb láb) kössük szintén a földelésre.\n",
    "\n",
    "10) A fotodióda katódját (negatív, rövidebb láb) kössük az LM358 erősítő 2-es (invertáló) lábára.\n",
    "\n",
    "11) Az LM358 erősítő 2-es (invertáló) és 1-es (kimenet) lába közéiktassunk be egy R1 = 1 MOhmos ellenállást."
   ]
  },
  {
   "cell_type": "markdown",
   "metadata": {},
   "source": [
    "12) Az LM358 erősítő 1-es (kimenet) lábát kössük át a másik oldalon elhelyezkedő erősítő sorának 5-ös (nem invertáló) lábára.\n",
    "\n",
    "13) Az LM358 erősítő 6-os lába (invertáló) és a földelés (GND) közé kössünk be az R2 = 1 kOhm ellenállást.\n",
    "\n",
    "14) Az LM358 erősítő 6-os lába (invertáló) és a 7-es (kimenet) lába közé kössünk be az R3 = 10 kOhm ellenállást. Az R2 és R3 ellenállások ilyen választásával 11-szeres erősítést érhetünk el a jelen."
   ]
  },
  {
   "cell_type": "markdown",
   "metadata": {},
   "source": [
    "15) Az IR LED anódját (pozitív, hosszabb láb) kössük a Raspberry Pi *GPIO02*-es tüskéjére, míg a katódját (negatív, rövidebb láb) kössük sorba egy 200 Ohmos ellenállással.\n",
    "\n",
    "16) A 200 Ohmos ellenállás másik lábát kössük a földelésre (GND)."
   ]
  },
  {
   "cell_type": "markdown",
   "metadata": {},
   "source": [
    "## A kód\n",
    "\n",
    "Nyissunk meg egy új python fájlt és mentsük el pl. ```ir_calibration.py``` név alatt. A ```gpiozero``` csomagnak nincs beépített objektuma ami általánosan az IR szenzort tudná kezelni, így mi fogjuk megoldani a szenzorral való kommunikációt."
   ]
  },
  {
   "cell_type": "markdown",
   "metadata": {},
   "source": [
    "### Az IR LED tesztelése"
   ]
  },
  {
   "cell_type": "markdown",
   "metadata": {},
   "source": [
    "Az első dolgunk beimportálni a ```LED``` és a ```MCP3008``` objektumokat. "
   ]
  },
  {
   "cell_type": "markdown",
   "metadata": {},
   "source": [
    "```ir_calibration.py```:"
   ]
  },
  {
   "cell_type": "code",
   "execution_count": 1,
   "metadata": {},
   "outputs": [],
   "source": [
    "from gpiozero import LED, MCP3008"
   ]
  },
  {
   "cell_type": "markdown",
   "metadata": {},
   "source": [
    "A következő lépés letesztelni, hogy sikerül-e kommunikálni az IR LED-del. Ez a LED is pont ugyanolyan, mint a látható tartományban működő társai, így az inicializálása is ugyanúgy működik."
   ]
  },
  {
   "cell_type": "markdown",
   "metadata": {},
   "source": [
    "Az inicializálás után próbáljuk ki az ```.on(), .off(), .blink()``` metódusokat. Sajnos szabad szemmel semmi változást nem fogunk látni a LED-en, de a mobiltelefonunk kameráját a LED-re irányítva már nagyobb sikerünk lehet. Ha megjelenik, egy rózsaszínes folt a LED képén bekapcsoláskor, akkor működik a vezérlés."
   ]
  },
  {
   "cell_type": "markdown",
   "metadata": {},
   "source": [
    "```ir_calibration.py```:"
   ]
  },
  {
   "cell_type": "code",
   "execution_count": null,
   "metadata": {},
   "outputs": [],
   "source": [
    "from gpiozero import LED, MCP3008\n",
    "\n",
    "# inicializaljunk egy LEDet\n",
    "\n",
    "ir = LED(2)\n",
    "\n",
    "# teszteljuk, ki be kapcsolassal, villogassal a mukodeset\n",
    "ir.on()\n",
    "ir.off()\n",
    "ir.blink()\n",
    "ir.off()"
   ]
  },
  {
   "cell_type": "markdown",
   "metadata": {},
   "source": [
    "### Az IR szenzor tesztelése"
   ]
  },
  {
   "cell_type": "markdown",
   "metadata": {},
   "source": [
    "Ezek után letesztelhetjük a fotodiódát is. Mivel az analóg jelet ad, azt egy ADC konverterre kellett kötnünk, hogy a Raspberry ki tudja a feszültséget olvasni. Mi itt a 8 csatornás 10 bites konvertert inicializáljuk, ```mcp = MCP3008(channel=7)```. A ```mcp.voltage``` változó meghívásával ki tudjuk olvasni az aktuálisan mért feszültséget. Alapjáraton nem kellene feszültséget mérnie, azaz 0 közeli értéket kellene mutatnia. Viszont, ha az IR LED-et rá irányítjuk, akkor a kiolvasott feszültségnek növekednie kell. Sőt a sima lámpafényt, napfényt vagy kisebb hatásfokkal a mobil flash lámpáját is ráirányíthatjuk. Ezek mindegyike tartalmaz kisebb-nagyobb mértékben infravörös jelet, amit a fotodióda mérhet. "
   ]
  },
  {
   "cell_type": "markdown",
   "metadata": {},
   "source": [
    "```ir_calibration.py```:"
   ]
  },
  {
   "cell_type": "code",
   "execution_count": null,
   "metadata": {},
   "outputs": [],
   "source": [
    "from gpiozero import LED, MCP3008\n",
    "\n",
    "# inicializaljunk egy LEDet\n",
    "\n",
    "ir = LED(2)\n",
    "mcp = MCP3008(channel=7)\n",
    "\n",
    "# teszteljuk, ki be kapcsolassal, villogassal a mukodeset\n",
    "ir.on()\n",
    "\n",
    "print(mcp.voltage)"
   ]
  },
  {
   "cell_type": "markdown",
   "metadata": {},
   "source": [
    "### Az IR szenzor jelének folyamatos kiírása"
   ]
  },
  {
   "cell_type": "markdown",
   "metadata": {},
   "source": [
    "Ha mindkét eszközzel tudunk kommunikálni, akkor már egyszerű a mért feszültség folytonos kiírása a képernyőre. Inicializáljuk az eszközöket, kapcsoljuk be a LED-et, majd indítsunk el egy végtelen ```while``` ciklust amiben kinyomtatjuk a képernyőre a mért feszültséget, ```print(mcp.voltage)```. És kész."
   ]
  },
  {
   "cell_type": "markdown",
   "metadata": {},
   "source": [
    "```ir_calibration.py```:"
   ]
  },
  {
   "cell_type": "code",
   "execution_count": 51,
   "metadata": {},
   "outputs": [],
   "source": [
    "from gpiozero import LED, MCP3008\n",
    "\n",
    "# inicializaljunk egy LEDet\n",
    "# inicializaljuk az ADC-t\n",
    "ir = LED(2)\n",
    "mcp = MCP3008(channel=7)\n",
    "\n",
    "# teszteljuk, ki be kapcsolassal, villogassal a mukodeset\n",
    "ir.on()\n",
    "\n",
    "while True:\n",
    "    print(mcp.voltage)"
   ]
  },
  {
   "cell_type": "markdown",
   "metadata": {},
   "source": [
    "Ha a program működik és fut, a ```CTRL+C``` billentyűpárral tudjuk leállítani."
   ]
  },
  {
   "cell_type": "markdown",
   "metadata": {},
   "source": [
    "## A projekt tesztelése"
   ]
  },
  {
   "cell_type": "markdown",
   "metadata": {},
   "source": [
    "Miután összeszereltük az áramkört és a kódot is megírtuk, amit pl. ```ir_calibration.py``` név alatt mentettünk el, megnyithatunk a Raspberry Pi operációs rendszerén egy terminált. A terminálban a ```cd 'mappa név'``` paranccsal elnavigálunk abba a mappába, ahova a ```ir_calibration.py```-t elmentettük. Ott begépelve a ```python ir_calibration.py``` parancsot, letesztelhetjük a programunk működését. Ha minden jól megy akkor a program elindításával a képernyőre kiíródik az aktuálisan érzékelt tárgy távolsága a szenzortól.\n",
    "\n",
    "Hibaüzenetek esetén ki kell deríteni mi lehetett a probléma, pl. elgépelés, egy modul hiányzik, sorok megfelelő behúzása, idézőjel lemaradása stb. A hibaüzenet legtöbbször segít abban, hogy melyik sorban találta a hibát és hogy mi volt az. Egy kis gyakorlással bele lehet jönni azok értelmezésébe, valamint interneten is rá lehet keresni a hibaüzenet jelentésére és annak lehetséges elhárítására."
   ]
  },
  {
   "cell_type": "markdown",
   "metadata": {},
   "source": [
    "## Mit lehet javítani/továbbfejleszteni?"
   ]
  },
  {
   "cell_type": "markdown",
   "metadata": {},
   "source": [
    "* Módosítsuk a kódot úgy, hogy ha túl kicsi a mért távolság (általunk tetszőlegesen választott érték) akkor kapcsoljon be egy piros LED.\n",
    "* Iktassunk be egy nyomógombot és módosítsuk a kódot, hogy gomb nyomásra kezdje mérni a távolságot.\n",
    "\n",
    "Írd meg kommentben, hogy szerinted mivel lehetne még feldobni ezt a kis programot!"
   ]
  },
  {
   "cell_type": "markdown",
   "metadata": {},
   "source": [
    "## Referencia"
   ]
  },
  {
   "cell_type": "markdown",
   "metadata": {},
   "source": [
    "1) gpiozero LED - https://gpiozero.readthedocs.io/en/stable/api_output.html#led\n",
    "\n",
    "2) MCP3008 datasheet - https://cdn-shop.adafruit.com/datasheets/MCP3008.pdf\n",
    "\n",
    "3) LM358 datasheet - https://www.ti.com/lit/ds/symlink/lm158-n.pdf , https://components101.com/ics/ic-lm358-pinout-details-datasheet\n",
    "\n",
    "4) gpiozero MCP3008 - https://gpiozero.readthedocs.io/en/stable/api_spi.html"
   ]
  },
  {
   "cell_type": "code",
   "execution_count": null,
   "metadata": {},
   "outputs": [],
   "source": []
  }
 ],
 "metadata": {
  "kernelspec": {
   "display_name": "Python 3",
   "language": "python",
   "name": "python3"
  },
  "language_info": {
   "codemirror_mode": {
    "name": "ipython",
    "version": 3
   },
   "file_extension": ".py",
   "mimetype": "text/x-python",
   "name": "python",
   "nbconvert_exporter": "python",
   "pygments_lexer": "ipython3",
   "version": "3.7.3"
  },
  "toc": {
   "base_numbering": 1,
   "nav_menu": {},
   "number_sections": true,
   "sideBar": true,
   "skip_h1_title": false,
   "title_cell": "Table of Contents",
   "title_sidebar": "Contents",
   "toc_cell": false,
   "toc_position": {},
   "toc_section_display": true,
   "toc_window_display": false
  }
 },
 "nbformat": 4,
 "nbformat_minor": 2
}
