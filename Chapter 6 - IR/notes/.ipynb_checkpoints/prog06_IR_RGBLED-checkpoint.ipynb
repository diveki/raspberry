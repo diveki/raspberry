{
 "cells": [
  {
   "cell_type": "markdown",
   "metadata": {},
   "source": [
    "# Projekt 6 - RGBLED távolságjelző"
   ]
  },
  {
   "cell_type": "markdown",
   "metadata": {},
   "source": [
    "Nagyon sok modern autóban van már olyan radar, ami méri, hogy milyen távolságra vannak körülötte a különböző környezeti objektumok, és amennyiben azokhoz közelítene a sofőr, hanghatással jelzi, hogy ütközés veszélye áll fenn. Ez egy rendkívül hasznos segítség a vezetőknek, hiszen rengeteg olyan pontja van az autónak, amire nem feltétlenül van vizuális rálátás. \n",
    "\n",
    "Ebben a projektben mi is egy hasonló távolság érzékelőt rakunk össze, csak a radar helyett IR szenzort használunk, a hanghatás helyett pedig egy RGBLED színét variáljuk majd a távolság függvényében. Amennyiben a szenzorhoz közel kerül valami, akkor az RGBLED pirosan világít, ha kicsit távolabb van, sárgán, ha nagyon távol van, akkor zölden világít."
   ]
  },
  {
   "cell_type": "markdown",
   "metadata": {},
   "source": [
    "## Mit fogsz készíteni?"
   ]
  },
  {
   "cell_type": "markdown",
   "metadata": {},
   "source": [
    "Az elrendezésünk elsősorban egy IR forrásból (LED) és egy szenzorból fog állni, a hozzájuk tartozó ellenállásokkal együtt. A jel digitalizálására egy MCP3008-as ADC-t használunk. Másodsorban bemutatjuk, hogyan lehet a mért jelet felerősíteni a volt tartományba egy LM358-as operációs erősítő és a hozzá tartozó ellenállások segítségével. Ebben a projektben szükségünk lesz még egy RGBLED-re és a hozzá tartozó ellenállásokra is. "
   ]
  },
  {
   "cell_type": "markdown",
   "metadata": {},
   "source": [
    "## Mit tanulsz meg?"
   ]
  },
  {
   "cell_type": "markdown",
   "metadata": {},
   "source": [
    "Az infravörös szenzor elkészítésével a következőket tanulod meg:\n",
    "\n",
    "* Hogyan működik az IR szenzor, hogyan digitalizáljuk az analóg jelet és olvassuk ki azt Pythonból.\n",
    "* Hogyan inicializáljunk egy IR LED-et és MCP3008 ADC-t.\n",
    "* Hogyan kapcsoljuk ki- és be az IR LED-et és hogyan olvassuk ki a szenzor feszültségét az ADC-n keresztül.\n",
    "* Hogyan használjuk az RGBLED-et.\n",
    "* Hogyan olvassunk be fájlokat és nyerjük ki belőle az információt.\n",
    "* Hogyan kell interpolálni.\n",
    "* Mi az az ```event```?\n",
    "* Hogyan kell függvényeket elindítani a ```threading``` segítségével.\n",
    "* Hogyan kell klasszokat létrehozni.\n",
    "* Hogyan használjuk a ```matplotlib``` csomagot ábrázolásra.\n",
    "* Hogy működik a klasszok öröklési mechanizmusa."
   ]
  },
  {
   "cell_type": "markdown",
   "metadata": {},
   "source": [
    "## A projekt részletekre bontása"
   ]
  },
  {
   "cell_type": "markdown",
   "metadata": {},
   "source": [
    "* Elkészíteni az áramkört.\n",
    "* Beimportálni és inicializálni a ```LED```, ```RGBLED``` és ```MCP3008``` objektumokat.\n",
    "* Definiálni a távolság mérést végző klasszt.\n",
    "* Írni egy RGBLED távolság mérő klasszt, ami a sima távolságmérő klassztól örökli a tulajdonságokat és a viselkedéseket.\n",
    "* Megírni az RGBLED ki- és bekapcsolási metódusokat és a színválasztási vezérelveket."
   ]
  },
  {
   "cell_type": "markdown",
   "metadata": {},
   "source": [
    "## Áramköri elemek listája"
   ]
  },
  {
   "cell_type": "markdown",
   "metadata": {},
   "source": [
    "a) [Raspberry PI](https://malnapc.hu/yis/raspberry-pi/rpi-panelek) \n",
    "\n",
    "b) IR LED, 940 nm: [itt vásárolhatsz](https://www.tme.eu/hu/details/lte-4206/ir-led-ek/liteon/)\n",
    "\n",
    "c) IR szenzor, 940 nm: [itt vásárolhatsz](https://www.tme.eu/hu/details/bpv10nf/fotodiodak/vishay/)\n",
    "\n",
    "d) [Jumper wires female/male](https://www.ret.hu/shop/product/e-call/jumper-vezetek-szet_53-22-63) \n",
    "\n",
    "e) Ellenállás: [itt vásárolhatsz](https://www.tme.eu/hu/katalog/metal-film-tht-ellenallasok_112313/?s_order=desc&search=ellenallas&s_field=1000011)\n",
    "\n",
    "f) [MCP3008 ADC](https://www.tme.eu/hu/details/mcp3008-i_p/a-d-konverterek-ic-k/microchip-technology/)\n",
    "\n",
    "g) [LM358 operációs erősítő](https://www.tme.eu/hu/details/lm358n_nopb/tht-muveleti-erositok/texas-instruments/)\n",
    "\n",
    "h)  RGB LED, $I_{max}$ = 20 mA-es: [itt vásárolhatsz](https://www.tme.eu/hu/details/osta56a1a-c/tht-led-diodak-egyeb/optosupply/)"
   ]
  },
  {
   "cell_type": "markdown",
   "metadata": {},
   "source": [
    "## A kapcsolási rajz"
   ]
  },
  {
   "cell_type": "markdown",
   "metadata": {},
   "source": [
    "<img src=\"schema/prog06_schema_RGB.png\" width=600 height=400 />"
   ]
  },
  {
   "cell_type": "markdown",
   "metadata": {},
   "source": [
    "A fenti ábrához hasonlóan kapcsoljuk össze az áramköri elemeket és a Raspberry Pi-t.\n",
    "\n",
    "1) Kössük össze a Raspberry Pi egyik földelését az MCP3008 AGND ás DGND lábaival (fekete drót).\n",
    "\n",
    "2) Kössük az MCP3008 *VDD* és *VREF* nevű lábait a Raspberry Pi 3.3 V-os tüskéjére. \n",
    "\n",
    "3) Kössük az MCP3008 *CLK* nevű lábát a Raspberry Pi *GPIO11* tüskéjére. \n",
    "\n",
    "4) Kössük az MCP3008 *DOUT* nevű lábát a Raspberry Pi *GPIO09* tüskéjére. \n",
    "\n",
    "5) Kössük az MCP3008 *DIN* nevű lábát a Raspberry Pi *GPIO10* tüskéjére.\n",
    "\n",
    "6) Kössük az MCP3008 *CS* nevű lábát a Raspberry Pi *GPIO08* tüskéjére."
   ]
  },
  {
   "cell_type": "markdown",
   "metadata": {},
   "source": [
    "7) Az LM358 erősítő 8-as lábát kössük a Raspberry Pi 3.3 V-os tüskéjére.\n",
    "\n",
    "8) Az LM358 erősítő 4-es és 3-as (nem invertáló) lábát kössük a földelésre (GND) tüskéjére.\n",
    "\n",
    "9) A fotodióda anódját (pozitív, hosszabb láb) kössük szintén a földelésre.\n",
    "\n",
    "10) A fotodióda katódját (negatív, rövidebb láb) kössük az LM358 erősítő 2-es (invertáló) lábára.\n",
    "\n",
    "11) Az LM358 erősítő 2-es (invertáló) és 1-es (kimenet) lába közéiktassunk be egy R1 = 1 MOhmos ellenállást."
   ]
  },
  {
   "cell_type": "markdown",
   "metadata": {},
   "source": [
    "12) Az LM358 erősítő 1-es (kimenet) lábát kössük át a másik oldalon elhelyezkedő erősítő sorának 5-ös (nem invertáló) lábára.\n",
    "\n",
    "13) Az LM358 erősítő 6-os lába (invertáló) és a földelés (GND) közé kössünk be az R2 = 1 kOhm ellenállást.\n",
    "\n",
    "14) Az LM358 erősítő 6-os lába (invertáló) és a 7-es (kimenet) lába közé kössünk be az R3 = 10 kOhm ellenállást. Az R2 és R3 ellenállások ilyen választásával 11-szeres erősítést érhetünk el a jelen."
   ]
  },
  {
   "cell_type": "markdown",
   "metadata": {},
   "source": [
    "15) Az IR LED anódját (pozitív, hosszabb láb) kössük a Raspberry Pi *GPIO02*-es tüskéjére, míg a katódját (negatív, rövidebb láb) kössük sorba egy 200 Ohmos ellenállással.\n",
    "\n",
    "16) A 200 Ohmos ellenállás másik lábát kössük a földelésre (GND).\n",
    "\n",
    "17) Helyezzük az RGB LED lábait különboző sorokba. FONTOS: Ha közös katódú (-) LED-ünk van, akkor a leghosszabb lábat, a közös katódot, a földelésre, GND kell kapcsolni, ha közös anódú (+) LED-ünk van, akkor a leghosszabb lábat a 3.3V-os (vagy 5V-os) feszültségre kell kapcsolni. A rajzon mi a közös katódú LED-et ábrázoljuk.\n",
    "\n",
    "A LED anódjának és katódjának megállapítására használhatunk egy multimétert. Csatlakoztasd a fekete mérőzsinórt a COM (föld) és a piros mérőzsinórt a VΩmA jelzésű hüvelybe. Forgasd el a méréshatárváltó kapcsolót a folytonosság mérés állapotba. Érintsd a két zsínórt a leghosszabb lábhoz és egy másikhoz és ha a LED halványan pislákol, akkor az a láb amelyikhez a fekete zsinórt érintetted a katód, a másik az anód. Ha nem pislákol akkor cseréld meg a zsinórok és a lábak érintkezését, hogy világítson.\n"
   ]
  },
  {
   "cell_type": "markdown",
   "metadata": {},
   "source": [
    "18) Az RGB LED leghosszabb lábát (közös katód) kössük össze a Raspberry Pi egyik GND jelölésű tüskéjével egy jumper drót segítségével.\n",
    "\n",
    "19) A többi láb sorába az ábrának megfelelően kössük be az ellenállásokat.\n",
    "\n",
    "20) A piros (R) lábhoz tartozó ellenállás sorát kössük a 21-es GPIO tüskéhez, a zöldet (G) a 20-ashoz és a kéket a 16-hoz."
   ]
  },
  {
   "cell_type": "markdown",
   "metadata": {},
   "source": [
    "## A kód\n",
    "\n",
    "Nyissunk meg egy új python fájlt és mentsük el pl. ```ir_rgbled.py``` név alatt. A ```gpiozero``` csomagnak nincs beépített objektuma ami általánosan az IR szenzort tudná kezelni, így mi fogjuk megoldani a szenzorral való kommunikációt."
   ]
  },
  {
   "cell_type": "markdown",
   "metadata": {},
   "source": [
    "Az előző projektekben már szépen kidolgoztunk egy aktív szenzor klasszt. Arra építve és azt beimportálva, hozunk létre egy új klasszt, ami tartalmazza majd az RGB LED által elvégzendő feladatokat a klassz öröklésen keresztül."
   ]
  },
  {
   "cell_type": "markdown",
   "metadata": {},
   "source": [
    "Érdemes a fontosabb kódolások előtt letesztelni, hogy tudjuk-e szoftveresen vezérelni a LED-et illetve az MCP3008 ADC-t. Ezek mikéntjére itt nem térünk ki, az előző projektben ezt részleteztük."
   ]
  },
  {
   "cell_type": "markdown",
   "metadata": {},
   "source": [
    "### Segédfüggvények beimportálása és eddigi kódok"
   ]
  },
  {
   "cell_type": "markdown",
   "metadata": {},
   "source": [
    "Első körben átvesszük, hogy milyen segédfüggvényeket és objektumokat fogunk felhasználni. Lényegében szükségünk lesz minden eddig kidolgozott kódrészletre: beolvasni a kalibráláshoz a fájlt ```read_2column_files```, interpolálni ```interpolate1d```, előkészíteni plottoláshoz az adatokat ```prepare_data``` és szükség lesz az ```ActiveSensor``` klasszra is. A lenti kódban az aktív szenzor klasszt kibővítettük néhány új tulajdonsággal. Inicializáláskor a következő plusz opcionális paramétereket lehet még megadni:\n",
    "\n",
    "* ```sampling_rate``` - meghatározza, hogy másodpercenként hányszor történyjen mérés.\n",
    "* ```print_distance``` - ha az értéke ```True```, akkor kiírja a képernyőre a mért távolságot, ha ```False```, akkor nem.\n",
    "* ```calibrate``` - ha az értéke ```True```, akkor a klassz ```self.current_distance``` paraméterének az értéka a kalibrált távolság lesz, míg ha ```False```, akkor a paraméter értéke a mért feszültség lesz.\n",
    "\n",
    "A klasszban a változások nagy része az ```__init__``` és a ```start_measurement``` metódusokban van."
   ]
  },
  {
   "cell_type": "markdown",
   "metadata": {},
   "source": [
    "```raspberry_functions.py```:"
   ]
  },
  {
   "cell_type": "code",
   "execution_count": 51,
   "metadata": {},
   "outputs": [],
   "source": [
    "from scipy.interpolate import interp1d\n",
    "import numpy as np\n",
    "import threading\n",
    "import time\n",
    "import datetime as dt\n",
    "import matplotlib.pyplot as plt\n",
    "\n",
    "\n",
    "def prepare_data(date, value, dplot, tplot, maxlen=20):\n",
    "    dplot.append(date)\n",
    "    tplot.append(value)\n",
    "    if len(dplot) > maxlen:\n",
    "        dplot.pop(0)\n",
    "        tplot.pop(0)\n",
    "    return dplot, tplot\n",
    "\n",
    "def read_2column_files(name, sep=',', header=True):\n",
    "    lines = read_temp_raw(name)\n",
    "    if header:\n",
    "        lines.pop(0)\n",
    "    distance = []\n",
    "    voltage = []\n",
    "    for line in lines:\n",
    "        if line.strip() != '':\n",
    "            data = line.strip().split(sep)\n",
    "            voltage.append(float(data[0]))\n",
    "            distance.append(float(data[1]))\n",
    "    return np.array(voltage), np.array(distance)\n",
    "\n",
    "def interpolate1d(x, y, target):\n",
    "    f = interp1d(x,y)\n",
    "    return f(target)\n",
    "\n",
    "\n",
    "class ActiveSensor:\n",
    "    def __init__(self, led, mcp, calibname, sampling_rate=1, print_distance=True, calibrate=True):\n",
    "        self.led = led\n",
    "        self.mcp = mcp\n",
    "        self.calibfile = calibname\n",
    "        self.sampling_rate = sampling_rate\n",
    "        self.plot_length = 20\n",
    "        self.initialize_calibration(self.calibfile)\n",
    "        self.event = threading.Event()\n",
    "        self.event_plot = threading.Event()\n",
    "        self.dlist = []\n",
    "        self.ylist = []\n",
    "        self.print_distance = print_distance\n",
    "        self.calibrate = calibrate\n",
    "        \n",
    "    def start(self):\n",
    "        self.event.clear()\n",
    "        self.led.on()\n",
    "        t = threading.Thread(target=self.start_measurement)\n",
    "        t.start()\n",
    "\n",
    "    def start_measurement(self):\n",
    "        print('Measurement started')\n",
    "        while not self.event.is_set():\n",
    "            dd = dt.datetime.now()\n",
    "            self.current_voltage = self.mcp.voltage\n",
    "            if self.calibrate:\n",
    "                self.current_distance = interpolate1d(self.calib_volt, self.calib_distance, self.current_voltage)\n",
    "            else:\n",
    "                self.current_distance = self.current_voltage\n",
    "            if self.print_distance:\n",
    "                print(f'Current distance from object is: {self.current_distance:.3} cm')\n",
    "            self.prepare_data(dd, self.current_distance)\n",
    "            time.sleep(1/self.sampling_rate)\n",
    "        \n",
    "    def stop(self):\n",
    "        self.event.set()\n",
    "        self.led.off()\n",
    "        print('Measurement is stopped')\n",
    "\n",
    "    def initialize_calibration(self, filename):\n",
    "        self.calib_volt, self.calib_distance = read_2column_files(filename, header=True)\n",
    "\n",
    "    def prepare_data(self, dd, yy):\n",
    "        self.dlist, self.ylist = prepare_data(dd, yy, self.dlist, self.ylist, maxlen=self.plot_length)\n",
    "\n",
    "    def plot_initialize(self):\n",
    "        plt.ion()\n",
    "        self.figure, self.ax = plt.subplots(figsize=(8,6))\n",
    "        self.line1, = self.ax.plot(self.dlist, self.ylist, 'o-')\n",
    "        plt.title(\"Dynamic Plot of measurement\",fontsize=25)\n",
    "        plt.xlabel(\"Time\",fontsize=18)\n",
    "        plt.ylabel(\"Distance (cm)\",fontsize=18)\n",
    "        plt.grid(True)\n",
    "\n",
    "    def start_plot(self):\n",
    "        self.event_plot.clear()\n",
    "        t = threading.Thread(target=self.plot_distance_thread)\n",
    "        t.start()\n",
    "\n",
    "    def stop_plot(self):\n",
    "        self.event_plot.set()\n",
    "        print('Measurement is stopped')\n",
    "\n",
    "    def plot_distance_thread(self):\n",
    "        while not self.event_plot.is_set():\n",
    "            self.line1.set_xdata(self.dlist)\n",
    "            self.line1.set_ydata(self.ylist)\n",
    "            self.ax.set_ylim(min(self.ylist)*0.99, max(self.ylist)*1.01) # +1 to avoid singular transformation warning\n",
    "            self.ax.set_xlim(min(self.dlist), max(self.dlist))\n",
    "            self.figure.canvas.draw()\n",
    "            self.figure.canvas.flush_events()\n",
    "            plt.gcf().autofmt_xdate()\n",
    "            time.sleep(2)\n"
   ]
  },
  {
   "cell_type": "markdown",
   "metadata": {},
   "source": [
    "Ha már van egy jól működő aktív szenzor klasszunk, akkor kihasználjuk annak az előnyeit és nem kódolunk le egy teljesen új klasszt ami egy RGB LED-et is tartalmaz plusszban. A klasszok öröklési tulajdonságára támaszkodva létrehozhatunk egy új klasszt, ami örökli és/vagy felülírja az ```ActiveSensor``` tulajdonságait valamint kiegészíti azt újakkal."
   ]
  },
  {
   "cell_type": "markdown",
   "metadata": {},
   "source": [
    "### Klasszok öröklése"
   ]
  },
  {
   "cell_type": "markdown",
   "metadata": {},
   "source": [
    "A klasszok öröklési szabályait a következő feladaton keresztül vezetjük be. Képzeljük el, hogy geometriai alakzatokat rajzoló programot kell készítenünk, ahol csak kört és téglalapot lehet megjeleníteni tetszőleges számban, valamint mozgatni is lehet azokat. Ezenfelül szeretnénk néhány rájuk jellemző tulajdonságot is kiszámolni, mint a területük és a kerületük.\n",
    "\n",
    "Ha két klassznál azt látjuk, hogy vannak ugyanazon nevű metódusaik és azok funkciói is akár megegyezhetnek, akkor felmerülhet bennünk a gondolat, hogy ezek akár egy alap klassznak egy módosított verziói lehetnek. Pl. egy geometriai alakzat mozgatása *x* tengely mentén független a geometriai alakzattól, mindig a középpontot toljuk el egy megadott ```deltaX``` értékkel."
   ]
  },
  {
   "cell_type": "markdown",
   "metadata": {},
   "source": [
    "Erre egy konkrét példa, ha definiálunk egy absztrakt alap geometria klasszt, ```Geometry```, aminek semmi funkciója nincs azon kívül, hogy majd a későbbi alakzatoknak (pl. kör és téglalap) szerkezetet adnak. Az ```__init__``` függvénynek két bemenő paramétere van a ```self```-en kívül, egy tetszőleges alakzat középpontjának *x* és *y* koordinátái, amiket el is mentünk mint a klasszon belüli globális értékek, ```self.x``` és ```self.y```. "
   ]
  },
  {
   "cell_type": "markdown",
   "metadata": {},
   "source": [
    "Van neki két üres metódusa, ```computeArea``` és a ```computePerimeter```. Mivel ez egy általános geometriai alakzatot képvisel nem tudunk konkrét képletet adni a terület és kerület számára, de jelezhetjük, hogy szükséges lesz majd ezeket definiálni a konkrét esetekben. "
   ]
  },
  {
   "cell_type": "markdown",
   "metadata": {},
   "source": [
    "A ```move``` metódus elmozgatja az alakzat középpontját a két megadott bemenő paraméter értékével, ```deltaX``` és ```deltaY```. Mint fent említettük ez a tulajdonság alakzattól független, így már az absztrakt klassznál le lehet kódolni, amit a többi klassz megörökölhet majd."
   ]
  },
  {
   "cell_type": "markdown",
   "metadata": {},
   "source": [
    "Végül definiáljuk a ```__str__``` függvényt, ami arra szolgál, hogy felülírja, hogyan jelenjen meg maga a klassz a ```print``` parancs meghívásakor. A ```self.__class__.__name__``` kifejezése tartalmazza magának a klassznak a nevét, ebben az esetben a *Geometry* nevet. Kinyomtatáskor szeretnénk látni a klassz nevét, valamint, hogy melyik koordinátáknál van a közepe. Ha több objektumot is inicializálunk egy klasszból, akkor ezen pozíciók segítségével tehetünk különbséget. "
   ]
  },
  {
   "cell_type": "code",
   "execution_count": 5,
   "metadata": {},
   "outputs": [],
   "source": [
    "class Geometry(): \n",
    "    def __init__(self, x = 0.0, y = 0.0): \n",
    "        self.x = x \n",
    "        self.y = y \n",
    "\n",
    "    def computeArea(self): \n",
    "        pass \n",
    "\n",
    "    def computePerimeter(self): \n",
    "        pass \n",
    "\n",
    "    def move(self, deltaX, deltaY): \n",
    "        self.x += deltaX \n",
    "        self.y += deltaY \n",
    "\n",
    "    def __str__(self): \n",
    "        return f'{self.__class__.__name__}(x={self.x}, y={self.y})'"
   ]
  },
  {
   "cell_type": "markdown",
   "metadata": {},
   "source": [
    "A lenti példában inicializálunk egy ```Geometry``` objektumot. Az alapértelmezett paraméterekre támaszkodunk, így nem adunk neki bemenő paramétereket. Utána kinyomtatjuk a területét és kerületét, amik, mivel nincsenek definiálva, így ```None``` értéket adnak vissza. Majd elmozdítjuk ezt az objektumot *x* irányba 1 egységgel és *y* irányba kettővel és kinyomtatjuk az új koordinátákat. Végül, magát az objektumot nyomtatjuk ki, és szépen látható az általunk megadott leírás a ```__str__``` metódusból, a megfelelő paraméterekkel. "
   ]
  },
  {
   "cell_type": "code",
   "execution_count": 9,
   "metadata": {},
   "outputs": [
    {
     "name": "stdout",
     "output_type": "stream",
     "text": [
      "None\n",
      "None\n",
      "1.0 2.0\n",
      "Geometry(x=1.0, y=2.0)\n"
     ]
    }
   ],
   "source": [
    "g = Geometry()\n",
    "print(g.computeArea())\n",
    "print(g.computePerimeter())\n",
    "g.move(1,2)\n",
    "print(g.x, g.y)\n",
    "print(g)"
   ]
  },
  {
   "cell_type": "markdown",
   "metadata": {},
   "source": [
    "Most, hogy rendelkezésünkre áll egy absztrakt klassz, ami tartalmazza a leendő klasszok főbb tulajdonságait, leszármaztathatjuk belőle a ```Circle``` klasszt. A tulajdonságok öröklését úgy adjuk meg, hogy a klasszt definiáló sorban, a klassz neve után zárójelben megadjuk azt a klasszt, amitől szeretnénk, hogy az új klassz örököljön, ```class Circle(Geometry):```. A klasszon belül, bármikor ha hivatkozni szeretnénk erre a szülő (felsőbbrendű) klasszra, használhatjuk a ```super()``` parancsszavat, mint megnevezést. "
   ]
  },
  {
   "cell_type": "markdown",
   "metadata": {},
   "source": [
    "Itt egy kör geometriai alakzatot szeretnénk definiálni, aminek nem csak a középpont koordinátáira van szükség, hanem a kör sugarára is, így az ```__init__``` függvényben egy újabb paraméter jelenik meg, amit ```radius```-nak nevezünk el. Ahhoz, hogy ne kelljen mindent újra gépelnünk, és kihasznánljuk a szülő klassztól való öröklést, első lépésben meghívjuk a szülő klasszt inicializáló függvényt, ```super(Circle, self).__init__(x=x, y=y)```. Erre a ```super``` függvényt használtuk, aminek bemenő paraméterként megadtuk az épp definiálandó klassz nevét és a ```self``` paramétereket, az ```__init__``` függvénynek pedig az *x* és *y* koordinátákat adtuk be, mint eddig is. Ezáltal a ```Circle``` klassznak is létrejönnek az ```.x``` és ```.z``` változói. Ezek mellé, még a ```Circle``` objektumhoz rendeljük a sugarat is, hogy bármikor hivatkozhassunk rá, ```self.radius = radius```. "
   ]
  },
  {
   "cell_type": "markdown",
   "metadata": {},
   "source": [
    "A kör már egy konkrét alakzat, aminek ismerjük a terület, ```computeArea``` és kerület, ```computePerimeter```, számítási módszerét, így ezeket ki is tölthetjük."
   ]
  },
  {
   "cell_type": "markdown",
   "metadata": {},
   "source": [
    "Végül, hogy a klassz kinyomtatásakor, ne az általános geometriai klassz leírása jelenjen meg, a körnél felülírjuk a ```__str__``` függvényt. Mindazon metódusok és változók, amik a szülő klasszban definiálva lettek, de az ój, gyermek klasszban nem, átöröklődnek ugyanabban a formában a gyerek klasszra. Azaz, ```move(self, deltaX, deltaY)``` metódus mindkét klasszra ugyanaz lesz. "
   ]
  },
  {
   "cell_type": "code",
   "execution_count": 6,
   "metadata": {},
   "outputs": [],
   "source": [
    "class Circle(Geometry):\n",
    "    def __init__(self, x=0, y=0, radius=1):\n",
    "        super(Circle, self).__init__(x=x, y=y)\n",
    "        self.radius = radius\n",
    "        \n",
    "    def computeArea(self):\n",
    "        return self.radius * 3.14\n",
    "    \n",
    "    def computePerimeter(self):\n",
    "        return 2 * self.radius * 3.14\n",
    "    \n",
    "    def __str__(self):\n",
    "        return f'{self.__class__.__name__}(x={self.x}, y={self.y}, radius={self.radius})'"
   ]
  },
  {
   "cell_type": "markdown",
   "metadata": {},
   "source": [
    "Lássuk működés közben a fent leírtakat. Inicializálunk egy kör objektumot, majd lefuttatjuk ugyanazokat a metódusokat, mint az általános geometria klasszra. Látható, hogy a kör objektumnak is lesznek *x* és *y* koordinátái, annak ellenére, hogy a szülő klassznak adtuk át bemenő paraméterként. Ezenfelül, a területet és kerületet is kiszámolja, hiszen a körnél már definiáltuk rá a képleteket. Ugyanúgy a ```move``` metódus is működik, annak ellenére, hogy ez is a szülő klasszban lett definiálva. Átöröklődik a szülő klasszról a gyermek klasszra. "
   ]
  },
  {
   "cell_type": "code",
   "execution_count": 11,
   "metadata": {},
   "outputs": [
    {
     "name": "stdout",
     "output_type": "stream",
     "text": [
      "6.28\n",
      "12.56\n",
      "Circle(x=1, y=2, radius=2)\n",
      "Circle(x=0, y=0, radius=2)\n"
     ]
    }
   ],
   "source": [
    "circle = Circle(x=1,y=2,radius=2)\n",
    "print(circle.computeArea())\n",
    "print(circle.computePerimeter())\n",
    "print(circle)\n",
    "circle.move(-1,-2)\n",
    "print(circle)"
   ]
  },
  {
   "cell_type": "markdown",
   "metadata": {},
   "source": [
    "Egy szülőnek a viselkedését nem csak egy klassz örökölheti, hanem több is. Így hozunk létre egy téglalap klasszt, ```Rectangle```, ami szintén örökli az általános ```Geometry``` klassz tulajdonságait. Inicializáláshoz itt a szokásos *x* és *y* paramétereket adjuk be, valamint a szélesség, ```width``` és magasság, ```height``` paramétereket. Ugyanúgy, hogy ne gépeljünk fölöslegesen, meghívjuk a szülő inicializálását, ```super(Rectangle, self).__init__(x=x, y=y)```, amivel szert teszünk az *x* és *y* változókra és emellett a definiáljuk a ```self.width``` és ```self.height``` változókat."
   ]
  },
  {
   "cell_type": "markdown",
   "metadata": {},
   "source": [
    "Ugyanúgy, mint a kör klassz esetében, újradefiniáljuk a terület és a kerület függvényeket, hiszen az általános geometriai alaknak nincs megadva definíció. Végül az objektum szép kinyomtatásához definiáljuk a ```__str__``` függvényt, hogy reflektálja, most egy téglatesttel van dolgunk. "
   ]
  },
  {
   "cell_type": "code",
   "execution_count": 12,
   "metadata": {},
   "outputs": [],
   "source": [
    "class Rectangle(Geometry):\n",
    "    def __init__(self, x=0, y=0, width=1, height=1):\n",
    "        super(Rectangle, self).__init__(x=x, y=y)\n",
    "        self.width = width\n",
    "        self.height = height\n",
    "        \n",
    "    def computeArea(self):\n",
    "        return self.width * self.height\n",
    "    \n",
    "    def computePerimeter(self):\n",
    "        return 2 * (self.width * self.height)\n",
    "    \n",
    "    def __str__(self):\n",
    "        return f'{self.__class__.__name__}(x={self.x}, y={self.y}, width={self.width}, height={self.height})'"
   ]
  },
  {
   "cell_type": "markdown",
   "metadata": {},
   "source": [
    "Szemléltetésképp elvégezzük ugyanazon metódusok és függvények meghívását, de nyilvánvalóan az új definícióknak megfelelően más eredményeket kapunk, mint a többi geometriai alakzatokra. "
   ]
  },
  {
   "cell_type": "code",
   "execution_count": 14,
   "metadata": {},
   "outputs": [
    {
     "name": "stdout",
     "output_type": "stream",
     "text": [
      "6\n",
      "12\n",
      "Rectangle(x=-2, y=2, width=2, height=3)\n",
      "Rectangle(x=-1, y=0, width=2, height=3)\n"
     ]
    }
   ],
   "source": [
    "rec = Rectangle(x=-2,y=2,width=2, height=3)\n",
    "print(rec.computeArea())\n",
    "print(rec.computePerimeter())\n",
    "print(rec)\n",
    "rec.move(1,-2)\n",
    "print(rec)"
   ]
  },
  {
   "cell_type": "markdown",
   "metadata": {},
   "source": [
    "Miután létrehoztunk kölönböző objektumokat, amik közös szülővel rendelkeznek, készíthetünk egy listát amin ha végig lépkedünk akkor ugyanazokat a metódusokat és függvényeket alkalmazhatjuk mindegyik elemre és egyszerre kinyerhetjük a kérdéses információt, pl. a lenti példában kinyomtatjuk az objektumot magát és a hozzá tartozó területet egy ```for``` cikluson keresztül."
   ]
  },
  {
   "cell_type": "code",
   "execution_count": 17,
   "metadata": {},
   "outputs": [
    {
     "name": "stdout",
     "output_type": "stream",
     "text": [
      "Circle(x=1, y=-2, radius=2) 6.28\n",
      "Rectangle(x=-1, y=0, width=2, height=3) 6\n"
     ]
    }
   ],
   "source": [
    "total = [circle, rec]\n",
    "for obj in total:\n",
    "    print(obj, obj.computeArea())"
   ]
  },
  {
   "cell_type": "markdown",
   "metadata": {},
   "source": [
    "### RGB LED-et vezérlő aktív szenzor"
   ]
  },
  {
   "cell_type": "markdown",
   "metadata": {},
   "source": [
    "Most, hogy láttuk, hogyan működik a klasszok öröklődése, már könnyebben átlátjuk, mire van szükségünk az eredeti ```ActiveSensor``` klasszból és mivel kellene kibővíteni az új klasszt. Vegyük át, milyen metódusokra lesz szükségünk az ```RGBActiveSensor``` klasszoz:"
   ]
  },
  {
   "cell_type": "markdown",
   "metadata": {},
   "source": [
    "* ```__init__(self, rgb, led, mcp, calibname)``` - az ```ActiveSensor``` inicializálásához képest egy plusz bemenő paraméter jelent meg, ami maga az RGB LED objektum. Ebben a metódusban kihasználjuk, az ```ActiveSensor``` által nyújtott inicializálást és pluszban elmentjük a ```self.rgb``` változóba a beadott RGB LED objektumot.\n",
    "* ```start(self):``` - ez a metódus a mérés elindítására szolgál. Kihasználjuk, hogy az ```ActiveSensor``` klassznak már van egy ilyen metódusa, amit meghívunk, ```super(ActiveSensor, self).start()```. Ezen felül el kell indítanunk az RGB LED működését is itt, egy *thread*ben, ```trgb = threading.Thread(target=self.start_rgb)```, ```trgb.start()```. Az RGB LED viselkedésének szabályozását egy másik metódusba szervezzük ki, ```self.start_rgb()```, amit az előbb említett *thread* indít el. \n",
    "* ```stop(self):``` - a szülő klassz rendelkezik mérést leállító metódussal, ```super(ActiveSensor, self).stop()``` amit kiegészítünk még az RGB LED kikapcsolásával is, ```self.rgb.off()```.\n",
    "* ```start_rgb(self):``` - ez a metódus felelő a logikáért ami egy adott távolság mérésre egy adott színt fog beállítani az RGB LED-en.\n",
    "* ```set_color(self, value):``` - ez egy segédfüggvény, amit meghívva beállíthatjuk az RGB LED színét a ```value``` paraméterben megadott színre."
   ]
  },
  {
   "cell_type": "markdown",
   "metadata": {},
   "source": [
    "Minden más tulajdonság, amivel az ```ActiveSensor``` klassz rendelkezik, átöröklődik az ```RGBActiveSensor``` klasszra, mint pl. a mérési eredmények kiplottolása. "
   ]
  },
  {
   "cell_type": "markdown",
   "metadata": {},
   "source": [
    "```ir_rgbled.py```:"
   ]
  },
  {
   "cell_type": "code",
   "execution_count": null,
   "metadata": {},
   "outputs": [],
   "source": [
    "import threading\n",
    "import time\n",
    "from raspberry_functions import read_2column_files, interpolate1d, ActiveSensor\n",
    "from gpiozero import LED, MCP3008, RGBLED\n",
    "import datetime as dt\n",
    "import matplotlib.pyplot as plt\n",
    "\n",
    "\n",
    "class RGBActiveSensor(ActiveSensor):\n",
    "\tdef __init__(self, rgb, led, mcp, calibname):\n",
    "\t\tsuper(ActiveSensor, self).__init__(led, mcp, calibname)\n",
    "\t\tself.rgb = rgb\n",
    "\n",
    "\tdef start(self):\n",
    "        super(ActiveSensor, self).start()\n",
    "\t\ttrgb = threading.Thread(target=self.start_rgb)  # rgb ledet vezerlo fuggveny threadelese\n",
    "\t\ttrgb.start()  # rgb thread elinditasa\n",
    "\n",
    "\tdef start_rgb(self):\n",
    "\t\tpass\n",
    "\n",
    "\tdef stop(self):\n",
    "        super(ActiveSensor, self).stop()\n",
    "        self.rgb.off()   # rgb led kikapcsolasa\n",
    "\n",
    "\tdef set_color(self, value):\n",
    "\t\tpass\n"
   ]
  },
  {
   "cell_type": "markdown",
   "metadata": {},
   "source": [
    "#### Az RGB LED-et vezérlő függvény"
   ]
  },
  {
   "cell_type": "markdown",
   "metadata": {},
   "source": [
    "A ```start_rgb``` függvény felelős az RGB LED viselkedéséért. Amíg a mérést végezzük, a LED-nek is működnie kell, tehát ezt is egy olyan ```while``` ciklusben kell futtatni, aminek kezdetét és végét a ```self.event``` esemény szabályoz, ```while not self.event.is_set():```. A következő lépésben egy biztonsági lépést teszünk, leellenőrízzük, hogy a mért értékeket tároló listánk üres-e, ```if len(self.ylist) > 0:```. Ha van benne mérés, akkor az RGB LED színét az utolsó mérés értéke alapján fogjuk beállítani, ```self.set_color(self.ylist[-1])```. "
   ]
  },
  {
   "cell_type": "code",
   "execution_count": 1,
   "metadata": {},
   "outputs": [],
   "source": [
    "def start_rgb(self):\n",
    "\tprint('Rgb started')\n",
    "\twhile not self.event.is_set():\n",
    "\t\tif len(self.ylist) > 0:\n",
    "\t\t\tself.set_color(self.ylist[-1])\n",
    "\t\ttime.sleep(1)"
   ]
  },
  {
   "cell_type": "markdown",
   "metadata": {},
   "source": [
    "#### Az RGB LED színeit beállító függvény"
   ]
  },
  {
   "cell_type": "markdown",
   "metadata": {},
   "source": [
    "Ahhoz, hogy az RGB LED színét beállítsuk, egy segédfüggvényt használunk, aminek a bemenő paramétere a mért távolság. A távolság alapján határozunk meg feltételes szerkezeteket, hogy ha távol van a tárgy akkor zölden, ha közel akkor pirosan, ha köztes távolságban van a tárgy akkor sárgán világítson a LED."
   ]
  },
  {
   "cell_type": "code",
   "execution_count": null,
   "metadata": {},
   "outputs": [],
   "source": [
    "def set_color(self, value):\n",
    "\tif value < 10:\n",
    "\t\tself.rgb.color = (0,1,0) # green\n",
    "\telif 10 <= value < 17:\n",
    "\t\tself.rgb.color = (1,1,0) # yellow\n",
    "\telif value >= 17:\n",
    "\t\tself.rgb.color = (1,0,0) # red"
   ]
  },
  {
   "cell_type": "markdown",
   "metadata": {},
   "source": [
    "### Az RGB LED-es aktív szenzor objektum ábrázolási lehetőséggel"
   ]
  },
  {
   "cell_type": "markdown",
   "metadata": {},
   "source": [
    "Minden elemet belerakva a kódba a következő programot kapjuk:"
   ]
  },
  {
   "cell_type": "markdown",
   "metadata": {},
   "source": [
    "```ir_rgbled.py```:"
   ]
  },
  {
   "cell_type": "code",
   "execution_count": null,
   "metadata": {},
   "outputs": [],
   "source": [
    "import threading\n",
    "import time\n",
    "from raspberry_functions import read_2column_files, interpolate1d, ActiveSensor\n",
    "from gpiozero import LED, MCP3008, RGBLED\n",
    "import datetime as dt\n",
    "import matplotlib.pyplot as plt\n",
    "\n",
    "\n",
    "class RGBActiveSensor(ActiveSensor):\n",
    "\tdef __init__(self, rgb, led, mcp, calibname):\n",
    "\t\tsuper().__init__(led, mcp, calibname)\n",
    "\t\tself.rgb = rgb\n",
    "\n",
    "\tdef start(self):\n",
    "\t\tself.event.clear()\n",
    "\t\tself.led.on()\n",
    "\t\tt = threading.Thread(target=self.start_measurement)\n",
    "\t\ttrgb = threading.Thread(target=self.start_rgb)\n",
    "\t\tt.start()\n",
    "\t\ttrgb.start()\n",
    "\n",
    "\tdef start_rgb(self):\n",
    "\t\tprint('Rgb started')\n",
    "\t\twhile not self.event.is_set():\n",
    "\t\t\tif len(self.ylist) > 0:\n",
    "\t\t\t\tself.set_color(self.ylist[-1])\n",
    "\t\t\ttime.sleep(1)\n",
    "\n",
    "\tdef stop(self):\n",
    "\t\tself.event.set()\n",
    "\t\tself.led.off()\n",
    "\t\tself.rgb.off()\n",
    "\t\tprint('Measurement is stopped')\n",
    "\n",
    "\tdef set_color(self, value):\n",
    "\t\tif value < 10:\n",
    "\t\t\tself.rgb.color = (1,0,0) # green\n",
    "\t\telif 10 <= value < 17:\n",
    "\t\t\tself.rgb.color = (1,1,0) # yellow\n",
    "\t\telif value >= 17:\n",
    "\t\t\tself.rgb.color = (0,1,0) # red\n",
    "\n",
    "\n",
    "\n",
    "if __name__ == '__main__':\n",
    "\trgb = RGBLED(16,20,21)\n",
    "\tir = LED(2)\n",
    "\tmcp = MCP3008(channel=7)\n",
    "\tcalib_file = 'ir_calibration.csv'\n",
    "\ta = RGBActiveSensor(rgb, ir, mcp, calib_file)"
   ]
  },
  {
   "cell_type": "markdown",
   "metadata": {},
   "source": [
    "Ez a klassz képes lesz távolságmérésre és RGB LED vezérlésre is. Emellett megmarad neki az opció, hogy a mért távolságokat ábrázolj az idő függvényében."
   ]
  },
  {
   "cell_type": "markdown",
   "metadata": {},
   "source": [
    "## A projekt tesztelése"
   ]
  },
  {
   "cell_type": "markdown",
   "metadata": {},
   "source": [
    "Miután összeszereltük az áramkört és a kódot is megírtuk, amit pl. ```ir_rgbled.py``` név alatt mentettünk el, megnyithatunk a Raspberry Pi operációs rendszerén egy terminált. A terminálban a ```cd 'mappa név'``` paranccsal elnavigálunk abba a mappába, ahova a ```ir_rgbled.py```-t elmentettük. Ott begépelve a ```python ir_rgbled.py``` parancsot, letesztelhetjük a programunk működését. Ha minden jól megy akkor a terminálból létrehozhatjuk a távolság mérésért felelős objektumot az RGBLED jelzőrendszerrel, majd a metódusaival elindíthatjuk és leállíthatjuk a mérést amire az RGBLED aktívan változtatja a színét.\n",
    "\n",
    "Hibaüzenetek esetén ki kell deríteni mi lehetett a probléma, pl. elgépelés, egy modul hiányzik, sorok megfelelő behúzása, idézőjel lemaradása stb. A hibaüzenet legtöbbször segít abban, hogy melyik sorban találta a hibát és hogy mi volt az. Egy kis gyakorlással bele lehet jönni azok értelmezésébe, valamint interneten is rá lehet keresni a hibaüzenet jelentésére és annak lehetséges elhárítására."
   ]
  },
  {
   "cell_type": "markdown",
   "metadata": {},
   "source": [
    "## Mit lehet javítani/továbbfejleszteni?"
   ]
  },
  {
   "cell_type": "markdown",
   "metadata": {},
   "source": [
    "* Írd át a klasszt úgy, hogy több távolság tartományt tudjon értelmezni (ne csak hármat) és mindegyikhez legyen másmilyen RGBLED szín.\n",
    "* Írd át a klasszt úgy, hogy ne a kalibrált távolságok alapján változtassa az RGBLED a színeit, hanem a mért feszültség alapján. A feltételekben feszültségértékeket határozz meg.\n",
    "\n",
    "Írd meg kommentben, hogy szerinted mivel lehetne még feldobni ezt a kis programot!"
   ]
  },
  {
   "cell_type": "markdown",
   "metadata": {},
   "source": [
    "## Referencia"
   ]
  },
  {
   "cell_type": "markdown",
   "metadata": {},
   "source": [
    "1) gpiozero LED - https://gpiozero.readthedocs.io/en/stable/api_output.html#led\n",
    "\n",
    "2) MCP3008 datasheet - https://cdn-shop.adafruit.com/datasheets/MCP3008.pdf\n",
    "\n",
    "3) LM358 datasheet - https://www.ti.com/lit/ds/symlink/lm158-n.pdf , https://components101.com/ics/ic-lm358-pinout-details-datasheet\n",
    "\n",
    "4) gpiozero MCP3008 - https://gpiozero.readthedocs.io/en/stable/api_spi.html\n",
    "\n",
    "5) Fájlok kezelése - https://www.programiz.com/python-programming/file-operation\n",
    "\n",
    "6) Interpolálás - https://docs.scipy.org/doc/scipy/reference/generated/scipy.interpolate.interp1d.html#scipy.interpolate.interp1d\n",
    "\n",
    "7) threading - https://realpython.com/intro-to-python-threading/\n",
    "\n",
    "8) Objektum Orientált Programozás (OOP) - https://realpython.com/python3-object-oriented-programming/#:~:text=Programming%20with%20Python.-,What%20Is%20Object%2DOriented%20Programming%20in%20Python%3F,are%20bundled%20into%20individual%20objects.\n",
    "\n",
    "9) Objektum inheritálás - https://www.programiz.com/python-programming/inheritance\n",
    "\n",
    "10) Matplotlib - https://matplotlib.org/stable/tutorials/index.html"
   ]
  },
  {
   "cell_type": "code",
   "execution_count": null,
   "metadata": {},
   "outputs": [],
   "source": []
  }
 ],
 "metadata": {
  "kernelspec": {
   "display_name": "Python 3",
   "language": "python",
   "name": "python3"
  },
  "language_info": {
   "codemirror_mode": {
    "name": "ipython",
    "version": 3
   },
   "file_extension": ".py",
   "mimetype": "text/x-python",
   "name": "python",
   "nbconvert_exporter": "python",
   "pygments_lexer": "ipython3",
   "version": "3.7.3"
  },
  "toc": {
   "base_numbering": 1,
   "nav_menu": {},
   "number_sections": true,
   "sideBar": true,
   "skip_h1_title": false,
   "title_cell": "Table of Contents",
   "title_sidebar": "Contents",
   "toc_cell": false,
   "toc_position": {},
   "toc_section_display": true,
   "toc_window_display": false
  }
 },
 "nbformat": 4,
 "nbformat_minor": 2
}
