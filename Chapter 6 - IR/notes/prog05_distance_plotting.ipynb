{
 "cells": [
  {
   "cell_type": "markdown",
   "metadata": {},
   "source": [
    "# Projekt 5 - Infravörös távolság mérés plottolással"
   ]
  },
  {
   "cell_type": "markdown",
   "metadata": {},
   "source": [
    "Az előző projekten keresztül szert tettünk egy klasszra, amivel egy aktív infravörös szenzor objektumot hozhatunk létre. Mint említettük ennek egyik előnye a könnyebb bővíthetőség és módosítása a viselkedési formának. \n",
    "\n",
    "Ezek után kézenfekvőnek tűnik, hogy a mért távolságot ne csak a képernyőre írjuk ki, hanem ábrázoljuk is grafikonon amit folytonosan frsissítünk. Így kaphatunk egy grafikus visszajelzést arról, hogyan változott egy adott tárgy távolsága a szenzorunktól. \n",
    "\n",
    "A jelen projektben a már meglévő szenzor klasszunkat kibővítjük, hogy egy parancsszóra elindítsa a mért távolságok ábrázolását, illetve egy másik parancsszóra leállítsa azt. Mindezt egy *thread*ből indítjuk el."
   ]
  },
  {
   "cell_type": "markdown",
   "metadata": {},
   "source": [
    "## Mit fogsz készíteni?"
   ]
  },
  {
   "cell_type": "markdown",
   "metadata": {},
   "source": [
    "Az elrendezésünk elsősorban egy IR forrásból (LED) és egy szenzorból fog állni, a hozzájuk tartozó ellenállásokkal együtt. A jel digitalizálására egy MCP3008-as ADC-t használunk. Másodsorban bemutatjuk, hogyan lehet a mért jelet felerősíteni a volt tartományba egy LM358-as operációs erősítő és a hozzá tartozó ellenállások segítségével. "
   ]
  },
  {
   "cell_type": "markdown",
   "metadata": {},
   "source": [
    "## Mit tanulsz meg?"
   ]
  },
  {
   "cell_type": "markdown",
   "metadata": {},
   "source": [
    "Az infravörös szenzor elkészítésével a következőket tanulod meg:\n",
    "\n",
    "* Hogyan működik az IR szenzor, hogyan digitalizáljuk az analóg jelet és olvassuk ki azt Pythonból.\n",
    "* Hogyan inicializáljunk egy IR LED-et és MCP3008 ADC-t.\n",
    "* Hogyan kapcsoljuk ki- és be az IR LED-et és hogyan olvassuk ki a szenzor feszültségét az ADC-n keresztül.\n",
    "* Hogyan olvassunk be fájlokat és nyerjük ki belőle az információt.\n",
    "* Hogyan kell interpolálni.\n",
    "* Mi az az ```event```?\n",
    "* Hogyan kell függvényeket elindítani a ```threading``` segítségével.\n",
    "* Hogyan kell klasszokat létrehozni.\n",
    "* Hogyan használjuk a ```matplotlib``` csomagot ábrázolásra."
   ]
  },
  {
   "cell_type": "markdown",
   "metadata": {},
   "source": [
    "## A projekt részletekre bontása"
   ]
  },
  {
   "cell_type": "markdown",
   "metadata": {},
   "source": [
    "* Elkészíteni az áramkört.\n",
    "* Beimportálni és inicializálni a ```LED``` és ```MCP3008``` objektumokat.\n",
    "* Definiálni a távolság mérést végző klasszt.\n",
    "* A klasszban megírni a távolság méréshez tartozó függvényeket.\n",
    "* Megírni a mért távolság folytonos ábrázolásához tartozó függvényeket."
   ]
  },
  {
   "cell_type": "markdown",
   "metadata": {},
   "source": [
    "## Áramköri elemek listája"
   ]
  },
  {
   "cell_type": "markdown",
   "metadata": {},
   "source": [
    "a) [Raspberry PI](https://malnapc.hu/yis/raspberry-pi/rpi-panelek) \n",
    "\n",
    "b) IR LED, 940 nm: [itt vásárolhatsz](https://www.tme.eu/hu/details/lte-4206/ir-led-ek/liteon/)\n",
    "\n",
    "c) IR szenzor, 940 nm: [itt vásárolhatsz](https://www.tme.eu/hu/details/bpv10nf/fotodiodak/vishay/)\n",
    "\n",
    "d) [Jumper wires female/male](https://www.ret.hu/shop/product/e-call/jumper-vezetek-szet_53-22-63) \n",
    "\n",
    "e) Ellenállás: [itt vásárolhatsz](https://www.tme.eu/hu/katalog/metal-film-tht-ellenallasok_112313/?s_order=desc&search=ellenallas&s_field=1000011)\n",
    "\n",
    "f) [MCP3008 ADC](https://www.tme.eu/hu/details/mcp3008-i_p/a-d-konverterek-ic-k/microchip-technology/)\n",
    "\n",
    "g) [LM358 operációs erősítő](https://www.tme.eu/hu/details/lm358n_nopb/tht-muveleti-erositok/texas-instruments/)"
   ]
  },
  {
   "cell_type": "markdown",
   "metadata": {},
   "source": [
    "## A kapcsolási rajz"
   ]
  },
  {
   "cell_type": "markdown",
   "metadata": {},
   "source": [
    "<img src=\"bevezeto/prog01_schema.png\" width=600 height=400 />"
   ]
  },
  {
   "cell_type": "markdown",
   "metadata": {},
   "source": [
    "A fenti ábrához hasonlóan kapcsoljuk össze az áramköri elemeket és a Raspberry Pi-t.\n",
    "\n",
    "1) Kössük össze a Raspberry Pi egyik földelését az MCP3008 AGND ás DGND lábaival (fekete drót).\n",
    "\n",
    "2) Kössük az MCP3008 *VDD* és *VREF* nevű lábait a Raspberry Pi 3.3 V-os tüskéjére. \n",
    "\n",
    "3) Kössük az MCP3008 *CLK* nevű lábát a Raspberry Pi *GPIO11* tüskéjére. \n",
    "\n",
    "4) Kössük az MCP3008 *DOUT* nevű lábát a Raspberry Pi *GPIO09* tüskéjére. \n",
    "\n",
    "5) Kössük az MCP3008 *DIN* nevű lábát a Raspberry Pi *GPIO10* tüskéjére.\n",
    "\n",
    "6) Kössük az MCP3008 *CS* nevű lábát a Raspberry Pi *GPIO08* tüskéjére."
   ]
  },
  {
   "cell_type": "markdown",
   "metadata": {},
   "source": [
    "7) Az LM358 erősítő 8-as lábát kössük a Raspberry Pi 3.3 V-os tüskéjére.\n",
    "\n",
    "8) Az LM358 erősítő 4-es és 3-as (nem invertáló) lábát kössük a földelésre (GND) tüskéjére.\n",
    "\n",
    "9) A fotodióda anódját (pozitív, hosszabb láb) kössük szintén a földelésre.\n",
    "\n",
    "10) A fotodióda katódját (negatív, rövidebb láb) kössük az LM358 erősítő 2-es (invertáló) lábára.\n",
    "\n",
    "11) Az LM358 erősítő 2-es (invertáló) és 1-es (kimenet) lába közéiktassunk be egy R1 = 1 MOhmos ellenállást."
   ]
  },
  {
   "cell_type": "markdown",
   "metadata": {},
   "source": [
    "12) Az LM358 erősítő 1-es (kimenet) lábát kössük át a másik oldalon elhelyezkedő erősítő sorának 5-ös (nem invertáló) lábára.\n",
    "\n",
    "13) Az LM358 erősítő 6-os lába (invertáló) és a földelés (GND) közé kössünk be az R2 = 1 kOhm ellenállást.\n",
    "\n",
    "14) Az LM358 erősítő 6-os lába (invertáló) és a 7-es (kimenet) lába közé kössünk be az R3 = 10 kOhm ellenállást. Az R2 és R3 ellenállások ilyen választásával 11-szeres erősítést érhetünk el a jelen."
   ]
  },
  {
   "cell_type": "markdown",
   "metadata": {},
   "source": [
    "15) Az IR LED anódját (pozitív, hosszabb láb) kössük a Raspberry Pi *GPIO02*-es tüskéjére, míg a katódját (negatív, rövidebb láb) kössük sorba egy 200 Ohmos ellenállással.\n",
    "\n",
    "16) A 200 Ohmos ellenállás másik lábát kössük a földelésre (GND)."
   ]
  },
  {
   "cell_type": "markdown",
   "metadata": {},
   "source": [
    "## A kód\n",
    "\n",
    "Nyissunk meg egy új python fájlt és mentsük el pl. ```ir_classplotting.py``` név alatt. A ```gpiozero``` csomagnak nincs beépített objektuma ami általánosan az IR szenzort tudná kezelni, így mi fogjuk megoldani a szenzorral való kommunikációt."
   ]
  },
  {
   "cell_type": "markdown",
   "metadata": {},
   "source": [
    "Az előző projektekben már tárgyaltuk, hogyan tudunk létrehozni egy klasszt ami elindít és leállít egy távolságmérést. Felhasználva az ott felgyülemlett információt, onnan folytatjuk tovább az ábrázolás elvégzéséhez is."
   ]
  },
  {
   "cell_type": "markdown",
   "metadata": {},
   "source": [
    "Érdemes a fontosabb kódolások előtt letesztelni, hogy tudjuk-e szoftveresen vezérelni a LED-et illetve az MCP3008 ADC-t. Ezek mikéntjére itt nem térünk ki, az előző projektben ezt részleteztük."
   ]
  },
  {
   "cell_type": "markdown",
   "metadata": {},
   "source": [
    "### Segédfüggvények beimportálása és eddigi kódok"
   ]
  },
  {
   "cell_type": "markdown",
   "metadata": {},
   "source": [
    "A lenti kódrészletben megnézhetjük, hogy milyen csomagokat importáltunk eddig be és hogy milyen tulajdonságokkal bír az eddig megírt klasszunk. Frissítésként leírjuk, hogy az ```ActiveSensor``` klasszunkat egy IR LED objektummal, egy ADC konverterrel és egy kalibrációs fájlnévvel kell inicializálnunk. Ezen felül van egy ```start``` és ```stop``` metódusa, amik a mérés elindításáért és leállításáért felelős viselkedések. Található még egy ```initialize_calibration``` metódus, ami elvégzi a mért feszültség távolsággá alakítását, és egy ```start_measurement``` metódus, amiben maga a mérés zajlik."
   ]
  },
  {
   "cell_type": "markdown",
   "metadata": {},
   "source": [
    "```ir_classplotting.py```:"
   ]
  },
  {
   "cell_type": "code",
   "execution_count": 51,
   "metadata": {},
   "outputs": [],
   "source": [
    "import threading\n",
    "import time\n",
    "from raspberry_functions import read_2column_files, interpolate1d\n",
    "from gpiozero import LED, MCP3008\n",
    "\n",
    "\n",
    "class ActiveSensor:\n",
    "\tdef __init__(self, led, mcp, calibname):\n",
    "\t\tself.led = led\n",
    "\t\tself.mcp = mcp\n",
    "\t\tself.calibfile = calibname\n",
    "\t\tself.initialize_calibration(self.calibfile)\n",
    "\t\tself.event = threading.Event()\n",
    "\t\t\n",
    "\tdef start(self):\n",
    "\t\tself.event.clear()\n",
    "\t\tself.led.on()\n",
    "\t\tt = threading.Thread(target=self.start_measurement)\n",
    "\t\tt.start()\n",
    "\n",
    "\tdef start_measurement(self):\n",
    "\t\tprint('Measurement started')\n",
    "\t\twhile not self.event.is_set():\n",
    "\t\t\tcurrent_voltage = self.mcp.voltage\n",
    "\t\t\tcurrent_distance = interpolate1d(self.calib_volt, self.calib_distance, current_voltage)\n",
    "\t\t\tprint(f'Current distance from object is: {current_distance:.2} cm')\n",
    "\t\t\ttime.sleep(1)\n",
    "\t\t\n",
    "\tdef stop(self):\n",
    "\t\tself.event.set()\n",
    "\t\tself.led.off()\n",
    "\t\tprint('Measurement is stopped')\n",
    "\n",
    "\tdef initialize_calibration(self, filename):\n",
    "\t\tself.calib_volt, self.calib_distance = read_2column_files(filename, header=True)\n",
    "\t\n",
    "\n",
    "if __name__ == '__main__':\n",
    "\tir = LED(2)\n",
    "\tmcp = MCP3008(channel=7)\n",
    "\tcalib_file = 'ir_calibration.csv'\n",
    "\ta = ActiveSensor(ir, mcp, calib_file)\n"
   ]
  },
  {
   "cell_type": "markdown",
   "metadata": {},
   "source": [
    "### A hiányzó metódusok összegzése"
   ]
  },
  {
   "cell_type": "markdown",
   "metadata": {},
   "source": [
    "A mért adatok ábrázolásához nagy vonalakban a következő lépésekre lesz szükség:\n",
    "\n",
    "* Rögzíteni a mérés időpontját.\n",
    "* Összegyűjteni listákba az adatokat amit ábrázolni akarunk, ```prepare_data``` metódus.\n",
    "* Inicializálni egy ábrát, amire a méréseket ábrázoljuk, ```plot_initialize``` metódus.\n",
    "* Ábrázolás indítása, ```start_plot``` és ```plot_distance_thread``` metódus.\n",
    "* Ábrázolás leállítása, ```stop_plot``` metódus."
   ]
  },
  {
   "cell_type": "markdown",
   "metadata": {},
   "source": [
    "A fenti pontokon kívül szükségünk lesz még néhány segédcsomagra, amit be kell importálnunk. Ezekből is a legfontosabb az a kód első két sora. Be kell állítani egy olyan GUI kezelőt, ami képes a *thread*ek kezelésére. Mi itt a *PyQT5*ből származó ```QtA5Agg``` motort fogjuk használni. A legtöbb esetben nem ez a motor az alap beállítás, úgyhogy a biztonság kedvéért a kód első két sorában ez kell szerepeljen: ```import matplotlib```, ```matplotlib.use('Qt5Agg')```."
   ]
  },
  {
   "cell_type": "markdown",
   "metadata": {},
   "source": [
    "Az eddig felsorolt csomagok mellé beimportáljuk még a ```datetime``` csomagot, hogy a mérési időpontokat tudjuk rögzíteni, illetve a ```matplotlib.pyplot``` csomagot, hogy ábrázolni tudjunk."
   ]
  },
  {
   "cell_type": "markdown",
   "metadata": {},
   "source": [
    "Ugyanevvel a lendülettel, egy apró módosítást végzünk a már előzőleg megírt ```start_measurement``` metóduson. Ebben a metódusban végezzük a feszültségmérést, így kézenfekvő, hogy itt mérjük meg a mérés időpontját is, ```dd = dt.datetime.now()```. Miután megtörténik a feszültség kalibrálása távolsággá, előkészítjük a mért adatokat az ábrázolásra, ```self.prepare_data(dd, current_distance)```. Ennek a függvénynek nincs visszaadott paramétere, ugyanis a ```self``` objektumhoz rendeljük hozzá az új tulajodnságokat, a ```self.dlist``` időpont listát és a ```self.ylist``` távolság listát (lásd később). Ezeket a listákat az ```__init__``` függvényben inicializáltuk üres listára, így, amikor az objektum inicializálódik, ezek az üres listák is létrejönnek."
   ]
  },
  {
   "cell_type": "markdown",
   "metadata": {},
   "source": [
    "Az ```__init__``` függvényben van még egy új elem, a ```self.event_plot = threading.Event()```. Ez azt jelenti, hogy a plottoláshoz is rendelünk egy eseményt, aminek a ki-be kapcsolásával elindíthatjuk és leállíthatjuk az ábrázolást."
   ]
  },
  {
   "cell_type": "code",
   "execution_count": null,
   "metadata": {},
   "outputs": [],
   "source": [
    "import matplotlib\n",
    "matplotlib.use('Qt5Agg')\n",
    "import threading\n",
    "import time\n",
    "from raspberry_functions import read_2column_files, interpolate1d\n",
    "from gpiozero import LED, MCP3008\n",
    "import datetime as dt\n",
    "import matplotlib.pyplot as plt\n",
    "\n",
    "\n",
    "class ActiveSensor:\n",
    "\tdef __init__(self, led, mcp, calibname):\n",
    "\t\tself.led = led\n",
    "\t\tself.mcp = mcp\n",
    "\t\tself.calibfile = calibname\n",
    "\t\tself.initialize_calibration(self.calibfile)\n",
    "\t\tself.event = threading.Event()\n",
    "\t\tself.event_plot = threading.Event()   # plottolasi esemeny\n",
    "\t\tself.dlist = []  # idopont tarolo ures lista\n",
    "\t\tself.ylist = []  # meresi erteket tarolo ures lista\n",
    "\t\t\n",
    "\tdef start(self):\n",
    "\t\tself.event.clear()\n",
    "\t\tself.led.on()\n",
    "\n",
    "\tdef start_measurement(self):\n",
    "\t\tprint('Measurement started')\n",
    "\t\twhile not self.event.is_set():\n",
    "\t\t\tdd = dt.datetime.now()  # idopont meghatarozasa\n",
    "\t\t\tcurrent_voltage = self.mcp.voltage\n",
    "\t\t\tcurrent_distance = interpolate1d(self.calib_volt, self.calib_distance, current_voltage)\n",
    "\t\t\tprint(f'Current distance from object is: {current_distance:.2} cm')\n",
    "\t\t\tself.prepare_data(dd, current_distance)  # abrazolashoz az adatok elokeszitese\n",
    "\t\t\ttime.sleep(1)\n",
    "\t\t\n",
    "\tdef stop(self):\n",
    "\t\tself.event.set()\n",
    "\t\tself.led.off()\n",
    "\t\tprint('Measurement is stopped')\n",
    "\n",
    "\tdef initialize_calibration(self, filename):\n",
    "\t\tself.calib_volt, self.calib_distance = read_2column_files(filename, header=True)\n",
    "\n",
    "\tdef prepare_data(self, dd, yy, maxlen=20):\n",
    "\t\tpass\n",
    "    \n",
    "\tdef plot_initialize(self):\n",
    "\t\tpass\n",
    "\n",
    "\tdef start_plot(self):\n",
    "\t\tpass\n",
    "\n",
    "\tdef stop_plot(self):\n",
    "\t\tpass\n",
    "\n",
    "\tdef plot_distance_thread(self):\n",
    "\t\tpass\n",
    "\n",
    "\n",
    "if __name__ == '__main__':\n",
    "\tir = LED(2)\n",
    "\tmcp = MCP3008(channel=7)\n",
    "\tcalib_file = 'ir_calibration.csv'\n",
    "\ta = ActiveSensor(ir, mcp, calib_file)\n"
   ]
  },
  {
   "cell_type": "markdown",
   "metadata": {},
   "source": [
    "#### Az ábrázolni kívánt adatok előkészítése"
   ]
  },
  {
   "cell_type": "markdown",
   "metadata": {},
   "source": [
    "Mint ahogy az előbb már láthattuk, a ```prepare_data``` metódus felel azért, hogy az ábrázolandó adatok megfelelő formába kerüljenek. Négy bemenő paramétere van:\n",
    "\n",
    "* ```self``` - ez maga az objektum, így tudunk hivatkozni a függvényen belül az objektum tulajdonságaira.\n",
    "* ```dd```   - a legutóbbi méréshez tartozó dátum ```datetime``` formátumban.\n",
    "* ```yy```   - a legutóbbi mérés értéke.\n",
    "* ```maxlen``` - ez a paraméter adja meg, hogy a legutolsó hány mérést ábrázoljuk. Alapértelmezettként a legutolsó 20 mérés van megadva."
   ]
  },
  {
   "cell_type": "markdown",
   "metadata": {},
   "source": [
    "A függvény első dolga, hogy a paraméterként megadott új mérési időt és mérési értéket hozzáaddja ezen paraméterek tárolólistáihoz, ```self.dlist``` és a ```self.ylist```. A következő lépésben pedig megnézzük, hogy az így kapott időtároló lista hosszabb-e az előre megszabott értéktől (ami alapértelmezetten 20 mérést takar), ```if len(self.dlist) > maxlen:```. Ha túlléptünk a megengedett hosszon, akkor mind a két listából dobjuk ki a legelső (azaz a legrégebben bekerült) elemet a ```pop(0)``` metódussal. Így biztosítjuk, hogy mindig a maximálisan megengedett mennyiségű mérési adatot ábrázoljuk. "
   ]
  },
  {
   "cell_type": "code",
   "execution_count": null,
   "metadata": {},
   "outputs": [],
   "source": [
    "def prepare_data(self, dd, yy, maxlen=20):\n",
    "\t\tself.dlist.append(dd)\n",
    "\t\tself.ylist.append(yy)\n",
    "\t\tif len(self.dlist) > maxlen:\n",
    "\t\t\tself.dlist.pop(0)\n",
    "\t\t\tself.ylist.pop(0)"
   ]
  },
  {
   "cell_type": "markdown",
   "metadata": {},
   "source": [
    "#### Az ábra inicializálása"
   ]
  },
  {
   "cell_type": "markdown",
   "metadata": {},
   "source": [
    "Ezután létrehozunk, egy metódust, ```plot_initialize``` aminek meghívásával inicializlunk egy grafikont. Bemenő paraméterként csak a ```self``` objektumot adjuk meg, hogy lássa azt. Első dolgunk a plottolás interaktívvá tétele (azaz, hogy plottolás után visszanyerjük a kurzort a terminálban), ```plt.ion()```. Definiálunk egy ábra panelt, ```self.figure``` és a hozzátartozó tengelyeket ```self.ax```, ```self.figure, self.ax = plt.subplots(figsize=(8,6))```. Paraméterként azt is megadjuk, mekkora legyen az ábra, ```figsize=(8,6)```. A következő sorban ábrázoljuk a ```self.dlist```-ben és ```self.ylist```-ben tárolt értékeket, vonallal összekötött pontokként, ```'o-'```. Az így kapott vonal objektumot hozzárendeljük a ```self.line1, = self.ax.plot(self.dlist, self.ylist, 'o-')```, változóhoz. "
   ]
  },
  {
   "cell_type": "markdown",
   "metadata": {},
   "source": [
    "Stilizálásként adunk címet az ábrának a ```plt.title``` függvénnyel, beállítjuk az *x* és *y* tengely megnevezését, ```plt.xlabel(\"Time\",fontsize=18)``` és ```plt.ylabel(\"Distance (cm)\",fontsize=18)```. Végül teszünk négyzethálót az ábrára, ```plt.grid(True)```, hogy könnyebben leolvashassuk a mért értékeket."
   ]
  },
  {
   "cell_type": "markdown",
   "metadata": {},
   "source": [
    "Ez a metódus önmagától nem fut le. Mielőtt szeretnénk elindítani az ábrázolást, akkor kell meghívnunk ezt a metódust."
   ]
  },
  {
   "cell_type": "code",
   "execution_count": 1,
   "metadata": {},
   "outputs": [],
   "source": [
    "def plot_initialize(self):\n",
    "\tplt.ion()\n",
    "\tself.figure, self.ax = plt.subplots(figsize=(8,6))\n",
    "\tself.line1, = self.ax.plot(self.dlist, self.ylist, 'o-')\n",
    "\tplt.title(\"Dynamic Plot of measurement\",fontsize=25)\n",
    "\tplt.xlabel(\"Time\",fontsize=18)\n",
    "\tplt.ylabel(\"Distance (cm)\",fontsize=18)\n",
    "\tplt.grid(True)"
   ]
  },
  {
   "cell_type": "markdown",
   "metadata": {},
   "source": [
    "#### Az ábrázolás elindítása és leállítása"
   ]
  },
  {
   "cell_type": "markdown",
   "metadata": {},
   "source": [
    "A következő két metódus a mérés indítása, ```start_plot```,  és leállítása, ```stop_plot```. \n",
    "\n",
    "A ```start_plot``` metódusnak egy bemenő paramétere van, a ```self```. Rajta keresztül elérhetővé válik az ábrázolási esemény, ```self.event_plot```. A mérés elindításakor a legelső lépés az az, hogy ezt az eseményt hamis állapotba tedjuk, jelezve, hogy nincs leállítási esemény, ```self.event_plot.clear()```. Ezután létrehozunk egy *thread*et, ```t = threading.Thread(target=self.plot_distance_thread)```, aminek a feladata a ```self.plot_distance_thread``` függvény elindítása lesz, ami a plottolásért felel. Végül a elindítjuk a *thread*et, ```t.start()```."
   ]
  },
  {
   "cell_type": "markdown",
   "metadata": {},
   "source": [
    "A plottolás leállításához a bemenő paraméter szintén a ```self```. Így itt, átállíthatjuk a plottolás esemény állapotát igazra, ```self.event_plot.set()``` jelezve, hogy bekövetkezett a leállítás kérése. Plusz kiíratjuk a képernyőre, hogy leállítottuk a plottolást."
   ]
  },
  {
   "cell_type": "code",
   "execution_count": null,
   "metadata": {},
   "outputs": [],
   "source": [
    "def start_plot(self):\n",
    "\tself.event_plot.clear()\n",
    "\tt = threading.Thread(target=self.plot_distance_thread)\n",
    "\tt.start()\n",
    "\n",
    "def stop_plot(self):\n",
    "\tself.event_plot.set()\n",
    "\tprint('Measurement is stopped')"
   ]
  },
  {
   "cell_type": "markdown",
   "metadata": {},
   "source": [
    "#### Az ábrázolás elindítása után az ábra frissítése új adatokkal"
   ]
  },
  {
   "cell_type": "markdown",
   "metadata": {},
   "source": [
    "Az ábrázolás legfontosabbik része, maga az ábra folytono frissítése, a ```plot_distance_thread``` függvényben történik meg, aminek a bemenő paramétere szintén a ```self```. Nézzük milyen lépések zajlanak le benne. "
   ]
  },
  {
   "cell_type": "markdown",
   "metadata": {},
   "source": [
    "Első körben elindítunk egy végtelen ciklust, amit csak a ```self.event_plot``` esemény átállításával lehet leállítani. Ezért a ciklus feltételeként megvizsgáljuk, hogy bekövetkezett-e az átállítás, ```while not self.event_plot.is_set():```. A következő lépésekben frissítjük a legújabb mérésekkel az *x* és *y* tengelyen ábrázolandó adatokat, ```self.line1.set_xdata(self.dlist)```, és ```self.line1.set_ydata(self.ylist)```. Hogy vizuálisan korrektebb legyen, szintén frissítjük az *x* és *y* tengelyek limitjeit, ```self.ax.set_ylim(min(self.ylist)*0.99, max(self.ylist)*1.01)```, ```self.ax.set_xlim(min(self.dlist), max(self.dlist))```. Végül ábrázoljuk a frissített adatokat, ```self.figure.canvas.draw()```, ```self.figure.canvas.flush_events()```. Ahhoz, hogy a mért időpontok szép formázottan jelenjenek meg a tengelyen, meghívjuk a ```plt.gcf().autofmt_xdate()``` függvényt.\n",
    "\n",
    "Végére pedig beállítjuk, hogy 2 másodpercenként mérjen csak."
   ]
  },
  {
   "cell_type": "code",
   "execution_count": null,
   "metadata": {},
   "outputs": [],
   "source": [
    "def plot_distance_thread(self):\n",
    "\twhile not self.event_plot.is_set():\n",
    "\t\tself.line1.set_xdata(self.dlist)\n",
    "\t\tself.line1.set_ydata(self.ylist)\n",
    "\t\tself.ax.set_ylim(min(self.ylist)*0.99, max(self.ylist)*1.01) # +1 to avoid singular transformation warning\n",
    "\t\tself.ax.set_xlim(min(self.dlist), max(self.dlist))\n",
    "\t\tself.figure.canvas.draw()\n",
    "\t\tself.figure.canvas.flush_events()\n",
    "\t\tplt.gcf().autofmt_xdate()\n",
    "\t\ttime.sleep(2)"
   ]
  },
  {
   "cell_type": "markdown",
   "metadata": {},
   "source": [
    "### Az aktív szenzor objektum ábrázolási lehetőséggel"
   ]
  },
  {
   "cell_type": "markdown",
   "metadata": {},
   "source": [
    "Minden elemet belerakva a kódba a következő programot kapjuk:"
   ]
  },
  {
   "cell_type": "markdown",
   "metadata": {},
   "source": [
    "```ir_classplotting.py```:"
   ]
  },
  {
   "cell_type": "code",
   "execution_count": null,
   "metadata": {},
   "outputs": [],
   "source": [
    "import matplotlib\n",
    "matplotlib.use('Qt5Agg')\n",
    "import threading\n",
    "import time\n",
    "from raspberry_functions import read_2column_files, interpolate1d\n",
    "from gpiozero import LED, MCP3008\n",
    "import datetime as dt\n",
    "import matplotlib.pyplot as plt\n",
    "\n",
    "\n",
    "class ActiveSensor:\n",
    "\tdef __init__(self, led, mcp, calibname):\n",
    "\t\tself.led = led\n",
    "\t\tself.mcp = mcp\n",
    "\t\tself.calibfile = calibname\n",
    "\t\tself.initialize_calibration(self.calibfile)\n",
    "\t\tself.event = threading.Event()\n",
    "\t\tself.event_plot = threading.Event()\n",
    "\t\tself.dlist = []\n",
    "\t\tself.ylist = []\n",
    "\t\t\n",
    "\tdef start(self):\n",
    "\t\tself.event.clear()\n",
    "\t\tself.led.on()\n",
    "\n",
    "\tdef start_measurement(self):\n",
    "\t\tprint('Measurement started')\n",
    "\t\twhile not self.event.is_set():\n",
    "\t\t\tdd = dt.datetime.now()\n",
    "\t\t\tcurrent_voltage = self.mcp.voltage\n",
    "\t\t\tcurrent_distance = interpolate1d(self.calib_volt, self.calib_distance, current_voltage)\n",
    "\t\t\tprint(f'Current distance from object is: {current_distance:.2} cm')\n",
    "\t\t\tself.prepare_data(dd, current_distance)\n",
    "\t\t\ttime.sleep(1)\n",
    "\t\t\n",
    "\tdef stop(self):\n",
    "\t\tself.event.set()\n",
    "\t\tself.led.off()\n",
    "\t\tprint('Measurement is stopped')\n",
    "\n",
    "\tdef initialize_calibration(self, filename):\n",
    "\t\tself.calib_volt, self.calib_distance = read_2column_files(filename, header=True)\n",
    "\n",
    "\tdef prepare_data(self, dd, yy, maxlen=20):\n",
    "\t\tself.dlist.append(dd)\n",
    "\t\tself.ylist.append(yy)\n",
    "\t\tif len(self.dlist) > maxlen:\n",
    "\t\t\tself.dlist.pop(0)\n",
    "\t\t\tself.ylist.pop(0)\n",
    "\n",
    "\tdef plot_initialize(self):\n",
    "\t\tplt.ion()\n",
    "\t\tself.figure, self.ax = plt.subplots(figsize=(8,6))\n",
    "\t\tself.line1, = self.ax.plot(self.dlist, self.ylist, 'o-')\n",
    "\t\tplt.title(\"Dynamic Plot of measurement\",fontsize=25)\n",
    "\t\tplt.xlabel(\"Time\",fontsize=18)\n",
    "\t\tplt.ylabel(\"Distance (cm)\",fontsize=18)\n",
    "\t\tplt.grid(True)\n",
    "\n",
    "\tdef start_plot(self):\n",
    "\t\tself.event_plot.clear()\n",
    "\t\tt = threading.Thread(target=self.plot_distance_thread)\n",
    "\t\tt.start()\n",
    "\n",
    "\tdef stop_plot(self):\n",
    "\t\tself.event_plot.set()\n",
    "\t\tprint('Measurement is stopped')\n",
    "\n",
    "\tdef plot_distance_thread(self):\n",
    "\t\twhile not self.event_plot.is_set():\n",
    "\t\t\tself.line1.set_xdata(self.dlist)\n",
    "\t\t\tself.line1.set_ydata(self.ylist)\n",
    "\t\t\tself.ax.set_ylim(min(self.ylist)*0.99, max(self.ylist)*1.01) # +1 to avoid singular transformation warning\n",
    "\t\t\tself.ax.set_xlim(min(self.dlist), max(self.dlist))\n",
    "\t\t\tself.figure.canvas.draw()\n",
    "\t\t\tself.figure.canvas.flush_events()\n",
    "\t\t\tplt.gcf().autofmt_xdate()\n",
    "\t\t\ttime.sleep(2)\n",
    "\n",
    "\n",
    "if __name__ == '__main__':\n",
    "\tir = LED(2)\n",
    "\tmcp = MCP3008(channel=7)\n",
    "\tcalib_file = 'ir_calibration.csv'\n",
    "\ta = ActiveSensor(ir, mcp, calib_file)\n"
   ]
  },
  {
   "cell_type": "markdown",
   "metadata": {},
   "source": [
    "## A projekt tesztelése"
   ]
  },
  {
   "cell_type": "markdown",
   "metadata": {},
   "source": [
    "Miután összeszereltük az áramkört és a kódot is megírtuk, amit pl. ```ir_classplotting.py``` név alatt mentettünk el, megnyithatunk a Raspberry Pi operációs rendszerén egy terminált. A terminálban a ```cd 'mappa név'``` paranccsal elnavigálunk abba a mappába, ahova a ```ir_classplotting.py```-t elmentettük. Ott begépelve a ```python ir_classplotting.py``` parancsot, letesztelhetjük a programunk működését. Ha minden jól megy akkor a terminálból létrehozhatjuk a távolság mérésért felelős objektumot, majd a metódusaival elindíthatjuk és leállíthatjuk a mérést és ezen felül indíthatunk és leállíthatunk plottolást is.\n",
    "\n",
    "Hibaüzenetek esetén ki kell deríteni mi lehetett a probléma, pl. elgépelés, egy modul hiányzik, sorok megfelelő behúzása, idézőjel lemaradása stb. A hibaüzenet legtöbbször segít abban, hogy melyik sorban találta a hibát és hogy mi volt az. Egy kis gyakorlással bele lehet jönni azok értelmezésébe, valamint interneten is rá lehet keresni a hibaüzenet jelentésére és annak lehetséges elhárítására."
   ]
  },
  {
   "cell_type": "markdown",
   "metadata": {},
   "source": [
    "## Mit lehet javítani/továbbfejleszteni?"
   ]
  },
  {
   "cell_type": "markdown",
   "metadata": {},
   "source": [
    "* Írd át a klasszt úgy, hogy inicializáláskor bemenő paraméterként megadhasd, szeretnéd-e, hogy kiírja a kód a képernyőre a távolságot vagy sem.\n",
    "* Írd át a klasszt úgy, hogy inicializáláskor bemenő paraméterként megadhasd, szeretnéd-e, hogy kalibrálja a kód a mért feszültséget távolsággá, vagy sem.\n",
    "\n",
    "Írd meg kommentben, hogy szerinted mivel lehetne még feldobni ezt a kis programot!"
   ]
  },
  {
   "cell_type": "markdown",
   "metadata": {},
   "source": [
    "## Referencia"
   ]
  },
  {
   "cell_type": "markdown",
   "metadata": {},
   "source": [
    "1) gpiozero LED - https://gpiozero.readthedocs.io/en/stable/api_output.html#led\n",
    "\n",
    "2) MCP3008 datasheet - https://cdn-shop.adafruit.com/datasheets/MCP3008.pdf\n",
    "\n",
    "3) LM358 datasheet - https://www.ti.com/lit/ds/symlink/lm158-n.pdf , https://components101.com/ics/ic-lm358-pinout-details-datasheet\n",
    "\n",
    "4) gpiozero MCP3008 - https://gpiozero.readthedocs.io/en/stable/api_spi.html\n",
    "\n",
    "5) Fájlok kezelése - https://www.programiz.com/python-programming/file-operation\n",
    "\n",
    "6) Interpolálás - https://docs.scipy.org/doc/scipy/reference/generated/scipy.interpolate.interp1d.html#scipy.interpolate.interp1d\n",
    "\n",
    "7) threading - https://realpython.com/intro-to-python-threading/\n",
    "\n",
    "8) Objektum Orientált Programozás (OOP) - https://realpython.com/python3-object-oriented-programming/#:~:text=Programming%20with%20Python.-,What%20Is%20Object%2DOriented%20Programming%20in%20Python%3F,are%20bundled%20into%20individual%20objects.\n",
    "\n",
    "9) Matplotlib - https://matplotlib.org/stable/tutorials/index.html"
   ]
  },
  {
   "cell_type": "code",
   "execution_count": null,
   "metadata": {},
   "outputs": [],
   "source": []
  }
 ],
 "metadata": {
  "kernelspec": {
   "display_name": "Python 3",
   "language": "python",
   "name": "python3"
  },
  "language_info": {
   "codemirror_mode": {
    "name": "ipython",
    "version": 3
   },
   "file_extension": ".py",
   "mimetype": "text/x-python",
   "name": "python",
   "nbconvert_exporter": "python",
   "pygments_lexer": "ipython3",
   "version": "3.7.3"
  },
  "toc": {
   "base_numbering": 1,
   "nav_menu": {},
   "number_sections": true,
   "sideBar": true,
   "skip_h1_title": false,
   "title_cell": "Table of Contents",
   "title_sidebar": "Contents",
   "toc_cell": false,
   "toc_position": {},
   "toc_section_display": true,
   "toc_window_display": false
  }
 },
 "nbformat": 4,
 "nbformat_minor": 2
}
