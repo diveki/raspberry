{
 "cells": [
  {
   "cell_type": "markdown",
   "metadata": {
    "cell_style": "split"
   },
   "source": [
    "# Karácsonyi fények"
   ]
  },
  {
   "cell_type": "markdown",
   "metadata": {},
   "source": [
    "Karácsonykor a legtöbb helyen a karácsonyfa feldíszítése egy fontos családi esemény. Természetesen nem hiányozhat a fárol a sok színben pompázó LED szalag sem. Vannak amelyek automatikusan váltanak színeket, vannak amiknél gomb nyomására lehet programot váltani.\n",
    "\n",
    "Készítsük el a saját karácsonyfa díszünk prototípusát. Saját magunk állíthatjuk be, hogy milyen színben esetleg program szerint világítson a LED lámpa. "
   ]
  },
  {
   "cell_type": "markdown",
   "metadata": {},
   "source": [
    "## Mit fogsz készíteni?"
   ]
  },
  {
   "cell_type": "markdown",
   "metadata": {},
   "source": [
    "Egy RGB LED-ből, három ellenállásból és 3 gombból álló áramkört fogunk készíteni, amivel megtanulhatjuk az RGB LED vezérlését gombok segítségével. "
   ]
  },
  {
   "cell_type": "markdown",
   "metadata": {},
   "source": [
    "## Mit tanulsz meg?"
   ]
  },
  {
   "cell_type": "markdown",
   "metadata": {},
   "source": [
    "Az RGB LED áramkör elkészítésével a következőket tanulod meg:\n",
    "\n",
    "* Hogyan tudsz egy egyszerű áramkört összerakni egy breadboard, RGB LED, ellenállások, gombok és drótok segítségével\n",
    "* Hogyan programozd be a Raspberry Pi GPIO kimeneteleit a **gpiozero** modullal\n",
    "* Hogyan használjuk az *RGBLED* objektumokat és változtasd azoknak a színét\n",
    "* Hogyan definiáljunk függvényeket amik szabályozzák a LED működését."
   ]
  },
  {
   "cell_type": "markdown",
   "metadata": {},
   "source": [
    "## A projekt részletekre bontása"
   ]
  },
  {
   "cell_type": "markdown",
   "metadata": {},
   "source": [
    "* Inicializálni az RGB LED és Button objektumokat\n",
    "* Definiálni a színbeállító függvényeket\n",
    "* Hozzárendelni a függvényeket a nyomógombokhoz\n",
    "* Végtelen ciklust indítani."
   ]
  },
  {
   "cell_type": "markdown",
   "metadata": {},
   "source": [
    "## Áramköri elemek listája"
   ]
  },
  {
   "cell_type": "markdown",
   "metadata": {},
   "source": [
    "a) [Raspberry PI](https://malnapc.hu/yis/raspberry-pi/rpi-panelek) \n",
    "\n",
    "b) 3db nyomó gomb: [itt vásárolhatsz](https://hu.farnell.com/schurter/1301-9320/switch-smd-push-12-5mm/dp/1217772?gclid=Cj0KCQjwzZj2BRDVARIsABs3l9K-ACTnuRr-dLVcDUKleNfECM3H3kWS_RfWtmXGMXVJeY9otda4dDcaAvGLEALw_wcB&gross_price=true&mckv=sSFnjERxR_dc|pcrid|434487710397|plid||kword||match||slid||product|1217772|pgrid|101346804139|ptaid|pla-389347076066|&CMP=KNC-GHU-SHOPPING-switches-relays-NEWSTRUCTURE-13-MAY-20) vagy [építhetsz]()\n",
    "\n",
    "c) [Jumper wires female/male](https://www.ret.hu/shop/product/e-call/jumper-vezetek-szet_53-22-63) \n",
    "\n",
    "d) RGB LED, $I_{max}$ = 20 mA-es: [itt vásárolhatsz](https://www.tme.eu/hu/details/osta56a1a-c/tht-led-diodak-egyeb/optosupply/)\n",
    "\n",
    "e) 3db 220 - 560 Ohm közötti [ellenállás](https://www.tme.eu/hu/katalog/tht-metal-film-ellenallasok-0-6w_100289/?s_order=desc&search=ellenallas&s_field=1000011)\n",
    "\n",
    "f) 1db [Breadboard](https://www.tme.eu/hu/katalog/muhelyfelszereles_112607/?s_order=desc&search=breadboard&s_field=1000011)"
   ]
  },
  {
   "cell_type": "markdown",
   "metadata": {},
   "source": [
    "## A kapcsolási rajz"
   ]
  },
  {
   "cell_type": "markdown",
   "metadata": {},
   "source": [
    "<img src=\"prog041_circuit.png\" width=600 height=400 />"
   ]
  },
  {
   "cell_type": "markdown",
   "metadata": {},
   "source": [
    "A fenti ábrához hasonlóan kapcsoljuk össze az áramköri elemeket és a Raspberry Pi-t.\n",
    "\n",
    "1) Helyezzük az RGB LED lábait különboző sorokba. **FONTOS**: Ha közös katódú (-) LED-ünk van, akkor a leghosszabb lábat, a közös katódot, a földelésre, **GND** kell kapcsolni, ha közös anódú (+) LED-ünk van, akkor a leghosszabb lábat a 3.3V-os (vagy 5V-os) feszültségre kell kapcsolni. A rajzon mi a közös katódú LED-et ábrázoljuk.\n",
    "\n",
    "A LED anódjának és katódjának megállapítására használhatunk egy multimétert. Csatlakoztasd a fekete mérőzsinórt a COM (föld) és a piros mérőzsinórt a VΩmA jelzésű hüvelybe. Forgasd el a méréshatárváltó kapcsolót a folytonosság mérés állapotba. Érintsd a két zsínórt a leghosszabb lábhoz és egy másikhoz és ha a LED halványan pislákol, akkor az a láb amelyikhez a fekete zsinórt érintetted a katód, a másik az anód. Ha nem pislákol akkor cseréld meg a zsinórok és a lábak érintkezését, hogy világítson."
   ]
  },
  {
   "cell_type": "markdown",
   "metadata": {},
   "source": [
    "<img src=\"rgb-led-pin.png\" width=500 height=400 />"
   ]
  },
  {
   "cell_type": "markdown",
   "metadata": {},
   "source": [
    "RGB LED sematikus ábrázolása. A (-) és (+) jelölés (leghosszabb láb) a közös katódot és anódot jelentik, míg az R, G és B a színek kivezetését képviselik."
   ]
  },
  {
   "cell_type": "markdown",
   "metadata": {},
   "source": [
    "2) Az RGB LED leghosszabb lábát (közös katód) kössük össze a Raspberry Pi egyik **GND** jelölésű tüskéjével egy jumper drót segítségével. A fenti ábrán a breadboard bal oldalsó oszlopában létrehoztunk egy közös földelést és arra kötöttük a katódot. \n",
    "\n",
    "3) A többi láb sorába az ábrának megfelelően kössük be az ellenállásokat.\n",
    "\n",
    "4) A piros (R) lábhoz tartozó ellenállás sorát kössük a **9**-es GPIO tüskéhez, a zöldet (G) a **10**-eshez és a kéket a **11**-hez.\n",
    "\n",
    "5) A nyomógomb lábait illesszük a breadbord mélyedéseibe. Ügyeljünk arra, hogy a nyomógomb egy (vízszintes) sorba kerülő lábai a gomb lenyomása nélkül is kapcsolatban legyenek egymással, míg a (függőlegesen) egy oszlopba kerülő lábai csak a lenyomás következtében lesznek összekötve. Mindezt egy műszerrel leellenőrízhetjük. \n",
    "\n",
    "6) Ugyanezt ismételjük meg még kétszer, ahogy az ábra mutatja.  \n",
    "\n",
    "7) Fogjunk 3 jumper kábelt (pl. az ábrán a narancssárga) és kössük egyenként egyik végüket a gomb egyik lábának sorába. A másik végüket a Raspberry Pi **GPIO 02**-es, a **GPIO 03**-es és a **GPIO 17**-es tüskéjére kössük. \n",
    "\n",
    "8) A gombok másik lábának sorába pedig földelést kell kötni. Kössük őket a szélső függőlegesen összekötött oszlopba, amit már kineveztünk földelésnek. "
   ]
  },
  {
   "cell_type": "markdown",
   "metadata": {},
   "source": [
    "## A kód\n",
    "Nyissunk meg egy új python fájlt és mentsük el pl. ```led_RGB_button.py``` név alatt."
   ]
  },
  {
   "cell_type": "markdown",
   "metadata": {},
   "source": [
    "### A LED-ek kipróbálása"
   ]
  },
  {
   "cell_type": "markdown",
   "metadata": {},
   "source": [
    "Miután elkészítettük az áramkört, meg kell írnunk a kódot ami utasítja a Raspberry Pi-t, hogyan viselkedjen az RGB LED.\n",
    "\n",
    "Először betöltjük a ```gpiozero``` modulból az ```RGBLED``` és ```Button``` objektumokat amik lehetővé teszik, hogy a Raspi kommunikáljon a LED-del és a gombokkal a **GPIO** tüskéken keresztül. Ez mellett beolvassuk még a ```sleep``` függvényt is, amit a python várakoztatására használunk majd."
   ]
  },
  {
   "cell_type": "markdown",
   "metadata": {},
   "source": [
    "```led_RGB_button.py```:"
   ]
  },
  {
   "cell_type": "code",
   "execution_count": null,
   "metadata": {},
   "outputs": [],
   "source": [
    "from gpiozero import RGBLED, Button\n",
    "from time import sleep"
   ]
  },
  {
   "cell_type": "markdown",
   "metadata": {},
   "source": [
    "Az objektum beolvasása után inicializálunk egy ```RGBLED``` objektumot, amit ```led```-nek nevezünk el. Az ```RGBLED``` argumentumok között azt is megadjuk, hogy melyik színt melyik GPIO tüskére kapcsoltuk. Emellett érdemes megemlíteni az ```active_high``` argumentumot, mert annak tükrében, hogy közös katódú vagy anódú LED-et használunk, ```True```-nak vagy ```False```-nak kell lennie. A mi pépldánkban közös katódú LED szerepel, ezért ```active_high=True```."
   ]
  },
  {
   "cell_type": "markdown",
   "metadata": {},
   "source": [
    "```led_RGB_button.py```:"
   ]
  },
  {
   "cell_type": "code",
   "execution_count": null,
   "metadata": {},
   "outputs": [],
   "source": [
    "from gpiozero import RGBLED, Button\n",
    "from time import sleep\n",
    "\n",
    "led = RGBLED(red=9, green=10, blue=11)"
   ]
  },
  {
   "cell_type": "markdown",
   "metadata": {},
   "source": [
    "Most írunk egy függvényt amit ha meghívunk szabályozza a LED színét. A függvény nevének azt a színt adjuk, amilyen színűre szeretnénk a LED-et kapcsolni, ```red```, ```magenta``` és ```cyan```. RGB színkódokat a neten egyszerűen lehet találni, pl. [itt](https://www.rapidtables.com/web/color/RGB_Color.html). A függvényen belül beállítjuk a LED színét a ```led.color``` argumentumhoz rendelt értékkel."
   ]
  },
  {
   "cell_type": "markdown",
   "metadata": {},
   "source": [
    "```led_RGB_button.py```:"
   ]
  },
  {
   "cell_type": "code",
   "execution_count": null,
   "metadata": {},
   "outputs": [],
   "source": [
    "from gpiozero import RGBLED, Button\n",
    "from time import sleep\n",
    "\n",
    "\n",
    "led = RGBLED(red=9, green=10, blue=11)\n",
    "\n",
    "def red():\n",
    "    led.color = (1,0,0)\n",
    "\n",
    "def magenta():\n",
    "    led.color = (1,0,1)\n",
    "\n",
    "def cyan():\n",
    "    led.color = (0,1,1)"
   ]
  },
  {
   "cell_type": "markdown",
   "metadata": {},
   "source": [
    "Ezután egy végtelen ```while``` ciklusban meghívjuk ezeket a függvényeket sorban némi késleltetéssel."
   ]
  },
  {
   "cell_type": "markdown",
   "metadata": {},
   "source": [
    "```led_RGB_button.py```:"
   ]
  },
  {
   "cell_type": "code",
   "execution_count": null,
   "metadata": {},
   "outputs": [],
   "source": [
    "from gpiozero import RGBLED, Button\n",
    "from time import sleep\n",
    "\n",
    "\n",
    "led = RGBLED(red=9, green=10, blue=11)\n",
    "\n",
    "def red():\n",
    "    led.color = (1,0,0)\n",
    "\n",
    "def magenta():\n",
    "    led.color = (1,0,1)\n",
    "\n",
    "def cyan():\n",
    "    led.color = (0,1,1)\n",
    "    \n",
    "while True:\n",
    "    red()\n",
    "    sleep(2)\n",
    "    magenta()\n",
    "    sleep(2)\n",
    "    cyan()\n",
    "    sleep(2)"
   ]
  },
  {
   "cell_type": "markdown",
   "metadata": {},
   "source": [
    "Mentsük el a kódot, majd futtassuk le. Ha minden jól működik, akkor az általunk definiált 3 szín kell, hogy váltakozzon 1 másodperces különbséggel."
   ]
  },
  {
   "cell_type": "markdown",
   "metadata": {},
   "source": [
    "### Az RGBLED vezérlése gombokkal"
   ]
  },
  {
   "cell_type": "markdown",
   "metadata": {},
   "source": [
    "Miután meggyőződtünk, hogy a LED a terv szerint működik a függvényekkel, inicializálhatunk 3 gombot, egyet-egyet mindegyik függvényhez. Ezután a függvényeket egyenként hozzárendeljuk a gombok ```.when_pressed``` metódusához. Így biztosítjuk, hogy a gomb lenyomása kapcsolja be a LED-et. \n",
    "\n",
    "Végül, hogy biztosítsuk a program folytonos működését létrehozunk egy üres végtelen ```while``` ciklus úgy, hogy a szerkezetébe csak a ```pass``` parancsot írjuk be. "
   ]
  },
  {
   "cell_type": "markdown",
   "metadata": {},
   "source": [
    "```led_RGB_button.py```:"
   ]
  },
  {
   "cell_type": "code",
   "execution_count": null,
   "metadata": {},
   "outputs": [],
   "source": [
    "from gpiozero import RGBLED, Button\n",
    "from time import sleep\n",
    "\n",
    "\n",
    "led = RGBLED(red=9, green=10, blue=11)\n",
    "\n",
    "button1 = Button(2)\n",
    "button2 = Button(3)\n",
    "button3 = Button(17)\n",
    "\n",
    "\n",
    "def red():\n",
    "    led.color = (1,0,0)\n",
    "\n",
    "def magenta():\n",
    "    led.color = (1,0,1)\n",
    "\n",
    "def cyan():\n",
    "    led.color = (0,1,1)\n",
    "\n",
    "button1.when_pressed = red\n",
    "button2.when_pressed = magenta\n",
    "button3.when_pressed = cyan\n",
    "\n",
    "while True:\n",
    "    pass"
   ]
  },
  {
   "cell_type": "markdown",
   "metadata": {},
   "source": [
    "## A projekt tesztelése"
   ]
  },
  {
   "cell_type": "markdown",
   "metadata": {},
   "source": [
    "Miután összeszereltük az áramkört és a kódot is megírtuk, amit pl. ```led_RGB_button.py``` név alatt mentettünk el, megnyithatunk a Raspberry Pi operációs rendszerén egy terminált. A terminálban a ```cd 'mappa név'``` paranccsal elnavigálunk abba a mappába, ahova a ```led_RGB_button.py```-t elmentettük. Ott begépelve a ```python led_RGB_button.py``` parancsot, letesztelhetjük a programunk működését. Ha minden jól megy akkor a gombok lenyomásakor az RGB LED a megfelelő színekben kezd el világítani.\n",
    "\n",
    "Hibaüzenetek esetén ki kell deríteni mi lehetett a probléma, pl. elgépelés, egy modul hiányzik, sorok megfelelő behúzása, idézőjel lemaradása stb. A hibaüzenet legtöbbször segít abban, hogy melyik sorban találta a hibát és hogy mi volt az. Egy kis gyakorlással bele lehet jönni azok értelmezésébe, valamint interneten is rá lehet keresni a hibaüzenet jelentésére és annak lehetséges elhárítására."
   ]
  },
  {
   "cell_type": "markdown",
   "metadata": {},
   "source": [
    "## Mit lehet javítani/továbbfejleszteni?"
   ]
  },
  {
   "cell_type": "markdown",
   "metadata": {},
   "source": [
    "* Gombnyomással szabályozni a megjelenített szín intenzitását.\n",
    "* Írj kódot arra, hogy a számítógép billentyűzete szabűlyozza a LED színét.\n",
    "\n",
    "Írd meg kommentben, hogy szerinted mivel lehetne még feldobni ezt a kis programot!"
   ]
  },
  {
   "cell_type": "markdown",
   "metadata": {},
   "source": [
    "## Referencia"
   ]
  },
  {
   "cell_type": "markdown",
   "metadata": {},
   "source": [
    "1) gpiozero leírás - [https://gpiozero.readthedocs.io/en/stable/recipes.html](https://gpiozero.readthedocs.io/en/stable/recipes.html)\n",
    "\n",
    "2) LED objektum leírása - [https://gpiozero.readthedocs.io/en/stable/api_output.html#led](https://gpiozero.readthedocs.io/en/stable/api_output.html#led)\n",
    "\n",
    "3) RGBLED objektum leírása - [https://gpiozero.readthedocs.io/en/stable/api_output.html#rgbled](https://gpiozero.readthedocs.io/en/stable/api_output.html#rgbled)\n",
    "\n",
    "4) Button objektum leírása - [https://gpiozero.readthedocs.io/en/stable/api_input.html#button](https://gpiozero.readthedocs.io/en/stable/api_input.html#button)\n",
    "\n",
    "5) RGB színkódok - [https://www.rapidtables.com/web/color/RGB_Color.html](https://www.rapidtables.com/web/color/RGB_Color.html)"
   ]
  },
  {
   "cell_type": "code",
   "execution_count": null,
   "metadata": {},
   "outputs": [],
   "source": []
  }
 ],
 "metadata": {
  "kernelspec": {
   "display_name": "Python 3",
   "language": "python",
   "name": "python3"
  },
  "language_info": {
   "codemirror_mode": {
    "name": "ipython",
    "version": 3
   },
   "file_extension": ".py",
   "mimetype": "text/x-python",
   "name": "python",
   "nbconvert_exporter": "python",
   "pygments_lexer": "ipython3",
   "version": "3.7.4"
  },
  "toc": {
   "base_numbering": 1,
   "nav_menu": {},
   "number_sections": true,
   "sideBar": true,
   "skip_h1_title": false,
   "title_cell": "Table of Contents",
   "title_sidebar": "Contents",
   "toc_cell": false,
   "toc_position": {},
   "toc_section_display": true,
   "toc_window_display": false
  }
 },
 "nbformat": 4,
 "nbformat_minor": 2
}
