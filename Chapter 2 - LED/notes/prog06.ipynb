{
 "cells": [
  {
   "cell_type": "markdown",
   "metadata": {},
   "source": [
    "# Legyen Ön is milliomos"
   ]
  },
  {
   "cell_type": "markdown",
   "metadata": {},
   "source": [
    "A TV-ben nagyon nagy népszerűségnek örvendenek a kvíz játékok, ahol a játékosok lexikális tudását (és szerencséjét) mérik fel. A Raspberry Pi segítségével te is készíthetsz egy otthoni izgalmas kvíz játékot.\n",
    "\n",
    "Ebben a projektben a Legyen Ön is milliomos vetélkedő egyszerűsített mását készítjük el. Országok fővárosait kell majd kitalálni két opcióból. A két opcióhoz tartozik két gomb is, amivel jelezhetjük melyiket szeretnénk választani. Azt, hogy helyesen választottunk-e LED-ekkel jelezzük, a piros jelenti a rossz, a kék a jó választ. "
   ]
  },
  {
   "cell_type": "markdown",
   "metadata": {},
   "source": [
    "## Mit fogsz készíteni?"
   ]
  },
  {
   "cell_type": "markdown",
   "metadata": {},
   "source": [
    "Kettő különböző színű LED diódából és kettő nyomógombból álló rendszert készítesz, ahol a nyomógomb lenyomásával jelezheted, hogy melyik a helyes válasz, majd a LED kijelzi, hogy a kiválasztott opció helyes-e (kék LED világít) vagy sem (piros LED világít). "
   ]
  },
  {
   "cell_type": "markdown",
   "metadata": {},
   "source": [
    "## Mit tanulsz meg?"
   ]
  },
  {
   "cell_type": "markdown",
   "metadata": {},
   "source": [
    "A reflex verseny elkészítésével a következőket tanulod meg:\n",
    "\n",
    "* Hogyan tudsz egy egyszerű áramkört összerakni egy breadboard, LEDek, ellenállás, gombok és drótok segítségével\n",
    "* Hogyan programozd be a Raspberry Pi GPIO kimeneteleit a **gpiozero** modullal\n",
    "* Hogyan tárolj információt dictionary-ben\n",
    "* Hogyan írj függvényeket\n",
    "* Hogyan állapítsd meg, melyik gombot nyomták le\n",
    "* Hogyan válassz random elemeket listákból"
   ]
  },
  {
   "cell_type": "markdown",
   "metadata": {},
   "source": [
    "## A projekt részletekre bontása"
   ]
  },
  {
   "cell_type": "markdown",
   "metadata": {},
   "source": [
    "* Inicializálni a Button és LED objektumokat\n",
    "* Dictionarybe menteni a kérdéseket\n",
    "* Függvényeket készíteni a kérdések és válaszok megjelenítéséhez\n",
    "* Függvényt írni a gomb lenyomásának érzékelésére és a LED kapcsoláshoz\n",
    "* Végtelen ciklusban megjeleníteni a kérdéseket és várni a választ"
   ]
  },
  {
   "cell_type": "markdown",
   "metadata": {},
   "source": [
    "## Áramköri elemek listája"
   ]
  },
  {
   "cell_type": "markdown",
   "metadata": {},
   "source": [
    "a) [Raspberry PI](https://malnapc.hu/yis/raspberry-pi/rpi-panelek) \n",
    "\n",
    "b) 2db nyomó gomb: [itt vásárolhatsz](https://hu.farnell.com/schurter/1301-9320/switch-smd-push-12-5mm/dp/1217772?gclid=Cj0KCQjwzZj2BRDVARIsABs3l9K-ACTnuRr-dLVcDUKleNfECM3H3kWS_RfWtmXGMXVJeY9otda4dDcaAvGLEALw_wcB&gross_price=true&mckv=sSFnjERxR_dc|pcrid|434487710397|plid||kword||match||slid||product|1217772|pgrid|101346804139|ptaid|pla-389347076066|&CMP=KNC-GHU-SHOPPING-switches-relays-NEWSTRUCTURE-13-MAY-20) vagy [építhetsz]()\n",
    "\n",
    "c) [Jumper wires female/male](https://www.ret.hu/shop/product/e-call/jumper-vezetek-szet_53-22-63) \n",
    "\n",
    "d) 2db LED (különböző színű), $I_{max}$ = 20 mA-es: [itt vásárolhatsz](https://www.tme.eu/hu/katalog/tht-led-diodak-5mm_112898/?s_order=desc&search=led&s_field=1000011)\n",
    "\n",
    "e) 2db 220 - 560 Ohm közötti [ellenállás](https://www.tme.eu/hu/katalog/tht-metal-film-ellenallasok-0-6w_100289/?s_order=desc&search=ellenallas&s_field=1000011)\n",
    "\n",
    "f) 1db [Breadboard](https://www.tme.eu/hu/katalog/muhelyfelszereles_112607/?s_order=desc&search=breadboard&s_field=1000011)"
   ]
  },
  {
   "cell_type": "markdown",
   "metadata": {},
   "source": [
    "## A kapcsolási rajz"
   ]
  },
  {
   "cell_type": "markdown",
   "metadata": {},
   "source": [
    "<img src=\"prog06_circuit.png\" width=600 height=400 />"
   ]
  },
  {
   "cell_type": "markdown",
   "metadata": {},
   "source": [
    "A fenti ábrához hasonlóan kapcsoljuk össze az áramköri elemeket és a Raspberry Pi-t.\n",
    "\n",
    "1) A nyomógombok lábait illesszük a breadbord mélyedéseibe. Ügyeljünk arra, hogy a nyomógomb egy (vízszintes) sorba kerülő lábai a gomb lenyomása nélkül is kapcsolatban legyenek egymással, míg a (függőlegesen) egy oszlopba kerülő lábai csak a lenyomás következtében legyenek összekötve. Mindezt egy műszerrel leellenőrízhetjük.\n",
    "\n",
    "2) Mindezt ismételjük meg egy másik gombbal legalább 15 sorral eltolva az előző gombhoz képest.\n",
    "\n",
    "3) Helyezzük az egyik LED lábait két különboző sorba, az egyik nyomógombhoz közelebb. A katódját (negatív láb) kössük a földeléshez míg az anódjának (pozitív láb) sorába kössük be az ellenállásunk egyik lábát, míg a másikat egy üresen álló sorba tegyük. A LED anódjának és katódjának megállapítására használhatunk egy multimétert. Csatlakoztasd a fekete mérőzsinórt a COM (föld) és a piros mérőzsinórt a VΩmA jelzésű hüvelybe. Forgasd el a méréshatárváltó kapcsolót a folytonosság mérés állapotba. Érintsd a két zsínórt a két lábhoz és ha a LED halványan pislákol, akkor az a láb amelyikhez a fekete zsinórt érintetted a katód, a másik az anód. Ha nem pislákol akkor cseréld meg a zsinórok és a lábak érintkezését, hogy világítson.\n",
    "\n",
    "4) Ismételjük meg az előző pontot a másik LED-del is a másik nyomógombhoz közelebb.\n",
    "\n",
    "4) Nevezzük ki a breadboard oldalsó oszlopainak egyikét a közös földelésnek (az ábrán a fekete drótok képviselik). Ide kössük be a nyomógombok egyik lábát illetve a LED-ek katódját. Ugyanebbe az oszlopba kössük be a Raspberry Pi egyik **GND** jelölésű tüskéjét is egy jumper drót segítségével.\n",
    "\n",
    "5) A nyomógombok eddig szabadon lévő lábait egy jumperrel kössük össze a **2**-es és **3**-as GPIO tüskével.\n",
    "\n",
    "6) Az kék LED ellenállásának szabadon levő lábát egy jumperrel kössük össze a **10**-es GPIO tüskével, míg a pirosét a **9**-es GPIO tüskével."
   ]
  },
  {
   "cell_type": "markdown",
   "metadata": {},
   "source": [
    "## A kód\n",
    "Nyissunk meg egy új python fájlt és mentsük el pl. ```led_quiz.py``` név alatt."
   ]
  },
  {
   "cell_type": "markdown",
   "metadata": {},
   "source": [
    "### A LED kipróbálása"
   ]
  },
  {
   "cell_type": "markdown",
   "metadata": {},
   "source": [
    "Miután elkészítettük az áramkört, meg kell írnunk a kódot ami utasítja a Raspberry Pi-t, hogyan viselkedjen amikor a gombot megnyomják.\n",
    "\n",
    "Először betöltjük a ```gpiozero``` modulból a ```Button``` és ```LED``` objektumokat amik lehetővé teszik, hogy a Raspi kommunikáljon a gombbal és a LED-del a **GPIO** tüskéken keresztül. Ezek mellett beolvassuk még a ```sleep``` függvényt is, amit a python várakoztatására használunk majd, illetve a ```random``` csomagot, amivel a kérdések és a válasz opciók megjelenését teszzük majd véletlenszerűvé."
   ]
  },
  {
   "cell_type": "markdown",
   "metadata": {},
   "source": [
    "```led_quiz.py```:"
   ]
  },
  {
   "cell_type": "code",
   "execution_count": 6,
   "metadata": {},
   "outputs": [],
   "source": [
    "from gpiozero import Button, LED\n",
    "from time import sleep\n",
    "import random"
   ]
  },
  {
   "cell_type": "markdown",
   "metadata": {},
   "source": [
    "Az objektum beolvasása után inicializálunk kettő ```LED``` objektumot, amit ```red```-nek és ```blue```-nak nevezünk el. Egyben megmondjuk, hogy azokat a *10*-es és a *9*-es számú **GPIO** tüskére kötöttük.  "
   ]
  },
  {
   "cell_type": "markdown",
   "metadata": {},
   "source": [
    "```led_quiz.py```:"
   ]
  },
  {
   "cell_type": "code",
   "execution_count": null,
   "metadata": {},
   "outputs": [],
   "source": [
    "from gpiozero import Button, LED\n",
    "from time import sleep\n",
    "import random\n",
    "\n",
    "blue = LED(9)\n",
    "red = LED(10)"
   ]
  },
  {
   "cell_type": "markdown",
   "metadata": {},
   "source": [
    "Ezután, hogy tesztelhessük, működik-e az áramkörünk LED-es része, egészítsük ki a kódot a következő sorokkal, ami villogtatja a LED-eket:"
   ]
  },
  {
   "cell_type": "markdown",
   "metadata": {},
   "source": [
    "```led_quiz.py```:"
   ]
  },
  {
   "cell_type": "code",
   "execution_count": null,
   "metadata": {},
   "outputs": [],
   "source": [
    "from gpiozero import LED, Button\n",
    "from time import sleep\n",
    "import random\n",
    "\n",
    "blue = LED(9)\n",
    "red = LED(10)\n",
    "\n",
    "blue.blink()\n",
    "red.blink()\n",
    "sleep(5)"
   ]
  },
  {
   "cell_type": "markdown",
   "metadata": {},
   "source": [
    "Mentsük el a fájlt és futtasuk le a kódot a terminálban a ```python led_quiz.py``` paranccsal. Ha minden rendben van, a két LED villog 5 másodpercig majd kialszik."
   ]
  },
  {
   "cell_type": "markdown",
   "metadata": {},
   "source": [
    "### A nyomógombok tesztelése"
   ]
  },
  {
   "cell_type": "markdown",
   "metadata": {},
   "source": [
    "Inicializáljunk most két nyomógombot, ```yes``` és ```no```, amiket a *2*-es és a *3*-as GPIO tüskékre kötünk. "
   ]
  },
  {
   "cell_type": "markdown",
   "metadata": {},
   "source": [
    "```led_quiz.py```:"
   ]
  },
  {
   "cell_type": "code",
   "execution_count": null,
   "metadata": {},
   "outputs": [],
   "source": [
    "from gpiozero import LED, Button\n",
    "from time import sleep\n",
    "import random\n",
    "\n",
    "blue = LED(9)\n",
    "red = LED(10)\n",
    "\n",
    "yes = Button(2)\n",
    "no  = Button(3)"
   ]
  },
  {
   "cell_type": "markdown",
   "metadata": {},
   "source": [
    "Ezután írunk egy ```pressed``` nevű függvényt, aminek az első argumentuma egy gomb objektum a második pedig egy segéd argumentum, aminek az értéke 1 ha a ```yes``` gombot nyomtuk meg illetve 2 ha a ```no```-t. A függvényen belül egy ```if``` szerkezettel kivizsgáljuk, hogy mi az értéke ennek a második argumentumnak, és ha 1 akkor kinyomtatjuk, hogy ```You got it right!```, ha 2 akkor pedig ```Wroooong!```. Majd a végső kódban ezeket a kiírásokat a megfelelő LED bekapcsolása fogja leváltani. Miután kész a függvény, azt hozzá kell rendelni a nyomógombok ```when_pressed``` metódusához, hogy a lenyomásra ez a függvény aktiválódjon. \n",
    "\n",
    "Végül, írunk egy üres végtelen ```while``` ciklust, hogy le tudjuk tesztelni a gombjaink működését. "
   ]
  },
  {
   "cell_type": "markdown",
   "metadata": {},
   "source": [
    "```led_quiz.py```:"
   ]
  },
  {
   "cell_type": "code",
   "execution_count": null,
   "metadata": {},
   "outputs": [],
   "source": [
    "from gpiozero import LED, Button\n",
    "from time import sleep\n",
    "import random\n",
    "\n",
    "blue = LED(9)\n",
    "red = LED(10)\n",
    "\n",
    "yes = Button(2)\n",
    "no  = Button(3)\n",
    "\n",
    "def pressed(button, pos = 0):\n",
    "    if pos == 1:\n",
    "        print('You got it right!')\n",
    "    else:\n",
    "        print('Wroooong!')\n",
    "    \n",
    "yes.when_pressed = pressed(yes, pos = 1)\n",
    "no.when_pressed  = pressed(no, pos = 2)\n",
    "\n",
    "while True:\n",
    "    pass"
   ]
  },
  {
   "cell_type": "markdown",
   "metadata": {},
   "source": [
    "Ha a LED-ek vagy a gombok nem követik a programban lekódolt viselkedést, ellenőrízzük az áramkör kapcsolását, hogy minden jól lett-e bekötve. "
   ]
  },
  {
   "cell_type": "markdown",
   "metadata": {},
   "source": [
    "### Kvíz kérdésekhez függvények definiálása"
   ]
  },
  {
   "cell_type": "markdown",
   "metadata": {},
   "source": [
    "Hogy a fő programrészt rövidebbre vehessük, írunk néhány segédfüggvényt, amik lehetővé teszik a kérdések és a hozzájuk tartozó lehetséges válaszok megjelenítését. \n",
    "\n",
    "Először létrehozunk egy dictionary-t, aminek a kulcsai az ország nevek, az értékei pedig a kulcsokhoz tartozó fővárosok. Ebből az adatbázisból fogunk véletlenszerűen kérdéseket formálni. "
   ]
  },
  {
   "cell_type": "code",
   "execution_count": 4,
   "metadata": {},
   "outputs": [],
   "source": [
    "qa = {\n",
    "    'Törökország': 'Ankara',\n",
    "    'Albánia'    : 'Tirana',\n",
    "    'Argentína'  : 'Buenos Aires',\n",
    "    'Ausztria'   : 'Bécs',\n",
    "    'Görögország': 'Athén',\n",
    "    'Szerbia'    : 'Belgrád',\n",
    "    'Németország': 'Berlin',\n",
    "    'Ausztrália' : 'Canberra',\n",
    "    'Írország'   : 'Dublin',\n",
    "    'Norvégia'   : 'Oslo',\n",
    "}"
   ]
  },
  {
   "cell_type": "markdown",
   "metadata": {},
   "source": [
    "A következő lépésben függvényt írunk, ```question```, a kérdés megszerkesztésére. Egy argumentumot, ```country``` fogad el, ami az ország neve. Ennek a függvénynek nem más a feladata, mint behelyettesíteni az ország nevet az előre megszerkesztett kérdés mintába. "
   ]
  },
  {
   "cell_type": "code",
   "execution_count": 2,
   "metadata": {},
   "outputs": [
    {
     "data": {
      "text/plain": [
       "'Mi Kína fővárosa?'"
      ]
     },
     "execution_count": 2,
     "metadata": {},
     "output_type": "execute_result"
    }
   ],
   "source": [
    "def question(country):\n",
    "    txt = f'Mi {country} fővárosa?'\n",
    "    return txt\n",
    "\n",
    "question('Kína')"
   ]
  },
  {
   "cell_type": "markdown",
   "metadata": {},
   "source": [
    "Egy példán keresztül, ahol a bemenő paraméter 'Kína', láthatjuk is, hogy a függvény visszaadott értéke egy string a következő szöveggel: 'Mi Kína fővárosa'."
   ]
  },
  {
   "cell_type": "markdown",
   "metadata": {},
   "source": [
    "A következő függvény, ```options```, egy kicsit bonyolultabb. Ennek a célja, hogy megjelenítsen véletlenszerű sorrendben két választ, amelyből az egyik a helyes, míg a másik egy véletlenszerűen kiválasztott főváros. Ahhoz, hogy a nyogombokról meg tudjuk mondani, hogy a jó válaszra utalnak-e, tudnunk kell, hogy a helyes válasz az első vagy a második helyen jelenik meg. Ennek rögzítésére hozzuk létre a ```right_answer``` változót, amit kezdetben 0-nak veszünk, de működés közben az értéke vagy 1 vagy 2.\n",
    "\n",
    "Két bemenő argumentuma van, ```city```, ami a helyes válasz és az ```opt``` ami egy lista a lehetséges főváros nevekkel. A ```right_answer``` változót globálissá tesszük, hogy a függvényen belül meg tudjuk változtatni az értékét. Ezután véletlenszerűen kiválasztunk egy fővárost az ```opt``` listából a ```random.choice(opt)``` paranccsal és elmentjük azt az ```a``` lista változóba. Ehhez a listához, második helyre hozzáadjuk a helyes fővárost, ```a.append(city)```. Mivel idáig, minden függvénymeghíváskor a helyes válasz a második helyen lenne, megkeverjük véletlenszerűen a két elemet a ```random.shuffle(a)``` paranccsal. Vegyük észre, hogy ez a parancs helyben megváltoztatja ```a``` szerkezetét, nem kellett hozzárendelnünk ```a```-hoz. Ezek után a ```txt``` változóba elmentjük a két válasz lehetőséget. Végül módosítjuk a ```right_answer``` értéket annak megfelelően, hogy az 1)-es vagy a 2)-es lehetőség a jó válasz. Az ```a.index(city)``` metódussal megkeressük, hogy a helyes válasznak mi az indexe a listán belül (0 vagy 1), majd hozzáadunk 1-et, hogy 1-re vagy 2-re módosuljon.  "
   ]
  },
  {
   "cell_type": "code",
   "execution_count": 11,
   "metadata": {},
   "outputs": [
    {
     "name": "stdout",
     "output_type": "stream",
     "text": [
      "Mi Norvégia fővárosa?\n",
      "1) Oslo      2) Ankara\n",
      "right_anser = 1\n"
     ]
    }
   ],
   "source": [
    "right_answer = 0\n",
    "\n",
    "def options(city, opt):\n",
    "    global right_answer\n",
    "    a = [random.choice(opt)]\n",
    "    a.append(city)\n",
    "    random.shuffle(a)\n",
    "    txt = f'1) {a[0]}      2) {a[1]}'\n",
    "    right_answer = a.index(city) + 1\n",
    "    return txt\n",
    "\n",
    "country = random.choice(list(qa.keys()))\n",
    "city    = qa[country]\n",
    "\n",
    "print(question(country))\n",
    "print(options(city, list(qa.values())))\n",
    "print(f'right_anser = {right_answer}')"
   ]
  },
  {
   "cell_type": "markdown",
   "metadata": {},
   "source": [
    "Egy példán keresztül a fenti tömben be is mutatjuk, hogy működik a kérdés és a válasz opciók megjelenítése. \n",
    "\n",
    "* Véletlenszerűen választunk egy országnevet és azt elmentjük a ```country``` változóba. \n",
    "* Megkeressük a hozzá tartozó fővárost és a ```city```-hez rendeljük.\n",
    "* Kinyomtatjuk a kérdést a ```question(country)``` függvénnyel.\n",
    "* Kinyomtatjuk a lehetséges válaszokat az ```options(city, list(qa.values()))``` függvénnyel.\n",
    "* Végül kinyomtatjuk a helyes válasz sorszámát is.\n",
    "\n",
    "Mostmár meg van minden elemünk, csak össze kell rakni a teljes programot."
   ]
  },
  {
   "cell_type": "markdown",
   "metadata": {},
   "source": [
    "### A kvíz elkészítése"
   ]
  },
  {
   "cell_type": "markdown",
   "metadata": {},
   "source": [
    "Eljutottunk arra a pontra, amikor már elkészíthetjük a teljes kvíz játékunkat. Elsőnek definiálunk egy új globális változót, ```press = False```, aminek a feladata, hogy a kódon keresztül számon tartsa lenyomták-e az egyik gombot vagy sem. Alap állapotban értéke ```False```, jelezve, hogy a gombot nem nyomták meg. \n",
    "\n",
    "A következő módosítás a ```pressed(button, pos=0)``` függvényben látható. A gomb nyomására most már nem a terminálra nyomtatunk ki, hanem a LED-eket kapcsoljuk. Elsőnek, globálissá nyilvánítjuk a ```press``` és a ```right_answer``` változókat, hogy úgy módosíthassuk őket, hogy a fő program rész is látja azt. Ezután az ```if pos == right_answer:``` szerkezettel megvizsgáljuk, hogy a lenyomott gombhoz tartozó szám, ```pos```, megegyezik-e a helyes válasz sorszámával, ```right_answer```. Ha igen, akkor a kék LED-et felkapcsoljuk 3 másodperc erejéig, ha nem akkor a piros LED-et kapcsoljuk fel 3 másodpercig. Végül a ```press``` globális változót visszaállitjuk hamisra. Evvel jelezzük, hogy jöhet a következő kérdés (ahogy a következő paragrafusban azt látni fogjuk). "
   ]
  },
  {
   "cell_type": "markdown",
   "metadata": {},
   "source": [
    "Végül a végtelen ```while``` ciklust kell megírnunk, amiben újra és újra teszünk fel kvíz kérdéseket. Itt először megvizsgáljuk, hogy a ```press``` értéke hamis-e. Ezt az ```if not press:``` kifejezéssel tesszük. Ha a ```press``` hamis, akkor jelzi, hogy lehet kérdést feltenni, ha igaz, akkor viszont nem megy bele a szerkezetbe. Ez fontos, hogy két egymást követő ```while``` ciklus ne tegyen fel azonnal egy új kérdést, hanem csak azután, hogy a gombnyomással válaszoltunk. Így az első lépésünk az ```if``` szerkezetben, hogy a ```press``` változót átírjuk igazra. Azután pedig kiírathatjuk a képernyőre a kérdést és a válaszlehetőségeket. Ezeket a ```print('='*10)``` paranccsal választjuk el, ami 10 egyenlőségjelet nyomtat ki egy sorba. Ha egy stringet megszorzunk egy számmal, akkor a végeredményünk az eredeti string megismételve a megadott számszor. \n",
    "\n",
    "Evvel a kódunk végére értünk. Mentsük el és teszteljük le."
   ]
  },
  {
   "cell_type": "markdown",
   "metadata": {},
   "source": [
    "```led_quiz.py```:"
   ]
  },
  {
   "cell_type": "code",
   "execution_count": null,
   "metadata": {},
   "outputs": [],
   "source": [
    "from gpiozero import Button, LED\n",
    "from time import sleep\n",
    "import random\n",
    "\n",
    "blue = LED(9)\n",
    "red = LED(10)\n",
    "\n",
    "yes = Button(2)\n",
    "no  = Button(3)\n",
    "\n",
    "qa = {\n",
    "    'Törökország': 'Ankara',\n",
    "    'Albánia'    : 'Tirana',\n",
    "    'Argentína'  : 'Buenos Aires',\n",
    "    'Ausztria'   : 'Bécs',\n",
    "    'Görögország': 'Athén',\n",
    "    'Szerbia'    : 'Belgrád',\n",
    "    'Németország': 'Berlin',\n",
    "    'Ausztrália' : 'Canberra',\n",
    "    'Írország'   : 'Dublin',\n",
    "    'Norvégia'   : 'Oslo',\n",
    "}\n",
    "\n",
    "press = False\n",
    "right_answer = 0\n",
    "\n",
    "\n",
    "def question(country):\n",
    "    txt = f'Mi {country} fővárosa?'\n",
    "    return txt\n",
    "\n",
    "def options(city, opt):\n",
    "    global right_answer\n",
    "    a = [random.choice(opt)]\n",
    "    a.append(city)\n",
    "    random.shuffle(a)\n",
    "    txt = f'1) {a[0]}      2) {a[1]}'\n",
    "    right_answer = a.index(city) + 1\n",
    "    return txt\n",
    "\n",
    "def pressed(button, pos = 0):\n",
    "    global press, right_answer\n",
    "    if pos == right_answer:\n",
    "        blue.on()\n",
    "        sleep(3)\n",
    "        blue.off()\n",
    "    else:\n",
    "        red.on()\n",
    "        sleep(3)\n",
    "        red.off()\n",
    "    press = False\n",
    "\n",
    "yes.when_pressed = pressed(yes, pos = 1)\n",
    "no.when_pressed  = pressed(no, pos = 2)\n",
    "\n",
    "while True:\n",
    "    if not press:\n",
    "        press = True\n",
    "        country = random.choice(list(qa.keys()))\n",
    "        city    = qa[country]\n",
    "        print(question(country))\n",
    "        print('='*10)\n",
    "        print(options(city, list(qa.values())))\n",
    "        print('='*10)"
   ]
  },
  {
   "cell_type": "markdown",
   "metadata": {},
   "source": [
    "## A projekt tesztelése"
   ]
  },
  {
   "cell_type": "markdown",
   "metadata": {},
   "source": [
    "Miután összeszereltük az áramkört és a kódot is megírtuk, amit pl. ```led_quiz.py``` név alatt mentettünk el, megnyithatunk a Raspberry Pi operációs rendszerén egy terminált. A terminálban a ```cd 'mappa név'``` paranccsal elnavigálunk abba a mappába, ahova a ```led_quiz.py```-t elmentettük. Ott begépelve a ```python led_quiz.py``` parancsot, letesztelhetjük a programunk működését. Ha minden jól megy akkor kérdések jelennek meg a képernyőn és várnak amíg a gomb lenyomásával válaszolunk, majd a LED-ek jelzik, hogy jó volt-e a válasz. Ezután jön az újabb kérdés.\n",
    "\n",
    "Hibaüzenetek esetén ki kell deríteni mi lehetett a probléma, pl. elgépelés, egy modul hiányzik, sorok megfelelő behúzása, idézőjel lemaradása stb. A hibaüzenet legtöbbször segít abban, hogy melyik sorban találta a hibát és hogy mi volt az. Egy kis gyakorlással bele lehet jönni azok értelmezésébe, valamint interneten is rá lehet keresni a hibaüzenet jelentésére és annak lehetséges elhárítására."
   ]
  },
  {
   "cell_type": "markdown",
   "metadata": {},
   "source": [
    "## Mit lehet javítani/továbbfejleszteni?"
   ]
  },
  {
   "cell_type": "markdown",
   "metadata": {},
   "source": [
    "* Számoljuk, hogy hány helyes választ adtak.\n",
    "* Hangszórót/fejhallgatót kapcsolva a Raspberry-re bípeltessük a gépet minden gomb lenyomásnál.\n",
    "\n",
    "Írd meg kommentben, hogy szerinted mivel lehetne még feldobni ezt a kis programot!"
   ]
  },
  {
   "cell_type": "markdown",
   "metadata": {},
   "source": [
    "## Referencia"
   ]
  },
  {
   "cell_type": "markdown",
   "metadata": {},
   "source": [
    "1) gpiozero leírás - [https://gpiozero.readthedocs.io/en/stable/recipes.html](https://gpiozero.readthedocs.io/en/stable/recipes.html)\n",
    "\n",
    "2) LED objektum leírása - [https://gpiozero.readthedocs.io/en/stable/api_output.html#led](https://gpiozero.readthedocs.io/en/stable/api_output.html#led)\n",
    "\n",
    "3) Button objektum leírása - [https://gpiozero.readthedocs.io/en/stable/api_input.html#button](https://gpiozero.readthedocs.io/en/stable/api_input.html#button)\n",
    "\n",
    "4) while ciklus - [https://realpython.com/python-while-loop/](https://realpython.com/python-while-loop/)"
   ]
  },
  {
   "cell_type": "code",
   "execution_count": null,
   "metadata": {},
   "outputs": [],
   "source": []
  }
 ],
 "metadata": {
  "kernelspec": {
   "display_name": "Python 3",
   "language": "python",
   "name": "python3"
  },
  "language_info": {
   "codemirror_mode": {
    "name": "ipython",
    "version": 3
   },
   "file_extension": ".py",
   "mimetype": "text/x-python",
   "name": "python",
   "nbconvert_exporter": "python",
   "pygments_lexer": "ipython3",
   "version": "3.7.4"
  },
  "toc": {
   "base_numbering": 1,
   "nav_menu": {},
   "number_sections": true,
   "sideBar": true,
   "skip_h1_title": false,
   "title_cell": "Table of Contents",
   "title_sidebar": "Contents",
   "toc_cell": false,
   "toc_position": {},
   "toc_section_display": true,
   "toc_window_display": false
  }
 },
 "nbformat": 4,
 "nbformat_minor": 2
}
