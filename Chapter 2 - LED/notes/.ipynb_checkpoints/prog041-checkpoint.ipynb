{
 "cells": [
  {
   "cell_type": "markdown",
   "metadata": {
    "cell_style": "split"
   },
   "source": [
    "# Karácsonyi fények"
   ]
  },
  {
   "cell_type": "markdown",
   "metadata": {},
   "source": [
    "A LED-ek alap karakterisztikája, hogy közel egy hullámhosszon sugároznak, így lényegében csak egy színt állítanak elő (amennyiben a környezeti tényezők, mint pl. a hőmérséklet, állandó). Magában ez a tulajdonság rengeteg felhasználási lehetőséget teremt, de felmerült az igény a fehér fényű LED-re is, mivel akár stabil és hatékony fényforrás lehet.\n",
    "\n",
    "Az egyik módja, hogy ilyen LED-et készítsenek az RGB LED, ahol lényegében egy piros (Red), egy zöld (Green) és egy kék (Blue) LED-et tesznek egy platformra és az általuk kisugárzott fény intenzitásának aránya fogja meghatározni, milyen színt fogunk látni. Szinte bármilyen színt beállíthatunk az RGB komponensek intenzitásának szabályozásával."
   ]
  },
  {
   "cell_type": "markdown",
   "metadata": {},
   "source": [
    "## Mit fogsz készíteni?"
   ]
  },
  {
   "cell_type": "markdown",
   "metadata": {},
   "source": [
    "Egy RGB LED-ből és három ellenállásból álló áramkört fogunk készíteni, amivel megtanulhatjuk az RGB LED vezérlését."
   ]
  },
  {
   "cell_type": "markdown",
   "metadata": {},
   "source": [
    "## Mit tanulsz meg?"
   ]
  },
  {
   "cell_type": "markdown",
   "metadata": {},
   "source": [
    "Az RGB LED áramkör elkészítésével a következőket tanulod meg:\n",
    "\n",
    "* Hogyan tudsz egy egyszerű áramkört összerakni egy breadboard, RGB LED, ellenállások és drótok segítségével\n",
    "* Hogyan programozd be a Raspberry Pi GPIO kimeneteleit a **gpiozero** modullal\n",
    "* Hogyan használjuk az *RGBLED* objektumokat és változtasd azoknak a színét."
   ]
  },
  {
   "cell_type": "markdown",
   "metadata": {},
   "source": [
    "## A projekt részletekre bontása"
   ]
  },
  {
   "cell_type": "markdown",
   "metadata": {},
   "source": [
    "* Inicializálni az RGB LED objektumot\n",
    "* Tesztelni a LED parancsokat "
   ]
  },
  {
   "cell_type": "markdown",
   "metadata": {},
   "source": [
    "## Áramköri elemek listája"
   ]
  },
  {
   "cell_type": "markdown",
   "metadata": {},
   "source": [
    "a) [Raspberry PI](https://malnapc.hu/yis/raspberry-pi/rpi-panelek) \n",
    "\n",
    "b) [Jumper wires female/male](https://www.ret.hu/shop/product/e-call/jumper-vezetek-szet_53-22-63) \n",
    "\n",
    "c) RGB LED, $I_{max}$ = 20 mA-es: [itt vásárolhatsz](https://www.tme.eu/hu/details/osta56a1a-c/tht-led-diodak-egyeb/optosupply/)\n",
    "\n",
    "d) 3db 220 - 560 Ohm közötti [ellenállás](https://www.tme.eu/hu/katalog/tht-metal-film-ellenallasok-0-6w_100289/?s_order=desc&search=ellenallas&s_field=1000011)\n",
    "\n",
    "e) 1db [Breadboard](https://www.tme.eu/hu/katalog/muhelyfelszereles_112607/?s_order=desc&search=breadboard&s_field=1000011)"
   ]
  },
  {
   "cell_type": "markdown",
   "metadata": {},
   "source": [
    "## A kapcsolási rajz"
   ]
  },
  {
   "cell_type": "markdown",
   "metadata": {},
   "source": [
    "<img src=\"prog041_circuit.png\" width=600 height=400 />"
   ]
  },
  {
   "cell_type": "markdown",
   "metadata": {},
   "source": [
    "A fenti ábrához hasonlóan kapcsoljuk össze az áramköri elemeket és a Raspberry Pi-t.\n",
    "\n",
    "1) Helyezzük az RGB LED lábait különboző sorokba. **FONTOS**: Ha közös katódú (-) LED-ünk van, akkor a leghosszabb lábat, a közös katódot, a földelésre, **GND** kell kapcsolni, ha közös anódú (+) LED-ünk van, akkor a leghosszabb lábat a 3.3V-os (vagy 5V-os) feszültségre kell kapcsolni. A rajzon mi a közös katódú LED-et ábrázoljuk.\n",
    "\n",
    "A LED anódjának és katódjának megállapítására használhatunk egy multimétert. Csatlakoztasd a fekete mérőzsinórt a COM (föld) és a piros mérőzsinórt a VΩmA jelzésű hüvelybe. Forgasd el a méréshatárváltó kapcsolót a folytonosság mérés állapotba. Érintsd a két zsínórt a leghosszabb lábhoz és egy másikhoz és ha a LED halványan pislákol, akkor az a láb amelyikhez a fekete zsinórt érintetted a katód, a másik az anód. Ha nem pislákol akkor cseréld meg a zsinórok és a lábak érintkezését, hogy világítson."
   ]
  },
  {
   "cell_type": "markdown",
   "metadata": {},
   "source": [
    "<img src=\"rgb-led-pin.png\" width=500 height=400 />"
   ]
  },
  {
   "cell_type": "markdown",
   "metadata": {},
   "source": [
    "RGB LED sematikus ábrázolása. A (-) és (+) jelölés (leghosszabb láb) a közös katódot vagy anódot jelentik, míg az R, G és B a színek kivezetését képviselik."
   ]
  },
  {
   "cell_type": "markdown",
   "metadata": {},
   "source": [
    "2) Az RGB LED leghosszabb lábát (közös katód) kössük össze a Raspberry Pi egyik **GND** jelölésű tüskéjével egy jumper drót segítségével.\n",
    "\n",
    "3) A többi láb sorába az ábrának megfelelően kössük be az ellenállásokat.\n",
    "\n",
    "4) A piros (R) lábhoz tartozó ellenállás sorát kössük a **17**-es GPIO tüskéhez, a zöldet (G) a **27**-eshez és a kéket a **22**-hez."
   ]
  },
  {
   "cell_type": "markdown",
   "metadata": {},
   "source": [
    "## A kód\n",
    "Nyissunk meg egy új python fájlt és mentsük el pl. ```led_RGB.py``` név alatt."
   ]
  },
  {
   "cell_type": "markdown",
   "metadata": {},
   "source": [
    "### A LED-ek kipróbálása"
   ]
  },
  {
   "cell_type": "markdown",
   "metadata": {},
   "source": [
    "Miután elkészítettük az áramkört, meg kell írnunk a kódot ami utasítja a Raspberry Pi-t, hogyan viselkedjen az RGB LED.\n",
    "\n",
    "Először betöltjük a ```gpiozero``` modulból az ```RGBLED``` objektumot ami lehetővé teszik, hogy a Raspi kommunikáljon a LED-del a **GPIO** tüskéken keresztül. Ez mellett beolvassuk még a ```sleep``` függvényt is, amit a python várakoztatására használunk majd.\n",
    "\n",
    "N.B. Az itt közölt parancsokat akár a terminálba is gépelhetjük, miután elindítottuk az ```ipython``` vagy ```python``` környezetet."
   ]
  },
  {
   "cell_type": "markdown",
   "metadata": {},
   "source": [
    "```led_RGB.py```:"
   ]
  },
  {
   "cell_type": "code",
   "execution_count": null,
   "metadata": {},
   "outputs": [],
   "source": [
    "from gpiozero import RGBLED\n",
    "from time import sleep"
   ]
  },
  {
   "cell_type": "markdown",
   "metadata": {},
   "source": [
    "Az objektum beolvasása után inicializálunk egy ```RGBLED``` objektumot, amit ```led```-nek nevezünk el. Az argumentumok között azt is megadjuk, hogy melyik színt melyik GPIO tüskére kapcsoltuk. Emellett érdemes megemlíteni az ```active_high``` argumentumot, mert annak tükrében, hogy közös katódú vagy anódú LED-et használunk, ```True```-nak vagy ```False```-nak kell lennie. A mi pépldánkban közös katódú LED szerepel, ezért ```active_high=True```."
   ]
  },
  {
   "cell_type": "markdown",
   "metadata": {},
   "source": [
    "```led_RGB.py```:"
   ]
  },
  {
   "cell_type": "code",
   "execution_count": null,
   "metadata": {},
   "outputs": [],
   "source": [
    "from gpiozero import LED\n",
    "from time import sleep\n",
    "\n",
    "led = RGBLED(red=17, green=27, blue=22, active_high = True)"
   ]
  },
  {
   "cell_type": "markdown",
   "metadata": {},
   "source": [
    "Az inicializálás után már tesztelhetjük is a LED-et, hogy működik-e. Az alap 3 színre van metódus, azaz a ```led.red```, ```led.green``` és ```led.blue``` paranccsokkal hivatkozhatunk rájuk. Ha 0-át rendelünk hozzájuk, akkor nem világítanak, míg ha 1-et akkor a max intenzitásukkal világítanak. Az intenzitás mértékét 0 és 1 között lehet variálni. Pl. a piros LED-et a következőképpen is szabályozhatjuk:"
   ]
  },
  {
   "cell_type": "markdown",
   "metadata": {},
   "source": [
    "```led_RGB.py```:"
   ]
  },
  {
   "cell_type": "code",
   "execution_count": null,
   "metadata": {},
   "outputs": [],
   "source": [
    "from gpiozero import RGBLED\n",
    "from time import sleep\n",
    "\n",
    "\n",
    "led = RGBLED(red=17, green=27, blue=22)\n",
    "\n",
    "led.red = 1  # full red\n",
    "sleep(1)\n",
    "led.red = 0.5  # half red\n",
    "sleep(1)"
   ]
  },
  {
   "cell_type": "markdown",
   "metadata": {},
   "source": [
    "Lényegében az összes ```LED``` metódus működik az ```RGBLED``` objektumokra. Van egy ```led.color``` metódusa is, ami egy 3 tagú tuplet vár értékül, ami lényegében az RGB színkódnak felel meg. Erre látunk példát itt: "
   ]
  },
  {
   "cell_type": "markdown",
   "metadata": {},
   "source": [
    "```led_RGB.py```:"
   ]
  },
  {
   "cell_type": "code",
   "execution_count": null,
   "metadata": {},
   "outputs": [],
   "source": [
    "from gpiozero import RGBLED\n",
    "from time import sleep\n",
    "\n",
    "\n",
    "led = RGBLED(red=17, green=27, blue=22)\n",
    "\n",
    "led.red = 1  # full red\n",
    "sleep(1)\n",
    "led.red = 0.5  # half red\n",
    "sleep(1)\n",
    "\n",
    "led.color = (0, 1, 0)  # full green\n",
    "sleep(1)\n",
    "led.color = (1, 0, 1)  # magenta\n",
    "sleep(1)\n",
    "led.color = (1, 1, 0)  # yellow\n",
    "sleep(1)\n",
    "led.color = (0, 1, 1)  # cyan\n",
    "sleep(1)\n",
    "led.color = (1, 1, 1)  # white\n",
    "sleep(1)\n",
    "\n",
    "led.color = (0, 0, 0)  # off\n",
    "sleep(1)"
   ]
  },
  {
   "cell_type": "markdown",
   "metadata": {},
   "source": [
    "Egy másodperces késleltetésekkel változtatjuk a LED színét a zöldtől (0, 1, 0) a fehérig (1, 1, 1), majd kikapcsoljuk a LED-et (0, 0, 0). A tuple első tagja a piros szín intenzitását szabályozza, a második a zöldét míg a harmadik a kék színét. "
   ]
  },
  {
   "cell_type": "markdown",
   "metadata": {},
   "source": [
    "Az ```RGBLED``` inicializálásakor van még egy érdekes argumentum, a ```pwm=True```. A pwm a *Pulsed Width Modulation* rövidítése és lényegében a GPIO tüske által leadott effektív teljesítmény szabályozására szolgál. A digitális jelek (mint a GPIO tüske jelei) vagy 0V, alacsony, vagy pl. 3.3V, magas állapotban vannak. Nem tudnak köztes állapotot felvenni, mint az analóg jelek. Ha szabályozni akarjuk pl. a LED fényerejét, akkor ki-be kell kapcsolni a digitális jelet, azaz modulálni időben. Ezt teszi lehetővé a már előbb említett ```pwm=True``` argumentum. Ha hamisra állítanánk, akkor nem tudnánk a színek intenzitását szabályozni.   "
   ]
  },
  {
   "cell_type": "markdown",
   "metadata": {},
   "source": [
    "Végül nézzük, hogy tudjuk a kék LED intenzitását fokozatosan növelni 0-ról maximumra:"
   ]
  },
  {
   "cell_type": "markdown",
   "metadata": {},
   "source": [
    "```led_RGB.py```:"
   ]
  },
  {
   "cell_type": "code",
   "execution_count": null,
   "metadata": {},
   "outputs": [],
   "source": [
    "from gpiozero import RGBLED\n",
    "from time import sleep\n",
    "\n",
    "\n",
    "led = RGBLED(red=17, green=27, blue=22)\n",
    "\n",
    "led.red = 1  # full red\n",
    "sleep(1)\n",
    "led.red = 0.5  # half red\n",
    "sleep(1)\n",
    "\n",
    "led.color = (0, 1, 0)  # full green\n",
    "sleep(1)\n",
    "led.color = (1, 0, 1)  # magenta\n",
    "sleep(1)\n",
    "led.color = (1, 1, 0)  # yellow\n",
    "sleep(1)\n",
    "led.color = (0, 1, 1)  # cyan\n",
    "sleep(1)\n",
    "led.color = (1, 1, 1)  # white\n",
    "sleep(1)\n",
    "\n",
    "led.color = (0, 0, 0)  # off\n",
    "sleep(1)\n",
    "\n",
    "# slowly increase intensity of blue\n",
    "for n in range(100):\n",
    "    led.blue = n/100\n",
    "    sleep(0.1)"
   ]
  },
  {
   "cell_type": "markdown",
   "metadata": {},
   "source": [
    "Lefuttatva a kódot, a LED színeinek változását kell tapasztalnunk a kódban megadott sorrendnek megfelelően."
   ]
  },
  {
   "cell_type": "markdown",
   "metadata": {},
   "source": [
    "## A projekt tesztelése"
   ]
  },
  {
   "cell_type": "markdown",
   "metadata": {},
   "source": [
    "Miután összeszereltük az áramkört és a kódot is megírtuk, amit pl. ```led_RGB.py``` név alatt mentettünk el, megnyithatunk a Raspberry Pi operációs rendszerén egy terminált. A terminálban a ```cd 'mappa név'``` paranccsal elnavigálunk abba a mappába, ahova a ```led_RGB.py```-t elmentettük. Ott begépelve a ```python led_RGB.py``` parancsot, letesztelhetjük a programunk működését. Ha minden jól megy akkor az RGB LED különböző színekben fog világítani 1 másodperces váltásokkal, majd halványkékre vált és lassan növeli a fény intenzitását.\n",
    "\n",
    "Hibaüzenetek esetén ki kell deríteni mi lehetett a probléma, pl. elgépelés, egy modul hiányzik, sorok megfelelő behúzása, idézőjel lemaradása stb. A hibaüzenet legtöbbször segít abban, hogy melyik sorban találta a hibát és hogy mi volt az. Egy kis gyakorlással bele lehet jönni azok értelmezésébe, valamint interneten is rá lehet keresni a hibaüzenet jelentésére és annak lehetséges elhárítására."
   ]
  },
  {
   "cell_type": "markdown",
   "metadata": {},
   "source": [
    "## Mit lehet javítani/továbbfejleszteni?"
   ]
  },
  {
   "cell_type": "markdown",
   "metadata": {},
   "source": [
    "* Gombnyomásra elindítani az RGB LED-et és gombnyomásra leállítani.\n",
    "* Gombnyomásra random színeket megjeleníteni.\n",
    "\n",
    "Írd meg kommentben, hogy szerinted mivel lehetne még feldobni ezt a kis programot!"
   ]
  },
  {
   "cell_type": "markdown",
   "metadata": {},
   "source": [
    "## Referencia"
   ]
  },
  {
   "cell_type": "markdown",
   "metadata": {},
   "source": [
    "1) gpiozero leírás - [https://gpiozero.readthedocs.io/en/stable/recipes.html](https://gpiozero.readthedocs.io/en/stable/recipes.html)\n",
    "\n",
    "2) LED objektum leírása - [https://gpiozero.readthedocs.io/en/stable/api_output.html#led](https://gpiozero.readthedocs.io/en/stable/api_output.html#led)\n",
    "\n",
    "3) RGBLED objektum leírása - [https://gpiozero.readthedocs.io/en/stable/api_output.html#rgbled](https://gpiozero.readthedocs.io/en/stable/api_output.html#rgbled)"
   ]
  },
  {
   "cell_type": "code",
   "execution_count": null,
   "metadata": {},
   "outputs": [],
   "source": []
  }
 ],
 "metadata": {
  "kernelspec": {
   "display_name": "Python 3",
   "language": "python",
   "name": "python3"
  },
  "language_info": {
   "codemirror_mode": {
    "name": "ipython",
    "version": 3
   },
   "file_extension": ".py",
   "mimetype": "text/x-python",
   "name": "python",
   "nbconvert_exporter": "python",
   "pygments_lexer": "ipython3",
   "version": "3.7.3"
  },
  "toc": {
   "base_numbering": 1,
   "nav_menu": {},
   "number_sections": true,
   "sideBar": true,
   "skip_h1_title": false,
   "title_cell": "Table of Contents",
   "title_sidebar": "Contents",
   "toc_cell": false,
   "toc_position": {},
   "toc_section_display": true,
   "toc_window_display": false
  }
 },
 "nbformat": 4,
 "nbformat_minor": 2
}
