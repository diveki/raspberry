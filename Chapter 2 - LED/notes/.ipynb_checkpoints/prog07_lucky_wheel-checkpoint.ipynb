{
 "cells": [
  {
   "cell_type": "markdown",
   "metadata": {},
   "source": [
    "# Színkeresés RGB LED-del"
   ]
  },
  {
   "cell_type": "markdown",
   "metadata": {},
   "source": [
    "Egy nyári zápor után szivárványt vettetek észre az égen és probáltátok megszámolni és beazonosítani milyen színeket láttok. Egy idő után azon kaptátok magatokat a barátaitokkal, hogy versenyeztek ki tud több színt felismerni.\n",
    "\n",
    "Ennek eldöntésére kitaláltál egy játékot és hogy még érdekesebb legyen összekötötted egy kis reflex méréssel. Beállítottál egy RGB LED-et, hogy több mint 10 különböző színt váltogasson folyamatosan bizonyos időközönként. Előre kiválasztatok egy színt amit a játékosnak azonosítania kell pont akkor, amikor a LED épp abban pompázik. Az azonosítást egy gomb lenyomásával teheti meg. Ha időben nyomja meg a gombot (azaz, addig amig a LED azt a színt mutatja), akkor nyert, ha elvéti, akkor veszített."
   ]
  },
  {
   "cell_type": "markdown",
   "metadata": {},
   "source": [
    "## Mit fogsz készíteni?"
   ]
  },
  {
   "cell_type": "markdown",
   "metadata": {},
   "source": [
    "Egy RGB LED-ből, három ellenállásból és egy nyomógombból álló áramkört fogunk készíteni. Ehhez írunk kódot ami változtatja folytonosan a LED színét és el kell találnunk mikor látjuk az előre meghatározott színt és ezt jelezni a gomb lenyomásával."
   ]
  },
  {
   "cell_type": "markdown",
   "metadata": {},
   "source": [
    "## Mit tanulsz meg?"
   ]
  },
  {
   "cell_type": "markdown",
   "metadata": {},
   "source": [
    "Az RGB LED áramkör elkészítésével a következőket tanulod meg:\n",
    "\n",
    "* Hogyan tudsz egy egyszerű áramkört összerakni egy breadboard, RGB LED, ellenállások és drótok segítségével.\n",
    "* Hogyan programozd be a Raspberry Pi GPIO kimeneteleit a **gpiozero** modullal.\n",
    "* Hogyan használjuk az *RGBLED* objektumokat és változtasd azoknak a színét.\n",
    "* Hogyan használd a *dictionary* Python típust összefüggések tárolására.\n",
    "* Hogyan érzékeljük és reagáljunk egy gomb lenyomására."
   ]
  },
  {
   "cell_type": "markdown",
   "metadata": {},
   "source": [
    "## A projekt részletekre bontása"
   ]
  },
  {
   "cell_type": "markdown",
   "metadata": {},
   "source": [
    "* Inicializálni az RGB LED objektumot\n",
    "* Színkód könyvtár elkészítése\n",
    "* Kiválasztani egy cél színt\n",
    "* Gombnyomás érzékelésére függvényt írni és megállapítani, hogy a LED színe megegyezik-e a cél színnel\n",
    "* Hozzárendelni a függvényt a gombhoz\n",
    "* Végtelen ciklust írni ami változtatja a LED színét"
   ]
  },
  {
   "cell_type": "markdown",
   "metadata": {},
   "source": [
    "## Áramköri elemek listája"
   ]
  },
  {
   "cell_type": "markdown",
   "metadata": {},
   "source": [
    "a) [Raspberry PI](https://malnapc.hu/yis/raspberry-pi/rpi-panelek) \n",
    "\n",
    "b) [Jumper wires female/male](https://www.ret.hu/shop/product/e-call/jumper-vezetek-szet_53-22-63) \n",
    "\n",
    "c) 1db nyomó gomb: [itt vásárolhatsz](https://hu.farnell.com/schurter/1301-9320/switch-smd-push-12-5mm/dp/1217772?gclid=Cj0KCQjwzZj2BRDVARIsABs3l9K-ACTnuRr-dLVcDUKleNfECM3H3kWS_RfWtmXGMXVJeY9otda4dDcaAvGLEALw_wcB&gross_price=true&mckv=sSFnjERxR_dc|pcrid|434487710397|plid||kword||match||slid||product|1217772|pgrid|101346804139|ptaid|pla-389347076066|&CMP=KNC-GHU-SHOPPING-switches-relays-NEWSTRUCTURE-13-MAY-20) vagy [építhetsz]()\n",
    "\n",
    "d) RGB LED, $I_{max}$ = 20 mA-es: [itt vásárolhatsz](https://www.tme.eu/hu/details/osta56a1a-c/tht-led-diodak-egyeb/optosupply/)\n",
    "\n",
    "e) 3db 220 - 560 Ohm közötti [ellenállás](https://www.tme.eu/hu/katalog/tht-metal-film-ellenallasok-0-6w_100289/?s_order=desc&search=ellenallas&s_field=1000011)\n",
    "\n",
    "f) 1db [Breadboard](https://www.tme.eu/hu/katalog/muhelyfelszereles_112607/?s_order=desc&search=breadboard&s_field=1000011)"
   ]
  },
  {
   "cell_type": "markdown",
   "metadata": {},
   "source": [
    "## A kapcsolási rajz"
   ]
  },
  {
   "cell_type": "markdown",
   "metadata": {},
   "source": [
    "<img src=\"prog07_circuit.png\" width=600 height=400 />"
   ]
  },
  {
   "cell_type": "markdown",
   "metadata": {},
   "source": [
    "A fenti ábrához hasonlóan kapcsoljuk össze az áramköri elemeket és a Raspberry Pi-t.\n",
    "\n",
    "1) Helyezzük az RGB LED lábait különboző sorokba. **FONTOS**: Ha közös katódú (-) LED-ünk van, akkor a leghosszabb lábat, a közös katódot, a földelésre, **GND** kell kapcsolni, ha közös anódú (+) LED-ünk van, akkor a leghosszabb lábat a 3.3V-os (vagy 5V-os) feszültségre kell kapcsolni. A rajzon mi a közös katódú LED-et ábrázoljuk.\n",
    "\n",
    "A LED anódjának és katódjának megállapítására használhatunk egy multimétert. Csatlakoztasd a fekete mérőzsinórt a COM (föld) és a piros mérőzsinórt a VΩmA jelzésű hüvelybe. Forgasd el a méréshatárváltó kapcsolót a folytonosság mérés állapotba. Érintsd a két zsínórt a leghosszabb lábhoz és egy másikhoz és ha a LED halványan pislákol, akkor az a láb amelyikhez a fekete zsinórt érintetted a katód, a másik az anód. Ha nem pislákol akkor cseréld meg a zsinórok és a lábak érintkezését, hogy világítson."
   ]
  },
  {
   "cell_type": "markdown",
   "metadata": {},
   "source": [
    "<img src=\"rgb-led-pin.png\" width=500 height=400 />"
   ]
  },
  {
   "cell_type": "markdown",
   "metadata": {},
   "source": [
    "RGB LED sematikus ábrázolása. A (-) és (+) jelölés (leghosszabb láb) a közös katódot vagy anódot jelentik, míg az R, G és B a színek kivezetését képviselik."
   ]
  },
  {
   "cell_type": "markdown",
   "metadata": {},
   "source": [
    "2) Az RGB LED leghosszabb lábát (közös katód) kössük össze a Raspberry Pi egyik **GND** jelölésű tüskéjével egy jumper drót segítségével.\n",
    "\n",
    "3) A többi láb sorába az ábrának megfelelően kössük be az ellenállásokat.\n",
    "\n",
    "4) A piros (R) lábhoz tartozó ellenállás sorát kössük a **9**-es GPIO tüskéhez, a zöldet (G) a **10**-eshez és a kéket a **11**-hez.\n",
    "\n",
    "5) A nyomógomb lábait illesszük a breadbord mélyedéseibe. Ügyeljünk arra, hogy a nyomógomb egy (vízszintes) sorba kerülő lábai a gomb lenyomása nélkül is kapcsolatban legyenek egymással, míg a (függőlegesen) egy oszlopba kerülő lábai csak a lenyomás következtében legeyenek összekötve. Mindezt egy műszerrel leellenőrízhetjük. \n",
    "\n",
    "6) Fogjunk egy jumper kábelt (pl. az ábrán a narancssárga) és kössük az egyik végüket a gomb egyik lábának sorába. A másik végét pedig a Raspberry Pi **GPIO 17**-es tüskéjére kössük. \n",
    "\n",
    "7) A gombok másik lábának sorába pedig földelést kell kötni. Kössük őket a szélső függőlegesen összekötött oszlopba, amit már kineveztünk földelésnek. "
   ]
  },
  {
   "cell_type": "markdown",
   "metadata": {},
   "source": [
    "## A kód\n",
    "Nyissunk meg egy új python fájlt és mentsük el pl. ```led_RGB_color_guess.py``` név alatt."
   ]
  },
  {
   "cell_type": "markdown",
   "metadata": {},
   "source": [
    "### A LED-ek kipróbálása"
   ]
  },
  {
   "cell_type": "markdown",
   "metadata": {},
   "source": [
    "Miután elkészítettük az áramkört, meg kell írnunk a kódot ami utasítja a Raspberry Pi-t, hogyan viselkedjen az RGB LED.\n",
    "\n",
    "Először betöltjük a ```gpiozero``` modulból az ```RGBLED``` objektumot ami lehetővé teszik, hogy a Raspi kommunikáljon a LED-del a **GPIO** tüskéken keresztül. Ez mellett beolvassuk még a ```sleep``` függvényt is, amit a python várakoztatására használunk majd."
   ]
  },
  {
   "cell_type": "markdown",
   "metadata": {},
   "source": [
    "```led_RGB_color_guess.py```:"
   ]
  },
  {
   "cell_type": "code",
   "execution_count": null,
   "metadata": {},
   "outputs": [],
   "source": [
    "from gpiozero import RGBLED\n",
    "from time import sleep"
   ]
  },
  {
   "cell_type": "markdown",
   "metadata": {},
   "source": [
    "Az objektum beolvasása után inicializálunk egy ```RGBLED``` objektumot, amit ```led```-nek nevezünk el. Az argumentumok között azt is megadjuk, hogy melyik színt melyik GPIO tüskére kapcsoltuk. Emellett érdemes megemlíteni az ```active_high``` argumentumot, mert annak tükrében, hogy közös katódú vagy anódú LED-et használunk, ```True```-nak vagy ```False```-nak kell lennie. A mi pépldánkban közös katódú LED szerepel, ezért ```active_high=True```."
   ]
  },
  {
   "cell_type": "markdown",
   "metadata": {},
   "source": [
    "```led_RGB_color_guess.py```:"
   ]
  },
  {
   "cell_type": "code",
   "execution_count": null,
   "metadata": {},
   "outputs": [],
   "source": [
    "from gpiozero import RGBLED\n",
    "from time import sleep\n",
    "\n",
    "led = RGBLED(red=9, green=10, blue=11, active_high = True)"
   ]
  },
  {
   "cell_type": "markdown",
   "metadata": {},
   "source": [
    "Az inicializálás után már tesztelhetjük is a LED-et, hogy működik-e. Az alap 3 színre van metódus, azaz a ```led.red```, ```led.green``` és ```led.blue``` paranccsokkal hivatkozhatunk rájuk. Ha 0-át rendelünk hozzájuk, akkor nem világítanak, míg ha 1-et akkor a max intenzitásukkal világítanak. Az intenzitás mértékét 0 és 1 között lehet variálni. Pl. a piros LED-et a következőképpen is szabályozhatjuk:"
   ]
  },
  {
   "cell_type": "markdown",
   "metadata": {},
   "source": [
    "```led_RGB_color_guess.py```:"
   ]
  },
  {
   "cell_type": "code",
   "execution_count": null,
   "metadata": {},
   "outputs": [],
   "source": [
    "from gpiozero import RGBLED\n",
    "from time import sleep\n",
    "\n",
    "\n",
    "led = RGBLED(red=9, green=10, blue=11, active_high = True)\n",
    "\n",
    "led.red = 1  # full red\n",
    "sleep(1)\n",
    "led.red = 0.5  # half red\n",
    "sleep(1)"
   ]
  },
  {
   "cell_type": "markdown",
   "metadata": {},
   "source": [
    "Az ```RGBLED``` inicializálásakor van még egy érdekes argumentum, a ```pwm=True```. A pwm a *Pulsed Width Modulation* rövidítése és lényegében a GPIO tüske által leadott effektív teljesítmény szabályozására szolgál. A digitális jelek (mint a GPIO tüske jelei) vagy 0V, alacsony, vagy pl. 3.3V, magas állapotban vannak. Nem tudnak köztes állapotot felvenni, mint az analóg jelek. Ha szabályozni akarjuk pl. a LED fényerejét, akkor ki-be kell kapcsolni a digitális jelet, azaz modulálni időben. Ezt teszi lehetővé a már előbb említett ```pwm=True``` argumentum. Ha hamisra állítanánk, akkor nem tudnánk a színek intenzitását szabályozni.   "
   ]
  },
  {
   "cell_type": "markdown",
   "metadata": {},
   "source": [
    "### A nyomógombok tesztelése"
   ]
  },
  {
   "cell_type": "markdown",
   "metadata": {},
   "source": [
    "Inicializáljunk most egy nyomógombot, ```button```, amit a *17*-es GPIO tüskékre kötünk. "
   ]
  },
  {
   "cell_type": "markdown",
   "metadata": {},
   "source": [
    "```led_RGB_color_guess.py```:"
   ]
  },
  {
   "cell_type": "code",
   "execution_count": null,
   "metadata": {},
   "outputs": [],
   "source": [
    "from gpiozero import LED\n",
    "from time import sleep\n",
    "\n",
    "button = Button(17)\n",
    "led = RGBLED(red=9, green=10, blue=11, active_high = True)"
   ]
  },
  {
   "cell_type": "markdown",
   "metadata": {},
   "source": [
    "Most írjunk egy függvényt, ```pressed()```, ami a gomb lenyomására kiírja a képernyőre, hogy ```You pressed a button```. Ezt a függvényt össze is kell kötnünk a nyomógombbal, azaz hozzárendeljük a nyomógomb ```when_pressed``` metódusához. Majd írunk egy üres végtelen ```while``` ciklust, hogy a programunk ne álljon meg, amíg a gombot teszteljük."
   ]
  },
  {
   "cell_type": "markdown",
   "metadata": {},
   "source": [
    "```led_RGB_color_guess.py```:"
   ]
  },
  {
   "cell_type": "code",
   "execution_count": null,
   "metadata": {},
   "outputs": [],
   "source": [
    "from gpiozero import RGBLED, Button\n",
    "import time\n",
    "\n",
    "button = Button(17)\n",
    "led = RGBLED(red=9, green=10, blue=11, active_high = True)\n",
    "\n",
    "def pressed():\n",
    "    print('You pressed the button!')\n",
    "    \n",
    "button.when_pressed = pressed\n",
    "\n",
    "while True:\n",
    "    pass"
   ]
  },
  {
   "cell_type": "code",
   "execution_count": null,
   "metadata": {},
   "outputs": [],
   "source": []
  },
  {
   "cell_type": "markdown",
   "metadata": {},
   "source": [
    "### Színnév és színkód a könyvtárban"
   ]
  },
  {
   "cell_type": "markdown",
   "metadata": {},
   "source": [
    "A következő lépésben a szín nevének és a hozzá tartozó RGB kódnak az összekötésén dolgzunk a Python *dictionary* típusának segítségével. ```{}``` jellel definiáljuk a dictionary-ket. Definiáláskor meg kell adni egy kulcsot, stringként és a hozzá tartozó értéket, pl. ```d = {'name': 'George', 'age': 20}```. Több kulcsot is megadhatunk, illetve a hozzájuk tartozó értékek is lehetnek különböző típusúak.\n",
    "\n",
    "Most a kódunkat kiegészítjük egy színnév kulcsú és színkód értékű dictionary-t, ```colors_dict```. Majd kipróbálunk néhány metódust amivel kezelni lehet a dictionary-ket."
   ]
  },
  {
   "cell_type": "code",
   "execution_count": 1,
   "metadata": {},
   "outputs": [
    {
     "name": "stdout",
     "output_type": "stream",
     "text": [
      "(1, 0, 0)\n",
      "(1, 1, 1)\n",
      "dict_keys(['red', 'green', 'blue', 'white', 'black', 'yellow', 'cyan', 'magenta', 'silver', 'gray', 'deep pink'])\n",
      "dict_values([(1, 0, 0), (0, 1, 0), (0, 0, 1), (1, 1, 1), (0, 0, 0), (1, 1, 0), (0, 1, 1), (1, 0, 1), (0.7529411764705882, 0.7529411764705882, 0.7529411764705882), (0.5019607843137255, 0.5019607843137255, 0.5019607843137255), (1.0, 0.0784313725490196, 0.5764705882352941)])\n",
      "(1, 1, 1)\n",
      "No match\n"
     ]
    }
   ],
   "source": [
    "colors_dict = {'red': (1,0,0),\n",
    "          'green': (0,1,0),\n",
    "          'blue': (0,0,1),\n",
    "          'white': (1,1,1),\n",
    "          'black': (0,0,0),\n",
    "          'yellow': (1,1,0),\n",
    "          'cyan': (0,1,1),\n",
    "          'magenta': (1,0,1),\n",
    "          'silver': (192/255,192/255,192/255),\n",
    "          'gray': (128/255,128/255,128/255),\n",
    "          'deep pink': (255/255,20/255,147/255),\n",
    "}\n",
    "\n",
    "print(colors_dict['red'])   # kiírja a 'red' kulcshoz tartozó értéket\n",
    "print(colors_dict['white']) # kiírja a 'white' kulcshoz tartozó értéket\n",
    "print(colors_dict.keys())   # kiírja a dictionary kulcsait\n",
    "print(colors_dict.values()) # kiírja a dictionary összes értékét\n",
    "print(colors_dict.get('white', 0))  # kiírja a 'white'-oz tartozó értéket, \n",
    "                                    # ha nem lenne 'white' kulcs, akkor 0-t írna ki\n",
    "print(colors_dict.get('orange', 'No match')) # mivel nincs 'orange' kulcs, a kinyomtatott\n",
    "                                             # érték a 'No match'"
   ]
  },
  {
   "cell_type": "markdown",
   "metadata": {},
   "source": [
    "A dictionary-ből kinyerhetjük az összes információt könnyedén egy ```for``` ciklust használva. Az ```colors_dict.items()``` metódus egy listába teszi a kulcs és érték párokat, amely listán a ```for``` ciklus végig tud lépkedni. Itt egy példa ennek a működésére:"
   ]
  },
  {
   "cell_type": "code",
   "execution_count": 3,
   "metadata": {},
   "outputs": [
    {
     "data": {
      "text/plain": [
       "dict_items([('red', (1, 0, 0)), ('green', (0, 1, 0)), ('blue', (0, 0, 1)), ('white', (1, 1, 1)), ('black', (0, 0, 0)), ('yellow', (1, 1, 0)), ('cyan', (0, 1, 1)), ('magenta', (1, 0, 1)), ('silver', (0.7529411764705882, 0.7529411764705882, 0.7529411764705882)), ('gray', (0.5019607843137255, 0.5019607843137255, 0.5019607843137255)), ('deep pink', (1.0, 0.0784313725490196, 0.5764705882352941))])"
      ]
     },
     "execution_count": 3,
     "metadata": {},
     "output_type": "execute_result"
    }
   ],
   "source": [
    "colors_dict.items()"
   ]
  },
  {
   "cell_type": "code",
   "execution_count": 2,
   "metadata": {},
   "outputs": [
    {
     "name": "stdout",
     "output_type": "stream",
     "text": [
      "red -> (1, 0, 0)\n",
      "green -> (0, 1, 0)\n",
      "blue -> (0, 0, 1)\n",
      "white -> (1, 1, 1)\n",
      "black -> (0, 0, 0)\n",
      "yellow -> (1, 1, 0)\n",
      "cyan -> (0, 1, 1)\n",
      "magenta -> (1, 0, 1)\n",
      "silver -> (0.7529411764705882, 0.7529411764705882, 0.7529411764705882)\n",
      "gray -> (0.5019607843137255, 0.5019607843137255, 0.5019607843137255)\n",
      "deep pink -> (1.0, 0.0784313725490196, 0.5764705882352941)\n"
     ]
    }
   ],
   "source": [
    "for key, value in colors_dict.items():\n",
    "    print(f'{key} -> {value}')"
   ]
  },
  {
   "cell_type": "markdown",
   "metadata": {},
   "source": [
    "A ```for``` után most két változó nevet adtunk meg, utalva arra, hogy a lista minden eleme két értéket tartalmaz. Ebben az esetben az első érték a kulcs, ```key```, a második az érték, ```value```. A ```for``` cikluson belül ezeken a neveken hivatkozhatunk rájuk. "
   ]
  },
  {
   "cell_type": "markdown",
   "metadata": {},
   "source": [
    "### Gomb lenyomással tippelni a LED színét"
   ]
  },
  {
   "cell_type": "markdown",
   "metadata": {},
   "source": [
    "Most már szinte minden a rendelkezésünkre áll, hogy elkészítsük a játékot. Bemásoljuk a kódunkba a szín név és kód könyvtárat. Majd definiálunk néhány globális változót, amik segítik majd a program működését:\n",
    "\n",
    "* ```select=''```: ebben a változóban majd szín neveket fogunk tárolni, amiket összehasonlítunk majd az előre kiválasztott színnel. Ha egyezés van, akkor a játékos nyert, ha nem akkor vesztett.\n",
    "* ```wait=1```: ez a változó határozza meg, hogy milyen sokáig világítson egy szín. Alapbeállításban 1 másodpercig világítanak majd.\n",
    "* ```target='red'```: ez a változó tartalmazza a cél színnek a nevét. Alapbeállítása a piros, de a ```colors_dict``` bármelyik kulcsát tartalmazhatja. Ha olyan színt írnánk oda, amit a könyvtár nem tartalmaz, akkor a szegény játékos sosem fog nyerni."
   ]
  },
  {
   "cell_type": "markdown",
   "metadata": {},
   "source": [
    "A következő lépésben kicsit átírjuk a ```pressed()``` függvényt, hogy a célnak megfeleljen. Ennek kettős feladata van:\n",
    "\n",
    "* Észlelje, hogy a gombot megnyomták,\n",
    "* Összehasonlítsa a gomb lenyomásakor látható LED színt a ```target``` változóban definiált színnel és eldöntse a játékos nyert-e vagy sem.\n",
    "\n",
    "Ezek elvégzéséhez a függvényen belül kijelentjük, hogy a ```select``` és a ```target``` változók globálisak. A ```select``` tárolja annak a színnek a nevét, ami a gomb lenyomásának pillanatában a LED-en látható volt (később látjuk majd ennek a definiálását), míg a ```target``` szín nevét már előre megadtuk. Ezt a kettőt egy ```if``` szerkezetben összehasonlítjuk és ha megegyeznek, kiírjuk a képernyőre, hogy a játékos nyert, ha különböznek, akkor a játékos vesztett.\n",
    "\n",
    "Továbbra is a ```pressed``` függvényt hozzárendeljük a ```button.when_pressed``` metódushoz.\n",
    "\n",
    "Végül a végtelen ```while``` ciklusban sorra meghívjuk a színkönyvtárban definiált színeket egy ```for``` ciklussal. A szín nevét eltároljuk: ```select = key```, hogy a ```pressed``` függvényben összehasonlíthassuk majd, a szín RGB kódját pedig a LED-hez rendeljük: ```led.color = value```. Ezután megállítjuk a programot 1 másodpercre a ```time.sleep(wait)``` paranccsal, hogy a LED egy színt 1 másodpercig mutasson. "
   ]
  },
  {
   "cell_type": "markdown",
   "metadata": {},
   "source": [
    "```led_RGB_color_guess.py```:"
   ]
  },
  {
   "cell_type": "code",
   "execution_count": null,
   "metadata": {},
   "outputs": [],
   "source": [
    "from gpiozero import RGBLED, Button\n",
    "import time\n",
    "\n",
    "button = Button(17)\n",
    "led = RGBLED(red=9, green=10, blue=11, active_high = True)\n",
    "\n",
    "colors_dict = {'red': (1,0,0),\n",
    "          'green': (0,1,0),\n",
    "          'blue': (0,0,1),\n",
    "          'white': (1,1,1),\n",
    "          'black': (0,0,0),\n",
    "          'yellow': (1,1,0),\n",
    "          'cyan': (0,1,1),\n",
    "          'magenta': (1,0,1),\n",
    "          'silver': (192/255,192/255,192/255),\n",
    "          'gray': (128/255,128/255,128/255),\n",
    "          'deep pink': (255/255,20/255,147/255),\n",
    "}\n",
    "\n",
    "select = ''\n",
    "wait = 1\n",
    "target = 'red'\n",
    "\n",
    "def pressed():\n",
    "    global select, target\n",
    "    if select == target:\n",
    "        print('You have won!')\n",
    "    else:\n",
    "        print('You lost!')\n",
    "\n",
    "button.when_pressed = pressed\n",
    "\n",
    "while True:\n",
    "    for key, value in colors_dict.items():\n",
    "        select = key\n",
    "        led.color = value\n",
    "        time.sleep(wait)\n"
   ]
  },
  {
   "cell_type": "markdown",
   "metadata": {},
   "source": [
    "Mentsük el a kódot, majd teszteljük le a működését."
   ]
  },
  {
   "cell_type": "markdown",
   "metadata": {},
   "source": [
    "## A projekt tesztelése"
   ]
  },
  {
   "cell_type": "markdown",
   "metadata": {},
   "source": [
    "Miután összeszereltük az áramkört és a kódot is megírtuk, amit pl. ```led_RGB_color_guess.py``` név alatt mentettünk el, megnyithatunk a Raspberry Pi operációs rendszerén egy terminált. A terminálban a ```cd 'mappa név'``` paranccsal elnavigálunk abba a mappába, ahova a ```led_RGB_color_guess.py```-t elmentettük. Ott begépelve a ```python led_RGB_color_guess.py``` parancsot, letesztelhetjük a programunk működését. Ha minden jól megy akkor az RGB LED különböző színeket ismétel, majd a gomb lenyomására a terminálban vagy kiíródik, hogy nyertél vagy hogy vesztettél.\n",
    "\n",
    "Hibaüzenetek esetén ki kell deríteni mi lehetett a probléma, pl. elgépelés, egy modul hiányzik, sorok megfelelő behúzása, idézőjel lemaradása stb. A hibaüzenet legtöbbször segít abban, hogy melyik sorban találta a hibát és hogy mi volt az. Egy kis gyakorlással bele lehet jönni azok értelmezésébe, valamint interneten is rá lehet keresni a hibaüzenet jelentésére és annak lehetséges elhárítására."
   ]
  },
  {
   "cell_type": "markdown",
   "metadata": {},
   "source": [
    "## Mit lehet javítani/továbbfejleszteni?"
   ]
  },
  {
   "cell_type": "markdown",
   "metadata": {},
   "source": [
    "* Jelenítsd meg a színeket véletlenszerűen és különböző hosszúságú ideig.\n",
    "* Változtasd meg a kódot, hogy a játékos előre leír egy színt, majd a gombnyomással elindítja a színek random változását, ami véletlenszeráen megáll az egyik színnél. Ha a játékos eltalálta ezt a színt akkor nyert, ha nem akkor vesztett.\n",
    "\n",
    "Írd meg kommentben, hogy szerinted mivel lehetne még feldobni ezt a kis programot!"
   ]
  },
  {
   "cell_type": "markdown",
   "metadata": {},
   "source": [
    "## Referencia"
   ]
  },
  {
   "cell_type": "markdown",
   "metadata": {},
   "source": [
    "1) gpiozero leírás - [https://gpiozero.readthedocs.io/en/stable/recipes.html](https://gpiozero.readthedocs.io/en/stable/recipes.html)\n",
    "\n",
    "2) LED objektum leírása - [https://gpiozero.readthedocs.io/en/stable/api_output.html#led](https://gpiozero.readthedocs.io/en/stable/api_output.html#led)\n",
    "\n",
    "3) RGBLED objektum leírása - [https://gpiozero.readthedocs.io/en/stable/api_output.html#rgbled](https://gpiozero.readthedocs.io/en/stable/api_output.html#rgbled)\n",
    "\n",
    "4) A *dictionary* típus leírása - [https://www.learnpython.org/en/Dictionaries](https://www.learnpython.org/en/Dictionaries)"
   ]
  },
  {
   "cell_type": "code",
   "execution_count": null,
   "metadata": {},
   "outputs": [],
   "source": []
  }
 ],
 "metadata": {
  "kernelspec": {
   "display_name": "Python 3",
   "language": "python",
   "name": "python3"
  },
  "language_info": {
   "codemirror_mode": {
    "name": "ipython",
    "version": 3
   },
   "file_extension": ".py",
   "mimetype": "text/x-python",
   "name": "python",
   "nbconvert_exporter": "python",
   "pygments_lexer": "ipython3",
   "version": "3.7.3"
  },
  "toc": {
   "base_numbering": 1,
   "nav_menu": {},
   "number_sections": true,
   "sideBar": true,
   "skip_h1_title": false,
   "title_cell": "Table of Contents",
   "title_sidebar": "Contents",
   "toc_cell": false,
   "toc_position": {},
   "toc_section_display": true,
   "toc_window_display": false
  }
 },
 "nbformat": 4,
 "nbformat_minor": 2
}
