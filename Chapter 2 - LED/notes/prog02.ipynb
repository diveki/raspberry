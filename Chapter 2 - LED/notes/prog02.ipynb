{
 "cells": [
  {
   "cell_type": "markdown",
   "metadata": {},
   "source": [
    "# Reflex verseny"
   ]
  },
  {
   "cell_type": "markdown",
   "metadata": {},
   "source": [
    "A sportban kiemelt jelentősége van annak ki a gyorsabb. Manapság nagyon sok olyan sportág van ahol az emberi szem precizitása már nem is elegendő arra, hogy meghatározza ki a nyertes. Sokszor hívnak segítségül valamilyen technikai eszközt, hogy megállapítsák ki nyert. Gondoljunk csak a Forma 1-re, futásra vagy az úszásra, ahol már ezred másodperceket kell mérni, hogy kiderüljön ki győzött.\n",
    "\n",
    "Ebben a projektben egy reflex versenyhez készítünk technikát. A versenyzőknek a feladata, hogy mihamarabb észrevegyék és azt egy gomb lenyomásával jelezzék, hogy egy LED elkezdett világítani. "
   ]
  },
  {
   "cell_type": "markdown",
   "metadata": {},
   "source": [
    "## Mit fogsz készíteni?"
   ]
  },
  {
   "cell_type": "markdown",
   "metadata": {},
   "source": [
    "Egy LED diódából és kettő nyomógombból álló rendszert készítesz, ahol a nyomógomb lenyomásával jelezned kell, hogy a LED elkezdett világítani. Érzékelve melyik gomb lett gyorsabban lenyomva a program kijelzi, ki lett a győztes."
   ]
  },
  {
   "cell_type": "markdown",
   "metadata": {},
   "source": [
    "## Mit tanulsz meg?"
   ]
  },
  {
   "cell_type": "markdown",
   "metadata": {},
   "source": [
    "A reflex verseny elkészítésével a következőket tanulod meg:\n",
    "\n",
    "* Hogyan tudsz egy egyszerű áramkört összerakni egy breadboard, LED, ellenállás, gombok és drótok segítségével\n",
    "* Hogyan programozd be a Raspberry Pi GPIO kimeneteleit a **gpiozero** modullal\n",
    "* Hogyan használj változókat, hogy tárold az eredményeket\n",
    "* Hogyan szerezz felhasználói információkat, mint pl. a játékos neve és használd a játékban."
   ]
  },
  {
   "cell_type": "markdown",
   "metadata": {},
   "source": [
    "## A projekt részletekre bontása"
   ]
  },
  {
   "cell_type": "markdown",
   "metadata": {},
   "source": [
    "* Inicializálni a Button és LED objektumokat\n",
    "* Elmenteni a játékosok nevét\n",
    "* Egy függvényben eldönteni ki nyomta meg hamarabb a gombot és kiírni ki győzött\n",
    "* Elindítani egy végtelen ciklust, ami biztosítja a program futását\n",
    "* Random időben bekapcsolni a LED-et\n",
    "* Eldönteni, hogy a játékosok szeretnének-e tovább játszani"
   ]
  },
  {
   "cell_type": "markdown",
   "metadata": {},
   "source": [
    "## Áramköri elemek listája"
   ]
  },
  {
   "cell_type": "markdown",
   "metadata": {},
   "source": [
    "a) [Raspberry PI](https://malnapc.hu/yis/raspberry-pi/rpi-panelek) \n",
    "\n",
    "b) 2db nyomó gomb: [itt vásárolhatsz](https://hu.farnell.com/schurter/1301-9320/switch-smd-push-12-5mm/dp/1217772?gclid=Cj0KCQjwzZj2BRDVARIsABs3l9K-ACTnuRr-dLVcDUKleNfECM3H3kWS_RfWtmXGMXVJeY9otda4dDcaAvGLEALw_wcB&gross_price=true&mckv=sSFnjERxR_dc|pcrid|434487710397|plid||kword||match||slid||product|1217772|pgrid|101346804139|ptaid|pla-389347076066|&CMP=KNC-GHU-SHOPPING-switches-relays-NEWSTRUCTURE-13-MAY-20) vagy [építhetsz]()\n",
    "\n",
    "c) [Jumper wires female/male](https://www.ret.hu/shop/product/e-call/jumper-vezetek-szet_53-22-63) \n",
    "\n",
    "d) 1db LED, $I_{max}$ = 20 mA-es: [itt vásárolhatsz](https://www.tme.eu/hu/katalog/tht-led-diodak-5mm_112898/?s_order=desc&search=led&s_field=1000011)\n",
    "\n",
    "e) 1db 220 - 560 Ohm közötti [ellenállás](https://www.tme.eu/hu/katalog/tht-metal-film-ellenallasok-0-6w_100289/?s_order=desc&search=ellenallas&s_field=1000011)\n",
    "\n",
    "f) 1db [Breadboard](https://www.tme.eu/hu/katalog/muhelyfelszereles_112607/?s_order=desc&search=breadboard&s_field=1000011)"
   ]
  },
  {
   "cell_type": "markdown",
   "metadata": {},
   "source": [
    "## A kapcsolási rajz"
   ]
  },
  {
   "cell_type": "markdown",
   "metadata": {},
   "source": [
    "<img src=\"prog02_circuit.png\" width=600 height=400 />"
   ]
  },
  {
   "cell_type": "markdown",
   "metadata": {},
   "source": [
    "A fenti ábrához hasonlóan kapcsoljuk össze az áramköri elemeket és a Raspberry Pi-t.\n",
    "\n",
    "1) A nyomógombok lábait illesszük a breadbord mélyedéseibe. Ügyeljünk arra, hogy a nyomógomb egy (vízszintes) sorba kerülő lábai a gomb lenyomása nélkül is kapcsolatban legyenek egymással, míg a (függőlegesen) egy oszlopba kerülő lábai csak a lenyomás következtében legyenek összekötve. Mindezt egy műszerrel leellenőrízhetjük.\n",
    "\n",
    "2) Mindezt ismételjük meg egy másik gombbal legalább 15 sorral eltolva az előző gombhoz képest.\n",
    "\n",
    "3) Helyezzük a LED lábait két különboző sorba, valahol a két nyomógomb között. A katódját (negatív láb) kössük a földeléshez míg az anódjának (pozitív láb) sorába kössük be az ellenállásunk egyik lábát, míg a másikat egy üresen álló sorba tegyük. A LED anódjának és katódjának megállapítására használhatunk egy multimétert. Csatlakoztasd a fekete mérőzsinórt a COM (föld) és a piros mérőzsinórt a VΩmA jelzésű hüvelybe. Forgasd el a méréshatárváltó kapcsolót a folytonosság mérés állapotba. Érintsd a két zsínórt a két lábhoz és ha a LED halványan pislákol, akkor az a láb amelyikhez a fekete zsinórt érintetted a katód, a másik az anód. Ha nem pislákol akkor cseréld meg a zsinórok és a lábak érintkezését, hogy világítson.\n",
    "\n",
    "4) Nevezzük ki a breadboard oldalsó oszlopainak egyikét a közös földelésnek (az ábrán a fekete drótok képviselik). Ide kössük be a nyomógombok egyik lábát illetve a LED anódját. Ugyanebbe az oszlopba kössük be a Raspberry Pi egyik **GND** jelölésű tüskéjét is egy jumper drót segítségével.\n",
    "\n",
    "5) A nyomógombok eddig szabadon lévő lábait egy jumperrel kössük össze a **14**-es és **15**-ös GPIO tüskével.\n",
    "\n",
    "6) Az ellenállás szabadon levő lábát egy jumperrel kössük össze a **4**-es GPIO tüskével."
   ]
  },
  {
   "cell_type": "markdown",
   "metadata": {},
   "source": [
    "## A kód\n",
    "Nyissunk meg egy új python fájlt és mentsük el pl. ```led_reflex.py``` név alatt."
   ]
  },
  {
   "cell_type": "markdown",
   "metadata": {},
   "source": [
    "### A LED kipróbálása"
   ]
  },
  {
   "cell_type": "markdown",
   "metadata": {},
   "source": [
    "Miután elkészítettük az áramkört, meg kell írnunk a kódot ami utasítja a Raspberry Pi-t, hogyan viselkedjen amikor a gombot megnyomják.\n",
    "\n",
    "Először betöltjük a ```gpiozero``` modulból a ```Button``` és ```LED``` objektumokat amik lehetővé teszik, hogy a Raspi kommunikáljon a gombbal és a LED-del a **GPIO** tüskéken keresztül. Ezek mellett beolvassuk még a ```sleep``` függvényt is, amit a python várakoztatására használunk majd."
   ]
  },
  {
   "cell_type": "markdown",
   "metadata": {},
   "source": [
    "```led_reflex.py```:"
   ]
  },
  {
   "cell_type": "code",
   "execution_count": null,
   "metadata": {},
   "outputs": [],
   "source": [
    "from gpiozero import Button, LED\n",
    "from time import sleep"
   ]
  },
  {
   "cell_type": "markdown",
   "metadata": {},
   "source": [
    "Az objektum beolvasása után inicializálunk egy ```LED``` objektumot, amit ```led```-nek nevezünk el. Egyben megmondjuk a LED-nek, hogy azt a *4*-es számú **GPIO** tüskére kötöttük.  "
   ]
  },
  {
   "cell_type": "markdown",
   "metadata": {},
   "source": [
    "```led_reflex.py```:"
   ]
  },
  {
   "cell_type": "code",
   "execution_count": null,
   "metadata": {},
   "outputs": [],
   "source": [
    "from gpiozero import Button, LED\n",
    "from time import sleep\n",
    "\n",
    "led = LED(4)"
   ]
  },
  {
   "cell_type": "markdown",
   "metadata": {},
   "source": [
    "Ezután, hogy tesztelhessük, működik-e az áramkörünk LED-es része, egészítsük ki a kódot a következő sorokkal, ami be is kikapcsolja a LED-et, 5 másodperces késéssel:"
   ]
  },
  {
   "cell_type": "markdown",
   "metadata": {},
   "source": [
    "```led_reflex.py```:"
   ]
  },
  {
   "cell_type": "code",
   "execution_count": null,
   "metadata": {},
   "outputs": [],
   "source": [
    "from gpiozero import LED, Button\n",
    "from time import sleep\n",
    "\n",
    "led = LED(4)\n",
    "\n",
    "led.on()\n",
    "sleep(5)\n",
    "led.off()"
   ]
  },
  {
   "cell_type": "markdown",
   "metadata": {},
   "source": [
    "Mentsük el a fájlt és futtasuk le a kódot a terminálban a ```python led_reflex.py``` paranccsal. Ha minden rendben van, a LED világít 5 másodpercig majd kialszik."
   ]
  },
  {
   "cell_type": "markdown",
   "metadata": {},
   "source": [
    "### LED ki-be kapcsolás ismétlődő ciklusokban"
   ]
  },
  {
   "cell_type": "markdown",
   "metadata": {},
   "source": [
    "A következő lépésben készítünk egy ```while``` ciklust, amiben minden egyes ciklus végén megkérdezzük a felhasználót, hogy szeretné-e mégegyszer megismételni a LED kapcsolást. Ehhez definiálunk egy változót, ```answer```, amihez a ```True``` értéket rendeljük alapbeállításként. Ez a változó ellenőrzi, hogy a felhasználó szeretne-e egy új kört menni vagy sem. Ha igen, akkor a változó értéke marad ```True```, ha nem, akkor átírjuk ```False```-ra és így a ```while``` ciklusunk nem ismétlődik meg újra.\n",
    "\n",
    "Ezenfelül importáljuk a ```random``` csomagból a ```uniform``` függvényt ami véletlenszerűvé teszi a késleltetést a LED világítása és kialvása között. Pontosabban 2 másodperc és 10 másodperc közti random értéket fog várni."
   ]
  },
  {
   "cell_type": "markdown",
   "metadata": {},
   "source": [
    "```led_reflex.py```:"
   ]
  },
  {
   "cell_type": "code",
   "execution_count": null,
   "metadata": {},
   "outputs": [],
   "source": [
    "from gpiozero import LED, Button\n",
    "from time import sleep\n",
    "from random import uniform\n",
    "\n",
    "led = LED(4)\n",
    "\n",
    "answer = True\n",
    "\n",
    "while answer:\n",
    "    led.on()\n",
    "    sleep(uniform(2, 10))\n",
    "    led.off()\n",
    "    txt = input('Szeretnél újra játszani? (y/n) ')\n",
    "    if txt == 'y':\n",
    "        answer = True\n",
    "    else:\n",
    "        answer = False"
   ]
  },
  {
   "cell_type": "markdown",
   "metadata": {},
   "source": [
    "Az ```answer``` változót egy ```if``` szerkezetben változtatjuk, annak függvényében, hogy a feltett kérdésre milyen választ kapunk. Ezt a választ az ```input``` paranccsal olvassuk be és a ```txt``` változóban tároljuk. Ha ```txt=='y'``` akkor folytatódik a ciklus, ellenkező esetben megáll a ciklus és a program végére jutunk.\n",
    "\n",
    "Mentsük el a kódot és futtasuk le ismét. Most minden LED világítás után egy kérdést kell kapnunk, amire a válaszunk függvényében ismét világít a LED vagy megáll a program.  "
   ]
  },
  {
   "cell_type": "markdown",
   "metadata": {},
   "source": [
    "### Nyomógombok detektálása"
   ]
  },
  {
   "cell_type": "markdown",
   "metadata": {},
   "source": [
    "Az objektum beolvasása után inicializálunk kettő Button és egy LED objektumot, amiket left_button-nak, right_button-nak és led-nek nevezünk el. Egyben megmondjuk a gomb objektumoknak, hogy a fizikai gombokat a 14-es és 15-ös számú GPIO tüskére csatlakoztattuk, míg a LED-nek, hogy azt a 4-es számú GPIO tüskére."
   ]
  },
  {
   "cell_type": "markdown",
   "metadata": {},
   "source": [
    "Evvel be is fejeztük a kód írását. Elmentjük a fájlt pl. ```led_switch.py``` név alá és a ```python led_switch.py``` paranccsal el is indíthatjuk. Ha minden rendben működik, akkor a gomb lenyomására a LED világít és kikapcsol. A gomb lenyomásával áramot engedünk a LED elektródáira. Ez az áram a LED-ben levő atomok elektronjait gerjeszti, amitől azok nagyobb energiaszintű atompályára lépnek, majd miközben visszatérnek eredeti energiaszintjükre, fotonokat bocsátanak ki. Hasonlóan érdekes jelenségek játszódnak le minden hétköznapi lámpakapcsoláskor, amiket mi már természetesnek veszünk. \n",
    "\n",
    "Hogy még jobban megismerjük a *gpiozero LED* objektumát, még egy módszert bemutatunk a LED-ek bekapcsolására. "
   ]
  },
  {
   "cell_type": "code",
   "execution_count": null,
   "metadata": {},
   "outputs": [],
   "source": [
    "while True:\n",
    "    button.wait_for_press()\n",
    "    led.toggle()"
   ]
  },
  {
   "cell_type": "markdown",
   "metadata": {},
   "source": [
    "A végtelen cikluson belül itt is várunk a gomb lenyomására, de most nem vizsgáljuk meg, hogy a LED világít-e vagy sem, hanem egyszerűen azt mondjuk neki, hogy váltson állapotot a ```led.toggle()``` paranccsal. Ezzel a módszerrel sokkal rövidebb kóddal is ugyanarra az eredményre jutunk."
   ]
  },
  {
   "cell_type": "markdown",
   "metadata": {},
   "source": [
    "## A projekt tesztelése"
   ]
  },
  {
   "cell_type": "markdown",
   "metadata": {},
   "source": [
    "Miután összeszereltük az áramkört és a kódot is megírtuk, amit pl. ```led_reflex.py``` név alatt mentettünk el, megnyithatunk a Raspberry Pi operációs rendszerén egy terminált. A terminálban a ```cd 'mappa név'``` paranccsal elnavigálunk abba a mappába, ahova a ```led_reflex.py```-t elmentettük. Ott begépelve a ```python led_reflex.py``` parancsot, letesztelhetjük a programunk működését. Ha minden jól megy akkor a LED 10 másodpercen belül elkezd világítani és a gombok lenyomására a képernyőn megjelenik ki győzött.\n",
    "\n",
    "Hibaüzenetek esetén ki kell deríteni mi lehetett a probléma, pl. elgépelés, egy modul hiányzik, sorok megfelelő behúzása, idézőjel lemaradása stb. A hibaüzenet legtöbbször segít abban, hogy melyik sorban találta a hibát és hogy mi volt az. Egy kis gyakorlással bele lehet jönni azok értelmezésébe, valamint interneten is rá lehet keresni a hibaüzenet jelentésére és annak lehetséges elhárítására."
   ]
  },
  {
   "cell_type": "markdown",
   "metadata": {},
   "source": [
    "## Mit lehet javítani/továbbfejleszteni?"
   ]
  },
  {
   "cell_type": "markdown",
   "metadata": {},
   "source": [
    "* Tudod-e számolni, hogy melyik játékos hányszor nyert?\n",
    "* Tudod-e mérni mennyi idő telt el a LED világításától a gombok lenyomásáig?\n",
    "\n",
    "Írd meg kommentben, hogy szerinted mivel lehetne még feldobni ezt a kis programot!"
   ]
  },
  {
   "cell_type": "markdown",
   "metadata": {},
   "source": [
    "## Referencia"
   ]
  },
  {
   "cell_type": "markdown",
   "metadata": {},
   "source": [
    "1) gpiozero leírás - [https://gpiozero.readthedocs.io/en/stable/recipes.html](https://gpiozero.readthedocs.io/en/stable/recipes.html)\n",
    "\n",
    "2) LED objektum leírása - [https://gpiozero.readthedocs.io/en/stable/api_output.html#led](https://gpiozero.readthedocs.io/en/stable/api_output.html#led)\n",
    "\n",
    "3) Button objektum leírása - [https://gpiozero.readthedocs.io/en/stable/api_input.html#button](https://gpiozero.readthedocs.io/en/stable/api_input.html#button)"
   ]
  },
  {
   "cell_type": "code",
   "execution_count": null,
   "metadata": {},
   "outputs": [],
   "source": []
  }
 ],
 "metadata": {
  "kernelspec": {
   "display_name": "Python 3",
   "language": "python",
   "name": "python3"
  },
  "language_info": {
   "codemirror_mode": {
    "name": "ipython",
    "version": 3
   },
   "file_extension": ".py",
   "mimetype": "text/x-python",
   "name": "python",
   "nbconvert_exporter": "python",
   "pygments_lexer": "ipython3",
   "version": "3.7.3"
  },
  "toc": {
   "base_numbering": 1,
   "nav_menu": {},
   "number_sections": true,
   "sideBar": true,
   "skip_h1_title": false,
   "title_cell": "Table of Contents",
   "title_sidebar": "Contents",
   "toc_cell": false,
   "toc_position": {},
   "toc_section_display": true,
   "toc_window_display": false
  }
 },
 "nbformat": 4,
 "nbformat_minor": 2
}
