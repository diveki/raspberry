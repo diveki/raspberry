{
 "cells": [
  {
   "cell_type": "markdown",
   "metadata": {},
   "source": [
    "# LED kapcsolás nyomógombbal"
   ]
  },
  {
   "cell_type": "markdown",
   "metadata": {},
   "source": [
    "Régebben ha az ember látni akart a sötétben tűzet, gyertyát, mécsest gyújtott. Ennek a tevékenységnek volt előkészülete, folyamata (maga a láng keltése) és nem utolsósorban akár esztétikai értéke is. A gyertya lángjában mind a mai napig lehet gyönyörködni. \n",
    "\n",
    "Manapság viszont teljesen hétköznapi dolog számunkra az, hogy az este folyamán belépünk egy szobába és felkapcsoljuk a lámpát. Egy kézmozdulattal világosságot teremtünk és végezzük a dolgunkat. Pedig a gyertyától a modern lámpákig hatalmas tudományos fejlődés vezetett és az utóbbiak működése önmagában is érdekes. \n",
    "\n",
    "Ebben a projektben egy egyszerű LED kapcsolót készítünk, amivel átláthatjuk, hogyan is tudunk lámpát kapcsolni egy szobában. "
   ]
  },
  {
   "cell_type": "markdown",
   "metadata": {},
   "source": [
    "## Mit fogsz készíteni?"
   ]
  },
  {
   "cell_type": "markdown",
   "metadata": {},
   "source": [
    "Egy LED diódából és egy nyomógombból álló rendszert készítesz, ahol a nyomógomb lenyomásával kapcsoljuk ki/be a LED diódát."
   ]
  },
  {
   "cell_type": "markdown",
   "metadata": {},
   "source": [
    "## Mit tanulsz meg?"
   ]
  },
  {
   "cell_type": "markdown",
   "metadata": {},
   "source": [
    "A LED kapcsoló elkészítésével a következőket tanulod meg:\n",
    "\n",
    "* Hogyan tudsz egy LED-et egy áramkörbe beiktatni\n",
    "* Hogyan programozd be a Raspberry Pi GPIO kimeneteleit a **gpiozero** modullal"
   ]
  },
  {
   "cell_type": "markdown",
   "metadata": {},
   "source": [
    "## A projekt részletekre bontása"
   ]
  },
  {
   "cell_type": "markdown",
   "metadata": {},
   "source": [
    "* Inicializálni a Button és LED objektumokat\n",
    "* Elindítani egy végtelen ciklust, ami biztosítja a program futását\n",
    "* Várni a gombnyomásra\n",
    "* Eldönteni, hogy a LED világított-e vagy sem és annak megfelelően változtatni a LED állapotát"
   ]
  },
  {
   "cell_type": "markdown",
   "metadata": {},
   "source": [
    "## Áramköri elemek listája"
   ]
  },
  {
   "cell_type": "markdown",
   "metadata": {},
   "source": [
    "a) [Raspberry PI](https://malnapc.hu/yis/raspberry-pi/rpi-panelek) \n",
    "\n",
    "b) Nyomó gomb: [itt vásárolhatsz](https://hu.farnell.com/schurter/1301-9320/switch-smd-push-12-5mm/dp/1217772?gclid=Cj0KCQjwzZj2BRDVARIsABs3l9K-ACTnuRr-dLVcDUKleNfECM3H3kWS_RfWtmXGMXVJeY9otda4dDcaAvGLEALw_wcB&gross_price=true&mckv=sSFnjERxR_dc|pcrid|434487710397|plid||kword||match||slid||product|1217772|pgrid|101346804139|ptaid|pla-389347076066|&CMP=KNC-GHU-SHOPPING-switches-relays-NEWSTRUCTURE-13-MAY-20) vagy [építhetsz]()\n",
    "\n",
    "c) [Jumper wires female/male](https://www.ret.hu/shop/product/e-call/jumper-vezetek-szet_53-22-63) \n",
    "\n",
    "d) LED, $I_{max}$ = 20 mA-es: [itt vásárolhatsz](https://www.tme.eu/hu/katalog/tht-led-diodak-5mm_112898/?s_order=desc&search=led&s_field=1000011)\n",
    "\n",
    "e) 220 - 560 Ohm közötti [ellenállás](https://www.tme.eu/hu/katalog/tht-metal-film-ellenallasok-0-6w_100289/?s_order=desc&search=ellenallas&s_field=1000011)"
   ]
  },
  {
   "cell_type": "markdown",
   "metadata": {},
   "source": [
    "## A kapcsolási rajz"
   ]
  },
  {
   "cell_type": "markdown",
   "metadata": {},
   "source": [
    "<img src=\"prog01_circuit.png\" width=600 height=400 />"
   ]
  },
  {
   "cell_type": "markdown",
   "metadata": {},
   "source": [
    "A fenti ábrához hasonlóan kapcsoljuk össze az áramköri elemeket és a Raspberry Pi-t.\n",
    "\n",
    "1) A nyomógombot lábait illesszük a breadbord mélyedéseibe. Ügyeljünk arra, hogy a nyomógomb egy (vízszintes) sorba kerülő lábai a gomb lenyomása nélkül is kapcsolatban legyenek egymással, míg a (függőlegesen) egy sorba kerülő lábai csak a lenyomás következtében legyenek összekötve. Mindezt egy műszerrel leellenőrízhetjük.\n",
    "\n",
    "2) Helyezzük a LED lábait két különboző sorba. A katódját (negatív láb) kössük a földeléshez míg az anódjának (pozitív láb) sorába kössük be az ellenállásunk egyik lábát, míg a másikat egy üresen álló sorba tegyük. A LED anódjának és katódjának megállapítására használhatunk egy multimétert. Csatlakoztasd a fekete mérőzsinórt a COM (föld) és a piros mérőzsinórt a VΩmA jelzésű hüvelybe. Forgasd el a méréshatárváltó kapcsolót a folytonosság mérés állapotba. Érintsd a két zsínórt a két lábhoz és ha a LED halványan pislákol, akkor az a láb amelyikhez a fekete zsinórt érintetted a katód, a másik az anód. Ha nem pislákol akkor cseréld meg a zsinórok és a lábak érintkezését, hogy világítson.\n",
    "\n",
    "3) Nevezzük ki a breadboard oldalsó oszlopainak egyikét a közös földelésnek. Ide kössük be a nyomógomb egyik lábáz illetve a LED anódját. Ugyanebbe az oszlopba kössük be a Raspberry Pi egyik **GND** jelölésű tüskéjét is egy jumper segítségével.\n",
    "\n",
    "4) A nyomógomb eddig szabadon lévő lábát egy jumperrel kössük össze a **2**-es GPIO tüskével.\n",
    "\n",
    "5) Az ellenállás szabadon levő lábát egy jumperrel kössük össze a **14**-es GPIO tüskével."
   ]
  },
  {
   "cell_type": "markdown",
   "metadata": {},
   "source": [
    "## A kód"
   ]
  },
  {
   "cell_type": "markdown",
   "metadata": {},
   "source": [
    "Miután elkészítettük az áramkört, meg kell írnunk a kódot ami utasítja a Raspberry Pi-t, hogyan viselkedjen amikor a gombot megnyomják.\n",
    "\n",
    "Először betöltjük a ```gpiozero``` modulból a ```Button``` és ```LED``` objektumokat amik lehetővé teszik, hogy a Raspi kommunikáljon a gombbal és a LED-del a **GPIO** tüskéken keresztül. "
   ]
  },
  {
   "cell_type": "code",
   "execution_count": null,
   "metadata": {},
   "outputs": [],
   "source": [
    "from gpiozero import Button, LED"
   ]
  },
  {
   "cell_type": "markdown",
   "metadata": {},
   "source": [
    "Az objektum beolvasása után inicializálunk egy ```Button``` és egy ```LED``` objektumot, amit ```button```-nak és ```led```-nek nevezünk el. Egyben megmondjuk az objektumnak, hogy a fizikai gombot a *2*-es számú **GPIO** tüskére csatlakoztattuk, míg a LED-nek, hogy azt a *14*-es számú **GPIO** tüskére. Emellett a LED-nek az ```initial_value``` argumentumát hamisra állítjuk, amivel utasítjuk a LED-et, hogy inicializáláskor ne világítson. "
   ]
  },
  {
   "cell_type": "code",
   "execution_count": null,
   "metadata": {},
   "outputs": [],
   "source": [
    "button = Button(2)\n",
    "led = LED(14, initial_value = False)"
   ]
  },
  {
   "cell_type": "markdown",
   "metadata": {},
   "source": [
    "Ezután egy végtelen ciklust indítunk, amiben a python várni fogja a gomb lenyomását, ```button.wait_for_press()```. Ha a lenyomás bekövetkezik, egy ```if``` szerkezetbe lépünk be, ami megvizsgálja, hogy a LED világít-e vagy sem, ```led.is_lit```. Amennyiben világít, akkor lekapcsoljuk, ```led.off()```, ha nem világít, akkor fölkapcsoljuk, ```led.on()```. "
   ]
  },
  {
   "cell_type": "code",
   "execution_count": null,
   "metadata": {},
   "outputs": [],
   "source": [
    "while True:\n",
    "    button.wait_for_press()\n",
    "    if led.is_lit:\n",
    "        led.off()\n",
    "    else:\n",
    "        led.on()"
   ]
  },
  {
   "cell_type": "markdown",
   "metadata": {},
   "source": [
    "Evvel be is fejeztük a kód írását. Elmentjük a fájlt pl. ```led_switch.py``` név alá és a ```python led_switch.py``` paranccsal el is indíthatjuk. Ha minden rendben működik, akkor a gomb lenyomására a LED világít és kikapcsol. A gomb lenyomásával áramot engedünk a LED elektródáira. Ez az áram a LED-ben levő atomok elektronjait gerjeszti, amitől azok nagyobb energiaszintű atompályára lépnek, majd miközben visszatérnek eredeti energiaszintjükre, fotonokat bocsátanak ki. Hasonlóan érdekes jelenségek játszódnak le minden hétköznapi lámpakapcsoláskor, amiket mi már természetesnek veszünk. \n",
    "\n",
    "Hogy még jobban megismerjük a *gpiozero LED* objektumát, még egy módszert bemutatunk a LED-ek bekapcsolására. "
   ]
  },
  {
   "cell_type": "code",
   "execution_count": null,
   "metadata": {},
   "outputs": [],
   "source": [
    "while True:\n",
    "    button.wait_for_press()\n",
    "    led.toggle()"
   ]
  },
  {
   "cell_type": "markdown",
   "metadata": {},
   "source": [
    "A végtelen cikluson belül itt is várunk a gomb lenyomására, de most nem vizsgáljuk meg, hogy a LED világít-e vagy sem, hanem egyszerűen azt mondjuk neki, hogy váltson állapotot a ```led.toggle()``` paranccsal. Ezzel a módszerrel sokkal rövidebb kóddal is ugyanarra az eredményre jutunk."
   ]
  },
  {
   "cell_type": "markdown",
   "metadata": {},
   "source": [
    "## A projekt tesztelése"
   ]
  },
  {
   "cell_type": "markdown",
   "metadata": {},
   "source": [
    "Miután összeszereltük az áramkört és a kódot is megírtuk, amit pl. ```led_switch.py``` név alatt mentettünk el, megnyithatunk a Raspberry Pi operációs rendszerén egy terminált. A terminálban a ```cd 'mappa név'``` paranccsal elnavigálunk abba a mappába, ahova a ```led_switch.py```-t elmentettük. Ott begépelve a ```python led_switch.py``` parancsot, letesztelhetjük a programunk működését. Ha minden jól megy akkor a gomb lenyomására a LED dióda világít, majd újbóli lenyomására a LED kialszik.\n",
    "\n",
    "Hibaüzenetek esetén ki kell deríteni mi lehetett a probléma, pl. elgépelés, egy modul hiányzik, sorok megfelelő behúzása, idézőjel lemaradása stb. A hibaüzenet legtöbbször segít abban, hogy melyik sorban találta a hibát és hogy mi volt az. Egy kis gyakorlással bele lehet jönni azok értelmezésébe, valamint interneten is rá lehet keresni a hibaüzenet jelentésére és annak lehetséges elhárítására."
   ]
  },
  {
   "cell_type": "markdown",
   "metadata": {},
   "source": [
    "## Mit lehet javítani/továbbfejleszteni?"
   ]
  },
  {
   "cell_type": "markdown",
   "metadata": {},
   "source": [
    "* Módosítsuk a kódot, hogy a LED csak addig világítson amíg a gombot lenyomva tartjuk.\n",
    "* A gomb lenyomva tartásának hosszától függően vagy be- vagy kikapcsoljuk a LED-et vagy villogó üzemmódba kapcsoljuk (```led.blink()```).\n",
    "\n",
    "Írd meg kommentben, hogy szerinted mivel lehetne még feldobni ezt a kis programot!"
   ]
  },
  {
   "cell_type": "markdown",
   "metadata": {},
   "source": [
    "## Referencia"
   ]
  },
  {
   "cell_type": "markdown",
   "metadata": {},
   "source": [
    "1) gpiozero leírás - [https://gpiozero.readthedocs.io/en/stable/recipes.html](https://gpiozero.readthedocs.io/en/stable/recipes.html)\n",
    "\n",
    "2) LED objektum leírása - [https://gpiozero.readthedocs.io/en/stable/api_output.html#led](https://gpiozero.readthedocs.io/en/stable/api_output.html#led)\n",
    "\n",
    "3) Button objektum leírása - [https://gpiozero.readthedocs.io/en/stable/api_input.html#button](https://gpiozero.readthedocs.io/en/stable/api_input.html#button)"
   ]
  },
  {
   "cell_type": "code",
   "execution_count": null,
   "metadata": {},
   "outputs": [],
   "source": []
  }
 ],
 "metadata": {
  "kernelspec": {
   "display_name": "Python 3",
   "language": "python",
   "name": "python3"
  },
  "language_info": {
   "codemirror_mode": {
    "name": "ipython",
    "version": 3
   },
   "file_extension": ".py",
   "mimetype": "text/x-python",
   "name": "python",
   "nbconvert_exporter": "python",
   "pygments_lexer": "ipython3",
   "version": "3.7.3"
  },
  "toc": {
   "base_numbering": 1,
   "nav_menu": {},
   "number_sections": true,
   "sideBar": true,
   "skip_h1_title": false,
   "title_cell": "Table of Contents",
   "title_sidebar": "Contents",
   "toc_cell": false,
   "toc_position": {},
   "toc_section_display": true,
   "toc_window_display": false
  }
 },
 "nbformat": 4,
 "nbformat_minor": 2
}
