{
 "cells": [
  {
   "cell_type": "markdown",
   "metadata": {},
   "source": [
    "# Színváltoztató LED"
   ]
  },
  {
   "cell_type": "markdown",
   "metadata": {},
   "source": [
    "A LED-ek alap karakterisztikája, hogy közel egy hullámhosszon sugároznak, így lényegében csak egy színt állítanak elő (amennyiben a környezeti tényezők, mint pl. a hőmérséklet, állandó). Magában ez a tulajdonság rengeteg felhasználási lehetőséget teremt, de felmerült az igény a fehér fényű LED-re is, mivel akár stabil és hatékony fényforrás lehet.\n",
    "\n",
    "Az egyik módja, hogy ilyen LED-et készítsenek az RGB LED, ahol lényegében egy piros (Red), egy zöld (Green) és egy kék (Blue) LED-et tesznek egy platformra és az általuk kisugárzott fény intenzitásának aránya fogja meghatározni, milyen színt fogunk látni. Szinte bármilyen színt beállíthatunk az RGB komponensek intenzitásának szabályozásával."
   ]
  },
  {
   "cell_type": "markdown",
   "metadata": {},
   "source": [
    "## Mit fogsz készíteni?"
   ]
  },
  {
   "cell_type": "markdown",
   "metadata": {},
   "source": [
    "Egy RGB LED-ből és három ellenállásból álló áramkört fogunk készíteni, amivel megtanulhatjuk az RGB LED vezérlését."
   ]
  },
  {
   "cell_type": "markdown",
   "metadata": {},
   "source": [
    "## Mit tanulsz meg?"
   ]
  },
  {
   "cell_type": "markdown",
   "metadata": {},
   "source": [
    "Az RGB LED áramkör elkészítésével a következőket tanulod meg:\n",
    "\n",
    "* Hogyan tudsz egy egyszerű áramkört összerakni egy breadboard, RGB LED, ellenállások és drótok segítségével\n",
    "* Hogyan programozd be a Raspberry Pi GPIO kimeneteleit a **gpiozero** modullal\n",
    "* Hogyan használjuk az *RGBLED* objektumokat és változtasd azoknak a színét."
   ]
  },
  {
   "cell_type": "markdown",
   "metadata": {},
   "source": [
    "## A projekt részletekre bontása"
   ]
  },
  {
   "cell_type": "markdown",
   "metadata": {},
   "source": [
    "* Inicializálni az RGB LED objektumot\n",
    "* Tesztelni a LED parancsokat "
   ]
  },
  {
   "cell_type": "markdown",
   "metadata": {},
   "source": [
    "## Áramköri elemek listája"
   ]
  },
  {
   "cell_type": "markdown",
   "metadata": {},
   "source": [
    "a) [Raspberry PI](https://malnapc.hu/yis/raspberry-pi/rpi-panelek) \n",
    "\n",
    "b) [Jumper wires female/male](https://www.ret.hu/shop/product/e-call/jumper-vezetek-szet_53-22-63) \n",
    "\n",
    "c) RGB LED, $I_{max}$ = 20 mA-es: [itt vásárolhatsz](https://www.tme.eu/hu/details/osta56a1a-c/tht-led-diodak-egyeb/optosupply/)\n",
    "\n",
    "d) 3db 220 - 560 Ohm közötti [ellenállás](https://www.tme.eu/hu/katalog/tht-metal-film-ellenallasok-0-6w_100289/?s_order=desc&search=ellenallas&s_field=1000011)\n",
    "\n",
    "e) 1db [Breadboard](https://www.tme.eu/hu/katalog/muhelyfelszereles_112607/?s_order=desc&search=breadboard&s_field=1000011)"
   ]
  },
  {
   "cell_type": "markdown",
   "metadata": {},
   "source": [
    "## A kapcsolási rajz"
   ]
  },
  {
   "cell_type": "markdown",
   "metadata": {},
   "source": [
    "<img src=\"prog04_circuit.png\" width=600 height=400 />"
   ]
  },
  {
   "cell_type": "markdown",
   "metadata": {},
   "source": [
    "A fenti ábrához hasonlóan kapcsoljuk össze az áramköri elemeket és a Raspberry Pi-t.\n",
    "\n",
    "1) Helyezzük a piros LED lábait két különboző sorba. A katódjának (negatív láb) sorába kössük be az ellenállásunk egyik lábát, míg a másikat kössük a földelésre. A LED anódját (pozitív láb) egyelőre szabadon hadjuk. A LED anódjának és katódjának megállapítására használhatunk egy multimétert. Csatlakoztasd a fekete mérőzsinórt a COM (föld) és a piros mérőzsinórt a VΩmA jelzésű hüvelybe. Forgasd el a méréshatárváltó kapcsolót a folytonosság mérés állapotba. Érintsd a két zsínórt a két lábhoz és ha a LED halványan pislákol, akkor az a láb amelyikhez a fekete zsinórt érintetted a katód, a másik az anód. Ha nem pislákol akkor cseréld meg a zsinórok és a lábak érintkezését, hogy világítson.\n",
    "\n",
    "2) Ismételjük meg a fenti lépést még kétszer a sárga és a zöld LED-re is, a kapcsolási rajzhoz hasonlóan.\n",
    "\n",
    "3) Nevezzük ki a breadboard oldalsó oszlopainak egyikét a közös földelésnek (az ábrán a fekete drótok képviselik). Ide kössük be az ellenállásokat. Ugyanebbe az oszlopba kössük be a Raspberry Pi egyik **GND** jelölésű tüskéjét is egy jumper drót segítségével.\n",
    "\n",
    "4) A piros LED szabadon levő lábát egy jumperrel kössük össze a **22**-es GPIO tüskével, a sárgát a **27**-sel a zöldet pedig a **17**-sel."
   ]
  },
  {
   "cell_type": "markdown",
   "metadata": {},
   "source": [
    "## A kód\n",
    "Nyissunk meg egy új python fájlt és mentsük el pl. ```led_traffic_lights.py``` név alatt."
   ]
  },
  {
   "cell_type": "markdown",
   "metadata": {},
   "source": [
    "### A LED-ek kipróbálása"
   ]
  },
  {
   "cell_type": "markdown",
   "metadata": {},
   "source": [
    "Miután elkészítettük az áramkört, meg kell írnunk a kódot ami utasítja a Raspberry Pi-t, hogyan viselkedjen amikor a gombot megnyomják.\n",
    "\n",
    "Először betöltjük a ```gpiozero``` modulból a ```LED``` objektumokat ami lehetővé teszik, hogy a Raspi kommunikáljon a LED-del a **GPIO** tüskéken keresztül. Ezek mellett beolvassuk még a ```sleep``` függvényt is, amit a python várakoztatására használunk majd."
   ]
  },
  {
   "cell_type": "markdown",
   "metadata": {},
   "source": [
    "```led_traffic_lights.py```:"
   ]
  },
  {
   "cell_type": "code",
   "execution_count": null,
   "metadata": {},
   "outputs": [],
   "source": [
    "from gpiozero import LED\n",
    "from time import sleep"
   ]
  },
  {
   "cell_type": "markdown",
   "metadata": {},
   "source": [
    "Az objektum beolvasása után inicializálunk egy ```LED``` objektumot mindegyik diódának, amiket ```red```-nek, ```amber```-nek és ```green```-nek nevezünk el. Egyben megmondjuk a LED-eknek, hogy a *22*-es, *27*-es és *17*-es számú **GPIO** tüskékre kötöttük.  "
   ]
  },
  {
   "cell_type": "markdown",
   "metadata": {},
   "source": [
    "```led_traffic_lights.py```:"
   ]
  },
  {
   "cell_type": "code",
   "execution_count": null,
   "metadata": {},
   "outputs": [],
   "source": [
    "from gpiozero import LED\n",
    "from time import sleep\n",
    "\n",
    "red = LED(22)\n",
    "amber = LED(27)\n",
    "green = LED(17)"
   ]
  },
  {
   "cell_type": "markdown",
   "metadata": {},
   "source": [
    "Ezután, hogy tesztelhessük, működik-e az áramkörünk LED-es része, egészítsük ki a kódot a következő sorokkal, ami be is kikapcsolja a LED-ket, 3 másodperces késéssel:"
   ]
  },
  {
   "cell_type": "markdown",
   "metadata": {},
   "source": [
    "```led_traffic_lights.py```:"
   ]
  },
  {
   "cell_type": "code",
   "execution_count": null,
   "metadata": {},
   "outputs": [],
   "source": [
    "from gpiozero import LED\n",
    "from time import sleep\n",
    "\n",
    "red = LED(22)\n",
    "amber = LED(27)\n",
    "green = LED(17)\n",
    "\n",
    "red.on()\n",
    "sleep(3)\n",
    "red.off()\n",
    "\n",
    "amber.on()\n",
    "sleep(3)\n",
    "amber.off()\n",
    "\n",
    "green.on()\n",
    "sleep(3)\n",
    "green.off()"
   ]
  },
  {
   "cell_type": "markdown",
   "metadata": {},
   "source": [
    "Mentsük el a fájlt és futtasuk le a kódot a terminálban a ```python led_traffic_lights.py``` paranccsal. Ha minden rendben van, a LED-ek világítanak 3 másodpercig felváltva."
   ]
  },
  {
   "cell_type": "markdown",
   "metadata": {},
   "source": [
    "### A villanyrendőr lépésekben"
   ]
  },
  {
   "cell_type": "markdown",
   "metadata": {},
   "source": [
    "A következő lépésben készítünk egy végtelen ```while``` ciklust, amiben, mint egy igazi útkereszteződésben, a villanyrendőr lámpái ismétlik a működési ciklusukat. \n",
    "\n",
    "Kezdjük az egészet avval, hogy még a ```while``` ciklus előtt, a zöld LED-et bekapcsoljuk, a többit pedig ki. Tehát a kezdő állapotban az autók mehetnek.\n",
    "\n",
    "A ```while``` ciklusban a következő lépéseket kell megvalósítani:\n",
    "\n",
    "* hagyjuk a zöld LED-et világítani 10 másodpercig: ```sleep(10)```,\n",
    "* zöldet kikapcsolni és a sárgát bekapcsolni 1 másodpercig,\n",
    "* sárgát kikapcsolni, pirosan bekapolni és 10 másodpercig hagyni világítani,\n",
    "* piros mellé a sárgát bekapcsolni 1 másodperc erejéig,\n",
    "* pirosat és sárgát kikapcsolni majd a zöldet be."
   ]
  },
  {
   "cell_type": "markdown",
   "metadata": {},
   "source": [
    "```led_traffic_ligts.py```:"
   ]
  },
  {
   "cell_type": "code",
   "execution_count": null,
   "metadata": {},
   "outputs": [],
   "source": [
    "from gpiozero import LED\n",
    "from time import sleep\n",
    "\n",
    "red = LED(22)\n",
    "amber = LED(27)\n",
    "green = LED(17)\n",
    "\n",
    "green.on()\n",
    "amber.off()\n",
    "red.off()\n",
    "\n",
    "while True:\n",
    "   sleep(10)\n",
    "   green.off()\n",
    "   amber.on()\n",
    "   sleep(1)\n",
    "   amber.off()\n",
    "   red.on()\n",
    "   sleep(10)\n",
    "   amber.on()\n",
    "   sleep(1)\n",
    "   green.on()\n",
    "   amber.off()\n",
    "   red.off()"
   ]
  },
  {
   "cell_type": "markdown",
   "metadata": {},
   "source": [
    "Mentsük el a kódot és futtasuk le ismét. Ha minden rendben van, egy működő villanyrendőr LED-es változatát kell látnunk.   "
   ]
  },
  {
   "cell_type": "markdown",
   "metadata": {},
   "source": [
    "### TrafficLights használata"
   ]
  },
  {
   "cell_type": "markdown",
   "metadata": {},
   "source": [
    "A *TrafficLights* egy olyan klassz ami lerövidíti és leegyszerűsíti a villanyrendőr modelljének szoftveres elkészítését. Három bemenő paramétert kell definiálni pl. ```lights = TrafficLights(red=2, amber=3, green=4)``` formában, ahol az argumentumok neveit nem muszáj megadni, de a megadott pin számok a piros, sárga és zöld színek pinjeiként lesznek elmentve. Az így inicializált ```lights``` objektum metódusai között ott lesz a ```lights.red```, ```lights.amber``` és a ```lights.green``` LED objektum, amiket akár külön külön is lehet kontrollálni a LED-ek parancsszavaival."
   ]
  },
  {
   "cell_type": "markdown",
   "metadata": {},
   "source": [
    "Evvel a módszerrel pár sorral rövidebbé tehetjük a kódunkat. A három LED-et lényegében egy sorban tudjuk inicializálni. Lényegében egy klasszt hoztunk létre egy specifikus feladat megoldására ahhoz, hogy bizonyos lépéseket gyorsabban és átláthatóbban tudjunk megoldani.\n",
    "\n",
    "A ```while``` ciklusban ugyanazt csináljuk mint az előző kódban, csak most már a ```lights``` objektumra kell hivatkozni és a hozzá tartozó színekhez. \n",
    "\n",
    "Mentsük el ezt a kódot a ```led_traffic_lights1.py``` név alatt és próbáljuk meg tesztelni."
   ]
  },
  {
   "cell_type": "markdown",
   "metadata": {},
   "source": [
    "```led_traffic_lights1.py```:"
   ]
  },
  {
   "cell_type": "code",
   "execution_count": null,
   "metadata": {},
   "outputs": [],
   "source": [
    "from gpiozero import TrafficLights\n",
    "from time import sleep\n",
    "\n",
    "lights = TrafficLights(22, 27, 17)\n",
    "\n",
    "lights.green.on()\n",
    "\n",
    "while True:\n",
    "    sleep(10)\n",
    "    lights.green.off()\n",
    "    lights.amber.on()\n",
    "    sleep(1)\n",
    "    lights.amber.off()\n",
    "    lights.red.on()\n",
    "    sleep(10)\n",
    "    lights.amber.on()\n",
    "    sleep(1)\n",
    "    lights.green.on()\n",
    "    lights.amber.off()\n",
    "    lights.red.off()"
   ]
  },
  {
   "cell_type": "markdown",
   "metadata": {},
   "source": [
    "Lefuttatva a kódot, ugyanazt kellene tapasztalnunk mint az előző kódnál. "
   ]
  },
  {
   "cell_type": "markdown",
   "metadata": {},
   "source": [
    "A kódot lefuttatva mostmár a játékosok nevének kell megjelennie a képernyőn. "
   ]
  },
  {
   "cell_type": "markdown",
   "metadata": {},
   "source": [
    "## A projekt tesztelése"
   ]
  },
  {
   "cell_type": "markdown",
   "metadata": {},
   "source": [
    "Miután összeszereltük az áramkört és a kódot is megírtuk, amit pl. ```led_traffic_lights.py``` név alatt mentettünk el, megnyithatunk a Raspberry Pi operációs rendszerén egy terminált. A terminálban a ```cd 'mappa név'``` paranccsal elnavigálunk abba a mappába, ahova a ```led_traffic_lights.py```-t elmentettük. Ott begépelve a ```python led_traffic_lights.py``` parancsot, letesztelhetjük a programunk működését. Ha minden jól megy akkor a LED-ek a villanyrendőr működési elvét fogják utánozni.\n",
    "\n",
    "Hibaüzenetek esetén ki kell deríteni mi lehetett a probléma, pl. elgépelés, egy modul hiányzik, sorok megfelelő behúzása, idézőjel lemaradása stb. A hibaüzenet legtöbbször segít abban, hogy melyik sorban találta a hibát és hogy mi volt az. Egy kis gyakorlással bele lehet jönni azok értelmezésébe, valamint interneten is rá lehet keresni a hibaüzenet jelentésére és annak lehetséges elhárítására."
   ]
  },
  {
   "cell_type": "markdown",
   "metadata": {},
   "source": [
    "## Mit lehet javítani/továbbfejleszteni?"
   ]
  },
  {
   "cell_type": "markdown",
   "metadata": {},
   "source": [
    "* Gombnyomásra elindítani a villanyrendőrt és gombnyomásra leállítani.\n",
    "* Változtatni a világítási idejét a LED-eknek.\n",
    "\n",
    "Írd meg kommentben, hogy szerinted mivel lehetne még feldobni ezt a kis programot!"
   ]
  },
  {
   "cell_type": "markdown",
   "metadata": {},
   "source": [
    "## Referencia"
   ]
  },
  {
   "cell_type": "markdown",
   "metadata": {},
   "source": [
    "1) gpiozero leírás - [https://gpiozero.readthedocs.io/en/stable/recipes.html](https://gpiozero.readthedocs.io/en/stable/recipes.html)\n",
    "\n",
    "2) LED objektum leírása - [https://gpiozero.readthedocs.io/en/stable/api_output.html#led](https://gpiozero.readthedocs.io/en/stable/api_output.html#led)\n",
    "\n",
    "3) TrafficLights objektum leírása - [https://gpiozero.readthedocs.io/en/v1.2.0/api_boards.html#trafficlights](https://gpiozero.readthedocs.io/en/v1.2.0/api_boards.html#trafficlights)"
   ]
  },
  {
   "cell_type": "code",
   "execution_count": null,
   "metadata": {},
   "outputs": [],
   "source": []
  }
 ],
 "metadata": {
  "kernelspec": {
   "display_name": "Python 3",
   "language": "python",
   "name": "python3"
  },
  "language_info": {
   "codemirror_mode": {
    "name": "ipython",
    "version": 3
   },
   "file_extension": ".py",
   "mimetype": "text/x-python",
   "name": "python",
   "nbconvert_exporter": "python",
   "pygments_lexer": "ipython3",
   "version": "3.7.3"
  },
  "toc": {
   "base_numbering": 1,
   "nav_menu": {},
   "number_sections": true,
   "sideBar": true,
   "skip_h1_title": false,
   "title_cell": "Table of Contents",
   "title_sidebar": "Contents",
   "toc_cell": false,
   "toc_position": {},
   "toc_section_display": true,
   "toc_window_display": false
  }
 },
 "nbformat": 4,
 "nbformat_minor": 2
}
