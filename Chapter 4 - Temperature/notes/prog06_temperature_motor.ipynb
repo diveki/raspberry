{
 "cells": [
  {
   "cell_type": "markdown",
   "metadata": {},
   "source": [
    "# Projekt 7 - Szellőztető rendszer"
   ]
  },
  {
   "cell_type": "markdown",
   "metadata": {},
   "source": [
    "Az ember hőmérséklet érzetét nem csak maga a hőmérséklet befolyásolja, hanem többek között a páratartalom is. A páratartalom emellett egy zárt térben még a penészedést is nagyban befolyásolja. Ezért ahol nincs megoldva rendesen a szellőztetés, oda érdemes szellőztető rendszert kialakítani.\n",
    "\n",
    "A lakhelyeteken a sok mosás, benti ruhaszárítás és hosszas melegvízes fürdő miatt rengeteg pára keletkezik, ami hosszú távon ahhoz vezett, hogy a penész felütötte a fejét. Mivel már kicsit jártas vagy a barkácsolásban, kigondoltad, hogy összeraksz egy egyszerű szellőzőrendszert. Rászerelsz egy motorra egy ventillátor lapátot, összekötöd egy hő és páramérővel, majd beállítod, hogy ha 50% fölé szökik a páratartalom, akkor a ventillátorod kapcsoljon be és szívja el a párát mindaddig, amíg az 50% alá nem csökken. "
   ]
  },
  {
   "cell_type": "markdown",
   "metadata": {},
   "source": [
    "## Mit fogsz készíteni?"
   ]
  },
  {
   "cell_type": "markdown",
   "metadata": {},
   "source": [
    "Egy DHT11 nevű thermisztorból, egy LD293 vezérlőbőből, egy 10 kOhm ellenállásból és egy 6V-os DC motorból álló áramkört fogsz összerakni. Ebben a projektben 0.5 másodpercenként méred a hőmérsékletet és a páratartalmat. Ha a hőmérséklet 30 $^\\circ$C fölé vagy a páratartalom 50% fölé megy, akkor bekapcsolod a motoros ventillátorodat és működteted mindaddig, amíg a hőmérséklet le nem csökken 30 $^\\circ$C alá vagy a páratartalom 50% alá."
   ]
  },
  {
   "cell_type": "markdown",
   "metadata": {},
   "source": [
    "## Mit tanulsz meg?"
   ]
  },
  {
   "cell_type": "markdown",
   "metadata": {},
   "source": [
    "A szellőztető szenzor elkészítésével a következőket tanulod meg:\n",
    "\n",
    "* Hogyan kommunikáljunk a DHT11-vel.\n",
    "* Hogyan használjunk DC motort.\n",
    "* Hogyan használjunk ```if - else``` szerkezetet.\n",
    "* Hogyan használjuk a ```try - except``` szerkezetet.\n",
    "* Hogyan importálunk egy függvényt egy fájból/modulból amit mi írtunk."
   ]
  },
  {
   "cell_type": "markdown",
   "metadata": {},
   "source": [
    "## A projekt részletekre bontása"
   ]
  },
  {
   "cell_type": "markdown",
   "metadata": {},
   "source": [
    "* Elkészíteni az áramkört.\n",
    "* Importálni az adafruit DHT11 objektumát, és a Motor objektumot, illetve a ```temperature_functions``` modulból a megfelelő függvényeket.\n",
    "* Inicializálni a motort és a DHT11-t.\n",
    "* Definiálni egy függvényt, ami kiolvassa a hőmérsékletet. \n",
    "* Definiálunk egy függvényt ami kiolvassa a páratartalmat.\n",
    "* Definiálunk egy függvényt, ami a megadott feltételek alapján vezérli a ventillátort.\n",
    "* Egy végtelen ```while``` ciklusban mérjük és kiírjuk a hőmérsékletet és páratartalmat a képernyőre valamint meghívjuk a ventillátor vezérlőt."
   ]
  },
  {
   "cell_type": "markdown",
   "metadata": {},
   "source": [
    "## Áramköri elemek listája"
   ]
  },
  {
   "cell_type": "markdown",
   "metadata": {},
   "source": [
    "a) [Raspberry PI](https://malnapc.hu/yis/raspberry-pi/rpi-panelek) \n",
    "\n",
    "b) DHT11 szenzor: [itt vásárolhatsz](https://www.tme.eu/hu/details/oky3067/kornyezeti-erzekelok/okystar/)\n",
    "\n",
    "c) [Jumper wires female/male](https://www.ret.hu/shop/product/e-call/jumper-vezetek-szet_53-22-63) \n",
    "\n",
    "d) Ellenállás: [itt vásárolhatsz](https://www.tme.eu/hu/katalog/metal-film-tht-ellenallasok_112313/?s_order=desc&search=ellenallas&s_field=1000011)\n",
    "\n",
    "e) DC Motor: [itt vásárolhatsz](https://www.tme.eu/hu/details/oky5022-1/dc-motorok/okystar/)\n",
    "\n",
    "f) L293D vezérlő: [itt vásárolhatsz](https://www.tme.eu/hu/details/l293d/motor-es-pwm-driverek/stmicroelectronics/)\n",
    "\n",
    "g) 4 db AAA vagy AA [ceruza elem]()"
   ]
  },
  {
   "cell_type": "markdown",
   "metadata": {},
   "source": [
    "## A kapcsolási rajz"
   ]
  },
  {
   "cell_type": "markdown",
   "metadata": {},
   "source": [
    "<img src=\"schema/prog06_schema.png\" width=800 height=600 />"
   ]
  },
  {
   "cell_type": "markdown",
   "metadata": {},
   "source": [
    "A fenti ábrához hasonlóan kapcsoljuk össze az áramköri elemeket és a Raspberry Pi-t. Az áramkör részletes összekötési magyarázata a [Thermisztorok]() című bevezető leírásban található. **Kétszer is ellenőrizzük le, hogy a bekötésünk rendben van-e. A félrekötött tüskék nagyban növelik a motor vagy a Raspberry Pi tökremenési esélyeit. A motort SEMMIKÉPP SE tápláljuk és irányítsük direktben a Raspberry Pi-ről, mert az szinte biztosan a számítógép sérükéséhez vezet.**"
   ]
  },
  {
   "cell_type": "markdown",
   "metadata": {},
   "source": [
    "1) Az L293D driver földelés lábait kössük össze egymással és az átellenes oldallal (fekete drót). Egyben az áramforrás (4 db AAA elem a rajzon) negatív végét és a Raspberry Pi egyik földelését is kössük össze az L293D driver földelésével. Így minden elem azonos földelésen lesz.\n",
    "\n",
    "2) Az áramforrás pozitív végét kapcsoljuk a driver *VS* lábára (*8*-as láb, piros drót). Ez adja a feszültséget a motor meghajtásához. \n",
    "\n",
    "3) Kapcsoljuk a Raspberry Pi +5V-os tüskéjét a driver *VSS* (*16*-os) lábával össze (fehér drót). Ez adja a driver működéséhez nélkülözhetetlen tápot. \n",
    "\n",
    "4) A Raspberry Pi *GPIO25*-ös tüskéjét kapcsoljuk az *EN1* (*1*-es) lábra (okkersárga drót). A driver ezen lába szolgál arra, hogy aktiválja a driver *IN1 (2), IN2 (7), OUT1 (3) és OUT2 (6)* lábait, amennyiben magas állapotba kerül. Alacsony állapotból az előbb említett lábak nem kapnak áramot. \n",
    "\n",
    "5) A Raspberry Pi *GPIO23*-as és *GPIO24*-es tüskéit kapcsoljuk az *IN1 (2), IN2 (7)* lábakra a driveren (szürke és narancssárga drótok). Felváltva aktiválva őket vagyunk képesek előre és hátrafele forgatni a motort attől függően, hogy épp melyik van magas állapotban. \n",
    "\n",
    "6) A motor két kimenetét (citromsárga és zöld drótok) kapcsoljuk a driver *OUT1 (3) és OUT2 (6)* lábaira. Az *IN1 és IN2* lábak állapota szabályozza, hogy ezek a lábak, azaz maga a motor, kap-e feszültséget.\n",
    "\n",
    "7) Egy 10 kOhmos ellenállást kell bekötnünk a DHT11 szenzor Signal és a táp (Vcc) lábai közé. A thermisztor Vcc jelű lábára kapcsoljuk a Raspberry Pi 5 V-os tápját, míg a GND lábára a földelést. A Signal nevű lábot kössük a Raspberry Pi *GPIO03* tüskéjére (kék drót). A szenzor egyik lába a négy közül üresen marad."
   ]
  },
  {
   "cell_type": "markdown",
   "metadata": {},
   "source": [
    "## A kód\n",
    "\n",
    "Nyissunk meg egy új python fájlt és mentsük el pl. ```dht11_motor.py``` név alatt. A ```gpiozero``` csomagnak nincs beépített objektuma ami általánosan a thermisztorokkat tudná kezelni, így minden egyes thermisztorhoz nekünk kell megoldani a szoftveres kommunikációt az adott eszközzel."
   ]
  },
  {
   "cell_type": "markdown",
   "metadata": {},
   "source": [
    "### A thermisztor tesztelése"
   ]
  },
  {
   "cell_type": "markdown",
   "metadata": {},
   "source": [
    "Miután elkészítettük az áramkört, meg kell írnunk a kódot ami utasítja a Raspberry Pi-t, a hőmérséklet kiolvasására.\n",
    "\n",
    "A thermisztorok bevezetőjében leírtuk, hogy a DHT11 szenzorral az Adafruit által írt szoftver segítségével tudunk kommunikálni, úgyhogy első lépésben beimportáljuk az ```adafruit_dht``` csomagot valamint a ```Motor``` klasszt a ```gpiozero``` csomagból. "
   ]
  },
  {
   "cell_type": "markdown",
   "metadata": {},
   "source": [
    "Az áramkör alapján a szenzort a *GPIO03*-ra kötöttük, így a szenzor inicializálásakor ezt megadjuk bemenő paraméterként, ```dev = adafruit_dht.DHT11(3)```. A kommunikáció rendkívül egyszerű evvel az objektummal, ha a hőmérsékletre vagyunk kíváncsiak, az objektum ```temperature``` metódusára hívunk rá, ha a páratartalomra, akkor pedig a ```humidity``` metódusára. Tesztelésképp nyomtassuk ki a mért hőmérsékletet és páratartalmat, ```print(f'Temperature = {dev.temperature} Celsius, Humidity = {dev.humidity}%')```."
   ]
  },
  {
   "cell_type": "markdown",
   "metadata": {},
   "source": [
    "```dht11_motor.py```:"
   ]
  },
  {
   "cell_type": "code",
   "execution_count": 2,
   "metadata": {},
   "outputs": [],
   "source": [
    "import adafruit_dht\n",
    "from gpiozero import Motor\n",
    "\n",
    "dev = adafruit_dht.DHT11(3)\n",
    "\n",
    "print(f'Temperature = {dev.temperature} Celsius, Humidity = {dev.humidity}%')"
   ]
  },
  {
   "cell_type": "markdown",
   "metadata": {},
   "source": [
    "### A DC motor kipróbálása"
   ]
  },
  {
   "cell_type": "markdown",
   "metadata": {},
   "source": [
    "A motor objektum beolvasása után inicializálunk egy ```Motor``` objektumot, amit ```motor```-nak nevezünk el. Egyben megmondjuk az objektumnak, hogy a fizikai motor előre forgatásért felelő drótját a *23*-as számú **GPIO** tüskére csatlakoztattuk, míg a hátrafelé forgatásért felelő drótot a *24*-es számú **GPIO** tüskére. Emellett a driveren a kimeneteket aktiváló drótot a *25*-ös számú **GPIO** tüskére csatlakoztattuk. "
   ]
  },
  {
   "cell_type": "markdown",
   "metadata": {},
   "source": [
    "Ezután készen állunk arra, hogy leteszteljük a motor mozgatását és az objektumhoz tartozó egyéb metódusok működését. Elsőnek a motort előre forgatjuk ```motor.forward()```, 5 másodpercen keresztül, majd megállítjuk a ```motor.stop()``` paranccsal és leteszteljük, hogy hátrafele is tud-e forogni, ```motor.backward()```. Hagyjuk forogni 5 másodpercet, majd újra leállítjuk. "
   ]
  },
  {
   "cell_type": "code",
   "execution_count": null,
   "metadata": {},
   "outputs": [],
   "source": [
    "import adafruit_dht\n",
    "from gpiozero import Motor\n",
    "from time import sleep\n",
    "\n",
    "dev = adafruit_dht.DHT11(3)\n",
    "motor = Motor(forward=23, backward = 24, enable=25)\n",
    "\n",
    "motor.forward()\n",
    "sleep(5)\n",
    "motor.stop()\n",
    "\n",
    "motor.backward()\n",
    "sleep(5)\n",
    "motor.stop()"
   ]
  },
  {
   "cell_type": "markdown",
   "metadata": {},
   "source": [
    "### Hőmérséklet és páratartalom kiolvasása"
   ]
  },
  {
   "cell_type": "markdown",
   "metadata": {},
   "source": [
    "Amint fent láttuk, a hőmérséklet és páratartalom kiolvasás elég egyszerű művelet az adafruit csomagjának köszönhetően. Sajnos viszont a gyakorlatban azt tapasztalhatjuk, hogy ha nagyon sokszor olvassuk ki az értékeket, hogy néha az nem sikerül és válaszul egy ```None``` értéket kapunk vagy egyszerűen nem sikerül a kiolvasás és hibát kapunk. Evvel nem is lenne baj, de ha ezt egy ```if``` szerkezetben egy számmal szeretnénk összehasonlítani, pl. nagyobb-e mint 50, akkor a python egy hibaüzenetet küld nekünk és leállítja a programunkat (ami természetesen nem tesz jót a folytonos működésnek). Mindezt kikerülhetjük, ha egy ```if``` szerkezetben megnéznénk, hogy a kapott hőmérséklet/páratartalom érték ```None```-e. De ez a megközelítés feleslegesen bonyolítja a kiolvasás logikáját. Helyette alkalmazhatjuk az ún. ```try - except``` szerkezetet."
   ]
  },
  {
   "cell_type": "markdown",
   "metadata": {},
   "source": [
    "#### Try - except szerkezet"
   ]
  },
  {
   "cell_type": "markdown",
   "metadata": {},
   "source": [
    "Ha a python fordító találkozik egy hirtelen hibával, leáll. Az exception-ök (kivételek) ilyen hibák amik leállítják a kódot, mint pl. a fent említett eset amikor két nem összehasonlítható típust próbálunk összehasonlítani. A ```try - except``` szerkezet a python kód leállását hivatott megakadályozni. A ```try``` kifejezéssel megpróbálunk egy python sort (blokkot) lefuttatni és ha az nem sikerül, akkor az ```except``` blokkjában lévő kódok futnak le."
   ]
  },
  {
   "cell_type": "markdown",
   "metadata": {},
   "source": [
    "Nézzünk egy példát a ```try - except``` szerkezet használatára és működésére. Tegyük fel, hogy két számot szeretnénk elosztani egymással, de véletlenül az osztó értéke 0 lett. Alapjáraton ez egy hibaüzenetet ad, ```ZeroDivisionError```,  és megállítja a python futását:"
   ]
  },
  {
   "cell_type": "code",
   "execution_count": 1,
   "metadata": {},
   "outputs": [
    {
     "ename": "ZeroDivisionError",
     "evalue": "division by zero",
     "output_type": "error",
     "traceback": [
      "\u001b[1;31m---------------------------------------------------------------------------\u001b[0m",
      "\u001b[1;31mZeroDivisionError\u001b[0m                         Traceback (most recent call last)",
      "\u001b[1;32m<ipython-input-1-2c41ef5f5e4d>\u001b[0m in \u001b[0;36m<module>\u001b[1;34m\u001b[0m\n\u001b[0;32m      1\u001b[0m \u001b[0ma\u001b[0m \u001b[1;33m=\u001b[0m \u001b[1;36m3\u001b[0m\u001b[1;33m\u001b[0m\u001b[1;33m\u001b[0m\u001b[0m\n\u001b[0;32m      2\u001b[0m \u001b[0mb\u001b[0m \u001b[1;33m=\u001b[0m \u001b[1;36m0\u001b[0m\u001b[1;33m\u001b[0m\u001b[1;33m\u001b[0m\u001b[0m\n\u001b[1;32m----> 3\u001b[1;33m \u001b[0mc\u001b[0m \u001b[1;33m=\u001b[0m \u001b[0ma\u001b[0m\u001b[1;33m/\u001b[0m\u001b[0mb\u001b[0m\u001b[1;33m\u001b[0m\u001b[1;33m\u001b[0m\u001b[0m\n\u001b[0m",
      "\u001b[1;31mZeroDivisionError\u001b[0m: division by zero"
     ]
    }
   ],
   "source": [
    "a = 3\n",
    "b = 0\n",
    "c = a/b"
   ]
  },
  {
   "cell_type": "markdown",
   "metadata": {},
   "source": [
    "Ha nem szeretnénk, hogy emiatt a programunk megálljon, akkor egy ```try -except``` szerkezetbe tesszük, ahol a ```try``` megpróbálja elvégezni a műveletet, míg az ```except``` akkor hajtódik végre, ha előtte hiba történt:"
   ]
  },
  {
   "cell_type": "code",
   "execution_count": 3,
   "metadata": {},
   "outputs": [
    {
     "name": "stdout",
     "output_type": "stream",
     "text": [
      "Hiba tortent c ertekeben, ezert konstans erteket rendelunk hozza\n",
      "c = 2\n"
     ]
    }
   ],
   "source": [
    "try:\n",
    "    c = a/b\n",
    "except:\n",
    "    print('Hiba tortent c ertekeben, ezert konstans erteket rendelunk hozza')\n",
    "    c = 2\n",
    "    \n",
    "print(f'c = {c}')"
   ]
  },
  {
   "cell_type": "markdown",
   "metadata": {},
   "source": [
    "A fenti kis példa egyszerűen szemlélteti, hogyan működik a ```try - except``` szerkezet, de érdemes bővebben tanulmányozni, mert segítségével sok időt és energiát lehet spórolni egy hosszú és összetett kód fejlesztésénél."
   ]
  },
  {
   "cell_type": "markdown",
   "metadata": {},
   "source": [
    "#### Függvények az értékek kiolvasására"
   ]
  },
  {
   "cell_type": "markdown",
   "metadata": {},
   "source": [
    "Hogy az elsődleges kódunk, ```dht11_motor.py``` ne legyen túl hosszú, ebben a projektben gyakoroljuk az újrahasznosítható függvények modulokból való beolvasását. A már előző projektekben létrehozott ```temperature_functions.py``` fájlba írunk két függvényt, a hőmérséklet, ```get_temp```, és a páratartalom, ```get_hum```, kiolvasására. Mindkét függvény bemenő paramétere egy DHT11 objektum, ```dev```.  "
   ]
  },
  {
   "cell_type": "markdown",
   "metadata": {},
   "source": [
    "Mindkét függvény tartalma ugyanazt a szerkezetet követi, egy ```try - except``` szerkezetben megpróbáljuk lekérdezni a hőmérsékletet/páratartalmat, ha pedig az hibát jelezne, akkor azok értékét 0-val tesszük egyenlővé. Ez az utolsó lépés a méréseinket kicsit megörtté teszi, ugyanis, ha pl. 24 $^\\circ$C körüli hőmérsékleteket mérünk, majd egy hibás mérés miatt 0 értéket vesz fel a hőmérséklet, az elég nagy hőmérsékletváltozáshoz vezet (mesterségesen). Viszont a program demonstrációja szempontjából még ez belefér."
   ]
  },
  {
   "cell_type": "markdown",
   "metadata": {},
   "source": [
    "```temperature_functions.py```:"
   ]
  },
  {
   "cell_type": "code",
   "execution_count": 6,
   "metadata": {},
   "outputs": [],
   "source": [
    "def get_temp(dev):\n",
    "\ttry:\n",
    "\t\tt = dev.temperature\n",
    "\texcept:\n",
    "\t\tt = 0\n",
    "\treturn t\n",
    "\n",
    "def get_hum(dev):\n",
    "\ttry:\n",
    "\t\thum = dev.humidity\n",
    "\texcept:\n",
    "\t\thum = 0\n",
    "\treturn hum"
   ]
  },
  {
   "cell_type": "markdown",
   "metadata": {},
   "source": [
    "### Függvény a ventillátor vezérlésére"
   ]
  },
  {
   "cell_type": "markdown",
   "metadata": {},
   "source": [
    "Ahhoz, hogy a motort/ventillátort működésbe hozzuk, írunk egy függvényt ami megszabja a feltételeket, mikor kell annak be és kikapcsolnia. Ezt a függvényt is a ```temperature_functions.py``` nevű fájlba mentjük és a fő programban majd beimportáljuk. \n",
    "\n",
    "Három bemenő paramétert adunk meg neki, egy motor objektumot, egy hőmérséklet és egy páratartalom értéket. A függvény első sorában rögtön megvizsgáljuk, hogy a hőmérséklet ```temp``` és a páratartalom ```hum``` bemenő paraméterek mind a ketten rendelkeznek-e értékkel és nem ```None``` értékűek. Ez egy biztonsági ellenőrzés, nehogy rossz bemenő paraméter miatt álljon le a python kódunk. Akár itt is lehetne alkalmazni a ```try - except``` szerkezetet. Második lépésnek, ha a bemenő paraméterek megfelelnek, kivizsgáljuk az általunk megfogalmazott kritériumokat, hogy nagyobb-e a hőmérséklet 30 $^\\circ$C-nál illetve nagyobb-e a páratartalom 50%-nál, ```if temp > 30 or hum > 50:```. Ha a két kritérium közül legalább egy teljesül, akkor kapcsoljuk be a motort, ha nem akkor állítsuk le a motort."
   ]
  },
  {
   "cell_type": "markdown",
   "metadata": {},
   "source": [
    "```temperature_functions.py```:"
   ]
  },
  {
   "cell_type": "code",
   "execution_count": null,
   "metadata": {},
   "outputs": [],
   "source": [
    "def ventillation(m, temp, hum):\n",
    "\tif temp and hum:\n",
    "\t\tif temp > 30 or hum > 50:\n",
    "\t\t\tm.forward()\n",
    "\t\telse:\n",
    "\t\t\tm.stop()"
   ]
  },
  {
   "cell_type": "markdown",
   "metadata": {},
   "source": [
    "### A teljes kód"
   ]
  },
  {
   "cell_type": "markdown",
   "metadata": {},
   "source": [
    "Már csak az eddig leírtak összetákolása van hátra. Kommentelt sorok jelzik az új elemeket a kódban."
   ]
  },
  {
   "cell_type": "markdown",
   "metadata": {},
   "source": [
    "Miután elészítettük a segédfüggvényeket a modulban, azokat beimportáljuk a fő programfájlban, ```from temperature_functions import get_hum, get_temp, ventillation```. Következő lépésként inicializáljuk a DHT11 szenzorunkat és a motorunkat. Majd elindítunk egy végtelen ```while``` ciklust, amiben kiolvassuk a hőmérsékletet, ```t```, és a páratartalmat, ```h```, majd kinyomtatjuk őket a képernyőre, ```print(f'Temp: {t} Celsius degree , Hum: {h} %')```. Hogy eldöntsük, kell-e a ventillátort elindítani vagy sem, a mért értékeket beadjuk paraméterként a ```ventillation``` függvénynek, a motor objektummal együtt, ```ventillation(motor, t,h)```. A végén pedig várunk fél másodpercet két mérés között, ```time.sleep(0.5)```."
   ]
  },
  {
   "cell_type": "markdown",
   "metadata": {},
   "source": [
    "```dht11_motor.py```:"
   ]
  },
  {
   "cell_type": "code",
   "execution_count": null,
   "metadata": {},
   "outputs": [],
   "source": [
    "import adafruit_dht\n",
    "import time\n",
    "from gpiozero import Motor\n",
    "# beimportaljuk a segedfuggvenyeket \n",
    "from temperature_functions import get_hum, get_temp, ventillation\n",
    "\n",
    "dev = adafruit_dht.DHT11(3)\n",
    "motor = Motor(23,24,25)\n",
    "\n",
    "while True:     # vegtelen ciklus inditasa\n",
    "\tt = get_temp(dev)           # homerseklet meres\n",
    "\th = get_hum(dev)            # paratartalom meres\n",
    "\tprint(f'Temp: {t} Celsius degree , Hum: {h} %')  # meresek kiirasa\n",
    "\tventillation(motor, t,h)    # szukseg eseten motor elinditasa\n",
    "\ttime.sleep(0.5)             # fel masodperc varakozas"
   ]
  },
  {
   "cell_type": "markdown",
   "metadata": {},
   "source": [
    "## A projekt tesztelése"
   ]
  },
  {
   "cell_type": "markdown",
   "metadata": {},
   "source": [
    "Miután összeszereltük az áramkört és a kódot is megírtuk, amit pl. ```dht11_motor.py``` név alatt mentettünk el, megnyithatunk a Raspberry Pi operációs rendszerén egy terminált. A terminálban a ```cd 'mappa név'``` paranccsal elnavigálunk abba a mappába, ahova a ```dht11_motor.py```-t elmentettük. Ott begépelve a ```python dht11_motor.py``` parancsot, letesztelhetjük a programunk működését. Ha minden jól megy akkor a program elindításával a képernyőre kiíródik a mért hőmérséklet és a páratartalom. Ha rálehelünk a szenzorra, akkor a páratartalom nagy valószínűséggel 50% fölé megy és a ventillátor bekapcsol. Ha a ventillátort a szenzor felé fordítjuk, meggyorsíthatjuk a páratartalom csökkenését, mikor is a motor kikapcsol, ha a páratartalom 50% alá kerül. \n",
    "\n",
    "Hibaüzenetek esetén ki kell deríteni mi lehetett a probléma, pl. elgépelés, egy modul hiányzik, sorok megfelelő behúzása, idézőjel lemaradása stb. A hibaüzenet legtöbbször segít abban, hogy melyik sorban találta a hibát és hogy mi volt az. Egy kis gyakorlással bele lehet jönni azok értelmezésébe, valamint interneten is rá lehet keresni a hibaüzenet jelentésére és annak lehetséges elhárítására."
   ]
  },
  {
   "cell_type": "markdown",
   "metadata": {},
   "source": [
    "## Mit lehet javítani/továbbfejleszteni?"
   ]
  },
  {
   "cell_type": "markdown",
   "metadata": {},
   "source": [
    "* Módosítsuk a ventillátor vezérlést úgy, hogy akkor kapcsoljon ki, ha a hőmérséklet 28 $^\\circ$C alá vagy a páratartalom 40% alá csökken. A ventillátor bekapcsolásának feltétele maradjon változatlan.\n",
    "* A hőmérséklet és páratartalom kiolvasásánál, ha az sikertelen, oldjuk meg, hogy ne 0 értéket írjon ki, hanem az előző mért értéket. Ehhez a ```temperature_functions``` modulban a ```get_hum``` és ```get_temp``` függvényeket kell módosítani.\n",
    "\n",
    "Írd meg kommentben, hogy szerinted mivel lehetne még feldobni ezt a kis programot!"
   ]
  },
  {
   "cell_type": "markdown",
   "metadata": {},
   "source": [
    "## Referencia"
   ]
  },
  {
   "cell_type": "markdown",
   "metadata": {},
   "source": [
    "1) DHT11 adatlap - http://wiki.sunfounder.cc/images/c/c7/DHT11_datasheet.pdf\n",
    "\n",
    "2) https://www.electronicsforu.com/tech-zone/electronics-components/humidity-sensor-basic-usage-parameter\n",
    "\n",
    "3) if-else leírás - https://www.programiz.com/python-programming/if-elif-else\n",
    "\n",
    "4) modul importálás - https://www.programiz.com/python-programming/modules\n",
    "\n",
    "5) Motor objektum leírása - [https://gpiozero.readthedocs.io/en/stable/api_output.html#motor](https://gpiozero.readthedocs.io/en/stable/api_output.html#motor)\n",
    "\n",
    "6) L293D driver leírása - [https://www.ti.com/lit/ds/symlink/l293.pdf](https://www.ti.com/lit/ds/symlink/l293.pdf)\n",
    "\n",
    "7) Try - except leírása - https://realpython.com/python-exceptions/"
   ]
  },
  {
   "cell_type": "code",
   "execution_count": null,
   "metadata": {},
   "outputs": [],
   "source": []
  }
 ],
 "metadata": {
  "kernelspec": {
   "display_name": "Python 3",
   "language": "python",
   "name": "python3"
  },
  "language_info": {
   "codemirror_mode": {
    "name": "ipython",
    "version": 3
   },
   "file_extension": ".py",
   "mimetype": "text/x-python",
   "name": "python",
   "nbconvert_exporter": "python",
   "pygments_lexer": "ipython3",
   "version": "3.7.3"
  },
  "toc": {
   "base_numbering": 1,
   "nav_menu": {},
   "number_sections": true,
   "sideBar": true,
   "skip_h1_title": false,
   "title_cell": "Table of Contents",
   "title_sidebar": "Contents",
   "toc_cell": false,
   "toc_position": {},
   "toc_section_display": true,
   "toc_window_display": false
  }
 },
 "nbformat": 4,
 "nbformat_minor": 2
}
