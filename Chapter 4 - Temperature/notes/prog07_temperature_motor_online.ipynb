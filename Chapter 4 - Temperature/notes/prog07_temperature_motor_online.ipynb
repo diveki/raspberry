{
 "cells": [
  {
   "cell_type": "markdown",
   "metadata": {},
   "source": [
    "# Projekt 8 - Online szellőztető rendszer"
   ]
  },
  {
   "cell_type": "markdown",
   "metadata": {},
   "source": [
    "Miután elkészítettük a saját szellőztető rendszerünket és meg voltál elégedve a működésével, azon kaptad magad, hogy lehet nem ártana tudni azt is, hogy a nap/hét/év melyik szakában lép a rendszer működésben. Gyorsan rájöttél, hogy egyfolytában nem lehetsz ott mellette és azt is tuttad, hogy nem csak akkor szeretnéd megnézni a rendszert, amikor otthon vagy. \n",
    "\n",
    "Eldöntötted, hogy a következő projekted az lesz, hogy felteszed a mérési eredményeket a felhőbe és interneten kersztül bárhonnan tudod majd ellenőrízni az ingatlanod paramétereit."
   ]
  },
  {
   "cell_type": "markdown",
   "metadata": {},
   "source": [
    "## Mit fogsz készíteni?"
   ]
  },
  {
   "cell_type": "markdown",
   "metadata": {},
   "source": [
    "Egy DHT11 nevű thermisztorból, egy LD293 vezérlőbőből, egy 10 kOhm ellenállásból és egy 6V-os DC motorból álló áramkört fogsz összerakni. Ebben a projektben 0.5 másodpercenként méred a hőmérsékletet és a páratartalmat. Ha a hőmérséklet 30 $^\\circ$C fölé vagy a páratartalom 50% fölé megy, akkor bekapcsolod a motoros ventillátorodat és működteted mindaddig, amíg a hőmérséklet le nem csökken 30 $^\\circ$C alá vagy a páratartalom 50% alá. Az eredményeket elküldöd a *Cloud4pi* felhőjébe, ahol azt grafikonokon megjeleníted, így bármikor tudod ellenőrizni és visszanézni."
   ]
  },
  {
   "cell_type": "markdown",
   "metadata": {},
   "source": [
    "## Mit tanulsz meg?"
   ]
  },
  {
   "cell_type": "markdown",
   "metadata": {},
   "source": [
    "Az online szellőztető szenzor elkészítésével a következőket tanulod meg:\n",
    "\n",
    "* Hogyan kommunikáljunk a DHT11-vel.\n",
    "* Hogyan használjunk DC motort.\n",
    "* Hogyan használjunk ```if - else``` szerkezetet.\n",
    "* Hogyan használjuk a ```try - except``` szerkezetet.\n",
    "* Hogyan importálunk egy függvényt egy fájból/modulból amit mi írtunk.\n",
    "* Hogyan küldjünk adatokat a *Cloud4pi* felhőbe."
   ]
  },
  {
   "cell_type": "markdown",
   "metadata": {},
   "source": [
    "## A projekt részletekre bontása"
   ]
  },
  {
   "cell_type": "markdown",
   "metadata": {},
   "source": [
    "* Elkészíteni az áramkört.\n",
    "* Importálni az adafruit DHT11 objektumát, és a Motor objektumot, illetve a ```temperature_functions``` modulból a megfelelő függvényeket.\n",
    "* Inicializálni a motort és a DHT11-t.\n",
    "* Definiálni egy függvényt, ami kiolvassa a hőmérsékletet. \n",
    "* Definiálunk egy függvényt ami kiolvassa a páratartalmat.\n",
    "* Definiálunk egy függvényt, ami a megadott feltételek alapján vezérli a ventillátort.\n",
    "* Követni a *Cloud4rpi* használati utasítását a beüzemeléshez.\n",
    "* Beállítani a honlap adatainak frissítési idejét. "
   ]
  },
  {
   "cell_type": "markdown",
   "metadata": {},
   "source": [
    "## Áramköri elemek listája"
   ]
  },
  {
   "cell_type": "markdown",
   "metadata": {},
   "source": [
    "a) [Raspberry PI](https://malnapc.hu/yis/raspberry-pi/rpi-panelek) \n",
    "\n",
    "b) DHT11 szenzor: [itt vásárolhatsz](https://www.tme.eu/hu/details/oky3067/kornyezeti-erzekelok/okystar/)\n",
    "\n",
    "c) [Jumper wires female/male](https://www.ret.hu/shop/product/e-call/jumper-vezetek-szet_53-22-63) \n",
    "\n",
    "d) Ellenállás: [itt vásárolhatsz](https://www.tme.eu/hu/katalog/metal-film-tht-ellenallasok_112313/?s_order=desc&search=ellenallas&s_field=1000011)\n",
    "\n",
    "e) DC Motor: [itt vásárolhatsz](https://www.tme.eu/hu/details/oky5022-1/dc-motorok/okystar/)\n",
    "\n",
    "f) L293D vezérlő: [itt vásárolhatsz](https://www.tme.eu/hu/details/l293d/motor-es-pwm-driverek/stmicroelectronics/)\n",
    "\n",
    "g) 4 db AAA vagy AA [ceruza elem]()"
   ]
  },
  {
   "cell_type": "markdown",
   "metadata": {},
   "source": [
    "## A kapcsolási rajz"
   ]
  },
  {
   "cell_type": "markdown",
   "metadata": {},
   "source": [
    "<img src=\"schema/prog06_schema.png\" width=800 height=600 />"
   ]
  },
  {
   "cell_type": "markdown",
   "metadata": {},
   "source": [
    "A fenti ábrához hasonlóan kapcsoljuk össze az áramköri elemeket és a Raspberry Pi-t. Az áramkör részletes összekötési magyarázata a [Thermisztorok]() című bevezető leírásban található. **Kétszer is ellenőrizzük le, hogy a bekötésünk rendben van-e. A félrekötött tüskék nagyban növelik a motor vagy a Raspberry Pi tökremenési esélyeit. A motort SEMMIKÉPP SE tápláljuk és irányítsük direktben a Raspberry Pi-ről, mert az szinte biztosan a számítógép sérükéséhez vezet.**"
   ]
  },
  {
   "cell_type": "markdown",
   "metadata": {},
   "source": [
    "1) Az L293D driver földelés lábait kössük össze egymással és az átellenes oldallal (fekete drót). Egyben az áramforrás (4 db AAA elem a rajzon) negatív végét és a Raspberry Pi egyik földelését is kössük össze az L293D driver földelésével. Így minden elem azonos földelésen lesz.\n",
    "\n",
    "2) Az áramforrás pozitív végét kapcsoljuk a driver *VS* lábára (*8*-as láb, piros drót). Ez adja a feszültséget a motor meghajtásához. \n",
    "\n",
    "3) Kapcsoljuk a Raspberry Pi +5V-os tüskéjét a driver *VSS* (*16*-os) lábával össze (fehér drót). Ez adja a driver működéséhez nélkülözhetetlen tápot. \n",
    "\n",
    "4) A Raspberry Pi *GPIO25*-ös tüskéjét kapcsoljuk az *EN1* (*1*-es) lábra (okkersárga drót). A driver ezen lába szolgál arra, hogy aktiválja a driver *IN1 (2), IN2 (7), OUT1 (3) és OUT2 (6)* lábait, amennyiben magas állapotba kerül. Alacsony állapotból az előbb említett lábak nem kapnak áramot. \n",
    "\n",
    "5) A Raspberry Pi *GPIO23*-as és *GPIO24*-es tüskéit kapcsoljuk az *IN1 (2), IN2 (7)* lábakra a driveren (szürke és narancssárga drótok). Felváltva aktiválva őket vagyunk képesek előre és hátrafele forgatni a motort attől függően, hogy épp melyik van magas állapotban. \n",
    "\n",
    "6) A motor két kimenetét (citromsárga és zöld drótok) kapcsoljuk a driver *OUT1 (3) és OUT2 (6)* lábaira. Az *IN1 és IN2* lábak állapota szabályozza, hogy ezek a lábak, azaz maga a motor, kap-e feszültséget.\n",
    "\n",
    "7) Egy 10 kOhmos ellenállást kell bekötnünk a DHT11 szenzor Signal és a táp (Vcc) lábai közé. A thermisztor Vcc jelű lábára kapcsoljuk a Raspberry Pi 5 V-os tápját, míg a GND lábára a földelést. A Signal nevű lábot kössük a Raspberry Pi *GPIO03* tüskéjére (kék drót). A szenzor egyik lába a négy közül üresen marad."
   ]
  },
  {
   "cell_type": "markdown",
   "metadata": {},
   "source": [
    "## A kód\n",
    "\n",
    "Nyissunk meg egy új python fájlt és mentsük el pl. ```dht11_motor_online.py``` név alatt. A hőmérséklet és pára mérések valamint a ventillátor vezérlés ugyanúgy zajlik mint az előző projektben. Itt arra fogunk koncentrálni, hogyan installáljuk a *Cloud4rpi* rendszerét és hogyan kommunikáljunk vele. "
   ]
  },
  {
   "cell_type": "markdown",
   "metadata": {},
   "source": [
    "### Cloud4rpi"
   ]
  },
  {
   "cell_type": "markdown",
   "metadata": {},
   "source": [
    "A Cloud4rpi egy ingyenes felhő alapú vezérlőpult az IoT jellegű projektekhez. A felhőhoz csatlakoztatva a szenzorunkat tudjuk követni annak méréseit különböző grafikus megjelenítési formákban."
   ]
  },
  {
   "cell_type": "markdown",
   "metadata": {},
   "source": [
    "Nem a Cloud4rpi az egyetlen ilyen felhő alapú szolgáltatás, ilyen az [Adafruit IO](https://io.adafruit.com/), [IoT hook](https://iothook.com/en/), [Things Board](https://thingsboard.io/), [Note-Red](https://nodered.org/), stb. Legtöbbjükben közös, hogy regisztrálni kell rájuk első lépésként.  \n",
    "\n",
    "Ezeken kívül természetesen magunk is megírhatjuk a saját IoT vezérlőpultunk szerver és user oldali programjait, de ebben az írásban, erre nem vállalkozunk. "
   ]
  },
  {
   "cell_type": "markdown",
   "metadata": {},
   "source": [
    "#### Cloud4rpi regisztrálás és installálás, tesztelés"
   ]
  },
  {
   "cell_type": "markdown",
   "metadata": {},
   "source": [
    "Első lépésként regisztrálni kell a Cloud4rpi honlapján majd létrehozni egy új Eszközt (New Device). Így kapunk egy Device Token nevű karaktersort, pl. ```'B7uUHBeu5SCPagDjgbj2hNaHc'```. Evvel a tokennal tudunk majd csatlakozni a felhőbeli vezérlőpulthoz. \n",
    "\n",
    "A következő lépéseket már a Raspberry Pi-unkon kell végrehajtani:\n",
    "\n",
    "1) Installáld a Cloud4rpi kliens oldali könyvtárát: ```sudo pip install cloud4rpi```."
   ]
  },
  {
   "cell_type": "markdown",
   "metadata": {},
   "source": [
    "2) Mentsük le a példaprogramokat: ```wget https://github.com/cloud4rpi/cloud4rpi-raspberrypi-python/archive/master.zip && unzip master.zip && rm master.zip && cd cloud4rpi-raspberrypi-python-master```"
   ]
  },
  {
   "cell_type": "markdown",
   "metadata": {},
   "source": [
    "3) Nyisd meg a ```control.py``` nevű fájlt és a **__YOUR_DEVICE_TOKEN__** helyére írd a saját tokenedet, amit regisztráláskor kaptál (1-es lépés). Ez egy teszt program, nem kell semmilyen eszközt csatlakoztatni a Raspberryhez, automatikusan működnie kell majd minden Raspberry gépen. "
   ]
  },
  {
   "cell_type": "markdown",
   "metadata": {},
   "source": [
    "4) Futtasd le a ```control.py``` programot: ```sudo python control.py```"
   ]
  },
  {
   "cell_type": "markdown",
   "metadata": {},
   "source": [
    "5) Láthatod, hogy az eszköz csatlakozott a nethez és elkezdte az adatok továbbítását.\n",
    "\n",
    "6) A Cloud4rpi oldaladon, menyj a Vezérlőpult (Control Panel) oldalra és hozz létre egy új Vezérlőpultot.\n",
    "\n",
    "7) Hozz létre egy új *Gauge* widget-et és rendeld hozzá a ```CPU Temp``` változóhoz.\n",
    "\n",
    "8) Hozz létre egy új *Switch* widget-et és rendeld hozzá a ```LED On``` változóhoz.\n",
    "\n",
    "9) Hozz létre egy új *Text* widget-et és rendeld hozzá a ```STATUS``` változóhoz. Állíts be különböző színeket az *IDLE*, *RING* és a *BOOM!* stringekhez."
   ]
  },
  {
   "cell_type": "markdown",
   "metadata": {},
   "source": [
    "<img src=\"programok/prog07_controlpanel.png\" width=600 height=600 />"
   ]
  },
  {
   "cell_type": "markdown",
   "metadata": {},
   "source": [
    "### Saját Cloud4rpi programunk"
   ]
  },
  {
   "cell_type": "markdown",
   "metadata": {},
   "source": [
    "Ahhoz, hogy a szellőztető rendszerünket online tudjuk követni elég, ha módosítjuk a fenti ```control.py``` kódot. Hozzunk létre ennek a fájlnak a mappájában egy új fájlt ```dht11_motor_online.py``` néven. Másoljuk ide a ```control.py``` tartalmát. Fontos, hogy az új fájl és a Cloud4rpi mappájában levő ```rpi.py``` fájl egy mappában legyenek, különben az importálások nem működnek. Alul láthatjuk, hogyan módosítsuk a fájlt a saját projektünknek megfelelően. ```#///``` jellel jelöltük azokat a részeket amiket mi adtunk a fájlhoz hozzá.\n",
    "\n",
    "Vegyük sorba a módosításokat és egyes részeket az eredeti kódból, hogy mit is jelentenek:"
   ]
  },
  {
   "cell_type": "markdown",
   "metadata": {},
   "source": [
    "1) Importáljuk a DHT11-ért felelős csomagot, a Motor klasszt és az általunk írt segédfüggvényeket, amivel mérjük a hőmérsékletet és páratartalmat valamint vezéreljük a ventillátort. \n",
    "\n",
    "2) Írjuk be a ```DEVICE_TOKEN``` értékének a sajat tokenünket.\n",
    "\n",
    "3) A ```DATA_SENDING_INTERVAL``` meghatározza, hogy milyen időközönként küldje el a ```variables``` változóban definiált mérési adatokat, a ```DIAG_SENDING_INTERVAL``` meghatározza, hogy milyen időközönként küldje el a ```diagnostics``` változóban definiált mérési adatokat, a ```POLL_INTERVAL``` meghatározza, hogy milyen időközönként történjenek az előző mérések."
   ]
  },
  {
   "cell_type": "markdown",
   "metadata": {},
   "source": [
    "4) Inicializáljuk a DHT11 és a motor objektumokat.\n",
    "\n",
    "5) Írunk egy függvényt a motor állapotának lekérdezésére, hogy be- vagy kikapcsolt állapotban van-e, ```get_motor_status(m)```."
   ]
  },
  {
   "cell_type": "markdown",
   "metadata": {},
   "source": [
    "Most térünk át a legfontosabb részre és ez a ```main()``` függvényen belül zajlik le:\n",
    "\n",
    "6) Létrehozzuk a ```variables``` változót ami felelős a mérési adataink beszerzéséért. Ennek strukturális felépítése fontos és az előírásoknak megfelelő kell legyen. Ez egy könyvtár, amiben a kulcsszavak formájában adunk nevet, hogy mit is mérünk, pl. ```DHT11 Temp```. Az így megadott kulcsszavak értéke viszont újra egy könyvtár, aminek alapvetően legalább két dolgot kell tartalmaznia. A kulcsszavakat a dokumentációból kinézhejtük, de kell legyen benne egy ```type``` és egy ```bind``` kulcsszónak. A ```type``` értéke megadja, hogy milyen tipúsú változó lesz az adat, amit a ```DHT11 Temp``` ad majd. Mivel ez hőmérsékletet mér majd, így ennek az értéke ```numeric``` lesz. A választható értékek listája a következő: ```'bool', 'numeric', 'string', 'location'```. A ```bind``` kulcsszó értéke egy függvény kell, hogy legyen. Ez a függvény felel azért, hogy megkapjuk a mért adatot, pl. ```lambda : get_temp(dev)```. Azért használtuk itt a ```lambda``` kifejezést, mert a ```get_temp``` függvénynek van egy bemenő paramétere, amit meg kell adni, viszont, ha ott ```get_temp(dev)``` szerepelne (meghívott függvény), akkor az érték a mért hőmérséklet lenne, nem pedig maga a függvény. Ha olyan függvényünk van, aminek nincs bemenő paramétere, akkor nincs szükség a ```lambda``` kifejezésre. "
   ]
  },
  {
   "cell_type": "markdown",
   "metadata": {},
   "source": [
    "7) A ```device``` változóban hozzuk létre a kapcsolatot a Raspberry Pi és a felhő között. A ```device.declare(variables)``` és a ```device.publish_config()``` sorok megteremtik a kommunikáció alapját, először inicializáljuk, hogy milyen adatokat mérjen, majd konfiguráljuk a kapcsolatot. \n",
    "\n",
    "8) A ```data_timer``` változó felel azért, hogy az általunk beállított időközönként legyenek mérések és történjen annak a felhőbe való küldése."
   ]
  },
  {
   "cell_type": "markdown",
   "metadata": {},
   "source": [
    "9) A végtelen ```while``` ciklusban történik az adatok mérése és szükség esetén a ventillátor bekapcsolása. A ```device.publish_data()``` felel azért, hogy az adatok eljussanak a felhőbe. "
   ]
  },
  {
   "cell_type": "markdown",
   "metadata": {},
   "source": [
    "```dht11_motor_online.py```:"
   ]
  },
  {
   "cell_type": "code",
   "execution_count": null,
   "metadata": {},
   "outputs": [],
   "source": [
    "from time import sleep\n",
    "import sys, time\n",
    "import cloud4rpi\n",
    "import rpi\n",
    "import adafruit_dht     # importaljuk az DHT11 klasszt\n",
    "from gpiozero import Motor    # importaljuk a motor klasszt\n",
    "# sajat modulunkbol importaljuk a seged fuggvenyeket\n",
    "from temperature_functions import get_hum, get_temp, ventillation\n",
    "\n",
    "# Put your device token here. To get the token,\n",
    "# sign up at https://cloud4rpi.io and create a device.\n",
    "DEVICE_TOKEN = xxxxxxxxxxxxxxx\n",
    "\n",
    "\n",
    "# Change these values depending on your requirements.\n",
    "# ez a 3 valtozo szabalyozza, milyen gyakran kuldjunk adatot \n",
    "# es milyen gyakran frissuljon a webes felulet\n",
    "DATA_SENDING_INTERVAL = 3  # secs\n",
    "DIAG_SENDING_INTERVAL = 3  # secs\n",
    "POLL_INTERVAL = 0.5  # 500 ms\n",
    "\n",
    "#/// Az eszkozok instancializalasa\n",
    "dev = adafruit_dht.DHT11(3)\n",
    "motor = Motor(23,24,25)\n",
    "#///\n",
    "\n",
    "last_update = time.time()-10\n",
    "\n",
    "#/// fuggveny a motor mozgasi allapotanak vizsgalatara\n",
    "def get_motor_status(m):\n",
    "\treturn m.is_active\n",
    "#///\n",
    "\t\t\t\n",
    "def main():\n",
    "\n",
    "    # Put variable declarations here\n",
    "    # Available types: 'bool', 'numeric', 'string', 'location'\n",
    "    #/// ebben a valtozoban definialjuk, mit akarunk megjeleniteni a weboldalon\n",
    "    variables = {\n",
    "        'DHT11 Temp': {\n",
    "            'type': 'numeric' ,\n",
    "            'bind': lambda : get_temp(dev),\n",
    "        },\n",
    "        'DHT11 Humidity': {\n",
    "            'type': 'numeric' ,\n",
    "            'bind': lambda : get_hum(dev),\n",
    "        },\n",
    "        'Motor On': {\n",
    "            'type': 'bool',\n",
    "            'value': False,\n",
    "            'bind': lambda : get_motor_status(motor)\n",
    "        },\n",
    "        'CPU Temp': {\n",
    "            'type': 'numeric',\n",
    "            'bind': rpi.cpu_temp\n",
    "        },\n",
    "    }\n",
    "    #///\n",
    "    \n",
    "    diagnostics = {\n",
    "        'CPU Temp': rpi.cpu_temp,\n",
    "        'IP Address': rpi.ip_address,\n",
    "        'Host': rpi.host_name,\n",
    "        'Operating System': rpi.os_name,\n",
    "        'Client Version:': cloud4rpi.__version__,\n",
    "    }\n",
    "    \n",
    "    device = cloud4rpi.connect(DEVICE_TOKEN)\n",
    "\n",
    "    try:\n",
    "        device.declare(variables)\n",
    "        device.declare_diag(diagnostics)\n",
    "\n",
    "        device.publish_config()\n",
    "\n",
    "        # Adds a 1 second delay to ensure device variables are created\n",
    "        sleep(1)\n",
    "\n",
    "        data_timer = 0\n",
    "        diag_timer = 0\n",
    "\n",
    "        while True:\n",
    "            if data_timer <= 0:\n",
    "                #///\n",
    "                tt = get_temp(dev)\n",
    "                hum = get_hum(dev)\n",
    "                ventillation(motor, tt,hum)\n",
    "                #///\n",
    "                device.publish_data()\n",
    "                data_timer = DATA_SENDING_INTERVAL\n",
    "\n",
    "            if diag_timer <= 0:\n",
    "                device.publish_diag()\n",
    "                diag_timer = DIAG_SENDING_INTERVAL\n",
    "\n",
    "            sleep(POLL_INTERVAL)\n",
    "            diag_timer -= POLL_INTERVAL\n",
    "            data_timer -= POLL_INTERVAL\n",
    "\n",
    "    except KeyboardInterrupt:\n",
    "        cloud4rpi.log.info('Keyboard interrupt received. Stopping...')\n",
    "\n",
    "    except Exception as e:\n",
    "        error = cloud4rpi.get_error_message(e)\n",
    "        cloud4rpi.log.exception(\"ERROR! %s %s\", error, sys.exc_info()[0])\n",
    "\n",
    "    finally:\n",
    "        sys.exit(0)\n",
    "\n",
    "\n",
    "if __name__ == '__main__':\n",
    "    main()"
   ]
  },
  {
   "cell_type": "markdown",
   "metadata": {},
   "source": [
    "A program elindítása a szokásos ```python dht11_motor_online.py``` paranccsal történik. "
   ]
  },
  {
   "cell_type": "markdown",
   "metadata": {},
   "source": [
    "### Saját vezérlőpult létrehozása"
   ]
  },
  {
   "cell_type": "markdown",
   "metadata": {},
   "source": [
    "Most átnézzük, hogy hozzunk létre egy hasonló felületet ahhoz, amit az alábbi ábrán látunk a projektünkhöz."
   ]
  },
  {
   "cell_type": "markdown",
   "metadata": {},
   "source": [
    "<img src=\"programok/prog07_projectpanel.png\" width=600 height=600 />"
   ]
  },
  {
   "cell_type": "markdown",
   "metadata": {},
   "source": [
    "1) A https://cloud4rpi.io/control-panels oldalon kattintsunk az új Vezérlőpult (+ New Control Panel) linkre. Adjunk neki nevet.\n",
    "\n",
    "2) Kattintsunk az új widget (+ Add Widget) linkre, hogy kiválasszuk milyen felületen jelenítsük meg a méréseket. \n",
    "\n",
    "3) Válasszuk ki a Chart widgetet, majd a Variables to display  listából válasszuk ki a DHT11 Temp nevet és kattintsunk az Add Widget gombra. \n",
    "\n",
    "4) Ismételjük meg mégegyszer a 2)-3) lépést, csak most a DHT11 Humidity nevet válasszuk ki és adjuk hozzá.\n",
    "\n",
    "5) Kattintsunk ismét a + Add Widget gombra és most egy Switch elemet válasszunk ki és rendeljük hozzá a Motor On nevet. Majd kattintsunk a + Add Wdiget gombra.\n",
    "\n",
    "6) Ha befejeztük kattintsunk a lap jobb felső sarkában levő zöld színű Editing x gombra."
   ]
  },
  {
   "cell_type": "markdown",
   "metadata": {},
   "source": [
    "Evvel kész is van a panelünk, itt lehet végigkövetni a mért adatokat. Ha szeretnétek meg is oszthatjátok az oldalt a Share gombra kattintással."
   ]
  },
  {
   "cell_type": "markdown",
   "metadata": {},
   "source": [
    "## A projekt tesztelése"
   ]
  },
  {
   "cell_type": "markdown",
   "metadata": {},
   "source": [
    "Miután összeszereltük az áramkört és a kódot is megírtuk, amit pl. ```dht11_motor_online.py``` név alatt mentettünk el, megnyithatunk a Raspberry Pi operációs rendszerén egy terminált. A terminálban a ```cd 'mappa név'``` paranccsal elnavigálunk abba a mappába, ahova a ```dht11_motor_online.py```-t elmentettük. Ott begépelve a ```python dht11_motor_online.py``` parancsot, letesztelhetjük a programunk működését. Ha minden jól megy akkor a program elindításával a képernyőn elindul a kommunikáció a Raspberry Pi és a Cloud4rpi felhője között. Keressük fel a Cloud4rpi honlapján a saját profilunkat és ellenőrízzük, hogy ott vannak-e a mért adatok. \n",
    "\n",
    "Hibaüzenetek esetén ki kell deríteni mi lehetett a probléma, pl. elgépelés, egy modul hiányzik, sorok megfelelő behúzása, idézőjel lemaradása stb. A hibaüzenet legtöbbször segít abban, hogy melyik sorban találta a hibát és hogy mi volt az. Egy kis gyakorlással bele lehet jönni azok értelmezésébe, valamint interneten is rá lehet keresni a hibaüzenet jelentésére és annak lehetséges elhárítására."
   ]
  },
  {
   "cell_type": "markdown",
   "metadata": {},
   "source": [
    "## Mit lehet javítani/továbbfejleszteni?"
   ]
  },
  {
   "cell_type": "markdown",
   "metadata": {},
   "source": [
    "* Módosítsuk, hogy milyen gyakran frissüljön az információ a felhőben.\n",
    "* Ábrázoljuk grafikonon az idő függvényében, hogy mikor volt bekapcsolva a motor. Ha bekapcsolt állapotban van, akkor ábrázoljunk 1-et, ha kikapcsolt állapotban van akkor 0-t. \n",
    "\n",
    "Írd meg kommentben, hogy szerinted mivel lehetne még feldobni ezt a kis programot!"
   ]
  },
  {
   "cell_type": "markdown",
   "metadata": {},
   "source": [
    "## Referencia"
   ]
  },
  {
   "cell_type": "markdown",
   "metadata": {},
   "source": [
    "1) DHT11 adatlap - http://wiki.sunfounder.cc/images/c/c7/DHT11_datasheet.pdf\n",
    "\n",
    "2) https://www.electronicsforu.com/tech-zone/electronics-components/humidity-sensor-basic-usage-parameter\n",
    "\n",
    "3) if-else leírás - https://www.programiz.com/python-programming/if-elif-else\n",
    "\n",
    "4) modul importálás - https://www.programiz.com/python-programming/modules\n",
    "\n",
    "5) Motor objektum leírása - [https://gpiozero.readthedocs.io/en/stable/api_output.html#motor](https://gpiozero.readthedocs.io/en/stable/api_output.html#motor)\n",
    "\n",
    "6) L293D driver leírása - [https://www.ti.com/lit/ds/symlink/l293.pdf](https://www.ti.com/lit/ds/symlink/l293.pdf)\n",
    "\n",
    "7) Try - except leírása - https://realpython.com/python-exceptions/\n",
    "\n",
    "8) Cloud4rpi installálás - https://medium.com/cloud4rpi/cloud4rpi-cloud-control-panel-for-your-raspberry-pi-de70204d7c8\n",
    "\n",
    "9) Cloud4rpi példaprogram - https://cloud4rpi.io/raspberry-pi-projects/humidity-in-the-cloud\n",
    "\n",
    "10) Cloud4rpi dokumentáció - https://docs.cloud4rpi.io/\n",
    "\n",
    "11) Github repo - https://github.com/cloud4rpi/cloud4rpi"
   ]
  },
  {
   "cell_type": "code",
   "execution_count": null,
   "metadata": {},
   "outputs": [],
   "source": []
  }
 ],
 "metadata": {
  "kernelspec": {
   "display_name": "Python 3",
   "language": "python",
   "name": "python3"
  },
  "language_info": {
   "codemirror_mode": {
    "name": "ipython",
    "version": 3
   },
   "file_extension": ".py",
   "mimetype": "text/x-python",
   "name": "python",
   "nbconvert_exporter": "python",
   "pygments_lexer": "ipython3",
   "version": "3.7.3"
  },
  "toc": {
   "base_numbering": 1,
   "nav_menu": {},
   "number_sections": true,
   "sideBar": true,
   "skip_h1_title": false,
   "title_cell": "Table of Contents",
   "title_sidebar": "Contents",
   "toc_cell": false,
   "toc_position": {},
   "toc_section_display": true,
   "toc_window_display": false
  }
 },
 "nbformat": 4,
 "nbformat_minor": 2
}
