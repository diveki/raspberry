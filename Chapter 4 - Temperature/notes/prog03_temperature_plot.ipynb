{
 "cells": [
  {
   "cell_type": "markdown",
   "metadata": {},
   "source": [
    "# Projekt 2 - Elmentett hőmérséklet ábrázolása"
   ]
  },
  {
   "cell_type": "markdown",
   "metadata": {},
   "source": [
    "Sikerült elkészítened a szüleidnek a programot ami elmenti egy fájlba az egy időszakban mért hőmérsékleti eredményeket. A szüleid egyszerre örültek is és méltatlankodtak az eredményen. Örültek, mert büszkék voltak rád, hogy meg tudtad csinálni, de méltatlankodtak, mert a vesszővel elválasztott számok számukra kicsit zagyvaságnak tűnt. Nehezen látták át. Mivel vizuális típusok a szüleid, megkértek, hogy ábrázold egy grafikonon a fájl tartalmát, azaz a hőmérsékletet Celsius fokban az idő függvényében."
   ]
  },
  {
   "cell_type": "markdown",
   "metadata": {},
   "source": [
    "## Mit fogsz készíteni?"
   ]
  },
  {
   "cell_type": "markdown",
   "metadata": {},
   "source": [
    "Ehhez a projekthez már nincs szükség a szenzorra. Egy kódot kell írni ami beolvassa az adatokat a *csv* fájlból és ábrázolja azt egy grafikonon, ahol az *x* tengely az idővonalat, az *y* tengely pedig a hőmérsékletet képviseli Celsius fokban. "
   ]
  },
  {
   "cell_type": "markdown",
   "metadata": {},
   "source": [
    "## Mit tanulsz meg?"
   ]
  },
  {
   "cell_type": "markdown",
   "metadata": {},
   "source": [
    "Az ábrázolós projekt elkészítésével a következőket tanulod meg:\n",
    "\n",
    "* Hogyan olvassuk ki egy szöveges fájl tartalmát az ```open``` parancs használatával.\n",
    "* Hogyan nyerjünk ki hasznos információt egy *csv* fájlból.\n",
    "* Hogyan kezeljük a dátum formátumokat a ```datetime``` csomag segítségével.\n",
    "* Hogyan ábrázoljuk az adatokat a ```matplotlib``` csomag segítségével."
   ]
  },
  {
   "cell_type": "markdown",
   "metadata": {},
   "source": [
    "## A projekt részletekre bontása"
   ]
  },
  {
   "cell_type": "markdown",
   "metadata": {},
   "source": [
    "* Beimportálni a ```matplotlib``` és a ```datetime``` csomagokat.\n",
    "* Kiolvasni az elmentett fájl tartalmát az ```open``` parancs segítségével.\n",
    "* Definiálni egy függvényt ami a kiolvasott sorokból egyenként kinyeri a hőmérsékletet és a kiolvasás időpontját.\n",
    "* Az időpontot vissza kell alakítani *string* formátumból *datetime* formátumba (ábrázolás miatt).\n",
    "* Ábrázolni a kinyert adatokat a *matplotlib* segítségével.\n",
    "* Bekonfigurálni az *x* tengelyt, hogy értelmes időintervallumot mutasson."
   ]
  },
  {
   "cell_type": "markdown",
   "metadata": {},
   "source": [
    "## Áramköri elemek listája"
   ]
  },
  {
   "cell_type": "markdown",
   "metadata": {},
   "source": [
    "Nincs"
   ]
  },
  {
   "cell_type": "markdown",
   "metadata": {},
   "source": [
    "## A kapcsolási rajz"
   ]
  },
  {
   "cell_type": "markdown",
   "metadata": {},
   "source": [
    "<img src=\"\" width=600 height=400 />"
   ]
  },
  {
   "cell_type": "markdown",
   "metadata": {},
   "source": [
    "Nincs"
   ]
  },
  {
   "cell_type": "markdown",
   "metadata": {},
   "source": [
    "## A kód\n",
    "\n",
    "Nyissunk meg egy új python fájlt és mentsük el pl. ```ds18b20_readfile.py``` név alatt. Ezeket a parancsokat akár a terminálban is gépelhetjük interaktív módban."
   ]
  },
  {
   "cell_type": "markdown",
   "metadata": {},
   "source": [
    "### Az elmentett fájl beolvasása"
   ]
  },
  {
   "cell_type": "markdown",
   "metadata": {},
   "source": [
    "Szokás szerint kezdjük a szükséges csomagok beolvasásával. Ebben a projektben a ```datetime``` csomagra támaszkodunk, hogy stringből majd *datetime* objektummá változtathassuk az időpontokat és a ```matplotlib.pyplot``` csomagot használjuk majd a mérések megjelenítésére.\n",
    "\n",
    "Létrehozunk egy változót is, amiben megadjuk a fájlunk nevét, amit szeretnénk beolvasni és újrahasználjuk az előzőekben definiált függvényt, ```read_temp_raw(file_name)```, ami képes egy fájl beolvasni a pythonba. Végül egy változóhoz, ```lines```, rendeljük a megadott fájl tartalmát."
   ]
  },
  {
   "cell_type": "markdown",
   "metadata": {},
   "source": [
    "```ds18b20_readfile.py```:"
   ]
  },
  {
   "cell_type": "code",
   "execution_count": null,
   "metadata": {},
   "outputs": [],
   "source": [
    "import matplotlib.pyplot as plt\n",
    "import datetime as dt\n",
    "\n",
    "filename = 'test.csv'\n",
    "\n",
    "def read_temp_raw(file_name):\n",
    "    f = open(file_name, 'r')\n",
    "    lines = f.readlines()\n",
    "    f.close()\n",
    "    return lines\n",
    "\n",
    "lines = read_temp_raw(filename)"
   ]
  },
  {
   "cell_type": "markdown",
   "metadata": {},
   "source": [
    "### A *csv* fájlból kinyerni az adatokat"
   ]
  },
  {
   "cell_type": "markdown",
   "metadata": {},
   "source": [
    "A következőkben egy függvényt hozunk létre, ```read_data(lines, delimiter=',')```, aminek a célja, hogy visszaadja a mért időket és hőmérsékleteket lista formájában. Bemenő paraméter a lista, ami tartalmazza a fájlból kiolvasott sorokat, és opcionálisan a ```delimiter``` változóval megadhatjuk, hogy a számok a fájlban mivel voltak elválasztva (alapjáraton vesszővel). \n",
    "\n",
    "A függvényben első lépésként definiálunk két üres listát, amik az időpontokat és a hőmérsékleteket fogják tárolni. Utána végig lépkedünk a bemenő paraméterünk , ```lines``` minden egyes elemén, kezdve a második elemtől (látni fogjuk, hogy néha az első mérés az hibás). Ezek az elemek, a fájlból egy sort képviselnek. A ```strip``` metódussal eltüntettjük az újsor vagy üres hely karaktereket a sorból, majd szétválasztjuk a stringet a vesszők mentén a ```split``` metódussal, pl.:"
   ]
  },
  {
   "cell_type": "code",
   "execution_count": 1,
   "metadata": {},
   "outputs": [
    {
     "name": "stdout",
     "output_type": "stream",
     "text": [
      "12/29/2020 21:14,85,185\n",
      "['12/29/2020 21:14', '85', '185']\n"
     ]
    }
   ],
   "source": [
    "line='12/29/2020 21:14,85,185\\n'\n",
    "print(line.strip())\n",
    "print(line.strip().split(','))"
   ]
  },
  {
   "cell_type": "markdown",
   "metadata": {},
   "source": [
    "Miután egy lista elemeivé tettük a dátumot és a hőmérsékleteket, már csak három dolgunk maradt. Először, hogy a *string* dátumot, hogy a matplotlib könnyebben tudja kezelni, átalakítsuk *datetime* típusúvá. A ```dd = dt.datetime.strptime(a[0], '%Y-%m-%d %H:%M:%S')``` kifejezésben a ```strptime``` teszi ezt az átalakítást lehetővé, ahol argumentumként azt is meg kell adnunk, hogy milyen az alakja a dátumnak amit átalakítunk, ```'%Y-%m-%d %H:%M:%S'```. Másodszor a hőmérsékletet is szám típusúvá kell alakítanunk stringből, ```float(a[1])```. Végül, a kapott eredményekkel ki kell bővítenünk a függvény elején definiált tároló listákat, majd visszaadni őket, mint függvény érték. \n",
    "\n",
    "Miután meghívjuk a függvényt, már rendelkezésre is áll az időpont hőmérséklet páros, ```d,t```. "
   ]
  },
  {
   "cell_type": "code",
   "execution_count": null,
   "metadata": {},
   "outputs": [],
   "source": [
    "def read_data(lines, delimiter=','):\n",
    "\tdate = []\n",
    "\ttc = []\n",
    "\tfor line in lines[1:]:\n",
    "\t\ta = line.strip().split(',')\n",
    "\t\tdd = dt.datetime.strptime(a[0], '%Y-%m-%d %H:%M:%S')\n",
    "\t\tdate.append(dd)\n",
    "\t\ttc.append(float(a[1])\n",
    "\treturn date, tc\n",
    "\n",
    "d,t = read_data(lines, delimiter=',')"
   ]
  },
  {
   "cell_type": "markdown",
   "metadata": {},
   "source": [
    "### A matplotlib.pyplot csomag"
   ]
  },
  {
   "cell_type": "markdown",
   "metadata": {},
   "source": [
    "Most ismerkedjünk meg röviden a ```matplotlib.pyplot``` csomaggal amire a pythonban a plottolás alapszik. Segédcsomagként beimportáljuk még a ```numpy```-t is, hogy könnyebb legyen matematikai űveleteket végezni az array-einken. Példaként megmutatjuk, hogy lehet 3 függvényt ábrázolni, különböző színnel, markerrel, jelmagyarázattal, címmel és tengelycímekkel:"
   ]
  },
  {
   "cell_type": "code",
   "execution_count": 20,
   "metadata": {},
   "outputs": [
    {
     "data": {
      "image/png": "[encoded data removed]",
      "text/plain": [
       "<Figure size 432x288 with 1 Axes>"
      ]
     },
     "metadata": {
      "needs_background": "light"
     },
     "output_type": "display_data"
    }
   ],
   "source": [
    "import matplotlib.pyplot as plt\n",
    "import numpy as np\n",
    "\n",
    "x = np.linspace(-5,5,50)       # 50 elemű array létrehozása -5 és 5 között\n",
    "# y értékek létrehozása x függvényében\n",
    "y1 = 2*x+4\n",
    "y2 = -2*x**2 + 3*x - 1\n",
    "y3 = 2*np.cos(x/2)+0.5\n",
    "\n",
    "# a plot függvénnyel lehet ábrázolni függvényeket; a label paraméter\n",
    "# értéke határozza meg, hogy mi jelenik meg a jelmagyarázatban\n",
    "plt.plot(x,y1, label = '2*x+4')\n",
    "# harmadik paraméterként megadtuk, hogy szaggatott vonalat (--) szeretnénk\n",
    "# diamant markerokkal (d)\n",
    "plt.plot(x,y2, '--d', label = '$-2*x^2 + 3*x - 1$')\n",
    "# harmadik paraméterként megadtuk, hogy négyzet markert (s) szeretnénk\n",
    "# fekete színben (k)\n",
    "plt.plot(x,y3, 'sk', label = '$2\\cos(x/2)+0.5$')\n",
    "plt.legend()             # megjeleníti a jelmagyarázatot\n",
    "plt.title('Függvények')  # megjeleníti az ábra címét\n",
    "plt.xlabel('x')          # elnevezi az x tengelyt\n",
    "plt.ylabel('y')          # elnevezi az y tengelyt\n",
    "plt.show()               # megjeleníti az ábrát"
   ]
  },
  {
   "cell_type": "markdown",
   "metadata": {},
   "source": [
    "### A mért eredmények ábrázolása"
   ]
  },
  {
   "cell_type": "markdown",
   "metadata": {},
   "source": [
    "Miután összerakjuk az eddig leírt elemeket, már csak az ábrázolás marad hátra. Megadjuk, hogy kör alakú markerekkel és azokat összekötő egyenessel ```'o-'``` szeretnénk plottolni a ```d``` függvényében a ```t```-t. Mivel az *x* tengely itt dátumokat tartalmaz, a ```plt.gcf().autofmt_xdate()``` parancsot hívjuk meg, hogy csinosabban jelenítse meg a dátumokat (nyugodtan próbáljuk ki, mi lesz, ha ezt nem használjuk). Végül a ```plt.show()```-val megjelenítjük a grafikont. "
   ]
  },
  {
   "cell_type": "markdown",
   "metadata": {},
   "source": [
    "```ds18b20_readfile.py```:"
   ]
  },
  {
   "cell_type": "code",
   "execution_count": null,
   "metadata": {},
   "outputs": [],
   "source": [
    "import matplotlib.pyplot as plt\n",
    "import datetime as dt\n",
    "\n",
    "filename = 'test.csv'\n",
    "\n",
    "def read_temp_raw(file_name):\n",
    "    f = open(file_name, 'r')\n",
    "    lines = f.readlines()\n",
    "    f.close()\n",
    "    return lines\n",
    "\n",
    "def read_data(lines, delimiter=','):\n",
    "\tdate = []\n",
    "\ttc = []\n",
    "\tfor line in lines[1:]:\n",
    "\t\ta = line.strip().split(',')\n",
    "\t\tdd = dt.datetime.strptime(a[0], '%Y-%m-%d %H:%M:%S')\n",
    "\t\tdate.append(dd)\n",
    "\t\ttc.append(float(a[1]))\n",
    "\treturn date, tc\n",
    "\n",
    "lines = read_temp_raw(filename)\n",
    "d,t = read_data(lines, delimiter=',')\n",
    "\n",
    "plt.plot(d,t, 'o-')\n",
    "plt.gcf().autofmt_xdate()\n",
    "plt.show()"
   ]
  },
  {
   "cell_type": "markdown",
   "metadata": {},
   "source": [
    "## A projekt tesztelése"
   ]
  },
  {
   "cell_type": "markdown",
   "metadata": {},
   "source": [
    "Miután összeszereltük az áramkört és a kódot is megírtuk, amit pl. ```ds18b20_readfile.py``` név alatt mentettünk el, megnyithatunk a Raspberry Pi operációs rendszerén egy terminált. A terminálban a ```cd 'mappa név'``` paranccsal elnavigálunk abba a mappába, ahova a ```ds18b20_readfile.py```-t elmentettük. Ott begépelve a ```python ds18b20_readfile.py``` parancsot, letesztelhetjük a programunk működését. Ha minden jól megy akkor a program elindításával az elmentett adatok beolvasódnak és egy grafikon jelenik meg a hőmérséklettel az idő függvényében.\n",
    "\n",
    "Hibaüzenetek esetén ki kell deríteni mi lehetett a probléma, pl. elgépelés, egy modul hiányzik, sorok megfelelő behúzása, idézőjel lemaradása stb. A hibaüzenet legtöbbször segít abban, hogy melyik sorban találta a hibát és hogy mi volt az. Egy kis gyakorlással bele lehet jönni azok értelmezésébe, valamint interneten is rá lehet keresni a hibaüzenet jelentésére és annak lehetséges elhárítására."
   ]
  },
  {
   "cell_type": "markdown",
   "metadata": {},
   "source": [
    "## Mit lehet javítani/továbbfejleszteni?"
   ]
  },
  {
   "cell_type": "markdown",
   "metadata": {},
   "source": [
    "* Adjunk címet a grafikonnak és változtassuk meg a tengelyek számméretét.\n",
    "* Változtassuk meg a görbe típusát (pl. szaggatott vonal négyzetekkel) illetve nagyítsunk rá mind az x és y tengelyre a kódból.\n",
    "\n",
    "Írd meg kommentben, hogy szerinted mivel lehetne még feldobni ezt a kis programot!"
   ]
  },
  {
   "cell_type": "markdown",
   "metadata": {},
   "source": [
    "## Referencia"
   ]
  },
  {
   "cell_type": "markdown",
   "metadata": {},
   "source": [
    "1) https://thepihut.com/blogs/raspberry-pi-tutorials/18095732-sensors-temperature-with-the-1-wire-interface-and-the-ds18b20\n",
    "\n",
    "2) http://docs.37sensors.com/#\n",
    "\n",
    "3) https://sensorkit.en.joy-it.net/index.php?title=KY-028_Temperature_Sensor_module_(Thermistor)\n",
    "\n",
    "4) https://www.malnasuli.hu/leckek/homerseklet-merese-1-wire-szenzorral/\n",
    "\n",
    "5) https://www.electronicshub.org/raspberry-pi-ds18b20-tutorial/\n",
    "\n",
    "6) open parancs - https://www.guru99.com/reading-and-writing-files-in-python.html\n",
    "\n",
    "7) string metódusok - https://www.programiz.com/python-programming/string\n",
    "\n",
    "8) datetime csomag - https://www.programiz.com/python-programming/datetime\n",
    "\n",
    "9) matplotlib csomag - https://matplotlib.org/stable/tutorials/index.html"
   ]
  },
  {
   "cell_type": "code",
   "execution_count": null,
   "metadata": {},
   "outputs": [],
   "source": []
  }
 ],
 "metadata": {
  "kernelspec": {
   "display_name": "Python 3",
   "language": "python",
   "name": "python3"
  },
  "language_info": {
   "codemirror_mode": {
    "name": "ipython",
    "version": 3
   },
   "file_extension": ".py",
   "mimetype": "text/x-python",
   "name": "python",
   "nbconvert_exporter": "python",
   "pygments_lexer": "ipython3",
   "version": "3.7.3"
  },
  "toc": {
   "base_numbering": 1,
   "nav_menu": {},
   "number_sections": true,
   "sideBar": true,
   "skip_h1_title": false,
   "title_cell": "Table of Contents",
   "title_sidebar": "Contents",
   "toc_cell": false,
   "toc_position": {},
   "toc_section_display": true,
   "toc_window_display": false
  }
 },
 "nbformat": 4,
 "nbformat_minor": 2
}
