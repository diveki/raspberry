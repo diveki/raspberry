{
 "cells": [
  {
   "cell_type": "markdown",
   "metadata": {},
   "source": [
    "# Projekt 4 - Szerelemmérő"
   ]
  },
  {
   "cell_type": "markdown",
   "metadata": {},
   "source": [
    "Kitaláltad, hogy megtréfálod az ismerőseidet és egy olyan eszközt raksz össze, ami képes megállapítani, hogy valaki szerelmes-e vagy sem. Természetesen van ebben egy kis turpisság, de ezt nem kell az ismerősöknek elárulni. \n",
    "\n",
    "A történet szerint készítesz egy eszközt ami képes az emberek szerelem rezgéseit mérni, ami csak azoknak van akik szerelmesek. Az alanynak meg kell fognia az eszközt és az LED diódákon keresztül kimutatja, hogy szerelmes-e az illető. Zöld, sárga és piros kijelzők vannak. Ha a zöld világít csak, akkor az illető nem szerelmes, ha a sárga is bekapcsol, akkor az illető szerelmes de ha még a piros is ég akkor bizony fülig szerelmes."
   ]
  },
  {
   "cell_type": "markdown",
   "metadata": {},
   "source": [
    "## Mit fogsz készíteni?"
   ]
  },
  {
   "cell_type": "markdown",
   "metadata": {},
   "source": [
    "Egy NTCC 10k nevű thermisztorból, egy MCP3008 ADC-ből, egy 10 kOhm ellenállásból és 3 LED-ből álló áramkört fogsz összerakni egy feszültségosztó elrendezésben. Ebben a projektben még csak a feszültség változását mérjük a hőmérséklet hatására. Annak függvényében, hogy mekkora a feszültség:\n",
    "\n",
    "* U > 1.8 V - nem világít egyik LED sem\n",
    "* 1.5 V < U $\\leq$ 1.8 V - zöld LED világít\n",
    "* 1.3 V < U $\\leq$ 1.5 V - zöld és sárga LED-ek világítanak\n",
    "* U $\\geq$ 1.3 V - mind a három LED világít."
   ]
  },
  {
   "cell_type": "markdown",
   "metadata": {},
   "source": [
    "## Mit tanulsz meg?"
   ]
  },
  {
   "cell_type": "markdown",
   "metadata": {},
   "source": [
    "A hőmérő szenzor elkészítésével a következőket tanulod meg:\n",
    "\n",
    "* Hogyan kommunikáljunk egy ADC-vel.\n",
    "* Hogyan használjunk LED-eket.\n",
    "* Hogyan használjunk ```if - else``` szerkezetet."
   ]
  },
  {
   "cell_type": "markdown",
   "metadata": {},
   "source": [
    "## A projekt részletekre bontása"
   ]
  },
  {
   "cell_type": "markdown",
   "metadata": {},
   "source": [
    "* Elkészíteni az áramkört.\n",
    "* Inicializálni a LED-eket és az ADC-t.\n",
    "* Definiálni egy függvényt, aminek bemenő paraméterei a mért feszültség és a LED objektumok. A feszültségtől függően ez a függvény ki/be kapcsolja a LED-eket. \n",
    "* Végtelen ```while``` ciklusban meghívni a fenti függvényt."
   ]
  },
  {
   "cell_type": "markdown",
   "metadata": {},
   "source": [
    "## Áramköri elemek listája"
   ]
  },
  {
   "cell_type": "markdown",
   "metadata": {},
   "source": [
    "a) [Raspberry PI](https://malnapc.hu/yis/raspberry-pi/rpi-panelek) \n",
    "\n",
    "b) NTCC 10k szenzor: [itt vásárolhatsz](https://www.tme.eu/hu/details/ntcc-10k/tht-ntc-merotermisztorok/sr-passives/)\n",
    "\n",
    "c) [Jumper wires female/male](https://www.ret.hu/shop/product/e-call/jumper-vezetek-szet_53-22-63) \n",
    "\n",
    "d) Ellenállás: [itt vásárolhatsz](https://www.tme.eu/hu/katalog/metal-film-tht-ellenallasok_112313/?s_order=desc&search=ellenallas&s_field=1000011)\n",
    "\n",
    "e) MCP3008 I/P ADC: [itt vásárolhatsz](https://www.tme.eu/hu/details/mcp3008-i_p/a-d-konverterek-ic-k/microchip-technology/)\n",
    "\n",
    "f) 3db LED (piros, sárga, zöld), $I_{max}$ = 20 mA-es: [itt vásárolhatsz](https://www.tme.eu/hu/katalog/tht-led-diodak-5mm_112898/?s_order=desc&search=led&s_field=1000011)"
   ]
  },
  {
   "cell_type": "markdown",
   "metadata": {},
   "source": [
    "## A kapcsolási rajz"
   ]
  },
  {
   "cell_type": "markdown",
   "metadata": {},
   "source": [
    "<img src=\"programok/prog04_schema.png\" width=600 height=400 />"
   ]
  },
  {
   "cell_type": "markdown",
   "metadata": {},
   "source": [
    "A fenti ábrához hasonlóan kapcsoljuk össze az áramköri elemeket és a Raspberry Pi-t. Az áramkör részletes összekötési magyarázata a [Thermisztorok]() című bevezető leírásban található. **N.B. Ha nem a lent megadott módon kötjük be az ADC-t, akkor figyelni kell arra, hogy a szoftverben a lábak definiálásánál ezt jelezni kell, illetve tudunk kell, hogy akkor nem hardwares SPI kommunikáció lesz.**"
   ]
  },
  {
   "cell_type": "markdown",
   "metadata": {},
   "source": [
    "0) Kössük sorba a NTCC 10k thermisztort és a 10 kOhm ellenállást. A thermisztor üres lábára kapcsoljuk a Raspberry Pi 3.3 V-os tápját, míg az ellenállás üres lábára a földelést. A thermisztor és az ellenállás csatlakozását pedig kössük az MCP3008 CH7-es csatornájára.\n",
    "\n",
    "1) Kössük össze a Raspberry Pi egyik földelését az MCP3008 AGND ás DGND lábaival (fekete drót).\n",
    "\n",
    "2) Kössük az MCP3008 *VDD* és *VREF* nevű lábait a Raspberry Pi 3.3 V-os tüskéjére. \n",
    "\n",
    "3) Kössük az MCP3008 *CLK* nevű lábát a Raspberry Pi *GPIO11* tüskéjére. \n",
    "\n",
    "4) Kössük az MCP3008 *DOUT* nevű lábát a Raspberry Pi *GPIO09* tüskéjére. \n",
    "\n",
    "5) Kössük az MCP3008 *DIN* nevű lábát a Raspberry Pi *GPIO10* tüskéjére.\n",
    "\n",
    "6) Kössük az MCP3008 *CS* nevű lábát a Raspberry Pi *GPIO08* tüskéjére.\n",
    "\n",
    "7) Helyezzük a piros LED lábait két különboző sorba. A katódjának (negatív láb) sorába kössük be az ellenállásunk egyik lábát, míg a másikat kössük a földelésre. Az ellenállás másik lábát kössük a földelésre.\n",
    "\n",
    "8) Ismételjük meg a fenti lépést még kétszer a sárga és a zöld LED-re is, a kapcsolási rajzhoz hasonlóan.\n",
    "\n",
    "9) A piros LED szabadon levő lábát egy jumperrel kössük össze a *GPIO21*-es tüskével, a sárgát a *GPIO20*-sel a zöldet pedig a *GPIO16*-sel."
   ]
  },
  {
   "cell_type": "markdown",
   "metadata": {},
   "source": [
    "## A kód\n",
    "\n",
    "Nyissunk meg egy új python fájlt és mentsük el pl. ```ds18b20_temperature_led.py``` név alatt. A ```gpiozero``` csomagnak nincs beépített objektuma ami általánosan a thermisztorokkat tudná kezelni, így minden egyes thermisztorhoz nekünk kell megoldani a szoftveres kommunikációt az adott eszközzel."
   ]
  },
  {
   "cell_type": "markdown",
   "metadata": {},
   "source": [
    "### A thermisztor tesztelése"
   ]
  },
  {
   "cell_type": "markdown",
   "metadata": {},
   "source": [
    "Miután elkészítettük az áramkört, meg kell írnunk a kódot ami utasítja a Raspberry Pi-t, a hőmérséklet kiolvasására.\n",
    "\n",
    "Mivel a thermisztor analóg jelet ad ki, amit a Raspberry Pi nem tud értelmezni, közbe iktatünk egy analóg digitális átalakítót, MCP3008. Ez a chip SPI protokolon keresztül kommunikál és a ```gpiozero``` csomagnak van hozzá objektuma, amit a ```LED``` klasszokkal együtt beimportálunk. "
   ]
  },
  {
   "cell_type": "markdown",
   "metadata": {},
   "source": [
    "A konvertert először inicializáljuk (a dokumentációban több példa is szerepel, hogy miképp lehet azt megtenni). Bemenő paraméterként megadjuk, hogy a thermisztoros feszültségosztóból kiolvasott feszültséget a 7-es csatornára csatlakoztattuk. Teszteléshez elég meghívni az objektum ```voltage``` metódusát, amit kiírathatunk a képernyőre."
   ]
  },
  {
   "cell_type": "markdown",
   "metadata": {},
   "source": [
    "```ds18b20_temperature_led.py```:"
   ]
  },
  {
   "cell_type": "code",
   "execution_count": 2,
   "metadata": {},
   "outputs": [],
   "source": [
    "from gpiozero import MCP3008, LED\n",
    "\n",
    "mcp = MCP3008(channel=7)\n",
    "\n",
    "while True:\n",
    "\tprint(mcp.voltage)              "
   ]
  },
  {
   "cell_type": "markdown",
   "metadata": {},
   "source": [
    "### LED-ek tesztelése"
   ]
  },
  {
   "cell_type": "markdown",
   "metadata": {},
   "source": [
    "Az objektum beolvasása után inicializálunk egy ```LED``` objektumot, amit ```red```-nek, ```yellow```-nak és ```green```-nek nevezünk el. Egyben megmondjuk a LED-eknek, hogy a *21*-es, *20*-as és *16*-os számú **GPIO** tüskére kötöttük. Egy listába gyűjtjük őket és a listán lépegetve kapcsoljuk be és ki egyenként a LED-eket."
   ]
  },
  {
   "cell_type": "markdown",
   "metadata": {},
   "source": [
    "```ds18b20_temperature_led.py```:"
   ]
  },
  {
   "cell_type": "code",
   "execution_count": null,
   "metadata": {},
   "outputs": [],
   "source": [
    "from gpiozero import MCP3008, LED\n",
    "\n",
    "mcp = MCP3008(channel=7)\n",
    "red = LED(21)\n",
    "yellow = LED(20)\n",
    "green = LED(16)\n",
    "\n",
    "leds = [red, yellow, green]\n",
    "\n",
    "for led in leds:\n",
    "    led.on()\n",
    "    \n",
    "for led in leds:\n",
    "    led.off()"
   ]
  },
  {
   "cell_type": "markdown",
   "metadata": {},
   "source": [
    "### A szerelemmérő elkészítése"
   ]
  },
  {
   "cell_type": "markdown",
   "metadata": {},
   "source": [
    "Végül már csak egy függvényt kell írnunk ami a beérkező mért feszültség alapján vezérli a LED-eket. A függvényünknek, ```lightning(volt, leds=[green, yellow, red])```, két bemenő paramétere van. Az első a kiolvasott feszültség, a második pedig egy lista, ami az inicializált LED-eket tartalmazza majd. A LED-ek sorrendje fontos, az első a zöld, a második a sárga, míg a harmadik a piros. "
   ]
  },
  {
   "cell_type": "markdown",
   "metadata": {},
   "source": [
    "A függvény belseje lényegében vezérli a LED-eket annak függvényében, hogy épp mekkora a feszültség. Ha a feszültség nagyobb mint 1.8 V, akkor az összes LED-et kikapcsoljuk. Az egyszerűség kedvéért egy ```for``` ciklusban végiglépkedünk a LED-eken és mindegyiket kikapcsoljuk. "
   ]
  },
  {
   "cell_type": "markdown",
   "metadata": {},
   "source": [
    "Ha a feszültség értéke 1.5 V és 1.8 V között van, akkor a zöld LED-et bekapcsoljuk, a többit pedig ki. Ha a feszültség értéke 1.3 V és 1.5 V között van, akkor a zöld és a sárga LED világít a piros pedig nem."
   ]
  },
  {
   "cell_type": "markdown",
   "metadata": {},
   "source": [
    "Végül, ha a feszültség értéke 1.3 V alatt van, akkor az összes LED világít.\n",
    "\n",
    "Miután befejeztük a függvény definiálását, már csak meg kell azt hívni egy végtelen ```while``` ciklusban a megfelelő bemenő paraméterekkel."
   ]
  },
  {
   "cell_type": "markdown",
   "metadata": {},
   "source": [
    "```ds18b20_temperature_led.py```:"
   ]
  },
  {
   "cell_type": "code",
   "execution_count": null,
   "metadata": {},
   "outputs": [],
   "source": [
    "from gpiozero import MCP3008, LED\n",
    "\n",
    "mcp = MCP3008(channel=7)\n",
    "red = LED(21)\n",
    "yellow = LED(20)\n",
    "green = LED(16)\n",
    "\n",
    "def lightning(volt, leds=[green, yellow, red]):\n",
    "\tif volt > 1.8:\n",
    "\t\tfor led in leds:\n",
    "\t\t\tled.off()\n",
    "\telif volt <= 1.8 and volt > 1.5:\n",
    "\t\tleds[0].on()\n",
    "\t\tleds[1].off()\n",
    "\t\tleds[2].off()\n",
    "\telif volt <= 1.5 and volt > 1.3:\n",
    "\t\tleds[0].on()\n",
    "\t\tleds[1].on()\n",
    "\t\tleds[2].off()\n",
    "\telif volt <= 1.3:\n",
    "\t\tleds[0].on()\n",
    "\t\tleds[1].on()\n",
    "\t\tleds[2].on()\n",
    "\n",
    "while True:\n",
    "\tlightning(mcp.voltage, leds=[green, yellow, red])"
   ]
  },
  {
   "cell_type": "markdown",
   "metadata": {},
   "source": [
    "## A projekt tesztelése"
   ]
  },
  {
   "cell_type": "markdown",
   "metadata": {},
   "source": [
    "Miután összeszereltük az áramkört és a kódot is megírtuk, amit pl. ```ds18b20_temperature_led.py``` név alatt mentettünk el, megnyithatunk a Raspberry Pi operációs rendszerén egy terminált. A terminálban a ```cd 'mappa név'``` paranccsal elnavigálunk abba a mappába, ahova a ```ds18b20_temperature_led.py```-t elmentettük. Ott begépelve a ```python ds18b20_temperature_led.py``` parancsot, letesztelhetjük a programunk működését. Ha minden jól megy akkor a program elindításával és a thermisztor megfogásával lassan felvillan a zöld, majd a sárga és végül a piros LED. \n",
    "\n",
    "Hibaüzenetek esetén ki kell deríteni mi lehetett a probléma, pl. elgépelés, egy modul hiányzik, sorok megfelelő behúzása, idézőjel lemaradása stb. A hibaüzenet legtöbbször segít abban, hogy melyik sorban találta a hibát és hogy mi volt az. Egy kis gyakorlással bele lehet jönni azok értelmezésébe, valamint interneten is rá lehet keresni a hibaüzenet jelentésére és annak lehetséges elhárítására."
   ]
  },
  {
   "cell_type": "markdown",
   "metadata": {},
   "source": [
    "## Mit lehet javítani/továbbfejleszteni?"
   ]
  },
  {
   "cell_type": "markdown",
   "metadata": {},
   "source": [
    "* Minden egyes LED felvillanásná írjunk ki egy üzenetet a képernyőre pl. Húú, forró, forró, forróóóó....\n",
    "* Írjuk át a kódot, hogy a feszültség csökkenésével aludjanak el a LED-ek. Tehát alap állapotban az összes világít.\n",
    "\n",
    "Írd meg kommentben, hogy szerinted mivel lehetne még feldobni ezt a kis programot!"
   ]
  },
  {
   "cell_type": "markdown",
   "metadata": {},
   "source": [
    "## Referencia"
   ]
  },
  {
   "cell_type": "markdown",
   "metadata": {},
   "source": [
    "1) https://tutorials-raspberrypi.com/mcp3008-read-out-analog-signals-on-the-raspberry-pi/\n",
    "\n",
    "2) MCP3008 - https://gpiozero.readthedocs.io/en/stable/api_spi.html#mcp3008\n",
    "\n",
    "3) LED objektum leírása - https://gpiozero.readthedocs.io/en/stable/api_output.html#led\n",
    "\n",
    "4) if-else leírás - https://www.programiz.com/python-programming/if-elif-else"
   ]
  },
  {
   "cell_type": "code",
   "execution_count": null,
   "metadata": {},
   "outputs": [],
   "source": []
  }
 ],
 "metadata": {
  "kernelspec": {
   "display_name": "Python 3",
   "language": "python",
   "name": "python3"
  },
  "language_info": {
   "codemirror_mode": {
    "name": "ipython",
    "version": 3
   },
   "file_extension": ".py",
   "mimetype": "text/x-python",
   "name": "python",
   "nbconvert_exporter": "python",
   "pygments_lexer": "ipython3",
   "version": "3.7.3"
  },
  "toc": {
   "base_numbering": 1,
   "nav_menu": {},
   "number_sections": true,
   "sideBar": true,
   "skip_h1_title": false,
   "title_cell": "Table of Contents",
   "title_sidebar": "Contents",
   "toc_cell": false,
   "toc_position": {},
   "toc_section_display": true,
   "toc_window_display": false
  }
 },
 "nbformat": 4,
 "nbformat_minor": 2
}
