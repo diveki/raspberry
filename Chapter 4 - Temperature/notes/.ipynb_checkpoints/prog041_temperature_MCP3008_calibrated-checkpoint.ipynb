{
 "cells": [
  {
   "cell_type": "markdown",
   "metadata": {},
   "source": [
    "# Projekt 5 - Kalibrált szerelemmérő"
   ]
  },
  {
   "cell_type": "markdown",
   "metadata": {},
   "source": [
    "Most már rendelkezünk egy szerelem mérő eszközzel, ami furfangos módon egy termisztor ellenállásának hőre való változásából a rajta eső feszültséget méri. Ezt még leírni is körülményes. Sőt beállítani a megfelelő feszültségparamétereket is az. Ezért jobb lenne, ha igazából a mért feszültséget át tudnánk számolni hőmérsékletté. Evvel a módszerrel az alanyunktól származó hőt mérnénk valamilyen formában. Mivel tudjuk, hogy az emberi test hőmérséklete ideális esetben 36 Celsius fok körül van, így könnyebb lesz feltételek szabni a LED-ek vezérlésére. "
   ]
  },
  {
   "cell_type": "markdown",
   "metadata": {},
   "source": [
    "## Mit fogsz készíteni?"
   ]
  },
  {
   "cell_type": "markdown",
   "metadata": {},
   "source": [
    "Egy NTCC 10k nevű thermisztorból, egy MCP3008 ADC-ből, egy 10 kOhm ellenállásból és 3 LED-ből álló áramkört fogsz összerakni egy feszültségosztó elrendezésben. Ebben a projektben még csak a feszültség változását mérjük a hőmérséklet hatására. Annak függvényében, hogy mekkora a feszültség:\n",
    "\n",
    "* T < 25 $^\\circ$C - nem világít egyik LED sem\n",
    "* 25 $^\\circ$C $\\geq$ T < 28 $^\\circ$C - zöld LED világít\n",
    "* 28 V $\\leq$ T < 32 $^\\circ$C - zöld és sárga LED-ek világítanak\n",
    "* T $\\geq$ 32 $^\\circ$C - mind a három LED világít."
   ]
  },
  {
   "cell_type": "markdown",
   "metadata": {},
   "source": [
    "## Mit tanulsz meg?"
   ]
  },
  {
   "cell_type": "markdown",
   "metadata": {},
   "source": [
    "A hőmérő szenzor elkészítésével a következőket tanulod meg:\n",
    "\n",
    "* Hogyan kommunikáljunk egy ADC-vel.\n",
    "* Hogyan használjunk LED-eket.\n",
    "* Hogyan használjunk ```if - else``` szerkezetet.\n",
    "* Hogyan kell fájlokat beolvasni az ```open``` használatával.\n",
    "* Hogyan importálunk egy függvényt egy fájból amit mi írtunk.\n",
    "* Hogyan interpolálunk ismeretlen értékekre. \n",
    "* Hogyan számoljuk a thermisztor ellenállását egy feszültségosztóval."
   ]
  },
  {
   "cell_type": "markdown",
   "metadata": {},
   "source": [
    "## A projekt részletekre bontása"
   ]
  },
  {
   "cell_type": "markdown",
   "metadata": {},
   "source": [
    "* Elkészíteni az áramkört.\n",
    "* Importálni az MCP3008, LED objektumokat, ```numpy``` csomagot, függvényt az interpolálásra és fájl beolvasó függvényt.\n",
    "* Inicializálni a LED-eket és az ADC-t.\n",
    "* Definiálni egy függvényt, ami egy megadott fájlból kinyeri a thermisztor hőmérséklet-ellenállás függését. \n",
    "* Definiálunk egy függvényt ami a mért feszültséget átalakítja ellenállássá a feszültségosztó elve alapján.\n",
    "* Definiálunk egy függvényt, hogy a hőmérséklet-ellenállás függés ismeretlen pontjait interpoláljuk.\n",
    "* Definiálunk egy függvényt a LED-ek vezérlésére.\n",
    "* Beolvassuk a hőmérséklet-ellenállás függését, a fent definiált függvénnyel.\n",
    "* Egy végtelen ```while``` ciklusban mérjük a feszültséget, kiszámoljuk az ellenállás változást, abból az aktuális hőmérsékletet, és a hőmérséklet alapján pedig vezéreljük a LED-eket."
   ]
  },
  {
   "cell_type": "markdown",
   "metadata": {},
   "source": [
    "## Áramköri elemek listája"
   ]
  },
  {
   "cell_type": "markdown",
   "metadata": {},
   "source": [
    "a) [Raspberry PI](https://malnapc.hu/yis/raspberry-pi/rpi-panelek) \n",
    "\n",
    "b) NTCC 10k szenzor: [itt vásárolhatsz](https://www.tme.eu/hu/details/ntcc-10k/tht-ntc-merotermisztorok/sr-passives/)\n",
    "\n",
    "c) [Jumper wires female/male](https://www.ret.hu/shop/product/e-call/jumper-vezetek-szet_53-22-63) \n",
    "\n",
    "d) Ellenállás: [itt vásárolhatsz](https://www.tme.eu/hu/katalog/metal-film-tht-ellenallasok_112313/?s_order=desc&search=ellenallas&s_field=1000011)\n",
    "\n",
    "e) MCP3008 I/P ADC: [itt vásárolhatsz](https://www.tme.eu/hu/details/mcp3008-i_p/a-d-konverterek-ic-k/microchip-technology/)\n",
    "\n",
    "f) 3db LED (piros, sárga, zöld), $I_{max}$ = 20 mA-es: [itt vásárolhatsz](https://www.tme.eu/hu/katalog/tht-led-diodak-5mm_112898/?s_order=desc&search=led&s_field=1000011)"
   ]
  },
  {
   "cell_type": "markdown",
   "metadata": {},
   "source": [
    "## A kapcsolási rajz"
   ]
  },
  {
   "cell_type": "markdown",
   "metadata": {},
   "source": [
    "<img src=\"schema/prog04_schema.png\" width=800 height=600 />"
   ]
  },
  {
   "cell_type": "markdown",
   "metadata": {},
   "source": [
    "A fenti ábrához hasonlóan kapcsoljuk össze az áramköri elemeket és a Raspberry Pi-t. Az áramkör részletes összekötési magyarázata a [Thermisztorok]() című bevezető leírásban található. **N.B. Ha nem a lent megadott módon kötjük be az ADC-t, akkor figyelni kell arra, hogy a szoftverben a lábak definiálásánál ezt jelezni kell, illetve tudunk kell, hogy akkor nem hardwares SPI kommunikáció lesz.**"
   ]
  },
  {
   "cell_type": "markdown",
   "metadata": {},
   "source": [
    "0) Kössük sorba a NTCC 10k thermisztort és a 10 kOhm ellenállást. A thermisztor üres lábára kapcsoljuk a Raspberry Pi 3.3 V-os tápját, míg az ellenállás üres lábára a földelést. A thermisztor és az ellenállás csatlakozását pedig kössük az MCP3008 CH7-es csatornájára.\n",
    "\n",
    "1) Kössük össze a Raspberry Pi egyik földelését az MCP3008 AGND ás DGND lábaival (fekete drót).\n",
    "\n",
    "2) Kössük az MCP3008 *VDD* és *VREF* nevű lábait a Raspberry Pi 3.3 V-os tüskéjére. \n",
    "\n",
    "3) Kössük az MCP3008 *CLK* nevű lábát a Raspberry Pi *GPIO11* tüskéjére. \n",
    "\n",
    "4) Kössük az MCP3008 *DOUT* nevű lábát a Raspberry Pi *GPIO09* tüskéjére. \n",
    "\n",
    "5) Kössük az MCP3008 *DIN* nevű lábát a Raspberry Pi *GPIO10* tüskéjére.\n",
    "\n",
    "6) Kössük az MCP3008 *CS* nevű lábát a Raspberry Pi *GPIO08* tüskéjére.\n",
    "\n",
    "7) Helyezzük a piros LED lábait két különboző sorba. A katódjának (negatív láb) sorába kössük be az ellenállásunk egyik lábát, míg a másikat kössük a földelésre. Az ellenállás másik lábát kössük a földelésre.\n",
    "\n",
    "8) Ismételjük meg a fenti lépést még kétszer a sárga és a zöld LED-re is, a kapcsolási rajzhoz hasonlóan.\n",
    "\n",
    "9) A piros LED szabadon levő lábát egy jumperrel kössük össze a *GPIO21*-es tüskével, a sárgát a *GPIO20*-sel a zöldet pedig a *GPIO16*-sel."
   ]
  },
  {
   "cell_type": "markdown",
   "metadata": {},
   "source": [
    "## A kód\n",
    "\n",
    "Nyissunk meg egy új python fájlt és mentsük el pl. ```ds18b20_temperature_led_calibrated.py``` név alatt. A ```gpiozero``` csomagnak nincs beépített objektuma ami általánosan a thermisztorokkat tudná kezelni, így minden egyes thermisztorhoz nekünk kell megoldani a szoftveres kommunikációt az adott eszközzel."
   ]
  },
  {
   "cell_type": "markdown",
   "metadata": {},
   "source": [
    "### A thermisztor tesztelése"
   ]
  },
  {
   "cell_type": "markdown",
   "metadata": {},
   "source": [
    "Miután elkészítettük az áramkört, meg kell írnunk a kódot ami utasítja a Raspberry Pi-t, a hőmérséklet kiolvasására.\n",
    "\n",
    "Mivel a thermisztor analóg jelet ad ki, amit a Raspberry Pi nem tud értelmezni, közbe iktatünk egy analóg digitális átalakítót, MCP3008. Ez a chip SPI protokolon keresztül kommunikál és a ```gpiozero``` csomagnak van hozzá objektuma, amit a ```LED``` klasszokkal együtt beimportálunk. "
   ]
  },
  {
   "cell_type": "markdown",
   "metadata": {},
   "source": [
    "A konvertert először inicializáljuk (a dokumentációban több példa is szerepel, hogy miképp lehet azt megtenni). Bemenő paraméterként megadjuk, hogy a thermisztoros feszültségosztóból kiolvasott feszültséget a 7-es csatornára csatlakoztattuk. Teszteléshez elég meghívni az objektum ```voltage``` metódusát, amit kiírathatunk a képernyőre."
   ]
  },
  {
   "cell_type": "markdown",
   "metadata": {},
   "source": [
    "```ds18b20_temperature_led_calibrated.py```:"
   ]
  },
  {
   "cell_type": "code",
   "execution_count": 2,
   "metadata": {},
   "outputs": [],
   "source": [
    "from gpiozero import MCP3008, LED\n",
    "\n",
    "mcp = MCP3008(channel=7)\n",
    "\n",
    "while True:\n",
    "\tprint(mcp.voltage)              "
   ]
  },
  {
   "cell_type": "markdown",
   "metadata": {},
   "source": [
    "### LED-ek tesztelése"
   ]
  },
  {
   "cell_type": "markdown",
   "metadata": {},
   "source": [
    "Az objektum beolvasása után inicializálunk egy ```LED``` objektumot, amit ```red```-nek, ```yellow```-nak és ```green```-nek nevezünk el. Egyben megmondjuk a LED-eknek, hogy a *21*-es, *20*-as és *16*-os számú **GPIO** tüskére kötöttük. Egy listába gyűjtjük őket és a listán lépegetve kapcsoljuk be és ki egyenként a LED-eket."
   ]
  },
  {
   "cell_type": "markdown",
   "metadata": {},
   "source": [
    "```ds18b20_temperature_led_calibrated.py```:"
   ]
  },
  {
   "cell_type": "code",
   "execution_count": null,
   "metadata": {},
   "outputs": [],
   "source": [
    "from gpiozero import MCP3008, LED\n",
    "\n",
    "mcp = MCP3008(channel=7)\n",
    "red = LED(21)\n",
    "yellow = LED(20)\n",
    "green = LED(16)\n",
    "\n",
    "leds = [red, yellow, green]\n",
    "\n",
    "for led in leds:\n",
    "    led.on()\n",
    "    \n",
    "for led in leds:\n",
    "    led.off()"
   ]
  },
  {
   "cell_type": "markdown",
   "metadata": {},
   "source": [
    "### Függvények importálása modulokból"
   ]
  },
  {
   "cell_type": "markdown",
   "metadata": {},
   "source": [
    "Pythonban modulnak nevezzük azokat a fájlokat amik Python kódot tartalmaznak, pl. függvényeket, globális változókat, klasszokat stb. Ezek a fájlok ```.py``` kiterjesztéssel kell rendelkezzenek. \n",
    "\n",
    "Csomagnak (package) nevezzük azon mappákat, amikben modulok gyűjteménye van. Ilyen csomag pl. az általunk gyaktran használt ```gpiozero```. \n",
    "\n",
    "Modulokat főleg arra használjuk, hogy kisebb egységekre bontsunk terebélyesebb kódokat, illetve fontos szerepet játszanak még a különböző kódrészletek újrahasznosításában. Ez utóbbi tulajdonságot használjuk ki mi is, hiszen egy olyan függvényt fogunk beimportálni egy fájlból (modulból), amit ezek előtt rengetegszer használtunk, de minden egyes alkalommal a kódunkban definiáltuk. "
   ]
  },
  {
   "cell_type": "markdown",
   "metadata": {},
   "source": [
    "Ebben a projektben is egy fájl tartalmát szeretnénk pythonba beolvasni, így a ```read_temp_raw``` függvényt átmásoltuk egy fájlba, aminek a neve ```temperature_functions.py```:"
   ]
  },
  {
   "cell_type": "markdown",
   "metadata": {},
   "source": [
    "```temperature_functions.py```:"
   ]
  },
  {
   "cell_type": "code",
   "execution_count": 16,
   "metadata": {},
   "outputs": [],
   "source": [
    "def read_temp_raw(file_name):\n",
    "    f = open(file_name, 'r')\n",
    "    lines = f.readlines()\n",
    "    f.close()\n",
    "    return lines"
   ]
  },
  {
   "cell_type": "markdown",
   "metadata": {},
   "source": [
    "A függvény modulból való beimportálásához szükség, hogy az adott fájl amin dolgozunk, ugyanabban a mappában legyen, ahol a modul van elmentve. Amennyiben ez nem teljesül, akkor a python megnézi, hogy milyen helyek/útvonalak vannak definiálva a ```sys.path``` listában és azokon a helyeken kezdi keresni az általunk megadott modul nevet."
   ]
  },
  {
   "cell_type": "markdown",
   "metadata": {},
   "source": [
    "A modul importálás ugyanúgy működik, mint bármi más importálás. Mi pl. a modulból (```from```) egy függvényt fogunk importálni:"
   ]
  },
  {
   "cell_type": "code",
   "execution_count": null,
   "metadata": {},
   "outputs": [],
   "source": [
    "from temperature_functions import read_temp_raw"
   ]
  },
  {
   "cell_type": "markdown",
   "metadata": {},
   "source": [
    "Vegyük észre, hogy a modul nevében nincs benne a .py kiterjesztés az importáláskor, csak a modul nevét adjuk meg. "
   ]
  },
  {
   "cell_type": "markdown",
   "metadata": {},
   "source": [
    "### Hőmérséklet és ellenállás adatsor kinyerése"
   ]
  },
  {
   "cell_type": "markdown",
   "metadata": {},
   "source": [
    "A hőmérséklet és az ellenállás közti összefüggés thermisztorra jellemző. Érdemes megnézni az adott thermisztor [adatlapját](https://www.tme.eu/Document/f06e7f4c0fd5fd1c49c3e9fd8ceb0529/NTCC-10K.pdf) ami tartalmazza ezt az összefüggést. Kimentve az ott tárolt adatokat egy ```ntcc.csv``` nevű fájlba, már csak be kell olvasnunk. A fájl első sora fejlécként szolgál, leírja, hogy melyik oszlop milyen adatokat tartalmaz. Erre készítjük el a ```read_mapping(name)``` függvényt. "
   ]
  },
  {
   "cell_type": "code",
   "execution_count": 17,
   "metadata": {},
   "outputs": [],
   "source": [
    "def read_mapping(name):\n",
    "\tdata = read_temp_raw(name)     # fajl beolvasasa\n",
    "\tdata.pop(0)                    # fejlec eltorlese\n",
    "\ttc = []                        # ures homerseklet tarolo \n",
    "\tr = []                         # ures ellenallas tarolo\n",
    "\tfor line in data:              # beolvasott sorokon lepkedes\n",
    "        # ures helyek eltorlese es vessze menten listaba bontas\n",
    "\t\tclean_data = line.strip().split(',')  \n",
    "        # homerseklet lista bovitese, stringek szamokka alakitasa\n",
    "\t\ttc.append(float(clean_data[0])) \n",
    "        # ellenallas lista bovitese, stringek szamokka alakitasa, mertekegyseg valtas\n",
    "\t\tr.append(float(clean_data[1])*1000)\n",
    "\treturn np.array(tc), np.array(r)  # numpy.array letrehozasa"
   ]
  },
  {
   "cell_type": "markdown",
   "metadata": {},
   "source": [
    "Bemenő paraméternek a fájl nevét adjuk meg, amit rögtön az első sorban be is olvasunk. A fájl fejléce lesz a kapott lista első eleme, amire nincs szükségünk az adatsorban, úgyhogy azt azonnal el is távolítjuk a ```data.pop(0)``` paranccsal. Ezután létrehozunk két üres listát, ```tc, r```, amik a hőmérséklet adatokat és a hozájuk tartozó ellenállásokat fogják tárolni. Egy ```for``` ciklusban végiglépkedünk a beolvasott adatsoron és mindegyik sort megtisztítjuk az üres helyektől és a vesszők mentén szétválasztjuk őket egy listába, ```clean_data = line.strip().split(',')```. Mivel a beolvasott értékek string típusúak, ezért át kell őket alakítani számokba. Először a hőmérséklet értékeket rögzítjük a tárolóban, ```tc.append(float(clean_data[0]))```, majd az ellenállás értékeket, ```r.append(float(clean_data[1])*1000)```. Az ellenállások a táblázatban kOhm-ban vannak megadva, így beszorozzuk őket ezerrel, hogy Ohm mértékegységűek legyenek, majd mindkét listát visszaadjuk ```numpy.array``` formában. "
   ]
  },
  {
   "cell_type": "markdown",
   "metadata": {},
   "source": [
    "#### Numpy.array előnyei"
   ]
  },
  {
   "cell_type": "markdown",
   "metadata": {},
   "source": [
    "A ```numpy``` csomag abban segít, hogy egy lista elemein a matematikai műveleteket ne egyenként kelljen elvégeznünk, mint egy alap lista típussal, hanem egy sor begépelésével. Létrehozunk egy alap python listát, 0-tól 9-ig terjedő számokkal. Nézzük mi lesz, ha beszorozzuk a listát kettővel:"
   ]
  },
  {
   "cell_type": "code",
   "execution_count": 5,
   "metadata": {},
   "outputs": [
    {
     "name": "stdout",
     "output_type": "stream",
     "text": [
      "[0, 1, 2, 3, 4, 5, 6, 7, 8, 9]\n",
      "[0, 1, 2, 3, 4, 5, 6, 7, 8, 9, 0, 1, 2, 3, 4, 5, 6, 7, 8, 9]\n"
     ]
    }
   ],
   "source": [
    "import numpy as np\n",
    "a = list(range(10))   # lista letrehozasa\n",
    "print(a)              # lista megjelenitese\n",
    "print(a*2)            # lista kibovitese onmagaval"
   ]
  },
  {
   "cell_type": "markdown",
   "metadata": {},
   "source": [
    "Az alap python lista esetében a szorzás művelet azt jelenti, hogy bővítsük ki az eredeti listánkat önmagának másolatával. De ha valójában egy matematikai műveletet szerettünk volna elvégezni akkor érdemesebb a ```numpy``` csomagot használni. "
   ]
  },
  {
   "cell_type": "code",
   "execution_count": 7,
   "metadata": {},
   "outputs": [
    {
     "name": "stdout",
     "output_type": "stream",
     "text": [
      "[0 1 2 3 4 5 6 7 8 9]\n",
      "<class 'numpy.ndarray'>\n",
      "[ 0  2  4  6  8 10 12 14 16 18]\n",
      "[ 0  1  4  9 16 25 36 49 64 81]\n",
      "[0.         1.         1.41421356 1.73205081 2.         2.23606798\n",
      " 2.44948974 2.64575131 2.82842712 3.        ]\n"
     ]
    }
   ],
   "source": [
    "a = np.array(a)    # numpy.array letrehozasa\n",
    "print(a)\n",
    "print(type(a))\n",
    "print(a*2)         # szamsor elemeinek duplazasa\n",
    "print(a**2)        # szamsor elemeinek negyzetre emelese\n",
    "print(np.sqrt(a))  # szamsor elemeinek negyzetgyoke"
   ]
  },
  {
   "cell_type": "markdown",
   "metadata": {},
   "source": [
    "Ha van két ```numpy.array```-ünk, és azok hossza megegyezik egymással, akkor mindenféle matematikai műveletet el lehet velük végezni. Pl. Elemenként össze lehet őket szorozni, vagy akár osztani is."
   ]
  },
  {
   "cell_type": "code",
   "execution_count": 13,
   "metadata": {},
   "outputs": [
    {
     "name": "stdout",
     "output_type": "stream",
     "text": [
      "Length(a) = 10, Lenth(b) = 10\n",
      "[ 0  3  8 15 24 35 48 63 80 99]\n",
      "[0.         0.33333333 0.5        0.6        0.66666667 0.71428571\n",
      " 0.75       0.77777778 0.8        0.81818182]\n"
     ]
    }
   ],
   "source": [
    "b = np.array([2,3,4,5,6,7,8,9,10, 11])\n",
    "print(f'Length(a) = {len(a)}, Lenth(b) = {len(b)}')\n",
    "print(a*b)\n",
    "print(a/b)"
   ]
  },
  {
   "cell_type": "markdown",
   "metadata": {},
   "source": [
    "A ```numpy.array``` típust könnyebben és gyorsabban használhatjuk a számításaink elvégzésére."
   ]
  },
  {
   "cell_type": "markdown",
   "metadata": {},
   "source": [
    "### Ellenállás kiszámolása a feszültségosztóból"
   ]
  },
  {
   "cell_type": "markdown",
   "metadata": {},
   "source": [
    "A thermisztorok bevezetőjében már tárgyaltuk a feszültségosztó elrendezést. Az egyenleteket kicsit átrendezve, és ismerve a konstans ellenállás értékét $R_S$, a tápfeszültség értékét $V_{IN}$ és a thermisztoron levő feszültség értékét $V_{OUT}$, kiszámolhatjuk a thermisztor aktuális ellenállását, $R_{TH} = \\frac{R_S * V_{OUT}}{V_{IN} - V_{OUT}}$."
   ]
  },
  {
   "cell_type": "code",
   "execution_count": 14,
   "metadata": {},
   "outputs": [],
   "source": [
    "def voltage2resistance(v_out, v_in=3.3, r=9.82e3):\n",
    "\treturn r * v_out / (v_in - v_out)"
   ]
  },
  {
   "cell_type": "markdown",
   "metadata": {},
   "source": [
    "A fenti fénybe a bemenő értékeknek ```numpy.array```-nek kell lenni, hogy a műveletek az elemeken egyenként működjenek. A bemenő tápfeszültség az 3.3 V, mivel arra a tüskére kapcsoltuk a thermisztort, a konstans ellenállás értékét pedig meg kell mérni műszerrel. Javasolt a kb. 10 kOhm érték. Így pl."
   ]
  },
  {
   "cell_type": "code",
   "execution_count": 15,
   "metadata": {},
   "outputs": [
    {
     "data": {
      "text/plain": [
       "array([  15107.69230769, -333880.        ,  -26875.78947368,\n",
       "        -21822.22222222])"
      ]
     },
     "execution_count": 15,
     "metadata": {},
     "output_type": "execute_result"
    }
   ],
   "source": [
    "vout=np.array([2,3.4,5.2,6])\n",
    "voltage2resistance(vout)"
   ]
  },
  {
   "cell_type": "markdown",
   "metadata": {},
   "source": [
    "A kapott értékek Ohmba értendők, amennyiben a függvény bemenő paraméterei mind az alap SI mértékegységben voltak megadva. "
   ]
  },
  {
   "cell_type": "markdown",
   "metadata": {},
   "source": [
    "### Hőmérséklet interpolálás"
   ]
  },
  {
   "cell_type": "markdown",
   "metadata": {},
   "source": [
    "A thermisztoron levő feszültség mérésével kiszámolható a thermisztor ellenállása a fenti függvény segítségével. Ha rendelkezünk az ellenállás értékével, és beolvastuk már a thermisztorra jellemző hőmérséklet-ellenállás táblázatot, akkor a táblázat alapján megbecsülhetjük, hogy mekkora hőmérsékletet is mért.  "
   ]
  },
  {
   "cell_type": "markdown",
   "metadata": {},
   "source": [
    "#### Interpolálás"
   ]
  },
  {
   "cell_type": "markdown",
   "metadata": {},
   "source": [
    "Az interpoláció matematikai közelítő módszer, amely egy függvény nem ismert értékeire az ismert értékek alapján ad közelítést. Pythonban a ```scipy.interpolate``` csomagból az ```interp1d``` függvényt használjuk, aminél három bemenő paraméter van, a) az új érték(ek) aminél szeretnénk kivizsgálni a függvényt, b) az ismert *x* értékek és a c) hozzá tartozó ismert *y* értékek. "
   ]
  },
  {
   "cell_type": "markdown",
   "metadata": {},
   "source": [
    "Példaként definiáljunk egy parabolát 11 megadott pontban, majd keressük meg a parabola értéket egy új eddig nem használt pontban:"
   ]
  },
  {
   "cell_type": "code",
   "execution_count": 18,
   "metadata": {},
   "outputs": [
    {
     "name": "stdout",
     "output_type": "stream",
     "text": [
      "[93 67 45 27 13  3 -3 -5 -3  3 13]\n"
     ]
    }
   ],
   "source": [
    "from scipy.interpolate import interp1d\n",
    "x = np.array([-5,-4,-3,-2,-1,0,1,2,3,4,5])\n",
    "y = 2*x**2 - 8*x + 3\n",
    "print(y)"
   ]
  },
  {
   "cell_type": "markdown",
   "metadata": {},
   "source": [
    "Felhasználva az ```interp1d``` függvényt az lineáris összefüggést feltételezve az egymást követő pontok között megbecsüli, hogy két definiált közötti új pontnál milyen értéket vesz fel a függvény. Az ```f = interp1d(x, y)``` kifejezés egy függvényt hoz létre, aminek új *x* paramétereket adva kiszámolja, hogy az új helyeken mekkora a függvény értéke. \n",
    "\n",
    "Interpoláláshoz meg kell adnunk új értékeket ```new_x```, amelyekhez tartozó parabolaértékekre kíváncsiak vagyunk. "
   ]
  },
  {
   "cell_type": "code",
   "execution_count": 19,
   "metadata": {},
   "outputs": [
    {
     "data": {
      "text/plain": [
       "array([20.,  0.])"
      ]
     },
     "execution_count": 19,
     "metadata": {},
     "output_type": "execute_result"
    }
   ],
   "source": [
    "f = interp1d(x, y)\n",
    "new_x = np.array([-1.5, 3.5])\n",
    "f(new_x)"
   ]
  },
  {
   "cell_type": "markdown",
   "metadata": {},
   "source": [
    "Szemléltetés miatt, lejjebb bemutatjuk, hogy néz ki az eredeti parabola (kék vonal) és a megbecsült új *x* értékekhez tartozó *y* értékek (piros pontok). Amint láthatjuk, a piros pontok szépen illeszkednek a kék vonalhoz, azaz jó becslést adnak."
   ]
  },
  {
   "cell_type": "code",
   "execution_count": 33,
   "metadata": {},
   "outputs": [
    {
     "data": {
      "text/plain": [
       "<matplotlib.legend.Legend at 0x22180cf41d0>"
      ]
     },
     "execution_count": 33,
     "metadata": {},
     "output_type": "execute_result"
    },
    {
     "data": {
      "image/png": "[encoded data removed]",
      "text/plain": [
       "<Figure size 432x288 with 1 Axes>"
      ]
     },
     "metadata": {
      "needs_background": "light"
     },
     "output_type": "display_data"
    }
   ],
   "source": [
    "import matplotlib.pyplot as plt\n",
    "\n",
    "plt.plot(x,y, 's-', label='parabola')\n",
    "plt.plot(new_x, f(new_x), 'or', label = 'interpolalt ertekek')\n",
    "plt.legend()"
   ]
  },
  {
   "cell_type": "markdown",
   "metadata": {},
   "source": [
    "Az a módszer főleg akkor alkalmazható biztonságosan, ha az eredeti *x* értékek elég közel állnak egymáshoz, azaz a függvény folytonossága nem nagyon törik meg. "
   ]
  },
  {
   "cell_type": "markdown",
   "metadata": {},
   "source": [
    "#### Interpolálás függvény"
   ]
  },
  {
   "cell_type": "code",
   "execution_count": 31,
   "metadata": {},
   "outputs": [],
   "source": [
    "temp, res = read_mapping('ntcc.csv')"
   ]
  },
  {
   "cell_type": "markdown",
   "metadata": {},
   "source": [
    "A mi esetünkben az ismert értékek a hőmérséklet-ellenállás táblázat. "
   ]
  },
  {
   "cell_type": "code",
   "execution_count": 23,
   "metadata": {},
   "outputs": [],
   "source": [
    "def interpolate_temperature(resistance, tc, r):\n",
    "\tf = interp1d(r,tc)\n",
    "\treturn f(resistance)"
   ]
  },
  {
   "cell_type": "code",
   "execution_count": 30,
   "metadata": {},
   "outputs": [
    {
     "data": {
      "text/plain": [
       "array([85.        , 25.        , -7.22701354])"
      ]
     },
     "execution_count": 30,
     "metadata": {},
     "output_type": "execute_result"
    }
   ],
   "source": [
    "new_resistance = np.array([1000, 10000, 50000])  # Ohm mertekegysegben\n",
    "interpolate_temperature(new_resistance, temp, res)"
   ]
  },
  {
   "cell_type": "markdown",
   "metadata": {},
   "source": [
    "Láthatjuk, hogy az interpolálás a beadott 3 új ellenállás értékhez 3 hőmérsékletet rendelt, 1000 Ohm - 85 $^\\circ$C; 10 kOhm - 25 $^\\circ$C; 50 kOhm - -7.2 $^\\circ$C."
   ]
  },
  {
   "cell_type": "markdown",
   "metadata": {},
   "source": [
    "### LED-ek vezérlése"
   ]
  },
  {
   "cell_type": "markdown",
   "metadata": {},
   "source": [
    "Végül már csak egy függvényt kell írnunk ami a becsült hőmérséklet alapján vezérli a LED-eket. A függvényünknek, ```lightning(temp, leds=[green, yellow, red])```, két bemenő paramétere van. Az első a becsült hőmérséklet, a második pedig egy lista, ami az inicializált LED-eket tartalmazza majd. A LED-ek sorrendje fontos, az első a zöld, a második a sárga, míg a harmadik a piros. "
   ]
  },
  {
   "cell_type": "markdown",
   "metadata": {},
   "source": [
    "A függvény belseje lényegében vezérli a LED-eket annak függvényében, hogy épp mekkora a hőmérséklet. A következő szabályt fogják a LED-ek követni:"
   ]
  },
  {
   "cell_type": "markdown",
   "metadata": {},
   "source": [
    "* T < 25 $^\\circ$C - nem világít egyik LED sem\n",
    "* 25 $^\\circ$C $\\geq$ T < 28 $^\\circ$C - zöld LED világít\n",
    "* 28 V $\\leq$ T < 32 $^\\circ$C - zöld és sárga LED-ek világítanak\n",
    "* T $\\geq$ 32 $^\\circ$C - mind a három LED világít."
   ]
  },
  {
   "cell_type": "code",
   "execution_count": 40,
   "metadata": {},
   "outputs": [],
   "source": [
    "def lightning(temp, leds=[green, yellow, red]):\n",
    "\tif temp < 25:\n",
    "\t\tfor led in leds:\n",
    "\t\t\tled.off()\n",
    "\telif temp < 28 and temp >= 25:\n",
    "\t\tleds[0].on()\n",
    "\t\tleds[1].off()\n",
    "\t\tleds[2].off()\n",
    "\telif temp < 32 and temp >= 28:\n",
    "\t\tleds[0].on()\n",
    "\t\tleds[1].on()\n",
    "\t\tleds[2].off()\n",
    "\telif temp >= 32:\n",
    "\t\tleds[0].on()\n",
    "\t\tleds[1].on()\n",
    "\t\tleds[2].on()"
   ]
  },
  {
   "cell_type": "markdown",
   "metadata": {},
   "source": [
    "### A teljes kód"
   ]
  },
  {
   "cell_type": "markdown",
   "metadata": {},
   "source": [
    "Már csak az eddig leírtak összetákolása van hátra kiegészítve egy kis mérési utasítással. Kommentelt sorok jelzik az új elemeket a kódban."
   ]
  },
  {
   "cell_type": "markdown",
   "metadata": {},
   "source": [
    "A python csomagok és modulok beimportálása és a segéd függvények definiálása után, elsőként beolvassuk a hőmérséklet-ellenállás táblázatot, ```tc, resistance = read_mapping('ntcc.csv')```. Ezután elindítunk egy végtelen ```while``` ciklust, amiben először kiolvassuk a mért feszültséget a thermisztoron, és az alapján meghatározzuk a thermisztor ellenállásának értékét, ```rt = voltage2resistance(mcp.voltage, v_in=3.3, r=9.82e3)```. Ha meg van az ellenállás, a táblázatból interpolálással megkapjuk a hozzá tartozó hőmérsékletet, ```t_therm = interpolate_temperature(rt, tc, resistance)```. A hőmérséklet birtokában pedig vezérelhetjük a LED-eket, ```lightning(t_therm, leds=[green, yellow, red])```. Mint fejlesztők, hogy ellenőrízni tudjuk a vezérlést, hogy jól működik-e, a képernyőre kiíratjuk a mért hőmérsékletet, így láthatjuk, hogy mekkora hőfokon kapcsolnak a LED-ek. "
   ]
  },
  {
   "cell_type": "markdown",
   "metadata": {},
   "source": [
    "```ds18b20_temperature_led_calibrated.py```:"
   ]
  },
  {
   "cell_type": "code",
   "execution_count": null,
   "metadata": {},
   "outputs": [],
   "source": [
    "from gpiozero import MCP3008, LED\n",
    "import numpy as np\n",
    "from scipy.interpolate import interp1d\n",
    "from temperature_functions import read_temp_raw\n",
    "\n",
    "\n",
    "mcp = MCP3008(channel=7)\n",
    "red = LED(21)\n",
    "yellow = LED(20)\n",
    "green = LED(16)\n",
    "\n",
    "\n",
    "def read_mapping(name):\n",
    "\tdata = read_temp_raw(name)\n",
    "\tdata.pop(0)\n",
    "\ttc = []\n",
    "\tr = []\n",
    "\tfor line in data:\n",
    "\t\tclean_data = line.strip().split(',')\n",
    "\t\ttc.append(float(clean_data[0]))\n",
    "\t\tr.append(float(clean_data[1])*1000)\n",
    "\treturn np.array(tc), np.array(r)\n",
    "\t\n",
    "def voltage2resistance(v_out, v_in=3.3, r=9.82e3):\n",
    "\treturn r * v_out / (v_in - v_out)\n",
    "\n",
    "def interpolate_temperature(resistance, tc, r):\n",
    "\tf = interp1d(r,tc)\n",
    "\treturn f(resistance)\n",
    "\t\n",
    "def lightning(temp, leds=[green, yellow, red]):\n",
    "\tif temp < 23:\n",
    "\t\tfor led in leds:\n",
    "\t\t\tled.off()\n",
    "\telif temp < 28 and temp >= 23:\n",
    "\t\tleds[0].on()\n",
    "\t\tleds[1].off()\n",
    "\t\tleds[2].off()\n",
    "\telif temp < 32 and temp >= 28:\n",
    "\t\tleds[0].on()\n",
    "\t\tleds[1].on()\n",
    "\t\tleds[2].off()\n",
    "\telif temp >= 32:\n",
    "\t\tleds[0].on()\n",
    "\t\tleds[1].on()\n",
    "\t\tleds[2].on()\n",
    "\n",
    "\n",
    "tc, resistance = read_mapping('ntcc.csv')   # homerseklet-ellenallas tablazat\n",
    "\n",
    "while True:\n",
    "    # mert feszultseget ellenallasa atszamolni\n",
    "\trt = voltage2resistance(mcp.voltage, v_in=3.3, r=9.82e3)\n",
    "    # ellenallasertek alapjan megbecsulni a homersekletet\n",
    "\tt_therm = interpolate_temperature(rt, tc, resistance)\n",
    "    # homerseklet alapjan vezerelni a LED-eket\n",
    "\tlightning(t_therm, leds=[green, yellow, red])\n",
    "    # kiirni a homerseklet erteket a kepernyore\n",
    "\tprint(t_therm)"
   ]
  },
  {
   "cell_type": "markdown",
   "metadata": {},
   "source": [
    "## A projekt tesztelése"
   ]
  },
  {
   "cell_type": "markdown",
   "metadata": {},
   "source": [
    "Miután összeszereltük az áramkört és a kódot is megírtuk, amit pl. ```ds18b20_temperature_led_calibrated.py``` név alatt mentettünk el, megnyithatunk a Raspberry Pi operációs rendszerén egy terminált. A terminálban a ```cd 'mappa név'``` paranccsal elnavigálunk abba a mappába, ahova a ```ds18b20_temperature_led_calibrated.py```-t elmentettük. Ott begépelve a ```python ds18b20_temperature_led_calibrated.py``` parancsot, letesztelhetjük a programunk működését. Ha minden jól megy akkor a program elindításával és a thermisztor megfogásával a képernyőre kinyomtatódik az aktuális hőmérséklet, és bizonyos szinteket elérve az aktiválja a különböző színű LED-eket a megfelelő sorrendben. \n",
    "\n",
    "Hibaüzenetek esetén ki kell deríteni mi lehetett a probléma, pl. elgépelés, egy modul hiányzik, sorok megfelelő behúzása, idézőjel lemaradása stb. A hibaüzenet legtöbbször segít abban, hogy melyik sorban találta a hibát és hogy mi volt az. Egy kis gyakorlással bele lehet jönni azok értelmezésébe, valamint interneten is rá lehet keresni a hibaüzenet jelentésére és annak lehetséges elhárítására."
   ]
  },
  {
   "cell_type": "markdown",
   "metadata": {},
   "source": [
    "## Mit lehet javítani/továbbfejleszteni?"
   ]
  },
  {
   "cell_type": "markdown",
   "metadata": {},
   "source": [
    "* Írjuk át egy fájlba azt a függvényt amivel kinyerjük a hőmérséklet-ellenállás összefüggést és importáljuk be azt a függvényt is.\n",
    "* Írjuk át a ```lightning``` függvényt úgy, hogy bemenő paraméterként megadhassuk a LED-eket vezérlő hőmérséklet limitek értékeit.\n",
    "\n",
    "Írd meg kommentben, hogy szerinted mivel lehetne még feldobni ezt a kis programot!"
   ]
  },
  {
   "cell_type": "markdown",
   "metadata": {},
   "source": [
    "## Referencia"
   ]
  },
  {
   "cell_type": "markdown",
   "metadata": {},
   "source": [
    "1) https://tutorials-raspberrypi.com/mcp3008-read-out-analog-signals-on-the-raspberry-pi/\n",
    "\n",
    "2) MCP3008 - https://gpiozero.readthedocs.io/en/stable/api_spi.html#mcp3008\n",
    "\n",
    "3) LED objektum leírása - https://gpiozero.readthedocs.io/en/stable/api_output.html#led\n",
    "\n",
    "4) if-else leírás - https://www.programiz.com/python-programming/if-elif-else\n",
    "\n",
    "5) modul importálás - https://www.programiz.com/python-programming/modules\n",
    "\n",
    "6) interpolálás - https://docs.scipy.org/doc/scipy/reference/tutorial/interpolate.html\n",
    "\n",
    "7) numpy array használata - https://numpy.org/doc/stable/reference/generated/numpy.array.html\n",
    "\n",
    "8) string műveletek - https://www.programiz.com/python-programming/string"
   ]
  },
  {
   "cell_type": "code",
   "execution_count": null,
   "metadata": {},
   "outputs": [],
   "source": []
  }
 ],
 "metadata": {
  "kernelspec": {
   "display_name": "Python 3",
   "language": "python",
   "name": "python3"
  },
  "language_info": {
   "codemirror_mode": {
    "name": "ipython",
    "version": 3
   },
   "file_extension": ".py",
   "mimetype": "text/x-python",
   "name": "python",
   "nbconvert_exporter": "python",
   "pygments_lexer": "ipython3",
   "version": "3.7.3"
  },
  "toc": {
   "base_numbering": 1,
   "nav_menu": {},
   "number_sections": true,
   "sideBar": true,
   "skip_h1_title": false,
   "title_cell": "Table of Contents",
   "title_sidebar": "Contents",
   "toc_cell": false,
   "toc_position": {},
   "toc_section_display": true,
   "toc_window_display": false
  }
 },
 "nbformat": 4,
 "nbformat_minor": 2
}
