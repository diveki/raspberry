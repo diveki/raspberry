{
 "cells": [
  {
   "cell_type": "markdown",
   "metadata": {},
   "source": [
    "# Bevezető - Hőmérséklet szenzorok"
   ]
  },
  {
   "cell_type": "markdown",
   "metadata": {},
   "source": [
    "## Hőmérséklet mérés"
   ]
  },
  {
   "cell_type": "markdown",
   "metadata": {},
   "source": [
    "A hőmérséklet az egy nehezen megfogható dolog, hiszen általában viszonyítással határozzuk meg, hogy valami meleg vagy hideg. Ennek ellenére nagy jelentősséggel bír a mindennapi életünkben és ez így volt a történelem minden részében. A mezőgazdaságban nélkülözhetetlen egy adott nap hőmérsékletének ismerete, illetve az évszakok periódikus változása (ami általában átlagos hőmérséklet változással is jár). Az orvostudományban is fontos a test hőmérsékletének mérése illetve vannak gyógyszerek amiket csak adott hőmérséklet alatti környezetben lehet tárolni. Még ezer más területet fel lehetne hozni példának. \n",
    "\n",
    "A hőmérséklet mérése a 17. századig nem volt standardizálva. Ekkor kezdték kifejleszteni azokat az eszközöket, amik általában az anyag egy fizikai tulajdonságának változását mérték hőmérséklet változás hatására. A legismertebb hőmérő talán a higanyos hőmérő. A hőmérséklet növekedésére egy üvegcsében levő higany tágulni kezd és ennek a mértéke arányos a hőmérséklettel.\n",
    "\n",
    "A technológia fejlődésével rengeteg fajta hőmérséklet szenzort fejlesztettek ki. Csak, hogy néhányat említsünk:\n",
    "\n",
    "* Thermoelem - két különböző elektromos vezető találkozásánál feszültségkülönbség jön létre, ami a vezetők hőmérsékletével arányosan változik. \n",
    "* Ellenállás hőmérő (resistance temperature detectors, RTD) - ellenálások amik alkotóanyaga tiszta fémek, alkatrészek, amik ellenállás értéke a hőmérséklet változásával jól meghatározható formában változik.\n",
    "* Thermisztorok - nagyrészt polimerből vagy kerámiából készült anyagok, amik ellenállása jól definiálhatóan változik a hőmérséklettek.\n",
    "* Infravörös hőmérők - az anyag hőmérsékleti (infravörös) sugárzását mérik és nem igényelnek kontaktot a mérendő anyaggal.\n",
    "\n",
    "A projektjeink folyamán mi thermisztorokat fogunk használni."
   ]
  },
  {
   "cell_type": "markdown",
   "metadata": {},
   "source": [
    "## Thermisztorok"
   ]
  },
  {
   "cell_type": "markdown",
   "metadata": {},
   "source": [
    "Amint láthattuk a thermisztorok és az ellenállás hőmérők (RTD) működlsüket tekintve hasonlítanak egymáshoz, de mégis van jó néhány különbség.\n",
    "\n",
    "Az RTD-k főként fémből, míg a thermisztorok leginkább félvezetőkből készülnek. Az RTD-k nagy hőmérséklet intervallumon mérnek, -230 C-tól 660 C-ig, főként az iparban használják őket, kicsi a felbontásuk és lassan reagálnak a hőmérséklet változásra. A thermistorok inkább a -60 C-tól 130 C-ig mérnek, inkább műszerekben használják őket, nagy felbontással rendelkeznek és gyorsan reagálnak a hőmérséklet változásra. Nagyon fontos, hogy az RTD-k ellenállása linearisan változik a hőmérséklettel, míg a thermistorok ellenállása nem-linearisan.\n",
    "\n",
    "Megkülönböztetjük az NTC (negative temperature coefficient) és a PTC (positive temperature coefficient) thermisztorokat.\n",
    "\n",
    "* NTC thermisztor - a hőmérséklet növekedésével csökken az ellenállása, míg a hőmérséklet csökkenésével növekszik az ellenállása. A 10 kOhm körüli thermisztorok normál hőmérséklet mérésére használandók különböző eszközökben. A nagyobb ellenállású thermisztorokat nagy áramerősségű áramkörökben használják, hogy a kezdeti nagy áramlöketnek ellenálljon és megvédje az áramkört, majd a nagy áramerősség hatására melegszik és lassan csökkenti az ellenállását, így beszabályozva a rajta átfolyó nagy áramerősség értékét. \n",
    "\n",
    "* PTC thermisztor - ellenállása a hőmérséklet változásának irányába változik. Megakadályozza, hogy az áramkörökbe nagy áramerősségek folyannak. Egy konstans feszültségen, ha nagy áramerősség érkezik erre a thermisztorra, akkor elkezd melegedni, aminek hatására megnő az ellenállása, így limitálva a rajta áthaladó áramerősséget. "
   ]
  },
  {
   "cell_type": "markdown",
   "metadata": {},
   "source": [
    "### Thermisztor és a feszültségosztó"
   ]
  },
  {
   "cell_type": "markdown",
   "metadata": {},
   "source": [
    "Alapjáraton a thermisztor nem mutat ki hőmérsékletet, arra a rajta eső feszültségből kell következtetnünk. Ehhez használunk feszültségosztót. Egy ismert ellenállást $R_S$ és a thermistort $R_{TH}$ sorba kötve egy konstans feszültségforrásra $V_S$ kapcsoljuk, majd mérjük a feszültséget $V_{OUT}$ a két ellenállás között. Ohm törvényét alkalmazva meghatározhatjuk a thermistor ellenállását az aktuális hőmérsékleten. \n",
    "\n",
    "A sorba kötött ellenállások eredő értéke $R_e = R_S + R_{TH}$. Így az áramkörben az áramerősség, $I = \\frac{V_S}{R_S + R_{TH}}$. Az áramerősséget behelyettesíthetjük a thermistoron mért feszültség képletébe, $V_{OUT} = I\\times R_{TH}$ azaz $V_{OUT} = V_S\\frac{R_{TH}}{R_S + R_{TH}}$. Megmérve a feszültségesést a thermisztoron meghatározhatjuk az előző képletből az aktuális ellenállását. Ezt összehasonlítva az ellenállás-hőmérséklet görbével, kikereshetjük az érzékelt hőmérsékletet."
   ]
  },
  {
   "cell_type": "markdown",
   "metadata": {},
   "source": [
    "<img src=\"bevezeto/divider.gif\" width=300 height=300 />"
   ]
  },
  {
   "cell_type": "markdown",
   "metadata": {},
   "source": [
    "<center>Feszültségosztó thermisztorral. Forrás: https://www.electronics-tutorials.ws/io/thermistors.html<\\center>"
   ]
  },
  {
   "cell_type": "markdown",
   "metadata": {},
   "source": [
    "<img src=\"bevezeto/temperature.gif\" width=300 height=300 />"
   ]
  },
  {
   "cell_type": "markdown",
   "metadata": {},
   "source": [
    "<center>Thermisztor ellenállása a hőmérséklet függvényében. Forrás: https://www.electronics-tutorials.ws/io/thermistors.html<\\center>"
   ]
  },
  {
   "cell_type": "markdown",
   "metadata": {},
   "source": [
    "A fenti ábrából is látható, hogy a thermisztorok nem-lineáris ellenállás változást adnak a hőmérséklet változására.\n",
    "\n",
    "A projektjeinkben 3 fajta thermisztort fogunk használni, a DS18b20-as NTC digitális szenzort, a DHT11 hőmérséklet és páramérő digitális szenzort és "
   ]
  },
  {
   "cell_type": "markdown",
   "metadata": {},
   "source": [
    "### Referencia\n",
    "\n",
    "1) https://www.electronics-tutorials.ws/io/io_3.html\n",
    "\n",
    "2) https://www.electronics-tutorials.ws/io/thermistors.html\n",
    "\n",
    "3) https://circuitglobe.com/difference-between-rtd-and-thermistor.html\n",
    "\n",
    "4) Feszültségosztó thermisztorral - https://www.petervis.com/GCSE_Design_and_Technology_Electronic_Products/Potential_Divider/Potential_Divider_with_Thermistor.html"
   ]
  },
  {
   "cell_type": "markdown",
   "metadata": {},
   "source": [
    "## DS18b20 szenzor"
   ]
  },
  {
   "cell_type": "markdown",
   "metadata": {},
   "source": [
    "A DC motorok az elektromos energiát mechanikus energiává, forgó mozgássá, alakítják egy mágneses mező segítségével. Ezek a legelterjettebb motorfajták, mivel folytonos mozgást biztosítanak, szabályozható az irányuk és sebességük. Általánosságban két részből állnak, sztátor (álló rész) és rotor (forgó rész). \n",
    "\n",
    "Az életünk szinte minden részén megfordulnak ezek a motorok, a ventillátorokban, fúrókban, emelőkben, vonatokban, robotikában stb.\n",
    "\n",
    "Lényegében két fajta DC motort különböztetünk meg:\n",
    "\n",
    "* Szénkefés DC motor (Brushed DC motor) - a szénkeféken keresztül jut az áram a rotor tekercseibe (lásd lejjebb). A szénkefék érintkeznek a rotor tengelyén lévő kommutátorral, ami az áram folyási irányát változtatja a tekercsben. A szervo motor egy speciális, pozíció felismeréssel ellátott DC motor.\n",
    "\n",
    "* Szénkefe nélküli DC motor (Brushless DC motor, BLDC) - ebben a típusban a rotoron állandó mágnesek vannak a sztátoron pedig a tekercsek. A kommutálást itt Hall-kapcsolókkal oldják meg, elektronikusan. Általánosságban ezeknek jobb a forgatónyomaték és sebesség karakterisztikáik, és hosszabb az élettartalmuk, de drágábbak is."
   ]
  },
  {
   "cell_type": "markdown",
   "metadata": {},
   "source": [
    "### Hogyan működnek a DC motorok?"
   ]
  },
  {
   "cell_type": "markdown",
   "metadata": {},
   "source": [
    "Az egyenáramú motor működése a mágneses pólusok vonzásán és taszításán alapul. A motor két kivezetésére rákapcsoljuk az áramforrás pozítív és negatív kivezetését. Egy mágneses térben elhelyezett tekercsbe ha áramot vezetünk, akkor az indukálódott elektromágneses mező kölcsönhatásba lép az állandó mágnesek erőterével aminek hatására az amatúra (a tekercs, ami a motor forgó része) elmozdul. Ha az álló és forgórész pólusa azonos akkor vonzzák, ha ellentétes akkor taszítják egymást. A mágneses kölcsönhatást a mágnesek és a tekercsek között a szerkezet úgy állítja be, hogy az állandóan taszító legyen, amíg áram folyik a tekercsekben, így a forgó mozgás biztosított. "
   ]
  },
  {
   "cell_type": "markdown",
   "metadata": {},
   "source": [
    "<img src=\"Electric_motor_cycle_2.png\" width=300 height=300 />"
   ]
  },
  {
   "cell_type": "markdown",
   "metadata": {},
   "source": [
    "<center>Külső rész, sztátor, állandó mágnesek, kék - észeaki pólus, piros - déli pólus; Belső rész a rotor, egy tengelyre rögzített tekerccsel aminek a kivezetései a tengelyen lévő kommutátorhoz vannak kötve; szénkefék a (+) és (-) potenciállal érintkeznek a tengelyen levő kommutátorral. Forrás: CC BY-SA 3.0, https://commons.wikimedia.org/w/index.php?curid=671803</center>"
   ]
  },
  {
   "cell_type": "markdown",
   "metadata": {},
   "source": [
    "A motor sebessége arányos a rákapcsolt feszültséggel, míg a forgatónyomatéka a rajta áthaladó áramerősséggel arányos (amit szabályozni lehet még a tengelyre szerelt fogaskerekekkel). Ha szeretnénk, hogy gyorsabban forogjon, átlagosan nagyobb feszültséget kell rá kapcsolni. Egyik módja ennek az eléréséhez az impulzushossz moduláció (Pulse Width Modulation - PWM). Emellett ha megcseréljük a táp pólusait, felcserélhetjük a motor forgási irányát. Erre is létezik több megoldás, de mi az ún. H-hídakkal fogunk röviden foglalkozni."
   ]
  },
  {
   "cell_type": "markdown",
   "metadata": {},
   "source": [
    "### A DC motorok irányítása"
   ]
  },
  {
   "cell_type": "markdown",
   "metadata": {},
   "source": [
    "A DC motorok megindítása relatív egyszerű, tápfeszültséget kell rájuk kapcsolni és működnek. A hobbi DC motorok 4.5 V-tól 36 V-ig is előfordulhatnak. Ezt a feszültséget kell szabályozni PWM üzzemmódban, hogy a motor sebességét szabályozhassuk. A PWM üzemmódról részletesebben a szervo motorok fejezetben írunk. A szervo motoroknál a PWM üzemmód a motor szögelfordulását szabályozza. \n",
    "\n",
    "Mivel a villanymotorok, ha derektbe kötjük őket az áramra, egy irányba és adott sebességgel forognak, ezért ha irányítani akarjuk, egy motorvezérlő áramkörre, pl. egy úgynevezett H-hídra van szükségünk. Ez egy elektromos áramkör ami a bemenő jeleknek megfelelően viszi át az energiát a motorra. A megfelelő lábakra bekötve a motorunkat, programozással vezérelhetjük a forgás irányát és sebességét. \n",
    "\n",
    "Többfajta motorvezérlő létezik és mindegyiknek más specifikációik vannak, pl. mekkora feszültségtartományon dolgoznak, mekkora áramerősséget képesek elviselni, hány motort lehet rájuk kapcsolni stb. Teljességre való törekvés nélkül felsorolunk néhányat. \n",
    "\n",
    "* DRV8835\n",
    "* ULN2003\n",
    "* L298N\n",
    "* L293D\n",
    "* SN754410.\n",
    "\n",
    "Az adatlapjuk tartalmazza a karakterisztikáikat. \n",
    "\n",
    "Még a kis 5 V-os DC motoroknak is magas kezdő húzó áramerőssége van, elérheti a 300-400 mA-t. Normál működés esetén is lehet akár 150-200 mA. Ezek magas áramerősségek a mikrokontrollerek részére mint az Arduino vagy a Raspberry Pi. Ezért ezeket a motorokat **soha** nem szabad direktbe rájuk kötni, mert az a mikrokontroller károsodásához vezethet. "
   ]
  },
  {
   "cell_type": "markdown",
   "metadata": {},
   "source": [
    "### A DC motor Raspberry Pi-re csatlakoztatása"
   ]
  },
  {
   "cell_type": "markdown",
   "metadata": {},
   "source": [
    "*Nagyon fontos, hogy az áramkör összeszerelését mindig kikapcsolt/áramtalanított Raspberry Pi mellett tegyük meg. Összeszerelés után is többször ellenőrízzük, hogy minden drót a leírtaknak megfelelően lett bekötve. Akár multiméter segítségével ellenőrizhetjük is, hogy egyes csatlakozásoknál a megfelelő feszültséget, áramerősséget mérjük.*"
   ]
  },
  {
   "cell_type": "markdown",
   "metadata": {},
   "source": [
    "A motor vezérlőknek fontos szerepük van a vezérlő számítógép/mikrokontroller megvédésében. A vezérlő jelet a Raspberry Pi-ról kapják a DC motorok míg a meghajtóerőt egy különálló árramforrásról. Evvel biztosítható, hogy nem éri nagyobb áramlöket a Raspberry Pi-t. \n",
    "\n",
    "Ebben a leírásban az L293D motor vezérlőt fogjuk tárgyalni és bemutatni (részletes leírásának linkje ennek a fejezetnek a [14]-es referenciájában található). Ez kettő 4.5-36 V-os DC motor vezérlésére alkalmas. Átlagosan 600 mA-rel (maximálisan 1.2 A-rel) terhelhető. Emellett van neki beépített visszafelé folyó erős áramcsúcsok elleni védelme. \n",
    "\n",
    "Tüskéinek a leosztása az alábbi ábrán látható:"
   ]
  },
  {
   "cell_type": "markdown",
   "metadata": {},
   "source": [
    "<img src=\"L293D.png\" width=300 height=300 />"
   ]
  },
  {
   "cell_type": "markdown",
   "metadata": {},
   "source": [
    "* EN1 és EN2 a bekapcsoló tüskék. A motorokat csak akkor lehet mozgásra bírni, ha ezek magas állapotban vannak. EN1 felel az IN1, IN2 és OUT1, OUT2 tüskékért. Az EN2 pedig az IN3, IN4 és OUT3, OUT4 tüskékért felel. A lenti ábrán az EN1-re a GPIO25-öt kapcsoljuk (barna drót), míg az EN2-re a GPIO17-et (rózsaszín drót). Ezek a GPIO tüskék képesek alacsony (0 V) és magas (3.3 V) állapotok felvételére, ami elegendő az L293D chip EN1 és EN2 tüskéinek bekapcsolásához.\n",
    "\n",
    "* Vs-re kell kapcsolni a külső áramforrást ami a motorokat fogja meghajtani. A táp pozitív végét kell ide kapcsolni (piros drót a lenti ábrán)\n",
    "\n",
    "* Vss az L293D chip táplálásához a bemenet. Ezt a Rspberry Pi 5 V-os tüskéjére kapcsoljuk (fehér drót). \n",
    "\n",
    "* IN1, IN2 és IN3, IN4 a bemenetek. Ezek a Raspberry Pi-ról kapnak jelet és annak a jelnek megfelelően mozog majd a motor. A rajzon az IN1-re a GPIO24-es tüskét kapcsoltuk (narancssárga drót), az IN2-re a GPIO23-as tüskét (szürke drót), IN3-ra a GPIO27-es tüskét (lila drót) és az IN4-re a GPIO22-es tüskét (kék drót).\n",
    "\n",
    "* OUT1, OUT2 és OUT3, OUT4 a kimenetek. A kimenetekre a motor drótjait kell kötni. A bemeneti jel, a kimeneten jut el a motorhoz. Az ábrán a zöld drótot kötöttük az OUT2-re és OUT4-re, míg a sárga drótot az OUT1-re és OUT3-ra.\n",
    "\n",
    "* A GND (földelés) tüskék az eszközök földelésére és a keletkező hő elvezetésére is szolgálnak. Fekete drótokkal jelöltük a földelést és mind a motorok tápforrását (negatív lábát) mind a Raspberry Pi egyik GND tüskéjét összekötjük a chip földelésével. Ezenfelül a chipen belül is az egy oldalon szereplő földeléseket is összekötöttük. "
   ]
  },
  {
   "cell_type": "markdown",
   "metadata": {},
   "source": [
    "<img src=\"dc_motor_circuit.png\" width=800 height=600 />"
   ]
  },
  {
   "cell_type": "markdown",
   "metadata": {},
   "source": [
    "Tüske összeköttetések táblázata:\n",
    "\n",
    "| Honnan | Hova | Szín |\n",
    "|:---|:---|:---:|\n",
    "| Raspberry Pi GND | L293D GND |fekete|\n",
    "|Áramforrás (-) láb | L293D GND |fekete|\n",
    "|Áramforrás (+) láb | L293D Vs |piros|\n",
    "|Jobb oldali L293D GND (egyik) |Jobb oldali L293D GND (másik)|fekete|\n",
    "|Bal oldali L293D GND (egyik) |Bal oldali L293D GND (másik)|fekete|\n",
    "| L293D EN1 | Raspberry Pi GPIO25 | barna |\n",
    "| L293D EN2 | Raspberry Pi GPIO17 | rózsaszín |\n",
    "| L293D Vss | Raspberry Pi 5V | fehér |\n",
    "| L293D IN1 | Raspberry Pi GPIO24 | narancssárga |\n",
    "| L293D IN2 | Raspberry Pi GPIO23 | szürke |\n",
    "| L293D IN3 | Raspberry Pi GPIO27 | lila |\n",
    "| L293D IN4 | Raspberry Pi GPIO22 | kék |\n",
    "| L293D OUT1 | Első DC Motor egyik lába | zöld |\n",
    "| L293D OUT2 | Első DC Motor másik lába | sárga |\n",
    "| L293D OUT3 | Második DC Motor egyik lába | zöld |\n",
    "| L293D OUT4 | Második DC Motor másik lába | sárga |"
   ]
  },
  {
   "cell_type": "markdown",
   "metadata": {},
   "source": [
    "### Referencia"
   ]
  },
  {
   "cell_type": "markdown",
   "metadata": {},
   "source": [
    "1) https://www.circuitbasics.com/raspberry-pi-ds18b20-temperature-sensor-tutorial/#:~:text=The%20DS18B20%20temperature%20sensor%20is,accurate%20and%20take%20measurements%20quickly."
   ]
  },
  {
   "cell_type": "markdown",
   "metadata": {},
   "source": [
    "## DHT11 hőmérséklet és pára szenzor"
   ]
  },
  {
   "cell_type": "markdown",
   "metadata": {
    "cell_style": "center"
   },
   "source": [
    "A szervo motorok olyan önálló elektromos eszközök amik nagy pontossággal forgatnak vagy tolnak/húznak elemeket egy szerkezetben. A szervo motorok a DC motor egy típusai amik képesek egy meghatározott szögben elfordulni. Ami megkülönbözteti a szervo motort a DC motortól az az, hogy szabályozhatod a szervo motor elfordulási szögét, míg a DC motornál lényegében csak azt, hogy be van-e kapcsolva vagy sem. A szervo, amíg be van kapcsolva, egyfolytában ellenőrzi és tartja a megadott pozícióját. Ha ki akarnánk mozdítani a helyzetéből, ellenállna. \n",
    "\n",
    "Szervo motorok nagyon sok területen előfordulnak pl. robot kezekben, CNC gépekben, autókban, CD/DVD lejátszókban stb. A repülőgépekben a szervo és a hozzá kapcsolódó hidraulikus technológia szabályozza pl. a gép szárnyainak szögét. A szervok különböző méretben léteznek, a nagy teljesítményűek pl. egy robot kezét mozgatják, míg a kisebbek pl. kis játékautókban fordulnak elő. "
   ]
  },
  {
   "cell_type": "markdown",
   "metadata": {},
   "source": [
    "### Hogyan működnek a szervo motorok?"
   ]
  },
  {
   "cell_type": "markdown",
   "metadata": {
    "cell_style": "center"
   },
   "source": [
    "Ahogy említettük már a szervo motorok igazából egy DC motorból állnak. Ezeket áram hajtja meg és képesek nagy fordulatszámmal pörögni (RPM - Rotatations Per Minute), viszont nagyon kis forgató nyomatékot képesek leadni (forgató nyomatékot alkalmazunk forgó mozgások létrehozásához, pl. egy ajtó kinyitásához). Mindeközben a motor működéséhez egy adott munka kellett ($W = T \\dot \\theta$, ahol $W$ a munka, $T$ a forgatónyomaték és $\\theta$ az elfordulás szöge). Speciális fogaskerék láncolattal lecsökkenthetjük a fordulatszámot, azaz ugyanannyi munka befektetésével kevesebb elfordulást ($\\theta$) érünk el. Mivel a munka állandó, kisebb elfordulás mellett a szervo motor nagyobb forgatónyomatékot képes kifejteni. Felhasználás függvényében a kifejtendő forgatónyomaték, illetve a forgás sebessége változik, ami miatt fontos, hogy egy adott feladathoz a megfelelő paraméterekkel rendelkező szervo motort válasszunk. Általában a nagyobb forgatónyomatékú és minőségesebb szervok drágábbak is. \n",
    "\n",
    "Az olcsóbb és kisebb szervokban sokszor potenciométereket alkalmaznak a feszültség mérésére az elfordulás függvényében. Ez egy kis áramkörhöz van kapcsolva. A potenciométer megmondja az áramkörnek, hogy mennyit fordult el a motor, amit az összevet a beadott értékkel és utasítja a motort, hogy mozduljon a megfelelő irányba. "
   ]
  },
  {
   "cell_type": "markdown",
   "metadata": {},
   "source": [
    "### A szervo motorok irányítása"
   ]
  },
  {
   "cell_type": "markdown",
   "metadata": {
    "cell_style": "center"
   },
   "source": [
    "A szervo az utasításokat impulzussorozatok formájában kapja pl. egy számítógéptől. Impulzusnak nevezzük az átmenetet alacsony feszültségből magasba, amiben egy bizonyos ideig meg is marad, majd ismét alacsonyba megy vissza (illetve ennek a folyamatnak a fordítotját is). Impulzus sorozat ezen impulzusok időközönkénti ismétlődése. Elektronikában az alacsony állapotot általában a földdel vagy 0 V-tal azonosítjuk, míg a magas állapot a tápunk feszültége. A hobbi szervok 4.5-6 V-os tartományban működnek.\n",
    "\n",
    "Két impulzus beérkezése közti időt hívjuk periódusnak (*T (s)*), míg ennek a reciprokát hívjuk frekvenciának (*f (Hz)*). A magas feszültségben eltöltött időt pedig kitöltési tényezőnek (*duty cycle (s)*) nevezzük. A szervo elfordulási szögét evvel a kitöltési tényezővel szabályozhatjuk. A kitoltési idő változtatását impulzus-szélesség modulációnak (PWM - Pulse Width Modulation) hívjuk. A lenti ábrán egy 3 impulzusból álló impulzussorozatot látunk, aminek a kitöltési idejét változtatjuk. Az impulzussorozat periódusa 20 ms, amplitudója 5 V, és a kitöltési tényezője 2 ms-tól (10 %) változik 20 ms-ig (100 %), amikor már eltűnnek az impulzusok és helyette konstans magas (5 V) feszültségi állapotban van. \n",
    "\n",
    "A legtöbb hobbi szervo motort 50 Hz-es bemeneti jelre tervezték, ami azt jelenti, hogy az impulzusok 20 ms-ként ismétlik egymást (lást az ábrát lejjebb). Ez az ismétlés biztosítja a szervot arról, hogy folyamatosan tartani tudja a pozícióját. A legtöbb szervo csak 0 és 180 fok között képes forogni. A vezérléshez tartozó értékeket a szervo adatlapján lehet elolvasni, pl. az MG90S szervoé [itt](https://www.electronicoscaldas.com/datasheet/MG90S_Tower-Pro.pdf) található. \n",
    "\n",
    "A szervo vezérléséhez azt egy feszültségforráshoz kell kapcsolni (4.5-6 V) és ezen felül a vezérlő jelnek (50 Hz-en) egy számítógépről (Raspberry Pi) vagy más áramkörről kell jönnie. A vezérlőjel szélessége általában 1 ms (5%-os kitöltési tényező) és 2 ms (10%-os kitöltési tényező) között van, ami felelős a 180 fokos elfordulásért. Pl. az MG90S szervo esetében az adatlap szerint 1.5 ms-os impulzus hossz felel meg a középponti pozíciónak ($0^{\\circ}$), 2 ms-os impulzus hossz felel meg az egyik végállapotnak ($90^{\\circ}$), míg 1 ms-os impulzus hossz felel meg a másik végállapotnak ($-90^{\\circ}$), "
   ]
  },
  {
   "cell_type": "markdown",
   "metadata": {},
   "source": [
    "<img src=\"PWM_duty_cycle_animation_compressed.gif\" width=800 height=600 />"
   ]
  },
  {
   "cell_type": "markdown",
   "metadata": {},
   "source": [
    "<center>A gif Joshua Hrisko írásából lett kimásolva, https://makersportal.com/blog/2020/3/21/raspberry-pi-servo-panning-camera</center>"
   ]
  },
  {
   "cell_type": "markdown",
   "metadata": {},
   "source": [
    "### A szervo motor Raspberry Pi-re csatlakoztatása"
   ]
  },
  {
   "cell_type": "markdown",
   "metadata": {},
   "source": [
    "A legtöbb mikrovezérlőn illetve egykártyás számítógépen találsz PWM kimenetet. A Raspberry Pi 3B+ két hardveres illetve több szoftveres kimenettel rendelkezik. A 40 pines Raspberry Pi 3B+-on 4 db hardware-es PWM üzemmódú pin van, ahol a GPIO12 és GPIO18 ugyanazokkal a paraméterekkel rendelkezik, illetve a GPIO13 és GPIO19 egy másik paraméterű csoportot alkot. Mindemellett az összes többi GPIO pint is be lehet állítani PWM üzemmódba szoftveresen, de lehet, hogy azoknak a stabilitása gyengébb a hardware-es verziójukhoz képest. \n",
    "\n",
    "A kisebb szervo motorok, mint pl. a MG90S nem igényelnek nagy áramerősséget a működéshez, de ez nem igaz az összes szervora. Annak ellenére, hogy a Raspberry Pi tud 5 V-os feszültségforrást biztosítani, nem feltétlenül biztonságos ezt rákapcsolni tápként a szervora. Ugyanis, ha a szervot leterheljük akkor nagyobb árammennyiséget húzna, amit a Raspberry Pi nem tudna elviselni és valószínűleg tartós károsodást szenvedne. Hogy a lenti kapcsolási rajzon is mutatjuk, teljes biztonságot adó megoldás a szervo független 5V-os tápegységről történő működtetése pl. 4 AAA elem sorbakapcsolásával. Ebben az esetben a táp negatív potenciálú pontját (fekete drót) a Raspberry Pi tetszőleges GND tüskéjével kell összekötni amit szintén rá kell kötni a szervo negatív fülére (fekete drót). A táp pozitív végét pedig a szervo pozitív végére kapcsoljuk (piros drót). Evvel biztosítjuk a megfelelő energiaforrást a szervo részére illetve megakadályozhatjuk, hogy nagyobb áramerősség folyjon át a Raspberry Pi tüskéin. \n",
    "\n",
    "A szervo motor vezérlése annak a vezérlő fülén keresztül történik (általában, sárga, narancssárga, fehér vagy kék színű). A biztonság kedvéért érdemes elolvasni a drótok színkiosztását a használati útmutatóban. A rossz bekötés a szervo tönkretételéhez vezethet. A vezérléshez a szervonak nincs szüksége nagy teljesítményre így azt a Raspberry Pi bármelyik 3.3 V-os GPIO tüskéjéről elintézhetjük. A rajzon, ahogy korábban már említettük, mi a GPIO18-as jelű tüskéhez kötöttük, mert ez rendelkezik hardware-es PWM üzemmóddal. Ennek a tüskének a kitöltési idejének a szabályozásával vezérelhetjük a szervo elfordulásának szögét. \n",
    "\n",
    "Ha attól tartanánk, hogy valamilyen okból, pl. egy erősebb szervonál, a vezérlő dróton is keletkezhetne nagyobb áramerősség, akkor a tüske és a szervó közé beköthetünk egy 1 k$\\Omega$ értékű ellenállást (lásd [6]-os referencia). "
   ]
  },
  {
   "cell_type": "markdown",
   "metadata": {},
   "source": [
    "<img src=\"bevezeto_szervo.png\" width=600 height=400 />"
   ]
  },
  {
   "cell_type": "markdown",
   "metadata": {},
   "source": [
    "### Referencia"
   ]
  },
  {
   "cell_type": "markdown",
   "metadata": {},
   "source": [
    "1) http://wiki.sunfounder.cc/images/c/c7/DHT11_datasheet.pdf\n",
    "\n",
    "2) http://wiki.sunfounder.cc/index.php?title=Humiture_Sensor_Module\n",
    "\n",
    "3) https://www.electronicsforu.com/tech-zone/electronics-components/humidity-sensor-basic-usage-parameter\n",
    "\n",
    "4) Magyar - http://www.malnasuli.hu/oktatas/teszt-bejegyzes-2/"
   ]
  },
  {
   "cell_type": "markdown",
   "metadata": {},
   "source": [
    "## Analóg thermisztor"
   ]
  },
  {
   "cell_type": "markdown",
   "metadata": {},
   "source": [
    "A léptető motor igazából egy kefe nélküli DC motor, ami a teljes fordulatot sok egyenlő nagyságú kis elfordulásra bontja. Ennek köszönhetően a motor utasítható, hogy vegyen fel egy pozíciót majd azt tartsa bármilyen pozíció visszacsatoló szenzor nélkül. A vezérlése ezen motoroknak digitális jelekkel történik. Egy adott pozíciót nagyon nagy pontossággal és megismétléssel képes felvenni (1-5% pontosság). Mivel nincs benne szénkefe így strapabíró. Ha a motor épp nem léptet, akkor kisebb feszültséget kell rákapcsolni, nehogy leégjen. Ez a tartófeszültség azért fontos, hogy a motor tartani tudja az adott pozícióját. Egyébként amikor a motorrol lekapcsolod a tápfeszültséget, megpróbál a legközelebbi egyensúlyi, teljes lépés pozícióba elmozdulni. Általában magas forgatónyomatékot képesek leadni kis fordulatszám mellett. \n",
    "\n",
    "A léptetőmotorokat előszeretettel használják mechatronikai alkalmazásokban: robotkarokban, nyomtatókban, rajzgépekben, áramkörmaró gépekben, precíziós esztergákban stb. Újabban felhasználásuk megjelent a 3D nyomtatókban is. Emellett a lézeres és optikai kutatásokban gyakran használják pontos pozíciónálásra lineáris eltolókban, forgatható állványkon és tükörtartókon. "
   ]
  },
  {
   "cell_type": "markdown",
   "metadata": {},
   "source": [
    "### Hogyan működnek a léptető motorok?"
   ]
  },
  {
   "cell_type": "markdown",
   "metadata": {},
   "source": [
    "A léptető motorok általában egy külső álló részből és egy belső forgó részből állnak. A külső részen helyezkednek el a fogsorra formált elektromágnesek a belső rész pedig egy vasból készült fogaskerék. A léptető motorok elektromos impulzus sorozatok hatására jól meghatározott lépésekkel fordulnak el. \n",
    "\n",
    "Az elektromágneseket egy külső táp vagy mikrokontroller energetizálja. Először csak az egyik elektromágnes kap áramot, aminek a mágneses mezeje vonzani kezdi a központi fogaskerék alakú korong fogait, ami miatt a korong el kezd forogni. Amikor az elektromágnes fogazata és a forgó kerék fogazata egy vonalba kerülnek (legerősebb a mágneses vonzás), akkor áll be stabil állapotba a forgó kerék. Ebben az állapotban a forgó kerék fogai kis mértékben el vannak csúsztatva a következő elektromágnes fogazataitól. Így amikor a második elektromágnesre kapcsolunk áramot, a központi kerék fogazata, a mágneses tér hatására, közelíteni kezd a második elektromágnes fogazatához, amíg újra egyensúlyi állapot nem áll be. Ez a folyamat ismétlődik minden egyes rákövetkező elektromágnesre. Minden egyes ilyen elmozdulást lépésnek hívunk és a teljes kör egész számú lépéseből áll.  \n",
    "\n",
    "A forgási sebesség a motor teljes sebességtartományában képes a teljes nyomatékot leadni. Viszont egy bizonyos sebesség felett a motor nem képes követni a mágneses tér változását és lépésvesztés következik be, ami pozíciótévesztést eredményez, mivel a tengely pozíciójáról nincs visszajelzés.\n",
    "\n",
    "A legegyszerűbb léptető motorok két fázisúak és ezeknek is kettő típusa létezik: az unipoláris és a bipoláris. Mi az unipoláris léptető motort fogjuk bemutatni."
   ]
  },
  {
   "cell_type": "markdown",
   "metadata": {},
   "source": [
    "<img src=\"StepperMotor.gif\" width=400 height=400 />"
   ]
  },
  {
   "cell_type": "markdown",
   "metadata": {},
   "source": [
    "### A léptető motorok irányítása"
   ]
  },
  {
   "cell_type": "markdown",
   "metadata": {},
   "source": [
    "Az unipoláris léptetőmotorok 2 független tekerccsel rendelkeznek. Mindkét tekercs rendelkezik középkivezetéssel. Könnyen kitalálhatjuk, melyik a középkivezetés egy ellenállás mérő műszer segítségével. Az ellenállás a középkivezetés (common wire) és a tekercs vége között (coil end) fele akkora mint a tekercs két vége között, mert pont a drót felénél van a középkivezetés. "
   ]
  },
  {
   "cell_type": "markdown",
   "metadata": {},
   "source": [
    "<img src=\"Unipolar.png\" width=300 height=300 />"
   ]
  },
  {
   "cell_type": "markdown",
   "metadata": {},
   "source": [
    "A középkivezetéseket fixen a motortáp pozitív kapcsára kötve és a tekercsvégeket sorba a földelésre kapcsolva, a motor elkezd forogni. A forgás iránya attól függ, hogy melyik szomszédos tekercset kapcsoljuk be legközelebb. A gyakorlatban az egyik meghajtási mód a kétfázisú meghajtás.Ekkor mindig két szomszédos tekercset helyezünk feszültség alá. Evvel megnöveljük a motor nyomatékát. A gyakorlatban a másik elterjedt hajtási mód a féllépéses üzemmód, melynek során hol egy, hol pedig két tekercs kerül bekapcsolásra. Ennek a módszernek az előnye az, hogy a motor felbontása így duplájára nő. \n",
    "\n",
    "Fontos megjegyezni, hogy a léptetőmotorok tekercseinek Ohm-os ellenállása igen alacsony, ezért már alacsony feszültség mellet is nagy áram folyhat át a tekercseken. Ez az áram hőt termel, ezért fontos lehet az átfolyó áramerősség korlátozása. Ezt ki lehetne küszöbölni egy sorba kötött ellenállással, de akkor a tekercsen kisebb áram folyna, ami gyengébb mágneses teret, ami pedig kisebb nyomatékot eredményezne. Inkább a tekercsek PWM típusú jellel való táplálását szokták használni, mert akkor áram csak az impulzus szélessége alatt halad, így kevesebb hő termelődik.\n",
    "\n",
    "A léptető motorok meghajtásához is több meghajtó (driver) létezik. A hobbi szerelők között a legelterjettebbek talán a L293D és az ELN2003A. A legfontosabb paraméterek a driver és a motor párosításához a maximális feszültség és maximállis áramerősség (continuous current) amit a driver szolgálni tud a motornak. Ezek mellett fontos tudnunk, hogy mekkora áramerősséget vezethetünk a motor tekercseire (ampere per phase) és mekkora az ellenállása a tekercseknek (resistance per phase). Amikor a motor egy helyben áll, akkor húzza a legnagyobb áramot, így a hozzá tartozó feszültséget Ohm törvényével kiszámolhatjuk: $U = RI$. Evvel a módszerrel megkaphatjuk, hogy mi legyen a driver által leadott feszültség értéke. "
   ]
  },
  {
   "cell_type": "markdown",
   "metadata": {},
   "source": [
    "### A léptető motor Raspberry Pi-re csatlakoztatása"
   ]
  },
  {
   "cell_type": "markdown",
   "metadata": {},
   "source": [
    "Ebben a részben az ULN2003A drivert fogjuk tárgyalni. Erre csak 5V és 12V tápokat lehet kapcsolni, így a léptető motort is ehhez mérten kell párosítani. Maximum 500 mA kimeneti áramerősségre és max 50 V kimeneti feszültségre képes. \n",
    "\n",
    "7 dralington tranzisztor van ebben a chipben, amik lehetővé teszik a Raspberry Pi-ból jövő kis áramoknak, hogy utasítást és irányítást adjanak a nagyobb áramot igénylő léptető motornak. Az integrált áramkör diódái arra szolgálnak, hogy lekezeljék a léptető motor tekercseiben keletkező visszaható elektromotoros erőt (emf). Ugyanis, amikor az áramot lekapcsoljuk az egyik tekercsről, körülötte a mágneses mező gyorsan összeesik, ami egy erős feszültség csúcsot kelt a tekercsben. Ez a visszafelé haladó feszültség csúcs képes lenne a Raspberry Pi-t tönkretenni, de a beépített diódák biztonságosan felhasználják ezt a feszültséget, megvédve a Raspberry Pi-t. \n",
    "\n",
    "Az ULN2003A chip lábkiosztásainak leírását az [adat táblázatában](https://www.ti.com/lit/ds/symlink/uln2003a.pdf) lehet megtalálni. Egy tipikus driver board pedig az alábbi képen látható.  "
   ]
  },
  {
   "cell_type": "markdown",
   "metadata": {},
   "source": [
    "<img src=\"ULN2003_board.jpg\" width=600 height=600 />"
   ]
  },
  {
   "cell_type": "markdown",
   "metadata": {},
   "source": [
    "Az INx (ahol x=1..7) jelöli a bemeneti lábakat, a (-) és a (+) a földelést és az 5-12V feszültségeket, a fehér keret az ábrán, a chip kimenetéhez van csatlakoztatva és ide kötjük be a léptető motort. Az A, B, C és D LED diódák felelnek a visszaható emf lekezelésére.\n",
    "\n",
    "Alul egy lehetséges kapcsolási rajzot mutatunk be, ahol a chipet összeötjük mind a Raspberry Pi-jal és a léptető motorral. "
   ]
  },
  {
   "cell_type": "markdown",
   "metadata": {},
   "source": [
    "<img src=\"uln2003-stepper-raspi.png\" width=900 height=900 />"
   ]
  },
  {
   "cell_type": "markdown",
   "metadata": {},
   "source": [
    "*Az ábra forrása: [https://www.aranacorp.com/en/control-a-stepper-with-raspberrypi/](https://www.aranacorp.com/en/control-a-stepper-with-raspberrypi/)*"
   ]
  },
  {
   "cell_type": "markdown",
   "metadata": {},
   "source": [
    "A bemenetekre (IN1..IN4), a GPIO 24, 25, 08 és 07 tüskék vannak rákötve. A + jelre az 5V-os tüske míg a -  jelre a földelés van kötve. A fehér keretű kimeneti tüskékre pedig a léptető motort kapcsoljuk rá. A motor feszültségigényétől függően lehet a Raspberry Pi 5V-os feszültségét használni (ahogy a rajzon mutatjuk) de ajánlatos inkább külső tápot találni, hogy megvédjük a számítógépet. \n"
   ]
  },
  {
   "cell_type": "markdown",
   "metadata": {},
   "source": [
    "Tüske összeköttetések táblázata:\n",
    "\n",
    "| Honnan | Hova | Szín |\n",
    "|:---|:---|:---:|\n",
    "|Áramforrás (-) láb | (-) tüske ULN2003A board |fekete|\n",
    "|Áramforrás (+) láb | (+) tüske ULN2003A board |piros|\n",
    "|IN1 | Raspberry Pi GPIO24 |sárga|\n",
    "|IN2 | Raspberry Pi GPIO25 |zöld|\n",
    "| IN3 | Raspberry Pi GPIO08 | szürke |\n",
    "| IN4 | Raspberry Pi GPIO07 | fehér |"
   ]
  },
  {
   "cell_type": "markdown",
   "metadata": {},
   "source": [
    "Ahhoz, hogy egy léptető motort mozgassunk Raspberry Pi-jal, egymást követő impulzusokat (impulzus szekvenciát) kell küldenünk a motor megfelelő tekercseinek (fázisainak). Ezeket a szekvenciákat a motor leírásában kell megkeresni és motortól függően lekódolni. "
   ]
  },
  {
   "cell_type": "markdown",
   "metadata": {},
   "source": [
    "### Referencia"
   ]
  },
  {
   "cell_type": "markdown",
   "metadata": {},
   "source": [
    "1) NTCC 10k datasheet - https://www.tme.eu/Document/f06e7f4c0fd5fd1c49c3e9fd8ceb0529/NTCC-10K.pdf"
   ]
  },
  {
   "cell_type": "code",
   "execution_count": null,
   "metadata": {},
   "outputs": [],
   "source": []
  }
 ],
 "metadata": {
  "kernelspec": {
   "display_name": "Python 3",
   "language": "python",
   "name": "python3"
  },
  "language_info": {
   "codemirror_mode": {
    "name": "ipython",
    "version": 3
   },
   "file_extension": ".py",
   "mimetype": "text/x-python",
   "name": "python",
   "nbconvert_exporter": "python",
   "pygments_lexer": "ipython3",
   "version": "3.7.3"
  },
  "toc": {
   "base_numbering": 1,
   "nav_menu": {},
   "number_sections": true,
   "sideBar": true,
   "skip_h1_title": false,
   "title_cell": "Table of Contents",
   "title_sidebar": "Contents",
   "toc_cell": false,
   "toc_position": {},
   "toc_section_display": true,
   "toc_window_display": false
  }
 },
 "nbformat": 4,
 "nbformat_minor": 4
}
