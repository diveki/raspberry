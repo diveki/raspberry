{
 "cells": [
  {
   "cell_type": "markdown",
   "metadata": {},
   "source": [
    "# Bevezető - Hőmérséklet szenzorok"
   ]
  },
  {
   "cell_type": "markdown",
   "metadata": {},
   "source": [
    "## Hőmérséklet mérés"
   ]
  },
  {
   "cell_type": "markdown",
   "metadata": {},
   "source": [
    "A hőmérséklet az egy nehezen megfogható dolog, hiszen általában viszonyítással határozzuk meg, hogy valami meleg vagy hideg. Ennek ellenére nagy jelentősséggel bír a mindennapi életünkben és ez így volt a történelem minden részében. A mezőgazdaságban nélkülözhetetlen egy adott nap hőmérsékletének ismerete, illetve az évszakok periódikus változása (ami általában átlagos hőmérséklet változással is jár). Az orvostudományban is fontos a test hőmérsékletének mérése illetve vannak gyógyszerek amiket csak adott hőmérséklet alatti környezetben lehet tárolni. Még ezer más területet fel lehetne hozni példának. \n",
    "\n",
    "A hőmérséklet mérése a 17. századig nem volt standardizálva. Ekkor kezdték kifejleszteni azokat az eszközöket, amik általában az anyag egy fizikai tulajdonságának változását mérték hőmérséklet változás hatására. A legismertebb hőmérő talán a higanyos hőmérő. A hőmérséklet növekedésére egy üvegcsében levő higany tágulni kezd és ennek a mértéke arányos a hőmérséklettel.\n",
    "\n",
    "A technológia fejlődésével rengeteg fajta hőmérséklet szenzort fejlesztettek ki. Csak, hogy néhányat említsünk:\n",
    "\n",
    "* Thermoelem - két különböző elektromos vezető találkozásánál feszültségkülönbség jön létre, ami a vezetők hőmérsékletével arányosan változik. \n",
    "* Ellenállás hőmérő (resistance temperature detectors, RTD) - ellenálások amik alkotóanyaga tiszta fémek, alkatrészek, amik ellenállás értéke a hőmérséklet változásával jól meghatározható formában változik.\n",
    "* Thermisztorok - nagyrészt polimerből vagy kerámiából készült anyagok, amik ellenállása jól definiálhatóan változik a hőmérséklettek.\n",
    "* Infravörös hőmérők - az anyag hőmérsékleti (infravörös) sugárzását mérik és nem igényelnek kontaktot a mérendő anyaggal.\n",
    "\n",
    "A projektjeink folyamán mi thermisztorokat fogunk használni."
   ]
  },
  {
   "cell_type": "markdown",
   "metadata": {},
   "source": [
    "## Thermisztorok"
   ]
  },
  {
   "cell_type": "markdown",
   "metadata": {},
   "source": [
    "Amint láthattuk a thermisztorok és az ellenállás hőmérők (RTD) működlsüket tekintve hasonlítanak egymáshoz, de mégis van jó néhány különbség.\n",
    "\n",
    "Az RTD-k főként fémből, míg a thermisztorok leginkább félvezetőkből készülnek. Az RTD-k nagy hőmérséklet intervallumon mérnek, -230 C-tól 660 C-ig, főként az iparban használják őket, kicsi a felbontásuk és lassan reagálnak a hőmérséklet változásra. A thermistorok inkább a -60 C-tól 130 C-ig mérnek, inkább műszerekben használják őket, nagy felbontással rendelkeznek és gyorsan reagálnak a hőmérséklet változásra. Nagyon fontos, hogy az RTD-k ellenállása linearisan változik a hőmérséklettel, míg a thermistorok ellenállása nem-linearisan.\n",
    "\n",
    "Megkülönböztetjük az NTC (negative temperature coefficient) és a PTC (positive temperature coefficient) thermisztorokat.\n",
    "\n",
    "* NTC thermisztor - a hőmérséklet növekedésével csökken az ellenállása, míg a hőmérséklet csökkenésével növekszik az ellenállása. A 10 kOhm körüli thermisztorok normál hőmérséklet mérésére használandók különböző eszközökben. A nagyobb ellenállású thermisztorokat nagy áramerősségű áramkörökben használják, hogy a kezdeti nagy áramlöketnek ellenálljon és megvédje az áramkört, majd a nagy áramerősség hatására melegszik és lassan csökkenti az ellenállását, így beszabályozva a rajta átfolyó nagy áramerősség értékét. \n",
    "\n",
    "* PTC thermisztor - ellenállása a hőmérséklet változásának irányába változik. Megakadályozza, hogy az áramkörökbe nagy áramerősségek folyannak. Egy konstans feszültségen, ha nagy áramerősség érkezik erre a thermisztorra, akkor elkezd melegedni, aminek hatására megnő az ellenállása, így limitálva a rajta áthaladó áramerősséget. "
   ]
  },
  {
   "cell_type": "markdown",
   "metadata": {},
   "source": [
    "A thermisztorok alapvetően analóg jelet adnak ki magukból, de sokszor előfordul, hogy összeszereléskor egybeépítik egy analóg digitális átalakítóval (analoge-digital converter, ADC) és egy kommunikációs csatornával. A digitális szenzorok általában szilikon alapú integrált áramkörök. A legtöbbje tartalmazza a hőmérséklet szenzort, egy ADC-t, memóriát az adatok ideiglenes tárolására és egy kommunikációs interféjszt a szenzor és a mikrokontroller között. Így tehát ezek az eszközök egyból a hőmérsékletet adják meg.\n",
    "\n",
    "Az NTC thermisztorokat előszeretettel alkalmazzák fűtési rendszerek hőszabályozásánál, elemek hőmérsékletének mérésére töltés alatt pl. az autóiparban stb."
   ]
  },
  {
   "cell_type": "markdown",
   "metadata": {},
   "source": [
    "### Thermisztor és a feszültségosztó"
   ]
  },
  {
   "cell_type": "markdown",
   "metadata": {},
   "source": [
    "Alapjáraton a thermisztor nem mutat ki hőmérsékletet, arra a rajta eső feszültségből kell következtetnünk. Ehhez használunk feszültségosztót. Egy ismert ellenállást $R_S$ és a thermistort $R_{TH}$ sorba kötve egy konstans feszültségforrásra $V_S$ kapcsoljuk, majd mérjük a feszültséget $V_{OUT}$ a két ellenállás között. Ohm törvényét alkalmazva meghatározhatjuk a thermistor ellenállását az aktuális hőmérsékleten. \n",
    "\n",
    "A sorba kötött ellenállások eredő értéke $R_e = R_S + R_{TH}$. Így az áramkörben az áramerősség, $I = \\frac{V_S}{R_S + R_{TH}}$. Az áramerősséget behelyettesíthetjük a thermistoron mért feszültség képletébe, $V_{OUT} = I\\times R_{TH}$ azaz $V_{OUT} = V_S\\frac{R_{TH}}{R_S + R_{TH}}$. Megmérve a feszültségesést a thermisztoron meghatározhatjuk az előző képletből az aktuális ellenállását. Ezt összehasonlítva az ellenállás-hőmérséklet görbével, kikereshetjük az érzékelt hőmérsékletet."
   ]
  },
  {
   "cell_type": "markdown",
   "metadata": {},
   "source": [
    "<img src=\"bevezeto/divider.gif\" width=300 height=300 />"
   ]
  },
  {
   "cell_type": "markdown",
   "metadata": {},
   "source": [
    "<center>Feszültségosztó thermisztorral. Forrás: https://www.electronics-tutorials.ws/io/thermistors.html<\\center>"
   ]
  },
  {
   "cell_type": "markdown",
   "metadata": {},
   "source": [
    "<img src=\"bevezeto/temperature.gif\" width=300 height=300 />"
   ]
  },
  {
   "cell_type": "markdown",
   "metadata": {},
   "source": [
    "<center>Thermisztor ellenállása a hőmérséklet függvényében. Forrás: https://www.electronics-tutorials.ws/io/thermistors.html<\\center>"
   ]
  },
  {
   "cell_type": "markdown",
   "metadata": {},
   "source": [
    "A fenti ábrából is látható, hogy a thermisztorok nem-lineáris ellenállás változást adnak a hőmérséklet változására.\n",
    "\n",
    "A projektjeinkben 3 fajta thermisztort fogunk használni, a DS18b20-as NTC digitális szenzort, a DHT11 hőmérséklet és páramérő digitális szenzort és "
   ]
  },
  {
   "cell_type": "markdown",
   "metadata": {},
   "source": [
    "### Referencia\n",
    "\n",
    "1) https://www.electronics-tutorials.ws/io/io_3.html\n",
    "\n",
    "2) https://www.electronics-tutorials.ws/io/thermistors.html\n",
    "\n",
    "3) https://circuitglobe.com/difference-between-rtd-and-thermistor.html\n",
    "\n",
    "4) Feszültségosztó thermisztorral - https://www.petervis.com/GCSE_Design_and_Technology_Electronic_Products/Potential_Divider/Potential_Divider_with_Thermistor.html"
   ]
  },
  {
   "cell_type": "markdown",
   "metadata": {},
   "source": [
    "## DS18b20 szenzor"
   ]
  },
  {
   "cell_type": "markdown",
   "metadata": {},
   "source": [
    "A DS18b20 szenzorok nagyon kompakt, gyors és pontos, de könnyen kezelhető hőmérséklet mérők. Digitális jelet állítanak elő és egy lábon keresztül (signal) adják le a jelet. Ez a szenzor a One-Wire kommunikációs protokollt alkalmazza a szenzor és a mikrokontroller közti adatátvitelre. \n",
    "\n",
    "Legtöbb esetben 3 kábelre van szüksége a működéshez: \n",
    "\n",
    "* táp kábel,\n",
    "* földelés,\n",
    "* adatkábel.\n",
    "\n",
    "Parazita üzemmódban csak a földelés és az adatkábel van használatban, ugyanis a tápot is az adatkábelen kapja meg ekkor. Rendelkezik egy riasztó funkcióval, ami aktiválódik és egy jelet generál, ha a hőmérséklet átlép egy előre megadott értéket. Elviekben bármennyi ilyen szenzort ugyanarra a pinre köthetünk, ugyanis a mikrokontroller a szenzorok egyedi 64 bites címük alapján meg tudja különböztetni, hogy melyikről jött az adat. \n",
    "\n",
    "### Technikai jellegzetességek\n",
    "\n",
    "* -55 $^{\\circ}$C és 125 $^{\\circ}$C között mér.\n",
    "* 3.0 V és 5.0 V között kell tápfeszültséget adni neki.\n",
    "* 750 ms-onként tud mintát venni.\n",
    "* 0.5 $^{\\circ}$C (9 bit); 0.25 $^{\\circ}$C (10 bit); 0.125 $^{\\circ}$C (11 bit); 0.0625 $^{\\circ}$C (12 bit) felbontásokat lehet beállítani.\n",
    "* 64 bites egyedi cím.\n",
    "* One-Wire kommunikációs protokoll. "
   ]
  },
  {
   "cell_type": "markdown",
   "metadata": {},
   "source": [
    "### A szenzor tesztelése"
   ]
  },
  {
   "cell_type": "markdown",
   "metadata": {},
   "source": [
    "Ha a szenzor lapos oldalával állunk szemben, akkor a 3 láb közül a bal oldali a földelés, a jobb oldali a táp és a középső az signál, jel láb. Ha tesztelni akarjuk egyszerű eszközökkel, hogy működik-e akkor a földelésre és a tápra rátesszük a megfelelő drótokat, majd keresünk egy mérőműszert. Annak a negatív drótját (általában fekete) a földelésre kötjük míg a másikat (általában piros) a jel lábhoz érintjük. A szenzor időben pulzáló digitális jelet ad ki, aminek maximum értéke kb. 3.3V. A mérőműszer az olvasott impulzusokat átlagolja és azt jelzi ki. "
   ]
  },
  {
   "cell_type": "markdown",
   "metadata": {},
   "source": [
    "### A DS18b20 szenzor Raspberry Pi-re csatlakoztatása"
   ]
  },
  {
   "cell_type": "markdown",
   "metadata": {},
   "source": [
    "A Raspberryre csatlakozáshoz a GND-vel jelölt lábát a szenzornak a Raspberry GND-vel jelölt tüskéjéhez kell kötni. A táppal jelölt lábát a szenzornak a Raspberry 3.3 V-os tüskéjéhez kell kötni. A Raspberry *GPIO4*-es tüskéjét pedig a szenzor adatlábára kell kötni. A szenzorral való kommunikáláshoz egy feszültségosztó felállásban hozzá kell kapcsolni még egy $R_1$ = 4.7 kOhm-os ellenállást. Ezt az ellenállást a táp és a signál labak közé kell bekötni. A lenti ábra mutatja, hogyan is kell kinézzen az áramkör.  "
   ]
  },
  {
   "cell_type": "markdown",
   "metadata": {},
   "source": [
    "<img src=\"bevezeto/wiring_DS18B20.png\" width=700 height=900 />"
   ]
  },
  {
   "cell_type": "markdown",
   "metadata": {},
   "source": [
    "### A One-Wire protokol aktiválása a Raspberry Pi-n"
   ]
  },
  {
   "cell_type": "markdown",
   "metadata": {},
   "source": [
    "Ahhoz, hogy működjön a kommunikáció a szenzorral, engedélyeznünk kell a Raspberryn a One-Wire protokolt. "
   ]
  },
  {
   "cell_type": "markdown",
   "metadata": {},
   "source": [
    "1) Nyissunk ki egy terminált és írjuk be, hogy ```sudo nano /boot/config.txt```, majd a megnyitott fájl utolsó sorába írjuk be a következőt:"
   ]
  },
  {
   "cell_type": "markdown",
   "metadata": {},
   "source": [
    "2) ```dtoverlay=w1-gpio```"
   ]
  },
  {
   "cell_type": "markdown",
   "metadata": {},
   "source": [
    "3) Lépjünk ki a Nano editorból és indítsuk újra a Raspberry Pi-t, gépeljük a terminálba ```sudo reboot```."
   ]
  },
  {
   "cell_type": "markdown",
   "metadata": {},
   "source": [
    "4) Újraindítás után nyissunk ki újra egy terminált és gépeljük be: ```sudo modprobe w1-gpio```"
   ]
  },
  {
   "cell_type": "markdown",
   "metadata": {},
   "source": [
    "5) Következő parancsnak írjuk: ```sudo modprobe w1-therm```"
   ]
  },
  {
   "cell_type": "markdown",
   "metadata": {},
   "source": [
    "6) Ezután mennyünk át abba a mappába, ahova a külső eszközök találhatók: ```cd /sys/bus/w1/devices```"
   ]
  },
  {
   "cell_type": "markdown",
   "metadata": {},
   "source": [
    "7) Listázzuk ki a mappa tartalmát, ```ls```. Ha minden rendben ment, lennie kell itt egy mappának ami hasonlít a ```28-XXXXXXXXXXXX``` (az X itt számokat szimbolizál, a szenzor azonosítója). A 28 a szenzor család azonosítója. A DS1820 és DS18S20 család azonosítója 10, valamint a DS1822 azonosítója a 22. Ha van olyan mappa, akkor lépjünk bele: ```cd 28-XXXXXXXXXXXX```."
   ]
  },
  {
   "cell_type": "markdown",
   "metadata": {},
   "source": [
    "8) A mappában kell, hogy legyen egy ```w1_slave``` nevű fájl, ami tartalmazza a szenzor státuszát és az aktuális hőmérsékletet. Hogy megtekintsük a tartalmát, gépeljük be, hogy ```cat w1_slave```. Két sora van neki. Mindkét sor eleje az IC aktuális regiszter dump-ját mutatja hexadecimális formában. Az első sor vége a checksum (CRC) és megmutatja, hogy a kiolvasott információ érvényes-e (YES). A második sor vége mutatja a hőmérsékletet. A tizedes vesszőt nekünk kell oda képzelni, méghozzá 3 tizedes pontossággal, pl. 23542 a 23.542 $^\\circ$C-nak felel meg. Ha kicsivel később ismét megnézzük a fájl tartalmát, akkor az abban az időpontban mért hőmérsékletet fogja mutatni, azaz a fájl megnyitásával mindig az épp aktuális hőmérsékletet látjuk. "
   ]
  },
  {
   "cell_type": "markdown",
   "metadata": {},
   "source": [
    "### Referencia"
   ]
  },
  {
   "cell_type": "markdown",
   "metadata": {},
   "source": [
    "1) https://www.circuitbasics.com/raspberry-pi-ds18b20-temperature-sensor-tutorial/#:~:text=The%20DS18B20%20temperature%20sensor%20is,accurate%20and%20take%20measurements%20quickly\n",
    "\n",
    "2) https://wiki.eprolabs.com/index.php?title=DS18B20_Temperature_Sensor\n",
    "\n",
    "3) Datasheet - https://www.circuitbasics.com/wp-content/uploads/2016/03/DS18B20-Datasheet.pdf\n",
    "\n",
    "4) 1-Wire - https://en.wikipedia.org/wiki/1-Wire\n",
    "\n",
    "5) https://learn.adafruit.com/tmp36-temperature-sensor"
   ]
  },
  {
   "cell_type": "markdown",
   "metadata": {},
   "source": [
    "## DHT11 hőmérséklet és pára szenzor"
   ]
  },
  {
   "cell_type": "markdown",
   "metadata": {
    "cell_style": "center"
   },
   "source": [
    "A DHT11 egy kompozit érzékelő ami tartalmaz egy kalibrált digitális kimenetet amin hőmérsékletet és páratartalmat lehet kiolvasni. Nagy pontosságú és hosszútávon stabilan tudja reprodukálni az eredményeket. Az érzékelő tartalmaz egy nedvességtől függő ellenállásérzékelőt és egy NTC típusú hőmérőt, amik egy nagy teljesítményű 8 bites mikrovezérlőhőz vannak kapcsolva. Van egy párja is, ami a DHT22 precízebb mérésekre add lehetőséget.\n",
    "\n",
    "Ezen szenzorok alkalmazása igen széleskörű. Ha valaki a páratartalommal kapcsolatos betegségben szenved, az otthonában ez segíthet mérni a páratartalmat és jelezhet, ha tenni kell valamit. Szintúgy megtalálható az otthonok fűtő, szellőztető és légkondícionáló rendszereiben is. De nem csak otthonokban, hanem irodákban, autókban, ipari területeken és üvegházakban és meteorológiai állomásokon is fontos szolgálatot tesznek. "
   ]
  },
  {
   "cell_type": "markdown",
   "metadata": {},
   "source": [
    "<img src=\"bevezeto/dht11.jpg\" width=600 height=600 />"
   ]
  },
  {
   "cell_type": "markdown",
   "metadata": {},
   "source": [
    "Alapvetően a DHT11 szenzotnak 4 lába van (balról jobbra, ha szembe nézünk a szenzorral, lásd fenti jobb oldali kép):\n",
    "\n",
    "* Vcc ahova a tápot kapcsoljuk, \n",
    "* Signal, ahonnen a jelet olvassuk ki, és a Raspberry Pi egy tetszőleges tüskéjére kötjük.\n",
    "* Egy láb amit nem használunk\n",
    "* Földelés. \n",
    "\n",
    "Ennek az üzembe helyezéséhez, Vcc és a Signal lábak közé egy 10 kOhm-os ellenállást kell bekötni.\n",
    "\n",
    "A másik verzió, ahol a fent említett ellenállás már be van kötve és az egész egy kis lapra van szerelve (lásd fenti kép jobb oldalát). Ennek 3 lába van a következő kiosztással (balról jobbra):\n",
    "\n",
    "* Signal, ahonnan a jelet olvassuk ki, és a Raspberry Pi egy tetszőleges tüskéjére kötjük.\n",
    "* Vcc, ahova a tápot kötjük be,\n",
    "* Födelés."
   ]
  },
  {
   "cell_type": "markdown",
   "metadata": {},
   "source": [
    "### Technikai jellegzetességek"
   ]
  },
  {
   "cell_type": "markdown",
   "metadata": {
    "cell_style": "center"
   },
   "source": [
    "1) Relatív páratartalom és hőmérsékletmérés.\n",
    "\n",
    "2) Páratartalom mérési tartománya: 20 - 90%RH.\n",
    "\n",
    "3) Hőmérséklet mérési tartománya: 0 - 60℃.\n",
    "\n",
    "4) A kimeneten digitális jel olvasható a páratartalom és hőmérséklet értékével.\n",
    "\n",
    "5) Működési feszültség: DC 5V; NYÁK méret: 2.0 x 2.0 cm.\n",
    "\n",
    "6) Páratartalom mérési pontosság: ±5%RH.\n",
    "\n",
    "7) Hőmérséklet mérési pontosság: ±2℃."
   ]
  },
  {
   "cell_type": "markdown",
   "metadata": {},
   "source": [
    "### A DHT11 motor Raspberry Pi-re csatlakoztatása"
   ]
  },
  {
   "cell_type": "markdown",
   "metadata": {},
   "source": [
    "A szenzor soros interféjszen (Single-Wire Two-Way) módon kommunikál. Egy buszos adatformátumot használ a mikroprocesszor és a szenzor közti kommunikációra és szinkronizációra. Egy kommunikációs folyamat kb. 4 ms-ig tart. A részleteket a [szenzor adatlapján](http://wiki.sunfounder.cc/images/c/c7/DHT11_datasheet.pdf) lehet megtalálni.\n",
    "\n",
    "Ha 3 lábú szenzorunk van, akkor nagy valószínűséggel már beépítettek egy 4.77 kOhm vagy 10 kOhm értékű ellenállást az áramköri lapjába, így nekünk csak direktbe a Raspberry Pi-re kell kötnünk. A GND jelű lábra a földelést, a Signal (S) jelű lábra bármelyik GPIO tüskét, pl. GPIO04 és végül az 5 V tápfeszültséget a harmadik lábra kell kötni. "
   ]
  },
  {
   "cell_type": "markdown",
   "metadata": {},
   "source": [
    "<img src=\"bevezeto/dht11wiring.png\" width=600 height=400 />"
   ]
  },
  {
   "cell_type": "markdown",
   "metadata": {},
   "source": [
    "Ha 4 lábú szenzorunk van, akkor egy 4.7-10 kOhmos ellenállást kell bekötnünk a Signal és a táp (Vcc) lábai közé (ahogy a lenti képen látható). A 4 láb közül az egyiket nem használjuk (olvassuk el a hozzátartozó bekötési leírást)."
   ]
  },
  {
   "cell_type": "markdown",
   "metadata": {},
   "source": [
    "<img src=\"bevezeto/dht11wiring_4pins.png\" width=600 height=400 />\n"
   ]
  },
  {
   "cell_type": "markdown",
   "metadata": {},
   "source": [
    "### A kommunikáció előkészítése a szenzorral"
   ]
  },
  {
   "cell_type": "markdown",
   "metadata": {},
   "source": [
    "Az [Adafruit](https://learn.adafruit.com/) szoftvereit fogjuk használni, hogy kommunikáljunk a szenzorral. Ezek a szoftverek az idők folyamán sokat változtak és új köntösbe kerültek, de a neten még mindig található rengeteg régi Python csomagokhoz tartozó leírás. Elviekben azok is működnek, de már nem frissítik őket. \n",
    "\n",
    "Ha Raspbian operációs rendszert használunk, akkor érdemes legalább a Buster vagy ettől fiatalabb verzióját telepíteni, különben gondunk akadhat egyes lenti python csomagok telepítésével. Az ```adafruit_blinka``` nevű speciális könyvtárat fogjuk használni ami egy réteget fog képezni a hardverünk és a Linux alapú lapunk között. Először gépeljük be a terminálba a következőt:\n",
    "\n",
    "1) ```pip install adafruit-blinka```\n",
    "\n",
    "Győződjünk meg róla, hogy a pip a 3.x verziójú Pythonunkhoz tartozik és nem a 2.x verzióhoz. Ezután felinstalláljuk azt a könyvtárat ami a DHT szenzorral való kommunikációhoz szükséges, a CircuitPython_DHT-t. Ez a könyvtár a DHT11 és DHT22 szenzorokkal is tud kommunikálni.  \n",
    "\n",
    "2) ```pip install adafruit-circuitpython-dht```\n",
    "\n",
    "3) ```sudo apt-get install libgpiod2```\n",
    "\n",
    "Ezekkel az installációkkal készen is állunk a szenzor használatára."
   ]
  },
  {
   "cell_type": "markdown",
   "metadata": {},
   "source": [
    "### Referencia"
   ]
  },
  {
   "cell_type": "markdown",
   "metadata": {},
   "source": [
    "1) http://wiki.sunfounder.cc/images/c/c7/DHT11_datasheet.pdf\n",
    "\n",
    "2) http://wiki.sunfounder.cc/index.php?title=Humiture_Sensor_Module\n",
    "\n",
    "3) https://www.electronicsforu.com/tech-zone/electronics-components/humidity-sensor-basic-usage-parameter\n",
    "\n",
    "4) Magyar - http://www.malnasuli.hu/oktatas/teszt-bejegyzes-2/"
   ]
  },
  {
   "cell_type": "markdown",
   "metadata": {},
   "source": [
    "## Analóg thermisztor"
   ]
  },
  {
   "cell_type": "markdown",
   "metadata": {},
   "source": [
    "Az analóg thermisztorokra ugyanúgy működnek mint a digitális társaik (legalább is a szenzor rész), hiszen a digitális társak is egy analóg szenzorból állnak, csak a jeleik már az eszközben digitalizálásra kerülnek. Mi egy NTCC 10k nevű analóg thermisztort fogunk használni, de a paramétereket leszámítva szinte minden érvényes a többi thermisztorra is."
   ]
  },
  {
   "cell_type": "markdown",
   "metadata": {},
   "source": [
    "### Technikai jellegzetességek"
   ]
  },
  {
   "cell_type": "markdown",
   "metadata": {},
   "source": [
    "Tehát elmondható, hogy az analóg thermisztor ellenállása meghatározott módon változik a hőmérséklet változásával. Ezt legegyszerűbben a fent már tárgyalt feszültségosztó áramkörben tudjuk mérni. Lényegében ezt az elrendezést fogjuk használni a projektjeink kidolgozására. \n",
    "\n",
    "Az NTCC 10k szenzor adatlapja [itt](https://www.tme.eu/Document/f06e7f4c0fd5fd1c49c3e9fd8ceb0529/NTCC-10K.pdf) tekinthető meg. Ez egy 10 kOhmos ellenállás (25$^\\circ$C-on) és negatív együtthatójú, azaz a hőmérséklet növekedésére csökken az ellenállása. -30$^\\circ$C és +125$^\\circ$C közötti hőmérsékletet tud mérni. Maximum teljesítmény amire képes az $P_{max}$=450 mW, azaz maximum 67 V feszültséget kapcsolhatunk rá direktben ($P=UI=I^2R=\\frac{U^2}{R}$). Tehát a Raspberry Pi 3.3V-os és 5V-os tápja teljesen biztonságos. "
   ]
  },
  {
   "cell_type": "markdown",
   "metadata": {},
   "source": [
    "### A szenzor tesztelése"
   ]
  },
  {
   "cell_type": "markdown",
   "metadata": {},
   "source": [
    "A szenzorunkat relatv egyszerű tesztelni. Az NTCC 10k két lábú thermisztor. Ha a multiméter kapcsolóját ellenállásmérésre állítjuk be (pl. 20kOhm állapotba), akkor mérhetjük a thermisztor aktuális ellenállását. Ha megfogjuk az ujjunkkal a thermisztort, elviekben elkezdjük melegíteni, akkor az ellenállásának csökkennie kell. Ha elegendjük, újra emelkednie kell az ellenállásnak. "
   ]
  },
  {
   "cell_type": "markdown",
   "metadata": {},
   "source": [
    "### A szenzor Raspberry Pi-re csatlakoztatása"
   ]
  },
  {
   "cell_type": "markdown",
   "metadata": {},
   "source": [
    " A dolgunkat az nehezíti, hogy a Raspberry Pi nem tud analóg jelet olvasni, csakis digitális jel olvasására képes. Emiatt az áramkörünkben szükségünk lesz egy analóg-digitális átalakítóra (analoge-digital converter, ADC). Rengeteg különböző típus létezik a világon, mi ebből az MCP3008 nevű konvertert fogjuk használni. "
   ]
  },
  {
   "cell_type": "markdown",
   "metadata": {},
   "source": [
    "#### MCP3008 ADC"
   ]
  },
  {
   "cell_type": "markdown",
   "metadata": {},
   "source": [
    "Ez egy olcsó 8 csatornás (channel) 10-bites analóg digitális átalakító. Nagyon jól használható a Raspberry Pi-vel, ha egyszerű analóg jeleket akarunk olvasni, mint pl. a következő eszközök jelei: potenciométer, thermisztor, fotocella, 2 tengelyű joystick. 2.7V-5.5V tápfeszültséget képes elfogadni. Ez az eszköz az SPI kommunikációs protokollt támogatja, ami a Raspberry Pi-on is aktiválható. \n",
    "\n",
    "A fenti paraméterekből már látható, hogy mit érdemes figyelembe venni egy ADC kiválasztásánál: milyen táppal rendelkezünk, mekkora maximális áramerősséget bír el, milyen kommunikációs protokollt használ, mennyi analóg csatornát tud olvasni egyszerre, hány bites (milyen pontosan tudja az olvasott analóg jelet digitalizálni)?\n",
    "\n",
    "A lenti képen láthatjuk az ADC lábkiosztását. A lábak számozását a chip egyik szélén található félkör alapú bevágás alapján tudjuk meghatározni. A képen látható elrendezésben bal oldalt vannak a csatornák, amire az analóg jeleket kapcsolhatjuk rá, jobb oldalon pedig azok a lábak amiket a Rasperry Pi-ra kötünk. \n",
    "\n",
    "A **VDD**-re (16-os láb) kapcsoljuk azt a tápot ami biztosítja a chip működését. A Raspberry Pi-on 5V és 3.3V tápok vannak, bármelyiket rá lehet kapcsolni, illetve akár külső tápot is használhatunk. \n",
    "\n",
    "A **DGND**-re (digital ground) a földelést kapcsoljuk. Ez is a chip működéséhez szükséges.\n",
    "\n",
    "Az SPI kommunikációt 4 adat pin biztosítja:\n",
    "\n",
    "A **DOUT** (Data Out from MCP3008) ami az MCP3008-ból kimenő adatot szolgáltatja, azaz a Raspberrybe bemenő jelet, amit a **MISO** (Master In Slave Out) pinre (GPIO09) kell kapcsolni. A **DIN** (Data In from Raspberry Pi) ami a Raspberryből jövő adat fogadására szolgál, amit a Raspberryn a **MOSI** (Master Out Slave In) pinre (GPIO10) kell kötni. A **CLK** (clock pin) ami az órajelet adja, a Raspberryn az **SCLK** pinre (GPIO11) kell kötni. Végül a **CS** (Chip Select) ami ha aktív állapotban van, akkor lehetővé teszi a jelek kiolvasását az MCP3008-ból, de ha inaktív állapotban van, akkor hiába jön be jel a chipbe, azt a Raspberry nem fogja megkapni. Ezt a Raspberryn két pinre lehet kötni, a **CE0** (GPIO08) vagy a **CE1** (GPIO07).\n",
    "\n",
    "Az **AGND** (analog ground) amit általában a precíziós áramkörökben használnak, szintén a földelésre csatlakozik. \n",
    "\n",
    "A **VREF** (analog voltage reference) ami egy referencia feszültség, amivel a kiolvasandó feszültség skálázható. A mi esetünkben a thermisztor áramköre 3.3V-ot kap és kiolvasáskor ezt az értéket nem szeretnénk skálázni, így a VREF is a 3.3V-os pinre csatlakozik. "
   ]
  },
  {
   "cell_type": "markdown",
   "metadata": {},
   "source": [
    "<img src=\"bevezeto/mcp3008pin.gif\" width=400 height=400 />"
   ]
  },
  {
   "cell_type": "markdown",
   "metadata": {},
   "source": [
    "Összekötési táblázat az MCP3008 és a Raspberry Pi között:\n",
    "\n",
    "| Honnan (MCP3008)| Hova (Raspberry Pi) | \n",
    "|:---|:---|\n",
    "|MCP3008 VDD | 3.3V |\n",
    "|MCP3008 VREF | 3.3V |\n",
    "|MCP3008 AGND | GND |\n",
    "|MCP3008 CLK | GPIO11 SCLK |\n",
    "| MCP3008 DOUT | GPIO09 MISO | \n",
    "| MCP3008 DIN | GPIO10 MOSI | \n",
    "| MCP3008 CS | GPIO08 SPI0 CE0 |\n",
    "| MCP3008 DGND | GND|"
   ]
  },
  {
   "cell_type": "markdown",
   "metadata": {},
   "source": [
    "Lentebb egy ábra látható az MCP3008 átalakító Raspberryhez való kötéséről. Az analóg jel a CH0-n érkezik a chipbe, míg az SPI kommunikációhoz a drótok a Raspberryn az erre a célra kialakított pinekhez van kötve. \n"
   ]
  },
  {
   "cell_type": "markdown",
   "metadata": {},
   "source": [
    "<img src=\"bevezeto/mcp3008wiring.png\" width=600 height=600 />"
   ]
  },
  {
   "cell_type": "markdown",
   "metadata": {},
   "source": [
    "*Az ábra forrása: https://learn.adafruit.com/reading-a-analog-in-and-controlling-audio-volume-with-the-raspberry-pi/connecting-the-cobbler-to-a-mcp3008*"
   ]
  },
  {
   "cell_type": "markdown",
   "metadata": {},
   "source": [
    "Az itt definiált Raspberry Pi pin bekötés a hardweres SPI kommunikációhoz kell. Ehhez engedélyeztetni kell a számítógépen ennek a lehetőségét. Először ellenőrízzük, hogy engedélyeztetve van-e. A terminálba gépeljük be, hogy ```ls -l /dev/spi*``` és ha a válaszban látszik a ```/dev/spidev0.0``` és ```/dev/spidev0.1``` akkor minden rendben van. \n",
    "\n",
    "Ha nem látszik a várt visszajelzés, akkor a következő lépéseket kell megtenni:"
   ]
  },
  {
   "cell_type": "markdown",
   "metadata": {},
   "source": [
    "1) Egy terminálban begépelni: ```sudo raspi-config```\n",
    "\n",
    "2) Válasszuk ki az ```Interfacing Options``` menűsort\n",
    "\n",
    "3) Válasszuk ki az ```SPI``` menűsort\n",
    "\n",
    "4) A ```YES``` kiválasztásával engedélyezzük az aktiválást\n",
    "\n",
    "5) Indítsuk újra a Raspberry Pit.\n"
   ]
  },
  {
   "cell_type": "markdown",
   "metadata": {},
   "source": [
    "Újraidítás után fel kell installálni még egy csomagot a ```spidev```-et. Ehhez a legegyszerűbb a terminálba begépelni a ```pip install spidev``` parancsot. "
   ]
  },
  {
   "cell_type": "markdown",
   "metadata": {},
   "source": [
    "Az ADC-k működésükből kifolyólag analóg jelet olvasnak be, ami pl. a mi Raspberry-s esetünkben 0V és 3.3V között bármilyen értéket fel vehet, és digitális jelet ad ki, ami magas és alacsony állapotot tud felvenni. Az MCP3008 10 bites felbontása azt jelenti, hogy a 0V-tól 3.3V-ig terjedő intervallumot 10 db bitbe tudja szétosztani egyenletesen. A kiolvasáskor egy számot kapunk ami a 2-nek a hatványa, maximum $2^{10}$, azaz 0-tól 1023-ig terjedő szám lehet. Ezt az értéket a következő képlettel tudjuk visszakonvertálni feszültségbe: $\\frac{ADC}{1023} \\times V_{ref}$, ahol az ADC a digitális oldalon kiolvasott szám, $V_{ref}$ pedig a referencia feszültség amit az MCP3008-ra kötöttünk. Az ADC-nek minél nagyobb bites felbontása van, annál pontosabban tudja előállítani az analóg jel digitális megfelelőjét. "
   ]
  },
  {
   "cell_type": "markdown",
   "metadata": {},
   "source": [
    "Az MCP3008-al több modulon keresztül is tudunk kommunikálni, de a *gpiozero* csomagnak is van előre definiált objektuma erre a célra, méghozzá az **MCP3008** objektum. Ezt beimportálva és inicializálva képesek leszünk kommunikálni az átalakítóval. Az MCP3008 objektumnak számos metódusa van, így pl. a kiolvasott digitális jelet nem kell nekünk átalakítani feszültséggé, ezt az objektum ```voltage``` metódusa alapból tudja."
   ]
  },
  {
   "cell_type": "markdown",
   "metadata": {},
   "source": [
    "### Referencia"
   ]
  },
  {
   "cell_type": "markdown",
   "metadata": {},
   "source": [
    "1) NTCC 10k datasheet - https://www.tme.eu/Document/f06e7f4c0fd5fd1c49c3e9fd8ceb0529/NTCC-10K.pdf\n",
    "\n",
    "2) MCP3008 datasheet - https://cdn-shop.adafruit.com/datasheets/MCP3008.pdf\n",
    "\n",
    "3) https://learn.adafruit.com/reading-a-analog-in-and-controlling-audio-volume-with-the-raspberry-pi/connecting-the-cobbler-to-a-mcp3008\n",
    "\n",
    "4) https://tutorials-raspberrypi.com/mcp3008-read-out-analog-signals-on-the-raspberry-pi/\n",
    "\n",
    "5) https://hu.wikipedia.org/wiki/Anal%C3%B3g-digit%C3%A1lis_%C3%A1talak%C3%ADt%C3%B3"
   ]
  },
  {
   "cell_type": "code",
   "execution_count": null,
   "metadata": {},
   "outputs": [],
   "source": []
  }
 ],
 "metadata": {
  "kernelspec": {
   "display_name": "Python 3",
   "language": "python",
   "name": "python3"
  },
  "language_info": {
   "codemirror_mode": {
    "name": "ipython",
    "version": 3
   },
   "file_extension": ".py",
   "mimetype": "text/x-python",
   "name": "python",
   "nbconvert_exporter": "python",
   "pygments_lexer": "ipython3",
   "version": "3.7.3"
  },
  "toc": {
   "base_numbering": 1,
   "nav_menu": {},
   "number_sections": true,
   "sideBar": true,
   "skip_h1_title": false,
   "title_cell": "Table of Contents",
   "title_sidebar": "Contents",
   "toc_cell": false,
   "toc_position": {},
   "toc_section_display": true,
   "toc_window_display": false
  }
 },
 "nbformat": 4,
 "nbformat_minor": 4
}
