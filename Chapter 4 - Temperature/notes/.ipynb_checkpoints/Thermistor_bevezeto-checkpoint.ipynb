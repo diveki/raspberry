{
 "cells": [
  {
   "cell_type": "markdown",
   "metadata": {},
   "source": [
    "# Bevezető - Hőmérséklet szenzorok"
   ]
  },
  {
   "cell_type": "markdown",
   "metadata": {},
   "source": [
    "## Hőmérséklet mérés"
   ]
  },
  {
   "cell_type": "markdown",
   "metadata": {},
   "source": [
    "A hőmérséklet az egy nehezen megfogható dolog, hiszen általában viszonyítással határozzuk meg, hogy valami meleg vagy hideg. Ennek ellenére nagy jelentősséggel bír a mindennapi életünkben és ez így volt a történelem minden részében. A mezőgazdaságban nélkülözhetetlen egy adott nap hőmérsékletének ismerete, illetve az évszakok periódikus változása (ami általában átlagos hőmérséklet változással is jár). Az orvostudományban is fontos a test hőmérsékletének mérése illetve vannak gyógyszerek amiket csak adott hőmérséklet alatti környezetben lehet tárolni. Még ezer más területet fel lehetne hozni példának. \n",
    "\n",
    "A hőmérséklet mérése a 17. századig nem volt standardizálva. Ekkor kezdték kifejleszteni azokat az eszközöket, amik általában az anyag egy fizikai tulajdonságának változását mérték hőmérséklet változás hatására. A legismertebb hőmérő talán a higanyos hőmérő. A hőmérséklet növekedésére egy üvegcsében levő higany tágulni kezd és ennek a mértéke arányos a hőmérséklettel.\n",
    "\n",
    "A technológia fejlődésével rengeteg fajta hőmérséklet szenzort fejlesztettek ki. Csak, hogy néhányat említsünk:\n",
    "\n",
    "* Thermoelem - két különböző elektromos vezető találkozásánál feszültségkülönbség jön létre, ami a vezetők hőmérsékletével arányosan változik. \n",
    "* Ellenállás hőmérő (resistance temperature detectors, RTD) - ellenálások amik alkotóanyaga tiszta fémek, alkatrészek, amik ellenállás értéke a hőmérséklet változásával jól meghatározható formában változik.\n",
    "* Thermisztorok - nagyrészt polimerből vagy kerámiából készült anyagok, amik ellenállása jól definiálhatóan változik a hőmérséklettek.\n",
    "* Infravörös hőmérők - az anyag hőmérsékleti (infravörös) sugárzását mérik és nem igényelnek kontaktot a mérendő anyaggal.\n",
    "\n",
    "A projektjeink folyamán mi thermisztorokat fogunk használni."
   ]
  },
  {
   "cell_type": "markdown",
   "metadata": {},
   "source": [
    "## Thermisztorok"
   ]
  },
  {
   "cell_type": "markdown",
   "metadata": {},
   "source": [
    "Amint láthattuk a thermisztorok és az ellenállás hőmérők (RTD) működlsüket tekintve hasonlítanak egymáshoz, de mégis van jó néhány különbség.\n",
    "\n",
    "Az RTD-k főként fémből, míg a thermisztorok leginkább félvezetőkből készülnek. Az RTD-k nagy hőmérséklet intervallumon mérnek, -230 C-tól 660 C-ig, főként az iparban használják őket, kicsi a felbontásuk és lassan reagálnak a hőmérséklet változásra. A thermistorok inkább a -60 C-tól 130 C-ig mérnek, inkább műszerekben használják őket, nagy felbontással rendelkeznek és gyorsan reagálnak a hőmérséklet változásra. Nagyon fontos, hogy az RTD-k ellenállása linearisan változik a hőmérséklettel, míg a thermistorok ellenállása nem-linearisan.\n",
    "\n",
    "Megkülönböztetjük az NTC (negative temperature coefficient) és a PTC (positive temperature coefficient) thermisztorokat.\n",
    "\n",
    "* NTC thermisztor - a hőmérséklet növekedésével csökken az ellenállása, míg a hőmérséklet csökkenésével növekszik az ellenállása. A 10 kOhm körüli thermisztorok normál hőmérséklet mérésére használandók különböző eszközökben. A nagyobb ellenállású thermisztorokat nagy áramerősségű áramkörökben használják, hogy a kezdeti nagy áramlöketnek ellenálljon és megvédje az áramkört, majd a nagy áramerősség hatására melegszik és lassan csökkenti az ellenállását, így beszabályozva a rajta átfolyó nagy áramerősség értékét. \n",
    "\n",
    "* PTC thermisztor - ellenállása a hőmérséklet változásának irányába változik. Megakadályozza, hogy az áramkörökbe nagy áramerősségek folyannak. Egy konstans feszültségen, ha nagy áramerősség érkezik erre a thermisztorra, akkor elkezd melegedni, aminek hatására megnő az ellenállása, így limitálva a rajta áthaladó áramerősséget. "
   ]
  },
  {
   "cell_type": "markdown",
   "metadata": {},
   "source": [
    "A thermisztorok alapvetően analóg jelet adnak ki magukból, de sokszor előfordul, hogy összeszereléskor egybeépítik egy analóg digitális átalakítóval (analoge-digital converter, ADC) és egy kommunikációs csatornával. A digitális szenzorok általában szilikon alapú integrált áramkörök. A legtöbbje tartalmazza a hőmérséklet szenzort, egy ADC-t, memóriát az adatok ideiglenes tárolására és egy kommunikációs interféjszt a szenzor és a mikrokontroller között. Így tehát ezek az eszközök egyból a hőmérsékletet adják meg.\n",
    "\n",
    "Az NTC thermisztorokat előszeretettel alkalmazzák fűtési rendszerek hőszabályozásánál, elemek hőmérsékletének mérésére töltés alatt pl. az autóiparban stb."
   ]
  },
  {
   "cell_type": "markdown",
   "metadata": {},
   "source": [
    "### Thermisztor és a feszültségosztó"
   ]
  },
  {
   "cell_type": "markdown",
   "metadata": {},
   "source": [
    "Alapjáraton a thermisztor nem mutat ki hőmérsékletet, arra a rajta eső feszültségből kell következtetnünk. Ehhez használunk feszültségosztót. Egy ismert ellenállást $R_S$ és a thermistort $R_{TH}$ sorba kötve egy konstans feszültségforrásra $V_S$ kapcsoljuk, majd mérjük a feszültséget $V_{OUT}$ a két ellenállás között. Ohm törvényét alkalmazva meghatározhatjuk a thermistor ellenállását az aktuális hőmérsékleten. \n",
    "\n",
    "A sorba kötött ellenállások eredő értéke $R_e = R_S + R_{TH}$. Így az áramkörben az áramerősség, $I = \\frac{V_S}{R_S + R_{TH}}$. Az áramerősséget behelyettesíthetjük a thermistoron mért feszültség képletébe, $V_{OUT} = I\\times R_{TH}$ azaz $V_{OUT} = V_S\\frac{R_{TH}}{R_S + R_{TH}}$. Megmérve a feszültségesést a thermisztoron meghatározhatjuk az előző képletből az aktuális ellenállását. Ezt összehasonlítva az ellenállás-hőmérséklet görbével, kikereshetjük az érzékelt hőmérsékletet."
   ]
  },
  {
   "cell_type": "markdown",
   "metadata": {},
   "source": [
    "<img src=\"bevezeto/divider.gif\" width=300 height=300 />"
   ]
  },
  {
   "cell_type": "markdown",
   "metadata": {},
   "source": [
    "<center>Feszültségosztó thermisztorral. Forrás: https://www.electronics-tutorials.ws/io/thermistors.html<\\center>"
   ]
  },
  {
   "cell_type": "markdown",
   "metadata": {},
   "source": [
    "<img src=\"bevezeto/temperature.gif\" width=300 height=300 />"
   ]
  },
  {
   "cell_type": "markdown",
   "metadata": {},
   "source": [
    "<center>Thermisztor ellenállása a hőmérséklet függvényében. Forrás: https://www.electronics-tutorials.ws/io/thermistors.html<\\center>"
   ]
  },
  {
   "cell_type": "markdown",
   "metadata": {},
   "source": [
    "A fenti ábrából is látható, hogy a thermisztorok nem-lineáris ellenállás változást adnak a hőmérséklet változására.\n",
    "\n",
    "A projektjeinkben 3 fajta thermisztort fogunk használni, a DS18b20-as NTC digitális szenzort, a DHT11 hőmérséklet és páramérő digitális szenzort és "
   ]
  },
  {
   "cell_type": "markdown",
   "metadata": {},
   "source": [
    "### Referencia\n",
    "\n",
    "1) https://www.electronics-tutorials.ws/io/io_3.html\n",
    "\n",
    "2) https://www.electronics-tutorials.ws/io/thermistors.html\n",
    "\n",
    "3) https://circuitglobe.com/difference-between-rtd-and-thermistor.html\n",
    "\n",
    "4) Feszültségosztó thermisztorral - https://www.petervis.com/GCSE_Design_and_Technology_Electronic_Products/Potential_Divider/Potential_Divider_with_Thermistor.html"
   ]
  },
  {
   "cell_type": "markdown",
   "metadata": {},
   "source": [
    "## DS18b20 szenzor"
   ]
  },
  {
   "cell_type": "markdown",
   "metadata": {},
   "source": [
    "A DS18b20 szenzorok nagyon kompakt, gyors és pontos, de könnyen kezelhető hőmérséklet mérők. Digitális jelet állítanak elő és egy lábon keresztül (signal) adják le a jelet. Ez a szenzor a One-Wire kommunikációs protokollt alkalmazza a szenzor és a mikrokontroller közti adatátvitelre. \n",
    "\n",
    "Legtöbb esetben 3 kábelre van szüksége a működéshez: \n",
    "\n",
    "* táp kábel,\n",
    "* földelés,\n",
    "* adatkábel.\n",
    "\n",
    "Parazita üzemmódban csak a földelés és az adatkábel van használatban, ugyanis a tápot is az adatkábelen kapja meg ekkor. Rendelkezik egy riasztó funkcióval, ami aktiválódik és egy jelet generál, ha a hőmérséklet átlép egy előre megadott értéket. Elviekben bármennyi ilyen szenzort ugyanarra a pinre köthetünk, ugyanis a mikrokontroller a szenzorok egyedi 64 bites címük alapján meg tudja különböztetni, hogy melyikről jött az adat. \n",
    "\n",
    "### Technikai jellegzetességek\n",
    "\n",
    "* -55 $^{\\circ}$C és 125 $^{\\circ}$C között mér.\n",
    "* 3.0 V és 5.0 V között kell tápfeszültséget adni neki.\n",
    "* 750 ms-onként tud mintát venni.\n",
    "* 0.5 $^{\\circ}$C (9 bit); 0.25 $^{\\circ}$C (10 bit); 0.125 $^{\\circ}$C (11 bit); 0.0625 $^{\\circ}$C (12 bit) felbontásokat lehet beállítani.\n",
    "* 64 bites egyedi cím.\n",
    "* One-Wire kommunikációs protokoll. "
   ]
  },
  {
   "cell_type": "markdown",
   "metadata": {},
   "source": [
    "### A szenzor tesztelése"
   ]
  },
  {
   "cell_type": "markdown",
   "metadata": {},
   "source": [
    "Ha a szenzor lapos oldalával állunk szemben, akkor a 3 láb közül a bal oldali a földelés, a jobb oldali a táp és a középső az signál, jel láb. Ha tesztelni akarjuk egyszerű eszközökkel, hogy működik-e akkor a földelésre és a tápra rátesszük a megfelelő drótokat, majd keresünk egy mérőműszert. Annak a negatív drótját (általában fekete) a földelésre kötjük míg a másikat (általában piros) a jel lábhoz érintjük. A szenzor időben pulzáló digitális jelet ad ki, aminek maximum értéke kb. 3.3V. A mérőműszer az olvasott impulzusokat átlagolja és azt jelzi ki. "
   ]
  },
  {
   "cell_type": "markdown",
   "metadata": {},
   "source": [
    "### A DS18b20 szenzor Raspberry Pi-re csatlakoztatása"
   ]
  },
  {
   "cell_type": "markdown",
   "metadata": {},
   "source": [
    "A Raspberryre csatlakozáshoz a GND-vel jelölt lábát a szenzornak a Raspberry GND-vel jelölt tüskéjéhez kell kötni. A táppal jelölt lábát a szenzornak a Raspberry 3.3 V-os tüskéjéhez kell kötni. A Raspberry *GPIO4*-es tüskéjét pedig a szenzor adatlábára kell kötni. A szenzorral való kommunikáláshoz egy feszültségosztó felállásban hozzá kell kapcsolni még egy $R_1$ = 4.7 kOhm-os ellenállást. Ezt az ellenállást a táp és a signál labak közé kell bekötni. A lenti ábra mutatja, hogyan is kell kinézzen az áramkör.  "
   ]
  },
  {
   "cell_type": "markdown",
   "metadata": {},
   "source": [
    "<img src=\"bevezeto/wiring_DS18B20.png\" width=700 height=900 />"
   ]
  },
  {
   "cell_type": "markdown",
   "metadata": {},
   "source": [
    "### A One-Wire protokol aktiválása a Raspberry Pi-n"
   ]
  },
  {
   "cell_type": "markdown",
   "metadata": {},
   "source": [
    "Ahhoz, hogy működjön a kommunikáció a szenzorral, engedélyeznünk kell a Raspberryn a One-Wire protokolt. "
   ]
  },
  {
   "cell_type": "markdown",
   "metadata": {},
   "source": [
    "1) Nyissunk ki egy terminált és írjuk be, hogy ```sudo nano /boot/config.txt```, majd a megnyitott fájl utolsó sorába írjuk be a következőt:"
   ]
  },
  {
   "cell_type": "markdown",
   "metadata": {},
   "source": [
    "2) ```dtoverlay=w1-gpio```"
   ]
  },
  {
   "cell_type": "markdown",
   "metadata": {},
   "source": [
    "3) Lépjünk ki a Nano editorból és indítsuk újra a Raspberry Pi-t, gépeljük a terminálba ```sudo reboot```."
   ]
  },
  {
   "cell_type": "markdown",
   "metadata": {},
   "source": [
    "4) Újraindítás után nyissunk ki újra egy terminált és gépeljük be: ```sudo modprobe w1-gpio```"
   ]
  },
  {
   "cell_type": "markdown",
   "metadata": {},
   "source": [
    "5) Következő parancsnak írjuk: ```sudo modprobe w1-therm```"
   ]
  },
  {
   "cell_type": "markdown",
   "metadata": {},
   "source": [
    "6) Ezután mennyünk át abba a mappába, ahova a külső eszközök találhatók: ```cd /sys/bus/w1/devices```"
   ]
  },
  {
   "cell_type": "markdown",
   "metadata": {},
   "source": [
    "7) Listázzuk ki a mappa tartalmát, ```ls```. Ha minden rendben ment, lennie kell itt egy mappának ami hasonlít a ```28-XXXXXXXXXXXX``` (az X itt számokat szimbolizál, a szenzor azonosítója). A 28 a szenzor család azonosítója. A DS1820 és DS18S20 család azonosítója 10, valamint a DS1822 azonosítója a 22. Ha van olyan mappa, akkor lépjünk bele: ```cd 28-XXXXXXXXXXXX```."
   ]
  },
  {
   "cell_type": "markdown",
   "metadata": {},
   "source": [
    "8) A mappában kell, hogy legyen egy ```w1_slave``` nevű fájl, ami tartalmazza a szenzor státuszát és az aktuális hőmérsékletet. Hogy megtekintsük a tartalmát, gépeljük be, hogy ```cat w1_slave```. Két sora van neki. Mindkét sor eleje az IC aktuális regiszter dump-ját mutatja hexadecimális formában. Az első sor vége a checksum (CRC) és megmutatja, hogy a kiolvasott információ érvényes-e (YES). A második sor vége mutatja a hőmérsékletet. A tizedes vesszőt nekünk kell oda képzelni, méghozzá 3 tizedes pontossággal, pl. 23542 a 23.542 $^\\circ$C-nak felel meg. Ha kicsivel később ismét megnézzük a fájl tartalmát, akkor az abban az időpontban mért hőmérsékletet fogja mutatni, azaz a fájl megnyitásával mindig az épp aktuális hőmérsékletet látjuk. "
   ]
  },
  {
   "cell_type": "markdown",
   "metadata": {},
   "source": [
    "### Referencia"
   ]
  },
  {
   "cell_type": "markdown",
   "metadata": {},
   "source": [
    "1) https://www.circuitbasics.com/raspberry-pi-ds18b20-temperature-sensor-tutorial/#:~:text=The%20DS18B20%20temperature%20sensor%20is,accurate%20and%20take%20measurements%20quickly\n",
    "\n",
    "2) https://wiki.eprolabs.com/index.php?title=DS18B20_Temperature_Sensor\n",
    "\n",
    "3) Datasheet - https://www.circuitbasics.com/wp-content/uploads/2016/03/DS18B20-Datasheet.pdf\n",
    "\n",
    "4) 1-Wire - https://en.wikipedia.org/wiki/1-Wire\n",
    "\n",
    "5) https://learn.adafruit.com/tmp36-temperature-sensor"
   ]
  },
  {
   "cell_type": "markdown",
   "metadata": {},
   "source": [
    "## DHT11 hőmérséklet és pára szenzor"
   ]
  },
  {
   "cell_type": "markdown",
   "metadata": {
    "cell_style": "center"
   },
   "source": [
    "A szervo motorok olyan önálló elektromos eszközök amik nagy pontossággal forgatnak vagy tolnak/húznak elemeket egy szerkezetben. A szervo motorok a DC motor egy típusai amik képesek egy meghatározott szögben elfordulni. Ami megkülönbözteti a szervo motort a DC motortól az az, hogy szabályozhatod a szervo motor elfordulási szögét, míg a DC motornál lényegében csak azt, hogy be van-e kapcsolva vagy sem. A szervo, amíg be van kapcsolva, egyfolytában ellenőrzi és tartja a megadott pozícióját. Ha ki akarnánk mozdítani a helyzetéből, ellenállna. \n",
    "\n",
    "Szervo motorok nagyon sok területen előfordulnak pl. robot kezekben, CNC gépekben, autókban, CD/DVD lejátszókban stb. A repülőgépekben a szervo és a hozzá kapcsolódó hidraulikus technológia szabályozza pl. a gép szárnyainak szögét. A szervok különböző méretben léteznek, a nagy teljesítményűek pl. egy robot kezét mozgatják, míg a kisebbek pl. kis játékautókban fordulnak elő. "
   ]
  },
  {
   "cell_type": "markdown",
   "metadata": {},
   "source": [
    "### Hogyan működnek a szervo motorok?"
   ]
  },
  {
   "cell_type": "markdown",
   "metadata": {
    "cell_style": "center"
   },
   "source": [
    "Ahogy említettük már a szervo motorok igazából egy DC motorból állnak. Ezeket áram hajtja meg és képesek nagy fordulatszámmal pörögni (RPM - Rotatations Per Minute), viszont nagyon kis forgató nyomatékot képesek leadni (forgató nyomatékot alkalmazunk forgó mozgások létrehozásához, pl. egy ajtó kinyitásához). Mindeközben a motor működéséhez egy adott munka kellett ($W = T \\dot \\theta$, ahol $W$ a munka, $T$ a forgatónyomaték és $\\theta$ az elfordulás szöge). Speciális fogaskerék láncolattal lecsökkenthetjük a fordulatszámot, azaz ugyanannyi munka befektetésével kevesebb elfordulást ($\\theta$) érünk el. Mivel a munka állandó, kisebb elfordulás mellett a szervo motor nagyobb forgatónyomatékot képes kifejteni. Felhasználás függvényében a kifejtendő forgatónyomaték, illetve a forgás sebessége változik, ami miatt fontos, hogy egy adott feladathoz a megfelelő paraméterekkel rendelkező szervo motort válasszunk. Általában a nagyobb forgatónyomatékú és minőségesebb szervok drágábbak is. \n",
    "\n",
    "Az olcsóbb és kisebb szervokban sokszor potenciométereket alkalmaznak a feszültség mérésére az elfordulás függvényében. Ez egy kis áramkörhöz van kapcsolva. A potenciométer megmondja az áramkörnek, hogy mennyit fordult el a motor, amit az összevet a beadott értékkel és utasítja a motort, hogy mozduljon a megfelelő irányba. "
   ]
  },
  {
   "cell_type": "markdown",
   "metadata": {},
   "source": [
    "### A szervo motorok irányítása"
   ]
  },
  {
   "cell_type": "markdown",
   "metadata": {
    "cell_style": "center"
   },
   "source": [
    "A szervo az utasításokat impulzussorozatok formájában kapja pl. egy számítógéptől. Impulzusnak nevezzük az átmenetet alacsony feszültségből magasba, amiben egy bizonyos ideig meg is marad, majd ismét alacsonyba megy vissza (illetve ennek a folyamatnak a fordítotját is). Impulzus sorozat ezen impulzusok időközönkénti ismétlődése. Elektronikában az alacsony állapotot általában a földdel vagy 0 V-tal azonosítjuk, míg a magas állapot a tápunk feszültége. A hobbi szervok 4.5-6 V-os tartományban működnek.\n",
    "\n",
    "Két impulzus beérkezése közti időt hívjuk periódusnak (*T (s)*), míg ennek a reciprokát hívjuk frekvenciának (*f (Hz)*). A magas feszültségben eltöltött időt pedig kitöltési tényezőnek (*duty cycle (s)*) nevezzük. A szervo elfordulási szögét evvel a kitöltési tényezővel szabályozhatjuk. A kitoltési idő változtatását impulzus-szélesség modulációnak (PWM - Pulse Width Modulation) hívjuk. A lenti ábrán egy 3 impulzusból álló impulzussorozatot látunk, aminek a kitöltési idejét változtatjuk. Az impulzussorozat periódusa 20 ms, amplitudója 5 V, és a kitöltési tényezője 2 ms-tól (10 %) változik 20 ms-ig (100 %), amikor már eltűnnek az impulzusok és helyette konstans magas (5 V) feszültségi állapotban van. \n",
    "\n",
    "A legtöbb hobbi szervo motort 50 Hz-es bemeneti jelre tervezték, ami azt jelenti, hogy az impulzusok 20 ms-ként ismétlik egymást (lást az ábrát lejjebb). Ez az ismétlés biztosítja a szervot arról, hogy folyamatosan tartani tudja a pozícióját. A legtöbb szervo csak 0 és 180 fok között képes forogni. A vezérléshez tartozó értékeket a szervo adatlapján lehet elolvasni, pl. az MG90S szervoé [itt](https://www.electronicoscaldas.com/datasheet/MG90S_Tower-Pro.pdf) található. \n",
    "\n",
    "A szervo vezérléséhez azt egy feszültségforráshoz kell kapcsolni (4.5-6 V) és ezen felül a vezérlő jelnek (50 Hz-en) egy számítógépről (Raspberry Pi) vagy más áramkörről kell jönnie. A vezérlőjel szélessége általában 1 ms (5%-os kitöltési tényező) és 2 ms (10%-os kitöltési tényező) között van, ami felelős a 180 fokos elfordulásért. Pl. az MG90S szervo esetében az adatlap szerint 1.5 ms-os impulzus hossz felel meg a középponti pozíciónak ($0^{\\circ}$), 2 ms-os impulzus hossz felel meg az egyik végállapotnak ($90^{\\circ}$), míg 1 ms-os impulzus hossz felel meg a másik végállapotnak ($-90^{\\circ}$), "
   ]
  },
  {
   "cell_type": "markdown",
   "metadata": {},
   "source": [
    "<img src=\"PWM_duty_cycle_animation_compressed.gif\" width=800 height=600 />"
   ]
  },
  {
   "cell_type": "markdown",
   "metadata": {},
   "source": [
    "<center>A gif Joshua Hrisko írásából lett kimásolva, https://makersportal.com/blog/2020/3/21/raspberry-pi-servo-panning-camera</center>"
   ]
  },
  {
   "cell_type": "markdown",
   "metadata": {},
   "source": [
    "### A szervo motor Raspberry Pi-re csatlakoztatása"
   ]
  },
  {
   "cell_type": "markdown",
   "metadata": {},
   "source": [
    "A legtöbb mikrovezérlőn illetve egykártyás számítógépen találsz PWM kimenetet. A Raspberry Pi 3B+ két hardveres illetve több szoftveres kimenettel rendelkezik. A 40 pines Raspberry Pi 3B+-on 4 db hardware-es PWM üzemmódú pin van, ahol a GPIO12 és GPIO18 ugyanazokkal a paraméterekkel rendelkezik, illetve a GPIO13 és GPIO19 egy másik paraméterű csoportot alkot. Mindemellett az összes többi GPIO pint is be lehet állítani PWM üzemmódba szoftveresen, de lehet, hogy azoknak a stabilitása gyengébb a hardware-es verziójukhoz képest. \n",
    "\n",
    "A kisebb szervo motorok, mint pl. a MG90S nem igényelnek nagy áramerősséget a működéshez, de ez nem igaz az összes szervora. Annak ellenére, hogy a Raspberry Pi tud 5 V-os feszültségforrást biztosítani, nem feltétlenül biztonságos ezt rákapcsolni tápként a szervora. Ugyanis, ha a szervot leterheljük akkor nagyobb árammennyiséget húzna, amit a Raspberry Pi nem tudna elviselni és valószínűleg tartós károsodást szenvedne. Hogy a lenti kapcsolási rajzon is mutatjuk, teljes biztonságot adó megoldás a szervo független 5V-os tápegységről történő működtetése pl. 4 AAA elem sorbakapcsolásával. Ebben az esetben a táp negatív potenciálú pontját (fekete drót) a Raspberry Pi tetszőleges GND tüskéjével kell összekötni amit szintén rá kell kötni a szervo negatív fülére (fekete drót). A táp pozitív végét pedig a szervo pozitív végére kapcsoljuk (piros drót). Evvel biztosítjuk a megfelelő energiaforrást a szervo részére illetve megakadályozhatjuk, hogy nagyobb áramerősség folyjon át a Raspberry Pi tüskéin. \n",
    "\n",
    "A szervo motor vezérlése annak a vezérlő fülén keresztül történik (általában, sárga, narancssárga, fehér vagy kék színű). A biztonság kedvéért érdemes elolvasni a drótok színkiosztását a használati útmutatóban. A rossz bekötés a szervo tönkretételéhez vezethet. A vezérléshez a szervonak nincs szüksége nagy teljesítményre így azt a Raspberry Pi bármelyik 3.3 V-os GPIO tüskéjéről elintézhetjük. A rajzon, ahogy korábban már említettük, mi a GPIO18-as jelű tüskéhez kötöttük, mert ez rendelkezik hardware-es PWM üzemmóddal. Ennek a tüskének a kitöltési idejének a szabályozásával vezérelhetjük a szervo elfordulásának szögét. \n",
    "\n",
    "Ha attól tartanánk, hogy valamilyen okból, pl. egy erősebb szervonál, a vezérlő dróton is keletkezhetne nagyobb áramerősség, akkor a tüske és a szervó közé beköthetünk egy 1 k$\\Omega$ értékű ellenállást (lásd [6]-os referencia). "
   ]
  },
  {
   "cell_type": "markdown",
   "metadata": {},
   "source": [
    "<img src=\"bevezeto_szervo.png\" width=600 height=400 />"
   ]
  },
  {
   "cell_type": "markdown",
   "metadata": {},
   "source": [
    "### Referencia"
   ]
  },
  {
   "cell_type": "markdown",
   "metadata": {},
   "source": [
    "1) http://wiki.sunfounder.cc/images/c/c7/DHT11_datasheet.pdf\n",
    "\n",
    "2) http://wiki.sunfounder.cc/index.php?title=Humiture_Sensor_Module\n",
    "\n",
    "3) https://www.electronicsforu.com/tech-zone/electronics-components/humidity-sensor-basic-usage-parameter\n",
    "\n",
    "4) Magyar - http://www.malnasuli.hu/oktatas/teszt-bejegyzes-2/"
   ]
  },
  {
   "cell_type": "markdown",
   "metadata": {},
   "source": [
    "## Analóg thermisztor"
   ]
  },
  {
   "cell_type": "markdown",
   "metadata": {},
   "source": [
    "Az analóg thermisztorokra ugyanúgy működnek mint a digitális társaik (legalább is a szenzor rész), hiszen a digitális társak is egy analóg szenzorból állnak, csak a jeleik már az eszközben digitalizálásra kerülnek. Mi egy NTCC 10k nevű analóg thermisztort fogunk használni, de a paramétereket leszámítva szinte minden érvényes a többi thermisztorra is."
   ]
  },
  {
   "cell_type": "markdown",
   "metadata": {},
   "source": [
    "### Technikai jellegzetességek"
   ]
  },
  {
   "cell_type": "markdown",
   "metadata": {},
   "source": [
    "Tehát elmondható, hogy az analóg thermisztor ellenállása meghatározott módon változik a hőmérséklet változásával. Ezt legegyszerűbben a fent már tárgyalt feszültségosztó áramkörben tudjuk mérni. Lényegében ezt az elrendezést fogjuk használni a projektjeink kidolgozására. \n",
    "\n",
    "Az NTCC 10k szenzor adatlapja [itt](https://www.tme.eu/Document/f06e7f4c0fd5fd1c49c3e9fd8ceb0529/NTCC-10K.pdf) tekinthető meg. Ez egy 10 kOhmos ellenállás (25$^\\circ$C-on) és negatív együtthatójú, azaz a hőmérséklet növekedésére csökken az ellenállása. -30$^\\circ$C és +125$^\\circ$C közötti hőmérsékletet tud mérni. Maximum teljesítmény amire képes az $P_{max}$=450 mW, azaz maximum 67 V feszültséget kapcsolhatunk rá direktben ($P=UI=I^2R=\\frac{U^2}{R}$). Tehát a Raspberry Pi 3.3V-os és 5V-os tápja teljesen biztonságos. "
   ]
  },
  {
   "cell_type": "markdown",
   "metadata": {},
   "source": [
    "### A szenzor tesztelése"
   ]
  },
  {
   "cell_type": "markdown",
   "metadata": {},
   "source": [
    "A szenzorunkat relatv egyszerű tesztelni. Az NTCC 10k két lábú thermisztor. Ha a multiméter kapcsolóját ellenállásmérésre állítjuk be (pl. 20kOhm állapotba), akkor mérhetjük a thermisztor aktuális ellenállását. Ha megfogjuk az ujjunkkal a thermisztort, elviekben elkezdjük melegíteni, akkor az ellenállásának csökkennie kell. Ha elegendjük, újra emelkednie kell az ellenállásnak. "
   ]
  },
  {
   "cell_type": "markdown",
   "metadata": {},
   "source": [
    "### A szenzor Raspberry Pi-re csatlakoztatása"
   ]
  },
  {
   "cell_type": "markdown",
   "metadata": {},
   "source": [
    " A dolgunkat az nehezíti, hogy a Raspberry Pi nem tud analóg jelet olvasni, csakis digitális jel olvasására képes. Emiatt az áramkörünkben szükségünk lesz egy analóg-digitális átalakítóra (analoge-digital converter, ADC). Rengeteg különböző típus létezik a világon, mi ebből az MCP3008 nevű konvertert fogjuk használni. "
   ]
  },
  {
   "cell_type": "markdown",
   "metadata": {},
   "source": [
    "#### MCP3008 ADC"
   ]
  },
  {
   "cell_type": "markdown",
   "metadata": {},
   "source": [
    "Ez egy olcsó 8 csatornás (channel) 10-bites analóg digitális átalakító. Nagyon jól használható a Raspberry Pi-vel, ha egyszerű analóg jeleket akarunk olvasni, mint pl. a következő eszközök jelei: potenciométer, thermisztor, fotocella, 2 tengelyű joystick. 2.7V-5.5V tápfeszültséget képes elfogadni. Ez az eszköz az SPI kommunikációs protokollt támogatja, ami a Raspberry Pi-on is aktiválható. \n",
    "\n",
    "A fenti paraméterekből már látható, hogy mit érdemes figyelembe venni egy ADC kiválasztásánál: milyen táppal rendelkezünk, mekkora maximális áramerősséget bír el, milyen kommunikációs protokollt használ, mennyi analóg csatornát tud olvasni egyszerre, hány bites (milyen pontosan tudja az olvasott analóg jelet digitalizálni)?\n",
    "\n",
    "A lenti képen láthatjuk az ADC lábkiosztását. A lábak számozását a chip egyik szélén található félkör alapú bevágás alapján tudjuk meghatározni. A képen látható elrendezésben bal oldalt vannak a csatornák, amire az analóg jeleket kapcsolhatjuk rá, jobb oldalon pedig azok a lábak amiket a Rasperry Pi-ra kötünk. \n",
    "\n",
    "A **VDD**-re (16-os láb) kapcsoljuk azt a tápot ami biztosítja a chip működését. A Raspberry Pi-on 5V és 3.3V tápok vannak, bármelyiket rá lehet kapcsolni, illetve akár külső tápot is használhatunk. \n",
    "\n",
    "A **DGND**-re (digital ground) a földelést kapcsoljuk. Ez is a chip működéséhez szükséges.\n",
    "\n",
    "Az SPI kommunikációt 4 adat pin biztosítja:\n",
    "\n",
    "A **DOUT** (Data Out from MCP3008) ami az MCP3008-ból kimenő adatot szolgáltatja, azaz a Raspberrybe bemenő jelet, amit a **MISO** (Master In Slave Out) pinre (GPIO09) kell kapcsolni. A **DIN** (Data In from Raspberry Pi) ami a Raspberryből jövő adat fogadására szolgál, amit a Raspberryn a **MOSI** (Master Out Slave In) pinre (GPIO10) kell kötni. A **CLK** (clock pin) ami az órajelet adja, a Raspberryn az **SCLK** pinre (GPIO11) kell kötni. Végül a **CS** (Chip Select) ami ha aktív állapotban van, akkor lehetővé teszi a jelek kiolvasását az MCP3008-ból, de ha inaktív állapotban van, akkor hiába jön be jel a chipbe, azt a Raspberry nem fogja megkapni. Ezt a Raspberryn két pinre lehet kötni, a **CE0** (GPIO08) vagy a **CE1** (GPIO07).\n",
    "\n",
    "Az **AGND** (analog ground) amit általában a precíziós áramkörökben használnak, szintén a földelésre csatlakozik. \n",
    "\n",
    "A **VREF** (analog voltage reference) ami egy referencia feszültség, amivel a kiolvasandó feszültség skálázható. A mi esetünkben a thermisztor áramköre 3.3V-ot kap és kiolvasáskor ezt az értéket nem szeretnénk skálázni, így a VREF is a 3.3V-os pinre csatlakozik. "
   ]
  },
  {
   "cell_type": "markdown",
   "metadata": {},
   "source": [
    "<img src=\"bevezeto/mcp3008pin.gif\" width=400 height=400 />"
   ]
  },
  {
   "cell_type": "markdown",
   "metadata": {},
   "source": [
    "Összekötési táblázat az MCP3008 és a Raspberry Pi között:\n",
    "\n",
    "| Honnan (MCP3008)| Hova (Raspberry Pi) | \n",
    "|:---|:---|\n",
    "|MCP3008 VDD | 3.3V |\n",
    "|MCP3008 VREF | 3.3V |\n",
    "|MCP3008 AGND | GND |\n",
    "|MCP3008 CLK | GPIO11 SCLK |\n",
    "| MCP3008 DOUT | GPIO09 MISO | \n",
    "| MCP3008 DIN | GPIO10 MOSI | \n",
    "| MCP3008 CS | GPIO08 SPI0 CE0 |\n",
    "| MCP3008 DGND | GND|"
   ]
  },
  {
   "cell_type": "markdown",
   "metadata": {},
   "source": [
    "Lentebb egy ábra látható az MCP3008 átalakító Raspberryhez való kötéséről. Az analóg jel a CH0-n érkezik a chipbe, míg az SPI kommunikációhoz a drótok a Raspberryn az erre a célra kialakított pinekhez van kötve. \n"
   ]
  },
  {
   "cell_type": "markdown",
   "metadata": {},
   "source": [
    "<img src=\"bevezeto/mcp3008wiring.png\" width=600 height=600 />"
   ]
  },
  {
   "cell_type": "markdown",
   "metadata": {},
   "source": [
    "*Az ábra forrása: https://learn.adafruit.com/reading-a-analog-in-and-controlling-audio-volume-with-the-raspberry-pi/connecting-the-cobbler-to-a-mcp3008*"
   ]
  },
  {
   "cell_type": "markdown",
   "metadata": {},
   "source": []
  },
  {
   "cell_type": "markdown",
   "metadata": {},
   "source": [
    "Az MCP3008-al több modulon keresztül is tudunk kommunikálni, de a *gpiozero* csomagnak is van előre definiált objektuma erre a célra, méghozzá az **MCP3008** objektum. Ezt beimportálva és inicializálva képesek leszünk kommunikálni az átalakítóval. "
   ]
  },
  {
   "cell_type": "markdown",
   "metadata": {},
   "source": [
    "### Referencia"
   ]
  },
  {
   "cell_type": "markdown",
   "metadata": {},
   "source": [
    "1) NTCC 10k datasheet - https://www.tme.eu/Document/f06e7f4c0fd5fd1c49c3e9fd8ceb0529/NTCC-10K.pdf\n",
    "\n",
    "2) MCP3008 datasheet - https://cdn-shop.adafruit.com/datasheets/MCP3008.pdf\n",
    "\n",
    "3) https://learn.adafruit.com/reading-a-analog-in-and-controlling-audio-volume-with-the-raspberry-pi/connecting-the-cobbler-to-a-mcp3008"
   ]
  },
  {
   "cell_type": "code",
   "execution_count": null,
   "metadata": {},
   "outputs": [],
   "source": []
  }
 ],
 "metadata": {
  "kernelspec": {
   "display_name": "Python 3",
   "language": "python",
   "name": "python3"
  },
  "language_info": {
   "codemirror_mode": {
    "name": "ipython",
    "version": 3
   },
   "file_extension": ".py",
   "mimetype": "text/x-python",
   "name": "python",
   "nbconvert_exporter": "python",
   "pygments_lexer": "ipython3",
   "version": "3.7.3"
  },
  "toc": {
   "base_numbering": 1,
   "nav_menu": {},
   "number_sections": true,
   "sideBar": true,
   "skip_h1_title": false,
   "title_cell": "Table of Contents",
   "title_sidebar": "Contents",
   "toc_cell": false,
   "toc_position": {},
   "toc_section_display": true,
   "toc_window_display": false
  }
 },
 "nbformat": 4,
 "nbformat_minor": 4
}
