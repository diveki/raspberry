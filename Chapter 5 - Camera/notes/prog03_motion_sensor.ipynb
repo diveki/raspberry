{
 "cells": [
  {
   "cell_type": "markdown",
   "metadata": {},
   "source": [
    "# Projekt 3 - Mozgásérzékelő"
   ]
  },
  {
   "cell_type": "markdown",
   "metadata": {},
   "source": [
    "Sokszor előfordul veled, hogy tanulás helyett inkább a barátokkal beszélgetsz vagy netezel vagy egyéb jobb elfoglaltságot találsz a szobádban. Természetesen a szülők előszeretettel veszik ezt észre és kihasználják, hogy megdorgálhatnak. Emiatt elgondolkoztál azon, hogy lehetne előre tudni, hogy ők a szoba felé tartanak, anélkül, hogy rájönnének, hogy meglesed őket. \n",
    "\n",
    "Egy jól elrejtett megfigyelő kamera jól hangzik, ami a szobád előtti teret figyeli. Sajnos a kamera képét nem használhatod, mert a szüleid is meglátnák, hogy megfigyeled a környéket. Így arra gondoltál, hogy a kamera képéből egy algoritmus alapján megállapítod van-e mozgás, és ha igen, akkor egy LED izzóval jelzed magadnak, hogy valaki közelít."
   ]
  },
  {
   "cell_type": "markdown",
   "metadata": {},
   "source": [
    "## Mit fogsz készíteni?"
   ]
  },
  {
   "cell_type": "markdown",
   "metadata": {},
   "source": [
    "Egy webkamerából (vagy Picam-ből) és egy diódából álló rendszert rakunk össze. A kamera érzékeli a környezetének a képét majd azt elemezve az algoritmusunk eldönti történt-e mozgás vagy sem. Ha a képen elmozdult valami, akkor bekapcsolja a LED lámpát. "
   ]
  },
  {
   "cell_type": "markdown",
   "metadata": {},
   "source": [
    "## Mit tanulsz meg?"
   ]
  },
  {
   "cell_type": "markdown",
   "metadata": {},
   "source": [
    "A mozgásérzékelő projekt elkészítésével a következőket tanulod meg:\n",
    "\n",
    "* Hogyan működtetjük a LED-ket.\n",
    "* Hogyan használd az ```opencv``` csomagot a webkamerával való kommunikálásra.\n",
    "* Hogyan olvassunk ki adatokat a webkameráról.\n",
    "* Hogyan készíts egy egyszerű mozgásérzékelő algoritmust.\n",
    "* Hogyan importálj függvényeket modulokból.\n",
    "* Hogyan ábrázoljunk és frissítsük azt a ```matplotlib.pyplot``` csomag segítségével."
   ]
  },
  {
   "cell_type": "markdown",
   "metadata": {},
   "source": [
    "## A projekt részletekre bontása"
   ]
  },
  {
   "cell_type": "markdown",
   "metadata": {},
   "source": [
    "* Elkészíteni az áramkört.\n",
    "* Beimportálni a csomagokat amik segtik a munkánkat: ```cv2```, ```time```, ```numpy```, ```matplotlib```, ```datetime```, ```gpiozero``` és saját függvények.\n",
    "* Létrehozni a kapcsolatot a webkamerával az ```opencv``` csomag használatával. \n",
    "* Inicializálni a LED-et.\n",
    "* Képelemző függvényt írni, ami érzékeli a mozgást.\n",
    "* Függvényt írni a LED vezérlésére.\n",
    "* Kinyerni a kamera képnek szélességét és magasságát.\n",
    "* Inicializálni egy ábrát, ami jelzi majd, ha mozgás történik.\n",
    "* Végtelen ```while``` ciklusban rögzíteni és elemezni a kamera képet, eldönteni volt-e mozgás, frissíteni a mozgást jelző grafikonunkat.\n",
    "* A ```q``` billentyű lenyomásával jelezni, hogy befejeztük.\n",
    "* Bezárni a kapcsolatot a kamerával."
   ]
  },
  {
   "cell_type": "markdown",
   "metadata": {},
   "source": [
    "## Áramköri elemek listája"
   ]
  },
  {
   "cell_type": "markdown",
   "metadata": {},
   "source": [
    "a) [Raspberry PI](https://malnapc.hu/yis/raspberry-pi/rpi-panelek)  (vagy laptop)\n",
    "\n",
    "b) [Webkamera](https://www.emag.hu/iuni-k6i-webkamera-full-hd-1080p-mikrofonnal-usb-2-0-plug-play-515422/pd/DX66N2MBM/?cmpid=87141&gclid=CjwKCAjwj6SEBhAOEiwAvFRuKL7E3Z6v7Ei_MNy1eFxoAn4ySFojVRVyiqf8BByR43dhONUlKDsrPBoC4sIQAvD_BwE) vagy [Picam](https://malnapc.hu/raspberry-pi-camera-board-v2-8mp)\n",
    "\n",
    "c) [Jumper wires female/male](https://www.ret.hu/shop/product/e-call/jumper-vezetek-szet_53-22-63) \n",
    "\n",
    "d) 1db LED, $I_{max}$ = 20 mA-es: [itt vásárolhatsz](https://www.tme.eu/hu/katalog/tht-led-diodak-5mm_112898/?s_order=desc&search=led&s_field=1000011)\n",
    "\n",
    "e) 1db 220 - 560 Ohm közötti [ellenállás](https://www.tme.eu/hu/katalog/tht-metal-film-ellenallasok-0-6w_100289/?s_order=desc&search=ellenallas&s_field=1000011)\n",
    "\n",
    "f) 1db [Breadboard](https://www.tme.eu/hu/katalog/muhelyfelszereles_112607/?s_order=desc&search=breadboard&s_field=1000011)"
   ]
  },
  {
   "cell_type": "markdown",
   "metadata": {},
   "source": [
    "## A kapcsolási rajz"
   ]
  },
  {
   "cell_type": "markdown",
   "metadata": {},
   "source": [
    "<img src=\"schema/prog03_schema.png\" width=600 height=400 />"
   ]
  },
  {
   "cell_type": "markdown",
   "metadata": {},
   "source": [
    "A fenti ábrához hasonlóan kapcsoljuk össze az áramköri elemeket és a Raspberry Pi-t.\n",
    "\n",
    "1) Helyezzük a piros LED lábait két különboző sorba. Az anódjának (pozitív láb) sorába kössük be az ellenállásunk egyik lábát, míg a másikat kössük a földelésre. A LED katódját (negatív láb) egyelőre szabadon hadjuk. A LED anódjának és katódjának megállapítására használhatunk egy multimétert. Csatlakoztasd a fekete mérőzsinórt a COM (föld) és a piros mérőzsinórt a VΩmA jelzésű hüvelybe. Forgasd el a méréshatárváltó kapcsolót a folytonosság mérés állapotba. Érintsd a két zsínórt a két lábhoz és ha a LED halványan pislákol, akkor az a láb amelyikhez a fekete zsinórt érintetted a katód, a másik az anód. Ha nem pislákol akkor cseréld meg a zsinórok és a lábak érintkezését, hogy világítson.\n",
    "\n",
    "2) Nevezzük ki a breadboard oldalsó oszlopainak egyikét a közös földelésnek (az ábrán a fekete drótok képviselik). Ide kössük be a LED negatív lábát. Ugyanebbe az oszlopba kössük be a Raspberry Pi egyik **GND** jelölésű tüskéjét is egy jumper drót segítségével.\n",
    "\n",
    "3) A LED szabadon levő lábát egy jumperrel kössük össze a **2**-es GPIO tüskével."
   ]
  },
  {
   "cell_type": "markdown",
   "metadata": {},
   "source": [
    "## A kód\n",
    "\n",
    "Nyissunk meg egy új python fájlt és mentsük el pl. ```motion_sensor.py``` név alatt. "
   ]
  },
  {
   "cell_type": "markdown",
   "metadata": {},
   "source": [
    "### Importálások és villanyrendőr függvény"
   ]
  },
  {
   "cell_type": "markdown",
   "metadata": {},
   "source": [
    "Első lépésként beimportáljuk a szükséges csomagokat:\n",
    "\n",
    "* ```cv2``` - webkamerával való kommunikálásra az opencv csomag.\n",
    "* ```gpiozero``` - a ```LED``` klasszt importáljuk be. \n",
    "* ```time``` - a ```sleep``` függvényt használjuk majd késleltetésre.\n",
    "* ```numpy``` - evvel a csomaggal végezzük a matematikai műveleteket a mátrixokon (kamera által készített képen)."
   ]
  },
  {
   "cell_type": "markdown",
   "metadata": {},
   "source": [
    "Egy előző projektben már készítettünk villanyrendőrt, így azt a munkát elmenthetjük egy modulba, ```raspberry_functions.py``` (ennek a modulnak a helye ugyanabban a mappában kell legyen, ahova a fő programunkat, ```traffic_light_sensor.py```, mentettük). Ebbe a modulba bamásoljuk egy függvény formájában a működő villanyrendőrt:"
   ]
  },
  {
   "cell_type": "markdown",
   "metadata": {},
   "source": [
    "```raspberry_functions.py```:"
   ]
  },
  {
   "cell_type": "code",
   "execution_count": 1,
   "metadata": {},
   "outputs": [],
   "source": [
    "def traffic_light_sequence(red, amber, green, dt = 3):\n",
    "    sleep(dt)\n",
    "    green.off()\n",
    "    amber.on()\n",
    "    sleep(1)\n",
    "    amber.off()\n",
    "    red.on()\n",
    "    sleep(dt)\n",
    "    amber.on()\n",
    "    sleep(1)\n",
    "    green.on()\n",
    "    amber.off()\n",
    "    red.off()"
   ]
  },
  {
   "cell_type": "markdown",
   "metadata": {},
   "source": [
    "A ```traffic_light_sequence``` függvényenk 4 bemeneti paramétere van, a három LED objektum, piros, sárga és zöld sorrendben megadva, majd egy opcionális idő paraméter, amivel megadhatjuk mennyi időt várjunk a jelzések változása között. \n",
    "\n",
    "A fő programunkban, így a beimportálások a következőképp néznek ki:"
   ]
  },
  {
   "cell_type": "markdown",
   "metadata": {},
   "source": [
    "```motion_sensor.py```:"
   ]
  },
  {
   "cell_type": "code",
   "execution_count": null,
   "metadata": {},
   "outputs": [],
   "source": [
    "from gpiozero import LED\n",
    "import cv2, time\n",
    "import numpy as np\n",
    "from raspberry_functions import traffic_light_sequence"
   ]
  },
  {
   "cell_type": "markdown",
   "metadata": {},
   "source": [
    "### A kamera tesztelése"
   ]
  },
  {
   "cell_type": "markdown",
   "metadata": {},
   "source": [
    "A következő lépés a kamera tesztelése. Ehhez létrehozzuk a kapcsolatot a kamerával, ```cap = cv2.VideoCapture(0)```. A zárójelben megadott szám a kamera indexére utal (0 az első számú kamera a rendszerben, de ha van több is akkor, 1-et, 2-őt stb. írva kiválaszthatjuk azokat is). Ha nem tudjuk a kameránk indexét, írjunk ```-1```-et. Linux alatt megeshet, hogy az indexelés nem működik, akkor nézzük, meg, az ```ls /dev/video*``` paranccsal a terminálban nézzük meg, hogy milyen kameráink vannak, mielőtt bedugnánk a kameránkat, majd ismét miután bedugtuk. Az újonnan megjelenő elem lesz a mi kameránk lokációja, és evvel is tudunk kapcsolatot teremteni pythonból, ```cap = cv2.VideoCapture('/dev/video0')```.\n",
    "\n",
    "A ```cap.isOpened()``` paranccsal akár le is ellenőrizhetjük, hogy valóban megnyílt-e a kommunikációs csatorna a gép és a kamera között. Ha a válasz ```False```, akkor próbáljuk meg a ```cap.open()``` (Linux alatt a ```cap.open('/dev/video0')```) paranccsal megnyitni a kommunikációt. "
   ]
  },
  {
   "cell_type": "markdown",
   "metadata": {},
   "source": [
    "A ```cap.read()``` paranccsal tudunk fényképet készíteni, amely parancsnak két visszaadott értéke van, az első, ```ret``` megmondja, hogy a fénykép sikeresen elkészült-e, míg a második, ```frame``` tartalmazza a kép ```numpy.array``` mátrixát. Alapértelmezetten a BGR (kék, zöld, piros) színskálában kapjuk meg a képet, de mi azt most átalakítjuk a szürke színskálába a ```cv2.cvtColor(frame, cv2.COLOR_BGR2GRAY)``` parancs segítségével. Ezt a képet a ```cv2.imshow('frame', frame)``` paranccsal meg tudjuk jeleníteni (vagy használhatjuk a ```matplotlib.pyplot```-ból az ```imshow``` függvényt). \n",
    "\n",
    "Ezután várunk 3 másodpercet, ```time.sleep(3)```, mielőtt lezárnánk a kapcsolatot a kamerával, ```cap.release()```, amit érdemes minden egyes alkalommal megtenni, ha a programunknak vége van. A biztonság kedvéért még bezárunk minden ablakot is amit a programunk nyitott meg, ```cv2.destroyAllWindows()```."
   ]
  },
  {
   "cell_type": "markdown",
   "metadata": {},
   "source": [
    "```motion_sensor.py```:"
   ]
  },
  {
   "cell_type": "code",
   "execution_count": null,
   "metadata": {},
   "outputs": [],
   "source": [
    "from gpiozero import LED\n",
    "import cv2, time\n",
    "import numpy as np\n",
    "from raspberry_functions import traffic_light_sequence\n",
    "\n",
    "cap = cv2.VideoCapture(0) # cap = cv2.VideoCapture('/dev/video0')\n",
    "\n",
    "ret, frame = cap.read()\n",
    "frame = cv2.cvtColor(frame, cv2.COLOR_BGR2GRAY)  # szurke szinskala\n",
    "cv2.imshow('frame', frame)\n",
    "\n",
    "time.sleep(3)\n",
    "\n",
    "cap.release()\n",
    "# Bezarunk minden ablakot, amit a program megnyitott\n",
    "cv2.destroyAllWindows()"
   ]
  },
  {
   "cell_type": "markdown",
   "metadata": {},
   "source": [
    "### LED-ek tesztelése"
   ]
  },
  {
   "cell_type": "markdown",
   "metadata": {},
   "source": [
    "Most a LED-eket inicializálva leteszteljük a beimportált villanyrendőr függvényünket is. Elsőnek inicializáljuk a piros (17-es GPIO pin), sárga (27-es GPIO pin) és a zöld (22-es GPIO pin) LED-eket, majd a kamera tesztelés után, bemenő paraméterként megadjuk őket a ```traffic_light_sequence``` függvénynek. Egyben azt is megadjuk a ```dt``` paraméterrel, hogy 2 másodperces várakozás legyen a különböző jelzések között. "
   ]
  },
  {
   "cell_type": "markdown",
   "metadata": {},
   "source": [
    "```motion_sensor.py```:"
   ]
  },
  {
   "cell_type": "code",
   "execution_count": null,
   "metadata": {},
   "outputs": [],
   "source": [
    "from gpiozero import LED\n",
    "import cv2, time\n",
    "import numpy as np\n",
    "from raspberry_functions import traffic_light_sequence\n",
    "\n",
    "red    = LED(17)\n",
    "yellow = LED(27)\n",
    "green  = LED(22)\n",
    "\n",
    "cap = cv2.VideoCapture(0) # cap = cv2.VideoCapture('/dev/video0')\n",
    "\n",
    "ret, frame = cap.read()\n",
    "frame = cv2.cvtColor(frame, cv2.COLOR_BGR2GRAY)  # szurke szinskala\n",
    "cv2.imshow('frame', frame)\n",
    "\n",
    "time.sleep(3)\n",
    "\n",
    "traffic_light_sequence(red, yellow, green, dt=2)   # villanyrendor tesztelese\n",
    "\n",
    "cap.release()\n",
    "# Bezarunk minden ablakot, amit a program megnyitott\n",
    "cv2.destroyAllWindows()"
   ]
  },
  {
   "cell_type": "markdown",
   "metadata": {},
   "source": [
    "Elindítva ezt a kódot először a kamera képet láthatjuk, majd 3 másodpercre rá a villanyrendőr indul működésnek."
   ]
  },
  {
   "cell_type": "markdown",
   "metadata": {},
   "source": [
    "### Képre eső fénymennyiség meghatározása"
   ]
  },
  {
   "cell_type": "markdown",
   "metadata": {},
   "source": [
    "Mivel nem egy egyszerű fényerősség érzékelővel rendelkezünk, ami egy számmal kifejezi a beérkező fény erősségét, hanem egy kamerával, ami számok mátrixát rögzíti, így el kell döntenünk milyen logikát alkalmazva következtetünk a fényerősség értékére. \n",
    "\n",
    "Ezt tudjuk, hogy ha világos egy kép akkor a pixeljeinek értékei inkább 255-höz közelítenek, mintsem 0-hoz. Ha besötétedik, akkor várhatóan a pixelek átlagos értéke csökken (alapjáraton ez igaz lenne tökéletesen, de nagyon sok webkamera képes hardweresen kompenzálni a fényerősség változást, így ez némileg befolyásolhatja a mi felvázolt következtetésünket). Nézzünk egy példát, hogyan tudjuk kiszámolni egy mátrixban levő számok átlagértékét a ```numpy``` csomagot felhasználva. "
   ]
  },
  {
   "cell_type": "code",
   "execution_count": 9,
   "metadata": {},
   "outputs": [
    {
     "data": {
      "text/plain": [
       "array([[135, 112, 233,   1],\n",
       "       [ 80, 212, 144, 102],\n",
       "       [161,  47,  83, 226]])"
      ]
     },
     "execution_count": 9,
     "metadata": {},
     "output_type": "execute_result"
    }
   ],
   "source": [
    "a = np.random.randint(0,255,[3,4])\n",
    "a"
   ]
  },
  {
   "cell_type": "code",
   "execution_count": 12,
   "metadata": {},
   "outputs": [
    {
     "data": {
      "text/plain": [
       "0.5"
      ]
     },
     "execution_count": 12,
     "metadata": {},
     "output_type": "execute_result"
    }
   ],
   "source": [
    "np.mean(a) / 256"
   ]
  },
  {
   "cell_type": "markdown",
   "metadata": {},
   "source": [
    "A ```np.random.randint``` függvénnyel generáltunk egész számokat 0 és 255 között (mint a pixelek értékei) egy 3x4-es mátrixban. Az ```np.mean``` függvénnyel pedig meghatároztuk a mátrixban levő összes szám átlagát. A 256-tal való leosztás csak normalizálja az átlagot, azaz azt 0 és 1 közti számmá alakítja (hiszen a mátrix elemei 256 féle értéket vehetnek fel 0-tól 255-ig)."
   ]
  },
  {
   "cell_type": "markdown",
   "metadata": {},
   "source": [
    "### Napszak érzékelő villanyrendőr"
   ]
  },
  {
   "cell_type": "markdown",
   "metadata": {},
   "source": [
    "Mostmár minden feltétellel tisztában vagyunk. Ahhoz, hogy eldöntsük mikor kapcsoljon be az éjszakai üzemmód, definiálunk egy ```limit``` változót, ami alá a normalizált fénymennyiség értéke ha lecsökken, akkor a sárga lámpa villogásba kezd. A főbb műveleteket egy végtelen ```while``` ciklusban végezzük."
   ]
  },
  {
   "cell_type": "markdown",
   "metadata": {},
   "source": [
    "A ciklusban először beolvassuk a kamera képét, szürke színskálába alakítjuk, átlagoljuk és normalizáljuk ```light```, majd kinyomtatjuk a képernyőre, hogy szemmel is láthassuk, mikor csökken ez a mennyiség a ```limit``` értéke alá. Majd rögtön az ```if light < limit:``` feltétellel megvizsgáljuk, besötétedett-e és ha igen, kikapcsoljuk a LED-eket, kivéve a sárgát, ```yellow.on()```, amit fél másodperc múlva ```time.sleep(0.5)```, kikapcsolunk ```yellow.off()```."
   ]
  },
  {
   "cell_type": "markdown",
   "metadata": {},
   "source": [
    "Ha nem sötétedett be, akkor a normálüzemű villanyrendőr funkciót indítjuk el: ```traffic_light_sequence(red, yellow, green)```. Megvárjuk, hogy a lámpa jel sorozat lemenyjen."
   ]
  },
  {
   "cell_type": "markdown",
   "metadata": {},
   "source": [
    "Ezután az opencv csomag segítségével leellenőrízzük, hogy megnyomták-e a *q* billentyűt: ```if cv2.waitKey(1) & 0xFF == ord('q'):```, és ha igen, akkor kilépünk a ciklusból. A ```cv2.waitKey(1)``` parancs 1 milimásodpercet vár a továbbhaladás előtt és érzékeli, ha közben megnyomtak, egy billentyűt. A várakozási időt lehet módosítani. A kilépést követően, bezárjuk a kapcsolatot a kamerával, bezárjuk az ablakokat és a képekből videót készítünk."
   ]
  },
  {
   "cell_type": "markdown",
   "metadata": {},
   "source": [
    "```motion_sensor.py```:"
   ]
  },
  {
   "cell_type": "code",
   "execution_count": 51,
   "metadata": {},
   "outputs": [],
   "source": [
    "from gpiozero import LED\n",
    "import cv2, time\n",
    "import numpy as np\n",
    "from raspberry_functions import traffic_light_sequence\n",
    "\n",
    "red    = LED(17)\n",
    "yellow = LED(27)\n",
    "green  = LED(22)\n",
    "cap    = cv2.VideoCapture(0) # cap = cv2.VideoCapture('/dev/video0')\n",
    "\n",
    "limit  = 0.3    # 0 es 1 kozotti szam, ami szabalyozza mikortol villogjon a sarga\n",
    "\n",
    "while True:\n",
    "    ret, frame = cap.read()\n",
    "    frame = cv2.cvtColor(frame, cv2.COLOR_BGR2GRAY)\n",
    "    light = np.mean(frame) / 256    # fenymennyiseg atlag szamolo\n",
    "    print(light)                    # fenymennyiseg kinyomtatasa\n",
    "    if light < limit:    # teszt a sotetedesre\n",
    "        red.off()        # ha sotet van, kikapcsol a piros es zold led\n",
    "        green.off()\n",
    "        yellow.on()      # a sarga led pedig fel masodpercenkent villog\n",
    "        time.sleep(0.5)\n",
    "        yellow.off()\n",
    "    else:               # ha nincs sotet\n",
    "        traffic_light_sequence(red, yellow, green)   # mukodik a villanyrendor\n",
    "    time.sleep(0.2)\n",
    "\n",
    "    if cv2.waitKey(1) & 0xFF == ord('q'):  # ellenorizni a q billentyu lenyomasat\n",
    "        break           # ha lenyomtak, leallitani a programot\n",
    "    \n",
    "\n",
    "cap.release()\n",
    "# Bezarunk minden ablakot, amit a program megnyitott\n",
    "cv2.destroyAllWindows()"
   ]
  },
  {
   "cell_type": "markdown",
   "metadata": {},
   "source": [
    "## A projekt tesztelése"
   ]
  },
  {
   "cell_type": "markdown",
   "metadata": {},
   "source": [
    "Miután összeszereltük az áramkört és a kódot is megírtuk, amit pl. ```motion_sensor.py``` név alatt mentettünk el, megnyithatunk a Raspberry Pi operációs rendszerén egy terminált. A terminálban a ```cd 'mappa név'``` paranccsal elnavigálunk abba a mappába, ahova a ```motion_sensor.py```-t elmentettük. Ott begépelve a ```motion_sensor.py``` parancsot, letesztelhetjük a programunk működését. Ha minden jól megy akkor a program elindításával megjelenik egy grafikon ami ábrázolja az értéket ami a mozgás jelenlétét követi nyomon. Ha az érték 0.8 fölé megy, akkor a LED bekapcsol, ha alatta marad, akkor a LED nem világít. Ezt tesztelhetjük, ha a kamera előtt mozgunk. Vigyázzunk arra, hogy a fényviszonyok változása is kiválthat a programban mozgás érzetet (hiszen ez egy elég egyszerű kód). \n",
    "\n",
    "Hibaüzenetek esetén ki kell deríteni mi lehetett a probléma, pl. elgépelés, egy modul hiányzik, sorok megfelelő behúzása, idézőjel lemaradása stb. A hibaüzenet legtöbbször segít abban, hogy melyik sorban találta a hibát és hogy mi volt az. Egy kis gyakorlással bele lehet jönni azok értelmezésébe, valamint interneten is rá lehet keresni a hibaüzenet jelentésére és annak lehetséges elhárítására."
   ]
  },
  {
   "cell_type": "markdown",
   "metadata": {},
   "source": [
    "## Mit lehet javítani/továbbfejleszteni?"
   ]
  },
  {
   "cell_type": "markdown",
   "metadata": {},
   "source": [
    "* Változtassuk meg a ```led_control``` függvényben a ```threshold``` paraméter értékét és figyeljük meg az hogy befolyásolja a mozgásérzékelőnk működését.\n",
    "* Változtassuk meg a ```motion_sensor``` függvényben a ```limit``` paraméter értékét és figyeljük meg az hogy befolyásolja a mozgásérzékelőnk működését.\n",
    "\n",
    "Írd meg kommentben, hogy szerinted mivel lehetne még feldobni ezt a kis programot!"
   ]
  },
  {
   "cell_type": "markdown",
   "metadata": {},
   "source": [
    "## Referencia"
   ]
  },
  {
   "cell_type": "markdown",
   "metadata": {},
   "source": [
    "1) https://opencv-python-tutroals.readthedocs.io/en/latest/py_tutorials/py_tutorials.html\n",
    "\n",
    "2) LED objektum leírása - https://gpiozero.readthedocs.io/en/stable/api_output.html#led\n",
    "\n",
    "3) numpy - https://numpy.org/doc/stable/user/quickstart.html\n",
    "\n",
    "4) modul importálás - https://www.programiz.com/python-programming/modules\n",
    "\n",
    "5) matplotlib leírása - https://pythonspot.com/matplotlib-update-plot/\n",
    "\n",
    "6) cv2.threshold leírása - https://docs.opencv.org/master/d7/d4d/tutorial_py_thresholding.html\n",
    "\n",
    "7) cv2.equalizeHist leírása - https://docs.opencv.org/3.4/d4/d1b/tutorial_histogram_equalization.html"
   ]
  },
  {
   "cell_type": "code",
   "execution_count": null,
   "metadata": {},
   "outputs": [],
   "source": []
  }
 ],
 "metadata": {
  "kernelspec": {
   "display_name": "Python 3",
   "language": "python",
   "name": "python3"
  },
  "language_info": {
   "codemirror_mode": {
    "name": "ipython",
    "version": 3
   },
   "file_extension": ".py",
   "mimetype": "text/x-python",
   "name": "python",
   "nbconvert_exporter": "python",
   "pygments_lexer": "ipython3",
   "version": "3.7.3"
  },
  "toc": {
   "base_numbering": 1,
   "nav_menu": {},
   "number_sections": true,
   "sideBar": true,
   "skip_h1_title": false,
   "title_cell": "Table of Contents",
   "title_sidebar": "Contents",
   "toc_cell": false,
   "toc_position": {},
   "toc_section_display": true,
   "toc_window_display": false
  }
 },
 "nbformat": 4,
 "nbformat_minor": 2
}
