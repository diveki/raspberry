{
 "cells": [
  {
   "cell_type": "markdown",
   "metadata": {},
   "source": [
    "# Projekt 2 - Takarékos kereszteződési lámpa"
   ]
  },
  {
   "cell_type": "markdown",
   "metadata": {},
   "source": [
    "A város vezetése nagyon meg volt elégedve a múltkori munkáddal, ami a város útkereszteződésénél felálított villanylámpa volt. A város polgármestere egyszer abban a kellemetlen helyzetben találta magát, hogy éjszaka autókázott az útkereszteződésnél, amikor is egy cseppnyi forgalom sem volt, neki mégis ki kellett várni, amíg a piros zöldre vált. A lakosság többi része is tapasztalta már ezt a bosszúságot. \n",
    "\n",
    "Felkerestek téged és arra kértek, hogy progrmozd át úgy, hogy naplemente után, mikor már sötét van, a körösztöződésben csak a sárga lámpa villogjon. Így a fő és mellékút táblák veszik át az irányítást és megszűnik a sok várakozás."
   ]
  },
  {
   "cell_type": "markdown",
   "metadata": {},
   "source": [
    "## Mit fogsz készíteni?"
   ]
  },
  {
   "cell_type": "markdown",
   "metadata": {},
   "source": [
    "Egy webkamerából (vagy Picam-ből) és 3 diódából álló rendszert rakunk össze. A kamera felelős a beérkező fény mennyiség mérésére és ha az egy szint alá csökken, akkor a villanyrendőr elkezd sárgán villogni, ha visszanő a fénymennyiség, akkor pedig normális üzembe kapcsol. "
   ]
  },
  {
   "cell_type": "markdown",
   "metadata": {},
   "source": [
    "## Mit tanulsz meg?"
   ]
  },
  {
   "cell_type": "markdown",
   "metadata": {},
   "source": [
    "A takarékos villanyrendőr projekt elkészítésével a következőket tanulod meg:\n",
    "\n",
    "* Hogyan működtetjük a LED-ket.\n",
    "* Hogyan használd az ```opencv``` csomagot a webkamerával való kommunikálásra.\n",
    "* Hogyan használd a kamera képét fénymennyiség mérésére.\n",
    "* Hogyan importálj függvényeket modulokból."
   ]
  },
  {
   "cell_type": "markdown",
   "metadata": {},
   "source": [
    "## A projekt részletekre bontása"
   ]
  },
  {
   "cell_type": "markdown",
   "metadata": {},
   "source": [
    "* Elkészíteni az áramkört.\n",
    "* Beimportálni a villanyrendőrt működtető függvényt.\n",
    "* Létrehozni a kapcsolatot a webkamerával az ```opencv``` csomag használatával. \n",
    "* Inicializálni a LED-ket.\n",
    "* Végtelen ciklusban rögzíteni egy képet és kiszámolni a pixel értékek átlagát.\n",
    "* Az átlag értéke alapján vezérelni a villanyrendőr működését.\n",
    "* A ```q``` billentyű lenyomásával jelezni, hogy befejeztük.\n",
    "* Bezárni a kapcsolatot a kamerával."
   ]
  },
  {
   "cell_type": "markdown",
   "metadata": {},
   "source": [
    "## Áramköri elemek listája"
   ]
  },
  {
   "cell_type": "markdown",
   "metadata": {},
   "source": [
    "a) [Raspberry PI](https://malnapc.hu/yis/raspberry-pi/rpi-panelek)  (vagy laptop)\n",
    "\n",
    "b) [Webkamera](https://www.emag.hu/iuni-k6i-webkamera-full-hd-1080p-mikrofonnal-usb-2-0-plug-play-515422/pd/DX66N2MBM/?cmpid=87141&gclid=CjwKCAjwj6SEBhAOEiwAvFRuKL7E3Z6v7Ei_MNy1eFxoAn4ySFojVRVyiqf8BByR43dhONUlKDsrPBoC4sIQAvD_BwE) vagy [Picam](https://malnapc.hu/raspberry-pi-camera-board-v2-8mp)\n",
    "\n",
    "c) [Jumper wires female/male](https://www.ret.hu/shop/product/e-call/jumper-vezetek-szet_53-22-63) \n",
    "\n",
    "d) 3db LED (piros, sárga, zöld), $I_{max}$ = 20 mA-es: [itt vásárolhatsz](https://www.tme.eu/hu/katalog/tht-led-diodak-5mm_112898/?s_order=desc&search=led&s_field=1000011)\n",
    "\n",
    "e) 3db 220 - 560 Ohm közötti [ellenállás](https://www.tme.eu/hu/katalog/tht-metal-film-ellenallasok-0-6w_100289/?s_order=desc&search=ellenallas&s_field=1000011)\n",
    "\n",
    "f) 1db [Breadboard](https://www.tme.eu/hu/katalog/muhelyfelszereles_112607/?s_order=desc&search=breadboard&s_field=1000011)"
   ]
  },
  {
   "cell_type": "markdown",
   "metadata": {},
   "source": [
    "## A kapcsolási rajz"
   ]
  },
  {
   "cell_type": "markdown",
   "metadata": {},
   "source": [
    "<img src=\"schema/prog02_schema.png\" width=600 height=400 />"
   ]
  },
  {
   "cell_type": "markdown",
   "metadata": {},
   "source": [
    "A fenti ábrához hasonlóan kapcsoljuk össze az áramköri elemeket és a Raspberry Pi-t.\n",
    "\n",
    "1) Helyezzük a piros LED lábait két különboző sorba. A katódjának (negatív láb) sorába kössük be az ellenállásunk egyik lábát, míg a másikat kössük a földelésre. A LED anódját (pozitív láb) egyelőre szabadon hadjuk. A LED anódjának és katódjának megállapítására használhatunk egy multimétert. Csatlakoztasd a fekete mérőzsinórt a COM (föld) és a piros mérőzsinórt a VΩmA jelzésű hüvelybe. Forgasd el a méréshatárváltó kapcsolót a folytonosság mérés állapotba. Érintsd a két zsínórt a két lábhoz és ha a LED halványan pislákol, akkor az a láb amelyikhez a fekete zsinórt érintetted a katód, a másik az anód. Ha nem pislákol akkor cseréld meg a zsinórok és a lábak érintkezését, hogy világítson.\n",
    "\n",
    "2) Ismételjük meg a fenti lépést még kétszer a sárga és a zöld LED-re is, a kapcsolási rajzhoz hasonlóan.\n",
    "\n",
    "3) Nevezzük ki a breadboard oldalsó oszlopainak egyikét a közös földelésnek (az ábrán a fekete drótok képviselik). Ide kössük be az ellenállásokat. Ugyanebbe az oszlopba kössük be a Raspberry Pi egyik **GND** jelölésű tüskéjét is egy jumper drót segítségével.\n",
    "\n",
    "4) A piros LED szabadon levő lábát egy jumperrel kössük össze a **22**-es GPIO tüskével, a sárgát a **27**-sel a zöldet pedig a **17**-sel."
   ]
  },
  {
   "cell_type": "markdown",
   "metadata": {},
   "source": [
    "## A kód\n",
    "\n",
    "Nyissunk meg egy új python fájlt és mentsük el pl. ```traffic_light_sensor.py``` név alatt. "
   ]
  },
  {
   "cell_type": "markdown",
   "metadata": {},
   "source": [
    "### Importálások és villanyrendőr függvény"
   ]
  },
  {
   "cell_type": "markdown",
   "metadata": {},
   "source": [
    "Első lépésként beimportáljuk a szükséges csomagokat:\n",
    "\n",
    "* ```cv2``` - webkamerával való kommunikálásra az opencv csomag.\n",
    "* ```gpiozero``` - a ```LED``` klasszt importáljuk be. \n",
    "* ```time``` - a ```sleep``` függvényt használjuk majd késleltetésre.\n",
    "* ```numpy``` - evvel a csomaggal végezzük a matematikai műveleteket a mátrixokon (kamera által készített képen)."
   ]
  },
  {
   "cell_type": "markdown",
   "metadata": {},
   "source": [
    "Egy előző projektben már készítettünk villanyrendőrt, így azt a munkát elmenthetjük egy modulba, ```raspberry_functions.py``` (ennek a modulnak a helye ugyanabban a mappában kell legyen, ahova a fő programunkat, ```traffic_light_sensor.py```, mentettük). Ebbe a modulba bamásoljuk egy függvény formájában a működő villanyrendőrt:"
   ]
  },
  {
   "cell_type": "markdown",
   "metadata": {},
   "source": [
    "```raspberry_functions.py```:"
   ]
  },
  {
   "cell_type": "code",
   "execution_count": 1,
   "metadata": {},
   "outputs": [],
   "source": [
    "def traffic_light_sequence(red, amber, green, dt = 3):\n",
    "    sleep(dt)\n",
    "    green.off()\n",
    "    amber.on()\n",
    "    sleep(1)\n",
    "    amber.off()\n",
    "    red.on()\n",
    "    sleep(dt)\n",
    "    amber.on()\n",
    "    sleep(1)\n",
    "    green.on()\n",
    "    amber.off()\n",
    "    red.off()"
   ]
  },
  {
   "cell_type": "markdown",
   "metadata": {},
   "source": [
    "A ```traffic_light_sequence``` függvényenk 4 bemeneti paramétere van, a három LED objektum, piros, sárga és zöld sorrendben megadva, majd egy opcionális idő paraméter, amivel megadhatjuk mennyi időt várjunk a jelzések változása között. \n",
    "\n",
    "A fő programunkban, így a beimportálások a következőképp néznek ki:"
   ]
  },
  {
   "cell_type": "markdown",
   "metadata": {},
   "source": [
    "```traffic_light_sensor.py```:"
   ]
  },
  {
   "cell_type": "code",
   "execution_count": null,
   "metadata": {},
   "outputs": [],
   "source": [
    "from gpiozero import LED\n",
    "import cv2, time\n",
    "import numpy as np\n",
    "from raspberry_functions import traffic_light_sequence"
   ]
  },
  {
   "cell_type": "markdown",
   "metadata": {},
   "source": [
    "### A kamera tesztelése"
   ]
  },
  {
   "cell_type": "markdown",
   "metadata": {},
   "source": [
    "A következő lépés a kamera tesztelése. Ehhez létrehozzuk a kapcsolatot a kamerával, ```cap = cv2.VideoCapture(0)```. A zárójelben megadott szám a kamera indexére utal (0 az első számú kamera a rendszerben, de ha van több is akkor, 1-et, 2-őt stb. írva kiválaszthatjuk azokat is). Ha nem tudjuk a kameránk indexét, írjunk ```-1```-et. Linux alatt megeshet, hogy az indexelés nem működik, akkor nézzük, meg, az ```ls /dev/video*``` paranccsal a terminálban nézzük meg, hogy milyen kameráink vannak, mielőtt bedugnánk a kameránkat, majd ismét miután bedugtuk. Az újonnan megjelenő elem lesz a mi kameránk lokációja, és evvel is tudunk kapcsolatot teremteni pythonból, ```cap = cv2.VideoCapture('/dev/video0')```.\n",
    "\n",
    "A ```cap.isOpened()``` paranccsal akár le is ellenőrizhetjük, hogy valóban megnyílt-e a kommunikációs csatorna a gép és a kamera között. Ha a válasz ```False```, akkor próbáljuk meg a ```cap.open()``` (Linux alatt a ```cap.open('/dev/video0')```) paranccsal megnyitni a kommunikációt. "
   ]
  },
  {
   "cell_type": "markdown",
   "metadata": {},
   "source": [
    "A ```cap.read()``` paranccsal tudunk fényképet készíteni, amely parancsnak két visszaadott értéke van, az első, ```ret``` megmondja, hogy a fénykép sikeresen elkészült-e, míg a második, ```frame``` tartalmazza a kép ```numpy.array``` mátrixát. Alapértelmezetten a BGR (kék, zöld, piros) színskálában kapjuk meg a képet, de mi azt most átalakítjuk a szürke színskálába a ```cv2.cvtColor(frame, cv2.COLOR_BGR2GRAY)``` parancs segítségével. Ezt a képet a ```cv2.imshow('frame', frame)``` paranccsal meg tudjuk jeleníteni (vagy használhatjuk a ```matplotlib.pyplot```-ból az ```imshow``` függvényt). \n",
    "\n",
    "Ezután várunk 3 másodpercet, ```time.sleep(3)```, mielőtt lezárnánk a kapcsolatot a kamerával, ```cap.release()```, amit érdemes minden egyes alkalommal megtenni, ha a programunknak vége van. A biztonság kedvéért még bezárunk minden ablakot is amit a programunk nyitott meg, ```cv2.destroyAllWindows()```."
   ]
  },
  {
   "cell_type": "markdown",
   "metadata": {},
   "source": [
    "```traffic_light_sensor.py```:"
   ]
  },
  {
   "cell_type": "code",
   "execution_count": null,
   "metadata": {},
   "outputs": [],
   "source": [
    "from gpiozero import LED\n",
    "import cv2, time\n",
    "import numpy as np\n",
    "from raspberry_functions import traffic_light_sequence\n",
    "\n",
    "cap = cv2.VideoCapture(0) # cap = cv2.VideoCapture('/dev/video0')\n",
    "\n",
    "ret, frame = cap.read()\n",
    "frame = cv2.cvtColor(frame, cv2.COLOR_BGR2GRAY)  # szurke szinskala\n",
    "cv2.imshow('frame', frame)\n",
    "\n",
    "time.sleep(3)\n",
    "\n",
    "cap.release()\n",
    "# Bezarunk minden ablakot, amit a program megnyitott\n",
    "cv2.destroyAllWindows()"
   ]
  },
  {
   "cell_type": "markdown",
   "metadata": {},
   "source": [
    "### LED-ek tesztelése"
   ]
  },
  {
   "cell_type": "markdown",
   "metadata": {},
   "source": [
    "Most a LED-eket inicializálva leteszteljük a beimportált villanyrendőr függvényünket is. Elsőnek inicializáljuk a piros (17-es GPIO pin), sárga (27-es GPIO pin) és a zöld (22-es GPIO pin) LED-eket, majd a kamera tesztelés után, bemenő paraméterként megadjuk őket a ```traffic_light_sequence``` függvénynek. Egyben azt is megadjuk a ```dt``` paraméterrel, hogy 2 másodperces várakozás legyen a különböző jelzések között. "
   ]
  },
  {
   "cell_type": "markdown",
   "metadata": {},
   "source": [
    "```traffic_light_sensor.py```:"
   ]
  },
  {
   "cell_type": "code",
   "execution_count": null,
   "metadata": {},
   "outputs": [],
   "source": [
    "from gpiozero import LED\n",
    "import cv2, time\n",
    "import numpy as np\n",
    "from raspberry_functions import traffic_light_sequence\n",
    "\n",
    "red    = LED(17)\n",
    "yellow = LED(27)\n",
    "green  = LED(22)\n",
    "\n",
    "cap = cv2.VideoCapture(0) # cap = cv2.VideoCapture('/dev/video0')\n",
    "\n",
    "ret, frame = cap.read()\n",
    "frame = cv2.cvtColor(frame, cv2.COLOR_BGR2GRAY)  # szurke szinskala\n",
    "cv2.imshow('frame', frame)\n",
    "\n",
    "time.sleep(3)\n",
    "\n",
    "traffic_light_sequence(red, yellow, green, dt=2)   # villanyrendor tesztelese\n",
    "\n",
    "cap.release()\n",
    "# Bezarunk minden ablakot, amit a program megnyitott\n",
    "cv2.destroyAllWindows()"
   ]
  },
  {
   "cell_type": "markdown",
   "metadata": {},
   "source": [
    "Elindítva ezt a kódot először a kamera képet láthatjuk, majd 3 másodpercre rá a villanyrendőr indul működésnek."
   ]
  },
  {
   "cell_type": "markdown",
   "metadata": {},
   "source": [
    "### Képre eső fénymennyiség meghatározása"
   ]
  },
  {
   "cell_type": "markdown",
   "metadata": {},
   "source": [
    "Mivel nem egy egyszerű fényerősség érzékelővel rendelkezünk, ami egy számmal kifejezi a beérkező fény erősségét, hanem egy kamerával, ami számok mátrixát rögzíti, így el kell döntenünk milyen logikát alkalmazva következtetünk a fényerősség értékére. \n",
    "\n",
    "Ezt tudjuk, hogy ha világos egy kép akkor a pixeljeinek értékei inkább 255-höz közelítenek, mintsem 0-hoz. Ha besötétedik, akkor várhatóan a pixelek átlagos értéke csökken (alapjáraton ez igaz lenne tökéletesen, de nagyon sok webkamera képes hardweresen kompenzálni a fényerősség változást, így ez némileg befolyásolhatja a mi felvázolt következtetésünket). Nézzünk egy példát, hogyan tudjuk kiszámolni egy mátrixban levő számok átlagértékét a ```numpy``` csomagot felhasználva. "
   ]
  },
  {
   "cell_type": "code",
   "execution_count": 9,
   "metadata": {},
   "outputs": [
    {
     "data": {
      "text/plain": [
       "array([[135, 112, 233,   1],\n",
       "       [ 80, 212, 144, 102],\n",
       "       [161,  47,  83, 226]])"
      ]
     },
     "execution_count": 9,
     "metadata": {},
     "output_type": "execute_result"
    }
   ],
   "source": [
    "a = np.random.randint(0,255,[3,4])\n",
    "a"
   ]
  },
  {
   "cell_type": "code",
   "execution_count": 12,
   "metadata": {},
   "outputs": [
    {
     "data": {
      "text/plain": [
       "0.5"
      ]
     },
     "execution_count": 12,
     "metadata": {},
     "output_type": "execute_result"
    }
   ],
   "source": [
    "np.mean(a) / 256"
   ]
  },
  {
   "cell_type": "markdown",
   "metadata": {},
   "source": [
    "A ```np.random.randint``` függvénnyel generáltunk egész számokat 0 és 255 között (mint a pixelek értékei) egy 3x4-es mátrixban. Az ```np.mean``` függvénnyel pedig meghatároztuk a mátrixban levő összes szám átlagát. A 256-tal való leosztás csak normalizálja az átlagot, azaz azt 0 és 1 közti számmá alakítja (hiszen a mátrix elemei 256 féle értéket vehetnek fel 0-tól 255-ig)."
   ]
  },
  {
   "cell_type": "markdown",
   "metadata": {},
   "source": [
    "### Napszak érzékelő villanyrendőr"
   ]
  },
  {
   "cell_type": "markdown",
   "metadata": {},
   "source": [
    "Mostmár minden feltétellel tisztában vagyunk. Ahhoz, hogy eldöntsük mikor kapcsoljon be az éjszakai üzemmód, definiálunk egy ```limit``` változót, ami alá a normalizált fénymennyiség értéke ha lecsökken, akkor a sárga lámpa villogásba kezd. A főbb műveleteket egy végtelen ```while``` ciklusban végezzük."
   ]
  },
  {
   "cell_type": "markdown",
   "metadata": {},
   "source": [
    "A ciklusban először beolvassuk a kamera képét, szürke színskálába alakítjuk, átlagoljuk és normalizáljuk ```light```, majd kinyomtatjuk a képernyőre, hogy szemmel is láthassuk, mikor csökken ez a mennyiség a ```limit``` értéke alá. Majd rögtön az ```if light < limit:``` feltétellel megvizsgáljuk, besötétedett-e és ha igen, kikapcsoljuk a LED-eket, kivéve a sárgát, ```yellow.on()```, amit fél másodperc múlva ```time.sleep(0.5)```, kikapcsolunk ```yellow.off()```."
   ]
  },
  {
   "cell_type": "markdown",
   "metadata": {},
   "source": [
    "Ha nem sötétedett be, akkor a normálüzemű villanyrendőr funkciót indítjuk el: ```traffic_light_sequence(red, yellow, green)```. Megvárjuk, hogy a lámpa jel sorozat lemenyjen."
   ]
  },
  {
   "cell_type": "markdown",
   "metadata": {},
   "source": [
    "Ezután az opencv csomag segítségével leellenőrízzük, hogy megnyomták-e a *q* billentyűt: ```if cv2.waitKey(1) & 0xFF == ord('q'):```, és ha igen, akkor kilépünk a ciklusból. A ```cv2.waitKey(1)``` parancs 1 milimásodpercet vár a továbbhaladás előtt és érzékeli, ha közben megnyomtak, egy billentyűt. A várakozási időt lehet módosítani. A kilépést követően, bezárjuk a kapcsolatot a kamerával, bezárjuk az ablakokat és a képekből videót készítünk."
   ]
  },
  {
   "cell_type": "markdown",
   "metadata": {},
   "source": [
    "```traffic_light_sensor.py```:"
   ]
  },
  {
   "cell_type": "code",
   "execution_count": 51,
   "metadata": {},
   "outputs": [],
   "source": [
    "from gpiozero import LED\n",
    "import cv2, time\n",
    "import numpy as np\n",
    "from raspberry_functions import traffic_light_sequence\n",
    "\n",
    "red    = LED(17)\n",
    "yellow = LED(27)\n",
    "green  = LED(22)\n",
    "cap    = cv2.VideoCapture(0) # cap = cv2.VideoCapture('/dev/video0')\n",
    "\n",
    "limit  = 0.3    # 0 es 1 kozotti szam, ami szabalyozza mikortol villogjon a sarga\n",
    "\n",
    "while True:\n",
    "    ret, frame = cap.read()\n",
    "    frame = cv2.cvtColor(frame, cv2.COLOR_BGR2GRAY)\n",
    "    light = np.mean(frame) / 256    # fenymennyiseg atlag szamolo\n",
    "    print(light)                    # fenymennyiseg kinyomtatasa\n",
    "    if light < limit:    # teszt a sotetedesre\n",
    "        red.off()        # ha sotet van, kikapcsol a piros es zold led\n",
    "        green.off()\n",
    "        yellow.on()      # a sarga led pedig fel masodpercenkent villog\n",
    "        time.sleep(0.5)\n",
    "        yellow.off()\n",
    "    else:               # ha nincs sotet\n",
    "        traffic_light_sequence(red, yellow, green)   # mukodik a villanyrendor\n",
    "    time.sleep(0.2)\n",
    "\n",
    "    if cv2.waitKey(1) & 0xFF == ord('q'):  # ellenorizni a q billentyu lenyomasat\n",
    "        break           # ha lenyomtak, leallitani a programot\n",
    "    \n",
    "\n",
    "cap.release()\n",
    "# Bezarunk minden ablakot, amit a program megnyitott\n",
    "cv2.destroyAllWindows()"
   ]
  },
  {
   "cell_type": "markdown",
   "metadata": {},
   "source": [
    "## A projekt tesztelése"
   ]
  },
  {
   "cell_type": "markdown",
   "metadata": {},
   "source": [
    "Miután összeszereltük az áramkört és a kódot is megírtuk, amit pl. ```traffic_light_sensor.py``` név alatt mentettünk el, megnyithatunk a Raspberry Pi operációs rendszerén egy terminált. A terminálban a ```cd 'mappa név'``` paranccsal elnavigálunk abba a mappába, ahova a ```traffic_light_sensor.py```-t elmentettük. Ott begépelve a ```python traffic_light_sensor.py``` parancsot, letesztelhetjük a programunk működését. Ha minden jól megy akkor a program elindításával a villanyrendőr megkezdi normál üzemmódját (miközben a képernyőre kinyomtatjuk a normalizált fénymennyiséget). Ha letakarjuk a kamerát a kezünkkel, akkor a sárga LED-nek kell villognia (készüljünk fel, hogy van némi időbeli késleltetés).\n",
    "\n",
    "Hibaüzenetek esetén ki kell deríteni mi lehetett a probléma, pl. elgépelés, egy modul hiányzik, sorok megfelelő behúzása, idézőjel lemaradása stb. A hibaüzenet legtöbbször segít abban, hogy melyik sorban találta a hibát és hogy mi volt az. Egy kis gyakorlással bele lehet jönni azok értelmezésébe, valamint interneten is rá lehet keresni a hibaüzenet jelentésére és annak lehetséges elhárítására."
   ]
  },
  {
   "cell_type": "markdown",
   "metadata": {},
   "source": [
    "## Mit lehet javítani/továbbfejleszteni?"
   ]
  },
  {
   "cell_type": "markdown",
   "metadata": {},
   "source": [
    "* Használjunk a pixelek átlagolása helyett más módszert (pl. pixel értékek összeadása).\n",
    "* Mi történik ha a kamera képét nem alakítjuk szürke skálára? Keressünk olyan műveleteket, amik arra az esetre is a kívánt működést biztosítják.\n",
    "\n",
    "Írd meg kommentben, hogy szerinted mivel lehetne még feldobni ezt a kis programot!"
   ]
  },
  {
   "cell_type": "markdown",
   "metadata": {},
   "source": [
    "## Referencia"
   ]
  },
  {
   "cell_type": "markdown",
   "metadata": {},
   "source": [
    "1) https://opencv-python-tutroals.readthedocs.io/en/latest/py_tutorials/py_tutorials.html\n",
    "\n",
    "2) LED objektum leírása - https://gpiozero.readthedocs.io/en/stable/api_output.html#led\n",
    "\n",
    "3) numpy - https://numpy.org/doc/stable/user/quickstart.html\n",
    "\n",
    "4) modul importálás - https://www.programiz.com/python-programming/modules"
   ]
  },
  {
   "cell_type": "code",
   "execution_count": null,
   "metadata": {},
   "outputs": [],
   "source": []
  }
 ],
 "metadata": {
  "kernelspec": {
   "display_name": "Python 3",
   "language": "python",
   "name": "python3"
  },
  "language_info": {
   "codemirror_mode": {
    "name": "ipython",
    "version": 3
   },
   "file_extension": ".py",
   "mimetype": "text/x-python",
   "name": "python",
   "nbconvert_exporter": "python",
   "pygments_lexer": "ipython3",
   "version": "3.7.3"
  },
  "toc": {
   "base_numbering": 1,
   "nav_menu": {},
   "number_sections": true,
   "sideBar": true,
   "skip_h1_title": false,
   "title_cell": "Table of Contents",
   "title_sidebar": "Contents",
   "toc_cell": false,
   "toc_position": {},
   "toc_section_display": true,
   "toc_window_display": false
  }
 },
 "nbformat": 4,
 "nbformat_minor": 2
}
