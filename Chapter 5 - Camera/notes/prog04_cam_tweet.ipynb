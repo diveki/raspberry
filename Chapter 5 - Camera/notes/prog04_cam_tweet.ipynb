{
 "cells": [
  {
   "cell_type": "markdown",
   "metadata": {},
   "source": [
    "# Projekt 4 - Gombnyomásra Twitter sztár"
   ]
  },
  {
   "cell_type": "markdown",
   "metadata": {},
   "source": [
    "Az online szociális hálózatokat böngészve megfigyelted, hogy egyes celebek feltünően sokat postolnak, akár képeket is. Mintha másból sem állna az idejük, csak az életük megörökítéséből. Elgondolkodtál azon, hogy tudnál versenyre kellni velük és olyan sokat posztolni, de anélkül, hogy igazából időt kellene rá szánnod hosszútávon. \n",
    "\n",
    "Kis internetes tudakozódás után, kiötlötted, hogy egy fél-automat botot fogsz készíteni, ami egy gombnyomással készít egy fényképet, azt egy stílusszűrőn átereszti, hozzáfűz valami random szöveget és kiposztolja a Twitterre. Így minden egyes gomb nyomással új stílusú változatos képet és szöveget tudsz közzé tenni, akár másodpercenként. Nah ezt múlják felül a celebek!"
   ]
  },
  {
   "cell_type": "markdown",
   "metadata": {},
   "source": [
    "## Mit fogsz készíteni?"
   ]
  },
  {
   "cell_type": "markdown",
   "metadata": {},
   "source": [
    "Egy webkamerából (vagy Picam-ből) és egy nyomógombból álló rendszert rakunk össze. A gomb lenyomásával készítünk egy képet, amire egy stílusfiltert engedünk, hogy ne csak natúr módon nézzen ki. Ehhez csatolunk még egy előre megszerkesztett listából kiválasztott random szöveget és már kész is a Twitter poszt.  "
   ]
  },
  {
   "cell_type": "markdown",
   "metadata": {},
   "source": [
    "## Mit tanulsz meg?"
   ]
  },
  {
   "cell_type": "markdown",
   "metadata": {},
   "source": [
    "A tweetelős projekt elkészítésével a következőket tanulod meg:\n",
    "\n",
    "* Hogyan működtetjük a nyomógombot.\n",
    "* Hogyan használd az ```opencv``` csomagot a webkamerával való kommunikálásra.\n",
    "* Hogyan olvassunk ki adatokat a webkameráról.\n",
    "* Hogyan alkalmazzuk a stílusfiltereket.\n",
    "* Hogyan használjuk a ```tweepy``` csomagot a Twitterrel való kommunikálásra.\n",
    "* **Hogyan hivatkozzunk egy függvényben tetszőleges számú argumentumra.**"
   ]
  },
  {
   "cell_type": "markdown",
   "metadata": {},
   "source": [
    "## A projekt részletekre bontása"
   ]
  },
  {
   "cell_type": "markdown",
   "metadata": {},
   "source": [
    "* Elkészíteni az áramkört.\n",
    "* Beimportálni a csomagokat amik segítik a munkánkat: ```cv2```, ```time```, ```numpy```, ```tweepy```, ```datetime```, ```gpiozero```, ```json``` és ```random```.\n",
    "* Létrehozni a kapcsolatot a webkamerával az ```opencv``` csomag használatával. \n",
    "* Inicializálni a nyomógombot.\n",
    "* Beolvasni a twitter azonosító kódokat.\n",
    "* Megnyitni a kapcsolatot a Twitter API-val.\n",
    "* Dictionaryben tárolni a posztolni kívánt információkat.\n",
    "* Függvényt írni, ami fényképet készít, kiválaszt egy stílusszűrőt és egy szöveget.\n",
    "* Függvényt írni ami kiposztolja a a Twitter posztot.\n",
    "* Függvényt írni, ami meghívja az előző két függvényt és ezt hozzárendelni a gomb lenyomásához.\n",
    "* Végtelen ```while``` ciklusban a ```q``` gombot lenyomva kilépni a pythonból.\n",
    "* Megszakítani a kamerával a kapcsolatot kilépés esetén. "
   ]
  },
  {
   "cell_type": "markdown",
   "metadata": {},
   "source": [
    "## Áramköri elemek listája"
   ]
  },
  {
   "cell_type": "markdown",
   "metadata": {},
   "source": [
    "a) [Raspberry PI](https://malnapc.hu/yis/raspberry-pi/rpi-panelek)  (vagy laptop)\n",
    "\n",
    "b) [Webkamera](https://www.emag.hu/iuni-k6i-webkamera-full-hd-1080p-mikrofonnal-usb-2-0-plug-play-515422/pd/DX66N2MBM/?cmpid=87141&gclid=CjwKCAjwj6SEBhAOEiwAvFRuKL7E3Z6v7Ei_MNy1eFxoAn4ySFojVRVyiqf8BByR43dhONUlKDsrPBoC4sIQAvD_BwE) vagy [Picam](https://malnapc.hu/raspberry-pi-camera-board-v2-8mp)\n",
    "\n",
    "c) [Jumper wires female/male](https://www.ret.hu/shop/product/e-call/jumper-vezetek-szet_53-22-63) \n",
    "\n",
    "d) [Nyomógomb](https://hu.farnell.com/schurter/1301-9320/switch-smd-push-12-5mm/dp/1217772?gclid=Cj0KCQjwzZj2BRDVARIsABs3l9K-ACTnuRr-dLVcDUKleNfECM3H3kWS_RfWtmXGMXVJeY9otda4dDcaAvGLEALw_wcB&gross_price=true&mckv=sSFnjERxR_dc|pcrid|434487710397|plid||kword||match||slid||product|1217772|pgrid|101346804139|ptaid|pla-389347076066|&CMP=KNC-GHU-SHOPPING-switches-relays-NEWSTRUCTURE-13-MAY-20) amit akár [építhetsz]() is."
   ]
  },
  {
   "cell_type": "markdown",
   "metadata": {},
   "source": [
    "## A kapcsolási rajz"
   ]
  },
  {
   "cell_type": "markdown",
   "metadata": {},
   "source": [
    "<img src=\"schema/prog01_schema.png\" width=600 height=400 />"
   ]
  },
  {
   "cell_type": "markdown",
   "metadata": {},
   "source": [
    "A fenti ábrához hasonlóan kapcsoljuk össze az áramköri elemeket és a Raspberry Pi-t.\n",
    "\n",
    "1) A nyomógomb lábait illesszük a breadboard mélyedéseibe. Ügyeljünk arra, hogy a nyomógomb egy (vízszintes) sorba kerülő lábai a gomb lenyomása nélkül is kapcsolatban legyenek egymással, míg a (függőlegesen) egy sorba kerülő lábai csak a lenyomás következtében lesznek összekötve. Mindezt egy műszerrel leellenőrízhetjük.\n",
    "\n",
    "2) Az egyik jumper kábelt (kék) kössük a gomb egyik lábának sorába, míg a másik végét a Raspberry Pi **GPIO 02**-es jelöléssel ellátott tüskéjére. Ez a tüske alapértelmezetten pull-up (magas vagy 1) módban van, azaz 3.3 V-ot mutat a földeléshez képest.\n",
    "\n",
    "3) A másik jumper kábelt (narancssárga) kössük a gomb másik lábának sorába, míg a másik végét a Raspberry Pi **GND** (pl. **6**-os) jelöléssel ellátott tüskéjére. Ez a tüske alapértelmezetten földelés."
   ]
  },
  {
   "cell_type": "markdown",
   "metadata": {},
   "source": [
    "## A kód\n",
    "\n",
    "Nyissunk meg egy új python fájlt és mentsük el pl. ```twitter_post.py``` név alatt. "
   ]
  },
  {
   "cell_type": "markdown",
   "metadata": {},
   "source": [
    "Ahhoz, hogy a Twitterre posztokat küldjünk Pythonból, létre kell hoznunk egy Developer profilt a Twitternél. Erre többfajta leírást is lehet találni a neten, de példának okáért [ezen a linken](https://projects.raspberrypi.org/en/projects/tweeting-babbage/4) a **Register your app on Twitter** menűpont alattit javasoljuk kezdetnek. A regisztráció végén kapni fogunk néhány titkos kódot, amit egy *json* kiterjesztésű fájlba elmenthetünk. Egy példát láss erre itt (a példában az eredeti kódokat megmásítottuk): "
   ]
  },
  {
   "cell_type": "markdown",
   "metadata": {},
   "source": [
    "<img src=\"../twitter/keywords.png\" width=600 height=400 />"
   ]
  },
  {
   "cell_type": "markdown",
   "metadata": {},
   "source": [
    "```twitter.json```:"
   ]
  },
  {
   "cell_type": "code",
   "execution_count": null,
   "metadata": {},
   "outputs": [],
   "source": [
    "{\n",
    "    \"consumer_key\": \"xwxJXXXXXXXXXXXXXXFtE9c\",\n",
    "    \"consumer_secret\": \"eyYfdOiRzXXXXXXXXXXXXXXXXXXHOahSJPiUG0gwXr4GXNOdw\",\n",
    "    \"access_token\": \"1407XXXXXXXXXXXX2709-oNH6AP4XXXXXXXXXXXXXrNz0DVEP\",\n",
    "    \"access_token_secret\": \"fZZ5QXXXXXXXXXXXXXXXXXXXXLclr109xrLu2ZtVc05iC\",\n",
    "    \"bearer_token\": \"AAAAAAAXXXXXXXXXXXXXXXXXXXXXXXXXXXXXXXXXFPclZxC1ES4DNjdOShAr3vLDMCxz2VN3k3f430u527n7\"\n",
    "}"
   ]
  },
  {
   "cell_type": "markdown",
   "metadata": {},
   "source": [
    "A *json* fájltípus lényegében úgy néz ki mint egy dictionary kimentve fájlba. Pythonban a ```json``` nevű csomag képes ennek a fájltípusnak a kezelésére, ahogy azt később majd látjuk. A fájl tartalmát egy dictionarybe olvassa be. \n",
    "\n",
    "Ezek a kódok szükségesek lesznek a Twitter applikációval való kommunikációra. "
   ]
  },
  {
   "cell_type": "markdown",
   "metadata": {},
   "source": [
    "Alapértelmezetten, a Twitter applikációról csak olvasni lehet infókat, de küldeni nem. Ha posztolni szeretnénk, akkor ezen változtatnunk kell, úgy hogy a *Dashboardon* a *Settings* fül alatt az *App permissions*-nél lehetővé tesszük a **Read, Write, and Direct Messages** opciót. "
   ]
  },
  {
   "cell_type": "markdown",
   "metadata": {},
   "source": [
    "<img src=\"../twitter/app_setting.png\" width=600 height=400 />"
   ]
  },
  {
   "cell_type": "markdown",
   "metadata": {},
   "source": [
    "Ez a művelet után új api kulcsokat és tokeneket kell generálnunk, amikkel frissítenünk kell a ```twitter.json``` fájlunkat.\n",
    "\n",
    "Miután elvégeztük a regisztrálást és a megfelelő beállításokat, készen állunk a kód írására. "
   ]
  },
  {
   "cell_type": "markdown",
   "metadata": {},
   "source": [
    "### Importálások"
   ]
  },
  {
   "cell_type": "markdown",
   "metadata": {},
   "source": [
    "Első lépésként beimportáljuk a szükséges csomagokat:\n",
    "\n",
    "* ```cv2``` - webkamerával való kommunikálásra az opencv csomag.\n",
    "* ```gpiozero``` - a ```Button``` klasszt importáljuk be. \n",
    "* ```time``` - a ```sleep``` függvényt használjuk majd késleltetésre.\n",
    "* ```numpy``` - evvel a csomaggal végezzük a matematikai műveleteket a mátrixokon (kamera által készített képen).\n",
    "* ```json``` - evvel a csomaggal olvassuk be a *json* fájl formátumot.\n",
    "* ```datetime``` - evvel a csomaggal rögzítjük a méréseink idejét.\n",
    "* ```tweepy``` - ez a csomag segíti a Twitterrel való kommunikációt.\n",
    "* ```random``` - a ```choice```  függvényt fogjuk használni random listaelemek kiválasztására."
   ]
  },
  {
   "cell_type": "markdown",
   "metadata": {},
   "source": [
    "A fő programunkban, így a beimportálások a következőképp néznek ki:"
   ]
  },
  {
   "cell_type": "markdown",
   "metadata": {},
   "source": [
    "```twitter_post.py```:"
   ]
  },
  {
   "cell_type": "code",
   "execution_count": 2,
   "metadata": {},
   "outputs": [],
   "source": [
    "import cv2, time\n",
    "import numpy as np\n",
    "import datetime as dt\n",
    "import json, tweepy\n",
    "from gpiozero import Button\n",
    "from random import choice"
   ]
  },
  {
   "cell_type": "markdown",
   "metadata": {},
   "source": [
    "### A kamera tesztelése"
   ]
  },
  {
   "cell_type": "markdown",
   "metadata": {},
   "source": [
    "A következő lépés a kamera tesztelése. Ehhez létrehozzuk a kapcsolatot a kamerával, ```cap = cv2.VideoCapture(0)```. A zárójelben megadott szám a kamera indexére utal (0 az első számú kamera a rendszerben, de ha van több is akkor, 1-et, 2-őt stb. írva kiválaszthatjuk azokat is). Ha nem tudjuk a kameránk indexét, írjunk ```-1```-et. Linux alatt megeshet, hogy az indexelés nem működik, akkor nézzük, meg, az ```ls /dev/video*``` paranccsal a terminálban nézzük meg, hogy milyen kameráink vannak, mielőtt bedugnánk a kameránkat, majd ismét miután bedugtuk. Az újonnan megjelenő elem lesz a mi kameránk lokációja, és evvel is tudunk kapcsolatot teremteni pythonból, ```cap = cv2.VideoCapture('/dev/video0')```.\n",
    "\n",
    "A ```cap.isOpened()``` paranccsal akár le is ellenőrizhetjük, hogy valóban megnyílt-e a kommunikációs csatorna a gép és a kamera között. Ha a válasz ```False```, akkor próbáljuk meg a ```cap.open()``` (Linux alatt a ```cap.open('/dev/video0')```) paranccsal megnyitni a kommunikációt. "
   ]
  },
  {
   "cell_type": "markdown",
   "metadata": {},
   "source": [
    "A ```cap.read()``` paranccsal tudunk fényképet készíteni, amely parancsnak két visszaadott értéke van, az első, ```ret``` megmondja, hogy a fénykép sikeresen elkészült-e, míg a második, ```frame``` tartalmazza a kép ```numpy.array``` mátrixát. Alapértelmezetten a BGR (kék, zöld, piros) színskálában kapjuk meg a képet. Ezt a képet a ```cv2.imshow('frame', frame)``` paranccsal meg tudjuk jeleníteni (vagy használhatjuk a ```matplotlib.pyplot```-ból az ```imshow``` függvényt). \n",
    "\n",
    "Ezután várunk 3 másodpercet, ```time.sleep(3)```, mielőtt lezárnánk a kapcsolatot a kamerával, ```cap.release()```, amit érdemes minden egyes alkalommal megtenni, ha a programunknak vége van. A biztonság kedvéért még bezárunk minden ablakot is amit a programunk nyitott meg, ```cv2.destroyAllWindows()```."
   ]
  },
  {
   "cell_type": "markdown",
   "metadata": {},
   "source": [
    "```twitter_post.py```:"
   ]
  },
  {
   "cell_type": "code",
   "execution_count": null,
   "metadata": {},
   "outputs": [],
   "source": [
    "import cv2, time\n",
    "import numpy as np\n",
    "import datetime as dt\n",
    "import json, tweepy\n",
    "from gpiozero import Button\n",
    "from random import choice\n",
    "\n",
    "cap = cv2.VideoCapture(0) # cap = cv2.VideoCapture('/dev/video0')\n",
    "\n",
    "ret, frame = cap.read()\n",
    "cv2.imshow('frame', frame)\n",
    "\n",
    "time.sleep(3)\n",
    "\n",
    "cap.release()\n",
    "# Bezarunk minden ablakot, amit a program megnyitott\n",
    "cv2.destroyAllWindows()"
   ]
  },
  {
   "cell_type": "markdown",
   "metadata": {},
   "source": [
    "### Nyomógomb tesztelése"
   ]
  },
  {
   "cell_type": "markdown",
   "metadata": {},
   "source": [
    "Ezután inicializáljunk egy nyomógombot, ```button```, amit a *2*-es GPIO tüskékre kötünk. Most írjunk egy függvényt, ```pressed()```, ami a gomb lenyomására kiírja a képernyőre, hogy ```You pressed a button```. Ezt a függvényt össze is kell kötnünk a nyomógombbal, azaz hozzárendeljük a nyomógomb ```when_pressed``` metódusához. Majd írunk egy üres végtelen ```while``` ciklust, hogy a programunk ne álljon meg, amíg a gombot teszteljük."
   ]
  },
  {
   "cell_type": "markdown",
   "metadata": {},
   "source": [
    "```twitter_post.py```:"
   ]
  },
  {
   "cell_type": "code",
   "execution_count": null,
   "metadata": {},
   "outputs": [],
   "source": [
    "import cv2, time\n",
    "import numpy as np\n",
    "import datetime as dt\n",
    "import json, tweepy\n",
    "from gpiozero import Button\n",
    "from random import choice\n",
    "\n",
    "cap = cv2.VideoCapture(0) # cap = cv2.VideoCapture('/dev/video0')\n",
    "button = Button(2)\n",
    "\n",
    "def pressed():\n",
    "    print('You pressed the button!')\n",
    "    \n",
    "ret, frame = cap.read()\n",
    "cv2.imshow('frame', frame)\n",
    "\n",
    "time.sleep(3)\n",
    "\n",
    "button.when_pressed = pressed\n",
    "\n",
    "while True:\n",
    "    pass\n",
    "\n",
    "cap.release()\n",
    "# Bezarunk minden ablakot, amit a program megnyitott\n",
    "cv2.destroyAllWindows()"
   ]
  },
  {
   "cell_type": "markdown",
   "metadata": {},
   "source": [
    "### *json* fájl megnyitása"
   ]
  },
  {
   "cell_type": "markdown",
   "metadata": {},
   "source": [
    "A Twitterrel való kommunikáció csak akkor működik, ha rendelkezünk a szükséges jelszavakkal/tokenekkel. Ezeket, ahogy már fent említettük, egy *json* fájlba mentettük el. Most azt nézzük meg, hogy lehet ezeket a fájlokat megnyitni és hivatkozni a bennük lévő tartalomra."
   ]
  },
  {
   "cell_type": "markdown",
   "metadata": {},
   "source": [
    "Fent már beimportáltuk a ```json``` csomagot, amit a fájl olvasására használjuk. Lássunk egy példát:"
   ]
  },
  {
   "cell_type": "code",
   "execution_count": 3,
   "metadata": {},
   "outputs": [
    {
     "name": "stdout",
     "output_type": "stream",
     "text": [
      "{'consumer_key': 'password', 'consumer_secret': 'difficult_password', 'access_token': 'incredible_password', 'access_token_secret': 'ultrasecure_password', 'bearer_token': 'not_a_password'}\n"
     ]
    }
   ],
   "source": [
    "with open('prog04/twitter.json') as f:\n",
    "    dd = json.load(f)\n",
    "    \n",
    "print(dd)"
   ]
  },
  {
   "cell_type": "markdown",
   "metadata": {},
   "source": [
    "A fenti példában a ```with``` parancsszavas ```open``` fájlmegnyitást használjuk. Ez kompakt módon lehetővé teszi egy tetszőleges fájl megnyitását és gondoskodik arról, hogy a kommunikáció a fájllal be is legyen csukva még akkor is, ha mi ezt explicit nem jeleztük. Ha nem a ```with``` módszert használjuk, akkor a végén az ```f.close()``` paranccsal be kellett volna csukni a kommunikációt."
   ]
  },
  {
   "cell_type": "markdown",
   "metadata": {},
   "source": [
    "A ```json.load``` parancs képes a *json* fájlok beolvasására és azt egy dictionery formában tárolja. Pl. ha az ```access_token``` kulcsszó értékére vagyunk kíváncsiak, akkor a szokásos módon lekérdezhetjük:"
   ]
  },
  {
   "cell_type": "code",
   "execution_count": 4,
   "metadata": {},
   "outputs": [
    {
     "data": {
      "text/plain": [
       "'incredible_password'"
      ]
     },
     "execution_count": 4,
     "metadata": {},
     "output_type": "execute_result"
    }
   ],
   "source": [
    "dd['access_token']"
   ]
  },
  {
   "cell_type": "markdown",
   "metadata": {},
   "source": [
    "### Twitter kommunikáció megnyitása"
   ]
  },
  {
   "cell_type": "markdown",
   "metadata": {},
   "source": [
    "A Twitter API-t használjuk a Twitter felületére való posztoláshoz. Létre kell hoznunk egy objektumot ```auth```, elsőnek, ami tárolja a titkos azonosítókat. Ezt a ```tweepy.OAuthHandler(consumer_key, cosnumer_secret)```, paranccsal kezdjük, ahol a két paraméter a Twitter által megadott titkos kódok. Természetesen kézzel is be lehetne gépelni ezeket a titkos kódokat a programunkba, de kódokat rejteni a programba nem ajánlatos, hiszen azt bárki láthatja. Egy fokkal jobb a fenti *json* fájl használata.\n",
    "\n",
    "Második lépésben a tokenokat is beállítjuk a ```auth.set_access_token(access_token, access_token_secret)``` paranccsal, majd megnyitjuk a kommunikációs csatornát, ```api = tweepy.API(auth)```. "
   ]
  },
  {
   "cell_type": "markdown",
   "metadata": {},
   "source": [
    "```twitter_post.py```:"
   ]
  },
  {
   "cell_type": "code",
   "execution_count": null,
   "metadata": {},
   "outputs": [],
   "source": [
    "import cv2, time\n",
    "import numpy as np\n",
    "import datetime as dt\n",
    "import json, tweepy\n",
    "from gpiozero import Button\n",
    "from random import choice\n",
    "\n",
    "cap = cv2.VideoCapture(0)\n",
    "button = Button(2)\n",
    "\n",
    "with open('./twitter/twitter.json') as f:\n",
    "    details = json.load(f)\n",
    "\n",
    "auth = tweepy.OAuthHandler(details['consumer_key'], details['consumer_secret'])\n",
    "auth.set_access_token(details['access_token'], details['access_token_secret'])\n",
    "\n",
    "api = tweepy.API(auth)\n",
    "\n",
    "while True:\n",
    "    if cv2.waitKey(100) & 0xFF == ord('q'):\n",
    "        break\n",
    "    time.sleep(0.2)\n",
    "\n",
    "cap.release()\n",
    "# Bezarunk minden ablakot, amit a program megnyitott\n",
    "cv2.destroyAllWindows()"
   ]
  },
  {
   "cell_type": "markdown",
   "metadata": {},
   "source": [
    "### Kép módosításához szükséges függvények és paraméterek tárolása"
   ]
  },
  {
   "cell_type": "markdown",
   "metadata": {},
   "source": [
    "Mivel azt mondtuk, hogy nem magát az elkészített képet posztoljuk, hanem azt előbb átengedünk egy filteren, így tárolnunk kell egy változóban az ehhez szükséges függvényeket és paramétereket. Egy listában fogjuk ezeket tárolni, aminek az elemei 3 elemű tuple-ok. Mindegyik tuple első eleme a filter függvényt adja meg, a második eleme egy dictionary ami tárolja a függvényhez tartozó beállító paramétereket, míg a harmadik eleme egy sztring ami a kiposztolt kép alatti szöveg lesz. Ebből a listából fgounk majd random módon kiválasztani egy elemet posztoláskor."
   ]
  },
  {
   "cell_type": "code",
   "execution_count": 5,
   "metadata": {},
   "outputs": [],
   "source": [
    "design = [(cv2.edgePreservingFilter, {'flags':1, 'sigma_s':60, 'sigma_r':0.4}, 'My eyes are hazy'),\n",
    "          (cv2.detailEnhance,        {'sigma_s':10, 'sigma_r':0.15},           'I am so sharp'),\n",
    "          (cv2.stylization,          {'sigma_s':60, 'sigma_r':0.07},           'I got some style :)'),\n",
    "]"
   ]
  },
  {
   "cell_type": "markdown",
   "metadata": {},
   "source": [
    "Pythonnak van egy olyan tulajdonsága, hogy egy sorban egyszerre több változóhoz is hozzárendelhetünk értéket. Nézd meg mi a különbség a lenti két példa között:"
   ]
  },
  {
   "cell_type": "code",
   "execution_count": 8,
   "metadata": {},
   "outputs": [
    {
     "name": "stdout",
     "output_type": "stream",
     "text": [
      "(<built-in function edgePreservingFilter>, {'flags': 1, 'sigma_s': 60, 'sigma_r': 0.4}, 'My eyes are hazy')\n",
      "<class 'tuple'>\n"
     ]
    }
   ],
   "source": [
    "a = design[0]\n",
    "print(a)\n",
    "print(type(a))"
   ]
  },
  {
   "cell_type": "code",
   "execution_count": 10,
   "metadata": {},
   "outputs": [
    {
     "name": "stdout",
     "output_type": "stream",
     "text": [
      "<built-in function edgePreservingFilter>      <class 'builtin_function_or_method'>\n",
      "{'flags': 1, 'sigma_s': 60, 'sigma_r': 0.4}      <class 'dict'>\n",
      "My eyes are hazy      <class 'str'>\n"
     ]
    }
   ],
   "source": [
    "b, c, d = design[0]\n",
    "print(b, '    ', type(b))\n",
    "print(c, '    ', type(c))\n",
    "print(d, '    ', type(d))"
   ]
  },
  {
   "cell_type": "markdown",
   "metadata": {},
   "source": [
    "Az első esetben egy változóhoz, ```a```, rendeljük hozzá a ```design``` 0-ik elemét, így ```a``` egy tuple lesz. A második esetben viszont ugyanúgy a ```design``` 0-ik elemét rendeljük hozzá, viszont ott 3 különböző változóhoz, így az új változók értéke az eredeti tuple elemeinek értékével lesz egyenlő. Ezt többváltozós hozzárendelésnek (multiple assignment) hívjuk, és ezt ki is használjuk majd a későbbiekben."
   ]
  },
  {
   "cell_type": "markdown",
   "metadata": {},
   "source": [
    "### Tetszőleges számú argumentum egy függvényhez"
   ]
  },
  {
   "cell_type": "markdown",
   "metadata": {},
   "source": [
    "Sokszor tisztában vagyunk avval, hogy hány paramétere lesz egy függvénynek, de előfordulhat (mint pl. a fenti filtereinknél) különböző számú és nevű argumentumra lesz szükség. Két lehetőség van erre: helyi argumentumos vagy kulcsszó argumentumos többváltozós bemenet. "
   ]
  },
  {
   "cell_type": "markdown",
   "metadata": {},
   "source": [
    "Lássunk egy példát a helyi argumentumos többváltozós bemenetre:"
   ]
  },
  {
   "cell_type": "code",
   "execution_count": 12,
   "metadata": {},
   "outputs": [
    {
     "name": "stdout",
     "output_type": "stream",
     "text": [
      "(1, 2, 3)\n"
     ]
    },
    {
     "data": {
      "text/plain": [
       "6"
      ]
     },
     "execution_count": 12,
     "metadata": {},
     "output_type": "execute_result"
    }
   ],
   "source": [
    "def test(*args):\n",
    "    print(args)\n",
    "    s = 0\n",
    "    for x in args:\n",
    "        s = x + s\n",
    "    return s\n",
    "\n",
    "test(1,2,3)"
   ]
  },
  {
   "cell_type": "code",
   "execution_count": 15,
   "metadata": {},
   "outputs": [
    {
     "name": "stdout",
     "output_type": "stream",
     "text": [
      "(1, 2, 3, 4, 5)\n"
     ]
    },
    {
     "data": {
      "text/plain": [
       "15"
      ]
     },
     "execution_count": 15,
     "metadata": {},
     "output_type": "execute_result"
    }
   ],
   "source": [
    "test(1,2,3,4,5)"
   ]
  },
  {
   "cell_type": "markdown",
   "metadata": {},
   "source": [
    "A ```*``` és utána egy változó név utal arra, hogy a függvény bemenetébe tetszőleges számú argumentum kerülhet.\n",
    "\n",
    "Ugyanez megtehető tetszőleges számú kulcsszavas argumentumok esetében is, csak a függvény argumentumába itt ```**``` + változó név kerül:"
   ]
  },
  {
   "cell_type": "code",
   "execution_count": 22,
   "metadata": {},
   "outputs": [
    {
     "name": "stdout",
     "output_type": "stream",
     "text": [
      "{'first': 'hello', 'second': 'raspberry', 'third': 'world'}\n",
      "hello\n"
     ]
    }
   ],
   "source": [
    "def testkw(**kwargs):\n",
    "    print(kwargs)\n",
    "    keys = list(kwargs.keys())\n",
    "    print(kwargs[keys[0]])\n",
    "    \n",
    "testkw(first= 'hello', second= 'raspberry', third= 'world')"
   ]
  },
  {
   "cell_type": "code",
   "execution_count": 23,
   "metadata": {},
   "outputs": [
    {
     "name": "stdout",
     "output_type": "stream",
     "text": [
      "{'first': 'hello', 'second': 'raspberry', 'third': 'world'}\n",
      "hello\n"
     ]
    }
   ],
   "source": [
    "dd = {'first': 'hello', 'second': 'raspberry', 'third': 'world'}\n",
    "testkw(**dd)"
   ]
  },
  {
   "cell_type": "markdown",
   "metadata": {},
   "source": [
    "Az első példában 3 kulcsszavas változót adtunk meg bemenetként magában a függvény meghívásában. Ugyanez elérhető akkor is, ha a változókat egy dictionaryben, ```dd``` definiáljuk, majd a függvény meghívásakor ```**```-ot teszünk a változó neve elé. A két megközelítés ugyanazt az eredményt adja."
   ]
  },
  {
   "cell_type": "markdown",
   "metadata": {},
   "source": [
    "### Segédfüggvények definiálása"
   ]
  },
  {
   "cell_type": "markdown",
   "metadata": {},
   "source": [
    "A fent definiált fogalmak után most már megérthetjük, hogyan működnek majd a következő segédfüggvények, amik kiválasztják és manipulálják a képet illetve a hozzá tartozó szöveget."
   ]
  },
  {
   "cell_type": "markdown",
   "metadata": {},
   "source": [
    "#### Kép készítése"
   ]
  },
  {
   "cell_type": "markdown",
   "metadata": {},
   "source": [
    "A ```snapshot``` függvényben először készítünk egy képet, ```ret, frame = cap.read()```, majd a ```choice``` nevű függvénnyel a ```random``` csomagból, kiválasztunk egy random elemet a ```design``` változóból és multiple assignmenttel hozzárendeljük három változóhoz, ```func``` a filter függvény, ```kwargs``` a filter függvény bemenő paraméterei, ```text``` a szöveg amit kiposztolunk a képpel. "
   ]
  },
  {
   "cell_type": "markdown",
   "metadata": {},
   "source": [
    "A következő lépésben egy új képet, ```frame```, hozunk létre az előző sorban kiválasztott ```func``` filterrel, aminek az eredeti kép és a ```kwargs```-ban tárolt paraméterek a bemenő adatai. Az így kapott képet lementjük a ```twitter``` mappába (**FONTOS: előtte létre kell hozni**) ```image.png``` név alatt. Ha újabb képet készítenénk az felülírja az eredetit. Végül visszaadjuk a képhez tartozó szöveget, ```text```, amit posztolunk majd."
   ]
  },
  {
   "cell_type": "code",
   "execution_count": null,
   "metadata": {},
   "outputs": [],
   "source": [
    "def snapshot():\n",
    "    ret, frame = cap.read()\n",
    "    func, kwargs, text = choice(design)\n",
    "    frame = func(frame, **kwargs)\n",
    "    cv2.imwrite('twitter/image.png', frame)\n",
    "    return text"
   ]
  },
  {
   "cell_type": "markdown",
   "metadata": {},
   "source": [
    "#### Twitter posztolás"
   ]
  },
  {
   "cell_type": "markdown",
   "metadata": {},
   "source": [
    "A ```send_tweet``` függvénnyel küldjük ki a posztot a twitterre. Bemenő paraméterként a szöveget, ```text```, illetve az API objektumát, ```obj``` kell megadni. A képet hardkódoljuk (nem feltétlen a legjobb megoldás, de a célnak most megfelel). A feltöltést a ```obj.update_with_media('twitter/image.png', text)``` parancs végzi. Ezt a parancsot kell hívni ha képet és szöveget is fel akarunk tölteni. "
   ]
  },
  {
   "cell_type": "code",
   "execution_count": null,
   "metadata": {},
   "outputs": [],
   "source": [
    "def send_tweet(text, obj):\n",
    "    obj.update_with_media('twitter/image.png', text)"
   ]
  },
  {
   "cell_type": "markdown",
   "metadata": {},
   "source": [
    "#### A fenti két függvényt meghívő függvény"
   ]
  },
  {
   "cell_type": "markdown",
   "metadata": {},
   "source": [
    "Az utolsó függvényünket, ```action```, majd a nyomógomb lenyomása foggja aktiválni, aminek hatására meghívjuk a ```snapshot``` és a ```send_tweet``` függvényeket, majd kiírjuk a képernyőre, hogy a posztot elküldtük."
   ]
  },
  {
   "cell_type": "code",
   "execution_count": null,
   "metadata": {},
   "outputs": [],
   "source": [
    "def action():\n",
    "    text = snapshot()\n",
    "    send_tweet(text, api)\n",
    "    print('Tweet has been sent!')"
   ]
  },
  {
   "cell_type": "markdown",
   "metadata": {},
   "source": [
    "### A twittelős kód"
   ]
  },
  {
   "cell_type": "markdown",
   "metadata": {},
   "source": [
    "A teljes kódhoz már csak egy részlet van hátra, az ```action``` függvényt hozzárendelni a nyomógomb lenyomásához, ```button.when_pressed = action```. Figyeljünk arra, hogy ne tegyünk zárójeleket az ```action``` függvénynév után, azaz ne hívjuk meg, különben a nyomógomb nem megfelelően fog működni."
   ]
  },
  {
   "cell_type": "markdown",
   "metadata": {},
   "source": [
    "```twitter_post.py```:"
   ]
  },
  {
   "cell_type": "code",
   "execution_count": 51,
   "metadata": {},
   "outputs": [],
   "source": [
    "import cv2, time\n",
    "import numpy as np\n",
    "import datetime as dt\n",
    "import json, tweepy\n",
    "from gpiozero import Button\n",
    "from random import choice\n",
    "\n",
    "cap = cv2.VideoCapture(0)\n",
    "button = Button(2)\n",
    "\n",
    "with open('./twitter/twitter.json') as f:\n",
    "    details = json.load(f)\n",
    "\n",
    "auth = tweepy.OAuthHandler(details['consumer_key'], details['consumer_secret'])\n",
    "auth.set_access_token(details['access_token'], details['access_token_secret'])\n",
    "\n",
    "api = tweepy.API(auth)\n",
    "\n",
    "design = [(cv2.edgePreservingFilter, {'flags':1, 'sigma_s':60, 'sigma_r':0.4}, 'My eyes are hazy'),\n",
    "          (cv2.detailEnhance,        {'sigma_s':10, 'sigma_r':0.15},           'I am so sharp'),\n",
    "          (cv2.stylization,          {'sigma_s':60, 'sigma_r':0.07},           'I got some style :)'),\n",
    "]\n",
    "\n",
    "def snapshot():\n",
    "    ret, frame = cap.read()\n",
    "    func, kwargs, text = choice(design)\n",
    "    frame = func(frame, **kwargs)\n",
    "    cv2.imwrite('twitter/image.png', frame)\n",
    "    return text\n",
    "\n",
    "def send_tweet(text, obj):\n",
    "    obj.update_with_media('twitter/image.png', text)\n",
    "\n",
    "def action():\n",
    "    text = snapshot()\n",
    "    send_tweet(text, api)\n",
    "    print('Tweet has been sent!')\n",
    "\n",
    "button.when_pressed = action         # az action fuggveny hozzarendelese a gomb lenyomasahoz\n",
    "\n",
    "while True:\n",
    "    if cv2.waitKey(100) & 0xFF == ord('q'):\n",
    "        break\n",
    "    time.sleep(0.2)\n",
    "\n",
    "cap.release()\n",
    "# Bezarunk minden ablakot, amit a program megnyitott\n",
    "cv2.destroyAllWindows()"
   ]
  },
  {
   "cell_type": "markdown",
   "metadata": {},
   "source": [
    "## A projekt tesztelése"
   ]
  },
  {
   "cell_type": "markdown",
   "metadata": {},
   "source": [
    "Miután összeszereltük az áramkört és a kódot is megírtuk, amit pl. ```twitter_post.py``` név alatt mentettünk el, megnyithatunk a Raspberry Pi operációs rendszerén egy terminált. A terminálban a ```cd 'mappa név'``` paranccsal elnavigálunk abba a mappába, ahova a ```twitter_post.py```-t elmentettük. Ott begépelve a ```twitter_post.py``` parancsot, letesztelhetjük a programunk működését. Ha minden jól megy akkor a program elindítása után, ha lenyomjuk a nyomógombot, akkor egy kép készül a kamerával, amit egy stílusfilteren áteresztve és egy random kiválasztott szöveggel kiegészítve kiposztolunk a Twitterre. \n",
    "\n",
    "Hibaüzenetek esetén ki kell deríteni mi lehetett a probléma, pl. elgépelés, egy modul hiányzik, sorok megfelelő behúzása, idézőjel lemaradása stb. A hibaüzenet legtöbbször segít abban, hogy melyik sorban találta a hibát és hogy mi volt az. Egy kis gyakorlással bele lehet jönni azok értelmezésébe, valamint interneten is rá lehet keresni a hibaüzenet jelentésére és annak lehetséges elhárítására."
   ]
  },
  {
   "cell_type": "markdown",
   "metadata": {},
   "source": [
    "## Mit lehet javítani/továbbfejleszteni?"
   ]
  },
  {
   "cell_type": "markdown",
   "metadata": {},
   "source": [
    "* Találjunk ki egyéb kép módosító módszereket és írjuk bele a dictionarybe, mint opciót a hozzá tartozó új szöveggel.\n",
    "* A kép elkészítése után jelenítsük azt meg a képernyőn és kérdezzen rá a program, hogy szeretnénk-e azt posztolni a Twitteren.\n",
    "\n",
    "Írd meg kommentben, hogy szerinted mivel lehetne még feldobni ezt a kis programot!"
   ]
  },
  {
   "cell_type": "markdown",
   "metadata": {},
   "source": [
    "## Referencia"
   ]
  },
  {
   "cell_type": "markdown",
   "metadata": {},
   "source": [
    "1) https://opencv-python-tutroals.readthedocs.io/en/latest/py_tutorials/py_tutorials.html\n",
    "\n",
    "2) numpy - https://numpy.org/doc/stable/user/quickstart.html\n",
    "\n",
    "3) datetime - https://www.programiz.com/python-programming/datetime\n",
    "\n",
    "4) json - https://www.programiz.com/python-programming/json"
   ]
  },
  {
   "cell_type": "markdown",
   "metadata": {},
   "source": [
    "5) Button - https://gpiozero.readthedocs.io/en/stable/api_input.html#button\n",
    "\n",
    "6) random - https://www.programiz.com/python-programming/examples/random-number\n",
    "\n",
    "7) tweepy - https://realpython.com/twitter-bot-python-tweepy/\n",
    "\n",
    "8) több változós hozzárendelés - https://www.programiz.com/python-programming/examples/multiple-return-values\n",
    "\n",
    "9) args és kwargs - https://realpython.com/python-kwargs-and-args/"
   ]
  },
  {
   "cell_type": "code",
   "execution_count": null,
   "metadata": {},
   "outputs": [],
   "source": []
  }
 ],
 "metadata": {
  "kernelspec": {
   "display_name": "Python 3",
   "language": "python",
   "name": "python3"
  },
  "language_info": {
   "codemirror_mode": {
    "name": "ipython",
    "version": 3
   },
   "file_extension": ".py",
   "mimetype": "text/x-python",
   "name": "python",
   "nbconvert_exporter": "python",
   "pygments_lexer": "ipython3",
   "version": "3.7.3"
  },
  "toc": {
   "base_numbering": 1,
   "nav_menu": {},
   "number_sections": true,
   "sideBar": true,
   "skip_h1_title": false,
   "title_cell": "Table of Contents",
   "title_sidebar": "Contents",
   "toc_cell": false,
   "toc_position": {},
   "toc_section_display": true,
   "toc_window_display": false
  }
 },
 "nbformat": 4,
 "nbformat_minor": 2
}
