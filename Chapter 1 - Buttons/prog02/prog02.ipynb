{
 "cells": [
  {
   "cell_type": "markdown",
   "metadata": {},
   "source": [
    "# A türelmetlen ember gombja"
   ]
  },
  {
   "cell_type": "markdown",
   "metadata": {},
   "source": [
    "Kevés olyan idegesítő dolog van mint liftre várni vagy a gyalogos jelzőlámpára, hogy átváltson zöldre. Ezen eszközök kitalálói, hogy \"megnyugtassák\" a felhasználókat rendelkezésünkre bocsájtottak egy hívó gombot (lift) illetve egy 'Kérem várjon' gombot (jelzőlámpa). Ezek a gombok hivatottak működésbe hozni a szerkezetet. Vagy mégsem? \n",
    "\n",
    "Szinte mindannyiunkkal előfordult már, hogy állt a gomb előtt és türelmetlenül nyomkodta, hátha attól hamarabb jön a lift vagy hamarabb lesz zöld a lámpa. Igazából nincs konkrét bizonyítékunk arra, hogy ezek a gombok tényleg szolgálnak is valamire."
   ]
  },
  {
   "cell_type": "markdown",
   "metadata": {},
   "source": [
    "## Mit fogsz készíteni?"
   ]
  },
  {
   "cell_type": "markdown",
   "metadata": {},
   "source": [
    "Készítsünk egy áramkört egy gombbal, amit mi magunk programozunk be, hogy értesítsen minket akkor ha meg lett nyomva. Ebben az esetben az értesítést a képernyőre nyomtatva jelenítjük meg. "
   ]
  },
  {
   "cell_type": "markdown",
   "metadata": {},
   "source": [
    "## Mit tanulsz meg?"
   ]
  },
  {
   "cell_type": "markdown",
   "metadata": {},
   "source": [
    "A türelmetlen ember gombjának elkészítésével a következőket tanulod meg:\n",
    "\n",
    "* Hogyan tudsz egy kapcsolót ami egy eseményt indít egy áramkörbe beiktatni\n",
    "* Hogyan programozd be a Raspberry Pi GPIO kimeneteleit a **gpiozero** modullal\n",
    "* **while** ciklus használatát\n",
    "* Hogyan tudsz üzenetet nyomtatni a képernyőre (console) a **print** utasítással\n",
    "* Hogyan észleld a gomb lenyomását az **is_pressed** gomb metódussal."
   ]
  },
  {
   "cell_type": "markdown",
   "metadata": {},
   "source": [
    "## A projekt részletekre bontása"
   ]
  },
  {
   "cell_type": "markdown",
   "metadata": {},
   "source": [
    "## A türelmetlen ember gombjának kapcsolási terve"
   ]
  },
  {
   "cell_type": "markdown",
   "metadata": {},
   "source": [
    "## A kód"
   ]
  },
  {
   "cell_type": "markdown",
   "metadata": {},
   "source": [
    "## A projekt tesztelése"
   ]
  },
  {
   "cell_type": "markdown",
   "metadata": {},
   "source": [
    "## Mit lehet javítani/továbbfejleszteni?"
   ]
  },
  {
   "cell_type": "markdown",
   "metadata": {},
   "source": [
    "## Referencia"
   ]
  },
  {
   "cell_type": "markdown",
   "metadata": {},
   "source": []
  }
 ],
 "metadata": {
  "kernelspec": {
   "display_name": "Python 3",
   "language": "python",
   "name": "python3"
  },
  "language_info": {
   "codemirror_mode": {
    "name": "ipython",
    "version": 3
   },
   "file_extension": ".py",
   "mimetype": "text/x-python",
   "name": "python",
   "nbconvert_exporter": "python",
   "pygments_lexer": "ipython3",
   "version": "3.7.4"
  },
  "toc": {
   "base_numbering": 1,
   "nav_menu": {},
   "number_sections": true,
   "sideBar": true,
   "skip_h1_title": false,
   "title_cell": "Table of Contents",
   "title_sidebar": "Contents",
   "toc_cell": false,
   "toc_position": {},
   "toc_section_display": true,
   "toc_window_display": false
  }
 },
 "nbformat": 4,
 "nbformat_minor": 2
}
