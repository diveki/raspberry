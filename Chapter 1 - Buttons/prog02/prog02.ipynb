{
 "cells": [
  {
   "cell_type": "markdown",
   "metadata": {},
   "source": [
    "# A türelmetlen ember gombja"
   ]
  },
  {
   "cell_type": "markdown",
   "metadata": {},
   "source": [
    "Kevés olyan idegesítő dolog van mint liftre várni vagy a gyalogos jelzőlámpára, hogy átváltson zöldre. Ezen eszközök kitalálói, hogy \"megnyugtassák\" a felhasználókat rendelkezésünkre bocsájtottak egy hívó gombot (lift) illetve egy 'Kérem várjon' gombot (jelzőlámpa). Ezek a gombok hivatottak működésbe hozni a szerkezetet. Vagy mégsem? \n",
    "\n",
    "Szinte mindannyiunkkal előfordult már, hogy állt a gomb előtt és türelmetlenül nyomkodta, hátha attól hamarabb jön a lift vagy hamarabb lesz zöld a lámpa. Igazából nincs konkrét bizonyítékunk arra, hogy ezek a gombok tényleg szolgálnak is valamire."
   ]
  },
  {
   "cell_type": "markdown",
   "metadata": {},
   "source": [
    "## Mit fogsz készíteni?"
   ]
  },
  {
   "cell_type": "markdown",
   "metadata": {},
   "source": [
    "Készítsünk egy áramkört egy gombbal, amit mi magunk programozunk be, hogy értesítsen minket akkor ha meg lett nyomva. Ebben az esetben az értesítést a képernyőre nyomtatva jelenítjük meg. "
   ]
  },
  {
   "cell_type": "markdown",
   "metadata": {},
   "source": [
    "## Mit tanulsz meg?"
   ]
  },
  {
   "cell_type": "markdown",
   "metadata": {},
   "source": [
    "A türelmetlen ember gombjának elkészítésével a következőket tanulod meg:\n",
    "\n",
    "* Hogyan tudsz egy kapcsolót ami egy eseményt indít egy áramkörbe beiktatni\n",
    "* Hogyan programozd be a Raspberry Pi GPIO kimeneteleit a **gpiozero** modullal\n",
    "* **while** ciklus használatát\n",
    "* Hogyan tudsz üzenetet nyomtatni a képernyőre (console) a **print** utasítással\n",
    "* Hogyan észleld a gomb lenyomását az **is_pressed** gomb metódussal."
   ]
  },
  {
   "cell_type": "markdown",
   "metadata": {},
   "source": [
    "## A projekt részletekre bontása"
   ]
  },
  {
   "cell_type": "markdown",
   "metadata": {},
   "source": [
    "* Kigondolni a gomb funkcióját, mit írjon ki a képernyőre lenyomáskor\n",
    "* Listázni a szükséges áramköri elemeket\n",
    "* Összerakni az áramkört\n",
    "* Inicializálni a gombot\n",
    "* Definiálni mi történyjen, amíg a gomb lenyomására várunk\n",
    "* Lekódolni a gomb megnyomását követő cselekményt"
   ]
  },
  {
   "cell_type": "markdown",
   "metadata": {},
   "source": [
    "## Áramköri elemek listája"
   ]
  },
  {
   "cell_type": "markdown",
   "metadata": {},
   "source": [
    "a) [Raspberry PI](https://malnapc.hu/yis/raspberry-pi/rpi-panelek) \n",
    "\n",
    "b) Nyomó gomb: [itt vásárolhatsz](https://hu.farnell.com/schurter/1301-9320/switch-smd-push-12-5mm/dp/1217772?gclid=Cj0KCQjwzZj2BRDVARIsABs3l9K-ACTnuRr-dLVcDUKleNfECM3H3kWS_RfWtmXGMXVJeY9otda4dDcaAvGLEALw_wcB&gross_price=true&mckv=sSFnjERxR_dc|pcrid|434487710397|plid||kword||match||slid||product|1217772|pgrid|101346804139|ptaid|pla-389347076066|&CMP=KNC-GHU-SHOPPING-switches-relays-NEWSTRUCTURE-13-MAY-20) vagy [építhetsz]()\n",
    "\n",
    "c) [Jumper wires female/male](https://www.ret.hu/shop/product/e-call/jumper-vezetek-szet_53-22-63) "
   ]
  },
  {
   "cell_type": "markdown",
   "metadata": {},
   "source": [
    "## A türelmetlen ember gombjának kapcsolási terve"
   ]
  },
  {
   "cell_type": "markdown",
   "metadata": {},
   "source": [
    "<img src=\"prog02_circuit.png\" width=600 height=400 />"
   ]
  },
  {
   "cell_type": "markdown",
   "metadata": {},
   "source": [
    "1) A nyomógombot lábait illesszük a breadbord mélyedéseibe. Ügyeljünk arra, hogy a nyomógomb egy (vízszintes) sorba kerülő lábai a gomb lenyomása nélkül is kapcsolatban legyenek egymással, míg a (függőlegesen) egy sorba kerülő lábai csak a lenyomás következtében lesznek összekötve. Mindezt egy műszerrel leellenprízhetjük.\n",
    "\n",
    "2) Az egyik jumper kábelt (kék) kössük a gomb egyik lábának sorába, míg a másik végét a Raspberry Pi **GPIO 02**-es (vagy **3**-as) jelöléssel ellátott tüskéjére. Ez a tüske alapértelmezetten pull-up (magas vagy 1) módban van, azaz 3.3 V-ot mutat a földeléshez képest.\n",
    "\n",
    "3) A másik jumper kábelt (narancssárga) kössük a gomb másik lábának sorába, míg a másik végét a Raspberry Pi **GND** (pl. **6**-os) jelöléssel ellátott tüskéjére. Ez a tüske alapértelmezetten földelés."
   ]
  },
  {
   "cell_type": "markdown",
   "metadata": {},
   "source": [
    "## A kód"
   ]
  },
  {
   "cell_type": "markdown",
   "metadata": {},
   "source": []
  },
  {
   "cell_type": "markdown",
   "metadata": {},
   "source": [
    "## A projekt tesztelése"
   ]
  },
  {
   "cell_type": "markdown",
   "metadata": {},
   "source": []
  },
  {
   "cell_type": "markdown",
   "metadata": {},
   "source": [
    "## Mit lehet javítani/továbbfejleszteni?"
   ]
  },
  {
   "cell_type": "markdown",
   "metadata": {},
   "source": []
  },
  {
   "cell_type": "markdown",
   "metadata": {},
   "source": [
    "## Referencia"
   ]
  },
  {
   "cell_type": "markdown",
   "metadata": {},
   "source": [
    "1) gpiozero leírás - [https://gpiozero.readthedocs.io/en/stable/recipes.html](https://gpiozero.readthedocs.io/en/stable/recipes.html)"
   ]
  },
  {
   "cell_type": "markdown",
   "metadata": {},
   "source": []
  }
 ],
 "metadata": {
  "kernelspec": {
   "display_name": "Python 3",
   "language": "python",
   "name": "python3"
  },
  "language_info": {
   "codemirror_mode": {
    "name": "ipython",
    "version": 3
   },
   "file_extension": ".py",
   "mimetype": "text/x-python",
   "name": "python",
   "nbconvert_exporter": "python",
   "pygments_lexer": "ipython3",
   "version": "3.7.4"
  },
  "toc": {
   "base_numbering": 1,
   "nav_menu": {},
   "number_sections": true,
   "sideBar": true,
   "skip_h1_title": false,
   "title_cell": "Table of Contents",
   "title_sidebar": "Contents",
   "toc_cell": false,
   "toc_position": {},
   "toc_section_display": true,
   "toc_window_display": false
  }
 },
 "nbformat": 4,
 "nbformat_minor": 2
}
