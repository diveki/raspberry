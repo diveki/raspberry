{
 "cells": [
  {
   "cell_type": "markdown",
   "metadata": {},
   "source": [
    "# Zene lejátszó"
   ]
  },
  {
   "cell_type": "markdown",
   "metadata": {},
   "source": [
    "Üljünk be egy képzeletbeli időgépbe és éljük át a zenei forradalmat újra. \n",
    "\n",
    "Az mp3-as hangformátum megjelenésével lehetővé vált a zeneszámok relatív kis méretűre tömörítése. Ez egyben azt is jelentette, hogy egy kis hard disken sok zeneszám elfért, akár 100 vagy 1000 egy zsebben hordozható eszközön. Mai szemmel (2020) ez furcsának tűnik de az 1990-es évek vége felé ez még nagy teljesítmény volt."
   ]
  },
  {
   "cell_type": "markdown",
   "metadata": {},
   "source": [
    "## Mit fogsz készíteni?"
   ]
  },
  {
   "cell_type": "markdown",
   "metadata": {},
   "source": [
    "Most mi leszünk azok a mérnökök, akik egy ilyen zsebben hordozható mp3 lejátszó prototipusát megtervezik. Csak alap funkciókkal látjuk el a lejátszónkat, azaz csak zene elindítására, megállítására és a következő és előző zene lejátszására lesz képes. Mindezt csak 3 gomb segítségével fogjuk vezérelni."
   ]
  },
  {
   "cell_type": "markdown",
   "metadata": {},
   "source": [
    "## Mit tanulsz meg?"
   ]
  },
  {
   "cell_type": "markdown",
   "metadata": {},
   "source": [
    "A házi mp3 lejátszó elkészítésével a következőket tanulod meg:\n",
    "\n",
    "* Hogyan tudsz több gombot egy áramkörbe beiktatni\n",
    "* Hogyan programozd be a Raspberry Pi GPIO kimeneteleit a **gpiozero** modullal\n",
    "* Hogyan találj meg és használj fel meglévő kidolgozásokat a célod eléréséhez, pl. zenelejátszót kezelni terminálból"
   ]
  },
  {
   "cell_type": "markdown",
   "metadata": {},
   "source": [
    "## A projekt részletekre bontása"
   ]
  },
  {
   "cell_type": "markdown",
   "metadata": {},
   "source": [
    "* Találni megfelelő, terminálból elindítható zenelejátszót\n",
    "* Felinstallálni az *moc* nevű linux terminálos zenelejátszót és a hozzá tartozó python modult\n",
    "* Függvényeket írni a play, stop, következő és előző zene végrehajtásához\n",
    "* Gomb lenyomásának idejét meghatározni és eldönteni milyen függvényt aktiváljon"
   ]
  },
  {
   "cell_type": "markdown",
   "metadata": {},
   "source": [
    "## Áramköri elemek listája"
   ]
  },
  {
   "cell_type": "markdown",
   "metadata": {},
   "source": [
    "a) [Raspberry PI](https://malnapc.hu/yis/raspberry-pi/rpi-panelek) \n",
    "\n",
    "b) 3 db nyomó gomb: [itt vásárolhatsz](https://hu.farnell.com/schurter/1301-9320/switch-smd-push-12-5mm/dp/1217772?gclid=Cj0KCQjwzZj2BRDVARIsABs3l9K-ACTnuRr-dLVcDUKleNfECM3H3kWS_RfWtmXGMXVJeY9otda4dDcaAvGLEALw_wcB&gross_price=true&mckv=sSFnjERxR_dc|pcrid|434487710397|plid||kword||match||slid||product|1217772|pgrid|101346804139|ptaid|pla-389347076066|&CMP=KNC-GHU-SHOPPING-switches-relays-NEWSTRUCTURE-13-MAY-20) vagy [építhetsz]()\n",
    "\n",
    "c) [Jumper wires female/male](https://www.ret.hu/shop/product/e-call/jumper-vezetek-szet_53-22-63) "
   ]
  },
  {
   "cell_type": "markdown",
   "metadata": {},
   "source": [
    "## A kapcsolási rajz"
   ]
  },
  {
   "cell_type": "markdown",
   "metadata": {},
   "source": [
    "<img src=\"prog08_circuit.png\" width=600 height=400 />"
   ]
  },
  {
   "cell_type": "markdown",
   "metadata": {},
   "source": [
    "1) A nyomógombot lábait illesszük a breadbord mélyedéseibe. Ügyeljünk arra, hogy a nyomógomb egy (vízszintes) sorba kerülő lábai a gomb lenyomása nélkül is kapcsolatban legyenek egymással, míg a (függőlegesen) egy sorba kerülő lábai csak a lenyomás következtében lesznek összekötve. Mindezt egy műszerrel leellenprízhetjük. \n",
    "\n",
    "2) Ugyanezt ismételjük meg még kétszer, ahogy az ábra mutatja. A két szélső gombok szolgálnak majd a következő és az előző zene elindítására, míg a középső kettős funkciót lát majd el, elindítja és leállítja a zenét. \n",
    "\n",
    "3) Fogjunk 3 jumper kábelt (pl. kék, zöld és narancssárga) és kössük egyenként egyik végüket a gomb egyik lábának sorába. A kék kábel másik végét a Raspberry Pi **GPIO 02**-es (vagy **3**-as) jelöléssel ellátott tüskéjére, a zöld kábel másik végét a **GPIO 03**-es (vagy **5**-ös) tüskére és a narancssárga kábel másik végét a **GPIO 17**-es (vagy **11**-es) tüskére kössük. \n",
    "\n",
    "4) A gombok másik lábának sorába pedig földelést kell kötni. Fogjunk sárga jumper kábelt és a gombok szabadon lévő lábának sorába tegyük a kábel egyik végét, míg a másikat a szélső függőlegesen összekötött oszlopok egyikébe. Ugyanabba az oszlopba kössünk be egy jumper kábelt, aminek a másik vége a Raspberry Pi **GND** (pl. **34**-es) jelöléssel ellátott tüskéjéhez kapcsolódik. Ez a tüske alapértelmezetten földelés."
   ]
  },
  {
   "cell_type": "markdown",
   "metadata": {},
   "source": [
    "## A kód"
   ]
  },
  {
   "cell_type": "markdown",
   "metadata": {},
   "source": [
    "Miután elkészítettük az áramkört, meg kell írnunk a kódot ami utasítja a Raspberry Pi-t, hogyan viselkedjen amikor a gombokat megnyomják.\n",
    "\n",
    "Legelőször érdemes kitalálnunk, hogyan vesszük rá a Raspberry-t, hogy zenét játszon le. Ha lenne terminálból vezérelhető zenelejátszónk, akkor a pythonból végrehajthatnánk azokat az utasításokat. Meg kell keresni, hogy melyik operációs rendszernél, hogy kell installálni ezt a szoftvert. A Raspberry alap operációs rendszere a Raspbian ami Debian alapú. Használat előtt érdemes egy kicsit tesztelni, hogy hogyan kell kezelni. \n",
    "\n",
    "Google-ban keresgélve találhatunk ra a [Music on Console](http://moc.daper.net/) linuxos/UNIXos audió lejátszóra. Ez lehetővé teszi, hogy a terminál ablakunkból utasításokkal tudjunk zenét lejátszani és nem mellesleg ismeri az mp3 formátumot. \n",
    "\n",
    "Szerencsére ennek a zenelejátszónak van python API-ja amit a ```pip install mocp``` paranccsal fel lehet installálni és a leírása [itt](https://pypi.org/project/mocp/) található. Ebben a projektben mi mind a terminál alapú, mind az API alapú irányítást szemléltetjük példákon keresztül. Ezen szoftverek installálása után kezdhetjük írni a kódot.\n",
    "\n",
    "Először betöltjük a ```gpiozero``` modulból a ```Button``` objektumot ami lehetővé teszi, hogy a Raspi kommunikáljon a gombbal a **GPIO** tüskéken keresztül. Emellett betöltjük a **time** modult amit időmérésre fogunk majd használni, a **subprocess** modult amit a terminállal való kommunikálásra haszálunk (kivételesen nem az **os** modult) és az **moc** modult, ami az *moc* Unixos terminál zenelejátszójának a pythonos csomagja."
   ]
  },
  {
   "cell_type": "code",
   "execution_count": null,
   "metadata": {},
   "outputs": [],
   "source": [
    "from gpiozero import Button\n",
    "from subprocess import call\n",
    "import time\n",
    "import moc"
   ]
  },
  {
   "cell_type": "markdown",
   "metadata": {},
   "source": [
    "Az objektum beolvasása után inicializálunk három ```Button``` objektumot, amiket ```plst```-nek, ```next_song```-nak és ```previous_song```-nak nevezünk el. Ezeket a *2*-es, *3*-as és a *17*-es számú **GPIO** tüskékre csatlakoztatjuk."
   ]
  },
  {
   "cell_type": "code",
   "execution_count": null,
   "metadata": {},
   "outputs": [],
   "source": [
    "plst = Button(2)\n",
    "next_song = Button(3)\n",
    "previous_song = Button(17)"
   ]
  },
  {
   "cell_type": "markdown",
   "metadata": {},
   "source": [
    "A zenelejátszónknak szüksége lesz majd egy útvonalra, ami a zenékhez vezet, ezt mi most a jobb láthatóság miatt a ```path``` globális változóban adjuk meg (de direkt a zenejátszó indításánál is lehetne definiálni). Emellett, a gomb lenyomási pillanatának a rögzítéséhez definiáljuk még a ```press``` globális változót is."
   ]
  },
  {
   "cell_type": "code",
   "execution_count": null,
   "metadata": {},
   "outputs": [],
   "source": [
    "path = './Music'\n",
    "press = 0"
   ]
  },
  {
   "cell_type": "markdown",
   "metadata": {},
   "source": [
    "Ezután kezdjük azon függvények definiálását, amik a zenelejátszó különböző funkcióit ellátják, pl. zene indítás, következő zeneszám, stb. Nézzük először a zene indítás függvényét:"
   ]
  },
  {
   "cell_type": "code",
   "execution_count": null,
   "metadata": {},
   "outputs": [],
   "source": [
    "def start_playing():\n",
    "    global path\n",
    "    print('Starting the song')\n",
    "    call(['mocp','-S'])\n",
    "    moc.find_and_play(path + '/*')"
   ]
  },
  {
   "cell_type": "markdown",
   "metadata": {},
   "source": [
    "Ebben a függvényben először hivatkozunk a ```path``` globális változónkra majd kinyomtatjuk a képernyőre, hogy indítjuk a zenét. A ```call``` paranccsal kommunikálunk a terminál ablakunkkal és utasítjuk azt, hogy hajtsa végre a ```mocp -S``` parancsot, ami a zenelejátszó szervert elindítja (erről a terminál válaszban értesít is minket). A ```call``` argumentuma egy lista amiben megadjuk mind a parancsszavat és a hozzá tartozó argumentumokat is a lista különböző elemeiként. API-n keresztül indítjuk el a zenét a ```moc.find_and_play(path + '/*')``` paranccsal, ami megkeresi a mappát ahol a zene fájlok találhatók, majd elindítja az elsőt. Az API dokumentációjában a ```find_and_play``` metódus mellett még sok másik is található.\n",
    "\n",
    "Ezután vegyük át a többi függvényt is nagyvonalakban:"
   ]
  },
  {
   "cell_type": "code",
   "execution_count": 1,
   "metadata": {},
   "outputs": [],
   "source": [
    "def stop_playing():\n",
    "    print('Stopping the song')\n",
    "    call(['mocp','-s'])\n",
    "\n",
    "def play_next_song():\n",
    "    print('Playing the next song')\n",
    "    call(['mocp','--next'])\n",
    "\n",
    "def play_previous_song():\n",
    "    print('Playing the previous song')\n",
    "    call(['mocp','--previous'])"
   ]
  },
  {
   "cell_type": "markdown",
   "metadata": {},
   "source": [
    "Ezek a függvények mind a terminálos parancsok alapján utasítják a zenelejátszót a feladat elvégzésére. Mindegyik utasítás az ```mocp```-vel kezdődik és a hozzátartozó argumentum változik a feladat függvényében. \n",
    "\n",
    "Eddig definiáltunk négy függvényt, de csak három gombunk van. Mint ahogy írtuk az elején az egyik gomb, kettős funkciót fog ellátni (mert pl. a mérnökök kifogytak a pénzből és nem tudtak még egy gombot venni :)). A zene elindítását és megállítását egy gombhoz rendeljük, mégpedig attól függően, hogy milyen hosszan lesz lenyomva. Ha a lenyomás 1 másodpercnél rövidebb, akkor elindítja, ha hosszabb akkor megállítja a zenét.\n",
    "\n",
    "Ehhez definiáljuk a ```start```, ```stop``` és ```encoder``` függvényeket:"
   ]
  },
  {
   "cell_type": "code",
   "execution_count": 2,
   "metadata": {},
   "outputs": [],
   "source": [
    "def start():\n",
    "    global press\n",
    "    press = time.time()\n",
    "\n",
    "def end():\n",
    "    global release\n",
    "    release = time.time()\n",
    "    delay = release - press\n",
    "    func = encoder(delay)\n",
    "    func()\n",
    "\n",
    "def encoder(delay):\n",
    "    if delay < 1:\n",
    "        return start_playing\n",
    "    else:\n",
    "        return stop_playing"
   ]
  },
  {
   "cell_type": "markdown",
   "metadata": {},
   "source": [
    "A ```start``` függvény rögzíti a gomb lenyomásának időpillanatát a ```press``` globális változóba. Az ```end``` függvény egyrészt rögzíti a gomb elengedésének pillanatát és a ```release``` változóban tárolja majd kiszámolja, hogy mennyi idő telt el a lenyomás és az elengedés között és a ```delay``` változóba menti. Másrészt, a mért idő alapján az ```encoder``` függvény eldönti, hogy zenét indítson ```start_playing``` vagy leállítson ```stop_playing```. Ha a lenyomás hossza kevesebb mint 1 másodperc akkor az előzőt teszi, ha több akkor az utóbbit. \n",
    "\n",
    "Miután elvégeztük azon függvények definiálását, amiket a gomb lenyomásával szeretnénk aktiválni, a gomb megfelelő funkcióihoz hozzá is kell rendelnünk."
   ]
  },
  {
   "cell_type": "code",
   "execution_count": null,
   "metadata": {},
   "outputs": [],
   "source": [
    "plst.when_pressed = start\n",
    "plst.when_released = end\n",
    "\n",
    "next_song.when_pressed = play_next_song\n",
    "previous_song.when_pressed = play_previous_song"
   ]
  },
  {
   "cell_type": "markdown",
   "metadata": {},
   "source": [
    "A ```plst``` gombot jelöljük ki, hogy elindítsa és megállítsa a zenék lejátszását, így ezen a gombon kell elvégezni a lenyomás hosszának mérését. Ezért gomb lenyomásához a ```start``` függvényt az elengedéséhez pedig az ```end``` függvényt rendeljük (a függvény nevek után nincs zárójel!!!). \n",
    "\n",
    "A másik két gomb esetében nincs szükség idő mérésére, így akár lenyomáskor vagy elengedéskor is elindíthatjuk a hozzárendelt függvényt. Mi a lenyomást választottuk, így a ```when_pressed``` metódust módosítjuk mindkét gombnál.\n",
    "\n",
    "Végül csak egy végtelen ciklust kell elindítanunk, hogy a python programunk figyelhesse milyen utasításokat küldünk neki a gombok lenyomásával."
   ]
  },
  {
   "cell_type": "code",
   "execution_count": null,
   "metadata": {},
   "outputs": [],
   "source": [
    "while True:\n",
    "    pass"
   ]
  },
  {
   "cell_type": "markdown",
   "metadata": {},
   "source": [
    "## A projekt tesztelése"
   ]
  },
  {
   "cell_type": "markdown",
   "metadata": {},
   "source": [
    "Miután összeszereltük az áramkört és a kódot is megírtuk, amit pl. ```button_music.py``` név alatt mentettünk el, megnyithatunk a Raspberry Pi operációs rendszerén egy terminált. A terminálban a ```cd 'mappa név'``` paranccsal elnavigálunk abba a mappába, ahova a ```button_music.py```-t elmentettük. Ott begépelve a ```python button_music.py``` parancsot, letesztelhetjük a programunk működését. Elindítás után a terminál várakozó üzemmódba kerül. Ha megnyomjuk a lejátszás gombot, akkor a terminál kiírja, hogy a zene szerver elindult és zenét kell hallanunk a hangszóróból. Természetesen a zenéinket a program mappájában a ```./Music``` mappában kell tárolnunk, különben a kód nem találja meg őket. Próbáljuk ki az összes beprogramozott gomb funkciót.\n",
    "\n",
    "Hibaüzenetek esetén ki kell deríteni mi lehetett a probléma, pl. elgépelés, egy modul hiányzik, sorok megfelelő behúzása, idézőjel lemaradása stb. A hibaüzenet legtöbbször segít abban, hogy melyik sorban találta a hibát és hogy mi volt az. Egy kis gyakorlással bele lehet jönni azok értelmezésébe, valamint interneten is rá lehet keresni a hibaüzenet jelentésére és annak lehetséges elhárítására."
   ]
  },
  {
   "cell_type": "markdown",
   "metadata": {},
   "source": [
    "## Mit lehet javítani/továbbfejleszteni?"
   ]
  },
  {
   "cell_type": "markdown",
   "metadata": {},
   "source": [
    "* Más funkciókat rendelni a gombokhoz, pl. hangerőszabályozás.\n",
    "* Újabb funkciókat hozzáadni, amit pl. két gomb egyszerre való lenyomásával lehet aktiválni.\n",
    "\n",
    "Írd meg kommentben, hogy szerinted mivel lehetne még feldobni ezt a kis programot!"
   ]
  },
  {
   "cell_type": "markdown",
   "metadata": {},
   "source": [
    "## Referencia"
   ]
  },
  {
   "cell_type": "markdown",
   "metadata": {},
   "source": [
    "1) gpiozero leírás - [https://gpiozero.readthedocs.io/en/stable/recipes.html](https://gpiozero.readthedocs.io/en/stable/recipes.html)\n",
    "\n",
    "2) time.time leírása - [https://docs.python.org/3/library/time.html](https://docs.python.org/3/library/time.html)\n",
    "\n",
    "3) Music on Console - [http://moc.daper.net/](http://moc.daper.net/)\n",
    "\n",
    "4) subprocess modul leírás - [https://docs.python.org/3/library/subprocess.html](https://docs.python.org/3/library/subprocess.html)\n",
    "\n",
    "5) mocp modul leírás - [https://pypi.org/project/mocp/](https://pypi.org/project/mocp/)"
   ]
  },
  {
   "cell_type": "code",
   "execution_count": null,
   "metadata": {},
   "outputs": [],
   "source": []
  }
 ],
 "metadata": {
  "kernelspec": {
   "display_name": "Python 3",
   "language": "python",
   "name": "python3"
  },
  "language_info": {
   "codemirror_mode": {
    "name": "ipython",
    "version": 3
   },
   "file_extension": ".py",
   "mimetype": "text/x-python",
   "name": "python",
   "nbconvert_exporter": "python",
   "pygments_lexer": "ipython3",
   "version": "3.7.4"
  },
  "toc": {
   "base_numbering": 1,
   "nav_menu": {},
   "number_sections": true,
   "sideBar": true,
   "skip_h1_title": false,
   "title_cell": "Table of Contents",
   "title_sidebar": "Contents",
   "toc_cell": false,
   "toc_position": {},
   "toc_section_display": true,
   "toc_window_display": false
  }
 },
 "nbformat": 4,
 "nbformat_minor": 2
}
