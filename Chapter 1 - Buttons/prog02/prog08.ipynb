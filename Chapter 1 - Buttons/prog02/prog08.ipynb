{
 "cells": [
  {
   "cell_type": "markdown",
   "metadata": {},
   "source": [
    "# Zene lejátszó"
   ]
  },
  {
   "cell_type": "markdown",
   "metadata": {},
   "source": [
    "Üljünk be egy képzeletbeli időgépbe és éljük át a zenei forradalmat újra. \n",
    "\n",
    "Az mp3-as hangformátum megjelenésével lehetővé vált a zeneszámok relatív kis méretűre tömörítése. Ez egyben azt is jelentette, hogy egy kis hard disken sok zeneszám elfért, akár 100 vagy 1000 egy zsebben hordozható eszközön. Mai szemmel (2020) ez furcsának tűnik de az 1990-es évek vége felé ez még nagy teljesítmény volt."
   ]
  },
  {
   "cell_type": "markdown",
   "metadata": {},
   "source": [
    "## Mit fogsz készíteni?"
   ]
  },
  {
   "cell_type": "markdown",
   "metadata": {},
   "source": [
    "Most mi leszünk azok a mérnökök, akik egy ilyen zsebben hordozható mp3 lejátszó prototipusát megtervezik. Csak alap funkciókkal látjuk el a lejátszónkat, azaz csak zene elindítására, megállítására és a következő és előző zene lejátszására lesz képes. Mindezt csak 3 gomb segítségével fogjuk vezérelni."
   ]
  },
  {
   "cell_type": "markdown",
   "metadata": {},
   "source": [
    "## Mit tanulsz meg?"
   ]
  },
  {
   "cell_type": "markdown",
   "metadata": {},
   "source": [
    "A házi mp3 lejátszó elkészítésével a következőket tanulod meg:\n",
    "\n",
    "* Hogyan tudsz több gombot egy áramkörbe beiktatni\n",
    "* Hogyan programozd be a Raspberry Pi GPIO kimeneteleit a **gpiozero** modullal\n",
    "* Hogyan találj meg és használj fel meglévő kidolgozásokat a célod eléréséhez, pl. zenelejátszót kezelni terminálból"
   ]
  },
  {
   "cell_type": "markdown",
   "metadata": {},
   "source": [
    "## A projekt részletekre bontása"
   ]
  },
  {
   "cell_type": "markdown",
   "metadata": {},
   "source": [
    "* Találni megfelelő, terminálból elindítható zenelejátszót\n",
    "* Felinstallálni az *moc* nevű linux terminálos zenelejátszót és a hozzá tartozó python modult\n",
    "* Függvényeket írni a play, stop, következő és előző zene végrehajtásához\n",
    "* Gomb lenyomásának idejét meghatározni és eldönteni milyen függvényt aktiváljon"
   ]
  },
  {
   "cell_type": "markdown",
   "metadata": {},
   "source": [
    "## Áramköri elemek listája"
   ]
  },
  {
   "cell_type": "markdown",
   "metadata": {},
   "source": [
    "a) [Raspberry PI](https://malnapc.hu/yis/raspberry-pi/rpi-panelek) \n",
    "\n",
    "b) 3 db nyomó gomb: [itt vásárolhatsz](https://hu.farnell.com/schurter/1301-9320/switch-smd-push-12-5mm/dp/1217772?gclid=Cj0KCQjwzZj2BRDVARIsABs3l9K-ACTnuRr-dLVcDUKleNfECM3H3kWS_RfWtmXGMXVJeY9otda4dDcaAvGLEALw_wcB&gross_price=true&mckv=sSFnjERxR_dc|pcrid|434487710397|plid||kword||match||slid||product|1217772|pgrid|101346804139|ptaid|pla-389347076066|&CMP=KNC-GHU-SHOPPING-switches-relays-NEWSTRUCTURE-13-MAY-20) vagy [építhetsz]()\n",
    "\n",
    "c) [Jumper wires female/male](https://www.ret.hu/shop/product/e-call/jumper-vezetek-szet_53-22-63) "
   ]
  },
  {
   "cell_type": "markdown",
   "metadata": {},
   "source": [
    "## A kapcsolási rajz"
   ]
  },
  {
   "cell_type": "markdown",
   "metadata": {},
   "source": [
    "<img src=\"prog08_circuit.png\" width=600 height=400 />"
   ]
  },
  {
   "cell_type": "markdown",
   "metadata": {},
   "source": [
    "1) A nyomógombot lábait illesszük a breadbord mélyedéseibe. Ügyeljünk arra, hogy a nyomógomb egy (vízszintes) sorba kerülő lábai a gomb lenyomása nélkül is kapcsolatban legyenek egymással, míg a (függőlegesen) egy sorba kerülő lábai csak a lenyomás következtében lesznek összekötve. Mindezt egy műszerrel leellenprízhetjük. \n",
    "\n",
    "2) Ugyanezt ismételjük meg még kétszer, ahogy az ábra mutatja. A két szélső gombok szolgálnak majd a következő és az előző zene elindítására, míg a középső kettős funkciót lát majd el, elindítja és leállítja a zenét. \n",
    "\n",
    "3) Fogjunk 3 jumper kábelt (pl. kék, zöld és narancssárga) és kössük egyenként egyik végüket a gomb egyik lábának sorába. A kék kábel másik végét a Raspberry Pi **GPIO 02**-es (vagy **3**-as) jelöléssel ellátott tüskéjére, a zöld kábel másik végét a **GPIO 03**-es (vagy **5**-ös) tüskére és a narancssárga kábel másik végét a **GPIO 17**-es (vagy **11**-es) tüskére kössük. \n",
    "\n",
    "4) A gombok másik lábának sorába pedig földelést kell kötni. Fogjunk sárga jumper kábelt és a gombok szabadon lévő lábának sorába tegyük a kábel egyik végét, míg a másikat a szélső függőlegesen összekötött oszlopok egyikébe. Ugyanabba az oszlopba kössünk be egy jumper kábelt, aminek a másik vége a Raspberry Pi **GND** (pl. **34**-es) jelöléssel ellátott tüskéjéhez kapcsolódik. Ez a tüske alapértelmezetten földelés."
   ]
  },
  {
   "cell_type": "markdown",
   "metadata": {},
   "source": [
    "## A kód"
   ]
  },
  {
   "cell_type": "markdown",
   "metadata": {},
   "source": [
    "Miután elkészítettük az áramkört, meg kell írnunk a kódot ami utasítja a Raspberry Pi-t, hogyan viselkedjen amikor a gombokat megnyomják.\n",
    "\n",
    "Legelőször érdemes kitalálnunk, hogyan vesszük rá a Raspberry-t, hogy zenét játszon le. Ha lenne terminálból vezérelhető zenelejátszónk, akkor a pythonból végrehajthatnánk azokat az utasításokat. \n",
    "\n",
    "Google-ban keresgélve \n",
    "\n",
    "Először betöltjük a ```gpiozero``` modulból a ```Button``` objektumot ami lehetővé teszi, hogy a Raspi kommunikáljon a gombbal a **GPIO** tüskéken keresztül. Emellett betöltjük a **time** modult amit időmérésre fogunk majd használni, a **subprocess** modult amit a terminállal való kommunikálásra haszálunk (kivételesen nem az **os** modult) és az **moc** modult, ami az *moc* Unixos terminál zenelejátszójának a pythonos csomagja."
   ]
  },
  {
   "cell_type": "code",
   "execution_count": null,
   "metadata": {},
   "outputs": [],
   "source": [
    "from gpiozero import Button\n",
    "import os\n",
    "import time\n",
    "import random"
   ]
  },
  {
   "cell_type": "markdown",
   "metadata": {},
   "source": [
    "Az objektum beolvasása után inicializálunk egy ```Button``` objektumot, amit ```button```-nak nevezünk el. Egyben megmondjuk az objektumnak, hogy a fizikai gombot a *2*-es számú **GPIO** tüskére csatlakoztattuk."
   ]
  },
  {
   "cell_type": "code",
   "execution_count": null,
   "metadata": {},
   "outputs": [],
   "source": [
    "button = Button(2)"
   ]
  },
  {
   "cell_type": "markdown",
   "metadata": {},
   "source": [
    "Ezután definiálunk egy változót, ```N```, ami meghatározza hányszor mérjünk reflex időt, egy ```delays``` változót, ami a reflexidőket fogja tárolni majd és a ```waiting_times``` változót ami 1 és 10 közti egész számokat tartalmaz és megmondja majd, hogy hány másodpercet várakozzon a kód mielőtt lejátszaná a kiválasztott hangot. "
   ]
  },
  {
   "cell_type": "code",
   "execution_count": null,
   "metadata": {},
   "outputs": [],
   "source": [
    "N = 5    # number of trials\n",
    "waiting_times = list(range(1,11))\n",
    "delays = []"
   ]
  },
  {
   "cell_type": "markdown",
   "metadata": {},
   "source": [
    "A ```delays``` változóhoz egy üres listát rendelünk és minden ciklus végén hozzáadjuk majd az éppen mért reflex időt. \n",
    "\n",
    "Ezután egy változóban tároljuk a sípoló hangokat:"
   ]
  },
  {
   "cell_type": "code",
   "execution_count": null,
   "metadata": {},
   "outputs": [],
   "source": [
    "sounds = os.listdir('./sounds')"
   ]
  },
  {
   "cell_type": "markdown",
   "metadata": {},
   "source": [
    "Az ```os.listdir``` listába szedi a zárójelben megadott mappában lévő fájlok neveit. Ezután elindítunk egy ```for``` ciklust, ami ```N```-szer megismétli a hozzá tartozó kódot:"
   ]
  },
  {
   "cell_type": "code",
   "execution_count": null,
   "metadata": {},
   "outputs": [],
   "source": [
    "for n in range(N):"
   ]
  },
  {
   "cell_type": "markdown",
   "metadata": {},
   "source": [
    "A ```range(N)``` kifejezés lényegében egész számokat generál 0-val kezdve egészen ```N-1```-ig. A ```for``` ciklus lényegében az így generált számot a ```n``` változóba menti, amit a ciklus testében fel lehet használni. Így ```n``` értéke minden ciklusban nő 1-gyel."
   ]
  },
  {
   "cell_type": "markdown",
   "metadata": {},
   "source": [
    "A következő lépésben kinyomtatjuk, hogy épp hanyadik körben tartunk. Mivel ```n``` értéke 0-val kezdődik így a helyes ciklus számot úgy kapjuk, ha ```n```-hez hozzáadunk 1-et. \n",
    "\n",
    "Utána véletlenszerűen kiválasztunk egy számot a ```waiting_list``` változóból a ```random.choice``` paranccsal és utasítjuk a pythont hogy várakozzon, ```time.sleep``` annyi másodpercet amennyit így kiválasztott. Így biztosítjuk, hogy senki ne tudhassa mikor jön a sípoló hang."
   ]
  },
  {
   "cell_type": "code",
   "execution_count": null,
   "metadata": {},
   "outputs": [],
   "source": [
    "    print(f'Game {n+1} started')\n",
    "    ran = random.choice(waiting_times)\n",
    "    time.sleep(ran)"
   ]
  },
  {
   "cell_type": "markdown",
   "metadata": {},
   "source": [
    "Miután eltelt a várakozás lejátszunk egy random sípoló hangot a ```sounds``` változóba mentett listából. Ehhez az ```os.system``` paranccsal lehetővé tesszük, hogy terminálos parancsokat hajtsunk végre, azaz meghívjuk az ```aplay``` parancsot, aminek ay argumentumába megadjuk, hogy melyik mappában vannak a hangok és azok fájl neveit. Erre a ```'aplay sounds/{0}'.format(sounds[ran-1])'``` string kifejezést használjuk, ahol a kapcsoszárójelben levő kifejezést helyettesítjük majd a ```sounds[ran-1]``` random elemével. A ```format``` parancs hívatott behelyettesíteni a kapcsoszárójel helyére a fájl nevét."
   ]
  },
  {
   "cell_type": "code",
   "execution_count": null,
   "metadata": {},
   "outputs": [],
   "source": [
    "    os.system('aplay sounds/{0}'.format(sounds[ran-1]))"
   ]
  },
  {
   "cell_type": "markdown",
   "metadata": {},
   "source": [
    "A hang lejátszása után el kell mentenünk annak időpontját, ```start``` és várnunk kell a gombnyomásra, ```button.wait_for_press()```. Ha az is megtörtént annak az időpontját is elmentjük, ```end```."
   ]
  },
  {
   "cell_type": "code",
   "execution_count": null,
   "metadata": {},
   "outputs": [],
   "source": [
    "    start = time.time()\n",
    "    button.wait_for_press()\n",
    "    end = time.time()"
   ]
  },
  {
   "cell_type": "markdown",
   "metadata": {},
   "source": [
    "Ezután kiszámoljuk mennyi idő telt el a hang és a gomb lenyomása között, ```delay```, majd azt hozzáadjuk a reflex időket tároló listánkhoz, ```delays```. "
   ]
  },
  {
   "cell_type": "code",
   "execution_count": null,
   "metadata": {},
   "outputs": [],
   "source": [
    "    delay = end - start\n",
    "    delays.append(delay)"
   ]
  },
  {
   "cell_type": "markdown",
   "metadata": {},
   "source": [
    "Egy listához új elemet a ```.append(elem)``` metódussal lehet. Az érdekessége a listáknak, hogy helyben változtathatók (mutable). Tehát nem azt írjuk, hogy ```delays = delays.append(delay)``` hanem csak simán ```delays.append(delay)```, egyenlőségjel nélkül. Így is ha legközelebb hivatkozunk a ```delays``` változóra, az már tartalmazni fogja az új elemet. "
   ]
  },
  {
   "cell_type": "markdown",
   "metadata": {},
   "source": [
    "Ha vége lett az ```N``` számú próbálkozásnak, kiírjuk a képernyőre hogy vége a játéknak, kiszámítjuk az átlag reakció időt és kiírjuk azt a képernyőre. A ```sum()``` függvény képes egy lista összes elemét összeadni és ezt használjuk ki az átlagszámításhoz."
   ]
  },
  {
   "cell_type": "code",
   "execution_count": null,
   "metadata": {},
   "outputs": [],
   "source": [
    "print(f'The game is over')\n",
    "reaction = sum(delays) / N\n",
    "print(f'Your average reaction took {reaction:.2f} seconds')"
   ]
  },
  {
   "cell_type": "markdown",
   "metadata": {},
   "source": [
    "A kapcsos zárójelben az átlagos reakció idő változójának nevére hivatkozunk, hogy kinyomtassuk és a ```:.2f``` arra utal, hogy csak két tizedes pontosságig nyomtassuk ki. "
   ]
  },
  {
   "cell_type": "markdown",
   "metadata": {},
   "source": [
    "## A projekt tesztelése"
   ]
  },
  {
   "cell_type": "markdown",
   "metadata": {},
   "source": [
    "Miután összeszereltük az áramkört és a kódot is megírtuk, amit pl. ```button_reflex.py``` név alatt mentettünk el, megnyithatunk a Raspberry Pi operációs rendszerén egy terminált. A terminálban a ```cd 'mappa név'``` paranccsal elnavigálunk abba a mappába, ahova a ```button_reflex.py```-t elmentettük. Ott begépelve a ```python button_reflex.py``` parancsot, letesztelhetjük a programunk működését. Ha minden jól megy akkor a gomb lenyomására majd elengedésére a képernyőn megjelenik a nyomvatartás hossza másodpercekben.\n",
    "\n",
    "Hibaüzenetek esetén ki kell deríteni mi lehetett a probléma, pl. elgépelés, egy modul hiányzik, sorok megfelelő behúzása, idézőjel lemaradása stb. A hibaüzenet legtöbbször segít abban, hogy melyik sorban találta a hibát és hogy mi volt az. Egy kis gyakorlással bele lehet jönni azok értelmezésébe, valamint interneten is rá lehet keresni a hibaüzenet jelentésére és annak lehetséges elhárítására."
   ]
  },
  {
   "cell_type": "markdown",
   "metadata": {},
   "source": [
    "## Mit lehet javítani/továbbfejleszteni?"
   ]
  },
  {
   "cell_type": "markdown",
   "metadata": {},
   "source": [
    "* Kinyomtatni statisztikát a teljesítményről: átlag, standard deviáció, minimum és maximum érték.\n",
    "* Elmenteni fájlba a játékos eredményét és összehasonlítani a következő játékos eredményével, így ranglistát készíteni.\n",
    "\n",
    "Írd meg kommentben, hogy szerinted mivel lehetne még feldobni ezt a kis programot!"
   ]
  },
  {
   "cell_type": "markdown",
   "metadata": {},
   "source": [
    "## Referencia"
   ]
  },
  {
   "cell_type": "markdown",
   "metadata": {},
   "source": [
    "1) gpiozero leírás - [https://gpiozero.readthedocs.io/en/stable/recipes.html](https://gpiozero.readthedocs.io/en/stable/recipes.html)\n",
    "\n",
    "2) time.time leírása - [https://docs.python.org/3/library/time.html](https://docs.python.org/3/library/time.html)\n",
    "\n",
    "3) python f'' string - [https://realpython.com/python-f-strings/](https://realpython.com/python-f-strings/)\n",
    "\n",
    "4) random modul leírás - [https://docs.python.org/3/library/random.html](https://docs.python.org/3/library/random.html)\n",
    "\n",
    "5) os modul leírás - [https://docs.python.org/3/library/os.html](https://docs.python.org/3/library/os.html)\n",
    "\n",
    "6) for ciklus leírás - [https://wiki.python.org/moin/ForLoop](https://wiki.python.org/moin/ForLoop)\n",
    "\n",
    "7) range függvény - [https://snakify.org/en/lessons/for_loop_range/](https://snakify.org/en/lessons/for_loop_range/)"
   ]
  },
  {
   "cell_type": "code",
   "execution_count": null,
   "metadata": {},
   "outputs": [],
   "source": []
  }
 ],
 "metadata": {
  "kernelspec": {
   "display_name": "Python 3",
   "language": "python",
   "name": "python3"
  },
  "language_info": {
   "codemirror_mode": {
    "name": "ipython",
    "version": 3
   },
   "file_extension": ".py",
   "mimetype": "text/x-python",
   "name": "python",
   "nbconvert_exporter": "python",
   "pygments_lexer": "ipython3",
   "version": "3.7.3"
  },
  "toc": {
   "base_numbering": 1,
   "nav_menu": {},
   "number_sections": true,
   "sideBar": true,
   "skip_h1_title": false,
   "title_cell": "Table of Contents",
   "title_sidebar": "Contents",
   "toc_cell": false,
   "toc_position": {},
   "toc_section_display": true,
   "toc_window_display": false
  }
 },
 "nbformat": 4,
 "nbformat_minor": 2
}
