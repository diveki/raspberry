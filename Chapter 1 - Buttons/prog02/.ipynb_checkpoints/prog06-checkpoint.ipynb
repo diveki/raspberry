{
 "cells": [
  {
   "cell_type": "markdown",
   "metadata": {},
   "source": [
    "# Reflex mérés"
   ]
  },
  {
   "cell_type": "markdown",
   "metadata": {},
   "source": [
    "Barátaitokkal beszélgetve felvetődött egy komoly eldöntendő probléma. Nem tudtatok megegyezni abban, hogy kinek jobbak a reflexei és kinek olyan mint a döglött lóé. Mindenki nagy szájhős volt, de te elhatároztad, hogy bizony utánajársz ennek a történetnek és megméred kinek van igaza. \n",
    "\n",
    "Kitaláltad, hogy az a legjobb aki egy véletlenszerű időpillanatban lejátszott hangjel érzékelését mihamarabb tudja jelezni egy gomb lenyomásával. Hogy ne bízd a véletlenre a dolgot, azt is felvetetted, hogy mindenkinek 5-ször kell lemérni a reflexidejét és a legrövidebb átlagidő mutatja meg a győztest."
   ]
  },
  {
   "cell_type": "markdown",
   "metadata": {},
   "source": [
    "## Mit fogsz készíteni?"
   ]
  },
  {
   "cell_type": "markdown",
   "metadata": {},
   "source": [
    "Egy gyorsaság mérő rendszert készítesz, ahol a hangszóró adja ki a start jelet és egy gomb lenyomásával jelzed milyen gyors voltál. "
   ]
  },
  {
   "cell_type": "markdown",
   "metadata": {},
   "source": [
    "## Mit tanulsz meg?"
   ]
  },
  {
   "cell_type": "markdown",
   "metadata": {},
   "source": [
    "A reflexidő mérő gomb elkészítésével a következőket tanulod meg:\n",
    "\n",
    "* Hogyan tudsz egy kapcsolót egy áramkörbe beiktatni\n",
    "* Hogyan programozd be a Raspberry Pi GPIO kimeneteleit a **gpiozero** modullal\n",
    "* Hogyan használjunk random szám generátorokat\n",
    "* Hogy olvassuk be egy mappa tartalmát pythonba\n",
    "* Hogyan használunk *for* ciklust pythonban"
   ]
  },
  {
   "cell_type": "markdown",
   "metadata": {},
   "source": [
    "## A projekt részletekre bontása"
   ]
  },
  {
   "cell_type": "markdown",
   "metadata": {},
   "source": [
    "* Be kell olvasni a sípoló hangokat a kódba\n",
    "* Elindítani egy 5 cikluson át tartó ```for``` ciklust\n",
    "* Minden ciklusban egy random késleltetést kelteni sípolásig\n",
    "* Sípolás pillanatát meghatározni\n",
    "* Meghatározni a gombnyomás pillanatát\n",
    "* Tárolni az 5 reflex idő mérését\n",
    "* Kiszámolni a reflexidők átlagát"
   ]
  },
  {
   "cell_type": "markdown",
   "metadata": {},
   "source": [
    "## Áramköri elemek listája"
   ]
  },
  {
   "cell_type": "markdown",
   "metadata": {},
   "source": [
    "a) [Raspberry PI](https://malnapc.hu/yis/raspberry-pi/rpi-panelek) \n",
    "\n",
    "b) Nyomó gomb: [itt vásárolhatsz](https://hu.farnell.com/schurter/1301-9320/switch-smd-push-12-5mm/dp/1217772?gclid=Cj0KCQjwzZj2BRDVARIsABs3l9K-ACTnuRr-dLVcDUKleNfECM3H3kWS_RfWtmXGMXVJeY9otda4dDcaAvGLEALw_wcB&gross_price=true&mckv=sSFnjERxR_dc|pcrid|434487710397|plid||kword||match||slid||product|1217772|pgrid|101346804139|ptaid|pla-389347076066|&CMP=KNC-GHU-SHOPPING-switches-relays-NEWSTRUCTURE-13-MAY-20) vagy [építhetsz]()\n",
    "\n",
    "c) [Jumper wires female/male](https://www.ret.hu/shop/product/e-call/jumper-vezetek-szet_53-22-63) "
   ]
  },
  {
   "cell_type": "markdown",
   "metadata": {},
   "source": [
    "## A kapcsolási rajz"
   ]
  },
  {
   "cell_type": "markdown",
   "metadata": {},
   "source": [
    "<img src=\"prog02_circuit.png\" width=600 height=400 />"
   ]
  },
  {
   "cell_type": "markdown",
   "metadata": {},
   "source": [
    "1) A nyomógombot lábait illesszük a breadbord mélyedéseibe. Ügyeljünk arra, hogy a nyomógomb egy (vízszintes) sorba kerülő lábai a gomb lenyomása nélkül is kapcsolatban legyenek egymással, míg a (függőlegesen) egy sorba kerülő lábai csak a lenyomás következtében lesznek összekötve. Mindezt egy műszerrel leellenprízhetjük.\n",
    "\n",
    "2) Az egyik jumper kábelt (kék) kössük a gomb egyik lábának sorába, míg a másik végét a Raspberry Pi **GPIO 02**-es (vagy **3**-as) jelöléssel ellátott tüskéjére. Ez a tüske alapértelmezetten pull-up (magas vagy 1) módban van, azaz 3.3 V-ot mutat a földeléshez képest.\n",
    "\n",
    "3) A másik jumper kábelt (narancssárga) kössük a gomb másik lábának sorába, míg a másik végét a Raspberry Pi **GND** (pl. **6**-os) jelöléssel ellátott tüskéjére. Ez a tüske alapértelmezetten földelés."
   ]
  },
  {
   "cell_type": "markdown",
   "metadata": {},
   "source": [
    "## A kód"
   ]
  },
  {
   "cell_type": "markdown",
   "metadata": {},
   "source": [
    "Miután elkészítettük az áramkört, meg kell írnunk a kódot ami utasítja a Raspberry Pi-t, hogyan viselkedjen amikor a gombot megnyomják és hogyan amikor azt elengedik.\n",
    "\n",
    "Először betöltjük a ```gpiozero``` modulból a ```Button``` objektumot ami lehetővé teszi, hogy a Raspi kommunikáljon a gombbal a **GPIO** tüskéken keresztül. Emellett betöltjük a **time** modult amit időmérésre fogunk majd használni, a **random** modult amit véletlen számok generálására haszálunk és az **os** modult, amivel pythonból tudunk terminál parancsokat végrehajtani."
   ]
  },
  {
   "cell_type": "code",
   "execution_count": null,
   "metadata": {},
   "outputs": [],
   "source": [
    "from gpiozero import Button\n",
    "import os\n",
    "import time\n",
    "import random"
   ]
  },
  {
   "cell_type": "markdown",
   "metadata": {},
   "source": [
    "Az objektum beolvasása után inicializálunk egy ```Button``` objektumot, amit ```button```-nak nevezünk el. Egyben megmondjuk az objektumnak, hogy a fizikai gombot a *2*-es számú **GPIO** tüskére csatlakoztattuk."
   ]
  },
  {
   "cell_type": "code",
   "execution_count": null,
   "metadata": {},
   "outputs": [],
   "source": [
    "button = Button(2)"
   ]
  },
  {
   "cell_type": "markdown",
   "metadata": {},
   "source": [
    "Ezután definiálunk egy változót, ```N```, ami meghatározza hányszor mérjünk reflex időt, egy ```delays``` változót, ami a reflexidőket fogja tárolni majd és a ```waiting_times``` változót ami 1 és 10 közti egész számokat tartalmaz és megmondja majd, hogy hány másodpercet várakozzon a kód mielőtt lejátszaná a kiválasztott hangot. "
   ]
  },
  {
   "cell_type": "code",
   "execution_count": null,
   "metadata": {},
   "outputs": [],
   "source": [
    "N = 5    # number of trials\n",
    "waiting_times = list(range(1,11))\n",
    "delays = []"
   ]
  },
  {
   "cell_type": "markdown",
   "metadata": {},
   "source": [
    "A ```delays``` változóhoz egy üres listát rendelünk és minden ciklus végén hozzáadjuk majd az éppen mért reflex időt. \n",
    "\n",
    "Ezután egy változóban tároljuk a sípoló hangokat:"
   ]
  },
  {
   "cell_type": "code",
   "execution_count": null,
   "metadata": {},
   "outputs": [],
   "source": [
    "sounds = os.listdir('./sounds')"
   ]
  },
  {
   "cell_type": "markdown",
   "metadata": {},
   "source": [
    "Az ```os.listdir``` listába szedi a zárójelben megadott mappában lévő fájlok neveit. Ezután elindítunk egy ```for``` ciklust, ami ```N```-szer megismétli a hozzá tartozó kódot:"
   ]
  },
  {
   "cell_type": "code",
   "execution_count": null,
   "metadata": {},
   "outputs": [],
   "source": [
    "for n in range(N):"
   ]
  },
  {
   "cell_type": "markdown",
   "metadata": {},
   "source": [
    "A ```range(N)``` kifejezés lényegében egész számokat generál 0-val kezdve egészen ```N-1```-ig. A ```for``` ciklus lényegében az így generált számot a ```n``` változóba menti, amit a ciklus testében fel lehet használni. Így ```n``` értéke minden ciklusban nő 1-gyel."
   ]
  },
  {
   "cell_type": "markdown",
   "metadata": {},
   "source": [
    "A következő lépésben kinyomtatjuk, hogy épp hanyadik körben tartunk. Mivel ```n``` értéke 0-val kezdődik így a helyes ciklus számot úgy kapjuk, ha ```n```-hez hozzáadunk 1-et. \n",
    "\n",
    "Utána véletlenszerűen kiválasztunk egy számot a ```waiting_list``` változóból a ```random.choice``` paranccsal és utasítjuk a pythont hogy várakozzon, ```time.sleep``` annyi másodpercet amennyit így kiválasztott. Így biztosítjuk, hogy senki ne tudhassa mikor jön a sípoló hang."
   ]
  },
  {
   "cell_type": "code",
   "execution_count": null,
   "metadata": {},
   "outputs": [],
   "source": [
    "    print(f'Game {n+1} started')\n",
    "    ran = random.choice(waiting_times)\n",
    "    time.sleep(ran)"
   ]
  },
  {
   "cell_type": "markdown",
   "metadata": {},
   "source": [
    "Miután eltelt a várakozás lejátszunk egy random sípoló hangot a ```sounds``` változóba mentett listából. Ehhez az ```os.system``` paranccsal lehetővé tesszük, hogy terminálos parancsokat hajtsunk végre, azaz meghívjuk az ```aplay``` parancsot, aminek ay argumentumába megadjuk, hogy melyik mappában vannak a hangok és azok fájl neveit. Erre a ```'aplay sounds/{0}'.format(sounds[ran-1])'``` string kifejezést használjuk, ahol a kapcsoszárójelben levő kifejezést helyettesítjük majd a ```sounds[ran-1]``` random elemével. A ```format``` parancs hívatott behelyettesíteni a kapcsoszárójel helyére a fájl nevét."
   ]
  },
  {
   "cell_type": "code",
   "execution_count": null,
   "metadata": {},
   "outputs": [],
   "source": [
    "    os.system('aplay sounds/{0}'.format(sounds[ran-1]))"
   ]
  },
  {
   "cell_type": "markdown",
   "metadata": {},
   "source": [
    "A hang lejátszása után el kell mentenünk annak időpontját, ```start``` és várnunk kell a gombnyomásra, ```button.wait_for_press()```. Ha az is megtörtént annak az időpontját is elmentjük, ```end```."
   ]
  },
  {
   "cell_type": "code",
   "execution_count": null,
   "metadata": {},
   "outputs": [],
   "source": [
    "    start = time.time()\n",
    "    button.wait_for_press()\n",
    "    end = time.time()"
   ]
  },
  {
   "cell_type": "markdown",
   "metadata": {},
   "source": [
    "Ezután kiszámoljuk mennyi idő telt el a hang és a gomb lenyomása között, ```delay```, majd azt hozzáadjuk a reflex időket tároló listánkhoz, ```delays```. "
   ]
  },
  {
   "cell_type": "code",
   "execution_count": null,
   "metadata": {},
   "outputs": [],
   "source": [
    "    delay = end - start\n",
    "    delays.append(delay)"
   ]
  },
  {
   "cell_type": "markdown",
   "metadata": {},
   "source": [
    "Egy listához új elemet a ```.append(elem)``` metódussal lehet. Az érdekessége a listáknak, hogy helyben változtathatók (mutable). Tehát nem azt írjuk, hogy ```delays = delays.append(delay)``` hanem csak simán ```delays.append(delay)```, egyenlőségjel nélkül. Így is ha legközelebb hivatkozunk a ```delays``` változóra, az már tartalmazni fogja az új elemet. "
   ]
  },
  {
   "cell_type": "markdown",
   "metadata": {},
   "source": [
    "Ha vége lett az ```N``` számú próbálkozásnak, kiírjuk a képernyőre hogy vége a játéknak, kiszámítjuk az átlag reakció időt és kiírjuk azt a képernyőre. A ```sum()``` függvény képes egy lista összes elemét összeadni és ezt használjuk ki az átlagszámításhoz."
   ]
  },
  {
   "cell_type": "code",
   "execution_count": null,
   "metadata": {},
   "outputs": [],
   "source": [
    "print(f'The game is over')\n",
    "reaction = sum(delays) / N\n",
    "print(f'Your average reaction took {reaction:.2f} seconds')"
   ]
  },
  {
   "cell_type": "markdown",
   "metadata": {},
   "source": [
    "## A projekt tesztelése"
   ]
  },
  {
   "cell_type": "markdown",
   "metadata": {},
   "source": [
    "Miután összeszereltük az áramkört és a kódot is megírtuk, amit pl. ```button_press_length.py``` név alatt mentettünk el, megnyithatunk a Raspberry Pi operációs rendszerén egy terminált. A terminálban a ```cd 'mappa név'``` paranccsal elnavigálunk abba a mappába, ahova a ```button_press_length.py```-t elmentettük. Ott begépelve a ```python button_press_length.py``` parancsot, letesztelhetjük a programunk működését. Ha minden jól megy akkor a gomb lenyomására majd elengedésére a képernyőn megjelenik a nyomvatartás hossza másodpercekben.\n",
    "\n",
    "Hibaüzenetek esetén ki kell deríteni mi lehetett a probléma, pl. elgépelés, egy modul hiányzik, sorok megfelelő behúzása, idézőjel lemaradása stb. A hibaüzenet legtöbbször segít abban, hogy melyik sorban találta a hibát és hogy mi volt az. Egy kis gyakorlással bele lehet jönni azok értelmezésébe, valamint interneten is rá lehet keresni a hibaüzenet jelentésére és annak lehetséges elhárítására."
   ]
  },
  {
   "cell_type": "markdown",
   "metadata": {},
   "source": [
    "## Mit lehet javítani/továbbfejleszteni?"
   ]
  },
  {
   "cell_type": "markdown",
   "metadata": {},
   "source": [
    "* A nyomvatartás hosszának számítását és kiírását függvényen belülre tenni (így a while ciklus üres maradhatna).\n",
    "\n",
    "Írd meg kommentben, hogy szerinted mivel lehetne még feldobni ezt a kis programot!"
   ]
  },
  {
   "cell_type": "markdown",
   "metadata": {},
   "source": [
    "## Referencia"
   ]
  },
  {
   "cell_type": "markdown",
   "metadata": {},
   "source": [
    "1) gpiozero leírás - [https://gpiozero.readthedocs.io/en/stable/recipes.html](https://gpiozero.readthedocs.io/en/stable/recipes.html)\n",
    "\n",
    "2) time.time leírása - [https://docs.python.org/3/library/time.html](https://docs.python.org/3/library/time.html)\n",
    "\n",
    "3) python függvények leírása - [https://www.datacamp.com/community/tutorials/functions-python-tutorial](https://www.datacamp.com/community/tutorials/functions-python-tutorial)\n",
    "\n",
    "4) globális változók - [https://stackoverflow.com/questions/423379/using-global-variables-in-a-function](https://stackoverflow.com/questions/423379/using-global-variables-in-a-function)"
   ]
  },
  {
   "cell_type": "code",
   "execution_count": null,
   "metadata": {},
   "outputs": [],
   "source": []
  }
 ],
 "metadata": {
  "kernelspec": {
   "display_name": "Python 3",
   "language": "python",
   "name": "python3"
  },
  "language_info": {
   "codemirror_mode": {
    "name": "ipython",
    "version": 3
   },
   "file_extension": ".py",
   "mimetype": "text/x-python",
   "name": "python",
   "nbconvert_exporter": "python",
   "pygments_lexer": "ipython3",
   "version": "3.7.4"
  },
  "toc": {
   "base_numbering": 1,
   "nav_menu": {},
   "number_sections": true,
   "sideBar": true,
   "skip_h1_title": false,
   "title_cell": "Table of Contents",
   "title_sidebar": "Contents",
   "toc_cell": false,
   "toc_position": {},
   "toc_section_display": true,
   "toc_window_display": false
  }
 },
 "nbformat": 4,
 "nbformat_minor": 2
}
