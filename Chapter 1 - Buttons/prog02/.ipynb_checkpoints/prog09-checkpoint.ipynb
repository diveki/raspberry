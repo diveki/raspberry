{
 "cells": [
  {
   "cell_type": "markdown",
   "metadata": {},
   "source": [
    "# Picúr, az éhes hörcsög"
   ]
  },
  {
   "cell_type": "markdown",
   "metadata": {},
   "source": [
    "Úgy érzitek, hogy most már elég idősek, érettek és felelősség tudatosak vagytok és eljött az ideje, hogy beszerezzetek egy kicsi, de annál cukibb szíriai hörcsögöt. Picúrnak fogjátok hívni. Ő egy nagyon aranyos és virgonc kis hörcsög aki nagyon szereti a répát, de a répa megszerzésében nektek kell segíteni. Nektek kell megmutatni az utat és irányítani Picúrt, hogy megtalálja a répát. "
   ]
  },
  {
   "cell_type": "markdown",
   "metadata": {},
   "source": [
    "## Mit fogsz készíteni?"
   ]
  },
  {
   "cell_type": "markdown",
   "metadata": {},
   "source": [
    "Egy egyszerű számítógépes játékot fogunk készíteni, amiben egy Picúr nevű hörcsögöt fogunk három gomb segítségével irányítani jobbra, balra, le- és felfele. A célja a játéknak, hogy Picúr megtalálja a répát. "
   ]
  },
  {
   "cell_type": "markdown",
   "metadata": {},
   "source": [
    "## Mit tanulsz meg?"
   ]
  },
  {
   "cell_type": "markdown",
   "metadata": {},
   "source": [
    "A játék elkészítésével a következőket tanulod meg:\n",
    "\n",
    "* Hogyan tudsz több gombot egy áramkörbe beiktatni\n",
    "* Hogyan programozd be a Raspberry Pi GPIO kimeneteleit a **gpiozero** modullal\n",
    "* Hogyan kell egy grafikus felületet létrehozni a **pygame** modullal\n",
    "* Hogyan hangold össze a grafikus megjelenítő felületet a gombokkal és mozgass elemeket a grafikus felületen"
   ]
  },
  {
   "cell_type": "markdown",
   "metadata": {},
   "source": [
    "## A projekt részletekre bontása"
   ]
  },
  {
   "cell_type": "markdown",
   "metadata": {},
   "source": [
    "* A **pygame** installálása\n",
    "* Defininálni a le, fel, jobbra és balra irányokat\n",
    "* Beszerezni képeket a hörcsögről és a répáról\n",
    "* Elhelyezni ezeket a játéktéren\n",
    "* Megakadályozni, hogy a hörcsög lemehessen a képernyőről\n",
    "* Frissíteni a képek helyzetét a mozgatások után\n",
    "* Kiírni a képernyőre, hogy Yummy ha a hörcsög megtalálta a répát"
   ]
  },
  {
   "cell_type": "markdown",
   "metadata": {},
   "source": [
    "## Áramköri elemek listája"
   ]
  },
  {
   "cell_type": "markdown",
   "metadata": {},
   "source": [
    "a) [Raspberry PI](https://malnapc.hu/yis/raspberry-pi/rpi-panelek) \n",
    "\n",
    "b) 3 db nyomó gomb: [itt vásárolhatsz](https://hu.farnell.com/schurter/1301-9320/switch-smd-push-12-5mm/dp/1217772?gclid=Cj0KCQjwzZj2BRDVARIsABs3l9K-ACTnuRr-dLVcDUKleNfECM3H3kWS_RfWtmXGMXVJeY9otda4dDcaAvGLEALw_wcB&gross_price=true&mckv=sSFnjERxR_dc|pcrid|434487710397|plid||kword||match||slid||product|1217772|pgrid|101346804139|ptaid|pla-389347076066|&CMP=KNC-GHU-SHOPPING-switches-relays-NEWSTRUCTURE-13-MAY-20) vagy [építhetsz]()\n",
    "\n",
    "c) [Jumper wires female/male](https://www.ret.hu/shop/product/e-call/jumper-vezetek-szet_53-22-63) "
   ]
  },
  {
   "cell_type": "markdown",
   "metadata": {},
   "source": [
    "## A kapcsolási rajz"
   ]
  },
  {
   "cell_type": "markdown",
   "metadata": {},
   "source": [
    "<img src=\"prog09_circuit.png\" width=600 height=400 />"
   ]
  },
  {
   "cell_type": "markdown",
   "metadata": {},
   "source": [
    "1) A nyomógombot lábait illesszük a breadbord mélyedéseibe. Ügyeljünk arra, hogy a nyomógomb egy (vízszintes) sorba kerülő lábai a gomb lenyomása nélkül is kapcsolatban legyenek egymással, míg a (függőlegesen) egy sorba kerülő lábai csak a lenyomás következtében lesznek összekötve. Mindezt egy műszerrel leellenprízhetjük. \n",
    "\n",
    "2) Ugyanezt ismételjük meg még kétszer, ahogy az ábra mutatja. A két szélső gombok szolgálnak majd a következő és az előző zene elindítására, míg a középső kettős funkciót lát majd el, elindítja és leállítja a zenét. \n",
    "\n",
    "3) Fogjunk 3 jumper kábelt (pl. kék, zöld és narancssárga) és kössük egyenként egyik végüket a gomb egyik lábának sorába. A kék kábel másik végét a Raspberry Pi **GPIO 02**-es (vagy **3**-as) jelöléssel ellátott tüskéjére, a zöld kábel másik végét a **GPIO 03**-es (vagy **5**-ös) tüskére és a narancssárga kábel másik végét a **GPIO 17**-es (vagy **11**-es) tüskére kössük. \n",
    "\n",
    "4) A gombok másik lábának sorába pedig földelést kell kötni. Fogjunk sárga jumper kábelt és a gombok szabadon lévő lábának sorába tegyük a kábel egyik végét, míg a másikat a szélső függőlegesen összekötött oszlopok egyikébe. Ugyanabba az oszlopba kössünk be egy jumper kábelt, aminek a másik vége a Raspberry Pi **GND** (pl. **34**-es) jelöléssel ellátott tüskéjéhez kapcsolódik. Ez a tüske alapértelmezetten földelés."
   ]
  },
  {
   "cell_type": "markdown",
   "metadata": {},
   "source": [
    "## A kód"
   ]
  },
  {
   "cell_type": "markdown",
   "metadata": {},
   "source": [
    "Ha valaki játékokat szeretne fejleszteni Pythonbó, annak a [*pygame*](https://www.pygame.org/news) modul egy kézenfekvő csomag. Ez lehetővé teszi a felhasználónak, hogy könnyedén és rövid idő alatt multimédiás termékeket hozzon létre. A *pygame* általában alapjáraton fel van installálva a Raspbian operációs rendszeren de jól utána kell járni, hogy milyen Python verzióhoz tartozik.\n",
    "\n",
    "Amennyiben a te számítógépeden nem lenne felinstallálva a *pygame* (amit a ```pip list``` paranccsal tudsz ellenőrizni), nyiss meg egy terminált és írd be hogy ```pip install pygame```. Ha nem kaptál hibaüzenetet, akkor ezután már rendelkezned kellene evvel a csomaggal. \n",
    "\n",
    "A kódban szükségünk lesz még egy hörcsög és egy répa képére is. Ezeket bárhonnan be lehet tölteni az internetrő, de mi a [http://www.freepik.com/](http://www.freepik.com/) weboldalról keresgéltünk.\n",
    "\n",
    "A kódunk első részében, mint mindig, először beimportálunk néhány modult. A ```gpiozero``` modulból a ```Button``` objektumot ami lehetővé teszi, hogy a Raspi kommunikáljon a gombbal a **GPIO** tüskéken keresztül. Emellett betöltjük a **time** modult amit időmérésre fogunk majd használni, a **random** modult amit a véletlenszerű számok generálására használunk, a **sys** modult, ami lehetővé teszi, hogy pythonból elérjük az operációs rendszer parancsait, a **pygame** csomagot ami a grafikai megjelenítésért felel."
   ]
  },
  {
   "cell_type": "code",
   "execution_count": null,
   "metadata": {},
   "outputs": [],
   "source": [
    "from gpiozero import Button\n",
    "import time, random\n",
    "import sys, pygame"
   ]
  },
  {
   "cell_type": "markdown",
   "metadata": {},
   "source": [
    "A modulok beolvasása után inicializálunk három ```Button``` objektumot, amiket ```left```-nek, ```right```-nak és ```up_down```-nak nevezünk el. Ezeket a *17*-es, *2*-es és a *3*-ss számú **GPIO** tüskékre csatlakoztatjuk."
   ]
  },
  {
   "cell_type": "code",
   "execution_count": null,
   "metadata": {},
   "outputs": [],
   "source": [
    "right = Button(2)\n",
    "up_down = Button(3)\n",
    "left = Button(17)"
   ]
  },
  {
   "cell_type": "markdown",
   "metadata": {},
   "source": [
    "A következő lépésben elkezdjük definiálni a grafikus felületünket. A ```pygame.init()``` közli a pythonnal, hogy készek vagyunk használni a grafikus felületet és elkezdjük azt inicializálni. A ```pygame.font.init()``` ugyanezt csinálja, csak a betűtípusokat inicializálja. Ezután létrehozunk egy ```font``` objektumot az operációs rendszerünk betűtípus készletéből a ```pygame.font.SysFont('Comic Sans MS', 30)``` paranccsal. "
   ]
  },
  {
   "cell_type": "code",
   "execution_count": null,
   "metadata": {},
   "outputs": [],
   "source": [
    "pygame.init( )\n",
    "pygame.font.init()\n",
    "font = pygame.font.SysFont('Comic Sans MS', 30)"
   ]
  },
  {
   "cell_type": "markdown",
   "metadata": {},
   "source": [
    "Ezután definiálunk néhány előre meghatározott értéket a grafikus felületünkkel (canvas) kapcsolatban, mint pl. a szélesség (width), magasság (height), a háttér színe RGB stílusban (white) és a hörcsög lépéseinek nagysága (step)."
   ]
  },
  {
   "cell_type": "code",
   "execution_count": 1,
   "metadata": {},
   "outputs": [],
   "source": [
    "#Set canvas parameters\n",
    "width, height = 500, 500\n",
    "size = width\n",
    "white = 255,255,255\n",
    "step = 50"
   ]
  },
  {
   "cell_type": "markdown",
   "metadata": {},
   "source": [
    "Ebben a függvényben először hivatkozunk a ```path``` globális változónkra majd kinyomtatjuk a képernyőre, hogy indítjuk a zenét. A ```call``` paranccsal kommunikálunk a terminál ablakunkkal és utasítjuk azt, hogy hajtsa végre a ```mocp -S``` parancsot, ami a zenelejátszó szervert elindítja (erről a terminál válaszban értesít is minket). A ```call``` argumentuma egy lista amiben megadjuk mind a parancsszavat és a hozzá tartozó argumentumokat is a lista különböző elemeiként. API-n keresztül indítjuk el a zenét a ```moc.find_and_play(path + '/*')``` paranccsal, ami megkeresi a mappát ahol a zene fájlok találhatók, majd elindítja az elsőt. Az API dokumentációjában a ```find_and_play``` metódus mellett még sok másik is található.\n",
    "\n",
    "Ezután vegyük át a többi függvényt is nagyvonalakban:"
   ]
  },
  {
   "cell_type": "code",
   "execution_count": 1,
   "metadata": {},
   "outputs": [],
   "source": [
    "def stop_playing():\n",
    "    print('Stopping the song')\n",
    "    call(['mocp','-s'])\n",
    "\n",
    "def play_next_song():\n",
    "    print('Playing the next song')\n",
    "    call(['mocp','--next'])\n",
    "\n",
    "def play_previous_song():\n",
    "    print('Playing the previous song')\n",
    "    call(['mocp','--previous'])"
   ]
  },
  {
   "cell_type": "markdown",
   "metadata": {},
   "source": [
    "Ezek a függvények mind a terminálos parancsok alapján utasítják a zenelejátszót a feladat elvégzésére. Mindegyik utasítás az ```mocp```-vel kezdődik és a hozzátartozó argumentum változik a feladat függvényében. \n",
    "\n",
    "Eddig definiáltunk négy függvényt, de csak három gombunk van. Mint ahogy írtuk az elején az egyik gomb, kettős funkciót fog ellátni (mert pl. a mérnökök kifogytak a pénzből és nem tudtak még egy gombot venni :)). A zene elindítását és megállítását egy gombhoz rendeljük, mégpedig attól függően, hogy milyen hosszan lesz lenyomva. Ha a lenyomás 1 másodpercnél rövidebb, akkor elindítja, ha hosszabb akkor megállítja a zenét.\n",
    "\n",
    "Ehhez definiáljuk a ```start```, ```stop``` és ```encoder``` függvényeket:"
   ]
  },
  {
   "cell_type": "code",
   "execution_count": 2,
   "metadata": {},
   "outputs": [],
   "source": [
    "def start():\n",
    "    global press\n",
    "    press = time.time()\n",
    "\n",
    "def end():\n",
    "    global release\n",
    "    release = time.time()\n",
    "    delay = release - press\n",
    "    func = encoder(delay)\n",
    "    func()\n",
    "\n",
    "def encoder(delay):\n",
    "    if delay < 1:\n",
    "        return start_playing\n",
    "    else:\n",
    "        return stop_playing"
   ]
  },
  {
   "cell_type": "markdown",
   "metadata": {},
   "source": [
    "A ```start``` függvény rögzíti a gomb lenyomásának időpillanatát a ```press``` globális változóba. Az ```end``` függvény egyrészt rögzíti a gomb elengedésének pillanatát és a ```release``` változóban tárolja majd kiszámolja, hogy mennyi idő telt el a lenyomás és az elengedés között és a ```delay``` változóba menti. Másrészt, a mért idő alapján az ```encoder``` függvény eldönti, hogy zenét indítson ```start_playing``` vagy leállítson ```stop_playing```. Ha a lenyomás hossza kevesebb mint 1 másodperc akkor az előzőt teszi, ha több akkor az utóbbit. \n",
    "\n",
    "Miután elvégeztük azon függvények definiálását, amiket a gomb lenyomásával szeretnénk aktiválni, a gomb megfelelő funkcióihoz hozzá is kell rendelnünk."
   ]
  },
  {
   "cell_type": "code",
   "execution_count": null,
   "metadata": {},
   "outputs": [],
   "source": [
    "plst.when_pressed = start\n",
    "plst.when_released = end\n",
    "\n",
    "next_song.when_pressed = play_next_song\n",
    "previous_song.when_pressed = play_previous_song"
   ]
  },
  {
   "cell_type": "markdown",
   "metadata": {},
   "source": [
    "A ```plst``` gombot jelöljük ki, hogy elindítsa és megállítsa a zenék lejátszását, így ezen a gombon kell elvégezni a lenyomás hosszának mérését. Ezért gomb lenyomásához a ```start``` függvényt az elengedéséhez pedig az ```end``` függvényt rendeljük (a függvény nevek után nincs zárójel!!!). \n",
    "\n",
    "A másik két gomb esetében nincs szükség idő mérésére, így akár lenyomáskor vagy elengedéskor is elindíthatjuk a hozzárendelt függvényt. Mi a lenyomást választottuk, így a ```when_pressed``` metódust módosítjuk mindkét gombnál.\n",
    "\n",
    "Végül csak egy végtelen ciklust kell elindítanunk, hogy a python programunk figyelhesse milyen utasításokat küldünk neki a gombok lenyomásával."
   ]
  },
  {
   "cell_type": "code",
   "execution_count": null,
   "metadata": {},
   "outputs": [],
   "source": [
    "while True:\n",
    "    pass"
   ]
  },
  {
   "cell_type": "markdown",
   "metadata": {},
   "source": [
    "## A projekt tesztelése"
   ]
  },
  {
   "cell_type": "markdown",
   "metadata": {},
   "source": [
    "Miután összeszereltük az áramkört és a kódot is megírtuk, amit pl. ```button_music.py``` név alatt mentettünk el, megnyithatunk a Raspberry Pi operációs rendszerén egy terminált. A terminálban a ```cd 'mappa név'``` paranccsal elnavigálunk abba a mappába, ahova a ```button_music.py```-t elmentettük. Ott begépelve a ```python button_music.py``` parancsot, letesztelhetjük a programunk működését. Elindítás után a terminál várakozó üzemmódba kerül. Ha megnyomjuk a lejátszás gombot, akkor a terminál kiírja, hogy a zene szerver elindult és zenét kell hallanunk a hangszóróból. Természetesen a zenéinket a program mappájában a ```./Music``` mappában kell tárolnunk, különben a kód nem találja meg őket. Próbáljuk ki az összes beprogramozott gomb funkciót.\n",
    "\n",
    "Hibaüzenetek esetén ki kell deríteni mi lehetett a probléma, pl. elgépelés, egy modul hiányzik, sorok megfelelő behúzása, idézőjel lemaradása stb. A hibaüzenet legtöbbször segít abban, hogy melyik sorban találta a hibát és hogy mi volt az. Egy kis gyakorlással bele lehet jönni azok értelmezésébe, valamint interneten is rá lehet keresni a hibaüzenet jelentésére és annak lehetséges elhárítására."
   ]
  },
  {
   "cell_type": "markdown",
   "metadata": {},
   "source": [
    "## Mit lehet javítani/továbbfejleszteni?"
   ]
  },
  {
   "cell_type": "markdown",
   "metadata": {},
   "source": [
    "* Más funkciókat rendelni a gombokhoz, pl. hangerőszabályozás.\n",
    "* Újabb funkciókat hozzáadni, amit pl. két gomb egyszerre való lenyomásával lehet aktiválni.\n",
    "\n",
    "Írd meg kommentben, hogy szerinted mivel lehetne még feldobni ezt a kis programot!"
   ]
  },
  {
   "cell_type": "markdown",
   "metadata": {},
   "source": [
    "## Referencia"
   ]
  },
  {
   "cell_type": "markdown",
   "metadata": {},
   "source": [
    "1) gpiozero leírás - [https://gpiozero.readthedocs.io/en/stable/recipes.html](https://gpiozero.readthedocs.io/en/stable/recipes.html)\n",
    "\n",
    "2) time.time leírása - [https://docs.python.org/3/library/time.html](https://docs.python.org/3/library/time.html)\n",
    "\n",
    "3) Pygame leírása - [https://www.pygame.org/news](https://www.pygame.org/news)\n",
    "\n",
    "4) subprocess modul leírás - [https://docs.python.org/3/library/subprocess.html](https://docs.python.org/3/library/subprocess.html)\n",
    "\n",
    "5) mocp modul leírás - [https://pypi.org/project/mocp/](https://pypi.org/project/mocp/)"
   ]
  },
  {
   "cell_type": "code",
   "execution_count": null,
   "metadata": {},
   "outputs": [],
   "source": []
  }
 ],
 "metadata": {
  "kernelspec": {
   "display_name": "Python 3",
   "language": "python",
   "name": "python3"
  },
  "language_info": {
   "codemirror_mode": {
    "name": "ipython",
    "version": 3
   },
   "file_extension": ".py",
   "mimetype": "text/x-python",
   "name": "python",
   "nbconvert_exporter": "python",
   "pygments_lexer": "ipython3",
   "version": "3.7.4"
  },
  "toc": {
   "base_numbering": 1,
   "nav_menu": {},
   "number_sections": true,
   "sideBar": true,
   "skip_h1_title": false,
   "title_cell": "Table of Contents",
   "title_sidebar": "Contents",
   "toc_cell": false,
   "toc_position": {},
   "toc_section_display": true,
   "toc_window_display": false
  }
 },
 "nbformat": 4,
 "nbformat_minor": 2
}
