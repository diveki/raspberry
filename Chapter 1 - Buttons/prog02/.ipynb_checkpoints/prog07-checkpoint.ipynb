{
 "cells": [
  {
   "cell_type": "markdown",
   "metadata": {},
   "source": [
    "# Titkosított üzenetek"
   ]
  },
  {
   "cell_type": "markdown",
   "metadata": {},
   "source": [
    "Megtudtátok a barátaitokkal, hogy lehallgatják a beszélgetéseiteket. Ezért kitaláltátok, hogy saját kódolt morse üzenetekkel fogtok kommunikálni, aminek az értelmezését (dekódolását) csak ti ismeritek. \n",
    "\n",
    "Ki kell találni, hogy a szavakat hogyan kódolnátok hosszú és rövid idejű gomblenyomásokkal. Ha ez meg van és elkészült az üzenet is, akkor azt le kell menteni egy txt fájl formájában, elküldeni azt a barátodnak, akik a dekódolót lefuttatva a fájlon már az általad megfogalmazott szöveget látja. \n"
   ]
  },
  {
   "cell_type": "markdown",
   "metadata": {},
   "source": [
    "## Mit fogsz készíteni?"
   ]
  },
  {
   "cell_type": "markdown",
   "metadata": {},
   "source": [
    "Ebben a gyakorlatban egy gombot fogunk használni arra, hogy kódolt üzeneteket hozzunk létre és azok értelmezéséhez írunk egy dekódolót is. Mindehhez néhány dolgot viszont érdemes előre tisztázni:\n",
    "\n",
    "* Ha a gombot kevesebb mint 1 s-ig nyomjuk le, azt rövid jelnek tekintjük és 's'-sel (short) jelöljük.\n",
    "* Ha a gombot 1-3 s-ig tartjuk lenyomva akkor, azt hosszú jelnek tekintjük és 'l'-lel (long) jelöljük.\n",
    "* Hogy a különböző szavakat meg tudjuk különböztetni, azokat új sorba mentjük el, és új sort, '\\n', akkor tudunk létrehozni ha a gombot 3-7 másodpercig tartjuk nyomva.\n",
    "* Ha a gombot 7 másodpercnél tovább tartjuk lenyomva, akkor jelezzük a kódnak, hogy vége az üzenetnek. \n",
    "\n",
    "A dekódoló programnak tartalmaznia kell egy leképezést, ami a hosszú és rövid jelek kombinációját szavakká alakítja. Mindezt egy ```dictionary``` típusú változóval oldjuk meg. "
   ]
  },
  {
   "cell_type": "markdown",
   "metadata": {},
   "source": [
    "## Mit tanulsz meg?"
   ]
  },
  {
   "cell_type": "markdown",
   "metadata": {},
   "source": [
    "* Hogyan kell fájlokat megnyitni, módosítani és bezárni pythonban\n",
    "* Hogyan programozd be a Raspberry Pi GPIO kimeneteleit a **gpiozero** modullal\n",
    "* Hogyan használjunk a gombot időtartam mérésre\n",
    "* Hogyan hozhatunk létre függvényeket\n",
    "* Hogyan használunk *if-else* szerkezeteket pythonban\n",
    "* Hogyan dolgozunk *dictionary* típusokkal\n",
    "* Hogyan használunk *for* ciklusokat"
   ]
  },
  {
   "cell_type": "markdown",
   "metadata": {},
   "source": [
    "## A projekt részletekre bontása"
   ]
  },
  {
   "cell_type": "markdown",
   "metadata": {},
   "source": [
    "* Mérni kell a gomblenyomások hosszát\n",
    "* *if-else* szerkezettel eldönteni, hogy a mért gombnyomás rövid, hosszú, újsor vagy üzenet vége jel\n",
    "* fájlba menteni az üzenetet\n",
    "* a dekódolóban beolvasni a fájl tartalmát\n",
    "* dekódolni az üzenetet"
   ]
  },
  {
   "cell_type": "markdown",
   "metadata": {},
   "source": [
    "## Áramköri elemek listája"
   ]
  },
  {
   "cell_type": "markdown",
   "metadata": {},
   "source": [
    "a) [Raspberry PI](https://malnapc.hu/yis/raspberry-pi/rpi-panelek) \n",
    "\n",
    "b) Nyomó gomb: [itt vásárolhatsz](https://hu.farnell.com/schurter/1301-9320/switch-smd-push-12-5mm/dp/1217772?gclid=Cj0KCQjwzZj2BRDVARIsABs3l9K-ACTnuRr-dLVcDUKleNfECM3H3kWS_RfWtmXGMXVJeY9otda4dDcaAvGLEALw_wcB&gross_price=true&mckv=sSFnjERxR_dc|pcrid|434487710397|plid||kword||match||slid||product|1217772|pgrid|101346804139|ptaid|pla-389347076066|&CMP=KNC-GHU-SHOPPING-switches-relays-NEWSTRUCTURE-13-MAY-20) vagy [építhetsz]()\n",
    "\n",
    "c) [Jumper wires female/male](https://www.ret.hu/shop/product/e-call/jumper-vezetek-szet_53-22-63) "
   ]
  },
  {
   "cell_type": "markdown",
   "metadata": {},
   "source": [
    "## A kapcsolási rajz"
   ]
  },
  {
   "cell_type": "markdown",
   "metadata": {},
   "source": [
    "<img src=\"prog02_circuit.png\" width=600 height=400 />"
   ]
  },
  {
   "cell_type": "markdown",
   "metadata": {},
   "source": [
    "1) A nyomógombot lábait illesszük a breadbord mélyedéseibe. Ügyeljünk arra, hogy a nyomógomb egy (vízszintes) sorba kerülő lábai a gomb lenyomása nélkül is kapcsolatban legyenek egymással, míg a (függőlegesen) egy sorba kerülő lábai csak a lenyomás következtében lesznek összekötve. Mindezt egy műszerrel leellenprízhetjük.\n",
    "\n",
    "2) Az egyik jumper kábelt (kék) kössük a gomb egyik lábának sorába, míg a másik végét a Raspberry Pi **GPIO 02**-es (vagy **3**-as) jelöléssel ellátott tüskéjére. Ez a tüske alapértelmezetten pull-up (magas vagy 1) módban van, azaz 3.3 V-ot mutat a földeléshez képest.\n",
    "\n",
    "3) A másik jumper kábelt (narancssárga) kössük a gomb másik lábának sorába, míg a másik végét a Raspberry Pi **GND** (pl. **6**-os) jelöléssel ellátott tüskéjére. Ez a tüske alapértelmezetten földelés."
   ]
  },
  {
   "cell_type": "markdown",
   "metadata": {},
   "source": [
    "## A kód"
   ]
  },
  {
   "cell_type": "markdown",
   "metadata": {},
   "source": [
    "Miután elkészítettük az áramkört, meg kell írnunk a kódot ami utasítja a Raspberry Pi-t, hogyan viselkedjen attól függően, hogy meddig tartották lenyomva a gombot.\n",
    "\n",
    "Először betöltjük a ```gpiozero``` modulból a ```Button``` objektumot ami lehetővé teszi, hogy a Raspi kommunikáljon a gombbal a **GPIO** tüskéken keresztül. Emellett betöltjük a **time** modult amit időmérésre fogunk majd használni."
   ]
  },
  {
   "cell_type": "code",
   "execution_count": null,
   "metadata": {},
   "outputs": [],
   "source": [
    "from gpiozero import Button\n",
    "import time"
   ]
  },
  {
   "cell_type": "markdown",
   "metadata": {},
   "source": [
    "Az objektum beolvasása után inicializálunk egy ```Button``` objektumot, amit ```button```-nak nevezünk el. Egyben megmondjuk az objektumnak, hogy a fizikai gombot a *2*-es számú **GPIO** tüskére csatlakoztattuk. Emellett két változót is inicializálunk, ahol az első, ```press``` a lenyomás pillanatát méri majd, a második ```release``` pedig a gomb felengedésének pillanatát rögzíti."
   ]
  },
  {
   "cell_type": "code",
   "execution_count": null,
   "metadata": {},
   "outputs": [],
   "source": [
    "button = Button(2)\n",
    "press = 0\n",
    "release = 0"
   ]
  },
  {
   "cell_type": "markdown",
   "metadata": {},
   "source": [
    "Majd az ```open``` paranccsal megnyitunk egy szöveges (text) fájlt, amit ```message.txt``` névre keresztelünk. Az ```open``` első argumentuma a fájl neve kell legyen (tartalmazva az avszolút vagy relatív mappa pozíciót is). Ebbe a fájlba fogjuk rögzíteni a titkos kódolt üzenetet, amit később majd egy dekódoló olvas be és értelmez. "
   ]
  },
  {
   "cell_type": "code",
   "execution_count": null,
   "metadata": {},
   "outputs": [],
   "source": [
    "msg = open('message.txt','w')"
   ]
  },
  {
   "cell_type": "markdown",
   "metadata": {},
   "source": [
    "Ezután definiáljuk azokat a függvényeket, amik a gomb lenyomva tartásának idejét segítenek mérni és egyben elvégzik az üzenez kódolását is. Az első a ```start``` függvény, amit a gomb lenyomása indít majd el. Ez a függvény a ```press``` globális változóba menti ell a gomb lenyomásának pillanatát."
   ]
  },
  {
   "cell_type": "code",
   "execution_count": null,
   "metadata": {},
   "outputs": [],
   "source": [
    "def start():\n",
    "    global press\n",
    "    press = time.time()"
   ]
  },
  {
   "cell_type": "markdown",
   "metadata": {},
   "source": [
    "A második függvény, ```end```, feladata három rétű (ld. a kommentelt részt a függvény belsejében: Part 1, 2 3). Első körben a ```release``` globális változóba menti a gomb felengedésének pillanatát a ```time.time()``` időmérővel. Ezután kiszámolja, mennyi ideig volt nyomva tartva a gomb és azt a ```delay``` változóba tárolja. Ugyanitt még beolvassa a ```msg``` globális változót, ami a szöveges fájl kezeléséért felelős, amibe a kódolt üzenetet mentjük majd. "
   ]
  },
  {
   "cell_type": "code",
   "execution_count": null,
   "metadata": {},
   "outputs": [],
   "source": [
    "def end():\n",
    "    ### Part 1 ###\n",
    "    global release, msg\n",
    "    release = time.time()\n",
    "    delay = release - press\n",
    "    ### Part 2 ###\n",
    "    code = encoder(delay)\n",
    "    ### Part 3 ###\n",
    "    if code == 'close':\n",
    "        msg.close()\n",
    "        print('Kódolt üzenet elmentve')\n",
    "        print('Kérem lépjen ki a programból!')\n",
    "    if not msg.closed:\n",
    "        msg.write(code)"
   ]
  },
  {
   "cell_type": "markdown",
   "metadata": {},
   "source": [
    "A második részben (Part 2) a ```delay``` értéke alapján megpróbáljuk eldönteni, milyen kódolt üzenetet kell átadni. Erre az ```encoder(delay)``` függvényt használjuk, ami bemenetként a lenyomva tartás idejét várja és kimenetként 's' (short), 'l' (long), '\\n' (új sor) vagy 'close' értéket ad vissza és tárol a ```code``` változóban. Ezt a függvényt lejjebb részletezzük.\n",
    "\n",
    "A harmadik rész pedig két ```if``` feltételes szerkezettel dönti el mit csináljon. Az első szerkezet megvizsgálja, hogy a ```code``` értéke megegyezik-e a ```'close'``` stringgel. Ha igen, akkor utasítást ad a szöveges fájl bezárására és annak tartalmának mentésére  ```msg.close()``` valamint kiírja a képernyőre, hogy az üzenet elmentve és Kérem lépjen ki a programból.\n",
    "\n",
    "A ```code``` értékének megvizsgálása után következik még egy ```if``` szerkezet. Ez azt vizsgálja meg, hogy a szöveges fájl nyitva van-e még ```msg.closed```. Az ```if``` után a ```not``` negálja az utána következő kifejezést, így pl. ha aszöveges fájl nincs zárva van, akkor az ```msg.closed``` értéke ```False```, amit ha negálunk a ```not``` kifejezéssel, akkor ```True```-t kapunk és végrehajtódik az ```if``` szerkezet. Itt csak arra utasítjuk a gépet, hogy írja a szöveges fájlba a kódolt üzenetet: ```msg.write(code)```.   "
   ]
  },
  {
   "cell_type": "markdown",
   "metadata": {},
   "source": [
    "Most nézzük meg mit csinál az ```encoder(delay)``` függvény. Ez egy többszörös ```if-elif-else``` szerkezetet tartalmaz. Először megnéz, hogy a gomb lenyomásának hossza beleesik-e az 1-3 másodperc intervallumba. Ha igen, akkor ez egy hosszú jel, és visszaküldi a 'l' stringet. Ha nem esik bele, akkor megnézi, hogy rövidebb-e 1 másodpercnél. Ha igen, akkor ez egy rövid jel, és visszaküldi a 's' stringet. Ha a lenyomás ideje a 3-7 másodperc intervallumba esik, akkor az egy új sort jelent, és visszaküld egy '\\n' jelet. Végül, ha mindezen feltételek közül egyik sem teljesül, azaz a gomb 7 másodpercnél tovább volt lenyomva, akkor az azt jelenti, hogy be kell zárni a fájlt, vége az üzenetnek. Ebben az esetben a visszaküldött string a 'close'. "
   ]
  },
  {
   "cell_type": "code",
   "execution_count": null,
   "metadata": {},
   "outputs": [],
   "source": [
    "def encoder(delay):\n",
    "    if delay >= 1 and delay < 3:\n",
    "        return 'l'\n",
    "    elif delay < 1:\n",
    "        return 's'\n",
    "    elif delay >= 3 and delay < 7:\n",
    "        return '\\n'\n",
    "    else:\n",
    "        return 'close'"
   ]
  },
  {
   "cell_type": "markdown",
   "metadata": {},
   "source": [
    "Az itt definiát döntéshozatali szabályok teljesen önkényesek és tetszés szerint változtathatók. \n",
    "\n",
    "Ezután már csak hozzá kell rendelnünk a gomb lenyomásához és felengedéséhez a megfelelő fügvvényeket:"
   ]
  },
  {
   "cell_type": "code",
   "execution_count": null,
   "metadata": {},
   "outputs": [],
   "source": [
    "button.when_pressed = start\n",
    "button.when_released = end"
   ]
  },
  {
   "cell_type": "markdown",
   "metadata": {},
   "source": [
    "Végül pedig elindítunk egy végtelen ciklust ami várja az üzeneteket. A ```pass``` parancs csak annyit, jelent, hogy nem szeretnénk semmilyen itt definiált utasítást végrehajtani, így a while ciklus csak ismétlődik örökké. "
   ]
  },
  {
   "cell_type": "code",
   "execution_count": null,
   "metadata": {},
   "outputs": [],
   "source": [
    "while True:\n",
    "    pass"
   ]
  },
  {
   "cell_type": "markdown",
   "metadata": {},
   "source": [
    "Miután megtörtént az üzenet kódolása és elmentése az egyik fél részéről, a másik félnek tudnia kell azt dekódolni. Erre való az itt következő dekódoló program. \n",
    "\n",
    "Először definiálunk egy ```code_map``` nevű dictionary változót:"
   ]
  },
  {
   "cell_type": "code",
   "execution_count": 1,
   "metadata": {},
   "outputs": [],
   "source": [
    "code_map = {'trambulin':'lsls',\n",
    "            'szia':'l',\n",
    "            'gyere':'ll',\n",
    "            'mizu':'sl',\n",
    "            'siess':'sss',\n",
    "}"
   ]
  },
  {
   "cell_type": "markdown",
   "metadata": {},
   "source": [
    "A dictionary az a python egyik alap típusa, lényegében rendezetlen kulcs-érték párokat tartalmaz. Egy értékre a változó nevével és az azt követő megfelelő kulccsal lehet hivatkozni szögletes zárójelben. Pl. a 'szia' kulcshoz tartozó érték:"
   ]
  },
  {
   "cell_type": "code",
   "execution_count": 2,
   "metadata": {},
   "outputs": [
    {
     "data": {
      "text/plain": [
       "'l'"
      ]
     },
     "execution_count": 2,
     "metadata": {},
     "output_type": "execute_result"
    }
   ],
   "source": [
    "code_map['szia']"
   ]
  },
  {
   "cell_type": "markdown",
   "metadata": {},
   "source": [
    "Van néhány hasznos metódusa a dictionary-knek, amiket a következőkben fel is fogunk használni:\n",
    "\n",
    "Listába rendezni a kulcsokat, listába rendezni az értékeket és listába rendezni a kulcs-érték párokat (fontos, hogy a kapott eredmény egyik esetben sincs sorrendbe rakva):"
   ]
  },
  {
   "cell_type": "code",
   "execution_count": 3,
   "metadata": {},
   "outputs": [
    {
     "data": {
      "text/plain": [
       "dict_keys(['trambulin', 'szia', 'gyere', 'mizu', 'siess'])"
      ]
     },
     "execution_count": 3,
     "metadata": {},
     "output_type": "execute_result"
    }
   ],
   "source": [
    "code_map.keys()"
   ]
  },
  {
   "cell_type": "code",
   "execution_count": 4,
   "metadata": {},
   "outputs": [
    {
     "data": {
      "text/plain": [
       "dict_values(['lsls', 'l', 'll', 'sl', 'sss'])"
      ]
     },
     "execution_count": 4,
     "metadata": {},
     "output_type": "execute_result"
    }
   ],
   "source": [
    "code_map.values()"
   ]
  },
  {
   "cell_type": "code",
   "execution_count": 5,
   "metadata": {},
   "outputs": [
    {
     "data": {
      "text/plain": [
       "dict_items([('trambulin', 'lsls'), ('szia', 'l'), ('gyere', 'll'), ('mizu', 'sl'), ('siess', 'sss')])"
      ]
     },
     "execution_count": 5,
     "metadata": {},
     "output_type": "execute_result"
    }
   ],
   "source": [
    "code_map.items()"
   ]
  },
  {
   "cell_type": "markdown",
   "metadata": {},
   "source": [
    "A kapcsos zárójelben az átlagos reakció idő változójának nevére hivatkozunk, hogy kinyomtassuk és a ```:.2f``` arra utal, hogy csak két tizedes pontosságig nyomtassuk ki. "
   ]
  },
  {
   "cell_type": "markdown",
   "metadata": {},
   "source": [
    "## A projekt tesztelése"
   ]
  },
  {
   "cell_type": "markdown",
   "metadata": {},
   "source": [
    "Miután összeszereltük az áramkört és a kódot is megírtuk, amit pl. ```button_reflex.py``` név alatt mentettünk el, megnyithatunk a Raspberry Pi operációs rendszerén egy terminált. A terminálban a ```cd 'mappa név'``` paranccsal elnavigálunk abba a mappába, ahova a ```button_reflex.py```-t elmentettük. Ott begépelve a ```python button_reflex.py``` parancsot, letesztelhetjük a programunk működését. Ha minden jól megy akkor a gomb lenyomására majd elengedésére a képernyőn megjelenik a nyomvatartás hossza másodpercekben.\n",
    "\n",
    "Hibaüzenetek esetén ki kell deríteni mi lehetett a probléma, pl. elgépelés, egy modul hiányzik, sorok megfelelő behúzása, idézőjel lemaradása stb. A hibaüzenet legtöbbször segít abban, hogy melyik sorban találta a hibát és hogy mi volt az. Egy kis gyakorlással bele lehet jönni azok értelmezésébe, valamint interneten is rá lehet keresni a hibaüzenet jelentésére és annak lehetséges elhárítására."
   ]
  },
  {
   "cell_type": "markdown",
   "metadata": {},
   "source": [
    "## Mit lehet javítani/továbbfejleszteni?"
   ]
  },
  {
   "cell_type": "markdown",
   "metadata": {},
   "source": [
    "* Kinyomtatni statisztikát a teljesítményről: átlag, standard deviáció, minimum és maximum érték.\n",
    "* Elmenteni fájlba a játékos eredményét és összehasonlítani a következő játékos eredményével, így ranglistát készíteni.\n",
    "\n",
    "Írd meg kommentben, hogy szerinted mivel lehetne még feldobni ezt a kis programot!"
   ]
  },
  {
   "cell_type": "markdown",
   "metadata": {},
   "source": [
    "## Referencia"
   ]
  },
  {
   "cell_type": "markdown",
   "metadata": {},
   "source": [
    "1) gpiozero leírás - [https://gpiozero.readthedocs.io/en/stable/recipes.html](https://gpiozero.readthedocs.io/en/stable/recipes.html)\n",
    "\n",
    "2) time.time leírása - [https://docs.python.org/3/library/time.html](https://docs.python.org/3/library/time.html)\n",
    "\n",
    "3) python f'' string - [https://realpython.com/python-f-strings/](https://realpython.com/python-f-strings/)\n",
    "\n",
    "4) random modul leírás - [https://docs.python.org/3/library/random.html](https://docs.python.org/3/library/random.html)\n",
    "\n",
    "5) os modul leírás - [https://docs.python.org/3/library/os.html](https://docs.python.org/3/library/os.html)\n",
    "\n",
    "6) for ciklus leírás - [https://wiki.python.org/moin/ForLoop](https://wiki.python.org/moin/ForLoop)\n",
    "\n",
    "7) range függvény - [https://snakify.org/en/lessons/for_loop_range/](https://snakify.org/en/lessons/for_loop_range/)"
   ]
  },
  {
   "cell_type": "code",
   "execution_count": null,
   "metadata": {},
   "outputs": [],
   "source": []
  }
 ],
 "metadata": {
  "kernelspec": {
   "display_name": "Python 3",
   "language": "python",
   "name": "python3"
  },
  "language_info": {
   "codemirror_mode": {
    "name": "ipython",
    "version": 3
   },
   "file_extension": ".py",
   "mimetype": "text/x-python",
   "name": "python",
   "nbconvert_exporter": "python",
   "pygments_lexer": "ipython3",
   "version": "3.7.4"
  },
  "toc": {
   "base_numbering": 1,
   "nav_menu": {},
   "number_sections": true,
   "sideBar": true,
   "skip_h1_title": false,
   "title_cell": "Table of Contents",
   "title_sidebar": "Contents",
   "toc_cell": false,
   "toc_position": {},
   "toc_section_display": true,
   "toc_window_display": false
  }
 },
 "nbformat": 4,
 "nbformat_minor": 2
}
