{
 "cells": [
  {
   "cell_type": "markdown",
   "metadata": {},
   "source": [
    "# A multifunkcionális gomb"
   ]
  },
  {
   "cell_type": "markdown",
   "metadata": {},
   "source": [
    "Ha néha számodra is őrjítő dolog megtalálni egy dokumentumot a nagy mappa és fájl rengetegben, ha úgy érzed, hogy kattintások véget nem érő sora bejutnod az egyik vagy akár több fiókodba, akkor a multifunkcionális gombot neked találták ki. \n",
    "\n",
    "Képzelj el egy gombot, amit megnyomva beléphetsz az email fiókodba vagy megnyithatod a kedvenc portálod esetleg elindíthatod a leggyakrabban használt szoftvered ... A felhasználásának csak a képzeleted szab határt. Egy gomb, minden billentyűkombináció felett :)"
   ]
  },
  {
   "cell_type": "markdown",
   "metadata": {},
   "source": [
    "## Mit fogsz készíteni?"
   ]
  },
  {
   "cell_type": "markdown",
   "metadata": {},
   "source": [
    "Ebben a leírásban egy olyan gombot készítünk aminek megnyomásával elindul a kedvenc internetes portálunk ami biztos, hogy mindenki számára a [Hackster.io](https://www.hackster.io/). Természetesen mindenki használhatja hozzá a kedvenc böngészőjét, de mi a *Google Chromium*-ot fogjuk. "
   ]
  },
  {
   "cell_type": "markdown",
   "metadata": {},
   "source": [
    "## Mit tanulsz meg?"
   ]
  },
  {
   "cell_type": "markdown",
   "metadata": {},
   "source": [
    "A multifunkcionális gomb elkészítésével a következőket tanulod meg:\n",
    "\n",
    "* Hogyan tudsz egy kapcsolót ami egy eseményt indít egy áramkörbe beiktatni\n",
    "* Hogyan programozd be a Raspberry Pi GPIO kimeneteleit a **gpiozero** modullal\n",
    "* **while** ciklus használatát\n",
    "* Hogyan tudsz egy lista elemeit meghívni\n",
    "* Hogyan észleld a gomb lenyomását a **.wait_for_press()** gomb metódussal\n",
    "* Hogyan indíts el egy programot (pl. böngésző) pythonból."
   ]
  },
  {
   "cell_type": "markdown",
   "metadata": {},
   "source": [
    "## A projekt részletekre bontása"
   ]
  },
  {
   "cell_type": "markdown",
   "metadata": {},
   "source": [
    "* Kigondolni a gomb funkcióját: hackster.io honlap megnyitása chromium böngészővel\n",
    "* Listázni a szükséges áramköri elemeket\n",
    "* Összerakni az áramkört\n",
    "* Inicializálni a gombot\n",
    "* Listába szedni a lehetséges böngészők parancssori indító neveit: *chromium-browser, firefox, google-chrome*\n",
    "* Pythonból elindítani egy operációs rendszerbeli böngészőt az **os** modullal"
   ]
  },
  {
   "cell_type": "markdown",
   "metadata": {},
   "source": [
    "## Áramköri elemek listája"
   ]
  },
  {
   "cell_type": "markdown",
   "metadata": {},
   "source": [
    "a) [Raspberry PI](https://malnapc.hu/yis/raspberry-pi/rpi-panelek) \n",
    "\n",
    "b) Nyomó gomb: [itt vásárolhatsz](https://hu.farnell.com/schurter/1301-9320/switch-smd-push-12-5mm/dp/1217772?gclid=Cj0KCQjwzZj2BRDVARIsABs3l9K-ACTnuRr-dLVcDUKleNfECM3H3kWS_RfWtmXGMXVJeY9otda4dDcaAvGLEALw_wcB&gross_price=true&mckv=sSFnjERxR_dc|pcrid|434487710397|plid||kword||match||slid||product|1217772|pgrid|101346804139|ptaid|pla-389347076066|&CMP=KNC-GHU-SHOPPING-switches-relays-NEWSTRUCTURE-13-MAY-20) vagy [építhetsz]()\n",
    "\n",
    "c) [Jumper wires female/male](https://www.ret.hu/shop/product/e-call/jumper-vezetek-szet_53-22-63) "
   ]
  },
  {
   "cell_type": "markdown",
   "metadata": {},
   "source": [
    "## A kapcsolási rajz"
   ]
  },
  {
   "cell_type": "markdown",
   "metadata": {},
   "source": [
    "<img src=\"prog02_circuit.png\" width=600 height=400 />"
   ]
  },
  {
   "cell_type": "markdown",
   "metadata": {},
   "source": [
    "1) A nyomógombot lábait illesszük a breadbord mélyedéseibe. Ügyeljünk arra, hogy a nyomógomb egy (vízszintes) sorba kerülő lábai a gomb lenyomása nélkül is kapcsolatban legyenek egymással, míg a (függőlegesen) egy sorba kerülő lábai csak a lenyomás következtében lesznek összekötve. Mindezt egy műszerrel leellenprízhetjük.\n",
    "\n",
    "2) Az egyik jumper kábelt (kék) kössük a gomb egyik lábának sorába, míg a másik végét a Raspberry Pi **GPIO 02**-es (vagy **3**-as) jelöléssel ellátott tüskéjére. Ez a tüske alapértelmezetten pull-up (magas vagy 1) módban van, azaz 3.3 V-ot mutat a földeléshez képest.\n",
    "\n",
    "3) A másik jumper kábelt (narancssárga) kössük a gomb másik lábának sorába, míg a másik végét a Raspberry Pi **GND** (pl. **6**-os) jelöléssel ellátott tüskéjére. Ez a tüske alapértelmezetten földelés."
   ]
  },
  {
   "cell_type": "markdown",
   "metadata": {},
   "source": [
    "## A kód"
   ]
  },
  {
   "cell_type": "markdown",
   "metadata": {},
   "source": [
    "Miután elkészítettük az áramkört, meg kell írnunk a kódot ami utasítja a Raspberry Pi-t, hogyan viselkedjen amikor a gombot megnyomják.\n",
    "\n",
    "Először betöltjük a ```gpiozero``` modulból a ```Button``` objektumot ami lehetővé teszi, hogy a Raspi kommunikáljon a gombbal a **GPIO** tüskéken keresztül. Emellett betöltjük az **os** modult is, ami többek között képes Python környezetből operációs rendszerbeli parancsokat végrehajtani."
   ]
  },
  {
   "cell_type": "code",
   "execution_count": null,
   "metadata": {},
   "outputs": [],
   "source": [
    "from gpiozero import Button\n",
    "import os"
   ]
  },
  {
   "cell_type": "markdown",
   "metadata": {},
   "source": [
    "Az objektum beolvasása után inicializálunk egy ```Button``` objektumot, amit ```button```-nak nevezünk el. Egyben megmondjuk az objektumnak, hogy a fizikai gombot a *2*-es számú **GPIO** tüskére csatlakoztattuk."
   ]
  },
  {
   "cell_type": "code",
   "execution_count": null,
   "metadata": {},
   "outputs": [],
   "source": [
    "button = Button(2)"
   ]
  },
  {
   "cell_type": "markdown",
   "metadata": {},
   "source": [
    "Ezután egy listába (```browser```) elmentjük az operációs rendszerünkön megtalálható böngészők paranccsori indító kódját, hogy később tetszés szerint kiválaszthassuk melyik böngészővel akarjuk megnyitni."
   ]
  },
  {
   "cell_type": "code",
   "execution_count": null,
   "metadata": {},
   "outputs": [],
   "source": [
    "browser = ['google-chrome', 'firefox', 'chromium-browser']"
   ]
  },
  {
   "cell_type": "markdown",
   "metadata": {},
   "source": [
    "A gomb most már készen áll a bevetésre, de most meg kell mondanunk a **Python** programnak, hogy ne álljon le. Ha leállna akkor nem lenne képes észlelni a gomb lenyomását. Többféleképp kivitelezhető ez, de mi most egy végtelen ciklust hozunk létre a ```while True:``` kifejezéssel. A ```while``` parancs egy ciklust indít el, ami addig fut amíg az őt követő állítás igaz. A ```True``` jelentése *igaz*, ami sosem változik, így örökké futni fog a ciklus. Külső beavatkozással tudjuk csak megállítani, ha lenyomjuk a ```Ctrl+C``` billentyű kombinációt. \n",
    "\n",
    "Most, hogy a végtelen ciklusban vagyunk és a gomb készen áll a megnyomásra, meg kell mondanunk a programnak mit csináljon ha lenyomják a gombot. Ezt több féleképpen tehetjük meg pl. a ```button.is_pressed``` vagy a ```button.wait_for_press()``` utasítással. Az ```.is_pressed``` függvény visszaadott értéke megmondja, hogy lenyomták-e a gombot vagy sem, míg a ```.wait_for_press()``` függvény feltartja a python kód sorainak végrehajtását mindaddig amíg meg nem nyomják a gombot. Tehát az utolsó esetben a python nem csinál semmit addig amíg meg nem nyomták a gombot.  \n"
   ]
  },
  {
   "cell_type": "code",
   "execution_count": null,
   "metadata": {},
   "outputs": [],
   "source": [
    "while True:\n",
    "    button.wait_for_press()\n",
    "    os.system(f'{browser[2]} www.hackster.io')  # this assumes you have google-chrome installed"
   ]
  },
  {
   "cell_type": "markdown",
   "metadata": {},
   "source": [
    "Ha lenyomjuk a gombot, akkor végrehajtódik a következő sor, ahol az ```os.system``` függvényel elindíthatjuk pythonon keresztül az operációs rendszerünk termináljából a kiválasztott böngészőt. Argumentumként megadhatjuk a honlapcímet, így gombnyomásra egyből azt nyitja meg. \n",
    "\n",
    "Az ```f''``` jelölés azt jelenti, hogy az idézőjelben hivatkozhatunk pythoni változó nevére, amennyiben azt kapcsoszárójelbe tesszük pl. ```{browser[2]}```. Így a python megkeresi a ```browser``` listában a harmadik elemet és annak az értékét fogja behelyettesíteni a kapcsos zárójel helyére. Így a terminálban a következő parancsot hajtja végre: ```chromium-browser www.hackster.io```.  "
   ]
  },
  {
   "cell_type": "markdown",
   "metadata": {},
   "source": [
    "## A projekt tesztelése"
   ]
  },
  {
   "cell_type": "markdown",
   "metadata": {},
   "source": [
    "Miután összeszereltük az áramkört és a kódot is megírtuk, amit pl. ```button_browser.py``` név alatt mentettünk el, megnyithatunk a Raspberry Pi operációs rendszerén egy terminált. A terminálban a ```cd 'mappa név'``` paranccsal elnavigálunk abba a mappába, ahova a ```button_browser.py```-t elmentettük. Ott begépelve a ```python button_browser.py``` parancsot, letesztelhetjük a programunk működését. Ha minden jól megy akkor kinyílik a kívánt honlap.\n",
    "\n",
    "Hibaüzenetek esetén ki kell deríteni mi lehetett a probléma, pl. elgépelés, egy modul hiányzik, sorok megfelelő behúzása, idézőjel lemaradása stb. A hibaüzenet legtöbbször segít abban, hogy melyik sorban találta a hibát és hogy mi volt az. Egy kis gyakorlással bele lehet jönni azok értelmezésébe, valamint interneten is rá lehet keresni a hibaüzenet jelentésére és annak lehetséges elhárítására."
   ]
  },
  {
   "cell_type": "markdown",
   "metadata": {},
   "source": [
    "## Mit lehet javítani/továbbfejleszteni?"
   ]
  },
  {
   "cell_type": "markdown",
   "metadata": {},
   "source": [
    "* Listába menteni a megnyitandó honlapot/honlapokat. Így akár véletlenszerűen nyithatunk ki honlapot az előre megadott listából.\n",
    "\n",
    "* Megakadályozni, hogy a második gombnyomásra újra megnyíljon a honlap.\n",
    "\n",
    "* Gomb megnyomására becsükni az összes nyitott applikációt, majd kikapcsolni a számítógépet (haladóbb feladat).\n",
    "\n",
    "Írd meg kommentben, hogy szerinted mivel lehetne még feldobni ezt a kis programot!"
   ]
  },
  {
   "cell_type": "markdown",
   "metadata": {},
   "source": [
    "## Referencia"
   ]
  },
  {
   "cell_type": "markdown",
   "metadata": {},
   "source": [
    "1) gpiozero leírás - [https://gpiozero.readthedocs.io/en/stable/recipes.html](https://gpiozero.readthedocs.io/en/stable/recipes.html)\n",
    "\n",
    "2) os modul leírása - [https://docs.python.org/3/library/os.html](https://docs.python.org/3/library/os.html)"
   ]
  },
  {
   "cell_type": "code",
   "execution_count": null,
   "metadata": {},
   "outputs": [],
   "source": []
  }
 ],
 "metadata": {
  "kernelspec": {
   "display_name": "Python 3",
   "language": "python",
   "name": "python3"
  },
  "language_info": {
   "codemirror_mode": {
    "name": "ipython",
    "version": 3
   },
   "file_extension": ".py",
   "mimetype": "text/x-python",
   "name": "python",
   "nbconvert_exporter": "python",
   "pygments_lexer": "ipython3",
   "version": "3.7.4"
  },
  "toc": {
   "base_numbering": 1,
   "nav_menu": {},
   "number_sections": true,
   "sideBar": true,
   "skip_h1_title": false,
   "title_cell": "Table of Contents",
   "title_sidebar": "Contents",
   "toc_cell": false,
   "toc_position": {},
   "toc_section_display": true,
   "toc_window_display": false
  }
 },
 "nbformat": 4,
 "nbformat_minor": 2
}
