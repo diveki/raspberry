{
 "cells": [
  {
   "cell_type": "markdown",
   "metadata": {},
   "source": [
    "# A gomb kettős természete"
   ]
  },
  {
   "cell_type": "markdown",
   "metadata": {},
   "source": [
    "A gombok annyira a hétköznapjaink részeivé váltak, hogy nem is vesszük észre az összes tulajdonságuk. Egy gombbal igazából két eseményt aktiválhatunk: egyet amikor lenyomjuk a gombot és akár egy másikat amikor felengedjük a gombot. \n",
    "\n",
    "Erre egy nagyon jó példa a csöngő. A csöngő gombját ha lenyomjuk, akkor zárjuk az áramkört amitől az csöngő hangot kezd kiadni. Ha elengedjük a gombot, megszakítjuk az áramkört és a csöngő elhallgat. "
   ]
  },
  {
   "cell_type": "markdown",
   "metadata": {},
   "source": [
    "## Mit fogsz készíteni?"
   ]
  },
  {
   "cell_type": "markdown",
   "metadata": {},
   "source": [
    "Ebben a gyakorlatban megismerkedünk a gomb kettős természetével, hogy hogyan lehet különböző eseményeket elindítani a gomb lenyomásával és elengedésével. Egy gombbal ellátott áramkört rakunk össze és annak megnyomása egy üzenetet ír ki a képernyőre míg annak elengedése egy másikat."
   ]
  },
  {
   "cell_type": "markdown",
   "metadata": {},
   "source": [
    "## Mit tanulsz meg?"
   ]
  },
  {
   "cell_type": "markdown",
   "metadata": {},
   "source": [
    "A multifunkcionális gomb elkészítésével a következőket tanulod meg:\n",
    "\n",
    "* Hogyan tudsz egy kapcsolót ami két esemény indítására képes egy áramkörbe beiktatni\n",
    "* Hogyan programozd be a Raspberry Pi GPIO kimeneteleit a **gpiozero** modullal\n",
    "* Hogyan lehet függvényeket definiálni\n",
    "* Hogy lehet függvényeket változókhoz/objektumokhoz rendelni\n",
    "* A **pause** függvény használatát"
   ]
  },
  {
   "cell_type": "markdown",
   "metadata": {},
   "source": [
    "## A projekt részletekre bontása"
   ]
  },
  {
   "cell_type": "markdown",
   "metadata": {},
   "source": [
    "* Kigondolni a gomb funkcióját lenyomáskor és elengedéskor\n",
    "* Listázni a szükséges áramköri elemeket\n",
    "* Összerakni az áramkört\n",
    "* Inicializálni a gombot\n",
    "* Függvényeket definiálni a gomb lenyomásához és elengedéséhez\n",
    "* Hozzárendelni a függvényeket a gomb viselkedéséhez"
   ]
  },
  {
   "cell_type": "markdown",
   "metadata": {},
   "source": [
    "## Áramköri elemek listája"
   ]
  },
  {
   "cell_type": "markdown",
   "metadata": {},
   "source": [
    "a) [Raspberry PI](https://malnapc.hu/yis/raspberry-pi/rpi-panelek) \n",
    "\n",
    "b) Nyomó gomb: [itt vásárolhatsz](https://hu.farnell.com/schurter/1301-9320/switch-smd-push-12-5mm/dp/1217772?gclid=Cj0KCQjwzZj2BRDVARIsABs3l9K-ACTnuRr-dLVcDUKleNfECM3H3kWS_RfWtmXGMXVJeY9otda4dDcaAvGLEALw_wcB&gross_price=true&mckv=sSFnjERxR_dc|pcrid|434487710397|plid||kword||match||slid||product|1217772|pgrid|101346804139|ptaid|pla-389347076066|&CMP=KNC-GHU-SHOPPING-switches-relays-NEWSTRUCTURE-13-MAY-20) vagy [építhetsz]()\n",
    "\n",
    "c) [Jumper wires female/male](https://www.ret.hu/shop/product/e-call/jumper-vezetek-szet_53-22-63) "
   ]
  },
  {
   "cell_type": "markdown",
   "metadata": {},
   "source": [
    "## A kapcsolási rajz"
   ]
  },
  {
   "cell_type": "markdown",
   "metadata": {},
   "source": [
    "<img src=\"prog02_circuit.png\" width=600 height=400 />"
   ]
  },
  {
   "cell_type": "markdown",
   "metadata": {},
   "source": [
    "1) A nyomógombot lábait illesszük a breadbord mélyedéseibe. Ügyeljünk arra, hogy a nyomógomb egy (vízszintes) sorba kerülő lábai a gomb lenyomása nélkül is kapcsolatban legyenek egymással, míg a (függőlegesen) egy sorba kerülő lábai csak a lenyomás következtében lesznek összekötve. Mindezt egy műszerrel leellenprízhetjük.\n",
    "\n",
    "2) Az egyik jumper kábelt (kék) kössük a gomb egyik lábának sorába, míg a másik végét a Raspberry Pi **GPIO 02**-es (vagy **3**-as) jelöléssel ellátott tüskéjére. Ez a tüske alapértelmezetten pull-up (magas vagy 1) módban van, azaz 3.3 V-ot mutat a földeléshez képest.\n",
    "\n",
    "3) A másik jumper kábelt (narancssárga) kössük a gomb másik lábának sorába, míg a másik végét a Raspberry Pi **GND** (pl. **6**-os) jelöléssel ellátott tüskéjére. Ez a tüske alapértelmezetten földelés."
   ]
  },
  {
   "cell_type": "markdown",
   "metadata": {},
   "source": [
    "## A kód"
   ]
  },
  {
   "cell_type": "markdown",
   "metadata": {},
   "source": [
    "Miután elkészítettük az áramkört, meg kell írnunk a kódot ami utasítja a Raspberry Pi-t, hogyan viselkedjen amikor a gombot megnyomják és hogyan amikor azt elengedik.\n",
    "\n",
    "Először betöltjük a ```gpiozero``` modulból a ```Button``` objektumot ami lehetővé teszi, hogy a Raspi kommunikáljon a gombbal a **GPIO** tüskéken keresztül. Emellett betöltjük a **signal** modulból a **pause** függvényt is, ami képes a Python kód végrehajtását felfüggeszteni és várni."
   ]
  },
  {
   "cell_type": "code",
   "execution_count": null,
   "metadata": {},
   "outputs": [],
   "source": [
    "from gpiozero import Button\n",
    "from signal import pause"
   ]
  },
  {
   "cell_type": "markdown",
   "metadata": {},
   "source": [
    "Az objektum beolvasása után inicializálunk egy ```Button``` objektumot, amit ```button```-nak nevezünk el. Egyben megmondjuk az objektumnak, hogy a fizikai gombot a *2*-es számú **GPIO** tüskére csatlakoztattuk."
   ]
  },
  {
   "cell_type": "code",
   "execution_count": null,
   "metadata": {},
   "outputs": [],
   "source": [
    "button = Button(2)"
   ]
  },
  {
   "cell_type": "markdown",
   "metadata": {},
   "source": [
    "Ezután definiálunk két függvényt amelyből az egyik a gomb lenyomásakor hajtódik végre, míg a másik a gomb elengedésekor. A függvényt pythonban a ```def``` utasítással lehet definiálni amit a függvény neve, zárójel majd pedig kettőspont kell kövessen:"
   ]
  },
  {
   "cell_type": "code",
   "execution_count": null,
   "metadata": {},
   "outputs": [],
   "source": [
    "def pressed():\n",
    "    print(\"Sikerült lenyomnod a gombot. Ügyes vagy!\")\n",
    "\n",
    "def released():\n",
    "    print(\"Azt hittem már soha nem engeded el a gombot!\")"
   ]
  },
  {
   "cell_type": "markdown",
   "metadata": {},
   "source": [
    "A függvény nevét követő zárójelbe lehet bemenő paramétereket is megadni, amit aztán a függvény testében fel lehet használni. A jelen esetben mi csak egy üzenetet szeretnék kiírni a terminálra, így nincs a függvénynek bemenő paramétere. \n",
    "\n",
    "A függvény testének minden sorát újbekezdésbe kell írni (kb. 4 üres helyet kihagyni vagy *tab*-ot nyomni). Az első függvényünk a ```pressed()``` amit akkor hívunk meg, ha lenyomták a gombot. A ```print``` paranccsal egy üzenetet írunk ki majd a terminálra. Ugyanígy viselkedik a ```released()``` függvény is amit a gomb elengedése kelt életre, csak épp egy másik üzenetet ír ki a konzolra. \n",
    "\n",
    "A függvények definiálása után hozzárendeljük őket a megfelelő gomb funkciókhoz:"
   ]
  },
  {
   "cell_type": "code",
   "execution_count": null,
   "metadata": {},
   "outputs": [],
   "source": [
    "button.when_pressed = pressed\n",
    "\n",
    "button.when_released = released"
   ]
  },
  {
   "cell_type": "markdown",
   "metadata": {},
   "source": [
    "A ```button.when_pressed``` metódus felel annak a feladatnak a végrehajtásáért aminek a gomb lenyomásakor kell bekövetkeznie. Evvel ellentétben a ```button.when_released``` a gomb elengedésekor hajtja végre a hozzárendelt utasítást. **Nagyon fontos**, hogy az egyenlőség jobb oldalán levő függvénynevek után nincs zárójel. Evvel biztosítjuk, hogy maga a függvény kerül átadásra az új változóba (egyenlőségjel bal oldala). Ha tennénk zárójeleket utána, akkor a függvény végrehajtódna és az általa visszaadott érték mentődne el a bal oldalon szereplő változókba. A mi esetünkben ezek a függvények nem adnak vissza semmilyen értéket (csak képrenyőre nyomtatnak) ami a Pythonba a ```None```-nak felel meg."
   ]
  },
  {
   "cell_type": "code",
   "execution_count": null,
   "metadata": {},
   "outputs": [],
   "source": [
    "pause()"
   ]
  },
  {
   "cell_type": "markdown",
   "metadata": {},
   "source": [
    "Végül, hogy a program ne álljon meg ezen sorok után, meghívjuk a ```pause()``` függvényt, ami felfüggeszti a python kód további sorainak végrehajtását. Így a kód várakozó üzemmódba vált és csak a gomb lelnyomása és elengedése hoz változást a képernyő állapotában. Ha mégis szeretnénk megszakítani a program futását, azt a ```Ctrl+C``` billentyű kombinációval tudjuk elérni. "
   ]
  },
  {
   "cell_type": "markdown",
   "metadata": {},
   "source": [
    "## A projekt tesztelése"
   ]
  },
  {
   "cell_type": "markdown",
   "metadata": {},
   "source": [
    "Miután összeszereltük az áramkört és a kódot is megírtuk, amit pl. ```button_press_release.py``` név alatt mentettünk el, megnyithatunk a Raspberry Pi operációs rendszerén egy terminált. A terminálban a ```cd 'mappa név'``` paranccsal elnavigálunk abba a mappába, ahova a ```button_press_release.py```-t elmentettük. Ott begépelve a ```python button_press_release.py``` parancsot, letesztelhetjük a programunk működését. Ha minden jól megy akkor a gomb lenyomására egyfajta üzenetet kapunk, míg az elengedésére egy másikat.\n",
    "\n",
    "Hibaüzenetek esetén ki kell deríteni mi lehetett a probléma, pl. elgépelés, egy modul hiányzik, sorok megfelelő behúzása, idézőjel lemaradása stb. A hibaüzenet legtöbbször segít abban, hogy melyik sorban találta a hibát és hogy mi volt az. Egy kis gyakorlással bele lehet jönni azok értelmezésébe, valamint interneten is rá lehet keresni a hibaüzenet jelentésére és annak lehetséges elhárítására."
   ]
  },
  {
   "cell_type": "markdown",
   "metadata": {},
   "source": [
    "## Mit lehet javítani/továbbfejleszteni?"
   ]
  },
  {
   "cell_type": "markdown",
   "metadata": {},
   "source": [
    "* Módosítani a függvényeket amik lenyomáskor és elengedéskor hívódnak meg, pl. lenyomásra sípoló hang szól, elengedéskor megnyílik egy böngésző.\n",
    "\n",
    "Írd meg kommentben, hogy szerinted mivel lehetne még feldobni ezt a kis programot!"
   ]
  },
  {
   "cell_type": "markdown",
   "metadata": {},
   "source": [
    "## Referencia"
   ]
  },
  {
   "cell_type": "markdown",
   "metadata": {},
   "source": [
    "1) gpiozero leírás - [https://gpiozero.readthedocs.io/en/stable/recipes.html](https://gpiozero.readthedocs.io/en/stable/recipes.html)\n",
    "\n",
    "2) signal.pause leírása - [https://docs.python.org/2/library/signal.html#signal.pause](https://docs.python.org/2/library/signal.html#signal.pause)\n",
    "\n",
    "2) python függvények leírása - [https://www.datacamp.com/community/tutorials/functions-python-tutorial](https://www.datacamp.com/community/tutorials/functions-python-tutorial)"
   ]
  },
  {
   "cell_type": "code",
   "execution_count": null,
   "metadata": {},
   "outputs": [],
   "source": []
  }
 ],
 "metadata": {
  "kernelspec": {
   "display_name": "Python 3",
   "language": "python",
   "name": "python3"
  },
  "language_info": {
   "codemirror_mode": {
    "name": "ipython",
    "version": 3
   },
   "file_extension": ".py",
   "mimetype": "text/x-python",
   "name": "python",
   "nbconvert_exporter": "python",
   "pygments_lexer": "ipython3",
   "version": "3.7.4"
  },
  "toc": {
   "base_numbering": 1,
   "nav_menu": {},
   "number_sections": true,
   "sideBar": true,
   "skip_h1_title": false,
   "title_cell": "Table of Contents",
   "title_sidebar": "Contents",
   "toc_cell": false,
   "toc_position": {},
   "toc_section_display": true,
   "toc_window_display": false
  }
 },
 "nbformat": 4,
 "nbformat_minor": 2
}
