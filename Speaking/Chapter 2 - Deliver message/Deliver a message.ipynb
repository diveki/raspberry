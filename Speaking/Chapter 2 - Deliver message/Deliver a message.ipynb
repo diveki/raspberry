{
 "cells": [
  {
   "cell_type": "markdown",
   "metadata": {},
   "source": [
    "# Add át az üzeneted"
   ]
  },
  {
   "cell_type": "markdown",
   "metadata": {},
   "source": [
    "Mindannyian hallottunk már olyan elődást aminek a végén értetlenül bámultunk egymásra és nem értettük, mit is akart mondani az előadó. A sok információ rendszertelen szerkesztése széttörte az előadó mondandóját. Ilyen esettel akkor találkozunk, ha az előadás után a következő gondolatok merülnek fel bennünk:\n",
    "\n",
    "* Ez meg miről szólt?\n",
    "* Úgy érzem az előadó kicsapongva beszélt mindenről.\n",
    "* Mit akart üzenni evvel az előadással?\n",
    "* Mi volt az előadás lényege?\n",
    "\n",
    "Egy előadó akkor fut bele egy ilyen problémába, ha nincs tisztán megfogalmazott célja az előadással, illetve ha van is, akkor az előadás megszerkesztése nem támogatja azt a célt. \n",
    "\n",
    "Minden jó előadás a megszerkesztésnél kezdődik. Az ötletelésnél a következő pontokon érdemes végig menni, mielőtt elkészítjük az előadást:\n",
    "\n",
    "1) Mit szeretnék közölni az előadással?\n",
    "\n",
    "2) Milyen formában akarom azt közölni?\n",
    "\n",
    "3) A cél (üzenet) rövid, de közérthető megfogalmazása\n",
    "\n",
    "4) A beszéd felépítése az üzenettel a fókuszban\n",
    "\n",
    "Az alábbiakban összefoglaljuk, hogyan lehet minél jobban átadni egy üzenetet egy beszédben és adunk néhány tippet és segítséget ennek kivitelezésére."
   ]
  },
  {
   "cell_type": "markdown",
   "metadata": {},
   "source": [
    "# Mit szeretnél közölni?\n",
    "\n",
    "A legfontosabb dolog amit el kell dönteni, hogy milyen célt szeretnénk az előadásunkkal elérni. Ennek eldöntésében mindig a közönséget tartsuk szem előtt. Ha röviden meg akarod fogalmazni, hogy mit szeretnél elérni, akkor az az amit, a közönség egy vagy két szóban mondana, ha az előadás után megkérdeznénk, hogy miről szólt az előadás. Ilyen célok lehetnek: elmondani egy napom, bemutatni egy kísérletet, meggyőzni a közönséget, hogy a sportolás fontos vagy buzdítani szeretnéd a közönséget a Raspberry Pi megtanulására. \n",
    "\n",
    "Ebben a lépésben egy általános de tiszta célt kell megfogalmazni, ami mindenki számára érthető."
   ]
  },
  {
   "cell_type": "markdown",
   "metadata": {},
   "source": [
    "# Milyen formában közlöm?\n",
    "\n",
    "A beszédek célja általánosságban 3 nagy kategóriába esik: informálás, meggyőzés és szórakoztatás. Az előző pontban megfogalmazott célodtól függően fog a beszéded az egyik kategóriába esni és ennek megfelelően érdemes technikákat és beszédmintákat alkalmazni, ahhoz, hogy az előadás minél hatékonyabb legyen.\n",
    "\n",
    "## Informálás\n",
    "\n",
    "Az informatív beszédnek a legfontosabb feladata az, hogy információt osszunk meg a közönséggel és ne győzzük meg őket, hogy valamiben higyjenek vagy se. Az információ megosztás tárgyai lehetnek emberek, tárgyak, események, fogalmak, folyamatok vagy problémák. \n",
    "\n",
    "## Meggyőzés\n",
    "\n",
    "Két fajta meggyőzési típus van: a tiszta és a manipulatív. Az első módszert azon előadók alkalmazzák, akik hisznek abban amiről beszélnek és ezért akarják a közönséget meggyőzni a saját véleményükről vagy legalábbis elgondolkodtatni őket. A második módszernél az előadó nem feltétlenül hisz abban amiről beszél és nem fél megtévesztő eszközöket bevetni, hogy meggyőzze a közönséget vagy cselekvésre késztesse őket. Amennyiben a manipuláció kiderül, az előadó elveszti a közönség bizalmát. \n",
    "\n",
    "## Szórakoztatás\n",
    "\n",
    "Ez a kategória lehet \"vacsora-utáni\", ünnepségi (rendezvényi) vagy inspiráló jellegű előadás. Ebben a kategóriában fel szoktak használni elemeket az informálásból és a meggyőzésből, de ennek ellenére a beszéd célja a szórakoztatás. "
   ]
  },
  {
   "cell_type": "markdown",
   "metadata": {},
   "source": [
    "# Az üzenet tömör megfogalmazása\n",
    "\n",
    "Még mindig a beszéd szerkesztése előtt állunk. A következő feladatunk az előző pontok után, hogy az általánosan megfogalmazott célunkat tömör formában megfogalmazzuk és akár leszűkítsük, hogy a közönség minél könnyebben megjegyezze. Az így megfogalmazott célt kell beleszőni az előadásba, akár szó szerint kimondva. A lényege ennek a tömör üzenetnek, hogy ha a közönséget megkérnénk, hogy emeljen ki valamit az előadásból akkor ezt az általad előre megfogalmazott tömör mondatot ismételné meg. \n",
    "\n",
    "Egy nyerő technika a tömör üzenet átadására, ha sikerül egy szlogent, rövedebb rímelő üzenetet vagy akár egy elgondolkodtató mondatot megfogalmazni, amire a közönség felkapja a fejét és megjegyzi. Ez nagyon nehéz feladat és sok gyakorlást igényel, de cserébe nagyon hatékony."
   ]
  },
  {
   "cell_type": "markdown",
   "metadata": {},
   "source": [
    "# Fókusz az üzenetre a szövegben\n",
    "\n",
    "Alapjáraton egy előadó sem szeretne eltérni az üzenettől, de a beszéd szerkesztése közben jönnek az ötletek és sokszor olyan érdekes mondanivalók jutnak eszünkbe, amit meg szeretnénk osztani, amik nincsenek kapcsolatban az üzenettel. Ettől válik az előadás zavarossá. \n",
    "\n",
    "Ennek elkerülésében segíthet, ha újra és újra átolvassuk, kielemezzük az előadásunkat és kritikusan szemléljük minden egyes pontját. Minden mondatnál megnézzük, hogy támogatja-e az üzenetünket vagy inkább eltereli róla a figyelmet. Építsünk fel egy logikus sorrendet az előadásban vagy egy követhető idővonalat. A beszéd fő részében ügyeljünk nagyon, hogy a 3 pont amit felsorolunk, emlékezetes legyen és biztos támogassa az üzenetünk."
   ]
  },
  {
   "cell_type": "markdown",
   "metadata": {},
   "source": [
    "# Példa\n",
    "\n",
    "Előadást tartunk a Raspberry Pi-jal készített reflex versenyes projektről amiben LED-eket használtunk fel. Két különböző megközelítést mutatnánk be, hogy egyazon előadást sok különböző szemszögből is fel lehet építeni:\n",
    "\n",
    "## Első verzió\n",
    "\n",
    "**Általános cél**: Bemutatni, hogy milyen hasznos lehet a Raspberry Pi a hétköznapi életben.\n",
    "\n",
    "**Téma típusa**: informálás.\n",
    "\n",
    "**Tömör üzenet**: A Raspi segíthet az égőkkel ellátott eszközök megjavításában. Szlogen: Használj málnát, hogy megspórold a szerelő árát.\n",
    "\n",
    "**Fókuszált beszéd szerkesztés**: Bevezető: vettünk egy reflex játékot ahol a lámpa felvillanására gomb lenyomásával jeleztük gyorsaságunkat, de néhány óra után elromlott. Fő rész: hívtuk a szerelőt, de magas árat mondott, kidobni se akartuk a játékot. Raspivel megprobáltam leszimulálni a működési elvet. Megtanultam, hogy 1) a ledhez megfelelő feszültség és áramerősség kell, 2) mindig kell használni megfelelő ellenállást és 3) nyomógomb zárja az áramkört. Ezek segítségével rájöttem, hogy a játékomban, tönkre ment a LED, így kicseréltem. Konklúzió: Raspin keresztül megtanultam, hogy meg is lehet szerelni a játékokat. + Szlogen.\n",
    "\n",
    "## Második verzió\n",
    "\n",
    "**Általános cél**: Bemutatni, egy érdekes játékot és annak kivitelezését.\n",
    "\n",
    "**Téma típusa**: informálás.\n",
    "\n",
    "**Tömör üzenet**: Egyszerű ötletből és alkatrészből is nagyszerű játékot lehet készíteni. Szlogen: A málnával játék az élet.\n",
    "\n",
    "**Fókuszált beszéd szerkesztés**: Bevezető: Manapság játékot szerezni egyszerű az üzletekben. De ez elveszi a kreativitást az emberektől. Hogy nyerjük ezt vissza?  Fő rész: Itt a Raspi ami egy multifunkciós eszköz és sok dolog vezérlésére képes segít saját játékok készítésében. 1) Megtanulunk programozni. 2) Megtanulunk alkatrészekkel bánni. 3) Kreativitásunkat használva és az előző két pontra alapozva saját játékot készíthetünk. Pl. ilyen játék a reflex játék. Röviden bemutatni.   Konklúzió: Némi gondolkodással és tudással saját dolgokat készíthetünk, amiknek működését mi határozzuk meg. + Szlogen."
   ]
  },
  {
   "cell_type": "markdown",
   "metadata": {},
   "source": [
    "# Konklúzió\n",
    "\n",
    "Mindig tartsuk szem előtt, hogy az előadást nem magunkért, hanem a közönségért tartjuk, így az ő érdekeik a legfontosabbak. Igyekezzünk biztosítani őket, hogy minél jobb érzelmekkel és gondolatokkal hagyják el az előadó termet és magukkal vigyék a nekik szánt üzenetet."
   ]
  },
  {
   "cell_type": "markdown",
   "metadata": {},
   "source": [
    "## Referencia\n",
    "\n",
    "1) [https://open.lib.umn.edu/publicspeaking/chapter/6-1-general-purposes-of-speaking/](https://open.lib.umn.edu/publicspeaking/chapter/6-1-general-purposes-of-speaking/)\n",
    "\n",
    "2) [http://sixminutes.dlugan.com/speech-preparation-2-select-topic-idea/](http://sixminutes.dlugan.com/speech-preparation-2-select-topic-idea/)\n",
    "\n",
    "3) [http://sixminutes.dlugan.com/toastmasters-speech-3-get-to-the-point/](http://sixminutes.dlugan.com/toastmasters-speech-3-get-to-the-point/)\n",
    "\n",
    "4) [http://sixminutes.dlugan.com/speech-preparation-5-editing/](http://sixminutes.dlugan.com/speech-preparation-5-editing/)"
   ]
  },
  {
   "cell_type": "code",
   "execution_count": null,
   "metadata": {},
   "outputs": [],
   "source": []
  }
 ],
 "metadata": {
  "kernelspec": {
   "display_name": "Python 3",
   "language": "python",
   "name": "python3"
  },
  "language_info": {
   "codemirror_mode": {
    "name": "ipython",
    "version": 3
   },
   "file_extension": ".py",
   "mimetype": "text/x-python",
   "name": "python",
   "nbconvert_exporter": "python",
   "pygments_lexer": "ipython3",
   "version": "3.7.3"
  },
  "toc": {
   "base_numbering": 1,
   "nav_menu": {},
   "number_sections": true,
   "sideBar": true,
   "skip_h1_title": false,
   "title_cell": "Table of Contents",
   "title_sidebar": "Contents",
   "toc_cell": false,
   "toc_position": {},
   "toc_section_display": true,
   "toc_window_display": false
  }
 },
 "nbformat": 4,
 "nbformat_minor": 4
}
