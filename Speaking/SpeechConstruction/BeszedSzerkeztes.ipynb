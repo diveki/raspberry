{
 "cells": [
  {
   "cell_type": "markdown",
   "metadata": {},
   "source": [
    "# Hogyan építsük fel a beszédünk"
   ]
  },
  {
   "cell_type": "markdown",
   "metadata": {},
   "source": [
    "Mint minden jó történetnek kell, hogy legyen egy jó kezdete és vége. Először szedjük pontokba a mondanivalónkat majd aköré írjunk egy folytonos történetet. \n",
    "Általánosságban három részre tagoljuk a történetet, a) nyitó rész, b) fő rész és c) konklúzió. "
   ]
  },
  {
   "cell_type": "markdown",
   "metadata": {},
   "source": [
    "## Nyitó rész"
   ]
  },
  {
   "cell_type": "markdown",
   "metadata": {},
   "source": [
    "A nyitó részben arra kell törekedni, hogy a mondani valónk érdekes legyen és megragadja a hallgatóság figyelmét. Érdemes nagyjából meg is tanulni a nyitást, hogy a kezdeti lámpaláz ne okozzon problémát rögtön az elején. Egyben magabiztosságot is sugall a hallgatóság részére. Ugyanez érvényes a beszéd befejezésére is, így könnyedén és magabiztosan lehet elkezdeni és befejezni is a beszédet."
   ]
  },
  {
   "cell_type": "markdown",
   "metadata": {},
   "source": [
    "## Fő rész"
   ]
  },
  {
   "cell_type": "markdown",
   "metadata": {},
   "source": [
    "A fő részben törekedni kell néhány jól megfogalmazott üzenet átadására (maximum három vagy négy üzenet). Ettől többet sajnos a közönség általánosságban nem tud befogadni. Nem elég kimondani az üzenetet, érdemes hangsúlyozni azt példákkal vagy történetekkel. Végül, ha képesek vagyunk ismételjük meg az üzenetet újra más megfogalmazásban.\n",
    "\n",
    "Akkor végeztél jó munkát, ha a beszéded után (és még másnap is) képes a közönséged egy mondatban megfogalmazni azt az üzenetet amit szerettél volna átadni nekik.  "
   ]
  },
  {
   "cell_type": "markdown",
   "metadata": {},
   "source": [
    "## Konklúzió"
   ]
  },
  {
   "cell_type": "markdown",
   "metadata": {},
   "source": [
    "Ahogy említettük már, érdemes megjegyezni a záró részt is, és legyen érthető valamint figyelem felkeltő, hiszen ezek az utolsó szavak, mondatok, amit a közönség hall. Könnyen megeshet, hogy ezeket jegyzik meg legjobban. Ebben a részben összefoglalhatjuk a fő részben részletezett üzenetet és elbúcsúzhatunk egy útravaló mondattal. Sokszor megnyerő tud lenni, ha a beszéd ívét úgy tudjuk formálni, hogy a konklúzióra visszatérünk a bevezetőben tárgyalt dolgokra, így egy kerek egésszé alakítva a beszédet. "
   ]
  },
  {
   "cell_type": "markdown",
   "metadata": {},
   "source": [
    "## Felkészülés"
   ]
  },
  {
   "cell_type": "markdown",
   "metadata": {},
   "source": [
    "Ha már megterveztük a beszédet, érdemes gyakorolni annak előadását hangosan, akár tükör (vagy mások) előtt. Akár fel is lehet venni a hanganyagot, hogy visszahallgatva kiderüljön hol lehetnek hibák. \n",
    "\n",
    "Nem kell fejből tudni a beszédet (habár a bevezető és a konklúzió esetében nem árt), de érdemes tudni, hogy mikor miről kell beszélni. Ez magabiztosságot ad előadás közben és azt is lehetővé teszi, hogy figyelhessük a közönség reakcióját. "
   ]
  },
  {
   "cell_type": "markdown",
   "metadata": {},
   "source": [
    "## A beszéd előadása"
   ]
  },
  {
   "cell_type": "markdown",
   "metadata": {},
   "source": [
    "Szinte minden ember lámpalázas lesz ha mások elé ki kell állnia beszélni. Ez teljesen természetes és nincs vele probléma. Érdemes egy két mély levegőt venni kezdés előtt, az segít a koncentrálásban. Gyakorlással meg lehet tanulni ezt a lámpalázat lelkesedéssé alakítani és idővel egyre meggyőzőbb előadásokat mutattok majd be. \n",
    "\n",
    "Beszéd közben válasszunk ki néhány embert és nézzünk a szemükbe néhány másodperc erejéig. Ezáltal azt a benyomást keltjük bennük, hogy ők is az előadás részei. Emellett megfigyelhetjük a közönség reakcióját is, így akár menet közben is lehet igazítani a beszédet úgy, hogy ne lankadjon a figyelmük. \n",
    "\n",
    "Amennyiben van időkorlát, néha érdemes odafigyelni arra az emberre is, aki jelzi, hogy mennyi van még hátra a nekünk szánt időből. Ha jelzik, hogy 1 perc vagy csak fél perc van hátra, akkor tudjuk, hogy gyorsan a konklúzió felé kell vennünk az irányt, akár kihagyva több részt is a beszédből, különben félbeszakítanak minket és a közönség csak egy félkész üzenettel távozhat. Fontos, hogy az időkorlátokat betarsuk. "
   ]
  },
  {
   "cell_type": "code",
   "execution_count": null,
   "metadata": {},
   "outputs": [],
   "source": []
  }
 ],
 "metadata": {
  "kernelspec": {
   "display_name": "Python 3",
   "language": "python",
   "name": "python3"
  },
  "language_info": {
   "codemirror_mode": {
    "name": "ipython",
    "version": 3
   },
   "file_extension": ".py",
   "mimetype": "text/x-python",
   "name": "python",
   "nbconvert_exporter": "python",
   "pygments_lexer": "ipython3",
   "version": "3.7.4"
  },
  "toc": {
   "base_numbering": 1,
   "nav_menu": {},
   "number_sections": true,
   "sideBar": true,
   "skip_h1_title": false,
   "title_cell": "Table of Contents",
   "title_sidebar": "Contents",
   "toc_cell": false,
   "toc_position": {},
   "toc_section_display": true,
   "toc_window_display": false
  }
 },
 "nbformat": 4,
 "nbformat_minor": 4
}
