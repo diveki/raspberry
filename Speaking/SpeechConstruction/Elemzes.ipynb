{
 "cells": [
  {
   "cell_type": "markdown",
   "metadata": {},
   "source": [
    "# Beszéd elemzés"
   ]
  },
  {
   "cell_type": "markdown",
   "metadata": {},
   "source": [
    "Az élet minden egyes területén akkor tudunk fejlődni, ha gyakorlunk és kijavítjuk a hibáinkat. Ezért fontos, hogy legyenek a környezetünkben olyan emberek akik az építő jellegű megjegyzéseikkel segítenek minket fejlődni. \n",
    "\n",
    "A jó elemzések éreztetik az előadóval, hogy figyelnek rá és megbecsülik. Fejlesztik az előadó önbizalmát és irányt mutatnak a fejlődéshez. \n",
    "\n",
    "Fontos hangsúlyozni, hogy **építő jellegű** tanácsokat adjunk másoknak amiből erőt és tudást tudnak meríteni. A beszédek elemzésénél is így van ez. Hangsúlyozzuk azt ami tetszett a beszédben, így az előadó talán a következő alkalommal is hasonlóan jól prezentál, illetve ítélkezés nélkül mutassunk rá, hogy szerintünk mit lehetne jobban csinálni. Célunk az észrevételekkel az, hogy az előadó fejlődjön, így törekedjünk az ő movtiválására és nem arra, hogy mi mennyivel jobban tudunk valamit. \n",
    "\n",
    "Az elemzés szerkezetére a következő formát javasoljuk:\n",
    "\n",
    "* Elemzésünk elején röviden foglaljuk össze saját szavainkkal az elhangzottakat. Próbáljuk meg megfogalmazni azt az üzenetet amit az előadó átadott.\n",
    "* Bevezetésunk után emeljünk ki két észrevételt amiről azt gondoljuk, hogy az előadó remekül csinált.\n",
    "* Ezután térjünk rá arra a megfigyelésre amin szerintünk még lehetne javítani és példával próbáljuk meg szemléltetni, hogy milyen lenne egy jobb verzió.\n",
    "* Befejezésként ismét említsünk meg egy pozitív dolgot az eloadásról ami miatt szerintünk emlékezetes lesz. Egyben értékeljük ki, hogy a legjobb tudásunk alapján az előadás elérte-e a célját."
   ]
  },
  {
   "cell_type": "markdown",
   "metadata": {},
   "source": [
    "## Észrevételek"
   ]
  },
  {
   "cell_type": "markdown",
   "metadata": {},
   "source": [
    "Fontos, hogy az észrevételeink bemutatása az előadónak egyértelmű legyen. Általánosságok említése mellett, mint pl. tetszett a beszéd felépítése, ténylegesen is ki lehet emelni, hogy pontosan mi tetszett benne pl. hogy a beszédben jól elkülönült a bevezető, fő rész és a konklúzió. \n",
    "\n",
    "Egy észrevétel felépítése két részből állhat:\n",
    "\n",
    "* Rávilágítás a megdícsérendő/javítandó részre: *pl. Figyelemre méltó volt, ahogy 3 pontba összeszedte a hörcsögök alvási szokásait. *\n",
    "* Példán keresztül bemutatni mire gondoltunk, így nem hagyjuk homályban az előadót: *pl. Lenyűgöző észrevétel, hogy tudnak hason, háton és oldalt is aludni. *\n",
    "\n",
    "Az építő jellegű javaslatainknál is érdemes példával illusztrálni, hogy szerintünk mitől lenne jobb az előadás: pl. Észrevettem, hogy beszéd közben a távolba merengett. Ehelyett, ha a közönség tagjaival szemkontaktust venne fel néhány másodperc erejéig, meggyőzőbb lenne az előadása. "
   ]
  },
  {
   "cell_type": "markdown",
   "metadata": {},
   "source": [
    "## Felkészülés"
   ]
  },
  {
   "cell_type": "markdown",
   "metadata": {},
   "source": [
    "Ha tudjuk, hogy ki kell majd elemeznünk valakinek az előadását (vagy valami mást), akkor készüljünk fel előre az adott témából. Ha tisztában vagyunk vele, hogy miről fog szólni, könnyebben megítélhetjük, hogy eléri-e az előadás a célját vagy sem. \n",
    "\n",
    "Beszélhetünk az előadóval is, hogy szeretné-e hogy konkrétan valamire figyeljünk vagy csak általánosan mindenre. Tartsuk fejben, hogy nem magát az előadót/az előadónak a személyiségét elemezzük, hanem azt amit az előadó mond vagy tesz beszéd közben. \n",
    "\n",
    "Érdemes tollal és papírral készülni, hogy lejegyzetelhessük a gondolatainkat, amit elemzéskor összegzünk."
   ]
  },
  {
   "cell_type": "markdown",
   "metadata": {},
   "source": [
    "## Teendők miközben az előadót figyeljük"
   ]
  },
  {
   "cell_type": "markdown",
   "metadata": {},
   "source": [
    "Az elemző munka erős összpontosítást és odafigyelést igényel. Mindemellett, nem szabad ítélkezni, korán döntéseket hozni, befogadónak kell lenni az új gondolatokra. \n",
    "\n",
    "Miközben hallgatjuk az előadást, jegyzeteljünk és próbáljuk meg rendszerezni a gondolatainkat. Elemzéskor ne ugráljunk az észrevételeink között, hanem jól felépítve, egymásra épülve tálaljuk azokat. Arról beszéljünk amit láttunk, hallottunk és az érzésről amit keltett bennünk és sosem az előítéleteinkről. \n",
    "\n",
    "Elemzéskor érdemes egyes szám első személyű mondatokat szerkeszteni mint pl. Azt láttam; úgy hallottam; kellemes érzéssel töltött el ... ahelyett, hogy az előadó személyére hivatkoznánk: Akadozott a beszéde; Leszegte a fejét ...\n",
    "\n",
    "Az előadó fejlődésének segítése érdekében használhatod a következő megjegyzéseket: Úgy hiszem ...; Az volt a benyomásom, hogy ... ; azt javaslom ... stb. \n",
    "\n"
   ]
  },
  {
   "cell_type": "markdown",
   "metadata": {},
   "source": [
    "## Források"
   ]
  },
  {
   "cell_type": "markdown",
   "metadata": {},
   "source": [
    "https://www.toastmasters.org/magazine/magazine-issues/2016/oct2016/evaluation\n",
    "\n",
    "https://toastmasters.hu/en/clubs/ez-a-beszed-szeged-toastmasters/"
   ]
  },
  {
   "cell_type": "code",
   "execution_count": null,
   "metadata": {},
   "outputs": [],
   "source": []
  }
 ],
 "metadata": {
  "kernelspec": {
   "display_name": "Python 3",
   "language": "python",
   "name": "python3"
  },
  "language_info": {
   "codemirror_mode": {
    "name": "ipython",
    "version": 3
   },
   "file_extension": ".py",
   "mimetype": "text/x-python",
   "name": "python",
   "nbconvert_exporter": "python",
   "pygments_lexer": "ipython3",
   "version": "3.7.4"
  },
  "toc": {
   "base_numbering": 1,
   "nav_menu": {},
   "number_sections": true,
   "sideBar": true,
   "skip_h1_title": false,
   "title_cell": "Table of Contents",
   "title_sidebar": "Contents",
   "toc_cell": false,
   "toc_position": {},
   "toc_section_display": true,
   "toc_window_display": false
  }
 },
 "nbformat": 4,
 "nbformat_minor": 2
}
