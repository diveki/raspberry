{
 "cells": [
  {
   "cell_type": "markdown",
   "metadata": {},
   "source": [
    "# Motorok"
   ]
  },
  {
   "cell_type": "markdown",
   "metadata": {},
   "source": [
    "## Elektromágneses indukció"
   ]
  },
  {
   "cell_type": "markdown",
   "metadata": {},
   "source": [
    "Mágneses térben mozgó vezetőben elektromos feszültség keletkezik. Ez teszi lehetővé a dinamók, a villanymotorok és a transzformátorok működését. A villanymotorok esetében vagy a vezető, vagy a mágneses mező, vagy mindkettő elmozdul egymáshoz viszonyítva. Legelterjedtebb formája a forgómozgás. A villanymotorok az elektromos energiából nyerik mechanikus energiájukat. \n",
    "\n",
    "Három motortípusra térünk ki – mivel ezekből létezik kisfeszültséggel működő változat is –, ezek a villanymotorok, a  szervomotorok és a léptetőmotorok."
   ]
  },
  {
   "cell_type": "markdown",
   "metadata": {},
   "source": [
    "## DC motor - egyenáramú villanymotor"
   ]
  },
  {
   "cell_type": "markdown",
   "metadata": {},
   "source": [
    "A DC motorok az elektromos energiát mechanikus energiává, forgó mozgássá, alakítják egy mágneses mező segítségével. Ezek a legelterjettebb motorfajták, mivel folytonos mozgást biztosítanak, szabályozható az irányuk és sebességük. Általánosságban két részből állnak, sztátor (álló rész) és rotor (forgó rész). \n",
    "\n",
    "Az életünk szinte minden részén megfordulnak ezek a motorok, a ventillátorokban, fúrókban, emelőkben, vonatokban, robotikában stb.\n",
    "\n",
    "Lényegében két fajta DC motort különböztetünk meg:\n",
    "\n",
    "* Szénkefés DC motor (Brushed DC motor) - a szénkeféken keresztül jut az áram a rotor tekercseibe (lásd lejjebb). A szénkefék érintkeznek a rotor tengelyén lévő kommutátorral, ami az áram folyási irányát változtatja a tekercsben. A szervo motor egy speciális, pozíció felismeréssel ellátott DC motor.\n",
    "\n",
    "* Szénkefe nélküli DC motor (Brushless DC motor, BLDC) - ebben a típusban a rotoron állandó mágnesek vannak a sztátoron pedig a tekercsek. A kommutálást itt Hall-kapcsolókkal oldják meg, elektronikusan. Általánosságban ezeknek jobb a forgatónyomaték és sebesség karakterisztikáik, és hosszabb az élettartalmuk, de drágábbak is."
   ]
  },
  {
   "cell_type": "markdown",
   "metadata": {},
   "source": [
    "### Hogyan működnek a DC motorok?"
   ]
  },
  {
   "cell_type": "markdown",
   "metadata": {},
   "source": [
    "Az egyenáramú motor működése a mágneses pólusok vonzásán és taszításán alapul. A motor két kivezetésére rákapcsoljuk az áramforrás pozítív és negatív kivezetését. Egy mágneses térben elhelyezett tekercsbe ha áramot vezetünk, akkor az indukálódott elektromágneses mező kölcsönhatásba lép az állandó mágnesek erőterével aminek hatására az amatúra (a tekercs, ami a motor forgó része) elmozdul. Ha az álló és forgórész pólusa azonos akkor vonzzák, ha ellentétes akkor taszítják egymást. A mágneses kölcsönhatást a mágnesek és a tekercsek között a szerkezet úgy állítja be, hogy az állandóan taszító legyen, amíg áram folyik a tekercsekben, így a forgó mozgás biztosított. "
   ]
  },
  {
   "cell_type": "markdown",
   "metadata": {},
   "source": [
    "<img src=\"Electric_motor_cycle_2.png\" width=300 height=300 />"
   ]
  },
  {
   "cell_type": "markdown",
   "metadata": {},
   "source": [
    "<center>Külső rész, sztátor, állandó mágnesek, kék - észeaki pólus, piros - déli pólus; Belső rész a rotor, egy tengelyre rögzített tekerccsel aminek a kivezetései a tengelyen lévő kommutátorhoz vannak kötve; szénkefék a (+) és (-) potenciállal érintkeznek a tengelyen levő kommutátorral. Forrás: CC BY-SA 3.0, https://commons.wikimedia.org/w/index.php?curid=671803</center>"
   ]
  },
  {
   "cell_type": "markdown",
   "metadata": {},
   "source": [
    "A motor sebessége arányos a rákapcsolt feszültséggel, míg a forgatónyomatéka a rajta áthaladó áramerősséggel arányos (amit szabályozni lehet még a tengelyre szerelt fogaskerekekkel). Ha szeretnénk, hogy gyorsabban forogjon, átlagosan nagyobb feszültséget kell rá kapcsolni. Egyik módja ennek az eléréséhez az impulzushossz moduláció (Pulse Width Modulation - PWM). Emellett ha megcseréljük a táp pólusait, felcserélhetjük a motor forgási irányát. Erre is létezik több megoldás, de mi az ún. H-hídakkal fogunk röviden foglalkozni."
   ]
  },
  {
   "cell_type": "markdown",
   "metadata": {},
   "source": [
    "### A DC motorok irányítása"
   ]
  },
  {
   "cell_type": "markdown",
   "metadata": {},
   "source": [
    "A DC motorok megindítása relatív egyszerű, tápfeszültséget kell rájuk kapcsolni és működnek. A hobbi DC motorok 4.5 V-tól 36 V-ig is előfordulhatnak. Ezt a feszültséget kell szabályozni PWM üzzemmódban, hogy a motor sebességét szabályozhassuk. A PWM üzemmódról részletesebben a szervo motorok fejezetben írunk. A szervo motoroknál a PWM üzemmód a motor szögelfordulását szabályozza. \n",
    "\n",
    "Mivel a villanymotorok, ha derektbe kötjük őket az áramra, egy irányba és adott sebességgel forognak, ezért ha irányítani akarjuk, egy motorvezérlő áramkörre, pl. egy úgynevezett H-hídra van szükségünk. Ez egy elektromos áramkör ami a bemenő jeleknek megfelelően viszi át az energiát a motorra. A megfelelő lábakra bekötve a motorunkat, programozással vezérelhetjük a forgás irányát és sebességét. \n",
    "\n",
    "Többfajta motorvezérlő létezik és mindegyiknek más specifikációik vannak, pl. mekkora feszültségtartományon dolgoznak, mekkora áramerősséget képesek elviselni, hány motort lehet rájuk kapcsolni stb. Teljességre való törekvés nélkül felsorolunk néhányat. \n",
    "\n",
    "* DRV8835\n",
    "* ULN2003\n",
    "* L298N\n",
    "* L293D\n",
    "* SN754410.\n",
    "\n",
    "Az adatlapjuk tartalmazza a karakterisztikáikat. \n",
    "\n",
    "Még a kis 5 V-os DC motoroknak is magas kezdő húzó áramerőssége van, elérheti a 300-400 mA-t. Normál működés esetén is lehet akár 150-200 mA. Ezek magas áramerősségek a mikrokontrollerek részére mint az Arduino vagy a Raspberry Pi. Ezért ezeket a motorokat **soha** nem szabad direktbe rájuk kötni, mert az a mikrokontroller károsodásához vezethet. "
   ]
  },
  {
   "cell_type": "markdown",
   "metadata": {},
   "source": [
    "### A DC motor Raspberry Pi-re csatlakoztatása"
   ]
  },
  {
   "cell_type": "markdown",
   "metadata": {},
   "source": [
    "*Nagyon fontos, hogy az áramkör összeszerelését mindig kikapcsolt/áramtalanított Raspberry Pi mellett tegyük meg. Összeszerelés után is többször ellenőrízzük, hogy minden drót a leírtaknak megfelelően lett bekötve. Akár multiméter segítségével ellenőrizhetjük is, hogy egyes csatlakozásoknál a megfelelő feszültséget, áramerősséget mérjük.*"
   ]
  },
  {
   "cell_type": "markdown",
   "metadata": {},
   "source": [
    "A motor vezérlőknek fontos szerepük van a vezérlő számítógép/mikrokontroller megvédésében. A vezérlő jelet a Raspberry Pi-ról kapják a DC motorok míg a meghajtóerőt egy különálló árramforrásról. Evvel biztosítható, hogy nem éri nagyobb áramlöket a Raspberry Pi-t. \n",
    "\n",
    "Ebben a leírásban az L293D motor vezérlőt fogjuk tárgyalni és bemutatni (részletes leírásának linkje ennek a fejezetnek a [14]-es referenciájában található). Ez kettő 4.5-36 V-os DC motor vezérlésére alkalmas. Átlagosan 600 mA-rel (maximálisan 1.2 A-rel) terhelhető. Emellett van neki beépített visszafelé folyó erős áramcsúcsok elleni védelme. \n",
    "\n",
    "Tüskéinek a leosztása az alábbi ábrán látható:"
   ]
  },
  {
   "cell_type": "markdown",
   "metadata": {},
   "source": [
    "<img src=\"L293D.png\" width=300 height=300 />"
   ]
  },
  {
   "cell_type": "markdown",
   "metadata": {},
   "source": [
    "* EN1 és EN2 a bekapcsoló tüskék. A motorokat csak akkor lehet mozgásra bírni, ha ezek magas állapotban vannak. EN1 felel az IN1, IN2 és OUT1, OUT2 tüskékért. Az EN2 pedig az IN3, IN4 és OUT3, OUT4 tüskékért felel. A lenti ábrán az EN1-re a GPIO25-öt kapcsoljuk (barna drót), míg az EN2-re a GPIO17-et (rózsaszín drót). Ezek a GPIO tüskék képesek alacsony (0 V) és magas (3.3 V) állapotok felvételére, ami elegendő az L293D chip EN1 és EN2 tüskéinek bekapcsolásához.\n",
    "\n",
    "* Vs-re kell kapcsolni a külső áramforrást ami a motorokat fogja meghajtani. A táp pozitív végét kell ide kapcsolni (piros drót a lenti ábrán)\n",
    "\n",
    "* Vss az L293D chip táplálásához a bemenet. Ezt a Rspberry Pi 5 V-os tüskéjére kapcsoljuk (fehér drót). \n",
    "\n",
    "* IN1, IN2 és IN3, IN4 a bemenetek. Ezek a Raspberry Pi-ról kapnak jelet és annak a jelnek megfelelően mozog majd a motor. A rajzon az IN1-re a GPIO24-es tüskét kapcsoltuk (narancssárga drót), az IN2-re a GPIO23-as tüskét (szürke drót), IN3-ra a GPIO27-es tüskét (lila drót) és az IN4-re a GPIO22-es tüskét (kék drót).\n",
    "\n",
    "* OUT1, OUT2 és OUT3, OUT4 a kimenetek. A kimenetekre a motor drótjait kell kötni. A bemeneti jel, a kimeneten jut el a motorhoz. Az ábrán a zöld drótot kötöttük az OUT2-re és OUT4-re, míg a sárga drótot az OUT1-re és OUT3-ra.\n",
    "\n",
    "* A GND (földelés) tüskék az eszközök földelésére és a keletkező hő elvezetésére is szolgálnak. Fekete drótokkal jelöltük a földelést és mind a motorok tápforrását (negatív lábát) mind a Raspberry Pi egyik GND tüskéjét összekötjük a chip földelésével. Ezenfelül a chipen belül is az egy oldalon szereplő földeléseket is összekötöttük. "
   ]
  },
  {
   "cell_type": "markdown",
   "metadata": {},
   "source": [
    "<img src=\"dc_motor_circuit.png\" width=800 height=600 />"
   ]
  },
  {
   "cell_type": "markdown",
   "metadata": {},
   "source": [
    "Tüske összeköttetések táblázata:\n",
    "\n",
    "| Honnan | Hova | Szín |\n",
    "|:---|:---|:---:|\n",
    "| Raspberry Pi GND | L293D GND |fekete|\n",
    "|Áramforrás (-) láb | L293D GND |fekete|\n",
    "|Áramforrás (+) láb | L293D Vs |piros|\n",
    "|Jobb oldali L293D GND (egyik) |Jobb oldali L293D GND (másik)|fekete|\n",
    "|Bal oldali L293D GND (egyik) |Bal oldali L293D GND (másik)|fekete|\n",
    "| L293D EN1 | Raspberry Pi GPIO25 | barna |\n",
    "| L293D EN2 | Raspberry Pi GPIO17 | rózsaszín |\n",
    "| L293D Vss | Raspberry Pi 5V | fehér |\n",
    "| L293D IN1 | Raspberry Pi GPIO24 | narancssárga |\n",
    "| L293D IN2 | Raspberry Pi GPIO23 | szürke |\n",
    "| L293D IN3 | Raspberry Pi GPIO27 | lila |\n",
    "| L293D IN4 | Raspberry Pi GPIO22 | kék |\n",
    "| L293D OUT1 | Első DC Motor egyik lába | zöld |\n",
    "| L293D OUT2 | Első DC Motor másik lába | sárga |\n",
    "| L293D OUT3 | Második DC Motor egyik lába | zöld |\n",
    "| L293D OUT4 | Második DC Motor másik lába | sárga |"
   ]
  },
  {
   "cell_type": "markdown",
   "metadata": {},
   "source": [
    "### Referencia"
   ]
  },
  {
   "cell_type": "markdown",
   "metadata": {},
   "source": [
    "1) Magyar - [https://harsanyireka.blog.hu/2014/06/21/12_153](https://harsanyireka.blog.hu/2014/06/21/12_153)\n",
    "\n",
    "2) [https://www.electronics-tutorials.ws/io/io_7.html](https://www.electronics-tutorials.ws/io/io_7.html)\n",
    "\n",
    "3) Magyar - [https://hu.wikipedia.org/wiki/Villanymotor](https://hu.wikipedia.org/wiki/Villanymotor)\n",
    "\n",
    "4) [https://en.wikipedia.org/wiki/DC_motor](https://en.wikipedia.org/wiki/DC_motor)\n",
    "\n",
    "5) [https://www.aranacorp.com/en/control-a-dc-motor-with-raspberry-pi/](https://www.aranacorp.com/en/control-a-dc-motor-with-raspberry-pi/)\n",
    "\n",
    "6) [https://medium.com/@Keithweaver_/controlling-dc-motors-using-python-with-a-raspberry-pi-40-pin-f6fa891dc3d](https://medium.com/@Keithweaver_/controlling-dc-motors-using-python-with-a-raspberry-pi-40-pin-f6fa891dc3d)\n",
    "\n",
    "7) [https://projects.raspberrypi.org/en/projects/build-a-buggy](https://projects.raspberrypi.org/en/projects/build-a-buggy)\n",
    "\n",
    "8) [https://howchoo.com/g/mjg5ytzmnjh/controlling-dc-motors-using-your-raspberry-pi](https://howchoo.com/g/mjg5ytzmnjh/controlling-dc-motors-using-your-raspberry-pi)\n",
    "\n",
    "9) [https://maker.pro/raspberry-pi/projects/raspberry-pi-dc-motor-control-with-custom-board](https://maker.pro/raspberry-pi/projects/raspberry-pi-dc-motor-control-with-custom-board)\n",
    "\n",
    "10) [https://www.electronicshub.org/controlling-a-dc-motor-with-raspberry-pi/](https://www.electronicshub.org/controlling-a-dc-motor-with-raspberry-pi/)\n",
    "\n",
    "11) [https://www.instructables.com/id/DC-Motor-Control-With-Raspberry-Pi-and-L293D/](https://www.instructables.com/id/DC-Motor-Control-With-Raspberry-Pi-and-L293D/)\n",
    "\n",
    "12) [https://business.tutsplus.com/tutorials/controlling-dc-motors-using-python-with-a-raspberry-pi--cms-20051](https://business.tutsplus.com/tutorials/controlling-dc-motors-using-python-with-a-raspberry-pi--cms-20051)\n",
    "\n",
    "13) Motor meghajtó lista - [https://wonderfulengineering.com/10-best-motor-drivers-for-raspberry-pi/](https://wonderfulengineering.com/10-best-motor-drivers-for-raspberry-pi/)\n",
    "\n",
    "14) L293D motor vezérlő leírása - [https://github.com/sudar/DCMotorBot/blob/master/datasheet/l293d.pdf?raw=true](https://github.com/sudar/DCMotorBot/blob/master/datasheet/l293d.pdf?raw=true)\n",
    "\n",
    "15) [https://howtomechatronics.com/tutorials/arduino/arduino-dc-motor-control-tutorial-l298n-pwm-h-bridge/](https://howtomechatronics.com/tutorials/arduino/arduino-dc-motor-control-tutorial-l298n-pwm-h-bridge/)"
   ]
  },
  {
   "cell_type": "markdown",
   "metadata": {},
   "source": [
    "## Szervo motor"
   ]
  },
  {
   "cell_type": "markdown",
   "metadata": {
    "cell_style": "center"
   },
   "source": [
    "A szervo motorok olyan önálló elektromos eszközök amik nagy pontossággal forgatnak vagy tolnak/húznak elemeket egy szerkezetben. A szervo motorok a DC motor egy típusai amik képesek egy meghatározott szögben elfordulni. Ami megkülönbözteti a szervo motort a DC motortól az az, hogy szabályozhatod a szervo motor elfordulási szögét, míg a DC motornál lényegében csak azt, hogy be van-e kapcsolva vagy sem. A szervo, amíg be van kapcsolva, egyfolytában ellenőrzi és tartja a megadott pozícióját. Ha ki akarnánk mozdítani a helyzetéből, ellenállna. \n",
    "\n",
    "Szervo motorok nagyon sok területen előfordulnak pl. robot kezekben, CNC gépekben, autókban, CD/DVD lejátszókban stb. A repülőgépekben a szervo és a hozzá kapcsolódó hidraulikus technológia szabályozza pl. a gép szárnyainak szögét. A szervok különböző méretben léteznek, a nagy teljesítményűek pl. egy robot kezét mozgatják, míg a kisebbek pl. kis játékautókban fordulnak elő. "
   ]
  },
  {
   "cell_type": "markdown",
   "metadata": {},
   "source": [
    "### Hogyan működnek a szervo motorok?"
   ]
  },
  {
   "cell_type": "markdown",
   "metadata": {
    "cell_style": "center"
   },
   "source": [
    "Ahogy említettük már a szervo motorok igazából egy DC motorból állnak. Ezeket áram hajtja meg és képesek nagy fordulatszámmal pörögni (RPM - Rotatations Per Minute), viszont nagyon kis forgató nyomatékot képesek leadni (forgató nyomatékot alkalmazunk forgó mozgások létrehozásához, pl. egy ajtó kinyitásához). Mindeközben a motor működéséhez egy adott munka kellett ($W = T \\dot \\theta$, ahol $W$ a munka, $T$ a forgatónyomaték és $\\theta$ az elfordulás szöge). Speciális fogaskerék láncolattal lecsökkenthetjük a fordulatszámot, azaz ugyanannyi munka befektetésével kevesebb elfordulást ($\\theta$) érünk el. Mivel a munka állandó, kisebb elfordulás mellett a szervo motor nagyobb forgatónyomatékot képes kifejteni. Felhasználás függvényében a kifejtendő forgatónyomaték, illetve a forgás sebessége változik, ami miatt fontos, hogy egy adott feladathoz a megfelelő paraméterekkel rendelkező szervo motort válasszunk. Általában a nagyobb forgatónyomatékú és minőségesebb szervok drágábbak is. \n",
    "\n",
    "Az olcsóbb és kisebb szervokban sokszor potenciométereket alkalmaznak a feszültség mérésére az elfordulás függvényében. Ez egy kis áramkörhöz van kapcsolva. A potenciométer megmondja az áramkörnek, hogy mennyit fordult el a motor, amit az összevet a beadott értékkel és utasítja a motort, hogy mozduljon a megfelelő irányba. "
   ]
  },
  {
   "cell_type": "markdown",
   "metadata": {},
   "source": [
    "### A szervo motorok irányítása"
   ]
  },
  {
   "cell_type": "markdown",
   "metadata": {
    "cell_style": "center"
   },
   "source": [
    "A szervo az utasításokat impulzussorozatok formájában kapja pl. egy számítógéptől. Impulzusnak nevezzük az átmenetet alacsony feszültségből magasba, amiben egy bizonyos ideig meg is marad, majd ismét alacsonyba megy vissza (illetve ennek a folyamatnak a fordítotját is). Impulzus sorozat ezen impulzusok időközönkénti ismétlődése. Elektronikában az alacsony állapotot általában a földdel vagy 0 V-tal azonosítjuk, míg a magas állapot a tápunk feszültége. A hobbi szervok 4.5-6 V-os tartományban működnek.\n",
    "\n",
    "Két impulzus beérkezése közti időt hívjuk periódusnak (*T (s)*), míg ennek a reciprokát hívjuk frekvenciának (*f (Hz)*). A magas feszültségben eltöltött időt pedig kitöltési tényezőnek (*duty cycle (s)*) nevezzük. A szervo elfordulási szögét evvel a kitöltési tényezővel szabályozhatjuk. A kitoltési idő változtatását impulzus-szélesség modulációnak (PWM - Pulse Width Modulation) hívjuk. A lenti ábrán egy 3 impulzusból álló impulzussorozatot látunk, aminek a kitöltési idejét változtatjuk. Az impulzussorozat periódusa 20 ms, amplitudója 5 V, és a kitöltési tényezője 2 ms-tól (10 %) változik 20 ms-ig (100 %), amikor már eltűnnek az impulzusok és helyette konstans magas (5 V) feszültségi állapotban van. \n",
    "\n",
    "A legtöbb hobbi szervo motort 50 Hz-es bemeneti jelre tervezték, ami azt jelenti, hogy az impulzusok 20 ms-ként ismétlik egymást (lást az ábrát lejjebb). Ez az ismétlés biztosítja a szervot arról, hogy folyamatosan tartani tudja a pozícióját. A legtöbb szervo csak 0 és 180 fok között képes forogni. A vezérléshez tartozó értékeket a szervo adatlapján lehet elolvasni, pl. az MG90S szervoé [itt](https://www.electronicoscaldas.com/datasheet/MG90S_Tower-Pro.pdf) található. \n",
    "\n",
    "A szervo vezérléséhez azt egy feszültségforráshoz kell kapcsolni (4.5-6 V) és ezen felül a vezérlő jelnek (50 Hz-en) egy számítógépről (Raspberry Pi) vagy más áramkörről kell jönnie. A vezérlőjel szélessége általában 1 ms (5%-os kitöltési tényező) és 2 ms (10%-os kitöltési tényező) között van, ami felelős a 180 fokos elfordulásért. Pl. az MG90S szervo esetében az adatlap szerint 1.5 ms-os impulzus hossz felel meg a középponti pozíciónak ($0^{\\circ}$), 2 ms-os impulzus hossz felel meg az egyik végállapotnak ($90^{\\circ}$), míg 1 ms-os impulzus hossz felel meg a másik végállapotnak ($-90^{\\circ}$), "
   ]
  },
  {
   "cell_type": "markdown",
   "metadata": {},
   "source": [
    "<img src=\"PWM_duty_cycle_animation_compressed.gif\" width=800 height=600 />"
   ]
  },
  {
   "cell_type": "markdown",
   "metadata": {},
   "source": [
    "<center>A gif Joshua Hrisko írásából lett kimásolva, https://makersportal.com/blog/2020/3/21/raspberry-pi-servo-panning-camera</center>"
   ]
  },
  {
   "cell_type": "markdown",
   "metadata": {},
   "source": [
    "### A szervo motor Raspberry Pi-re csatlakoztatása"
   ]
  },
  {
   "cell_type": "markdown",
   "metadata": {},
   "source": [
    "A legtöbb mikrovezérlőn illetve egykártyás számítógépen találsz PWM kimenetet. A Raspberry Pi 3B+ két hardveres illetve több szoftveres kimenettel rendelkezik. A 40 pines Raspberry Pi 3B+-on 4 db hardware-es PWM üzemmódú pin van, ahol a GPIO12 és GPIO18 ugyanazokkal a paraméterekkel rendelkezik, illetve a GPIO13 és GPIO19 egy másik paraméterű csoportot alkot. Mindemellett az összes többi GPIO pint is be lehet állítani PWM üzemmódba szoftveresen, de lehet, hogy azoknak a stabilitása gyengébb a hardware-es verziójukhoz képest. \n",
    "\n",
    "A kisebb szervo motorok, mint pl. a MG90S nem igényelnek nagy áramerősséget a működéshez, de ez nem igaz az összes szervora. Annak ellenére, hogy a Raspberry Pi tud 5 V-os feszültségforrást biztosítani, nem feltétlenül biztonságos ezt rákapcsolni tápként a szervora. Ugyanis, ha a szervot leterheljük akkor nagyobb árammennyiséget húzna, amit a Raspberry Pi nem tudna elviselni és valószínűleg tartós károsodást szenvedne. Hogy a lenti kapcsolási rajzon is mutatjuk, teljes biztonságot adó megoldás a szervo független 5V-os tápegységről történő működtetése pl. 4 AAA elem sorbakapcsolásával. Ebben az esetben a táp negatív potenciálú pontját (fekete drót) a Raspberry Pi tetszőleges GND tüskéjével kell összekötni amit szintén rá kell kötni a szervo negatív fülére (fekete drót). A táp pozitív végét pedig a szervo pozitív végére kapcsoljuk (piros drót). Evvel biztosítjuk a megfelelő energiaforrást a szervo részére illetve megakadályozhatjuk, hogy nagyobb áramerősség folyjon át a Raspberry Pi tüskéin. \n",
    "\n",
    "A szervo motor vezérlése annak a vezérlő fülén keresztül történik (általában, sárga, narancssárga, fehér vagy kék színű). A biztonság kedvéért érdemes elolvasni a drótok színkiosztását a használati útmutatóban. A rossz bekötés a szervo tönkretételéhez vezethet. A vezérléshez a szervonak nincs szüksége nagy teljesítményre így azt a Raspberry Pi bármelyik 3.3 V-os GPIO tüskéjéről elintézhetjük. A rajzon, ahogy korábban már említettük, mi a GPIO18-as jelű tüskéhez kötöttük, mert ez rendelkezik hardware-es PWM üzemmóddal. Ennek a tüskének a kitöltési idejének a szabályozásával vezérelhetjük a szervo elfordulásának szögét. \n",
    "\n",
    "Ha attól tartanánk, hogy valamilyen okból, pl. egy erősebb szervonál, a vezérlő dróton is keletkezhetne nagyobb áramerősség, akkor a tüske és a szervó közé beköthetünk egy 1 k$\\Omega$ értékű ellenállást (lásd [6]-os referencia). "
   ]
  },
  {
   "cell_type": "markdown",
   "metadata": {},
   "source": [
    "<img src=\"bevezeto_szervo.png\" width=600 height=400 />"
   ]
  },
  {
   "cell_type": "markdown",
   "metadata": {},
   "source": [
    "### Referencia"
   ]
  },
  {
   "cell_type": "markdown",
   "metadata": {},
   "source": [
    "1) [https://www.pololu.com/blog/12/introduction-to-servos](https://www.pololu.com/blog/12/introduction-to-servos)\n",
    "\n",
    "2) [https://www.pololu.com/blog/16/electrical-characteristics-of-servos-and-introduction-to-the-servo-control-interface](https://www.pololu.com/blog/16/electrical-characteristics-of-servos-and-introduction-to-the-servo-control-interface)\n",
    "\n",
    "3) [https://www.pololu.com/blog/17/servo-control-interface-in-detail](https://www.pololu.com/blog/17/servo-control-interface-in-detail)\n",
    "\n",
    "4) Magyarul - [http://www.malnasuli.hu/oktatas/szervomotor-vezerlese-raspberry-pi-vel/](http://www.malnasuli.hu/oktatas/szervomotor-vezerlese-raspberry-pi-vel/)\n",
    "\n",
    "5) [https://gpiozero.readthedocs.io/en/stable/api_output.html#servo](https://gpiozero.readthedocs.io/en/stable/api_output.html#servo)\n",
    "\n",
    "6) [http://razzpisampler.oreilly.com/ch05.html](http://razzpisampler.oreilly.com/ch05.html)\n",
    "\n",
    "7) [https://www.raspberrypi.org/blog/how-to-use-a-servo-motor-with-raspberry-pi/](https://www.raspberrypi.org/blog/how-to-use-a-servo-motor-with-raspberry-pi/)\n",
    "\n",
    "8) [https://www.learnrobotics.org/blog/raspberry-pi-servo-motor/](https://www.learnrobotics.org/blog/raspberry-pi-servo-motor/)\n",
    "\n",
    "9) [https://www.instructables.com/id/Servo-Motor-Control-With-Raspberry-Pi/]([https://www.instructables.com/id/Servo-Motor-Control-With-Raspberry-Pi/)\n",
    "\n",
    "10) [https://makersportal.com/blog/2020/3/21/raspberry-pi-servo-panning-camera](https://makersportal.com/blog/2020/3/21/raspberry-pi-servo-panning-camera)\n",
    "\n",
    "11) [https://makersportal.com/blog/2020/3/14/arduino-servo-motor-control](https://makersportal.com/blog/2020/3/14/arduino-servo-motor-control)"
   ]
  },
  {
   "cell_type": "markdown",
   "metadata": {},
   "source": [
    "## Léptető (stepper) motor"
   ]
  },
  {
   "cell_type": "markdown",
   "metadata": {},
   "source": [
    "A léptető motor igazából egy kefe nélküli DC motor, ami a teljes fordulatot sok egyenlő nagyságú kis elfordulásra bontja. Ennek köszönhetően a motor utasítható, hogy vegyen fel egy pozíciót majd azt tartsa bármilyen pozíció visszacsatoló szenzor nélkül. A vezérlése ezen motoroknak digitális jelekkel történik. Egy adott pozíciót nagyon nagy pontossággal és megismétléssel képes felvenni (1-5% pontosság). Mivel nincs benne szénkefe így strapabíró. Ha a motor épp nem léptet, akkor kisebb feszültséget kell rákapcsolni, nehogy leégjen. Ez a tartófeszültség azért fontos, hogy a motor tartani tudja az adott pozícióját. Egyébként amikor a motorrol lekapcsolod a tápfeszültséget, megpróbál a legközelebbi egyensúlyi, teljes lépés pozícióba elmozdulni. Általában magas forgatónyomatékot képesek leadni kis fordulatszám mellett. \n",
    "\n",
    "A léptetőmotorokat előszeretettel használják mechatronikai alkalmazásokban: robotkarokban, nyomtatókban, rajzgépekben, áramkörmaró gépekben, precíziós esztergákban stb. Újabban felhasználásuk megjelent a 3D nyomtatókban is. Emellett a lézeres és optikai kutatásokban gyakran használják pontos pozíciónálásra lineáris eltolókban, forgatható állványkon és tükörtartókon. "
   ]
  },
  {
   "cell_type": "markdown",
   "metadata": {},
   "source": [
    "### Hogyan működnek a léptető motorok?"
   ]
  },
  {
   "cell_type": "markdown",
   "metadata": {},
   "source": [
    "A léptető motorok általában egy külső álló részből és egy belső forgó részből állnak. A külső részen helyezkednek el a fogsorra formált elektromágnesek a belső rész pedig egy vasból készült fogaskerék. A léptető motorok elektromos impulzus sorozatok hatására jól meghatározott lépésekkel fordulnak el. \n",
    "\n",
    "Az elektromágneseket egy külső táp vagy mikrokontroller energetizálja. Először csak az egyik elektromágnes kap áramot, aminek a mágneses mezeje vonzani kezdi a központi fogaskerék alakú korong fogait, ami miatt a korong el kezd forogni. Amikor az elektromágnes fogazata és a forgó kerék fogazata egy vonalba kerülnek (legerősebb a mágneses vonzás), akkor áll be stabil állapotba a forgó kerék. Ebben az állapotban a forgó kerék fogai kis mértékben el vannak csúsztatva a következő elektromágnes fogazataitól. Így amikor a második elektromágnesre kapcsolunk áramot, a központi kerék fogazata, a mágneses tér hatására, közelíteni kezd a második elektromágnes fogazatához, amíg újra egyensúlyi állapot nem áll be. Ez a folyamat ismétlődik minden egyes rákövetkező elektromágnesre. Minden egyes ilyen elmozdulást lépésnek hívunk és a teljes kör egész számú lépéseből áll.  \n",
    "\n",
    "A forgási sebesség a motor teljes sebességtartományában képes a teljes nyomatékot leadni. Viszont egy bizonyos sebesség felett a motor nem képes követni a mágneses tér változását és lépésvesztés következik be, ami pozíciótévesztést eredményez, mivel a tengely pozíciójáról nincs visszajelzés.\n",
    "\n",
    "A legegyszerűbb léptető motorok két fázisúak és ezeknek is kettő típusa létezik: az unipoláris és a bipoláris. Mi az unipoláris léptető motort fogjuk bemutatni."
   ]
  },
  {
   "cell_type": "markdown",
   "metadata": {},
   "source": [
    "<img src=\"StepperMotor.gif\" width=400 height=400 />"
   ]
  },
  {
   "cell_type": "markdown",
   "metadata": {},
   "source": [
    "### A léptető motorok irányítása"
   ]
  },
  {
   "cell_type": "markdown",
   "metadata": {},
   "source": [
    "Az unipoláris léptetőmotorok 2 független tekerccsel rendelkeznek. Mindkét tekercs rendelkezik középkivezetéssel. Könnyen kitalálhatjuk, melyik a középkivezetés egy ellenállás mérő műszer segítségével. Az ellenállás a középkivezetés (common wire) és a tekercs vége között (coil end) fele akkora mint a tekercs két vége között, mert pont a drót felénél van a középkivezetés. "
   ]
  },
  {
   "cell_type": "markdown",
   "metadata": {},
   "source": [
    "<img src=\"Unipolar.png\" width=300 height=300 />"
   ]
  },
  {
   "cell_type": "markdown",
   "metadata": {},
   "source": [
    "A középkivezetéseket fixen a motortáp pozitív kapcsára kötve és a tekercsvégeket sorba a földelésre kapcsolva, a motor elkezd forogni. A forgás iránya attól függ, hogy melyik szomszédos tekercset kapcsoljuk be legközelebb. A gyakorlatban az egyik meghajtási mód a kétfázisú meghajtás.Ekkor mindig két szomszédos tekercset helyezünk feszültség alá. Evvel megnöveljük a motor nyomatékát. A gyakorlatban a másik elterjedt hajtási mód a féllépéses üzemmód, melynek során hol egy, hol pedig két tekercs kerül bekapcsolásra. Ennek a módszernek az előnye az, hogy a motor felbontása így duplájára nő. \n",
    "\n",
    "Fontos megjegyezni, hogy a léptetőmotorok tekercseinek Ohm-os ellenállása igen alacsony, ezért már alacsony feszültség mellet is nagy áram folyhat át a tekercseken. Ez az áram hőt termel, ezért fontos lehet az átfolyó áramerősség korlátozása. Ezt ki lehetne küszöbölni egy sorba kötött ellenállással, de akkor a tekercsen kisebb áram folyna, ami gyengébb mágneses teret, ami pedig kisebb nyomatékot eredményezne. Inkább a tekercsek PWM típusú jellel való táplálását szokták használni, mert akkor áram csak az impulzus szélessége alatt halad, így kevesebb hő termelődik.\n",
    "\n",
    "A léptető motorok meghajtásához is több meghajtó (driver) létezik. A hobbi szerelők között a legelterjettebbek talán a L293D és az ELN2003A. A legfontosabb paraméterek a driver és a motor párosításához a maximális feszültség és maximállis áramerősség (continuous current) amit a driver szolgálni tud a motornak. Ezek mellett fontos tudnunk, hogy mekkora áramerősséget vezethetünk a motor tekercseire (ampere per phase) és mekkora az ellenállása a tekercseknek (resistance per phase). Amikor a motor egy helyben áll, akkor húzza a legnagyobb áramot, így a hozzá tartozó feszültséget Ohm törvényével kiszámolhatjuk: $U = RI$. Evvel a módszerrel megkaphatjuk, hogy mi legyen a driver által leadott feszültség értéke. "
   ]
  },
  {
   "cell_type": "markdown",
   "metadata": {},
   "source": [
    "### A léptető motor Raspberry Pi-re csatlakoztatása"
   ]
  },
  {
   "cell_type": "markdown",
   "metadata": {},
   "source": [
    "Ebben a részben az ULN2003A drivert fogjuk tárgyalni. Erre csak 5V és 12V tápokat lehet kapcsolni, így a léptető motort is ehhez mérten kell párosítani. Maximum 500 mA kimeneti áramerősségre és max 50 V kimeneti feszültségre képes. \n",
    "\n",
    "7 dralington tranzisztor van ebben a chipben, amik lehetővé teszik a Raspberry Pi-ból jövő kis áramoknak, hogy utasítást és irányítást adjanak a nagyobb áramot igénylő léptető motornak. Az integrált áramkör diódái arra szolgálnak, hogy lekezeljék a léptető motor tekercseiben keletkező visszaható elektromotoros erőt (emf). Ugyanis, amikor az áramot lekapcsoljuk az egyik tekercsről, körülötte a mágneses mező gyorsan összeesik, ami egy erős feszültség csúcsot kelt a tekercsben. Ez a visszafelé haladó feszültség csúcs képes lenne a Raspberry Pi-t tönkretenni, de a beépített diódák biztonságosan felhasználják ezt a feszültséget, megvédve a Raspberry Pi-t. \n",
    "\n",
    "Az ULN2003A chip lábkiosztásainak leírását az [adat táblázatában](https://www.ti.com/lit/ds/symlink/uln2003a.pdf) lehet megtalálni. Egy tipikus driver board pedig az alábbi képen látható.  "
   ]
  },
  {
   "cell_type": "markdown",
   "metadata": {},
   "source": [
    "<img src=\"ULN2003_board.jpg\" width=600 height=600 />"
   ]
  },
  {
   "cell_type": "markdown",
   "metadata": {},
   "source": [
    "Az INx (ahol x=1..7) jelöli a bemeneti lábakat, a (-) és a (+) a földelést és az 5-12V feszültségeket, a fehér keret az ábrán, a chip kimenetéhez van csatlakoztatva és ide kötjük be a léptető motort. Az A, B, C és D LED diódák felelnek a visszaható emf lekezelésére.\n",
    "\n",
    "Alul egy lehetséges kapcsolási rajzot mutatunk be, ahol a chipet összeötjük mind a Raspberry Pi-jal és a léptető motorral. "
   ]
  },
  {
   "cell_type": "markdown",
   "metadata": {},
   "source": [
    "<img src=\"uln2003-stepper-raspi.png\" width=900 height=900 />"
   ]
  },
  {
   "cell_type": "markdown",
   "metadata": {},
   "source": [
    "*Az ábra forrása: [https://www.aranacorp.com/en/control-a-stepper-with-raspberrypi/](https://www.aranacorp.com/en/control-a-stepper-with-raspberrypi/)*"
   ]
  },
  {
   "cell_type": "markdown",
   "metadata": {},
   "source": [
    "A bemenetekre (IN1..IN4), a GPIO 24, 25, 08 és 07 tüskék vannak rákötve. A + jelre az 5V-os tüske míg a -  jelre a földelés van kötve. A fehér keretű kimeneti tüskékre pedig a léptető motort kapcsoljuk rá. A motor feszültségigényétől függően lehet a Raspberry Pi 5V-os feszültségét használni (ahogy a rajzon mutatjuk) de ajánlatos inkább külső tápot találni, hogy megvédjük a számítógépet. \n"
   ]
  },
  {
   "cell_type": "markdown",
   "metadata": {},
   "source": [
    "Tüske összeköttetések táblázata:\n",
    "\n",
    "| Honnan | Hova | Szín |\n",
    "|:---|:---|:---:|\n",
    "|Áramforrás (-) láb | (-) tüske ULN2003A board |fekete|\n",
    "|Áramforrás (+) láb | (+) tüske ULN2003A board |piros|\n",
    "|IN1 | Raspberry Pi GPIO24 |sárga|\n",
    "|IN2 | Raspberry Pi GPIO25 |zöld|\n",
    "| IN3 | Raspberry Pi GPIO08 | szürke |\n",
    "| IN4 | Raspberry Pi GPIO07 | fehér |"
   ]
  },
  {
   "cell_type": "markdown",
   "metadata": {},
   "source": [
    "Ahhoz, hogy egy léptető motort mozgassunk Raspberry Pi-jal, egymást követő impulzusokat (impulzus szekvenciát) kell küldenünk a motor megfelelő tekercseinek (fázisainak). Ezeket a szekvenciákat a motor leírásában kell megkeresni és motortól függően lekódolni. "
   ]
  },
  {
   "cell_type": "markdown",
   "metadata": {},
   "source": [
    "### Referencia"
   ]
  },
  {
   "cell_type": "markdown",
   "metadata": {},
   "source": [
    "1) [https://en.wikipedia.org/wiki/Stepper_motor](https://en.wikipedia.org/wiki/Stepper_motor)\n",
    "\n",
    "2) Magyar - [http://qtp.hu/elektro/leptetomotor_mukodese.php](http://qtp.hu/elektro/leptetomotor_mukodese.php)\n",
    "\n",
    "3) Magyar - [http://moodle.autolab.uni-pannon.hu/Mecha_tananyag/mikrovezerlok_programozasa/ch24.html](http://moodle.autolab.uni-pannon.hu/Mecha_tananyag/mikrovezerlok_programozasa/ch24.html)\n",
    "\n",
    "4) Magyar - [https://www.rpibolt.hu/blog/leptetomotor_illesztese_raspberry_pi-hez.html](https://www.rpibolt.hu/blog/leptetomotor_illesztese_raspberry_pi-hez.html)\n",
    "\n",
    "5) [https://learn.adafruit.com/all-about-stepper-motors/what-is-a-stepper-motor](https://learn.adafruit.com/all-about-stepper-motors/what-is-a-stepper-motor)\n",
    "\n",
    "6) [https://learn.adafruit.com/adafruit-arduino-lesson-16-stepper-motors/overview](https://learn.adafruit.com/adafruit-arduino-lesson-16-stepper-motors/overview)\n",
    "\n",
    "7) [https://learn.adafruit.com/adafruits-raspberry-pi-lesson-10-stepper-motors/overview](https://learn.adafruit.com/adafruits-raspberry-pi-lesson-10-stepper-motors/overview)\n",
    "\n",
    "8) [https://tutorials-raspberrypi.com/how-to-control-a-stepper-motor-with-raspberry-pi-and-l293d-uln2003a/](https://tutorials-raspberrypi.com/how-to-control-a-stepper-motor-with-raspberry-pi-and-l293d-uln2003a/)\n",
    "\n",
    "9) [http://www.scraptopower.co.uk/Raspberry-Pi/how-to-connect-stepper-motors-a-raspberry-pi](http://www.scraptopower.co.uk/Raspberry-Pi/how-to-connect-stepper-motors-a-raspberry-pi)\n",
    "\n",
    "10) [https://www.raspberrypi-spy.co.uk/2012/07/stepper-motor-control-in-python/](https://www.raspberrypi-spy.co.uk/2012/07/stepper-motor-control-in-python/)\n",
    "\n",
    "11) [https://www.rototron.info/raspberry-pi-stepper-motor-tutorial/](https://www.rototron.info/raspberry-pi-stepper-motor-tutorial/)\n",
    "\n",
    "12) Vezérlés webről - [https://iotdesignpro.com/projects/raspberry-pi-stepper-motor-control-through-a-webpage-using-flask](https://iotdesignpro.com/projects/raspberry-pi-stepper-motor-control-through-a-webpage-using-flask)\n",
    "\n",
    "13) ULN2003A data sheet - [https://www.ti.com/lit/ds/symlink/uln2003a.pdf](https://www.ti.com/lit/ds/symlink/uln2003a.pdf)"
   ]
  },
  {
   "cell_type": "code",
   "execution_count": null,
   "metadata": {},
   "outputs": [],
   "source": []
  }
 ],
 "metadata": {
  "kernelspec": {
   "display_name": "Python 3",
   "language": "python",
   "name": "python3"
  },
  "language_info": {
   "codemirror_mode": {
    "name": "ipython",
    "version": 3
   },
   "file_extension": ".py",
   "mimetype": "text/x-python",
   "name": "python",
   "nbconvert_exporter": "python",
   "pygments_lexer": "ipython3",
   "version": "3.7.4"
  },
  "toc": {
   "base_numbering": 1,
   "nav_menu": {},
   "number_sections": true,
   "sideBar": true,
   "skip_h1_title": false,
   "title_cell": "Table of Contents",
   "title_sidebar": "Contents",
   "toc_cell": false,
   "toc_position": {},
   "toc_section_display": true,
   "toc_window_display": false
  }
 },
 "nbformat": 4,
 "nbformat_minor": 4
}
