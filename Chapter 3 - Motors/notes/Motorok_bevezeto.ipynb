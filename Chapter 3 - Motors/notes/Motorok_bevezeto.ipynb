{
 "cells": [
  {
   "cell_type": "markdown",
   "metadata": {},
   "source": [
    "# Motorok"
   ]
  },
  {
   "cell_type": "markdown",
   "metadata": {},
   "source": [
    "## Elektromágneses indukció"
   ]
  },
  {
   "cell_type": "markdown",
   "metadata": {},
   "source": [
    "Mágneses térben mozgó vezetőben elektromos feszültség keletkezik. Ez teszi lehetővé a dinamók, a villanymotorok és a transzformátorok működését. A villanymotorok esetében vagy a vezető, vagy a mágneses mező, vagy mindkettő elmozdul egymáshoz viszonyítva. Legelterjedtebb formája a forgómozgás. A villanymotorok az elektromos energiából nyerik mechanikus energiájukat. \n",
    "\n",
    "Három motortípusra térünk ki – mivel ezekből létezik kisfeszültséggel működő változat is –, ezek a villanymotorok, a  szervomotorok és a léptetőmotorok."
   ]
  },
  {
   "cell_type": "markdown",
   "metadata": {},
   "source": [
    "## DC motor - egyenáramú villanymotor"
   ]
  },
  {
   "cell_type": "markdown",
   "metadata": {},
   "source": [
    "A DC motorok az elektromos energiát mechanikus energiává, forgó mozgássá, alakítják egy mágneses mező segítségével. Ezek a legelterjettebb motorfajták, mivel folytonos mozgást biztosítanak, szabályozható az irányuk és sebességük. Általánosságban két részből állnak, sztátor (álló rész) és rotor (forgó rész). \n",
    "\n",
    "Az életünk szinte minden részén megfordulnak ezek a motorok, a ventillátorokban, fúrókban, emelőkben, vonatokban, robotikában stb.\n",
    "\n",
    "Lényegében két fajta DC motort különböztetünk meg:\n",
    "\n",
    "* Szénkefés DC motor (Brushed DC motor) - a szénkeféken keresztül jut az áram a rotor tekercseibe (lásd lejjebb). A szénkefék érintkeznek a rotor tengelyén lévő kommutátorral, ami az áram folyási irányát változtatja a tekercsben. A szervo motor egy speciális, pozíció felismeréssel ellátott DC motor.\n",
    "\n",
    "* Szénkefe nélküli DC motor (Brushless DC motor, BLDC) - ebben a típusban a rotoron állandó mágnesek vannak a sztátoron pedig a tekercsek. A kommutálást itt Hall-kapcsolókkal oldják meg, elektronikusan. Általánosságban ezeknek jobb a forgatónyomaték és sebesség karakterisztikáik, és hosszabb az élettartalmuk, de drágábbak is."
   ]
  },
  {
   "cell_type": "markdown",
   "metadata": {},
   "source": [
    "### Hogyan működnek a DC motorok?"
   ]
  },
  {
   "cell_type": "markdown",
   "metadata": {},
   "source": [
    "Az egyenáramú motor működése a mágneses pólusok vonzásán és taszításán alapul. A motor két kivezetésére rákapcsoljuk az áramforrás pozítív és negatív kivezetését. Egy mágneses térben elhelyezett tekercsbe ha áramot vezetünk, akkor az indukálódott elektromágneses mező kölcsönhatásba lép az állandó mágnesek erőterével aminek hatására az amatúra (a tekercs, ami a motor forgó része) elmozdul. Ha az álló és forgórész pólusa azonos akkor vonzzák, ha ellentétes akkor taszítják egymást. A mágneses kölcsönhatást a mágnesek és a tekercsek között a szerkezet úgy állítja be, hogy az állandóan taszító legyen, amíg áram folyik a tekercsekben, így a forgó mozgás biztosított. "
   ]
  },
  {
   "cell_type": "markdown",
   "metadata": {},
   "source": [
    "<img src=\"Electric_motor_cycle_2.png\" width=300 height=300 />"
   ]
  },
  {
   "cell_type": "markdown",
   "metadata": {},
   "source": [
    "<center>Külső rész, sztátor, állandó mágnesek, kék - észeaki pólus, piros - déli pólus; Belső rész a rotor, egy tengelyre rögzített tekerccsel aminek a kivezetései a tengelyen lévő kommutátorhoz vannak kötve; szénkefék a (+) és (-) potenciállal érintkeznek a tengelyen levő kommutátorral. Forrás: CC BY-SA 3.0, https://commons.wikimedia.org/w/index.php?curid=671803</center>"
   ]
  },
  {
   "cell_type": "markdown",
   "metadata": {},
   "source": [
    "A motor sebessége arányos a rákapcsolt feszültséggel, míg a forgatónyomatéka a rajta áthaladó áramerősséggel arányos (amit szabályozni lehet még a tengelyre szerelt fogaskerekekkel). Ha szeretnénk, hogy gyorsabban forogjon, átlagosan nagyobb feszültséget kell rá kapcsolni. Egyik módja ennek az eléréséhez az impulzushossz moduláció (Pulse Width Modulation - PWM). Emellett ha megcseréljük a táp pólusait, felcserélhetjük a motor forgási irányát. Erre is létezik több megoldás, de mi az ún. H-hídakkal fogunk röviden foglalkozni."
   ]
  },
  {
   "cell_type": "markdown",
   "metadata": {},
   "source": [
    "### A DC motorok irányítása"
   ]
  },
  {
   "cell_type": "markdown",
   "metadata": {},
   "source": [
    "A DC motorok megindítása relatív egyszerű, tápfeszültséget kell rájuk kapcsolni és működnek. A hobbi DC motorok 4.5 V-tól 36 V-ig is előfordulhatnak. Ezt a feszültséget kell szabályozni PWM üzzemmódban, hogy a motor sebességét szabályozhassuk. A PWM üzemmódról részletesebben a szervo motorok fejezetben írunk. A szervo motoroknál a PWM üzemmód a motor szögelfordulását szabályozza. \n",
    "\n",
    "Mivel a villanymotorok, ha derektbe kötjük őket az áramra, egy irányba és adott sebességgel forognak, ezért ha irányítani akarjuk, egy motorvezérlő áramkörre, pl. egy úgynevezett H-hídra van szükségünk. Ez egy elektromos áramkör ami a bemenő jeleknek megfelelően viszi át az energiát a motorra. A megfelelő lábakra bekötve a motorunkat, programozással vezérelhetjük a forgás irányát és sebességét. \n",
    "\n",
    "Többfajta motorvezérlő létezik és mindegyiknek más specifikációik vannak, pl. mekkora feszültségtartományon dolgoznak, mekkora áramerősséget képesek elviselni, hány motort lehet rájuk kapcsolni stb. Teljességre való törekvés nélkül felsorolunk néhányat. \n",
    "\n",
    "* DRV8835\n",
    "* ULN2003\n",
    "* L298N\n",
    "* L293D\n",
    "* SN754410.\n",
    "\n",
    "Az adatlapjuk tartalmazza a karakterisztikáikat. \n",
    "\n",
    "Még a kis 5 V-os DC motoroknak is magas kezdő húzó áramerőssége van, elérheti a 300-400 mA-t. Normál működés esetén is lehet akár 150-200 mA. Ezek magas áramerősségek a mikrokontrollerek részére mint az Arduino vagy a Raspberry Pi. Ezért ezeket a motorokat **soha** nem szabad direktbe rájuk kötni, mert az a mikrokontroller károsodásához vezethet. "
   ]
  },
  {
   "cell_type": "markdown",
   "metadata": {},
   "source": [
    "### A szervo motor Raspberry Pi-re csatlakoztatása"
   ]
  },
  {
   "cell_type": "markdown",
   "metadata": {},
   "source": [
    "A motor vezérlőknek fontos szerepük van ebben az esetben, a vezérlő jelet a Raspberry Pi-ról kapják míg a meghajtóerőt egy különálló árramforrásról.\n",
    "Motor Driver play an important role in this situation. They take the control signals from Raspberry Pi and provide the necessary drive current to the motor from the power supply.\n",
    "\n",
    "In this project, the motor driver (L293D) is given with two control signals from Raspberry Pi through GPIO Pins. As per the Python Program, the motor will rotate in either forward or reverse direction. "
   ]
  },
  {
   "cell_type": "markdown",
   "metadata": {},
   "source": [
    "### Referencia"
   ]
  },
  {
   "cell_type": "markdown",
   "metadata": {},
   "source": [
    "1) Magyar - [https://harsanyireka.blog.hu/2014/06/21/12_153](https://harsanyireka.blog.hu/2014/06/21/12_153)\n",
    "\n",
    "2) [https://www.electronics-tutorials.ws/io/io_7.html](https://www.electronics-tutorials.ws/io/io_7.html)\n",
    "\n",
    "3) Magyar - [https://hu.wikipedia.org/wiki/Villanymotor](https://hu.wikipedia.org/wiki/Villanymotor)\n",
    "\n",
    "4) [https://en.wikipedia.org/wiki/DC_motor](https://en.wikipedia.org/wiki/DC_motor)\n",
    "\n",
    "5) [https://www.aranacorp.com/en/control-a-dc-motor-with-raspberry-pi/](https://www.aranacorp.com/en/control-a-dc-motor-with-raspberry-pi/)\n",
    "\n",
    "6) [https://medium.com/@Keithweaver_/controlling-dc-motors-using-python-with-a-raspberry-pi-40-pin-f6fa891dc3d](https://medium.com/@Keithweaver_/controlling-dc-motors-using-python-with-a-raspberry-pi-40-pin-f6fa891dc3d)\n",
    "\n",
    "7) [https://projects.raspberrypi.org/en/projects/build-a-buggy](https://projects.raspberrypi.org/en/projects/build-a-buggy)\n",
    "\n",
    "8) [https://howchoo.com/g/mjg5ytzmnjh/controlling-dc-motors-using-your-raspberry-pi](https://howchoo.com/g/mjg5ytzmnjh/controlling-dc-motors-using-your-raspberry-pi)\n",
    "\n",
    "9) [https://maker.pro/raspberry-pi/projects/raspberry-pi-dc-motor-control-with-custom-board](https://maker.pro/raspberry-pi/projects/raspberry-pi-dc-motor-control-with-custom-board)\n",
    "\n",
    "10) [https://www.electronicshub.org/controlling-a-dc-motor-with-raspberry-pi/](https://www.electronicshub.org/controlling-a-dc-motor-with-raspberry-pi/)\n",
    "\n",
    "11) [https://www.instructables.com/id/DC-Motor-Control-With-Raspberry-Pi-and-L293D/](https://www.instructables.com/id/DC-Motor-Control-With-Raspberry-Pi-and-L293D/)\n",
    "\n",
    "12) [https://business.tutsplus.com/tutorials/controlling-dc-motors-using-python-with-a-raspberry-pi--cms-20051](https://business.tutsplus.com/tutorials/controlling-dc-motors-using-python-with-a-raspberry-pi--cms-20051)\n",
    "\n",
    "13) Motor meghajtó lista - [https://wonderfulengineering.com/10-best-motor-drivers-for-raspberry-pi/](https://wonderfulengineering.com/10-best-motor-drivers-for-raspberry-pi/)"
   ]
  },
  {
   "cell_type": "markdown",
   "metadata": {},
   "source": [
    "## Szervo motor"
   ]
  },
  {
   "cell_type": "markdown",
   "metadata": {
    "cell_style": "center"
   },
   "source": [
    "A szervo motorok olyan önálló elektromos eszközök amik nagy pontossággal forgatnak vagy tolnak/húznak elemeket egy szerkezetben. A szervo motorok a DC motor egy típusai amik képesek egy meghatározott szögben elfordulni. Ami megkülönbözteti a szervo motort a DC motortól az az, hogy szabályozhatod a szervo motor elfordulási szögét, míg a DC motornál lényegében csak azt, hogy be van-e kapcsolva vagy sem. A szervo, amíg be van kapcsolva, egyfolytában ellenőrzi és tartja a megadott pozícióját. Ha ki akarnánk mozdítani a helyzetéből, ellenállna. \n",
    "\n",
    "Szervo motorok nagyon sok területen előfordulnak pl. robot kezekben, CNC gépekben, autókban, CD/DVD lejátszókban stb. A repülőgépekben a szervo és a hozzá kapcsolódó hidraulikus technológia szabályozza pl. a gép szárnyainak szögét. A szervok különböző méretben léteznek, a nagy teljesítményűek pl. egy robot kezét mozgatják, míg a kisebbek pl. kis játékautókban fordulnak elő. "
   ]
  },
  {
   "cell_type": "markdown",
   "metadata": {},
   "source": [
    "### Hogyan működnek a szervo motorok?"
   ]
  },
  {
   "cell_type": "markdown",
   "metadata": {
    "cell_style": "center"
   },
   "source": [
    "Ahogy említettük már a szervo motorok igazából egy DC motorból állnak. Ezeket áram hajtja meg és képesek nagy fordulatszámmal pörögni (RPM - Rotatations Per Minute), viszont nagyon kis forgató nyomatékot képesek leadni (forgató nyomatékot alkalmazunk forgó mozgások létrehozásához, pl. egy ajtó kinyitásához). Mindeközben a motor működéséhez egy adott munka kellett ($W = T \\dot \\theta$, ahol $W$ a munka, $T$ a forgatónyomaték és $\\theta$ az elfordulás szöge). Speciális fogaskerék láncolattal lecsökkenthetjük a fordulatszámot, azaz ugyanannyi munka befektetésével kevesebb elfordulást ($\\theta$) érünk el. Mivel a munka állandó, kisebb elfordulás mellett a szervo motor nagyobb forgatónyomatékot képes kifejteni. Felhasználás függvényében a kifejtendő forgatónyomaték, illetve a forgás sebessége változik, ami miatt fontos, hogy egy adott feladathoz a megfelelő paraméterekkel rendelkező szervo motort válasszunk. Általában a nagyobb forgatónyomatékú és minőségesebb szervok drágábbak is. \n",
    "\n",
    "Az olcsóbb és kisebb szervokban sokszor potenciométereket alkalmaznak a feszültség mérésére az elfordulás függvényében. Ez egy kis áramkörhöz van kapcsolva. A potenciométer megmondja az áramkörnek, hogy mennyit fordult el a motor, amit az összevet a beadott értékkel és utasítja a motort, hogy mozduljon a megfelelő irányba. "
   ]
  },
  {
   "cell_type": "markdown",
   "metadata": {
    "cell_style": "center"
   },
   "source": [
    "A szervo az utasításokat impulzussorozatok formájában kapja pl. egy számítógéptől. Impulzusnak nevezzük az átmenetet alacsony feszültségből magasba, amiben egy bizonyos ideig meg is marad, majd ismét alacsonyba megy vissza (illetve ennek a folyamatnak a fordítotját is). Impulzus sorozat ezen impulzusok időközönkénti ismétlődése. Elektronikában az alacsony állapotot általában a földdel vagy 0 V-tal azonosítjuk, míg a magas állapot a tápunk feszültége. A hobbi szervok 4.5-6 V-os tartományban működnek.\n",
    "\n",
    "Két impulzus beérkezése közti időt hívjuk periódusnak (*T (s)*), míg ennek a reciprokát hívjuk frekvenciának (*f (Hz)*). A magas feszültségben eltöltött időt pedig kitöltési tényezőnek (*duty cycle (s)*) nevezzük. A szervo elfordulási szögét evvel a kitöltési tényezővel szabályozhatjuk. A kitoltési idő változtatását impulzus-szélesség modulációnak (PWM - Pulse Width Modulation) hívjuk. A lenti ábrán egy 3 impulzusból álló impulzussorozatot látunk, aminek a kitöltési idejét változtatjuk. Az impulzussorozat periódusa 20 ms, amplitudója 5 V, és a kitöltési tényezője 2 ms-tól (10 %) változik 20 ms-ig (100 %), amikor már eltűnnek az impulzusok és helyette konstans magas (5 V) feszültségi állapotban van. \n",
    "\n",
    "A legtöbb hobbi szervo motort 50 Hz-es bemeneti jelre tervezték, ami azt jelenti, hogy az impulzusok 20 ms-ként ismétlik egymást (lást az ábrát lejjebb). Ez az ismétlés biztosítja a szervot arról, hogy folyamatosan tartani tudja a pozícióját. A legtöbb szervo csak 0 és 180 fok között képes forogni. A vezérléshez tartozó értékeket a szervo adatlapján lehet elolvasni, pl. az MG90S szervoé [itt](https://www.electronicoscaldas.com/datasheet/MG90S_Tower-Pro.pdf) található. \n",
    "\n",
    "A szervo vezérléséhez azt egy feszültségforráshoz kell kapcsolni (4.5-6 V) és ezen felül a vezérlő jelnek (50 Hz-en) egy számítógépről (Raspberry Pi) vagy más áramkörről kell jönnie. A vezérlőjel szélessége általában 1 ms (5%-os kitöltési tényező) és 2 ms (10%-os kitöltési tényező) között van, ami felelős a 180 fokos elfordulásért. Pl. az MG90S szervo esetében az adatlap szerint 1.5 ms-os impulzus hossz felel meg a középponti pozíciónak ($0^{\\circ}$), 2 ms-os impulzus hossz felel meg az egyik végállapotnak ($90^{\\circ}$), míg 1 ms-os impulzus hossz felel meg a másik végállapotnak ($-90^{\\circ}$), "
   ]
  },
  {
   "cell_type": "markdown",
   "metadata": {},
   "source": [
    "<img src=\"PWM_duty_cycle_animation_compressed.gif\" width=800 height=600 />"
   ]
  },
  {
   "cell_type": "markdown",
   "metadata": {},
   "source": [
    "<center>A gif Joshua Hrisko írásából lett kimásolva, https://makersportal.com/blog/2020/3/21/raspberry-pi-servo-panning-camera</center>"
   ]
  },
  {
   "cell_type": "markdown",
   "metadata": {},
   "source": [
    "### A szervo motor Raspberry Pi-re csatlakoztatása"
   ]
  },
  {
   "cell_type": "markdown",
   "metadata": {},
   "source": [
    "A legtöbb mikrovezérlőn illetve egykártyás számítógépen találsz PWM kimenetet. A Raspberry Pi 3B+ két hardveres illetve több szoftveres kimenettel rendelkezik. A 40 pines Raspberry Pi 3B+-on 4 db hardware-es PWM üzemmódú pin van, ahol a GPIO12 és GPIO18 ugyanazokkal a paraméterekkel rendelkezik, illetve a GPIO13 és GPIO19 egy másik paraméterű csoportot alkot. Mindemellett az összes többi GPIO pint is be lehet állítani PWM üzemmódba szoftveresen, de lehet, hogy azoknak a stabilitása gyengébb a hardware-es verziójukhoz képest. \n",
    "\n",
    "A kisebb szervo motorok, mint pl. a MG90S nem igényelnek nagy áramerősséget a működéshez, de ez nem igaz az összes szervora. Annak ellenére, hogy a Raspberry Pi tud 5 V-os feszültségforrást biztosítani, nem feltétlenül biztonságos ezt rákapcsolni tápként a szervora. Ugyanis, ha a szervot leterheljük akkor nagyobb árammennyiséget húzna, amit a Raspberry Pi nem tudna elviselni és valószínűleg tartós károsodást szenvedne. Hogy a lenti kapcsolási rajzon is mutatjuk, teljes biztonságot adó megoldás a szervo független 5V-os tápegységről történő működtetése pl. 4 AAA elem sorbakapcsolásával. Ebben az esetben a táp negatív potenciálú pontját (fekete drót) a Raspberry Pi tetszőleges GND tüskéjével kell összekötni amit szintén rá kell kötni a szervo negatív fülére (fekete drót). A táp pozitív végét pedig a szervo pozitív végére kapcsoljuk (piros drót). Evvel biztosítjuk a megfelelő energiaforrást a szervo részére illetve megakadályozhatjuk, hogy nagyobb áramerősség folyjon át a Raspberry Pi tüskéin. \n",
    "\n",
    "A szervo motor vezérlése annak a vezérlő fülén keresztül történik (általában, sárga, narancssárga, fehér vagy kék színű). A biztonság kedvéért érdemes elolvasni a drótok színkiosztását a használati útmutatóban. A rossz bekötés a szervo tönkretételéhez vezethet. A vezérléshez a szervonak nincs szüksége nagy teljesítményre így azt a Raspberry Pi bármelyik 3.3 V-os GPIO tüskéjéről elintézhetjük. A rajzon, ahogy korábban már említettük, mi a GPIO18-as jelű tüskéhez kötöttük, mert ez rendelkezik hardware-es PWM üzemmóddal. Ennek a tüskének a kitöltési idejének a szabályozásával vezérelhetjük a szervo elfordulásának szögét. \n",
    "\n",
    "Ha attól tartanánk, hogy valamilyen okból, pl. egy erősebb szervonál, a vezérlő dróton is keletkezhetne nagyobb áramerősség, akkor a tüske és a szervó közé beköthetünk egy 1 k$\\Omega$ értékű ellenállást (lásd [6]-os referencia). "
   ]
  },
  {
   "cell_type": "markdown",
   "metadata": {},
   "source": [
    "<img src=\"bevezeto_szervo.png\" width=600 height=400 />"
   ]
  },
  {
   "cell_type": "markdown",
   "metadata": {},
   "source": [
    "### Referencia"
   ]
  },
  {
   "cell_type": "markdown",
   "metadata": {},
   "source": [
    "1) [https://www.pololu.com/blog/12/introduction-to-servos](https://www.pololu.com/blog/12/introduction-to-servos)\n",
    "\n",
    "2) [https://www.pololu.com/blog/16/electrical-characteristics-of-servos-and-introduction-to-the-servo-control-interface](https://www.pololu.com/blog/16/electrical-characteristics-of-servos-and-introduction-to-the-servo-control-interface)\n",
    "\n",
    "3) [https://www.pololu.com/blog/17/servo-control-interface-in-detail](https://www.pololu.com/blog/17/servo-control-interface-in-detail)\n",
    "\n",
    "4) Magyarul - [http://www.malnasuli.hu/oktatas/szervomotor-vezerlese-raspberry-pi-vel/](http://www.malnasuli.hu/oktatas/szervomotor-vezerlese-raspberry-pi-vel/)\n",
    "\n",
    "5) [https://gpiozero.readthedocs.io/en/stable/api_output.html#servo](https://gpiozero.readthedocs.io/en/stable/api_output.html#servo)\n",
    "\n",
    "6) [http://razzpisampler.oreilly.com/ch05.html](http://razzpisampler.oreilly.com/ch05.html)\n",
    "\n",
    "7) [https://www.raspberrypi.org/blog/how-to-use-a-servo-motor-with-raspberry-pi/](https://www.raspberrypi.org/blog/how-to-use-a-servo-motor-with-raspberry-pi/)\n",
    "\n",
    "8) [https://www.learnrobotics.org/blog/raspberry-pi-servo-motor/](https://www.learnrobotics.org/blog/raspberry-pi-servo-motor/)\n",
    "\n",
    "9) [https://www.instructables.com/id/Servo-Motor-Control-With-Raspberry-Pi/]([https://www.instructables.com/id/Servo-Motor-Control-With-Raspberry-Pi/)\n",
    "\n",
    "10) [https://makersportal.com/blog/2020/3/21/raspberry-pi-servo-panning-camera](https://makersportal.com/blog/2020/3/21/raspberry-pi-servo-panning-camera)\n",
    "\n",
    "11) [https://makersportal.com/blog/2020/3/14/arduino-servo-motor-control](https://makersportal.com/blog/2020/3/14/arduino-servo-motor-control)"
   ]
  },
  {
   "cell_type": "markdown",
   "metadata": {},
   "source": [
    "## Léptető (stepper) motor"
   ]
  },
  {
   "cell_type": "markdown",
   "metadata": {},
   "source": [
    "### Referencia"
   ]
  },
  {
   "cell_type": "code",
   "execution_count": null,
   "metadata": {},
   "outputs": [],
   "source": []
  }
 ],
 "metadata": {
  "kernelspec": {
   "display_name": "Python 3",
   "language": "python",
   "name": "python3"
  },
  "language_info": {
   "codemirror_mode": {
    "name": "ipython",
    "version": 3
   },
   "file_extension": ".py",
   "mimetype": "text/x-python",
   "name": "python",
   "nbconvert_exporter": "python",
   "pygments_lexer": "ipython3",
   "version": "3.7.3"
  },
  "toc": {
   "base_numbering": 1,
   "nav_menu": {},
   "number_sections": true,
   "sideBar": true,
   "skip_h1_title": false,
   "title_cell": "Table of Contents",
   "title_sidebar": "Contents",
   "toc_cell": false,
   "toc_position": {},
   "toc_section_display": true,
   "toc_window_display": false
  }
 },
 "nbformat": 4,
 "nbformat_minor": 4
}
