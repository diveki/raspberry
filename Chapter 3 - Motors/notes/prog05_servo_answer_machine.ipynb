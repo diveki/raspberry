{
 "cells": [
  {
   "cell_type": "markdown",
   "metadata": {},
   "source": [
    "# Projekt 6 - Mindenre válaszoló gép"
   ]
  },
  {
   "cell_type": "markdown",
   "metadata": {},
   "source": [
    "A vidámparkok gyakori automatája szokott lenni egy olyan gép, amibe ha pénzt dobunk és felteszünk neki egy kérdést (legtöbbször a jövőnkkel kapcsolatban), akkor ad rá valami választ. \n",
    "\n",
    "Arra gondoltatok, hogy megviccelitek a barátaitokat és készítetek egy ilyen gépet ami képes választ adni bármilyen kérdésre. Persze, azt nem közlitek velük, hogy ennek a válasznak nem lesz semmilyen tudományosan megalapozott háttere vagy érzelmi töltete. Lényegében teljesen véletlenszerű válaszokat fog generálni, ami kérdéstől függően akár elég vicces szituációba hozhatja a barátotokat. "
   ]
  },
  {
   "cell_type": "markdown",
   "metadata": {},
   "source": [
    "## Mit fogsz készíteni?"
   ]
  },
  {
   "cell_type": "markdown",
   "metadata": {},
   "source": [
    "Egy SG90 típusú szervo motorból és 1 nyomógombból álló rendszert építünk, amit a Raspberry Pi-hoz kapcsolunk. A nyomógombbal állítjuk el a programunkat, ha be akarjuk fejezni a játékot. A motor tengelyére egy kart szerelünk, ami a mögötte álló papírlapra rajzolt válaszok közül fog egyet kiválasztani, miután begépeltünk egy kérdést. Három válasz lehetőség lesz a papírlapon, igen, nem, talán. Tehát, olyan kérdéseket vár a gép, amikre ilyen válaszokat lehet adni. Ha nem ilyen jellegű kérdést kapna, akkor kiírja a képernyőre, hogy a kérdés jellege nem jó. **Megjegyzés: Mindig használjunk megfelelő drivert a motorral összekötve, hogy csökkentsük bármelyik eszköz károsodásának lehetőségét.**"
   ]
  },
  {
   "cell_type": "markdown",
   "metadata": {},
   "source": [
    "## Mit tanulsz meg?"
   ]
  },
  {
   "cell_type": "markdown",
   "metadata": {},
   "source": [
    "A válaszológép elkészítésével a következőket tanulod meg:\n",
    "\n",
    "* Hogyan tudsz egy szervo motort egy áramkörbe beiktatni egy nyomó gombbal együtt.\n",
    "* Hogyan programozd be a Raspberry Pi GPIO kimeneteleit a **gpiozero** modullal.\n",
    "* **continue** használatát.\n",
    "* Hogyan készítsünk fel egy lista tartalmát az elemzésre, pl. hogy tartalmaz-e egy előre definiált elemet.\n",
    "* String műveleteket: *lower(), unidecode(), replace(), split()*.\n",
    "* Egy listából egy random elemet kiválasztani.\n",
    "* Szöveg beolvasása változóba *input*-tal."
   ]
  },
  {
   "cell_type": "markdown",
   "metadata": {},
   "source": [
    "## A projekt részletekre bontása"
   ]
  },
  {
   "cell_type": "markdown",
   "metadata": {},
   "source": [
    "* Elkészíteni az áramkört.\n",
    "* Inicializálni a Servo, AngularServo és nyomógomb objektumokat.\n",
    "* Letesztelni a szervo mozgástartományát szögekben, és avval inicializálni az AngularServo-t.\n",
    "* Definiálni az igen, nem és talán válaszokhoz tartozó szögeket és egy listában tárolni.\n",
    "* Definiálni egy listában azokat a kérdőszavakat, amik nem felelnek nekünk meg, hogy kiszűrjük őket.\n",
    "* Definiálni egy függvényt ami kilép a pythonból.\n",
    "* Definiálni egy függvényt, ami kiszűri, hogy a begépelt kérdés megfelelő típusú-e.\n",
    "* Definiálni egy függvényt ami a három válasz közül random választ egyet.\n",
    "* Nyomógombhoz hozzárendelni a kilépés függvényt.\n",
    "* Végtelen ciklusban beolvasni a kérdést, leellenőrízni, hogy megfelel-e, ha igen válaszolni, ha nem, akkor kiírni, hogy rossz típusú kérdés."
   ]
  },
  {
   "cell_type": "markdown",
   "metadata": {},
   "source": [
    "## Áramköri elemek listája"
   ]
  },
  {
   "cell_type": "markdown",
   "metadata": {},
   "source": [
    "a) [Raspberry PI](https://malnapc.hu/yis/raspberry-pi/rpi-panelek) \n",
    "\n",
    "b) SG90 Servo motor: [itt vásárolhatsz](https://www.tme.eu/hu/details/oky8003/szervomotorok/okystar/)\n",
    "\n",
    "c) [Jumper wires female/male](https://www.ret.hu/shop/product/e-call/jumper-vezetek-szet_53-22-63) \n",
    "\n",
    "d) 1 db nyomó gomb: [itt vásárolhatsz](https://hu.farnell.com/schurter/1301-9320/switch-smd-push-12-5mm/dp/1217772?gclid=Cj0KCQjwzZj2BRDVARIsABs3l9K-ACTnuRr-dLVcDUKleNfECM3H3kWS_RfWtmXGMXVJeY9otda4dDcaAvGLEALw_wcB&gross_price=true&mckv=sSFnjERxR_dc|pcrid|434487710397|plid||kword||match||slid||product|1217772|pgrid|101346804139|ptaid|pla-389347076066|&CMP=KNC-GHU-SHOPPING-switches-relays-NEWSTRUCTURE-13-MAY-20) vagy [építhetsz]()\n",
    "\n",
    "e) 4 db AAA vagy AA [ceruza elem]()\n",
    "\n",
    "f) Kb. 10x10x2 cm-es hungarocell lap\n",
    "\n",
    "g) Hátlap igen, nem és talán válaszokkal pl. [Picúros mintájú]()"
   ]
  },
  {
   "cell_type": "markdown",
   "metadata": {},
   "source": [
    "## A kapcsolási rajz"
   ]
  },
  {
   "cell_type": "markdown",
   "metadata": {},
   "source": [
    "<img src=\"bevezeto_szervo.png\" width=600 height=400 />"
   ]
  },
  {
   "cell_type": "markdown",
   "metadata": {},
   "source": [
    "### Kapcsolási rajz részletező"
   ]
  },
  {
   "cell_type": "markdown",
   "metadata": {},
   "source": [
    "A fenti ábrához hasonlóan kapcsoljuk össze az áramköri elemeket és a Raspberry Pi-t. Az áramkör részletes összekötési magyarázata a [Motorok]() című bevezető leírásban található.\n",
    "\n",
    "1) A szervo motoroknak három kivezetése van. Kettő közülük a motor forgatásáért felel, a harmadik pedig a pozíció vezérléséért felel és nincs összekapcsolva a másik kettővel. Igazából nagy a valószínűsége, hogy bármely szervo esetén, a kimeneti drótok nincsenek direkt összekapcsolva a motorral, hanem egy nekik megfelelő driveren keresztül vannak összekötve. Ettől függetlenül, a szignál drót kilétét úgy tudjuk megállapítani, hogy megnézzük melyik drót nincs összekötve a többivel. Arra a drótra kell a PWM jelet kapcsolni. A másik kettőre elviekben mind a + és - tápot is lehet kötni.\n",
    "\n",
    "2) Kössük a szignál drótját a Raspberry Pi *GPIO18*-as tüskéjéhez. \n",
    "\n",
    "3) Kapcsoljuk a külső tápunkat a szervo maradék két drótjára. \n",
    "\n",
    "4) A Raspberry Pi bármelyik földjét kössük össze a táp és a motor negatív (-) drótjával.\n",
    "\n",
    "5) Illesszünk be egy nyomógombot a breadboardba és annak egyik lábát kapcsoljuk a földelésre a másikat pedig a *GPIO22*-es tüskére.\n",
    "\n",
    "**Kétszer is ellenőrizzük le, hogy a bekötésünk rendben van-e. A félrekötött tüskék nagyban növelik a motor vagy a Raspberry Pi tökremenési esélyeit. A motort SEMMIKÉPP SE tápláljuk és irányítsük direktben a Raspberry Pi-ről, mert az szinte biztosan a számítógép sérükéséhez vezet.**"
   ]
  },
  {
   "cell_type": "markdown",
   "metadata": {},
   "source": [
    "### Projekt összeszerelési útmutató"
   ]
  },
  {
   "cell_type": "markdown",
   "metadata": {},
   "source": [
    "<img src=\"lucky_wheel_1.jpg\" width=600 height=400 />"
   ]
  },
  {
   "cell_type": "markdown",
   "metadata": {},
   "source": [
    "A szerencsekerék összeszereléséhez a fenti képen látható elemek fognak kelleni. Egy alapzat (hungarocell), egy duncosgumi, egy motor és egy keménylapra ragasztott szerencsekerék papír."
   ]
  },
  {
   "cell_type": "markdown",
   "metadata": {},
   "source": [
    "<img src=\"lucky_wheel_2.jpg\" width=600 height=400 />"
   ]
  },
  {
   "cell_type": "markdown",
   "metadata": {},
   "source": [
    "Kb. 20x20x2 cm-es hungarocell lapot vágjunk ki, aminek nagyjából a közepét kb. 1x1 cm-es méretben átlukasztjuk. A hungarocell egyik sarkába helyezzünk (egyelőre ne ragasszuk oda) egy nyíl alakú jelzést (akár papírból is lehet, a lényeg, hogy csúcsos legyen a lyuk felé). Ez a nyíl fogja jelezni a szerencsekeréken, hogy melyik nyereményt kapjuk. "
   ]
  },
  {
   "cell_type": "markdown",
   "metadata": {},
   "source": [
    "<img src=\"lucky_wheel_3.jpg\" width=600 height=400 />"
   ]
  },
  {
   "cell_type": "markdown",
   "metadata": {},
   "source": [
    "Ezután rögzítsük a motort a hungarocellhez egy duncosgumival. Ha kell használjunk kettő duncosgumit, vagy bármilyen más leszorítást. A lényeg, hogy a motor forgása közben maga a motor teste ne mozogjon, csak a tengelye forogjon. "
   ]
  },
  {
   "cell_type": "markdown",
   "metadata": {},
   "source": [
    "<img src=\"lucky_wheel_4.jpg\" width=600 height=400 />"
   ]
  },
  {
   "cell_type": "markdown",
   "metadata": {},
   "source": [
    "Végül helyezzük a szerencsekerék lapját a motor tengelyére. Győződjünk meg róla, hogy a lap nem lötyög és nem esik le könnyen. Egyben igazítsunk a nyílacska pozícióján ha kell úgy, hogy felülről a lapra nézve egyértelműen lássuk melyik mezőre mutat a nyíl. Ha ez meg van, ragasszuk a nyílat a hungarocellhez."
   ]
  },
  {
   "cell_type": "markdown",
   "metadata": {},
   "source": [
    "## A kód\n",
    "Nyissunk meg egy új python fájlt és mentsük el pl. ```servo_answer.py``` név alatt."
   ]
  },
  {
   "cell_type": "markdown",
   "metadata": {},
   "source": [
    "### A szervo motor kipróbálása"
   ]
  },
  {
   "cell_type": "markdown",
   "metadata": {},
   "source": [
    "Miután elkészítettük az áramkört, meg kell írnunk a kódot ami utasítja a Raspberry Pi-t, a motor mozgatására.\n",
    "\n",
    "Először betöltjük a ```gpiozero``` modulból a ```Servo``` objektumot ami lehetővé teszik, hogy a Raspi kommunikáljon a motorral a hozzá tartozó vezérlővel a **GPIO** tüskéken keresztül. Még beimportáljuk az ```AngularServo``` objektumot, ami ugyanaz mint a ```Servo```, csak a pozíciót szögekben lehet megadni, valamint a ```Button``` objektumot a gombok érzékeléséhez. \n",
    "\n",
    "Továbbá szükségünk lesz:\n",
    "\n",
    "* az ```unidecode``` csomagra, amit arra használunk, hogy a beírt kérdésekben a magyar ékezetes betűkből eltüntessük az ékezetet,\n",
    "* a ```sys``` csomagra, hogy a gomb lenyomásával ki tudjunk lépni a pythonból, \n",
    "* a ```random``` csomagra, hogy véletlenszerű válaszokat generálhassunk,\n",
    "* a ```time``` csomagra, hogy szünetet vigyünk a python lefütásába adott esetben."
   ]
  },
  {
   "cell_type": "markdown",
   "metadata": {},
   "source": [
    "```servo_answer.py```:"
   ]
  },
  {
   "cell_type": "code",
   "execution_count": null,
   "metadata": {},
   "outputs": [],
   "source": [
    "from gpiozero import Servo, AngularServo, Button\n",
    "import unidecode  # pip or conda install might be needed\n",
    "import sys, random\n",
    "import time"
   ]
  },
  {
   "cell_type": "markdown",
   "metadata": {},
   "source": [
    "A csomagok és objektumok beolvasása után az első dolgunk a szervo motor letesztelése. Ehhez inicializálunk egy ```Servo``` objektumot és mozgatjuk a minimum és maximum pozíciója között. A szervohoz szükséges jelet a Raspberry *GPIO18*-as tüskéjéhez kötjük, mert az képes hardweres PWM üzemmódban működni. "
   ]
  },
  {
   "cell_type": "markdown",
   "metadata": {},
   "source": [
    "```servo_answer.py```:"
   ]
  },
  {
   "cell_type": "code",
   "execution_count": null,
   "metadata": {},
   "outputs": [],
   "source": [
    "from gpiozero import Servo, AngularServo, Button\n",
    "import unidecode  # pip or conda install might be needed\n",
    "import sys, random\n",
    "import time\n",
    "\n",
    "motor = Servo(18)\n",
    "motor.min()  # measure angle\n",
    "motor.max()  # measure angle again"
   ]
  },
  {
   "cell_type": "markdown",
   "metadata": {},
   "source": [
    "Tegyük a szervo motor mögé a válasz táblát és figyeljük meg, hogy a végpozíciókhoz képest milyen szög értéket kell a mutatónak felvennie, hogy egy adott válaszra mutasson. Ez fontos, hogy az ```AngularServo``` esetén egy adott válasz megjelenítéséhez tudjunk milyen szöget kell társítani. \n",
    "\n",
    "Tegyük fel, hogy a motor mozgástartománya a -90 foktól +90 fokig terjed. Rendeljük ezeket a szögeket egy-egy változóhoz és inicializáljunk velük egy ```AngularServo``` objektumot szintén a *GPIO18*-as tüskére. Még mielőtt ezt megtennénk, szüntessük meg a kommunikációt az előbb inicializált szervo motorral a ```motor.close()``` paranccsal, vagy lépjünk ki a pythonból és indítsuk újra.  "
   ]
  },
  {
   "cell_type": "markdown",
   "metadata": {},
   "source": [
    "```servo_answer.py```:"
   ]
  },
  {
   "cell_type": "code",
   "execution_count": 2,
   "metadata": {},
   "outputs": [],
   "source": [
    "from gpiozero import Servo, AngularServo, Button\n",
    "import unidecode  # pip or conda install might be needed\n",
    "import sys, random\n",
    "import time\n",
    "\n",
    "angle_min = -90\n",
    "angle_max = 90\n",
    "\n",
    "motor = AngularServo(18, min_angle = angle_min, max_angle=angle_max)\n",
    "motor.angle = None"
   ]
  },
  {
   "cell_type": "markdown",
   "metadata": {},
   "source": [
    "A végén rendeljük a motor szögéhez a ```None``` értéket, ez megszünteti a motor pozíció ellenőrzését és az utolsó megadott állapotában tartja a motort. Ha ezt nem tesszük, akkor az SG90-es motor nagyon kis szögben ugrándozik bizonytalanul az utolsó felvett pozíció körül egyfolytában aktívan tartva a motort. Ezért, általánosan érdemes bármely új pozíció felvétele után a ```None``` értéket rendelni a motor szögéhez."
   ]
  },
  {
   "cell_type": "markdown",
   "metadata": {},
   "source": [
    "### A gombok tesztelése"
   ]
  },
  {
   "cell_type": "markdown",
   "metadata": {},
   "source": [
    "Következő lépésben beimportáljuk a gombokért felelős ```Button``` objektumot is és definiálunk egy gombot, amit aa *GPIO22*-re kötjük. "
   ]
  },
  {
   "cell_type": "markdown",
   "metadata": {},
   "source": [
    "```servo_answer.py```:"
   ]
  },
  {
   "cell_type": "code",
   "execution_count": null,
   "metadata": {},
   "outputs": [],
   "source": [
    "from gpiozero import Servo, AngularServo, Button\n",
    "import unidecode  # pip or conda install might be needed\n",
    "import sys, random\n",
    "import time\n",
    "\n",
    "angle_min = -90\n",
    "angle_max = 90\n",
    "\n",
    "motor = AngularServo(18, min_angle = angle_min, max_angle=angle_max)\n",
    "motor.angle = None\n",
    "\n",
    "button_quit = Button(22)\n"
   ]
  },
  {
   "cell_type": "markdown",
   "metadata": {},
   "source": [
    "Ahhoz, hogy leteszteljük helyesen kötöttük-e be a gombot és, hogy működik, írunk egy segédfüggvényt ```test()```, amit a gomb lenyomásakor meghívunk majd. A függvény meghívásakor egyszerűen csak kiíratjuk a képernyőre, hogy a gombot megnyomtuk. Végül ezt a függvényt hozzá kell rendelnünk a gombhoz, méghozzá most a gomb lenyomásának pillanatához a ```when_pressed``` metódushoz."
   ]
  },
  {
   "cell_type": "markdown",
   "metadata": {},
   "source": [
    "```servo_answer.py```:"
   ]
  },
  {
   "cell_type": "code",
   "execution_count": null,
   "metadata": {},
   "outputs": [],
   "source": [
    "from gpiozero import Servo, AngularServo, Button\n",
    "import unidecode  # pip or conda install might be needed\n",
    "import sys, random\n",
    "import time\n",
    "\n",
    "angle_min = -90\n",
    "angle_max = 90\n",
    "\n",
    "motor = AngularServo(18, min_angle = angle_min, max_angle=angle_max)\n",
    "motor.angle = None\n",
    "\n",
    "button_quit = Button(22)\n",
    "\n",
    "def test():\n",
    "    print('Button is pressed')\n",
    "    \n",
    "button_quit.when_pressed = test\n",
    "\n",
    "while True:\n",
    "    pass"
   ]
  },
  {
   "cell_type": "markdown",
   "metadata": {},
   "source": [
    "A kód végén még elindítunk egy végtelen ciklust, ami nem csinál semmit, így csak a gombok lenyomása lesz az egyetlen egy esemény amit a számítógép jelezhet. \n",
    "\n",
    "Mentsük le a kódot és futtasuk le a pythonnal. Teszteljük, hogy a gombok lenyomására megjelenik-e az üzenet a képernyőn. "
   ]
  },
  {
   "cell_type": "markdown",
   "metadata": {},
   "source": [
    "### Válaszokhoz rendelhető szögek definiálása"
   ]
  },
  {
   "cell_type": "markdown",
   "metadata": {},
   "source": [
    "Elérkeztünk a projekt legfontosabb részéhez, a kerék forgatásához szükséges függvény definiálásához. Nevezzük el, ```start(button, m)``` függvénynek. Kettő bemenő paramétert fogad, az első a gomb, ```button```, amit lenyomunk, a második a motor, ```m```, objektuma.\n",
    "\n",
    "A függvény egyik feladata, hogy véletlenszerű ideig forgassa a kereket 0 és 5 másodperc között. Ehhez létrehozunk egy új változót, ```t_rot```, ami egy véletlenszerű valós szám értékét veszi fel 0 és 5 között, ```t_rot = random.uniform(0,5)```.\n",
    "\n",
    "Ugyanezt a módszert használjuk, hogy a függvényünk második feladatát végrehajtsuk, a véletlenszerű sebesség generálását. Ezt is egy változóhoz rendeljük hozzá, ```speed = random.uniform(0.6, 1)```. Itt 0,6-tól indítjuk a generálást, mert kisebb értékeknél lehet, hogy a motornak nehezére esne már forgatni a kereket (habár ez motor függő). \n",
    "\n",
    "Ha legeneráltuk a két véletlen számot, már csak alkalmaznunk kell őket. Először elkezdjük forgatni a motort a legenerált sebességgel, ```m.forward(speed=speed)```. Ezután hagyjuk azt forogni a legenerált forgási ideig, ```sleep(t_rot)```. Végül megállítjuk a motort, ```m.stop()```."
   ]
  },
  {
   "cell_type": "code",
   "execution_count": 1,
   "metadata": {},
   "outputs": [],
   "source": [
    "def start(button, m):\n",
    "    t_rot = random.uniform(0, 5)\n",
    "    speed = random.uniform(0.6, 1)\n",
    "    m.forward(speed=speed)\n",
    "    sleep(t_rot)\n",
    "    m.stop()"
   ]
  },
  {
   "cell_type": "markdown",
   "metadata": {},
   "source": [
    "A fent definiált függvény általánosan használható tetszőleges gombra és tetszőleges motorra, amiket megadunk bemenő paraméterként. Így ha egy feladatban több motort is kellene evvel a módszerrel forgatni, akkor mindegyikre alkalmazható lenne. "
   ]
  },
  {
   "cell_type": "markdown",
   "metadata": {},
   "source": [
    "### A nem megfelelő kérdőszavak listája"
   ]
  },
  {
   "cell_type": "markdown",
   "metadata": {},
   "source": [
    "Utolsó lépésként az előbb definiált függvényt beillesszük a kódunkba és hozzárendeljük gomb megfelelő metódusához, használva a ```lambda``` kifejezést, hiszen a gombok metódusai mindig függvényeket várnak értékül. Itt a ```.when_pressed``` metódust fogjuk használni, hiszen azt szeretnénk, hogy a gombok lenyomására aktiválódjanak az egyes függvények. A ```lambda``` kifejezés testébe írjuk a ```start``` függvényt, minthogy azt kell végrehajtani, és annak bemenő paraméterként megadjuk a ```button_start``` gombot és a ```motor``` nevű motort. "
   ]
  },
  {
   "cell_type": "markdown",
   "metadata": {},
   "source": [
    "```servo_answer.py```:"
   ]
  },
  {
   "cell_type": "code",
   "execution_count": null,
   "metadata": {},
   "outputs": [],
   "source": [
    "from gpiozero import Motor, Button\n",
    "from time import sleep\n",
    "import random\n",
    "\n",
    "motor = Motor(forward=23, backward = 24, enable=25) \n",
    "button_start = Button(17)\n",
    "\n",
    "\n",
    "def start(button, m):\n",
    "    t_rot = random.uniform(0, 5)\n",
    "    speed = random.uniform(0.6, 1)\n",
    "    m.forward(speed=speed)\n",
    "    sleep(t_rot)\n",
    "    m.stop()\n",
    "\n",
    "\n",
    "button_start.when_pressed = lambda : start(button_start, motor)\n",
    "\n",
    "\n",
    "while True:\n",
    "    pass"
   ]
  },
  {
   "cell_type": "markdown",
   "metadata": {},
   "source": [
    "A kód végére beírunk még egy végtelen ciklust, hogy a program lefutása után a python kód ne álljon meg, hanem folyamatosan várja a gomb lenyomásokat. "
   ]
  },
  {
   "cell_type": "markdown",
   "metadata": {},
   "source": [
    "### A beírt kérdés tesztelése"
   ]
  },
  {
   "cell_type": "markdown",
   "metadata": {},
   "source": [
    "### A választ adó függvény definiálása"
   ]
  },
  {
   "cell_type": "markdown",
   "metadata": {},
   "source": [
    "### A kérdés beolvasása és válasz megjelenítése"
   ]
  },
  {
   "cell_type": "markdown",
   "metadata": {},
   "source": [
    "## A projekt tesztelése"
   ]
  },
  {
   "cell_type": "markdown",
   "metadata": {},
   "source": [
    "Miután összeszereltük az áramkört és a kódot is megírtuk, amit pl. ```servo_answer.py``` név alatt mentettünk el, megnyithatunk a Raspberry Pi operációs rendszerén egy terminált. A terminálban a ```cd 'mappa név'``` paranccsal elnavigálunk abba a mappába, ahova a ```servo_answer.py```-t elmentettük. Ott begépelve a ```python servo_answer.py``` parancsot, letesztelhetjük a programunk működését. Ha minden jól megy akkor a start gomb megnyomása után a motor elkezdi forgatni a kereket és egyszercsak, véletlenszerűen megáll. Ha újra megnyomjuk a gombot, akkor más sebességgel más ideig fog forogni.\n",
    "\n",
    "Hibaüzenetek esetén ki kell deríteni mi lehetett a probléma, pl. elgépelés, egy modul hiányzik, sorok megfelelő behúzása, idézőjel lemaradása stb. A hibaüzenet legtöbbször segít abban, hogy melyik sorban találta a hibát és hogy mi volt az. Egy kis gyakorlással bele lehet jönni azok értelmezésébe, valamint interneten is rá lehet keresni a hibaüzenet jelentésére és annak lehetséges elhárítására."
   ]
  },
  {
   "cell_type": "markdown",
   "metadata": {},
   "source": [
    "## Mit lehet javítani/továbbfejleszteni?"
   ]
  },
  {
   "cell_type": "markdown",
   "metadata": {},
   "source": [
    "* Írjuk át a kódot úgy, hogy a motor ne hirtelen, hanem fokozatosan lassulva álljon meg.\n",
    "* Írjuk át a kódot úgy, hogy az egyik gomb elindítja a kerék forgását és egy másik pedig megállítja. Így a játékos maga dönt afölött, hogy mikor állítja meg a kereket.\n",
    "\n",
    "Írd meg kommentben, hogy szerinted mivel lehetne még feldobni ezt a kis programot!"
   ]
  },
  {
   "cell_type": "markdown",
   "metadata": {},
   "source": [
    "## Referencia"
   ]
  },
  {
   "cell_type": "markdown",
   "metadata": {},
   "source": [
    "1) gpiozero leírás - [https://gpiozero.readthedocs.io/en/stable/recipes.html](https://gpiozero.readthedocs.io/en/stable/recipes.html)\n",
    "\n",
    "2) Motor objektum leírása - [https://gpiozero.readthedocs.io/en/stable/api_output.html#motor](https://gpiozero.readthedocs.io/en/stable/api_output.html#motor)\n",
    "\n",
    "3) L293D driver leírása - [https://www.ti.com/lit/ds/symlink/l293.pdf](https://www.ti.com/lit/ds/symlink/l293.pdf)\n",
    "\n",
    "4) Button objektum leírása - [https://gpiozero.readthedocs.io/en/stable/api_input.html?highlight=button#button](https://gpiozero.readthedocs.io/en/stable/api_input.html?highlight=button#button)\n",
    "\n",
    "5) lambda kifejezés - [https://www.programiz.com/python-programming/anonymous-function](https://www.programiz.com/python-programming/anonymous-function)\n",
    "\n",
    "6) random csomag leírása - [https://docs.python.org/3/library/random.html](https://docs.python.org/3/library/random.html)"
   ]
  },
  {
   "cell_type": "code",
   "execution_count": null,
   "metadata": {},
   "outputs": [],
   "source": []
  }
 ],
 "metadata": {
  "kernelspec": {
   "display_name": "Python 3",
   "language": "python",
   "name": "python3"
  },
  "language_info": {
   "codemirror_mode": {
    "name": "ipython",
    "version": 3
   },
   "file_extension": ".py",
   "mimetype": "text/x-python",
   "name": "python",
   "nbconvert_exporter": "python",
   "pygments_lexer": "ipython3",
   "version": "3.7.3"
  },
  "toc": {
   "base_numbering": 1,
   "nav_menu": {},
   "number_sections": true,
   "sideBar": true,
   "skip_h1_title": false,
   "title_cell": "Table of Contents",
   "title_sidebar": "Contents",
   "toc_cell": false,
   "toc_position": {},
   "toc_section_display": true,
   "toc_window_display": false
  }
 },
 "nbformat": 4,
 "nbformat_minor": 2
}
