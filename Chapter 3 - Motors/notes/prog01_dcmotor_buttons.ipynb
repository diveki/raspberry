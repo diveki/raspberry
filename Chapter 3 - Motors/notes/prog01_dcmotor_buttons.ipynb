{
 "cells": [
  {
   "cell_type": "markdown",
   "metadata": {},
   "source": [
    "# Projekt 2 - DC motor vezérlése gombokkal"
   ]
  },
  {
   "cell_type": "markdown",
   "metadata": {},
   "source": [
    "A hétköznapi életben a különféle motorok nagyon sok helyen előfordulnak, szinte észre sem vesszük már őket. Ők mozgatják az autók ablaktörlőjét vagy épp az ablakát emelik fel és le, a fúrógép fejét motor forgatja, a számítógép hűtéséért is motorok felelnek (ventillátor formájában) és még a porszívó szívóerejét is motorok forgása adja. \n",
    "\n",
    "Ezeket az eszközöket legtöbbször egy gomb lenyomásával indítjuk el és hasonló módon állítjuk meg. Ebben a projektben megtanuljuk gombnyomásra elindítani a motort. Két gombot fogunk használni, hogy előre és hátra is forgathassuk. A motor csak addig fog forogni, amíg a gombokat lenyomva tartjuk és elengedésükkel, a motor is megáll. Ha egy kis propellert ráaszerelünk a motor tengelyére akkor már azonnal rendelkezésünkre áll, egy kézi vezérlésű légfújó vagy vízbe téve a motorcsónak motorját is modellezhetjük (csak vigyázzunk, hogy a drótok ne érintkezzenek a vízzel).  "
   ]
  },
  {
   "cell_type": "markdown",
   "metadata": {},
   "source": [
    "## Mit fogsz készíteni?"
   ]
  },
  {
   "cell_type": "markdown",
   "metadata": {},
   "source": [
    "Egy 3-6V DC Motorból, 2 nyomógombból és egy L293D vezérlő (driver) chipből álló rendszert építünk, amit a Raspberry Pi-hoz kapcsolunk. A nyomógombok felelnek majd a motor forgatásáért az egyik vagy a másik irányba. **Megjegyzés: Mindig használjunk megfelelő drivert a motorral összekötve, hogy csökkentsük bármelyik eszköz károsodásának lehetőségét.**"
   ]
  },
  {
   "cell_type": "markdown",
   "metadata": {},
   "source": [
    "## Mit tanulsz meg?"
   ]
  },
  {
   "cell_type": "markdown",
   "metadata": {},
   "source": [
    "A DC motor nyomógomb vezérlésének elkészítésével a következőket tanulod meg:\n",
    "\n",
    "* Hogyan tudsz egy DC motort egy áramkörbe beiktatni a hozzá tartozó driverrel és nyomó gombokkal együtt.\n",
    "* Hogyan programozd be a Raspberry Pi GPIO kimeneteleit a **gpiozero** modullal.\n",
    "* **lambda** kifejezés használatát\n",
    "* Hogyan adjunk át a nyomógombnak olyan függvényeket, amiknek több bemeneti paramétere van.\n",
    "* Hogyan programozzuk be a gomb különböző tulajdonságait egyszerre."
   ]
  },
  {
   "cell_type": "markdown",
   "metadata": {},
   "source": [
    "## A projekt részletekre bontása"
   ]
  },
  {
   "cell_type": "markdown",
   "metadata": {},
   "source": [
    "* Elkészíteni az áramkört.\n",
    "* Inicializálni a Motor és nyomógomb objektumokat.\n",
    "* Nyomógomboknál beállítani, hogy nyomva tartásnál ismételjék az adott függvény végrehajtását.\n",
    "* Definiálni egy függvényt, ami a bemenő paraméterektől függően, előre vagy hátrafele forgatja a motort.\n",
    "* Definiálni egy függvényt a motor leállítására.\n",
    "* A motor forgatásáért felelős függvényt hozzárendelni a a gombok nyomvatartásához.\n",
    "* A motor leállításáért felelő függvényt hozzárendelni a gombok kiengedéséhez."
   ]
  },
  {
   "cell_type": "markdown",
   "metadata": {},
   "source": [
    "## Áramköri elemek listája"
   ]
  },
  {
   "cell_type": "markdown",
   "metadata": {},
   "source": [
    "a) [Raspberry PI](https://malnapc.hu/yis/raspberry-pi/rpi-panelek) \n",
    "\n",
    "b) DC Motor: [itt vásárolhatsz](https://www.tme.eu/hu/details/oky5022-1/dc-motorok/okystar/)\n",
    "\n",
    "c) [Jumper wires female/male](https://www.ret.hu/shop/product/e-call/jumper-vezetek-szet_53-22-63) \n",
    "\n",
    "d) L293D vezérlő: [itt vásárolhatsz](https://www.tme.eu/hu/details/l293d/motor-es-pwm-driverek/stmicroelectronics/)\n",
    "\n",
    "e) 2 db nyomó gomb: [itt vásárolhatsz](https://hu.farnell.com/schurter/1301-9320/switch-smd-push-12-5mm/dp/1217772?gclid=Cj0KCQjwzZj2BRDVARIsABs3l9K-ACTnuRr-dLVcDUKleNfECM3H3kWS_RfWtmXGMXVJeY9otda4dDcaAvGLEALw_wcB&gross_price=true&mckv=sSFnjERxR_dc|pcrid|434487710397|plid||kword||match||slid||product|1217772|pgrid|101346804139|ptaid|pla-389347076066|&CMP=KNC-GHU-SHOPPING-switches-relays-NEWSTRUCTURE-13-MAY-20) vagy [építhetsz]()\n",
    "\n",
    "f) 4 db AAA vagy AA [ceruza elem]()"
   ]
  },
  {
   "cell_type": "markdown",
   "metadata": {},
   "source": [
    "## A kapcsolási rajz"
   ]
  },
  {
   "cell_type": "markdown",
   "metadata": {},
   "source": [
    "<img src=\"prog01_schema.png\" width=600 height=400 />"
   ]
  },
  {
   "cell_type": "markdown",
   "metadata": {},
   "source": [
    "A fenti ábrához hasonlóan kapcsoljuk össze az áramköri elemeket és a Raspberry Pi-t. Az áramkör részletes összekötési magyarázata a [Motorok]() című bevezető leírásban található.\n",
    "\n",
    "1) Az L293D driver földelés lábait kössük össze egymással és az átellenes oldallal (fekete drót). Egyben az áramforrás (4 db AAA elem a rajzon) negatív végét és a Raspberry Pi egyik földelését is kössük össze az L293D driver földelésével. Így minden elem azonos földelésen lesz.\n",
    "\n",
    "2) Az áramforrás pozitív végét kapcsoljuk a driver *VS* lábára (*8*-as láb, piros drót). Ez adja a feszültséget a motor meghajtásához. \n",
    "\n",
    "3) Kapcsoljuk a Raspberry Pi +5V-os tüskéjét a driver *VSS* (*16*-os) lábával össze (fehér drót). Ez adja a driver működéséhez nélkülözhetetlen tápot. \n",
    "\n",
    "4) A Raspberry Pi *GPIO25*-ös tüskéjét kapcsoljuk az *EN1* (*1*-es) lábra (okkersárga drót). A driver ezen lába szolgál arra, hogy aktiválja a driver *IN1 (2), IN2 (7), OUT1 (3) és OUT2 (6)* lábait, amennyiben magas állapotba kerül. Alacsony állapotból az előbb említett lábak nem kapnak áramot. \n",
    "\n",
    "5) A Raspberry Pi *GPIO23*-as és *GPIO24*-es tüskéit kapcsoljuk az *IN1 (2), IN2 (7)* lábakra a driveren (szürke és narancssárga drótok). Felváltva aktiválva őket vagyunk képesek előre és hátrafele forgatni a motort attől függően, hogy épp melyik van magas állapotban. \n",
    "\n",
    "6) A motor két kimenetét (citromsárga és zöld drótok) kapcsoljuk a driver *OUT1 (3) és OUT2 (6)* lábaira. Az *IN1 és IN2* lábak állapota szabályozza, hogy ezek a lábak, azaz maga a motor, kap-e feszültséget.\n",
    "\n",
    "7) Illesszünk be egy nyomógombot a breadboardba és annak egyik lábát kapcsoljuk a földelésre a másikat pedig a *GPIO17*-es tüskére (lila drót).\n",
    "\n",
    "8) Illesszünk be egy másik nyomógombot a breadboardba és annak egyik lábát kapcsoljuk a földelésre a másikat pedig a *GPIO27*-es tüskére (barna drót).\n",
    "\n",
    "\n",
    "**Kétszer is ellenőrizzük le, hogy a bekötésünk rendben van-e. A félrekötött tüskék nagyban növelik a motor vagy a Raspberry Pi tökremenési esélyeit. A motort SEMMIKÉPP SE tápláljuk és irányítsük direktben a Raspberry Pi-ről, mert az szinte biztosan a számítógép sérükéséhez vezet.**"
   ]
  },
  {
   "cell_type": "markdown",
   "metadata": {},
   "source": [
    "## A kód\n",
    "Nyissunk meg egy új python fájlt és mentsük el pl. ```dcmotor_buttons.py``` név alatt."
   ]
  },
  {
   "cell_type": "markdown",
   "metadata": {},
   "source": [
    "### A DC motor kipróbálása"
   ]
  },
  {
   "cell_type": "markdown",
   "metadata": {},
   "source": [
    "Miután elkészítettük az áramkört, meg kell írnunk a kódot ami utasítja a Raspberry Pi-t, a motor mozgatására.\n",
    "\n",
    "Először betöltjük a ```gpiozero``` modulból a ```Motor``` objektumot ami lehetővé teszik, hogy a Raspi kommunikáljon a motorral a hozzá tartozó vezérlővel a **GPIO** tüskéken keresztül. Emellett beimportáljuk a ```sleep``` függvényt is, hogy szünetet tarthassunk a python kód lefutásában. "
   ]
  },
  {
   "cell_type": "markdown",
   "metadata": {},
   "source": [
    "```dcmotor_buttons.py```:"
   ]
  },
  {
   "cell_type": "code",
   "execution_count": null,
   "metadata": {},
   "outputs": [],
   "source": [
    "from gpiozero import Motor\n",
    "from time import sleep"
   ]
  },
  {
   "cell_type": "markdown",
   "metadata": {},
   "source": [
    "Az objektum beolvasása után inicializálunk egy ```Motor``` objektumot, amit ```motor```-nak nevezünk el. Egyben megmondjuk az objektumnak, hogy a fizikai motor előre forgatásért felelő drótját a *23*-as számú **GPIO** tüskére csatlakoztattuk, míg a hátrafelé forgatásért felelő drótot a *24*-es számú **GPIO** tüskére. Emellett a driveren a kimeneteket aktiváló drótot a *25*-ös számú **GPIO** tüskére csatlakoztattuk. "
   ]
  },
  {
   "cell_type": "markdown",
   "metadata": {},
   "source": [
    "```dcmotor_buttons.py```:"
   ]
  },
  {
   "cell_type": "code",
   "execution_count": null,
   "metadata": {},
   "outputs": [],
   "source": [
    "from gpiozero import Motor\n",
    "from time import sleep\n",
    "\n",
    "motor = Motor(forward=23, backward = 24, enable=25)"
   ]
  },
  {
   "cell_type": "markdown",
   "metadata": {},
   "source": [
    "Ezután készen állunk arra, hogy leteszteljük a motor mozgatását és az objektumhoz tartozó egyéb metódusok működését. Elsőnek a motort előre forgatjuk ```motor.forward()```, 5 másodpercen keresztül, majd megállítjuk a ```motor.stop()``` paranccsal és leteszteljük, hogy hátrafele is tud-e forogni, ```motor.backward()```. Hagyjuk forogni 5 másodpercet, majd újra leállítjuk. "
   ]
  },
  {
   "cell_type": "markdown",
   "metadata": {},
   "source": [
    "```dcmotor_buttons.py```:"
   ]
  },
  {
   "cell_type": "code",
   "execution_count": null,
   "metadata": {},
   "outputs": [],
   "source": [
    "from gpiozero import Motor\n",
    "from time import sleep\n",
    "\n",
    "motor = Motor(forward=23, backward = 24, enable=25)\n",
    "\n",
    "motor.forward()\n",
    "sleep(5)\n",
    "motor.stop()\n",
    "\n",
    "motor.backward()\n",
    "sleep(5)\n",
    "motor.stop()"
   ]
  },
  {
   "cell_type": "markdown",
   "metadata": {},
   "source": [
    "Ha lefuttatjuk ezt a kódot, kiderül, hogy mindent rendben kötöttünk-e össze az áramkörben. Ha nem az elvárt mozgásokat tapasztaljuk, akkor meg kell keresni a hibát. Nagy valószínűséggel az áramköri kapcsolásokkal van gond."
   ]
  },
  {
   "cell_type": "markdown",
   "metadata": {},
   "source": [
    "### A gombok tesztelése"
   ]
  },
  {
   "cell_type": "markdown",
   "metadata": {},
   "source": [
    "Következő lépésben beimportáljuk a gombokért felelős ```Button``` objektumot is és definiálunk két gombot. Az egyiket a *GPIO17*-re a másikat pedig a *GPIO27*-re kötjük. "
   ]
  },
  {
   "cell_type": "markdown",
   "metadata": {},
   "source": [
    "```dcmotor_buttons.py```:"
   ]
  },
  {
   "cell_type": "code",
   "execution_count": null,
   "metadata": {},
   "outputs": [],
   "source": [
    "from gpiozero import Motor, Button\n",
    "from time import sleep\n",
    "\n",
    "motor = Motor(forward=23, backward = 24, enable=25)\n",
    "button_forward = Button(17)\n",
    "button_backward = Button(27)"
   ]
  },
  {
   "cell_type": "markdown",
   "metadata": {},
   "source": [
    "Ahhoz, hogy leteszteljük helyesen kötöttük-e be a gombokat és, hogy azok működnek, írunk egy segédfüggvényt ```test()```, amit a gomb lenyomásakor meghívunk majd. A függvény meghívásakor egyszerűen csak kiíratjuk a képernyőre, hogy a gombot megnyomtuk. Végül ezt a függvényt hozzá kell rendelnünk a gombhoz, méghozzá most a gomb lenyomásának pillanatához a ```when_pressed``` metódushoz."
   ]
  },
  {
   "cell_type": "markdown",
   "metadata": {},
   "source": [
    "```dcmotor_buttons.py```:"
   ]
  },
  {
   "cell_type": "code",
   "execution_count": null,
   "metadata": {},
   "outputs": [],
   "source": [
    "from gpiozero import Motor, Button\n",
    "from time import sleep\n",
    "\n",
    "motor = Motor(forward=23, backward = 24, enable=25)\n",
    "button_forward = Button(17)\n",
    "button_backward = Button(27)\n",
    "\n",
    "def test():\n",
    "    print('Button is pressed')\n",
    "    \n",
    "button_forward.when_pressed = test\n",
    "button_backward.when_pressed = test\n",
    "\n",
    "while True:\n",
    "    pass"
   ]
  },
  {
   "cell_type": "markdown",
   "metadata": {},
   "source": [
    "A kód végén még elindítunk egy végtelen ciklust, ami nem csinál semmit, így csak a gombok lenyomása lesz az egyetlen egy esemény amit a számítógép jelezhet. \n",
    "\n",
    "Mentsük le a kódot és futtasuk le a pythonnal. Teszteljük, hogy a gombok lenyomására megjelenik-e az üzenet a képernyőn. "
   ]
  },
  {
   "cell_type": "markdown",
   "metadata": {},
   "source": [
    "### A gombok lenyomva tartásának újradefiniálása"
   ]
  },
  {
   "cell_type": "markdown",
   "metadata": {},
   "source": [
    "A jelenlegi problémánk megoldásához el kell érnünk azt, hogy a gomb nyomvatartásával a hozzárendelt függvény ne csak egyszer, hanem folyamatosan végrehajtódjon. Ehhez az szükséges, hogy a gomb ```hold_repeat``` metódusát átállítsuk igazra. Ekkor a gombhoz rendelt függvény megadott időközönként (```hold_time```) meg fog ismétlődni. Ha azt akarjuk, hogy ez az időköz ne legyen nagy, saját magunk átírhatjuk, pl. 0.2 másodpercre. "
   ]
  },
  {
   "cell_type": "code",
   "execution_count": null,
   "metadata": {},
   "outputs": [],
   "source": [
    "button_forward.hold_time = 0.2\n",
    "button_forward.hold_repeat = True\n",
    "\n",
    "button_backward.hold_time = 0.2\n",
    "button_backward.hold_repeat = True"
   ]
  },
  {
   "cell_type": "markdown",
   "metadata": {},
   "source": [
    "Hogy le tudjuk ellenőrizni valóban elértük-e a célt, rendeljük a függvényünkent a gombok ```when_held``` metódusához. De módosítsuk a függvényünket annyiban, hogy egy bemenő paramétert is adunk neki. Ehhez szükség lesz a ```lambda``` kifejezés megértéséhez."
   ]
  },
  {
   "cell_type": "markdown",
   "metadata": {},
   "source": [
    "### lambda kifejezés"
   ]
  },
  {
   "cell_type": "markdown",
   "metadata": {},
   "source": [
    "Röviden a ```lambda``` kifejezés az egy egysoros függvény definiálás, ami nem él az egész programon keresztül, csak abban az egy sorban. Főként akkor alkalmazzuk, ha egy egyszer használatos egysoros függvényt akarunk definiálni. A ```lambda``` kifejezés szabálya, hogy a ```lambda``` parancsszavat követi(k) a bemeneti paraméter(ek), majd kettőspont és utána a függvény amit definiálni akartunk. Nincs megszabva, hány bemeneti paramétert adunk meg. Az alábbi példában egy névtelen függvényt definiálunk, ami a bemenő paraméterhez (x) 3-at ad hozzá."
   ]
  },
  {
   "cell_type": "code",
   "execution_count": 3,
   "metadata": {},
   "outputs": [
    {
     "data": {
      "text/plain": [
       "5"
      ]
     },
     "execution_count": 3,
     "metadata": {},
     "output_type": "execute_result"
    }
   ],
   "source": [
    "(lambda x: x + 3)(2)"
   ]
  },
  {
   "cell_type": "markdown",
   "metadata": {},
   "source": [
    "Hogy lefusson, a lambda kifejezést zárójelbe tettük és utána egy másik zárójelben megadtuk a bemeneti paraméter értékét. Hogy kicsit hasonlóbb legyen a szokásos ```def``` módszerhez, a ```lambda``` kifejezést hozzárendelhetjük egy változóhoz, azaz egy függvénynévhez, amit később hívunk meg. Ezt ritkán szokták alkalmazni, de így nézne ki:"
   ]
  },
  {
   "cell_type": "code",
   "execution_count": 6,
   "metadata": {},
   "outputs": [
    {
     "data": {
      "text/plain": [
       "6"
      ]
     },
     "execution_count": 6,
     "metadata": {},
     "output_type": "execute_result"
    }
   ],
   "source": [
    "func = lambda x,y: x*y\n",
    "func(2,3)"
   ]
  },
  {
   "cell_type": "markdown",
   "metadata": {},
   "source": [
    "A fenti példában a két bemenő paraméterrel rendelkező ```lambda``` kifejezést, ami a két paramétert összeszorozza, hozzárendeltük a ```func``` nevű változóhoz. Egy sorral később hívtuk csak meg a függvényt az adott bemenő paraméterekkel. \n",
    "\n",
    "A ```lambda``` kifejezést úgy is használhatjuk, hogy nem definiálunk bemenő paramétert, így meghíváskor csak üres zárójelet írunk. Ebben az esetben, a függvény tartalma csak végrehajtódik. "
   ]
  },
  {
   "cell_type": "code",
   "execution_count": 7,
   "metadata": {},
   "outputs": [
    {
     "name": "stdout",
     "output_type": "stream",
     "text": [
      "hello raspberry\n"
     ]
    }
   ],
   "source": [
    "(lambda : print('hello raspberry'))()"
   ]
  },
  {
   "cell_type": "markdown",
   "metadata": {},
   "source": [
    "Mi az alábbiakban úgy fogjuk használni a ```lambda``` kifejezést, hogy nem adunk neki bemenő paramétert, viszont a testében egy már előre definiált másik függvényt fogunk meghívni, aminek viszont lesz bemenő paramétere. Egy példa erre:"
   ]
  },
  {
   "cell_type": "code",
   "execution_count": 9,
   "metadata": {},
   "outputs": [
    {
     "name": "stdout",
     "output_type": "stream",
     "text": [
      "I like hamsters\n"
     ]
    }
   ],
   "source": [
    "def func(text):\n",
    "    print(text)\n",
    "\n",
    "(lambda : func('I like hamsters'))()"
   ]
  },
  {
   "cell_type": "code",
   "execution_count": 10,
   "metadata": {},
   "outputs": [
    {
     "name": "stdout",
     "output_type": "stream",
     "text": [
      "Hamsters like carrot\n"
     ]
    }
   ],
   "source": [
    "(lambda : func('Hamsters like carrot'))()"
   ]
  },
  {
   "cell_type": "markdown",
   "metadata": {},
   "source": [
    "Fent definiáltunk egy ```func(text)``` függvényt, aminek a bemenő paramétere egy string, a funkciója pedig, hogy kinyomtassa a megadott szöveget. A ```lambda``` kifejezésben ezt a függvényt hívtuk meg különböző szövegekkel, így mindig más és más nyomtatott szöveget kaptunk. \n",
    "\n",
    "Első ránézésre ez egy igen kitekert módja annak, hogy elérjük a célunk, hiszen elég lett volna kétszer meghívni a függvényünket, de látjuk majd, hogy a gombokhoz való függvényrendelésnél ez a módszer kifejezetten hasznos tud lenni."
   ]
  },
  {
   "cell_type": "markdown",
   "metadata": {},
   "source": [
    "### Gombok lenyomása és a különböző bemeneti paraméterek kezelése"
   ]
  },
  {
   "cell_type": "markdown",
   "metadata": {},
   "source": [
    "Most, hogy megismerkedtünk a ```lambda``` kifejezéssel, használjuk azt, hogy a különböző gombok lenyomásával különböző üzenetet tudjunk megjeleníteni. Kezdetnek írjük át a ```test``` függvényünket, hogy fogadjon bemenő paramétert:"
   ]
  },
  {
   "cell_type": "code",
   "execution_count": 13,
   "metadata": {},
   "outputs": [],
   "source": [
    "def test(txt):\n",
    "    print(f'{txt} button was pressed!')"
   ]
  },
  {
   "cell_type": "markdown",
   "metadata": {},
   "source": [
    "Rendeljük ezt a függvényt a gombok ```when_held``` metódusához, de különböző szöveggel az egyik gomb és a másik gomb esetében. Végrehajtáskor ez a függvény addig nyomtatja majd ki az üzenetünket, amíg a gombot lenyomva tartjuk."
   ]
  },
  {
   "cell_type": "markdown",
   "metadata": {},
   "source": [
    "```dcmotor_buttons.py```:"
   ]
  },
  {
   "cell_type": "code",
   "execution_count": 1,
   "metadata": {},
   "outputs": [],
   "source": [
    "from gpiozero import Motor, Button\n",
    "\n",
    "motor = Motor(forward=23, backward = 24, enable=25)  # Motor(23,24,25)\n",
    "button_forward = Button(17)\n",
    "button_backward = Button(27)\n",
    "\n",
    "button_forward.hold_time = 0.2\n",
    "button_forward.hold_repeat = True\n",
    "\n",
    "button_backward.hold_time = 0.2\n",
    "button_backward.hold_repeat = True\n",
    "\n",
    "def test(txt):\n",
    "    print(f'{txt} button was pressed!')\n",
    "\n",
    "button_forward.when_held = lambda : test('Forward')\n",
    "\n",
    "button_backward.when_held = lambda : test('Backward')\n",
    "\n",
    "while True:\n",
    "    pass"
   ]
  },
  {
   "cell_type": "markdown",
   "metadata": {},
   "source": [
    "Lefuttatva ezt a kódot, azt kellene tapasztalnunk, hogy ha az előre forgató gombot nyomjuk le, akkor a 'Forward Button was pressed' szöveg nyomtatódik ki folytonosan a képernyőre amíg a gombot nyomva tartjuk. Ha a hátrafele forgató gombot nyomjuk meg, akkor pedig a 'Backward button was pressed' szöveg jelenik meg folytonosan. \n",
    "\n",
    "A ```lambda``` kifejezésre itt azért volt szükség mert, a ```when_held``` metódus egy függvényt, és nem egy meghívott függvényt kér. A ```lambda``` kifejezés pont egy függvényt definiál, aminek itt nincs bemenő paramétere, de a testében egy másik előre definiált függvényt hívunk meg különböző bemeneti paraméterekkel, amik végre is hajtódnak a gomb lenyomásával. "
   ]
  },
  {
   "cell_type": "markdown",
   "metadata": {},
   "source": [
    "### A motort vezérlő függvények definiálása"
   ]
  },
  {
   "cell_type": "markdown",
   "metadata": {},
   "source": [
    "Ebben a bekezdésben a ```test``` függvényt lecseréljük a valós függvényre, ami felelni fog a motor megmozdításáért. Ezt ```rotate(button, m, direction='forward')```-nak fogjuk hívni, és látható, hogy több bemenő paraméterrel rendelkezik. Az első a lenyomott gombot szimbolizálja, a második azt a motort amit mozgatni szeretnénk, a harmadik pedig megmondja milyen irányba forgassuk a motort. \n",
    "\n",
    "A függvény testében először, a biztonság kedvéért, leellenőrizzük, hogy a paraméterként megadott gomb (feltehetőleg, az amit lenyomtunk), valóban le van-e nyomva, ```button.is_pressed```. Ha igen, akkor egy ```if``` szerkezetben leellenőrizzük, hogy a forgási irány az előre vagy hátra. Ha ```direction == 'forward'```, azaz az irány az előre, akkor kinyomtatjuk a képernyőre, hogy mozgás előre, illetve bakpcsoljuk a motor forgását a ```m.forward()``` függvénnyel. Ha ```direction == 'backward'```, akkor kinyomtatjuk a képernyőre, hogy mozgás hátrafele történik és bakpcsoljuk a motor forgását a ```m.backward()``` függvénnyel. "
   ]
  },
  {
   "cell_type": "code",
   "execution_count": null,
   "metadata": {},
   "outputs": [],
   "source": [
    "def rotate(button, m, direction='forward'):\n",
    "    if button.is_pressed:\n",
    "        if direction == 'forward':\n",
    "            print('Moving forward')\n",
    "            return m.forward()\n",
    "        if direction == 'backward':\n",
    "            print('Moving backward')\n",
    "            return m.backward()       "
   ]
  },
  {
   "cell_type": "markdown",
   "metadata": {},
   "source": [
    "Ha mindent jól gépeltünk le, akkor a motor, ennek a függvénynek a segítségével képes lesz forogni. Viszont, hiába engednénk fel a gombot, a motor továbbra is forogna a kijelölt irányba, mert nem adtunk neki stop parancsot. Hogy ezt a csorbát orvosoljuk definiálunk egy ```motor_stop(button, m)``` függvényt, ami megállítja a bemenő paraméterként megadott motort. "
   ]
  },
  {
   "cell_type": "code",
   "execution_count": null,
   "metadata": {},
   "outputs": [],
   "source": [
    "def motor_stop(button, m):\n",
    "    m.stop()"
   ]
  },
  {
   "cell_type": "markdown",
   "metadata": {},
   "source": [
    "Ebben a projektben nem lenne szükség külön függvény definiálására a motor megállításához, mivel csak egy motorunk van, de ha több lenne, akkor ugyanazt a függvényt meghívva, csak más bemenő paramétert adva, képesek lennénk az összes motor leállítására. "
   ]
  },
  {
   "cell_type": "markdown",
   "metadata": {},
   "source": [
    "### A vezérlő függvények gombokhoz való rendelése"
   ]
  },
  {
   "cell_type": "markdown",
   "metadata": {},
   "source": [
    "Utolsó lépésként az előbb definiált függvényeket beillesszük a kódunkba és hozzárendeljük őket a megfelelő gombok megfelelő metódusához, használva a ```lambda``` kifejezést. A ```when_held``` metódushoz a ```rotate``` függvényt rendeljük, míg a ```when_released``` metódushoz a ```motor_stop``` függvényt, a megfelelő bemeneti paraméterekkel. Az utóbbi metódus akkor fogja lefuttatni a hozzárendelt függvényt, amikor felengedtük a gombot. Evvel biztosítjuk azt, hogy a motor forog mindaddig, amíg a gombot lenyomva tartjuk, de azonnal megáll ha felengedjük a gombot.  "
   ]
  },
  {
   "cell_type": "markdown",
   "metadata": {},
   "source": [
    "```dcmotor_buttons.py```:"
   ]
  },
  {
   "cell_type": "code",
   "execution_count": null,
   "metadata": {},
   "outputs": [],
   "source": [
    "from gpiozero import Motor, Button\n",
    "\n",
    "motor = Motor(forward=23, backward = 24, enable=25)  # Motor(23,24,25)\n",
    "button_forward = Button(17)\n",
    "button_backward = Button(27)\n",
    "\n",
    "button_forward.hold_time = 0.2\n",
    "button_forward.hold_repeat = True\n",
    "\n",
    "button_backward.hold_time = 0.2\n",
    "button_backward.hold_repeat = True\n",
    "\n",
    "\n",
    "def rotate(button, m, direction='forward'):\n",
    "    if button.is_pressed:\n",
    "        if direction == 'forward':\n",
    "            print('Moving forward')\n",
    "            return m.forward()\n",
    "        if direction == 'backward':\n",
    "            print('Moving backward')\n",
    "            return m.backward()\n",
    "        \n",
    "def motor_stop(button, m):\n",
    "    m.stop()\n",
    "\n",
    "\n",
    "button_forward.when_held = lambda : rotate(button_forward, motor, direction='forward')\n",
    "button_forward.when_released = lambda : motor_stop(button_forward, motor)\n",
    "\n",
    "button_backward.when_held = lambda : rotate(button_backward, motor, direction='backward')\n",
    "button_backward.when_released = lambda : motor_stop(button_backward, motor)\n",
    "\n",
    "\n",
    "while True:\n",
    "    pass"
   ]
  },
  {
   "cell_type": "markdown",
   "metadata": {},
   "source": [
    "## A projekt tesztelése"
   ]
  },
  {
   "cell_type": "markdown",
   "metadata": {},
   "source": [
    "Miután összeszereltük az áramkört és a kódot is megírtuk, amit pl. ```dcmotor_buttons.py``` név alatt mentettünk el, megnyithatunk a Raspberry Pi operációs rendszerén egy terminált. A terminálban a ```cd 'mappa név'``` paranccsal elnavigálunk abba a mappába, ahova a ```dcmotor_buttons.py```-t elmentettük. Ott begépelve a ```python dcmotor_buttons.py``` parancsot, letesztelhetjük a programunk működését. Ha minden jól megy akkor az egyik gomb lenyomására a motor előre forog amíg nyomva tartjuk a gombot. A másik gomb lenyomva tartásával a másik irányba kell forognia a motor tengelyének.\n",
    "\n",
    "Hibaüzenetek esetén ki kell deríteni mi lehetett a probléma, pl. elgépelés, egy modul hiányzik, sorok megfelelő behúzása, idézőjel lemaradása stb. A hibaüzenet legtöbbször segít abban, hogy melyik sorban találta a hibát és hogy mi volt az. Egy kis gyakorlással bele lehet jönni azok értelmezésébe, valamint interneten is rá lehet keresni a hibaüzenet jelentésére és annak lehetséges elhárítására."
   ]
  },
  {
   "cell_type": "markdown",
   "metadata": {},
   "source": [
    "## Mit lehet javítani/továbbfejleszteni?"
   ]
  },
  {
   "cell_type": "markdown",
   "metadata": {},
   "source": [
    "* LED-del jelezzük, ha a motor aktív.\n",
    "* RGB LED zölden jelezze ha előre és pirosan ha hátrafele forog a motor.\n",
    "\n",
    "Írd meg kommentben, hogy szerinted mivel lehetne még feldobni ezt a kis programot!"
   ]
  },
  {
   "cell_type": "markdown",
   "metadata": {},
   "source": [
    "## Referencia"
   ]
  },
  {
   "cell_type": "markdown",
   "metadata": {},
   "source": [
    "1) gpiozero leírás - [https://gpiozero.readthedocs.io/en/stable/recipes.html](https://gpiozero.readthedocs.io/en/stable/recipes.html)\n",
    "\n",
    "2) Motor objektum leírása - [https://gpiozero.readthedocs.io/en/stable/api_output.html#motor](https://gpiozero.readthedocs.io/en/stable/api_output.html#motor)\n",
    "\n",
    "3) L293D driver leírása - [https://www.ti.com/lit/ds/symlink/l293.pdf](https://www.ti.com/lit/ds/symlink/l293.pdf)\n",
    "\n",
    "4) Button objektum leírása - [https://gpiozero.readthedocs.io/en/stable/api_input.html?highlight=button#button](https://gpiozero.readthedocs.io/en/stable/api_input.html?highlight=button#button)\n",
    "\n",
    "5) lambda kifejezés - [https://www.programiz.com/python-programming/anonymous-function](https://www.programiz.com/python-programming/anonymous-function)"
   ]
  },
  {
   "cell_type": "code",
   "execution_count": null,
   "metadata": {},
   "outputs": [],
   "source": []
  }
 ],
 "metadata": {
  "kernelspec": {
   "display_name": "Python 3",
   "language": "python",
   "name": "python3"
  },
  "language_info": {
   "codemirror_mode": {
    "name": "ipython",
    "version": 3
   },
   "file_extension": ".py",
   "mimetype": "text/x-python",
   "name": "python",
   "nbconvert_exporter": "python",
   "pygments_lexer": "ipython3",
   "version": "3.7.3"
  },
  "toc": {
   "base_numbering": 1,
   "nav_menu": {},
   "number_sections": true,
   "sideBar": true,
   "skip_h1_title": false,
   "title_cell": "Table of Contents",
   "title_sidebar": "Contents",
   "toc_cell": false,
   "toc_position": {},
   "toc_section_display": true,
   "toc_window_display": false
  }
 },
 "nbformat": 4,
 "nbformat_minor": 2
}
