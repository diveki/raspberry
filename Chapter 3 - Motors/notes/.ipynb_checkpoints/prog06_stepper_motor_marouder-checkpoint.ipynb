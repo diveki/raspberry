{
 "cells": [
  {
   "cell_type": "markdown",
   "metadata": {},
   "source": [
    "# Projekt 7 - A varázsóra"
   ]
  },
  {
   "cell_type": "markdown",
   "metadata": {},
   "source": [
    "A Harry Potter féle varázslóvilágban a Weasley családnak volt egy érdekes mágikus órája. Küllemre egy egyszerű, régi típusú kakukkos órára hasonlított, csak épp nem az időt mutatta. Több mutatóval rendelkezett. Minden mutató egy családtagot képviselt. A mutatók mögötti hátlapon helyszínek nevei álltak össze betűkből, jelezve, hogy a családtagok épp merre találhatók. \n",
    "\n",
    "Ebben a projektben egy hasonló berendezést készítunk el, csak épp egyszerűbb kivitelben és nem használunk hozzá varázslatot (tudom, így már nem is olyan izgi). Egy olyan órát készítünk, ami egy mutatóval rendelkezik és azt jelzi, hogy egyedül vagyunk-e otthon vagy sem, arra alapozva, hogy a routerünkre felcsatlakozott-e valakinek a mobilja vagy sem. Természetesen attól, még, hogy valaki mobilja nem ment fel a router wifijére, nem azt jelenti, hogy az illető nincs a házban, de a mai világban nehéz elképzelni, hogy valaki ne netezzen a telefonján keresztül."
   ]
  },
  {
   "cell_type": "markdown",
   "metadata": {},
   "source": [
    "## Mit fogsz készíteni?"
   ]
  },
  {
   "cell_type": "markdown",
   "metadata": {},
   "source": [
    "Egy 28BYJ-48 típusú szervo motorból és a hozzá tartozó ULN2003A vezérlőből álló rendszert építünk, amit a Raspberry Pi-hoz kapcsolunk. A motor tengelyére egy mutatót szerelünk és úgy programozzuk be, hogy két állapotot mutasson a bemenő jelek függvényében. Alap állapot, egyedül vagyunk otthon, amikor vagy csak a mi mobilunk jelenlétét érzékeli a router vagy senkiét se. Viszont, ha valaki más mobilja is felcsatlakozik a routerre, akkor a mutatónk 180 fokban elfordul és jelzi, hogy rajtunk kívül más is van otthon.  **Megjegyzés: Mindig használjunk megfelelő drivert a motorral összekötve, hogy csökkentsük bármelyik eszköz károsodásának lehetőségét.**\n"
   ]
  },
  {
   "cell_type": "markdown",
   "metadata": {},
   "source": [
    "## Mit tanulsz meg?"
   ]
  },
  {
   "cell_type": "markdown",
   "metadata": {},
   "source": [
    "A varázsóra elkészítésével a következőket tanulod meg:\n",
    "\n",
    "* Hogyan tudsz egy léptető motort egy áramkörbe beiktatni.\n",
    "* Hogyan programozd be a Raspberry Pi GPIO kimeneteleit a **gpiozero** modullal.\n",
    "* Hogyan indíts el operációs rendszer szintű parancsokat pythonból a **subprocess** modullal.\n",
    "* Hogyan kell IP címeket meg*ping*elni.\n",
    "* Hogyan ellenőrízzük le, hogy milyen IP címmel és MAC címmel rendelkező eszközök vannak a hálózatunkra kapcsolódva: *arp -a*."
   ]
  },
  {
   "cell_type": "markdown",
   "metadata": {},
   "source": [
    "## A projekt részletekre bontása"
   ]
  },
  {
   "cell_type": "markdown",
   "metadata": {},
   "source": [
    "* Elkészíteni az áramkört.\n",
    "* Inicializálni a StepperMotor objektumot.\n",
    "* Telefonnevek, MAC címek és IP címek definiálása.\n",
    "* Végtelen ciklust elindítani.\n",
    "* Megpingelni az IP címeket\n",
    "* Az *arp -a* paranccsal lekérni a hálózatban levő készülékek adatait.\n",
    "* Letesztelni a készülékeket, hogy van-e köztük olyan amit előre regisztráltunk.\n",
    "* A teszt eredményétől függően elforgatni a motort a megfelelő állásba (van otthon valaki vagy sem)."
   ]
  },
  {
   "cell_type": "markdown",
   "metadata": {},
   "source": [
    "## Áramköri elemek listája"
   ]
  },
  {
   "cell_type": "markdown",
   "metadata": {},
   "source": [
    "a) [Raspberry PI](https://malnapc.hu/yis/raspberry-pi/rpi-panelek) \n",
    "\n",
    "b) 28BYJ-48, 5V-os léptető motor: [itt vásárolhatsz](https://www.tme.eu/hu/details/mikroe-1530/starter-kit-kellekek/mikroelektronika/step-motor-5v-28byj-48-5v/)\n",
    "\n",
    "c) ULN2003a vezérlő lap - [itt vásárolhatsz](https://www.banggood.com/ULN2003-Stepper-Motor-Driver-Board-Test-Module-For-AVR-SMD-p-1497718.html?utm_source=googleshopping&utm_medium=cpc_organic&gmcCountry=HU&utm_content=minha&utm_campaign=minha-hu-en-pc&currency=HUF&cur_warehouse=CN&createTmp=1&utm_source=googleshopping&utm_medium=cpc_bgs&utm_content=sxxx&utm_campaign=sxxx-ssc-hu-all-1101-2quad-11sale&ad_id=476272142075&gclid=Cj0KCQiAzsz-BRCCARIsANotFgMhN12S6-O_eYl-htAh7aWgBFkZW_q51aMhZ8h2fYtPEFHz6bRpaEkaAmbkEALw_wcB)\n",
    "\n",
    "d) [Jumper wires female/male](https://www.ret.hu/shop/product/e-call/jumper-vezetek-szet_53-22-63) \n",
    "\n",
    "e) Kb. 10x10x2 cm-es hungarocell lap\n",
    "\n",
    "f) Hátlap: Home alone, Not so home alone felirattal pl. [Picúros mintájú]()"
   ]
  },
  {
   "cell_type": "markdown",
   "metadata": {},
   "source": [
    "## A kapcsolási rajz"
   ]
  },
  {
   "cell_type": "markdown",
   "metadata": {},
   "source": [
    "<img src=\"prog06_schema.png\" width=600 height=400 />"
   ]
  },
  {
   "cell_type": "markdown",
   "metadata": {},
   "source": [
    "### Kapcsolási rajz részletező"
   ]
  },
  {
   "cell_type": "markdown",
   "metadata": {},
   "source": [
    "A fenti ábrához hasonlóan kapcsoljuk össze az áramköri elemeket és a Raspberry Pi-t. Az áramkör részletes összekötési magyarázata a [Motorok]() című bevezető leírásban található.\n",
    "\n",
    "1) A 28BYJ-48 léptető motorban 4 tekercs található, amiknek 5 kivezetése van. A piros drót a közös kivezetés, amelyre minden tekercs egyik vége rá van kapcsolva. Erre a drótra érkezik majd az 5V táp feszültség. A tekercsek fennmaradó 4 kivezetésének mind külön drótja van. Amennyiben egy adott drótra 5V érkezik, akkor az adott tekercsen nem fog áram folyni, azaz nem kelt mágneses mezőt és nem készteti a rotort forgásra. A léptető motor akkor fog működni, ha felváltva aktiváljuk a sorban egymás után következő tekercseket így megforgatva a rotort. A léptető motor kimenetelét csak egyféleképp tudjuk rácsatlakoztatni az ULN2003a típusú vezérlőnkre. \n",
    "\n",
    "2) A bemenő jeleket az ULN2003a vezérlőn az *IN1*, *IN2*, *IN3*, *IN4* bemeneti tüskékre kell kapcsolni a lapon. A bemenő jel a Raspberry Pi tüskéiről érkezik. Az ábrán a *GPIO12*, *GPIO16*, *GPIO20* és *GPIO21*-es tüskéket használjuk.  \n",
    "\n",
    "3) A Raspberry Pi egyik földelését csatlakoztassuk az ULN2003a lap negatív (-) tüskéjére (fekete drót). \n",
    "\n",
    "4) A Raspberry Pi egyik 5V-os forrását pedig kapcsoljuk az ULN2003a lap pozitív (+) tüskéjére.\n",
    "\n",
    "**Kétszer is ellenőrizzük le, hogy a bekötésünk rendben van-e. A félrekötött tüskék nagyban növelik a motor vagy a Raspberry Pi tökremenési esélyeit. A motort SEMMIKÉPP SE tápláljuk és irányítsük direktben a Raspberry Pi-ről, mert az szinte biztosan a számítógép sérükéséhez vezet.**"
   ]
  },
  {
   "cell_type": "markdown",
   "metadata": {},
   "source": [
    "### Projekt összeszerelési útmutató"
   ]
  },
  {
   "cell_type": "markdown",
   "metadata": {},
   "source": [
    "<img src=\".jpg\" width=600 height=400 />"
   ]
  },
  {
   "cell_type": "markdown",
   "metadata": {},
   "source": [
    "A detektor összeszereléséhez a fenti képen látható elemek fognak kelleni. Egy drót (irányjelző),  egy motor és a felirattal rendelkező hátlap. Összeszerelés után a lenti alakot ölti a detektor."
   ]
  },
  {
   "cell_type": "markdown",
   "metadata": {},
   "source": [
    "<img src=\".jpg\" width=600 height=400 />"
   ]
  },
  {
   "cell_type": "markdown",
   "metadata": {},
   "source": [
    "## A kód\n",
    "Nyissunk meg egy új python fájlt és mentsük el pl. ```stepper_motor.py``` név alatt."
   ]
  },
  {
   "cell_type": "markdown",
   "metadata": {},
   "source": [
    "### A léptető motor kipróbálása"
   ]
  },
  {
   "cell_type": "markdown",
   "metadata": {},
   "source": [
    "Miután elkészítettük az áramkört, meg kell írnunk a kódot ami utasítja a Raspberry Pi-t, a motor mozgatására.\n",
    "\n",
    "A ```gpiozero``` csomag nem tartalmaz klasszokat a léptető motorok vezérléséhez. Ezt a problémát úgy hidaltuk át, hogy saját magunk írtunk hozzá egy klasszt ami felel majd a léptető motor mozgásáért. A ```stepper_motor``` nevű python fájlban található a ```StepperMotor``` klassz, amit kifejezetten a 28BYJ-48-as típusú léptető motorokhoz terveztünk. Tehát, ez az klassz nem feltétlenül fog vezérelni más motorokat. \n",
    "\n",
    "Ahhoz, hogy a ```stepper_motor``` modul beimportálása működjön, a ```stepper_motor.py``` nevű fájlt ugyanabba a mappába kell másolni, ahol a mi kódunk, a ```stepper_motor.py``` fájl van.\n",
    "\n",
    "A ```StepperMotor``` objektumon kívül beimportáljuk még a ```subprocess``` csomagot, ami segít majd bennünket a terminál parancsok python környezetből való elindításában. Ezenkívül még a ```time``` csomagot importáljuk, amiből főként a ```sleep``` függvényt fogjuk majd használni, hogy késleltetéseket vezessünk be a kódunkba. "
   ]
  },
  {
   "cell_type": "markdown",
   "metadata": {},
   "source": [
    "```stepper_motor.py```:"
   ]
  },
  {
   "cell_type": "code",
   "execution_count": 2,
   "metadata": {},
   "outputs": [],
   "source": [
    "import subprocess\n",
    "import time\n",
    "from stepper_motor import StepperMotor"
   ]
  },
  {
   "cell_type": "markdown",
   "metadata": {},
   "source": [
    "Az importálások után inicializáljuk a léptető motorunkat, ```m = StepperMotor(12,16,20,21)```, ahol bemenő paraméterként a bemeneti drótokhoz tartozó GPIO számokat adjuk meg. Ezután teszteljük is a motor működését. A ```forward``` és a ```backward``` metódusokkal lehet előre vagy hátrafele forgatni a motor tengelyét. Bemenő paraméterként megadhatjuk a sebességet, ```speed``` ami 0 és 1 közötti értéket vehet fel. A 0 esetén a motor nem forog. A másik bemenő paraméter az ```angle```, ami meghatározza, hogy mekkora szögben forduljon el a tengely, fokokban kifejezve. Alapértelmezett értéke a ```None```, ami azt jelenti, hogy nem adtunk meg elfordulási szöget, tehát a tengely megállás nélkül forog, amíg manuálisan (```CTRL+C```) lenyomásával meg nem állítjuk. "
   ]
  },
  {
   "cell_type": "markdown",
   "metadata": {},
   "source": [
    "```stepper_motor.py```:"
   ]
  },
  {
   "cell_type": "code",
   "execution_count": null,
   "metadata": {},
   "outputs": [],
   "source": [
    "import subprocess\n",
    "import time\n",
    "from stepper_motor import StepperMotor\n",
    "\n",
    "m = StepperMotor(12,16,20,21)\n",
    "\n",
    "m.forward(speed=1, angle=90)\n",
    "time.sleep(5)\n",
    "m.backward(speed=0.5, angle=45)\n",
    "time.sleep(5)\n",
    "m.forward(speed=0.2, angle=None)"
   ]
  },
  {
   "cell_type": "markdown",
   "metadata": {},
   "source": [
    "A fenti kód lefuttatásával a motort először elforgatjuk 90 fokkal előre, majd 5 másodperc várakozás után 45 fokot hátra, fele akkora sebességgel mint előre. Végül újra előre forgatjuk nagyon lassan, de megadott szög hiányában megállás nélkül kell forognia. Ha meg akarjuk állítani a motor forgását a ```CTRL+C``` billentyű párosítást kell lenyomnunk.  "
   ]
  },
  {
   "cell_type": "markdown",
   "metadata": {},
   "source": [
    "### A *ping* parancs"
   ]
  },
  {
   "cell_type": "markdown",
   "metadata": {},
   "source": [
    "A ```ping``` parancs a terminálban (mind Linux, Mac és Windows alatt is) arra szolgál, hogy leellenőrizzük, hogy a parancs után megadott IP címet látjuk-e a hálózatban. Az IP cím lehet számkód formájú, pl. 192.168.0.1 (általában a routered IP címe), vagy akár az IP-hez tartozó domain név is, pl. *www.google.com*."
   ]
  },
  {
   "cell_type": "code",
   "execution_count": null,
   "metadata": {},
   "outputs": [],
   "source": [
    "ping www.google.com\n",
    "ping 192.168.0.1"
   ]
  },
  {
   "cell_type": "markdown",
   "metadata": {},
   "source": [
    "Hogy a fenti operációs rendszer beli parancsokat végre tudjuk hajtani pythonból, felhasználjuk a ```subprocess``` modult és azon belül a ```check_output``` függvényt. Ez a függvény teszi lehetővé, hogy a bemenő paraméterként megadott parancs végrehajtása után a visszaadott értéket pythonból tudjuk értelmezni. Ahhoz, hogy a bemenő parancsot és a hozzá tartozó argumentumokat egy string formájában adhassuk meg (és ne listában levő stringekként), a ```shell=True``` argumentumot is beírjuk a függvényünknek:"
   ]
  },
  {
   "cell_type": "code",
   "execution_count": 11,
   "metadata": {},
   "outputs": [
    {
     "name": "stdout",
     "output_type": "stream",
     "text": [
      "b'\\r\\nPinging www.google.com [216.58.214.228] with 32 bytes of data:\\r\\nReply from 216.58.214.228: bytes=32 time=42ms TTL=120\\r\\nReply from 216.58.214.228: bytes=32 time=36ms TTL=120\\r\\nReply from 216.58.214.228: bytes=32 time=35ms TTL=120\\r\\nReply from 216.58.214.228: bytes=32 time=57ms TTL=120\\r\\n\\r\\nPing statistics for 216.58.214.228:\\r\\n    Packets: Sent = 4, Received = 4, Lost = 0 (0% loss),\\r\\nApproximate round trip times in milli-seconds:\\r\\n    Minimum = 35ms, Maximum = 57ms, Average = 42ms\\r\\n'\n"
     ]
    }
   ],
   "source": [
    "output = subprocess.check_output(f'ping www.google.com', shell=True)\n",
    "print(output)"
   ]
  },
  {
   "cell_type": "markdown",
   "metadata": {},
   "source": [
    "Mint látjuk, a visszaadott érték egy bit típusú érték, ```b''```. Ahhoz, hogy ezt stringként tudjuk kezelni, dekódolnunk kell a ```decode``` metódussal:"
   ]
  },
  {
   "cell_type": "code",
   "execution_count": 12,
   "metadata": {},
   "outputs": [
    {
     "name": "stdout",
     "output_type": "stream",
     "text": [
      "\r\n",
      "Pinging www.google.com [216.58.214.228] with 32 bytes of data:\r\n",
      "Reply from 216.58.214.228: bytes=32 time=42ms TTL=120\r\n",
      "Reply from 216.58.214.228: bytes=32 time=36ms TTL=120\r\n",
      "Reply from 216.58.214.228: bytes=32 time=35ms TTL=120\r\n",
      "Reply from 216.58.214.228: bytes=32 time=57ms TTL=120\r\n",
      "\r\n",
      "Ping statistics for 216.58.214.228:\r\n",
      "    Packets: Sent = 4, Received = 4, Lost = 0 (0% loss),\r\n",
      "Approximate round trip times in milli-seconds:\r\n",
      "    Minimum = 35ms, Maximum = 57ms, Average = 42ms\r\n",
      "\n"
     ]
    }
   ],
   "source": [
    "print(output.decode())"
   ]
  },
  {
   "cell_type": "markdown",
   "metadata": {},
   "source": [
    "A ```ping``` adatcsomagokat küld a megadott címre és nézi, hogy mennyi ért célba. Van néhány argumentuma amit megadhatunk, zárójelben a Windowshoz tartozó argumentumokat adtuk meg, a sima jelek pedig a Linux rendszerekhez tartoznak.\n",
    "\n",
    "* -W (-w) - Az argumentum után megadott szám mutatja másodpercben értelmezve, hogy mennyi ideig próbáljon pinggelni.\n",
    "* -c (-n) - meghatározza, hogy hány csomag legyen kiküldve."
   ]
  },
  {
   "cell_type": "code",
   "execution_count": 16,
   "metadata": {},
   "outputs": [
    {
     "name": "stdout",
     "output_type": "stream",
     "text": [
      "\r\n",
      "Pinging www.google.com [216.58.214.228] with 32 bytes of data:\r\n",
      "Request timed out.\r\n",
      "Reply from 216.58.214.228: bytes=32 time=36ms TTL=120\r\n",
      "Reply from 216.58.214.228: bytes=32 time=37ms TTL=120\r\n",
      "\r\n",
      "Ping statistics for 216.58.214.228:\r\n",
      "    Packets: Sent = 3, Received = 2, Lost = 1 (33% loss),\r\n",
      "Approximate round trip times in milli-seconds:\r\n",
      "    Minimum = 36ms, Maximum = 37ms, Average = 36ms\r\n",
      "\n"
     ]
    }
   ],
   "source": [
    "output = subprocess.check_output('ping -W 2 -c 3 www.google.com', shell=True)\n",
    "print(output.decode())"
   ]
  },
  {
   "cell_type": "markdown",
   "metadata": {},
   "source": [
    "A fenti parancs 2 másodperc eltelte után nem küld tovább kis csomagokat a Google honlapjának és 3 tesztelő csomag kiküldése után nem küld többet. "
   ]
  },
  {
   "cell_type": "markdown",
   "metadata": {},
   "source": [
    "### Az *arp* parancs"
   ]
  },
  {
   "cell_type": "markdown",
   "metadata": {},
   "source": [
    "Az ```arp``` parancs segítségével létrehozhatók, módosíthatók és megjeleníthetők a fizikai cím (MAC cím) - IP-cím összerendelések. \n",
    "\n",
    "Az ```arp -a``` parancs felsorolja az összes ARP-gyorsítótárban lévő eszközt, beleértve azok IPv4-címét, fizikai címét és a cím típusát (statikus/dinamikus)."
   ]
  },
  {
   "cell_type": "code",
   "execution_count": 19,
   "metadata": {},
   "outputs": [
    {
     "name": "stdout",
     "output_type": "stream",
     "text": [
      "\r\n",
      "Interface: 192.168.0.197 --- 0xb\r\n",
      "  Internet Address      Physical Address      Type\r\n",
      "  192.168.0.1           d8-47-32-2e-5a-85     dynamic   \r\n",
      "  192.168.0.115         18-82-8c-b0-57-2b     dynamic   \r\n",
      "  192.168.0.255         ff-ff-ff-ff-ff-ff     static    \r\n",
      "  224.0.0.22            01-00-5e-00-00-16     static    \r\n",
      "  224.0.0.251           01-00-5e-00-00-fb     static    \r\n",
      "  224.0.0.252           01-00-5e-00-00-fc     static    \r\n",
      "  239.255.255.250       01-00-5e-7f-ff-fa     static    \r\n",
      "  255.255.255.255       ff-ff-ff-ff-ff-ff     static    \r\n",
      "\n"
     ]
    }
   ],
   "source": [
    "output = subprocess.check_output('arp -a', shell=True)\n",
    "print(output.decode())"
   ]
  },
  {
   "cell_type": "markdown",
   "metadata": {},
   "source": [
    "Az ARP-gyorsítótár csak azoknak az eszközöknek az információit tartalmazza, melyekhez mostanában történt hozzáférés. A cache feltöltéséhez pingeljük meg a kívánt eszközt, így biztosan lesz bejegyzés hozzá az ARP táblában. \n",
    "\n",
    "Ezek szerint fel kell készülnünk arra, hogy annak ellenére, hogy a mobilunkkal lecsatlakoztunk a hálózatról, a cacheben még mindig benne lesz az IP és MAC címünk úgy észlelve mintha még mindig csatlakozva lennénk. Emiatt érdemes lesz mindig megpingelni az kívánt IP címet, hogy frissítődjön a cache és újra pontosan mutassa kinek az eszköze van csatlakozva."
   ]
  },
  {
   "cell_type": "markdown",
   "metadata": {},
   "source": [
    "### A személyes adatok tárolása"
   ]
  },
  {
   "cell_type": "markdown",
   "metadata": {},
   "source": [
    "Ahhoz, hogy a hálózatról el tudjuk dönteni ki van felcsatlakozva és ki nem, ismernünk kell a mobil telefonjuk fizikai címét (és, hogy a cachet frissíthessük, ebben az esetben igénybe vesszük az IP címüket is). \n",
    "\n",
    "*Iphone fizikai és IP cím*\n",
    "\n",
    "* Fizikai cím: [ezen a linken részletezik hol található](https://poli.hu/wp/2015/03/14/mac-cim-megallapitasa-apple-ios-rendszeren/)\n",
    "* IP cím: [ezen a linken részletezik hol található](https://hvg.hu/tudomany/R9ZVTM_Igy_tudhatja_meg_iPhoneja_vagy_iPadje_IPcim)\n",
    "\n",
    "*Android fizikai és IP cím*:\n",
    "\n",
    "* Fizikai cím: [ezen a linken részletezik hol található](https://poli.hu/wp/2015/03/14/mac-cim-megallapitasa-android-rendszeren/)\n",
    "* IP cím: [ezen a linken részletezik hol található](https://www.lifewire.com/change-ip-address-on-android-4588283#:~:text=Change%20the%20IP%20Address%20on%20Your%20Android,-Now%20that%20you&text=Open%20Settings%2C%20under%20Network%20%26%20internet,%2C%20tap%20on%20Wi%2DFi.&text=Tap%20Advanced%20options%2C%20and%20scroll,change%20the%20setting%20to%20Static)\n",
    "\n",
    "Ha összegyűjtöttük a családtagjaink fizikai és IP címét tároljuk azokat egy listába mentett könyvtárba. A könyvtár képviseli majd a hozzánktartozó adatait. Adjunk egy ```name```, ```mac``` és ```ip``` kulcsot és írjuk le a hozzájuk tartozó értékeket. A ```name```-hez a hozzánktartozó nevét vagy mobiljának a nevét írjuk."
   ]
  },
  {
   "cell_type": "code",
   "execution_count": 20,
   "metadata": {},
   "outputs": [
    {
     "name": "stdout",
     "output_type": "stream",
     "text": [
      "Mom Phone\n",
      "YY-YY-YY-YY-YY-YY\n",
      "192.168.0.118\n"
     ]
    }
   ],
   "source": [
    "data = [{'name':'Mom Phone', 'mac':\"XX-XX-XX-XX-XX-XX\", 'ip':'192.168.0.166'},\n",
    "        {'name':'Dad Phone', 'mac':\"YY-YY-YY-YY-YY-YY\", 'ip':'192.168.0.132'},\n",
    "        {'name':'Sister Phone',  'mac':\"ZZ-ZZ-ZZ-ZZ-ZZ-ZZ\", 'ip':'192.168.0.118'}\n",
    "]\n",
    "\n",
    "print(data[0]['name'])\n",
    "print(data[1]['mac'])\n",
    "print(data[2]['ip'])"
   ]
  },
  {
   "cell_type": "markdown",
   "metadata": {},
   "source": [
    "A fenti példában a ```data``` változó tárolja az adatokat, méghozzá a jelen esetben 3 személy adatait. Ez egy lista, tehát, ha meg akarjuk tekinteni a tartalmát, hivatkozni kell a sorszámra. A lista elemei könyvtárak, tehát ha azok tartalmát akarjuk látni, akkor a megfelelő kulcsokkal megnézhetjük, mint a fenti példában tettük. "
   ]
  },
  {
   "cell_type": "markdown",
   "metadata": {},
   "source": [
    "### A hálózatban szereplő eszközök lekérdezése és összevetése a személyes adatokkal"
   ]
  },
  {
   "cell_type": "markdown",
   "metadata": {},
   "source": [
    "Most már készen állunk a kód fő részének a megírásához, ahol ellenőrízzük hány regisztrált eszköz van csatlakozva a hálózathoz. Mindezt egy végtelen ```while``` ciklus indításával kezdjük és az ellenőrzést minden ciklusban megismételjük. Definiálunk egy változót, ```people_at_home = 0```, ami számlálja majd, hogy hányan (hány eszköz) van otthon. Alapfeltételezésünk az az, hogy senki sincs otthon rajtunk kívül (ne feledjük, hogy a ```data``` változóba mentett fizikai és ip címeknél a saját eszközünket ne írjuk be, különben a lenti kód nem jól fog működni). \n",
    "\n",
    "Ezután lefuttatjuk az ```arp -a``` parancsot a ```subprocess.check_output``` függvénnyel és a visszaadott eredményt, stringet, az ```output``` változóba mentjük. \n",
    "\n",
    "Most pedig végig lépkedünk egy ```for``` ciklus segítségével az adatbázisunkon, ```data```, és összevetjük annak a tartalmát az ```output``` változóban található eredménnyel. A ```for``` ciklusban először megpingeljük az adott eszközt, ```outp = subprocess.check_output(f'ping -W 2 -c 3 {item['ip']}', shell=True)```. Ez igazából csak arra jó, hogy frissítsük a hálózatunk cache tartalmát, és realizálódjanak benne a változások, pl. a megpinggelt IP cím csatlakozott a hálózathoz, vagy épp lecsatlakozott. \n",
    "\n",
    "Végül összevetjük, hogy az ```output``` változóban található MAC címek közül valamelyik egyezik-e a mi adatbázisunkban, ```data```, szereplő MAC címek egyikével, ```if item['mac'] in output.decode() or item['mac'].replace('-',':') in output.decode():```. Az ```arp``` kicsit más eredményt ad vissza a MAC címre Linux és Windows alatt.\n",
    "\n",
    "* Linux: a kétjegyű betű-számpárok kettősponttal vannak elválasztva egymástól.\n",
    "* Windows: a kétjegyű betű-számpárok kötőjellel vannak elválasztva egymástól.\n",
    "\n",
    "Mi a ```data``` változóban kötőjellel választottuk el őket, így a feltételes szerkezetbe be kellett írni egy olyan kivizsgálást is, hogy ha a kötőjelet kettőspontra változtattjuk, ```item['mac'].replace('-',':')```, akkor van-e találat az ```output```-ban levő eredménnyel. Ha van találat, akkor megnöveljük 1-gyel az otthon levők számát, ```people_at_home = people_at_home + 1```."
   ]
  },
  {
   "cell_type": "markdown",
   "metadata": {},
   "source": [
    "```stepper_motor.py```:"
   ]
  },
  {
   "cell_type": "code",
   "execution_count": null,
   "metadata": {},
   "outputs": [],
   "source": [
    "import subprocess\n",
    "import time\n",
    "from stepper_motor import StepperMotor\n",
    "\n",
    "m = StepperMotor(12,16,20,21)\n",
    "\n",
    "data = [{'name':'Mom Phone', 'mac':\"XX-XX-XX-XX-XX-XX\", 'ip':'192.168.0.166'},\n",
    "        {'name':'Dad Phone', 'mac':\"YY-YY-YY-YY-YY-YY\", 'ip':'192.168.0.132'},\n",
    "        {'name':'Sister Phone',  'mac':\"ZZ-ZZ-ZZ-ZZ-ZZ-ZZ\", 'ip':'192.168.0.118'}\n",
    "]\n",
    "\n",
    "while True:\n",
    "    people_at_home = 0\n",
    "    output = subprocess.check_output(\"arp -a\", shell=True)\n",
    "    print (\"starting scan\")\n",
    "    for item in data:\n",
    "        outp = subprocess.check_output(f'ping -W 2 -c 3 {item['ip']}', shell=True)\n",
    "        if item['mac'] in output.decode() or item['mac'].replace('-',':') in output.decode():\n",
    "            people_at_home = people_at_home + 1\n",
    "\n",
    "    if people_at_home == 0:\n",
    "        print('Home Alone')\n",
    "    else:\n",
    "        print('Not So Alone')\n",
    "    \n",
    "    time.sleep(5)"
   ]
  },
  {
   "cell_type": "markdown",
   "metadata": {},
   "source": [
    "A fent leírt kódrészletnek az a lényege, hogy a MAC címek alapján kiszámolja hányan vannak a hálózatra csatlakozva a megadott adatbázisból. Ha ```people_at_home == 0``` akkor kinyomtatjuk, hogy egyedól vagyunk otthon, ellenkező esetben pedig, hogy nem vagyunk egyedül. Végül várunk 5 másodpercet a ciklusban és újraindítjuk azt.\n",
    "\n",
    "A fenti kód helyes működését könnyen letesztelhetjük, ha a ```data``` változóba beírjuk a mi mobilunk adatait is. Elindítva a kódot figyeljük, hogy helyesen nyomtatja-e ki, hogy egyedül vagyunk-e vagy sem, annak függvényében, hogy fel és le csatlakozunk a wifi hálózatról. Minden egyes váltásnál érdemes várni akár fél percet is, mire frissülnek az információk. "
   ]
  },
  {
   "cell_type": "markdown",
   "metadata": {},
   "source": [
    "### A motor pozíciójának beállítása"
   ]
  },
  {
   "cell_type": "markdown",
   "metadata": {},
   "source": [
    "Végül már csak az maradt, hogy a képernyőre kinyomtatás helyett a motor forgatásával mondjuk meg, hogy egyedül vagyunk-e vagy sem. Mindezt egyszerűen megtehetjük, ugyanis csak a ```print``` parancsok helyett kell a motorok mozgatását megoldani. \n",
    "\n",
    "Mivel a motor nem ismeri a saját abszolút pozícióját, így nekünk kell azt számon tartani, hogy épp melyik irányba van elforgatva. A motor ```angle``` változója mondja meg ezt a szöget, ami a motor inicializálásakor 0 fokot vesz fel. \n",
    "\n",
    "Tehát, abban az esetben ha nincs otthon senki, ```people_at_home = 0```, még le kell ellenőríznünk, hogy a motor mutatója merre áll, ahhoz, hogy tudjuk, kell-e mozgatni vagy sem. Az alapértelmezett beállításunk az, hogy egyedül vagyunk otthon, azaz ez felel meg a 0 foknak. Ha ```m.angle == 180``` azaz, az előző állapotban még volt itthon valaki, akkor vissza kell forgatnunk a motort 180 fokkal, ```m.backward(speed=1, angle=180)```, ha viszont a motor alapból 0 foknál állt akkor semmit nem kell tennünk. \n",
    "\n",
    "Ugyanezt eljátszuk akkor is, ha az otthon levők száma nem 0. Le kell ellenőríznünk, hogy egy ciklussal korábban a motor 0 foknál (egyedül otthon) állt-e, mert ha igen, akkor el kell forgatnunk a motort 180 fokkal, ```m.forward(speed=1, angle=180)```. Ellenkező esetben szintén hadjuk a motort az adott állapotban. "
   ]
  },
  {
   "cell_type": "markdown",
   "metadata": {},
   "source": [
    "```stepper_motor.py```:"
   ]
  },
  {
   "cell_type": "code",
   "execution_count": 1,
   "metadata": {},
   "outputs": [],
   "source": [
    "import subprocess\n",
    "import time\n",
    "from stepper_motor import StepperMotor\n",
    "\n",
    "m = StepperMotor(12,16,20,21)\n",
    "\n",
    "data = [{'name':'Mom Phone', 'mac':\"XX-XX-XX-XX-XX-XX\", 'ip':'192.168.0.166'},\n",
    "        {'name':'Dad Phone', 'mac':\"YY-YY-YY-YY-YY-YY\", 'ip':'192.168.0.132'},\n",
    "        {'name':'Sister Phone',  'mac':\"ZZ-ZZ-ZZ-ZZ-ZZ-ZZ\", 'ip':'192.168.0.118'}\n",
    "]\n",
    "\n",
    "while True:\n",
    "    people_at_home = 0\n",
    "    output = subprocess.check_output(\"arp -a\", shell=True)\n",
    "    print (\"starting scan\")\n",
    "    for item in data:\n",
    "        outp = subprocess.check_output(f'ping -W 2 -c 3 {item['ip']}', shell=True)\n",
    "        if item['mac'] in output.decode() or item['mac'].replace('-',':') in output.decode():\n",
    "            people_at_home = people_at_home + 1\n",
    "\n",
    "    if people_at_home == 0:\n",
    "        if m.angle == 180:\n",
    "            m.backward(speed=1, angle=180)\n",
    "    else:\n",
    "        if m.angle == 0:  # 0 degree is alone position\n",
    "            m.forward(speed=1, angle=180)\n",
    "            time.sleep(2)\n",
    "    \n",
    "    time.sleep(5)"
   ]
  },
  {
   "cell_type": "markdown",
   "metadata": {},
   "source": [
    "Lefuttatva a kódot már a motor mutatójának kellene mutatnia, hogy egyedül vagyunk-e vagy sem."
   ]
  },
  {
   "cell_type": "markdown",
   "metadata": {},
   "source": [
    "## A projekt tesztelése"
   ]
  },
  {
   "cell_type": "markdown",
   "metadata": {},
   "source": [
    "Miután összeszereltük az áramkört és a kódot is megírtuk, amit pl. ```stepper_motor.py``` név alatt mentettünk el, megnyithatunk a Raspberry Pi operációs rendszerén egy terminált. A terminálban a ```cd 'mappa név'``` paranccsal elnavigálunk abba a mappába, ahova a ```stepper_motor.py```-t elmentettük. Ott begépelve a ```python stepper_motor.py``` parancsot, letesztelhetjük a programunk működését. Ha minden jól megy akkor a program elindításával a kód beállítja a motor mutatóját a megfelelő állásba. Ha van otthon valaki, akkor a motor az alap állásban van, ha nincs csak mi, akkor elfordul 180 fokkal.\n",
    "\n",
    "Hibaüzenetek esetén ki kell deríteni mi lehetett a probléma, pl. elgépelés, egy modul hiányzik, sorok megfelelő behúzása, idézőjel lemaradása stb. A hibaüzenet legtöbbször segít abban, hogy melyik sorban találta a hibát és hogy mi volt az. Egy kis gyakorlással bele lehet jönni azok értelmezésébe, valamint interneten is rá lehet keresni a hibaüzenet jelentésére és annak lehetséges elhárítására."
   ]
  },
  {
   "cell_type": "markdown",
   "metadata": {},
   "source": [
    "## Mit lehet javítani/továbbfejleszteni?"
   ]
  },
  {
   "cell_type": "markdown",
   "metadata": {},
   "source": [
    "* LED-ekkel szimbolizálni egy-egy személyt és egy gomb segítségével kiválasztani valakit, akiről a szerkezet megmondja otthon van-e vagy sem. \n",
    "* Egy óra hátlapja fölött forgatni a léptető motort és a hátlapon lévő számok jeleznék, hány eszköz csatlakozott a hálózathoz. \n",
    "\n",
    "Írd meg kommentben, hogy szerinted mivel lehetne még feldobni ezt a kis programot!"
   ]
  },
  {
   "cell_type": "markdown",
   "metadata": {},
   "source": [
    "## Referencia"
   ]
  },
  {
   "cell_type": "markdown",
   "metadata": {},
   "source": [
    "1) gpiozero leírás - [https://gpiozero.readthedocs.io/en/stable/recipes.html](https://gpiozero.readthedocs.io/en/stable/recipes.html)\n",
    "\n",
    "2) StepperMotor objektum leírása - [stepper_motor.py](stepper_motor.py)\n",
    "\n",
    "3) Léptető motor adatlapja - [https://www.tme.eu/Document/6250c8b5584ec9950520f47b13e256e8/MIKROE-1530-DTE.pdf](https://www.tme.eu/Document/6250c8b5584ec9950520f47b13e256e8/MIKROE-1530-DTE.pdf)\n",
    "\n",
    "4) ping leírása linuxra - [https://www.geeksforgeeks.org/ping-command-in-linux-with-examples/](https://www.geeksforgeeks.org/ping-command-in-linux-with-examples/)\n",
    "\n",
    "5) arp leírása - [https://www.computerhope.com/unix/arp.htm](https://www.computerhope.com/unix/arp.htm)\n",
    "\n",
    "7) subprocess csomag leírása - [https://www.webcodegeeks.com/python/python-subprocess-example/](https://www.webcodegeeks.com/python/python-subprocess-example/)\n",
    "\n",
    "8) time csomag leírása - [https://docs.python.org/3/library/time.html](https://docs.python.org/3/library/time.html)"
   ]
  },
  {
   "cell_type": "code",
   "execution_count": null,
   "metadata": {},
   "outputs": [],
   "source": []
  }
 ],
 "metadata": {
  "kernelspec": {
   "display_name": "Python 3",
   "language": "python",
   "name": "python3"
  },
  "language_info": {
   "codemirror_mode": {
    "name": "ipython",
    "version": 3
   },
   "file_extension": ".py",
   "mimetype": "text/x-python",
   "name": "python",
   "nbconvert_exporter": "python",
   "pygments_lexer": "ipython3",
   "version": "3.7.3"
  },
  "toc": {
   "base_numbering": 1,
   "nav_menu": {},
   "number_sections": true,
   "sideBar": true,
   "skip_h1_title": false,
   "title_cell": "Table of Contents",
   "title_sidebar": "Contents",
   "toc_cell": false,
   "toc_position": {},
   "toc_section_display": true,
   "toc_window_display": false
  }
 },
 "nbformat": 4,
 "nbformat_minor": 2
}
