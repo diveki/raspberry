{
 "cells": [
  {
   "cell_type": "markdown",
   "metadata": {},
   "source": [
    "# Projekt 7 - A varázsóra"
   ]
  },
  {
   "cell_type": "markdown",
   "metadata": {},
   "source": [
    "A Harry Potter féle varázslóvilágban a Weasley családnak volt egy érdekes mágikus órája. Küllemre egy egyszerű, régi típusú kakukkos órára hasonlított, csak épp nem az időt mutatta. Több mutatóval rendelkezett. Minden mutató egy családtagot képviselt. A mutatók mögötti hátlapon helyszínek nevei álltak össze betűkből, jelezve, hogy a családtagok épp merre találhatók. \n",
    "\n",
    "Ebben a projektben egy hasonló berendezést készítunk el, csak épp egyszerűbb kivitelben és nem használunk hozzá varázslatot (tudom, így már nem is olyan izgi). Egy olyan órát készítünk, ami egy mutatóval rendelkezik és azt jelzi, hogy egyedül vagyunk-e otthon vagy sem, arra alapozva, hogy a routerünkre felcsatlakozott-e valakinek a mobilja vagy sem. Természetesen attól, még, hogy valaki mobilja nem ment fel a router wifijére, nem azt jelenti, hogy az illető nincs a házban, de a mai világban nehéz elképzelni, hogy valaki ne netezzen a telefonján keresztül."
   ]
  },
  {
   "cell_type": "markdown",
   "metadata": {},
   "source": [
    "## Mit fogsz készíteni?"
   ]
  },
  {
   "cell_type": "markdown",
   "metadata": {},
   "source": [
    "Egy 28BYJ-48 típusú szervo motorból és a hozzá tartozó ULN2003A vezérlőből álló rendszert építünk, amit a Raspberry Pi-hoz kapcsolunk. A motor tengelyére egy mutatót szerelünk és úgy programozzuk be, hogy két állapotot mutasson a bemenő jelek függvényében. Alap állapot, egyedül vagyunk otthon, amikor vagy csak a mi mobilunk jelenlétét érzékeli a router vagy senkiét se. Viszont, ha valaki más mobilja is felcsatlakozik a routerre, akkor a mutatónk 180 fokban elfordul és jelzi, hogy rajtunk kívül más is van otthon.  **Megjegyzés: Mindig használjunk megfelelő drivert a motorral összekötve, hogy csökkentsük bármelyik eszköz károsodásának lehetőségét.**\n"
   ]
  },
  {
   "cell_type": "markdown",
   "metadata": {},
   "source": [
    "## Mit tanulsz meg?"
   ]
  },
  {
   "cell_type": "markdown",
   "metadata": {},
   "source": [
    "A varázsóra elkészítésével a következőket tanulod meg:\n",
    "\n",
    "* Hogyan tudsz egy léptető motort egy áramkörbe beiktatni.\n",
    "* Hogyan programozd be a Raspberry Pi GPIO kimeneteleit a **gpiozero** modullal.\n",
    "* Hogyan indíts el operációs rendszer szintű parancsokat pythonból a **subprocess** modullal.\n",
    "* Hogyan kell IP címeket meg*ping*elni.\n",
    "* Hogyan ellenőrízzük le, hogy milyen IP címmel és MAC címmel rendelkező eszközök vannak a hálózatunkra kapcsolódva: *arp -a*."
   ]
  },
  {
   "cell_type": "markdown",
   "metadata": {},
   "source": [
    "## A projekt részletekre bontása"
   ]
  },
  {
   "cell_type": "markdown",
   "metadata": {},
   "source": [
    "* Elkészíteni az áramkört.\n",
    "* Inicializálni a StepperMotor objektumot.\n",
    "* Telefonnevek, MAC címek és IP címek definiálása.\n",
    "* Definiálni egy függvényt ami megpingeli a megadott IP címeket.\n",
    "* Végtelen ciklust elindítani.\n",
    "* Az *arp -a* paranccsal lekérni a hálózatban levő készülékek adatait.\n",
    "* Letesztelni a készülékeket, hogy van-e köztük olyan amit előre regisztráltunk.\n",
    "* A teszt eredményétől függően elforgatni a motort a megfelelő állásba (van otthon valaki vagy sem)."
   ]
  },
  {
   "cell_type": "markdown",
   "metadata": {},
   "source": [
    "## Áramköri elemek listája"
   ]
  },
  {
   "cell_type": "markdown",
   "metadata": {},
   "source": [
    "a) [Raspberry PI](https://malnapc.hu/yis/raspberry-pi/rpi-panelek) \n",
    "\n",
    "b) 28BYJ-48, 5V-os léptető motor: [itt vásárolhatsz](https://www.tme.eu/hu/details/mikroe-1530/starter-kit-kellekek/mikroelektronika/step-motor-5v-28byj-48-5v/)\n",
    "\n",
    "c) ULN2003a vezérlő lap - [itt vásárolhatsz](https://www.banggood.com/ULN2003-Stepper-Motor-Driver-Board-Test-Module-For-AVR-SMD-p-1497718.html?utm_source=googleshopping&utm_medium=cpc_organic&gmcCountry=HU&utm_content=minha&utm_campaign=minha-hu-en-pc&currency=HUF&cur_warehouse=CN&createTmp=1&utm_source=googleshopping&utm_medium=cpc_bgs&utm_content=sxxx&utm_campaign=sxxx-ssc-hu-all-1101-2quad-11sale&ad_id=476272142075&gclid=Cj0KCQiAzsz-BRCCARIsANotFgMhN12S6-O_eYl-htAh7aWgBFkZW_q51aMhZ8h2fYtPEFHz6bRpaEkaAmbkEALw_wcB)\n",
    "\n",
    "d) [Jumper wires female/male](https://www.ret.hu/shop/product/e-call/jumper-vezetek-szet_53-22-63) \n",
    "\n",
    "e) Kb. 10x10x2 cm-es hungarocell lap\n",
    "\n",
    "f) Hátlap: Home alone, Not so home alone felirattal pl. [Picúros mintájú]()"
   ]
  },
  {
   "cell_type": "markdown",
   "metadata": {},
   "source": [
    "## A kapcsolási rajz"
   ]
  },
  {
   "cell_type": "markdown",
   "metadata": {},
   "source": [
    "<img src=\"prog06_schema.png\" width=600 height=400 />"
   ]
  },
  {
   "cell_type": "markdown",
   "metadata": {},
   "source": [
    "### Kapcsolási rajz részletező"
   ]
  },
  {
   "cell_type": "markdown",
   "metadata": {},
   "source": [
    "A fenti ábrához hasonlóan kapcsoljuk össze az áramköri elemeket és a Raspberry Pi-t. Az áramkör részletes összekötési magyarázata a [Motorok]() című bevezető leírásban található.\n",
    "\n",
    "1) A 28BYJ-48 léptető motorban 4 tekercs található, amiknek 5 kivezetése van. A piros drót a közös kivezetés, amelyre minden tekercs egyik vége rá van kapcsolva. Erre a drótra érkezik majd az 5V táp feszültség. A tekercsek fennmaradó 4 kivezetésének mind külön drótja van. Amennyiben egy adott drótra 5V érkezik, akkor az adott tekercsen nem fog áram folyni, azaz nem kelt mágneses mezőt és nem készteti a rotort forgásra. A léptető motor akkor fog működni, ha felváltva aktiváljuk a sorban egymás után következő tekercseket így megforgatva a rotort. A léptető motor kimenetelét csak egyféleképp tudjuk rácsatlakoztatni az ULN2003a típusú vezérlőnkre. \n",
    "\n",
    "2) A bemenő jeleket az ULN2003a vezérlőn az *IN1*, *IN2*, *IN3*, *IN4* bemeneti tüskékre kell kapcsolni a lapon. A bemenő jel a Raspberry Pi tüskéiről érkezik. Az ábrán a *GPIO12*, *GPIO16*, *GPIO20* és *GPIO21*-es tüskéket használjuk.  \n",
    "\n",
    "3) A Raspberry Pi egyik földelését csatlakoztassuk az ULN2003a lap negatív (-) tüskéjére (fekete drót). \n",
    "\n",
    "4) A Raspberry Pi egyik 5V-os forrását pedig kapcsoljuk az ULN2003a lap pozitív (+) tüskéjére.\n",
    "\n",
    "**Kétszer is ellenőrizzük le, hogy a bekötésünk rendben van-e. A félrekötött tüskék nagyban növelik a motor vagy a Raspberry Pi tökremenési esélyeit. A motort SEMMIKÉPP SE tápláljuk és irányítsük direktben a Raspberry Pi-ről, mert az szinte biztosan a számítógép sérükéséhez vezet.**"
   ]
  },
  {
   "cell_type": "markdown",
   "metadata": {},
   "source": [
    "### Projekt összeszerelési útmutató"
   ]
  },
  {
   "cell_type": "markdown",
   "metadata": {},
   "source": [
    "<img src=\".jpg\" width=600 height=400 />"
   ]
  },
  {
   "cell_type": "markdown",
   "metadata": {},
   "source": [
    "A szerencsekerék összeszereléséhez a fenti képen látható elemek fognak kelleni. Egy alapzat (hungarocell), egy duncosgumi, egy motor és egy keménylapra ragasztott szerencsekerék papír."
   ]
  },
  {
   "cell_type": "markdown",
   "metadata": {},
   "source": [
    "<img src=\".jpg\" width=600 height=400 />"
   ]
  },
  {
   "cell_type": "markdown",
   "metadata": {},
   "source": [
    "Kb. 20x20x2 cm-es hungarocell lapot vágjunk ki, aminek nagyjából a közepét kb. 1x1 cm-es méretben átlukasztjuk. A hungarocell egyik sarkába helyezzünk (egyelőre ne ragasszuk oda) egy nyíl alakú jelzést (akár papírból is lehet, a lényeg, hogy csúcsos legyen a lyuk felé). Ez a nyíl fogja jelezni a szerencsekeréken, hogy melyik nyereményt kapjuk. "
   ]
  },
  {
   "cell_type": "markdown",
   "metadata": {},
   "source": [
    "<img src=\".jpg\" width=600 height=400 />"
   ]
  },
  {
   "cell_type": "markdown",
   "metadata": {},
   "source": [
    "Ezután rögzítsük a motort a hungarocellhez egy duncosgumival. Ha kell használjunk kettő duncosgumit, vagy bármilyen más leszorítást. A lényeg, hogy a motor forgása közben maga a motor teste ne mozogjon, csak a tengelye forogjon. "
   ]
  },
  {
   "cell_type": "markdown",
   "metadata": {},
   "source": [
    "<img src=\".jpg\" width=600 height=400 />"
   ]
  },
  {
   "cell_type": "markdown",
   "metadata": {},
   "source": [
    "Végül helyezzük a szerencsekerék lapját a motor tengelyére. Győződjünk meg róla, hogy a lap nem lötyög és nem esik le könnyen. Egyben igazítsunk a nyílacska pozícióján ha kell úgy, hogy felülről a lapra nézve egyértelműen lássuk melyik mezőre mutat a nyíl. Ha ez meg van, ragasszuk a nyílat a hungarocellhez."
   ]
  },
  {
   "cell_type": "markdown",
   "metadata": {},
   "source": [
    "## A kód\n",
    "Nyissunk meg egy új python fájlt és mentsük el pl. ```stepper_motor.py``` név alatt."
   ]
  },
  {
   "cell_type": "markdown",
   "metadata": {},
   "source": [
    "### A léptető motor kipróbálása"
   ]
  },
  {
   "cell_type": "markdown",
   "metadata": {},
   "source": [
    "Miután elkészítettük az áramkört, meg kell írnunk a kódot ami utasítja a Raspberry Pi-t, a motor mozgatására.\n",
    "\n",
    "A ```gpiozero``` csomag nem tartalmaz klasszokat a léptető motorok vezérléséhez. Ezt a problémát úgy hidaltuk át, hogy saját magunk írtunk hozzá egy klasszt ami felel majd a léptető motor mozgásáért. A ```stepper_motor``` nevű python fájlban található a ```StepperMotor``` klassz, amit kifejezetten a 28BYJ-48-as típusú léptető motorokhoz terveztünk. Tehát, ez az klassz nem feltétlenül fog vezérelni más motorokat. \n",
    "\n",
    "A ```StepperMotor``` objektumon kívül beimportáljuk még a ```subprocess``` csomagot, ami segít majd bennünket a terminál parancsok python környezetből való elindításában. Ezenkívül még a ```time``` csomagot importáljuk, amiből főként a ```sleep``` függvényt fogjuk majd használni, hogy késleltetéseket vezessünk be a kódunkba. "
   ]
  },
  {
   "cell_type": "markdown",
   "metadata": {},
   "source": [
    "```stepper_motor.py```:"
   ]
  },
  {
   "cell_type": "code",
   "execution_count": 3,
   "metadata": {},
   "outputs": [],
   "source": [
    "import subprocess\n",
    "import time\n",
    "from stepper_motor import StepperMotor"
   ]
  },
  {
   "cell_type": "markdown",
   "metadata": {},
   "source": [
    "Az importálások után inicializáljuk a léptető motorunkat, ```m = StepperMotor(12,16,20,21)```, ahol bemenő paraméterként a bemeneti drótokhoz tartozó GPIO számokat adjuk meg. Ezután teszteljük is a motor működését. A ```forward``` és a ```backward``` metódusokkal lehet előre vagy hátrafele forgatni a motor tengelyét. Bemenő paraméterként megadhatjuk a sebességet, ```speed``` ami 0 és 1 közötti értéket vehet fel. A 0 esetén a motor nem forog. A másik bemenő paraméter az ```angle```, ami meghatározza, hogy mekkora szögben forduljon el a tengely, fokokban kifejezve. Alapértelmezett értéke a ```None```, ami azt jelenti, hogy nem adtunk meg elfordulási szöget, tehát a tengely megállás nélkül forog, amíg manuálisan (```CTRL+C```) lenyomásával meg nem állítjuk. "
   ]
  },
  {
   "cell_type": "markdown",
   "metadata": {},
   "source": [
    "```stepper_motor.py```:"
   ]
  },
  {
   "cell_type": "code",
   "execution_count": null,
   "metadata": {},
   "outputs": [],
   "source": [
    "import subprocess\n",
    "import time\n",
    "from stepper_motor import StepperMotor\n",
    "\n",
    "m = StepperMotor(12,16,20,21)\n",
    "\n",
    "m.forward(speed=1, angle=90)\n",
    "time.sleep(5)\n",
    "m.backward(speed=0.5, angle=45)\n",
    "time.sleep(5)\n",
    "m.forward(speed=0.2, angle=None)"
   ]
  },
  {
   "cell_type": "markdown",
   "metadata": {},
   "source": [
    "A fenti kód lefuttatásával a motort először elforgatjuk 90 fokkal előre, majd 5 másodperc várakozás után 45 fokot hátra, fele akkora sebességgel mint előre. Végül újra előre forgatjuk nagyon lassan, de megadott szög hiányában megállás nélkül kell forognia. Ha meg akarjuk állítani a motor forgását a ```CTRL+C``` billentyű párosítást kell lenyomnunk.  "
   ]
  },
  {
   "cell_type": "markdown",
   "metadata": {},
   "source": [
    "### A *ping* parancs"
   ]
  },
  {
   "cell_type": "markdown",
   "metadata": {},
   "source": [
    "A ```ping``` parancs a terminálban (mind Linux, Mac és Windows alatt is) arra szolgál, hogy leellenőrizzük, hogy a parancs után megadott IP címet látjuk-e a hálózatban. Az IP cím lehet számkód formájú, pl. 192.168.0.1 (általában a routered IP címe), vagy akár az IP-hez tartozó domain név is, pl. *www.google.com*."
   ]
  },
  {
   "cell_type": "code",
   "execution_count": null,
   "metadata": {},
   "outputs": [],
   "source": [
    "ping www.google.com\n",
    "ping 192.168.0.1"
   ]
  },
  {
   "cell_type": "markdown",
   "metadata": {},
   "source": [
    "A ```ping``` adatcsomagokat küld a megadott címre és nézi, hogy mennyi ért célba. Van néhány argumentuma amit megadhatunk pl.\n",
    "\n",
    "* -W - ne pinggelj az argumentum után beírt szám értéke után. A számot másodpercben kell megadni.\n",
    "* -c - meghatározza, hogy hány csomag legyen kiküldve."
   ]
  },
  {
   "cell_type": "code",
   "execution_count": null,
   "metadata": {},
   "outputs": [],
   "source": [
    "ping -W 2 -c 3 www.google.com"
   ]
  },
  {
   "cell_type": "markdown",
   "metadata": {},
   "source": [
    "A fenti parancs 2 másodperc eltelte után nem küld tovább kis csomagokat a Google honlapjénak és 3 tesztelő csomag kikóldése után nem küld többet. "
   ]
  },
  {
   "cell_type": "markdown",
   "metadata": {},
   "source": [
    "### Az *arp* parancs"
   ]
  },
  {
   "cell_type": "markdown",
   "metadata": {},
   "source": [
    "```stepper_motor.py```:"
   ]
  },
  {
   "cell_type": "code",
   "execution_count": 2,
   "metadata": {},
   "outputs": [],
   "source": [
    "from gpiozero import Servo, AngularServo, Button\n",
    "import unidecode  # pip or conda install might be needed\n",
    "import sys, random\n",
    "import time\n",
    "\n",
    "angle_min = -90\n",
    "angle_max = 90\n",
    "\n",
    "motor = AngularServo(18, min_angle = angle_min, max_angle=angle_max)\n",
    "motor.angle = None"
   ]
  },
  {
   "cell_type": "markdown",
   "metadata": {},
   "source": [
    "Következő lépésben beimportáljuk a gombokért felelős ```Button``` objektumot is és definiálunk egy gombot, amit a *GPIO22*-re kötjük. "
   ]
  },
  {
   "cell_type": "markdown",
   "metadata": {},
   "source": [
    "```stepper_motor.py```:"
   ]
  },
  {
   "cell_type": "code",
   "execution_count": null,
   "metadata": {},
   "outputs": [],
   "source": [
    "from gpiozero import Servo, AngularServo, Button\n",
    "import unidecode  # pip or conda install might be needed\n",
    "import sys, random\n",
    "import time\n",
    "\n",
    "angle_min = -90\n",
    "angle_max = 90\n",
    "\n",
    "motor = AngularServo(18, min_angle = angle_min, max_angle=angle_max)\n",
    "motor.angle = None\n",
    "\n",
    "button_quit = Button(22)\n"
   ]
  },
  {
   "cell_type": "markdown",
   "metadata": {},
   "source": [
    "Ahhoz, hogy leteszteljük helyesen kötöttük-e be a gombot és, hogy működik, felhasználjuk a gomb valódi funkcióját, a programból való kiléptetést. Kell írnunk egy függvényt, ```exit_program```, ami kilép a pythonból. Erre szolgál a ```sys.exit(0)``` függvény. A 0, mint bemenő paraméter csak arra szolgál, hogy jelezze az operációs rendszernek, hogy rendben kilépett. Végül ezt a függvényt hozzá kell rendelnünk a gombhoz, méghozzá most a gomb lenyomásának pillanatához a ```when_pressed``` metódushoz."
   ]
  },
  {
   "cell_type": "markdown",
   "metadata": {},
   "source": [
    "```stepper_motor.py```:"
   ]
  },
  {
   "cell_type": "code",
   "execution_count": null,
   "metadata": {},
   "outputs": [],
   "source": [
    "from gpiozero import Servo, AngularServo, Button\n",
    "import unidecode  # pip or conda install might be needed\n",
    "import sys, random\n",
    "import time\n",
    "\n",
    "angle_min = -90\n",
    "angle_max = 90\n",
    "\n",
    "motor = AngularServo(18, min_angle = angle_min, max_angle=angle_max)\n",
    "motor.angle = None\n",
    "\n",
    "button_quit = Button(22)\n",
    "\n",
    "def exit_program():\n",
    "    sys.exit(0)\n",
    "    \n",
    "button_quit.when_pressed = exit_program\n",
    "\n",
    "while True:\n",
    "    pass"
   ]
  },
  {
   "cell_type": "markdown",
   "metadata": {},
   "source": [
    "A kód végén még elindítunk egy végtelen ciklust, ami nem csinál semmit, így csak a gombok lenyomása lesz az egyetlen egy esemény amit a számítógép jelezhet. \n",
    "\n",
    "Mentsük le a kódot és futtasuk le a pythonnal. Teszteljük, hogy a gombok lenyomására kilép-e a programunk a pythonból. "
   ]
  },
  {
   "cell_type": "markdown",
   "metadata": {},
   "source": [
    "Tételezzük fel, hogy a szervo motorunk mozgás tartománya lefedi a -90 ... 90 fokot és, hogy a háttérként szolgáló válaszok geometriájának középvonala a ```yes_angle = -45```, ```maybe_angle = 0``` és ```no_angle = 45``` fokoknál van, azaz ezeknél a szögeknél pont a válasz közepére mutatunk. Ezeket a szögeket az ```angle_list``` nevű listába gyűjtjük, hogy a motort majd a megfelelő szöggel tudjuk majd elforgatni, ha feltették a kérdést. "
   ]
  },
  {
   "cell_type": "markdown",
   "metadata": {},
   "source": [
    "```stepper_motor.py```:"
   ]
  },
  {
   "cell_type": "code",
   "execution_count": 1,
   "metadata": {},
   "outputs": [],
   "source": [
    "from gpiozero import Servo, AngularServo, Button\n",
    "import unidecode  # pip or conda install might be needed\n",
    "import sys, random\n",
    "import time\n",
    "\n",
    "angle_min = -90\n",
    "angle_max = 90\n",
    "\n",
    "motor = AngularServo(18, min_angle = angle_min, max_angle=angle_max)\n",
    "button_quit = Button(22)\n",
    "\n",
    "motor.angle = None\n",
    "\n",
    "yes_angle = -45\n",
    "no_angle = 45\n",
    "maybe_angle = 0\n",
    "angle_list = [yes_angle, no_angle, maybe_angle]\n",
    "\n",
    "\n",
    "def exit_program():\n",
    "    sys.exit(0)\n",
    "\n",
    "button_quit.when_pressed = exit_program\n",
    "\n",
    "while True:\n",
    "    pass"
   ]
  },
  {
   "cell_type": "markdown",
   "metadata": {},
   "source": [
    "### A személyes adatok tárolása"
   ]
  },
  {
   "cell_type": "markdown",
   "metadata": {},
   "source": [
    "A kövektező lépésben összegyűjtjük azokat a kérdőszavakat, amik ha a kérdésben szerepelnek, nem lehet rájuk igennel, nemmel vagy talánnal válaszolni. Ezeket a szavakat a ```question_words``` listába gyűjtjük. A kérdőszavak a netről könnyen kikutathatod, pl. [erről a címről](https://makerdoszo.blog.hu/2016/06/27/lista_609)."
   ]
  },
  {
   "cell_type": "code",
   "execution_count": 7,
   "metadata": {},
   "outputs": [],
   "source": [
    "question_words = ['hogy', 'hogyan', 'miként', 'hol', 'kinél', 'kitől', 'hol', 'honnan', \n",
    "                    'honnét', 'hová', 'hova', 'Meddig', 'Merre', 'Mettől', 'Minél',\n",
    "                    'Mitől', 'Ki', 'Kié', 'Kiért', 'Kiig', 'Kihez', 'Kiként', 'Kinek',\n",
    "                    'Kitől', 'Kivel', 'Mennyi', 'Hány', 'Mi', 'Mié', 'Miért', 'Miig',\n",
    "                    'Mihez', 'Miként', 'Minek', 'Mitől', 'Mivel', 'Mikor', 'Hánykor',\n",
    "                    'Hányig', 'Hánytól', 'Meddig', 'Mettől', 'Mikor', 'Mikortól', \n",
    "                    'Milyen']"
   ]
  },
  {
   "cell_type": "markdown",
   "metadata": {},
   "source": [
    "Látható, hogy a kérdőszavak nem egységesek, vannak kis- és nagybetűkkel kezdődőek, ékezetesek és ékezet nélküliek. Ezek elemzésére majd oda kell figyelni."
   ]
  },
  {
   "cell_type": "markdown",
   "metadata": {},
   "source": [
    "### A *ping* függvény"
   ]
  },
  {
   "cell_type": "markdown",
   "metadata": {},
   "source": [
    "A projektünk lényege, hogy számunkra ismeretlen kérdéseket lehet feltenni és még azt sem tudhatjuk, hogy milyen szavakat terveznek használni vagy helyesen írnak-e. Az utóbbi problémával jelen projektben nem foglalkozunk, de sorba veszünk néhány függvényt ami előkészítheti a beírt kérdést az elemzésre, azaz annak eldöntésére, hogy igennel, nemmel vagy talánnal lehet-e rá válaszolni. \n",
    "\n",
    "Az elgondolás alapjában az, hogy a beírt stringből meg kellene állapítanunk, hogy tartalmaz-e olyan kérdőszavat amit a ```question_words``` listában összegyűjtöttünk. A következő lépéseket fogjuk alkalmazni, hogy megtisztítsuk a beírt szöveget:\n",
    "\n",
    "* kisbetűssé alakítjuk a beírt szöveget,\n",
    "* eltüntetjük az ékezeteket,\n",
    "* eltüntetjük a kérdőjeleket a stringből,\n",
    "* a stringet alkotó szavakat egy lista elemeivé változtatjuk.\n",
    "\n",
    "Hogy általánosan alkalmazható legyen a metódusunk és ne legyen érzékeny a kis és nagybetűkre, ezért a beírt kérdés minden betűjét átváltoztatjuk kisbetűre, a stringek ```lower()``` metódusával. "
   ]
  },
  {
   "cell_type": "code",
   "execution_count": 1,
   "metadata": {},
   "outputs": [
    {
     "data": {
      "text/plain": [
       "'kiért mész a buszállomásra?'"
      ]
     },
     "execution_count": 1,
     "metadata": {},
     "output_type": "execute_result"
    }
   ],
   "source": [
    "test = 'Kiért mész a buszállomásra?'\n",
    "test = test.lower()\n",
    "test"
   ]
  },
  {
   "cell_type": "markdown",
   "metadata": {},
   "source": [
    "Azt sem tudhatjuk, hogy valaki ékezetekkel vagy anélkül fog-e gépelni, így érdemes uniformizálni a beírt szöveget és eltüntetni belőle az ékezeteket. Ehhez az ```unidecode()``` függvényt használjuk az ```unidecode``` csomagból (pip-pel lehet installálni). "
   ]
  },
  {
   "cell_type": "code",
   "execution_count": 4,
   "metadata": {},
   "outputs": [
    {
     "data": {
      "text/plain": [
       "'kiert mesz a buszallomasra?'"
      ]
     },
     "execution_count": 4,
     "metadata": {},
     "output_type": "execute_result"
    }
   ],
   "source": [
    "test = unidecode.unidecode(test)\n",
    "test"
   ]
  },
  {
   "cell_type": "markdown",
   "metadata": {},
   "source": [
    "Vannak egy szavas kérdések is mint pl. Ki?, ahol rögtön a kérdőszó után ott van a kérdőjel. A ```question_words``` listánkban hiába szerepel a 'Ki' kérdőszó, a vizsgálódásunk azt mutatná, hogy a 'Ki?' string nem ugyanaz mint a 'Ki' a kérdőjel miatt, így a programunk adna egy választ a három lehetőség közül, ami bizony helytelen viselkedési forma. Ezért fontos, hogy a begépelt stringből kivegyük a kérdőjeleket."
   ]
  },
  {
   "cell_type": "code",
   "execution_count": 5,
   "metadata": {},
   "outputs": [
    {
     "data": {
      "text/plain": [
       "'kiert mesz a buszallomasra'"
      ]
     },
     "execution_count": 5,
     "metadata": {},
     "output_type": "execute_result"
    }
   ],
   "source": [
    "test = test.replace('?', '')\n",
    "test"
   ]
  },
  {
   "cell_type": "markdown",
   "metadata": {},
   "source": [
    "Végül a stringben maradt szavakat egy lista elemeivé tesszük a stringekre vonatkozó ```split()``` metódussal. Bemenő paraméterként megadjük, hogy a lista elemei a stringben egy üres hellyel vannak elválasztva, ```' '```. "
   ]
  },
  {
   "cell_type": "code",
   "execution_count": 6,
   "metadata": {},
   "outputs": [
    {
     "data": {
      "text/plain": [
       "['kiert', 'mesz', 'a', 'buszallomasra']"
      ]
     },
     "execution_count": 6,
     "metadata": {},
     "output_type": "execute_result"
    }
   ],
   "source": [
    "test.split(' ')"
   ]
  },
  {
   "cell_type": "markdown",
   "metadata": {},
   "source": [
    "Evvel elvégeztük a begépelt kérdés előkészítését. Mostmár csak a ```question_words``` listában szereplő szavakat kell előkészíteni, azaz kisbetűsre hozni őket és eltüntetni az ékezeteket. Egy ```for``` ciklusban végig lépegetünk a lista elemein és elvégezzük rájuk ezeket a műveleteket. Majd minden elemnél megkérdezzük, hogy az megtalálható e a begépelt kérdés szavait tartalmazó letisztított listában, ```if wl in txt_list:```. Ha igen, akkor a visszaadott válasz legyen igaz, ha nem akkor hamis."
   ]
  },
  {
   "cell_type": "code",
   "execution_count": 8,
   "metadata": {},
   "outputs": [],
   "source": [
    "def check_for_words(txt, word_list = question_words):\n",
    "    txt = txt.lower()\n",
    "    txt = unidecode.unidecode(txt)\n",
    "    txt = txt.replace('?','')\n",
    "    txt_list = txt.split(' ')\n",
    "\n",
    "    for word in word_list:\n",
    "        wl = unidecode.unidecode(word.lower())\n",
    "        if wl in txt_list:\n",
    "            return True\n",
    "    return False"
   ]
  },
  {
   "cell_type": "code",
   "execution_count": 9,
   "metadata": {},
   "outputs": [
    {
     "data": {
      "text/plain": [
       "True"
      ]
     },
     "execution_count": 9,
     "metadata": {},
     "output_type": "execute_result"
    }
   ],
   "source": [
    "test = 'Kiért mész a buszállomásra?'\n",
    "check_for_words(test)"
   ]
  },
  {
   "cell_type": "markdown",
   "metadata": {},
   "source": [
    "Látható, hogy a függvényünk a teszt kérdésre azt válaszolta (helyesen), hogy igaz, hiszen a kérdés tartalmazta a 'Kiért' kérdőszót, ami nekünk nem felel meg, azaz a programunkban meg kell kérni a felhasználót, hogy adjon egy másik kérdést, pl.:"
   ]
  },
  {
   "cell_type": "code",
   "execution_count": 10,
   "metadata": {},
   "outputs": [
    {
     "data": {
      "text/plain": [
       "False"
      ]
     },
     "execution_count": 10,
     "metadata": {},
     "output_type": "execute_result"
    }
   ],
   "source": [
    "test = 'Adtál már enni PiCurnak?'\n",
    "check_for_words(test)"
   ]
  },
  {
   "cell_type": "markdown",
   "metadata": {},
   "source": [
    "### A hálózatban szereplő eszközök lekérdezése és összevetése a személyes adatokkal"
   ]
  },
  {
   "cell_type": "markdown",
   "metadata": {},
   "source": [
    "Már csak egy függvényt kell definiálnunk a program működéséhez ```answer_the_question```, méghozzá azt, ami a helyes kérdés esetén választ ad a kérdésre. Mint említettük, nem vagyunk mindent tudók, ezért a válaszunk teljesen véletlenszerű lesz. Ehhez a ```random``` csomagból a ```choice``` függvényt fogjuk használni, ami egy listából véletlenszerűen választ ki egy elemet:"
   ]
  },
  {
   "cell_type": "code",
   "execution_count": 12,
   "metadata": {},
   "outputs": [
    {
     "data": {
      "text/plain": [
       "54"
      ]
     },
     "execution_count": 12,
     "metadata": {},
     "output_type": "execute_result"
    }
   ],
   "source": [
    "random.choice([1,13,54,'hello','PiCur'])"
   ]
  },
  {
   "cell_type": "markdown",
   "metadata": {},
   "source": [
    "A függvényünkben a ```random.choice``` bemenő listája az ```angle_list``` lista lesz. Miután sikerült kiválasztanunk egy véletlenszerű szöget ```answer```, azt beállítjuk a motor új pozíciójának, ```motor.angle = answer```. Majd adunk a motornak egy másodpercet, hogy felvegye azt a pozíciót, ```time.sleep(1)```. Végül kikapcsoljuk a motorhoz küldendő jeleket, hogy a motor maga ne ugráljon bizonytalanul a kiválasztott szög körül, ```motor.angle = None```. "
   ]
  },
  {
   "cell_type": "code",
   "execution_count": 13,
   "metadata": {},
   "outputs": [],
   "source": [
    "def answer_the_question(motor, angle_list):\n",
    "    answer = random.choice(angle_list)\n",
    "    #print(answer)\n",
    "    motor.angle = answer\n",
    "    time.sleep(1)\n",
    "    motor.angle = None"
   ]
  },
  {
   "cell_type": "markdown",
   "metadata": {},
   "source": [
    "### A motor pozíciójának beállítása"
   ]
  },
  {
   "cell_type": "markdown",
   "metadata": {},
   "source": [
    "Végül elérkeztünk arra a pontra ahol a fent említett elemeket mind egybe kötjük. Már csak egy végtelen ciklust kell elindítanunk, aminek minden egyes ciklusában kiírjuk a képernyőre, hogy 'Mire vagy kíváncsi halandó?'. A beírt váalaszt a ```txt``` változóba mentjük és rögtön beadjuk paraméterként a ```check_for_words``` függvényünknek, hogy kiderüljön, hogy megfelelő kérdést foglamaztak-e meg vagy sem. A függvény értékét a ```proper``` változóba mentjük és egy ```if``` szerkezettel ki is vizsgáljuk annak értékét. Ha a ```proper``` változó értéke igaz, akkor néhány stilizált sort nyomtatunk a képernyőre és közöljük a felhasználóval, hogy rossz kérdést tett fel és igen/nem/talános kérdéseket várunk. Ezen ```print```-ek után van egy fontos parancs, a ```continue```. A ```continue```-t ciklusokban (```for```, ```while```) elhelyezett ```if``` szerkezetekben szoktuk használni. A jelentése az adott ciklus megszakítása és a következő ciklus elindítása. Azaz a mi esetünkben, ha a kód eléri a feltételes szerkezetben levő ```continue``` parancsot, nem fog tovább lépni a következő sorra, hogy végrehajtsa az ```answer_the_question``` függvényt, hanem a ```while``` ciklus első sorához ugrik, és újra kiírja a képernyőre, hogy mire vagy kiváncsi halandó. Evvel a módszerrel elkerüljük, hogy rossz kérdésfeltevés esetén a programunk egy választ generáljon. Hasonlóan használjuk a ```continue``` parancs párját a ```break```-et is. A ```break``` is megtöri a ciklust, de ahelyett, hogy újraindítaná a következőt, inkább kilép a felette álló ciklusból és azokat a sorokat hajtja végre ami a ciklusos szerkezet után van. \n",
    "\n",
    "Viszont, ha a ```proper``` értéke hamis, akkor a kód nem lép bele az ```if``` szerkezetbe és így csak az ```answer_the_question``` függvényt hajtja végre. Evvel biztosítjuk, hogy helyes kérdés esetén legenerálunk egy véletlenszerű választ, amit a motor be is mutat. "
   ]
  },
  {
   "cell_type": "markdown",
   "metadata": {},
   "source": [
    "```stepper_motor.py```:"
   ]
  },
  {
   "cell_type": "code",
   "execution_count": null,
   "metadata": {},
   "outputs": [],
   "source": [
    "from gpiozero import Servo, AngularServo, Button\n",
    "import unidecode  # pip or conda install might be needed\n",
    "import sys, random\n",
    "import time\n",
    "\n",
    "angle_min = -90\n",
    "angle_max = 90\n",
    "\n",
    "motor = AngularServo(18, min_angle = angle_min, max_angle=angle_max)\n",
    "button_quit = Button(22)\n",
    "\n",
    "motor.angle = None\n",
    "yes_angle = -45\n",
    "no_angle = 45\n",
    "maybe_angle = 0\n",
    "angle_list = [yes_angle, no_angle, maybe_angle]\n",
    "\n",
    "\n",
    "question_words = ['hogy', 'hogyan', 'miként', 'hol', 'kinél', 'kitől', 'hol', 'honnan', \n",
    "                    'honnét', 'hová', 'hova', 'Meddig', 'Merre', 'Mettől', 'Minél',\n",
    "                    'Mitől', 'Ki', 'Kié', 'Kiért', 'Kiig', 'Kihez', 'Kiként', 'Kinek',\n",
    "                    'Kitől', 'Kivel', 'Mennyi', 'Hány', 'Mi', 'Mié', 'Miért', 'Miig',\n",
    "                    'Mihez', 'Miként', 'Minek', 'Mitől', 'Mivel', 'Mikor', 'Hánykor',\n",
    "                    'Hányig', 'Hánytól', 'Meddig', 'Mettől', 'Mikor', 'Mikortól', \n",
    "                    'Milyen']\n",
    "\n",
    "\n",
    "def exit_program():\n",
    "    sys.exit(0)\n",
    "\n",
    "# check if the question contains any of the above words\n",
    "def check_for_words(txt, word_list = question_words):\n",
    "    txt = txt.lower()\n",
    "    txt = unidecode.unidecode(txt)\n",
    "    txt = txt.replace('?','')\n",
    "    txt_list = txt.split(' ')\n",
    "\n",
    "    for word in word_list:\n",
    "        wl = unidecode.unidecode(word.lower())\n",
    "        if wl in txt_list:\n",
    "            return True\n",
    "    return False\n",
    "\n",
    "def answer_the_question(motor, angle_list):\n",
    "    answer = random.choice(angle_list)\n",
    "    print(answer)\n",
    "    motor.angle = answer\n",
    "    time.sleep(1)\n",
    "    motor.angle = None\n",
    "\n",
    "\n",
    "button_quit.when_pressed = exit_program\n",
    "\n",
    "while True:\n",
    "    txt = input('Mire vagy kíváncsi halandó?\\n\\t')\n",
    "    proper = check_for_words(txt)\n",
    "    if proper:\n",
    "        print('*'*10)\n",
    "        print('Olyan kérdést tegyél fel, amire igennel, nemmel vagy talánnal tudok válaszolni!')\n",
    "        print('*'*10 + '\\n')\n",
    "        continue\n",
    "    answer_the_question(motor, angle_list)"
   ]
  },
  {
   "cell_type": "markdown",
   "metadata": {},
   "source": [
    "## A projekt tesztelése"
   ]
  },
  {
   "cell_type": "markdown",
   "metadata": {},
   "source": [
    "Miután összeszereltük az áramkört és a kódot is megírtuk, amit pl. ```stepper_motor.py``` név alatt mentettünk el, megnyithatunk a Raspberry Pi operációs rendszerén egy terminált. A terminálban a ```cd 'mappa név'``` paranccsal elnavigálunk abba a mappába, ahova a ```stepper_motor.py```-t elmentettük. Ott begépelve a ```python stepper_motor.py``` parancsot, letesztelhetjük a programunk működését. Ha minden jól megy akkor a program elindításával a kód beállítja a motor mutatóját a megfelelő állásba. Ha van otthon valaki, akkor a motor az alap állásban van, ha nincs csak mi, akkor elfordul 180 fokkal.\n",
    "\n",
    "Hibaüzenetek esetén ki kell deríteni mi lehetett a probléma, pl. elgépelés, egy modul hiányzik, sorok megfelelő behúzása, idézőjel lemaradása stb. A hibaüzenet legtöbbször segít abban, hogy melyik sorban találta a hibát és hogy mi volt az. Egy kis gyakorlással bele lehet jönni azok értelmezésébe, valamint interneten is rá lehet keresni a hibaüzenet jelentésére és annak lehetséges elhárítására."
   ]
  },
  {
   "cell_type": "markdown",
   "metadata": {},
   "source": [
    "## Mit lehet javítani/továbbfejleszteni?"
   ]
  },
  {
   "cell_type": "markdown",
   "metadata": {},
   "source": [
    "* LED-ekkel szimbolizálni egy-egy személyt és egy gomb segítségével kiválasztani valakit, akiről a szerkezet megmondja otthon van-e vagy sem. \n",
    "* Egy óra hátlapja fölött forgatni a léptető motort és a hátlapon lévő számok jeleznék, hány eszköz csatlakozott a hálózathoz. \n",
    "\n",
    "Írd meg kommentben, hogy szerinted mivel lehetne még feldobni ezt a kis programot!"
   ]
  },
  {
   "cell_type": "markdown",
   "metadata": {},
   "source": [
    "## Referencia"
   ]
  },
  {
   "cell_type": "markdown",
   "metadata": {},
   "source": [
    "1) gpiozero leírás - [https://gpiozero.readthedocs.io/en/stable/recipes.html](https://gpiozero.readthedocs.io/en/stable/recipes.html)\n",
    "\n",
    "2) Servo Motor objektum leírása - [https://gpiozero.readthedocs.io/en/stable/api_output.html#servo](https://gpiozero.readthedocs.io/en/stable/api_output.html#servo)\n",
    "\n",
    "3) Léptető motor adatlapja - [https://www.tme.eu/Document/6250c8b5584ec9950520f47b13e256e8/MIKROE-1530-DTE.pdf](https://www.tme.eu/Document/6250c8b5584ec9950520f47b13e256e8/MIKROE-1530-DTE.pdf)\n",
    "\n",
    "4) ping leírása linuxra - [https://www.geeksforgeeks.org/ping-command-in-linux-with-examples/](https://www.geeksforgeeks.org/ping-command-in-linux-with-examples/)\n",
    "\n",
    "5) unidecode csomag - [https://pypi.org/project/Unidecode/](https://pypi.org/project/Unidecode/)\n",
    "\n",
    "6) random csomag leírása - [https://docs.python.org/3/library/random.html](https://docs.python.org/3/library/random.html)\n",
    "\n",
    "7) sys csomag leírása - [https://docs.python.org/3/library/sys.html](https://docs.python.org/3/library/sys.html)\n",
    "\n",
    "8) time csomag leírása - [https://docs.python.org/3/library/time.html](https://docs.python.org/3/library/time.html)"
   ]
  },
  {
   "cell_type": "code",
   "execution_count": null,
   "metadata": {},
   "outputs": [],
   "source": []
  }
 ],
 "metadata": {
  "kernelspec": {
   "display_name": "Python 3",
   "language": "python",
   "name": "python3"
  },
  "language_info": {
   "codemirror_mode": {
    "name": "ipython",
    "version": 3
   },
   "file_extension": ".py",
   "mimetype": "text/x-python",
   "name": "python",
   "nbconvert_exporter": "python",
   "pygments_lexer": "ipython3",
   "version": "3.7.3"
  },
  "toc": {
   "base_numbering": 1,
   "nav_menu": {},
   "number_sections": true,
   "sideBar": true,
   "skip_h1_title": false,
   "title_cell": "Table of Contents",
   "title_sidebar": "Contents",
   "toc_cell": false,
   "toc_position": {},
   "toc_section_display": true,
   "toc_window_display": false
  }
 },
 "nbformat": 4,
 "nbformat_minor": 2
}
