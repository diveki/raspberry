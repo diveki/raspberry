{
 "cells": [
  {
   "cell_type": "markdown",
   "metadata": {},
   "source": [
    "# Motorok"
   ]
  },
  {
   "cell_type": "markdown",
   "metadata": {},
   "source": [
    "## DC kefés motor"
   ]
  },
  {
   "cell_type": "markdown",
   "metadata": {},
   "source": [
    "A DC motorok az elektromos energiát mechanikus energiává alakítják egy mágneses mező segítségével. "
   ]
  },
  {
   "cell_type": "markdown",
   "metadata": {},
   "source": [
    "### Referencia"
   ]
  },
  {
   "cell_type": "markdown",
   "metadata": {},
   "source": [
    "## Szervo motor"
   ]
  },
  {
   "cell_type": "markdown",
   "metadata": {
    "cell_style": "center"
   },
   "source": [
    "A szervo motorok olyan önálló elektromos eszközök amik nagy pontossággal forgatnak vagy tolnak/húznak elemeket egy szerkezetben. A szervo motorok a DC motor egy típusai amik képesek egy meghatározott szögben elfordulni. Ami megkülönbözteti a szervo motort a DC motortól az az, hogy szabályozhatod a szervo motor elfordulási szögét, míg a DC motornál lényegében csak azt, hogy be van-e kapcsolva vagy sem. A szervo, amíg be van kapcsolva, egyfolytában ellenőrzi és tartja a megadott pozícióját. Ha ki akarnánk mozdítani a helyzetéből, ellenállna. \n",
    "\n",
    "Szervo motorok nagyon sok területen előfordulnak pl. robot kezekben, CNC gépekben, autókban, CD/DVD lejátszókban stb. A repülőgépekben a szervo és a hozzá kapcsolódó hidraulikus technológia szabályozza pl. a gép szárnyainak szögét. A szervok különböző méretben léteznek, a nagy teljesítményűek pl. egy robot kezét mozgatják, míg a kisebbek pl. kis játékautókban fordulnak elő. "
   ]
  },
  {
   "cell_type": "markdown",
   "metadata": {},
   "source": [
    "### Hogyan működnek a szervo motorok?"
   ]
  },
  {
   "cell_type": "markdown",
   "metadata": {
    "cell_style": "center"
   },
   "source": [
    "Ahogy említettük már a szervo motorok igazából egy DC motorból állnak. Ezeket áram hajtja meg és képesek nagy fordulatszámmal pörögni (RPM - Rotatations Per Minute), viszont nagyon kis forgató nyomatékot képesek leadni (forgató nyomatékot alkalmazunk forgó mozgások létrehozásához, pl. egy ajtó kinyitásához). Mindeközben a motor működéséhez egy adott munka kellett ($W = T \\dot \\theta$, ahol $W$ a munka, $T$ a forgatónyomaték és $\\theta$ az elfordulás szöge). Speciális fogaskerék láncolattal lecsökkenthetjük a fordulatszámot, azaz ugyanannyi munka befektetésével kevesebb elfordulást ($\\theta$) érünk el. Mivel a munka állandó, kisebb elfordulás mellett a szervo motor nagyobb forgatónyomatékot képes kifejteni. Felhasználás függvényében a kifejtendő forgatónyomaték, illetve a forgás sebessége változik, ami miatt fontos, hogy egy adott feladathoz a megfelelő paraméterekkel rendelkező szervo motort válasszunk. Általában a nagyobb forgatónyomatékú és minőségesebb szervok drágábbak is. \n",
    "\n",
    "Az olcsóbb és kisebb szervokban sokszor potenciométereket alkalmaznak a feszültség mérésére az elfordulás függvényében. Ez egy kis áramkörhöz van kapcsolva. A potenciométer megmondja az áramkörnek, hogy mennyit fordult el a motor, amit az összevet a beadott értékkel és utasítja a motort, hogy mozduljon a megfelelő irányba. "
   ]
  },
  {
   "cell_type": "markdown",
   "metadata": {},
   "source": [
    "### A szervo motorok irányítása"
   ]
  },
  {
   "cell_type": "markdown",
   "metadata": {
    "cell_style": "center"
   },
   "source": [
    "A szervo az utasításokat impulzussorozatok formájában kapja pl. egy számítógéptől. Impulzusnak nevezzük az átmenetet alacsony feszültségből magasba, amiben egy bizonyos ideig meg is marad, majd ismét alacsonyba megy vissza (illetve ennek a folyamatnak a fordítotját is). Impulzus sorozat ezen impulzusok időközönkénti ismétlődése. Elektronikában az alacsony állapotot általában a földdel vagy 0 V-tal azonosítjuk, míg a magas állapot a tápunk feszültége. A hobbi szervok 4.5-6 V-os tartományban működnek.\n",
    "\n",
    "Két impulzus beérkezése közti időt hívjuk periódusnak (*T (s)*), míg ennek a reciprokát hívjuk frekvenciának (*f (Hz)*). A magas feszültségben eltöltött időt pedig kitöltési tényezőnek (*duty cycle (s)*) nevezzük. A szervo elfordulási szögét evvel a kitöltési tényezővel szabályozhatjuk. A kitoltési idő változtatását impulzus-szélesség modulációnak (PWM - Pulse Width Modulation) hívjuk.\n",
    "\n",
    "A legtöbb hobbi szervo motort 50 Hz-es bemeneti jelre tervezték, ami azt jelenti, hogy az impulzusok 20 ms-ként ismétlik egymást (lást az ábrát lejjebb). Ez az ismétlés biztosítja a szervot arról, hogy folyamatosan tartani tudja a pozícióját. A legtöbb szervo csak 0 és 180 fok között képes forogni. A vezérléshez tartozó értékeket a szervo adatlapján lehet elolvasni, pl. az MG90S szervoé [itt](https://www.electronicoscaldas.com/datasheet/MG90S_Tower-Pro.pdf) található. \n",
    "\n",
    "\n",
    "\n",
    "\n",
    " Here, a pulse is generated once every 20 milliseconds, or at about 50 Hz. In this example, the pulse width is about 2 milliseconds, which would have a servo rotate almost all the way to one end of its rotation. An oscilloscope is incredibly useful for testing and debugging systems that use servos.\n",
    "Your servo must be connected to a source of power (4.5 to 6 volts) and the control signal must come from a computer or other circuitry. Each servo's requirements vary slightly, but a pulse train (as in Figure 6 above) of about 50 to 60 Hz works well for most models. The pulse width will vary from approximately 1 millisecond to 2 or 3 milliseconds (one millisecond is 1/1000 of a second). "
   ]
  },
  {
   "cell_type": "markdown",
   "metadata": {},
   "source": [
    "<img src=\"PWM_duty_cycle_animation_compressed.gif\" width=800 height=600 />"
   ]
  },
  {
   "cell_type": "markdown",
   "metadata": {},
   "source": [
    "A gif Joshua Hrisko írásából lett kimásolva [forrás](https://makersportal.com/blog/2020/3/21/raspberry-pi-servo-panning-camera)"
   ]
  },
  {
   "cell_type": "markdown",
   "metadata": {},
   "source": [
    "\n",
    "\n",
    "Thus, the MG90S can be wired to any of the available GPIO pins. It is common to select a GPIO pin which does not have a parentheses next to it, for example - it is safe to use pins: 17,27,22,5,6,26,,23,24,25,16. Here, GPIO 13 will be used - as it is the designated hardware PWM pin on the left-hand side of the RPi header. The reason we specifically want a hardware PWM pin is that the hardware-defined pins tend to have less jitter and are generally faster. The wiring diagram for controlling the MG90S servo via a Raspberry Pi is given below:\n",
    "\n",
    "The MG90S servo motor will be henceforth controlled using solely the orange wire (the red and brown pins are 5V power and ground, respectively). Thus, by modulating the voltage on GPIO 13 of the RPi, which is connected to the servo’s orange wire, the MG90S will turn as prescribed by the pulse widths ranging from 2% - 12%, depicted in the diagram above. In Python, this process can be coded as follows:\n",
    "\n"
   ]
  },
  {
   "cell_type": "markdown",
   "metadata": {},
   "source": [
    "### Referencia"
   ]
  },
  {
   "cell_type": "markdown",
   "metadata": {},
   "source": [
    "* [https://www.pololu.com/blog/12/introduction-to-servos](https://www.pololu.com/blog/12/introduction-to-servos)\n",
    "\n",
    "* [https://www.pololu.com/blog/16/electrical-characteristics-of-servos-and-introduction-to-the-servo-control-interface](https://www.pololu.com/blog/16/electrical-characteristics-of-servos-and-introduction-to-the-servo-control-interface)\n",
    "\n",
    "* [https://www.pololu.com/blog/17/servo-control-interface-in-detail](https://www.pololu.com/blog/17/servo-control-interface-in-detail)\n",
    "\n",
    "* Magyarul - [http://www.malnasuli.hu/oktatas/szervomotor-vezerlese-raspberry-pi-vel/](http://www.malnasuli.hu/oktatas/szervomotor-vezerlese-raspberry-pi-vel/)\n",
    "\n",
    "* [https://gpiozero.readthedocs.io/en/stable/api_output.html#servo](https://gpiozero.readthedocs.io/en/stable/api_output.html#servo)\n",
    "\n",
    "* [http://razzpisampler.oreilly.com/ch05.html](http://razzpisampler.oreilly.com/ch05.html)\n",
    "\n",
    "* [https://www.raspberrypi.org/blog/how-to-use-a-servo-motor-with-raspberry-pi/](https://www.raspberrypi.org/blog/how-to-use-a-servo-motor-with-raspberry-pi/)\n",
    "\n",
    "* [https://www.learnrobotics.org/blog/raspberry-pi-servo-motor/](https://www.learnrobotics.org/blog/raspberry-pi-servo-motor/)\n",
    "\n",
    "* [https://www.instructables.com/id/Servo-Motor-Control-With-Raspberry-Pi/]([https://www.instructables.com/id/Servo-Motor-Control-With-Raspberry-Pi/)\n",
    "\n",
    "* [https://makersportal.com/blog/2020/3/21/raspberry-pi-servo-panning-camera](https://makersportal.com/blog/2020/3/21/raspberry-pi-servo-panning-camera)\n",
    "\n",
    "* [https://makersportal.com/blog/2020/3/14/arduino-servo-motor-control](https://makersportal.com/blog/2020/3/14/arduino-servo-motor-control)"
   ]
  },
  {
   "cell_type": "markdown",
   "metadata": {},
   "source": [
    "## Léptető (stepper) motor"
   ]
  },
  {
   "cell_type": "markdown",
   "metadata": {},
   "source": [
    "### Referencia"
   ]
  },
  {
   "cell_type": "code",
   "execution_count": null,
   "metadata": {},
   "outputs": [],
   "source": []
  }
 ],
 "metadata": {
  "kernelspec": {
   "display_name": "Python 3",
   "language": "python",
   "name": "python3"
  },
  "language_info": {
   "codemirror_mode": {
    "name": "ipython",
    "version": 3
   },
   "file_extension": ".py",
   "mimetype": "text/x-python",
   "name": "python",
   "nbconvert_exporter": "python",
   "pygments_lexer": "ipython3",
   "version": "3.7.3"
  },
  "toc": {
   "base_numbering": 1,
   "nav_menu": {},
   "number_sections": true,
   "sideBar": true,
   "skip_h1_title": false,
   "title_cell": "Table of Contents",
   "title_sidebar": "Contents",
   "toc_cell": false,
   "toc_position": {},
   "toc_section_display": true,
   "toc_window_display": false
  }
 },
 "nbformat": 4,
 "nbformat_minor": 4
}
