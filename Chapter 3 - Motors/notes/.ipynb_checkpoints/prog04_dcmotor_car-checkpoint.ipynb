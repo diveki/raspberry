{
 "cells": [
  {
   "cell_type": "markdown",
   "metadata": {},
   "source": [
    "# Projekt 5 - Távirányítású autó"
   ]
  },
  {
   "cell_type": "markdown",
   "metadata": {},
   "source": []
  },
  {
   "cell_type": "markdown",
   "metadata": {},
   "source": [
    "## Mit fogsz készíteni?"
   ]
  },
  {
   "cell_type": "markdown",
   "metadata": {},
   "source": [
    "Kettő 3-6V DC Motorból és egy L293D vezérlő (driver) chipből álló rendszert építünk, amit a Raspberry Pi-hoz kapcsolunk. A két motor vezérlését a billentyűzetről oldjuk meg, méghozzá úgy, hogy VNC-n keresztül jelentkezünk be a Raspberry Pi-ra, így az autó mozgását csak a tápkábel korlátozza. A nyílakkal ellátott billentyűk irányítják majd az aztót előre, hátra, jobbra és balra. Lényegében egy saját gyártású távirányítós autót készítünk. **Megjegyzés: Mindig használjunk megfelelő drivert a motorral összekötve, hogy csökkentsük bármelyik eszköz károsodásának lehetőségét.**"
   ]
  },
  {
   "cell_type": "markdown",
   "metadata": {},
   "source": [
    "## Mit tanulsz meg?"
   ]
  },
  {
   "cell_type": "markdown",
   "metadata": {},
   "source": [
    "A szerencsekerék elkészítésével a következőket tanulod meg:\n",
    "\n",
    "* Hogyan tudsz kettő DC motort egy áramkörbe beiktatni a hozzá tartozó driverrel együtt.\n",
    "* Hogyan programozd be a Raspberry Pi GPIO kimeneteleit a **gpiozero** modullal.\n",
    "* Hogyan hozzunk létre függvényeket a mozgásirányok leszimulálására.\n",
    "* Hogyan használjuk a pygame csomagot a billentyűzet figyelésére.\n",
    "* Hogyan mozgassuk és állítsuk le a motorokat VNC kapcsolaton keresztül."
   ]
  },
  {
   "cell_type": "markdown",
   "metadata": {},
   "source": [
    "## A projekt részletekre bontása"
   ]
  },
  {
   "cell_type": "markdown",
   "metadata": {},
   "source": [
    "* Elkészíteni az áramkört.\n",
    "* Inicializálni a Motor objektumokat.\n",
    "* Definiálni egy-egy függvényt a jármű előre, hátra, jobbra és balra mozgatására.\n",
    "* Figyelni a billentyűzetet és a megfelelő billentyűk lenyomásakor a megfelelő mozgást végrehajtani."
   ]
  },
  {
   "cell_type": "markdown",
   "metadata": {},
   "source": [
    "## Áramköri elemek listája"
   ]
  },
  {
   "cell_type": "markdown",
   "metadata": {},
   "source": [
    "a) [Raspberry PI](https://malnapc.hu/yis/raspberry-pi/rpi-panelek) \n",
    "\n",
    "b) 2db DC Motor: [itt vásárolhatsz](https://www.tme.eu/hu/details/oky5022-1/dc-motorok/okystar/)\n",
    "\n",
    "c) [Jumper wires female/male](https://www.ret.hu/shop/product/e-call/jumper-vezetek-szet_53-22-63) \n",
    "\n",
    "d) L293D vezérlő: [itt vásárolhatsz](https://www.tme.eu/hu/details/l293d/motor-es-pwm-driverek/stmicroelectronics/)\n",
    "\n",
    "e) 2db nagy kerék [ceruza elem]()\n",
    "\n",
    "f) 1db kis kerék []()\n",
    "\n",
    "g) 1db doboz \n",
    "\n",
    "h) Szigetelő szalag\n",
    "\n",
    "i) 1db kb. 5-7 cm hosszú 1mm vastag drót vagy gemkapocs darab"
   ]
  },
  {
   "cell_type": "markdown",
   "metadata": {},
   "source": [
    "## A kapcsolási rajz"
   ]
  },
  {
   "cell_type": "markdown",
   "metadata": {},
   "source": [
    "<img src=\"prog04_schema_noButtons.png\" width=600 height=400 />"
   ]
  },
  {
   "cell_type": "markdown",
   "metadata": {},
   "source": [
    "### Kapcsolási rajz részletező"
   ]
  },
  {
   "cell_type": "markdown",
   "metadata": {},
   "source": [
    "A fenti ábrához hasonlóan kapcsoljuk össze az áramköri elemeket és a Raspberry Pi-t. Az áramkör részletes összekötési magyarázata a [Motorok]() című bevezető leírásban található.\n",
    "\n",
    "1) Az L293D driver földelés lábait kössük össze egymással és az átellenes oldallal (fekete drót). Egyben az áramforrás (4 db AAA elem a rajzon) negatív végét és a Raspberry Pi egyik földelését is kössük össze az L293D driver földelésével. Így minden elem azonos földelésen lesz.\n",
    "\n",
    "2) Az áramforrás pozitív végét kapcsoljuk a driver *VS* lábára (*8*-as láb, piros drót). Ez adja a feszültséget a motor meghajtásához. \n",
    "\n",
    "3) Kapcsoljuk a Raspberry Pi +5V-os tüskéjét a driver *VSS* (*16*-os) lábával össze (fehér drót). Ez adja a driver működéséhez nélkülözhetetlen tápot. \n",
    "\n",
    "4) A Raspberry Pi *GPIO25*-ös tüskéjét kapcsoljuk az *EN1* (*1*-es) lábra (okkersárga drót). A driver ezen lába szolgál arra, hogy aktiválja a driver *IN1 (2), IN2 (7), OUT1 (3) és OUT2 (6)* lábait, amennyiben magas állapotba kerül. Alacsony állapotból az előbb említett lábak nem kapnak áramot. \n",
    "\n",
    "5) A Raspberry Pi *GPIO11*-es tüskéjét kapcsoljuk az *EN2* (*9*-es) lábra (okkersárga drót). A driver ezen lába szolgál arra, hogy aktiválja a driver *IN3 (10), IN4 (15), OUT3 (11) és OUT4 (14)* lábait, amennyiben magas állapotba kerül. Alacsony állapotból az előbb említett lábak nem kapnak áramot. Így két motort is tudunk már vezérelni.\n",
    "\n",
    "6) A Raspberry Pi *GPIO23*-as és *GPIO24*-es tüskéit kapcsoljuk az *IN1 (2), IN2 (7)* lábakra a driveren (szürke és narancssárga drótok). Felváltva aktiválva őket vagyunk képesek előre és hátrafele forgatni a motort attől függően, hogy épp melyik van magas állapotban. \n",
    "\n",
    "7) A Raspberry Pi *GPIO9*-es és *GPIO10*-es tüskéit kapcsoljuk az *IN3 (10), IN4 (15)* lábakra a driveren (szürke és narancssárga drótok). Felváltva aktiválva őket vagyunk képesek előre és hátrafele forgatni a második motort attől függően, hogy épp melyik van magas állapotban.\n",
    "\n",
    "8) A motor két kimenetét (citromsárga és zöld drótok) kapcsoljuk a driver *OUT1 (3) és OUT2 (6)* lábaira. Az *IN1 és IN2* lábak állapota szabályozza, hogy ezek a lábak, azaz maga a motor, kap-e feszültséget.\n",
    "\n",
    "9) A második motor két kimenetét (citromsárga és zöld drótok) kapcsoljuk a driver *OUT3 (11) és OUT4 (14)* lábaira. Az *IN3 és IN4* lábak állapota szabályozza, hogy ezek a lábak, azaz maga a motor, kap-e feszültséget.\n",
    "\n",
    "**Kétszer is ellenőrizzük le, hogy a bekötésünk rendben van-e. A félrekötött tüskék nagyban növelik a motor vagy a Raspberry Pi tökremenési esélyeit. A motort SEMMIKÉPP SE tápláljuk és irányítsük direktben a Raspberry Pi-ről, mert az szinte biztosan a számítógép sérükéséhez vezet.**"
   ]
  },
  {
   "cell_type": "markdown",
   "metadata": {},
   "source": [
    "### Projekt összeszerelési útmutató"
   ]
  },
  {
   "cell_type": "markdown",
   "metadata": {},
   "source": [
    "Az autó karosszériáját bármilyen terv alapján elkészíthetjük, az itt bemutatott leírás inkább egy prototípusnak felelne meg. Ha komolyabb karosszérát szeretnénk, akár 3D-s nyomtatóval is készíthetünk a projekthez. "
   ]
  },
  {
   "cell_type": "markdown",
   "metadata": {},
   "source": [
    "<img src=\"dc_car_1.JPG\" width=600 height=400 />"
   ]
  },
  {
   "cell_type": "markdown",
   "metadata": {},
   "source": [
    "A távvezérelt autónk összeszereléséhez a fenti képen látható elemek fognak kelleni. Egy nagy doboz, amibe beférnek a motorok, a Raspberry Pi, az AA elemek és a breadboard. Szükség lesz két nagy méretű kerékre, ami illeszkedik a motorok tengelyére. Ezek adják az autó meghajtását. Emellett kell egy kisebb kerék is, ami elsőkerékként fog szolgálni."
   ]
  },
  {
   "cell_type": "markdown",
   "metadata": {},
   "source": [
    "<img src=\"dc_car_2.JPG\" width=600 height=400 />"
   ]
  },
  {
   "cell_type": "markdown",
   "metadata": {},
   "source": [
    "Először vágjunk lyukat a doboz oldalsó falain, hogy a motor tengelye kiférjen rajta."
   ]
  },
  {
   "cell_type": "markdown",
   "metadata": {},
   "source": [
    "<img src=\"dc_car_3.JPG\" width=600 height=400 />"
   ]
  },
  {
   "cell_type": "markdown",
   "metadata": {},
   "source": [
    "Ezután illesszük be a motorok tengelyeit a lyukba és kívülről rögzítsük a tengelyre a nagy kereket. Hogy a motor ne forogjon a dobozban, szigetelőszallaggal lerögzíthetjük a dobozhoz. "
   ]
  },
  {
   "cell_type": "markdown",
   "metadata": {},
   "source": [
    "<img src=\"dc_car_4.JPG\" width=600 height=400 />"
   ]
  },
  {
   "cell_type": "markdown",
   "metadata": {},
   "source": [
    "Az első kerék felszereléséhez vágjunk függőleges irányba lyukat a dobozba úgy, hogy a kisebb kerék kényelmesen beférjen. Majd a rövid drótszerű tengelyt dugjuk át a kerék középpontjában levő lyukon és rögzítsük a drótot a dobozhoz. "
   ]
  },
  {
   "cell_type": "markdown",
   "metadata": {},
   "source": [
    "<img src=\"dc_car_last.JPG\" width=600 height=400 />"
   ]
  },
  {
   "cell_type": "markdown",
   "metadata": {},
   "source": [
    "Innentől kezdve már csak össze kell kötni a drótokat az áramkörben és a jármű indulásra készen áll. "
   ]
  },
  {
   "cell_type": "markdown",
   "metadata": {},
   "source": [
    "## A kód\n",
    "Nyissunk meg egy új python fájlt és mentsük el pl. ```dcmotor_car.py``` név alatt."
   ]
  },
  {
   "cell_type": "markdown",
   "metadata": {},
   "source": [
    "### A DC motor kipróbálása"
   ]
  },
  {
   "cell_type": "markdown",
   "metadata": {},
   "source": [
    "Miután elkészítettük az áramkört, meg kell írnunk a kódot ami utasítja a Raspberry Pi-t, a motor mozgatására.\n",
    "\n",
    "Először betöltjük a ```gpiozero``` modulból a ```Motor``` objektumot ami lehetővé teszik, hogy a Raspi kommunikáljon a motorral a hozzá tartozó vezérlővel a **GPIO** tüskéken keresztül. Emellett beimportáljuk a ```sleep``` függvényt is, hogy szünetet tarthassunk a python kód lefutásában, valamint a ```random``` csomagot, hogy véletlenszerű számokat tudjunk generálni. "
   ]
  },
  {
   "cell_type": "markdown",
   "metadata": {},
   "source": [
    "```dcmotor_car.py```:"
   ]
  },
  {
   "cell_type": "code",
   "execution_count": null,
   "metadata": {},
   "outputs": [],
   "source": [
    "from gpiozero import Motor\n",
    "from time import sleep\n",
    "import random"
   ]
  },
  {
   "cell_type": "markdown",
   "metadata": {},
   "source": [
    "Az objektum beolvasása után inicializálunk egy ```Motor``` objektumot, amit ```motor```-nak nevezünk el. Egyben megmondjuk az objektumnak, hogy a fizikai motor előre forgatásért felelő drótját a *23*-as számú **GPIO** tüskére csatlakoztattuk, míg a hátrafelé forgatásért felelő drótot a *24*-es számú **GPIO** tüskére. Emellett a driveren a kimeneteket aktiváló drótot a *25*-ös számú **GPIO** tüskére csatlakoztattuk. "
   ]
  },
  {
   "cell_type": "markdown",
   "metadata": {},
   "source": [
    "```dcmotor_car.py```:"
   ]
  },
  {
   "cell_type": "code",
   "execution_count": null,
   "metadata": {},
   "outputs": [],
   "source": [
    "from gpiozero import Motor\n",
    "from time import sleep\n",
    "import random\n",
    "\n",
    "motor = Motor(forward=23, backward = 24, enable=25)"
   ]
  },
  {
   "cell_type": "markdown",
   "metadata": {},
   "source": [
    "Ezután készen állunk arra, hogy leteszteljük a motor mozgatását és az objektumhoz tartozó egyéb metódusok működését. Elsőnek a motort előre forgatjuk ```motor.forward()```, 5 másodpercen keresztül, majd megállítjuk a ```motor.stop()``` paranccsal és leteszteljük, hogy hátrafele is tud-e forogni, ```motor.backward()```. Hagyjuk forogni 5 másodpercet, majd újra leállítjuk. "
   ]
  },
  {
   "cell_type": "markdown",
   "metadata": {},
   "source": [
    "```dcmotor_car.py```:"
   ]
  },
  {
   "cell_type": "code",
   "execution_count": null,
   "metadata": {},
   "outputs": [],
   "source": [
    "from gpiozero import Motor\n",
    "from time import sleep\n",
    "import random\n",
    "\n",
    "motor = Motor(forward=23, backward = 24, enable=25)\n",
    "\n",
    "motor.forward()\n",
    "sleep(5)\n",
    "motor.stop()\n",
    "\n",
    "motor.backward()\n",
    "sleep(5)\n",
    "motor.stop()"
   ]
  },
  {
   "cell_type": "markdown",
   "metadata": {},
   "source": [
    "Ha lefuttatjuk ezt a kódot, kiderül, hogy mindent rendben kötöttünk-e össze az áramkörben. Ha nem az elvárt mozgásokat tapasztaljuk, akkor meg kell keresni a hibát. Nagy valószínűséggel az áramköri kapcsolásokkal van gond."
   ]
  },
  {
   "cell_type": "markdown",
   "metadata": {},
   "source": [
    "### Kerék forgató függvény definiálása"
   ]
  },
  {
   "cell_type": "markdown",
   "metadata": {},
   "source": [
    "Elérkeztünk a projekt legfontosabb részéhez, a kerék forgatásához szükséges függvény definiálásához. Nevezzük el, ```start(button, m)``` függvénynek. Kettő bemenő paramétert fogad, az első a gomb, ```button```, amit lenyomunk, a második a motor, ```m```, objektuma.\n",
    "\n",
    "A függvény egyik feladata, hogy véletlenszerű ideig forgassa a kereket 0 és 5 másodperc között. Ehhez létrehozunk egy új változót, ```t_rot```, ami egy véletlenszerű valós szám értékét veszi fel 0 és 5 között, ```t_rot = random.uniform(0,5)```.\n",
    "\n",
    "Ugyanezt a módszert használjuk, hogy a függvényünk második feladatát végrehajtsuk, a véletlenszerű sebesség generálását. Ezt is egy változóhoz rendeljük hozzá, ```speed = random.uniform(0.6, 1)```. Itt 0,6-tól indítjuk a generálást, mert kisebb értékeknél lehet, hogy a motornak nehezére esne már forgatni a kereket (habár ez motor függő). \n",
    "\n",
    "Ha legeneráltuk a két véletlen számot, már csak alkalmaznunk kell őket. Először elkezdjük forgatni a motort a legenerált sebességgel, ```m.forward(speed=speed)```. Ezután hagyjuk azt forogni a legenerált forgási ideig, ```sleep(t_rot)```. Végül megállítjuk a motort, ```m.stop()```."
   ]
  },
  {
   "cell_type": "code",
   "execution_count": 1,
   "metadata": {},
   "outputs": [],
   "source": [
    "def start(button, m):\n",
    "    t_rot = random.uniform(0, 5)\n",
    "    speed = random.uniform(0.6, 1)\n",
    "    m.forward(speed=speed)\n",
    "    sleep(t_rot)\n",
    "    m.stop()"
   ]
  },
  {
   "cell_type": "markdown",
   "metadata": {},
   "source": [
    "A fent definiált függvény általánosan használható tetszőleges gombra és tetszőleges motorra, amiket megadunk bemenő paraméterként. Így ha egy feladatban több motort is kellene evvel a módszerrel forgatni, akkor mindegyikre alkalmazható lenne. "
   ]
  },
  {
   "cell_type": "markdown",
   "metadata": {},
   "source": [
    "### A függvények gombokhoz való rendelése"
   ]
  },
  {
   "cell_type": "markdown",
   "metadata": {},
   "source": [
    "Utolsó lépésként az előbb definiált függvényt beillesszük a kódunkba és hozzárendeljük gomb megfelelő metódusához, használva a ```lambda``` kifejezést, hiszen a gombok metódusai mindig függvényeket várnak értékül. Itt a ```.when_pressed``` metódust fogjuk használni, hiszen azt szeretnénk, hogy a gombok lenyomására aktiválódjanak az egyes függvények. A ```lambda``` kifejezés testébe írjuk a ```start``` függvényt, minthogy azt kell végrehajtani, és annak bemenő paraméterként megadjuk a ```button_start``` gombot és a ```motor``` nevű motort. "
   ]
  },
  {
   "cell_type": "markdown",
   "metadata": {},
   "source": [
    "```dcmotor_car.py```:"
   ]
  },
  {
   "cell_type": "code",
   "execution_count": null,
   "metadata": {},
   "outputs": [],
   "source": [
    "from gpiozero import Motor, Button\n",
    "from time import sleep\n",
    "import random\n",
    "\n",
    "motor = Motor(forward=23, backward = 24, enable=25) \n",
    "button_start = Button(17)\n",
    "\n",
    "\n",
    "def start(button, m):\n",
    "    t_rot = random.uniform(0, 5)\n",
    "    speed = random.uniform(0.6, 1)\n",
    "    m.forward(speed=speed)\n",
    "    sleep(t_rot)\n",
    "    m.stop()\n",
    "\n",
    "\n",
    "button_start.when_pressed = lambda : start(button_start, motor)\n",
    "\n",
    "\n",
    "while True:\n",
    "    pass"
   ]
  },
  {
   "cell_type": "markdown",
   "metadata": {},
   "source": [
    "A kód végére beírunk még egy végtelen ciklust, hogy a program lefutása után a python kód ne álljon meg, hanem folyamatosan várja a gomb lenyomásokat. "
   ]
  },
  {
   "cell_type": "markdown",
   "metadata": {},
   "source": [
    "## A projekt tesztelése"
   ]
  },
  {
   "cell_type": "markdown",
   "metadata": {},
   "source": [
    "Miután összeszereltük az áramkört és a kódot is megírtuk, amit pl. ```dcmotor_car.py``` név alatt mentettünk el, megnyithatunk a Raspberry Pi operációs rendszerén egy terminált. A terminálban a ```cd 'mappa név'``` paranccsal elnavigálunk abba a mappába, ahova a ```dcmotor_car.py```-t elmentettük. Ott begépelve a ```python dcmotor_car.py``` parancsot, letesztelhetjük a programunk működését. Ha minden jól megy akkor a program elindítása után megjelenik egy kis ablak a képernyőn és a gép várja a nyíllal megjelölt gombok lenyomását a billentyűzeten. Az autónak a nyílak irányának megfelelően kell elmozdulnia lenyomáskor, majd elengedéskor a motorokat le kell állítsa. \n",
    "\n",
    "Hibaüzenetek esetén ki kell deríteni mi lehetett a probléma, pl. elgépelés, egy modul hiányzik, sorok megfelelő behúzása, idézőjel lemaradása stb. A hibaüzenet legtöbbször segít abban, hogy melyik sorban találta a hibát és hogy mi volt az. Egy kis gyakorlással bele lehet jönni azok értelmezésébe, valamint interneten is rá lehet keresni a hibaüzenet jelentésére és annak lehetséges elhárítására."
   ]
  },
  {
   "cell_type": "markdown",
   "metadata": {},
   "source": [
    "## Mit lehet javítani/továbbfejleszteni?"
   ]
  },
  {
   "cell_type": "markdown",
   "metadata": {},
   "source": [
    "* Írjuk át a kódot és tervezzük át az áramkört úgy, hogy ne a billentyűzetről, hanem gombokról kapja az irányítást.\n",
    "* Tervezzük át az áramkört, hogy 4 LED diódával jelezzük a mozgás irányát a gombok lenyomásakor.\n",
    "\n",
    "Írd meg kommentben, hogy szerinted mivel lehetne még feldobni ezt a kis programot!"
   ]
  },
  {
   "cell_type": "markdown",
   "metadata": {},
   "source": [
    "## Referencia"
   ]
  },
  {
   "cell_type": "markdown",
   "metadata": {},
   "source": [
    "1) gpiozero leírás - [https://gpiozero.readthedocs.io/en/stable/recipes.html](https://gpiozero.readthedocs.io/en/stable/recipes.html)\n",
    "\n",
    "2) Motor objektum leírása - [https://gpiozero.readthedocs.io/en/stable/api_output.html#motor](https://gpiozero.readthedocs.io/en/stable/api_output.html#motor)\n",
    "\n",
    "3) L293D driver leírása - [https://www.ti.com/lit/ds/symlink/l293.pdf](https://www.ti.com/lit/ds/symlink/l293.pdf)\n",
    "\n",
    "4) Pygame leírása - [https://www.pygame.org/news](https://www.pygame.org/news)\n",
    "\n",
    "5) Pygame event - [https://www.raspberry-pi-geek.com/Archive/2014/05/Pygame-modules-for-interactive-programs](https://www.raspberry-pi-geek.com/Archive/2014/05/Pygame-modules-for-interactive-programs)"
   ]
  },
  {
   "cell_type": "code",
   "execution_count": null,
   "metadata": {},
   "outputs": [],
   "source": []
  }
 ],
 "metadata": {
  "kernelspec": {
   "display_name": "Python 3",
   "language": "python",
   "name": "python3"
  },
  "language_info": {
   "codemirror_mode": {
    "name": "ipython",
    "version": 3
   },
   "file_extension": ".py",
   "mimetype": "text/x-python",
   "name": "python",
   "nbconvert_exporter": "python",
   "pygments_lexer": "ipython3",
   "version": "3.7.4"
  },
  "toc": {
   "base_numbering": 1,
   "nav_menu": {},
   "number_sections": true,
   "sideBar": true,
   "skip_h1_title": false,
   "title_cell": "Table of Contents",
   "title_sidebar": "Contents",
   "toc_cell": false,
   "toc_position": {},
   "toc_section_display": true,
   "toc_window_display": false
  }
 },
 "nbformat": 4,
 "nbformat_minor": 2
}
