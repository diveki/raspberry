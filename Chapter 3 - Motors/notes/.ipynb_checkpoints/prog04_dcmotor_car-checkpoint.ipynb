{
 "cells": [
  {
   "cell_type": "markdown",
   "metadata": {},
   "source": [
    "# Projekt 5 - Távirányítású autó"
   ]
  },
  {
   "cell_type": "markdown",
   "metadata": {},
   "source": [
    "A XXI. században az autóipár újra fénykorát éli, főleg az elektromos autók újbóli megjelenésével. A technológia már akkorát fejlődött, hogy egyes cégek már elkezdték tesztelni az önvezető autókat is. Minden jel arra mutat, hogy a jövőben a volán mögött ülve nem kell majd az utat figyelnünk, mert megteszi azt helyettünk az autónk. \n",
    "\n",
    "Ilyen autókat létrehozni nem egyszerű és sok munka/kutatás áll mögötte. Ha időben és megfelelő részletességgel kezdjük el tanulmányozni ezeket a technológiákat, előbb utóbb nem csak szemlélői hanem alakítói is lehetünk ennek a fejlődésnek. \n",
    "\n",
    "Ebben a projektben az alapokat próbáljuk meg elsajátítani. Egy két kerék meghajtású kis járművet rakunk össze, amit a számítógépünk billentyűzetének segítségével vezérlünk. Lényegében egy távirányítású elektromos autót szerelünk össze és programozzuk be működésre."
   ]
  },
  {
   "cell_type": "markdown",
   "metadata": {},
   "source": [
    "## Mit fogsz készíteni?"
   ]
  },
  {
   "cell_type": "markdown",
   "metadata": {},
   "source": [
    "Kettő 3-6V DC Motorból és egy L293D vezérlő (driver) chipből álló rendszert építünk, amit a Raspberry Pi-hoz kapcsolunk. A két motor vezérlését a billentyűzetről oldjuk meg, méghozzá úgy, hogy VNC-n keresztül jelentkezünk be a Raspberry Pi-ra, így az autó mozgását csak a tápkábel korlátozza. A nyílakkal ellátott billentyűk irányítják majd az aztót előre, hátra, jobbra és balra. Lényegében egy saját gyártású távirányítós autót készítünk. **Megjegyzés: Mindig használjunk megfelelő drivert a motorral összekötve, hogy csökkentsük bármelyik eszköz károsodásának lehetőségét.**"
   ]
  },
  {
   "cell_type": "markdown",
   "metadata": {},
   "source": [
    "## Mit tanulsz meg?"
   ]
  },
  {
   "cell_type": "markdown",
   "metadata": {},
   "source": [
    "A dc motoros autó elkészítésével a következőket tanulod meg:\n",
    "\n",
    "* Hogyan tudsz kettő DC motort egy áramkörbe beiktatni a hozzá tartozó driverrel együtt.\n",
    "* Hogyan programozd be a Raspberry Pi GPIO kimeneteleit a **gpiozero** modullal.\n",
    "* Hogyan hozzunk létre függvényeket a mozgásirányok leszimulálására.\n",
    "* Hogyan használjuk a pygame csomagot a billentyűzet figyelésére.\n",
    "* Hogyan mozgassuk és állítsuk le a motorokat VNC kapcsolaton keresztül."
   ]
  },
  {
   "cell_type": "markdown",
   "metadata": {},
   "source": [
    "## A projekt részletekre bontása"
   ]
  },
  {
   "cell_type": "markdown",
   "metadata": {},
   "source": [
    "* Elkészíteni az áramkört.\n",
    "* Inicializálni a Motor objektumokat.\n",
    "* Definiálni egy-egy függvényt a jármű előre, hátra, jobbra és balra mozgatására.\n",
    "* Figyelni a billentyűzetet és a megfelelő billentyűk lenyomásakor a megfelelő mozgást végrehajtani."
   ]
  },
  {
   "cell_type": "markdown",
   "metadata": {},
   "source": [
    "## Áramköri elemek listája"
   ]
  },
  {
   "cell_type": "markdown",
   "metadata": {},
   "source": [
    "a) [Raspberry PI](https://malnapc.hu/yis/raspberry-pi/rpi-panelek) \n",
    "\n",
    "b) 2db DC Motor: [itt vásárolhatsz](https://www.tme.eu/hu/details/oky5022-1/dc-motorok/okystar/)\n",
    "\n",
    "c) [Jumper wires female/male](https://www.ret.hu/shop/product/e-call/jumper-vezetek-szet_53-22-63) \n",
    "\n",
    "d) L293D vezérlő: [itt vásárolhatsz](https://www.tme.eu/hu/details/l293d/motor-es-pwm-driverek/stmicroelectronics/)\n",
    "\n",
    "e) 2db nagy kerék [https://www.tme.eu/hu/details/df-fit0003/robotika-es-rc-kellekek/dfrobot/fit0003/](https://www.tme.eu/hu/details/df-fit0003/robotika-es-rc-kellekek/dfrobot/fit0003/)\n",
    "\n",
    "f) 1db kis kerék [https://www.tme.eu/hu/details/hy006-01003/robotika-es-rc-kellekek/emax/emx-ac-1353/](https://www.tme.eu/hu/details/hy006-01003/robotika-es-rc-kellekek/emax/emx-ac-1353/) vagy [https://www.tme.eu/hu/details/pololu-950/robotika-es-rc-kellekek/pololu/ball-caster-with-3-8-plastic-ball/](https://www.tme.eu/hu/details/pololu-950/robotika-es-rc-kellekek/pololu/ball-caster-with-3-8-plastic-ball/)\n",
    "\n",
    "g) 1db doboz \n",
    "\n",
    "h) Szigetelő szalag\n",
    "\n",
    "i) 1db kb. 5-7 cm hosszú 1mm vastag drót vagy gemkapocs darab"
   ]
  },
  {
   "cell_type": "markdown",
   "metadata": {},
   "source": [
    "## A kapcsolási rajz"
   ]
  },
  {
   "cell_type": "markdown",
   "metadata": {},
   "source": [
    "<img src=\"prog04_schema_noButtons.png\" width=600 height=400 />"
   ]
  },
  {
   "cell_type": "markdown",
   "metadata": {},
   "source": [
    "### Kapcsolási rajz részletező"
   ]
  },
  {
   "cell_type": "markdown",
   "metadata": {},
   "source": [
    "A fenti ábrához hasonlóan kapcsoljuk össze az áramköri elemeket és a Raspberry Pi-t. Az áramkör részletes összekötési magyarázata a [Motorok]() című bevezető leírásban található.\n",
    "\n",
    "1) Az L293D driver földelés lábait kössük össze egymással és az átellenes oldallal (fekete drót). Egyben az áramforrás (4 db AAA elem a rajzon) negatív végét és a Raspberry Pi egyik földelését is kössük össze az L293D driver földelésével. Így minden elem azonos földelésen lesz.\n",
    "\n",
    "2) Az áramforrás pozitív végét kapcsoljuk a driver *VS* lábára (*8*-as láb, piros drót). Ez adja a feszültséget a motor meghajtásához. \n",
    "\n",
    "3) Kapcsoljuk a Raspberry Pi +5V-os tüskéjét a driver *VSS* (*16*-os) lábával össze (fehér drót). Ez adja a driver működéséhez nélkülözhetetlen tápot. \n",
    "\n",
    "4) A Raspberry Pi *GPIO25*-ös tüskéjét kapcsoljuk az *EN1* (*1*-es) lábra (okkersárga drót). A driver ezen lába szolgál arra, hogy aktiválja a driver *IN1 (2), IN2 (7), OUT1 (3) és OUT2 (6)* lábait, amennyiben magas állapotba kerül. Alacsony állapotból az előbb említett lábak nem kapnak áramot. \n",
    "\n",
    "5) A Raspberry Pi *GPIO11*-es tüskéjét kapcsoljuk az *EN2* (*9*-es) lábra (okkersárga drót). A driver ezen lába szolgál arra, hogy aktiválja a driver *IN3 (10), IN4 (15), OUT3 (11) és OUT4 (14)* lábait, amennyiben magas állapotba kerül. Alacsony állapotból az előbb említett lábak nem kapnak áramot. Így két motort is tudunk már vezérelni.\n",
    "\n",
    "6) A Raspberry Pi *GPIO23*-as és *GPIO24*-es tüskéit kapcsoljuk az *IN1 (2), IN2 (7)* lábakra a driveren (szürke és narancssárga drótok). Felváltva aktiválva őket vagyunk képesek előre és hátrafele forgatni a motort attől függően, hogy épp melyik van magas állapotban. \n",
    "\n",
    "7) A Raspberry Pi *GPIO9*-es és *GPIO10*-es tüskéit kapcsoljuk az *IN3 (10), IN4 (15)* lábakra a driveren (szürke és narancssárga drótok). Felváltva aktiválva őket vagyunk képesek előre és hátrafele forgatni a második motort attől függően, hogy épp melyik van magas állapotban.\n",
    "\n",
    "8) A motor két kimenetét (citromsárga és zöld drótok) kapcsoljuk a driver *OUT1 (3) és OUT2 (6)* lábaira. Az *IN1 és IN2* lábak állapota szabályozza, hogy ezek a lábak, azaz maga a motor, kap-e feszültséget.\n",
    "\n",
    "9) A második motor két kimenetét (citromsárga és zöld drótok) kapcsoljuk a driver *OUT3 (11) és OUT4 (14)* lábaira. Az *IN3 és IN4* lábak állapota szabályozza, hogy ezek a lábak, azaz maga a motor, kap-e feszültséget.\n",
    "\n",
    "**Kétszer is ellenőrizzük le, hogy a bekötésünk rendben van-e. A félrekötött tüskék nagyban növelik a motor vagy a Raspberry Pi tökremenési esélyeit. A motort SEMMIKÉPP SE tápláljuk és irányítsük direktben a Raspberry Pi-ről, mert az szinte biztosan a számítógép sérükéséhez vezet.**"
   ]
  },
  {
   "cell_type": "markdown",
   "metadata": {},
   "source": [
    "### Projekt összeszerelési útmutató"
   ]
  },
  {
   "cell_type": "markdown",
   "metadata": {},
   "source": [
    "Az autó karosszériáját bármilyen terv alapján elkészíthetjük, az itt bemutatott leírás inkább egy prototípusnak felelne meg. Ha komolyabb karosszérát szeretnénk, akár 3D-s nyomtatóval is készíthetünk a projekthez. "
   ]
  },
  {
   "cell_type": "markdown",
   "metadata": {},
   "source": [
    "<img src=\"dc_car_1.JPG\" width=600 height=400 />"
   ]
  },
  {
   "cell_type": "markdown",
   "metadata": {},
   "source": [
    "A távvezérelt autónk összeszereléséhez a fenti képen látható elemek fognak kelleni. Egy nagy doboz, amibe beférnek a motorok, a Raspberry Pi, az AA elemek és a breadboard. Szükség lesz két nagy méretű kerékre, ami illeszkedik a motorok tengelyére. Ezek adják az autó meghajtását. Emellett kell egy kisebb kerék is, ami elsőkerékként fog szolgálni."
   ]
  },
  {
   "cell_type": "markdown",
   "metadata": {},
   "source": [
    "<img src=\"dc_car_2.JPG\" width=600 height=400 />"
   ]
  },
  {
   "cell_type": "markdown",
   "metadata": {},
   "source": [
    "Először vágjunk lyukat a doboz oldalsó falain, hogy a motor tengelye kiférjen rajta."
   ]
  },
  {
   "cell_type": "markdown",
   "metadata": {},
   "source": [
    "<img src=\"dc_car_3.JPG\" width=600 height=400 />"
   ]
  },
  {
   "cell_type": "markdown",
   "metadata": {},
   "source": [
    "Ezután illesszük be a motorok tengelyeit a lyukba és kívülről rögzítsük a tengelyre a nagy kereket. Hogy a motor ne forogjon a dobozban, szigetelőszallaggal lerögzíthetjük a dobozhoz. "
   ]
  },
  {
   "cell_type": "markdown",
   "metadata": {},
   "source": [
    "<img src=\"dc_car_4.JPG\" width=600 height=400 />"
   ]
  },
  {
   "cell_type": "markdown",
   "metadata": {},
   "source": [
    "Az első kerék felszereléséhez vágjunk függőleges irányba lyukat a dobozba úgy, hogy a kisebb kerék kényelmesen beférjen. Majd a rövid drótszerű tengelyt dugjuk át a kerék középpontjában levő lyukon és rögzítsük a drótot a dobozhoz. "
   ]
  },
  {
   "cell_type": "markdown",
   "metadata": {},
   "source": [
    "<img src=\"dc_car_last.JPG\" width=600 height=400 />"
   ]
  },
  {
   "cell_type": "markdown",
   "metadata": {},
   "source": [
    "Innentől kezdve már csak össze kell kötni a drótokat az áramkörben és a jármű indulásra készen áll. "
   ]
  },
  {
   "cell_type": "markdown",
   "metadata": {},
   "source": [
    "## A kód\n",
    "Nyissunk meg egy új python fájlt és mentsük el pl. ```dcmotor_car.py``` név alatt."
   ]
  },
  {
   "cell_type": "markdown",
   "metadata": {},
   "source": [
    "### A DC motor kipróbálása"
   ]
  },
  {
   "cell_type": "markdown",
   "metadata": {},
   "source": [
    "Miután elkészítettük az áramkört, meg kell írnunk a kódot ami utasítja a Raspberry Pi-t, a motor mozgatására.\n",
    "\n",
    "Először betöltjük a ```gpiozero``` modulból a ```Motor``` objektumot ami lehetővé teszik, hogy a Raspi kommunikáljon a motorral a hozzá tartozó vezérlővel a **GPIO** tüskéken keresztül. Emellett beimportáljuk a\n",
    "\n",
    "* ```time``` függvényt is, hogy szünetet tarthassunk a python kód lefutásában,\n",
    "* ```sys``` csomagot, hogy ki tudjunk lépni a pythonból,\n",
    "* ```pygame, pygame.freetype``` csomagokat, hogy tudjuk figyelni melyik billentyűt nyomták le."
   ]
  },
  {
   "cell_type": "markdown",
   "metadata": {},
   "source": [
    "```dcmotor_car.py```:"
   ]
  },
  {
   "cell_type": "code",
   "execution_count": null,
   "metadata": {},
   "outputs": [],
   "source": [
    "from gpiozero import Motor\n",
    "import sys, pygame, pygame.freetype\n",
    "import time"
   ]
  },
  {
   "cell_type": "markdown",
   "metadata": {},
   "source": [
    "Az objektum beolvasása után inicializálunk kettő ```Motor``` objektumot, amit ```motor_left```-nek és ```motor_right```-nak nevezünk el. A bal oldali motort a *GPIO25* tüskével aktiváljuk és a *GPIO23* és *GPIO24* tüskék felelnek a motor előre és hátra forgatásáért. A jobb oldali motort a *GPIO11* tüskével aktiváljuk és a *GPIO10* és *GPIO09* tüskék felelnek a motor előre és hátra forgatásáért. "
   ]
  },
  {
   "cell_type": "markdown",
   "metadata": {},
   "source": [
    "```dcmotor_car.py```:"
   ]
  },
  {
   "cell_type": "code",
   "execution_count": null,
   "metadata": {},
   "outputs": [],
   "source": [
    "from gpiozero import Motor, Button\n",
    "import sys, pygame, pygame.freetype\n",
    "import time\n",
    "\n",
    "motor_left = Motor(forward=23, backward = 24, enable=25)  \n",
    "motor_right = Motor(forward=10, backward = 9, enable=11)"
   ]
  },
  {
   "cell_type": "markdown",
   "metadata": {},
   "source": [
    "Ezután készen állunk arra, hogy leteszteljük a motorok mozgatását és az objektumhoz tartozó egyéb metódusok működését. Elsőnek a bal motort előre forgatjuk ```motor_left.forward()```, 2 másodpercen keresztül, majd megállítjuk a ```motor_left.stop()``` paranccsal és leteszteljük, hogy hátrafele is tud-e forogni, ```motor_left.backward()```. Hagyjuk forogni 2 másodpercet, majd újra leállítjuk. Ezután a jobb oldali motort teszteljük a ```motor_right.forward()```, ```motor_right.stop()``` és a ```motor_right.backward()``` parancsokkal."
   ]
  },
  {
   "cell_type": "markdown",
   "metadata": {},
   "source": [
    "```dcmotor_car.py```:"
   ]
  },
  {
   "cell_type": "code",
   "execution_count": null,
   "metadata": {},
   "outputs": [],
   "source": [
    "from gpiozero import Motor, Button\n",
    "import sys, pygame, pygame.freetype\n",
    "import time\n",
    "\n",
    "motor_left = Motor(forward=23, backward = 24, enable=25)  \n",
    "motor_right = Motor(forward=10, backward = 9, enable=11)\n",
    "\n",
    "motor_left.forward()\n",
    "sleep(2)\n",
    "motor_left.stop()\n",
    "\n",
    "motor_left.backward()\n",
    "sleep(2)\n",
    "motor_left.stop()\n",
    "\n",
    "motor_right.forward()\n",
    "sleep(2)\n",
    "motor_right.stop()\n",
    "\n",
    "motor_right.backward()\n",
    "sleep(2)\n",
    "motor_right.stop()"
   ]
  },
  {
   "cell_type": "markdown",
   "metadata": {},
   "source": [
    "Ha lefuttatjuk ezt a kódot, kiderül, hogy mindent rendben kötöttünk-e össze az áramkörben. Ha nem az elvárt mozgásokat tapasztaljuk, akkor meg kell keresni a hibát. Nagy valószínűséggel az áramköri kapcsolásokkal van gond."
   ]
  },
  {
   "cell_type": "markdown",
   "metadata": {},
   "source": [
    "### A pygame képernyő inicializálása"
   ]
  },
  {
   "cell_type": "markdown",
   "metadata": {},
   "source": [
    "A számítógép billentyűzet lenyomásának detektálásának egyik legegszerűbb módja a *pygame* csomag használata. Ahogy említettük már egy korábbi projektben, ez a csomag a játékok létrehozását könnyíti meg pythonban. Egyik fontos funkciója a bemeneti jelek észlelése mint pl. az egér mozgatása vagy a billentyűzet nyomkodása. \n",
    "\n",
    "Először inicializálni kell a *pygame* környezetet a ```pygame.init()``` paranccsal. Evvel lehetővé válik egy kijelző felület megjelenítése, ahol a játékunk jelenne meg, de mi csak megjelenítjük és nem használjuk. Ha aktív az így létrehozott felület, akkor képes a bemeneti jeleket észlelni. A kijelző felület létrehozásához meg kell adnunk a méretét egy *tuple* változó formájában, aminek első értéke a szélesség a második a magasság, ```size = (500, 500)```. A méretünk mértékegysége a pixel. Ezután már létrehozhatjuk a kijelző felületet a ```pygame.display.set_mode(size)```, paranccsal és a felületet a ```screen``` változóban tároljuk. \n",
    "\n",
    "Hogy leteszteljük a felületünk működését és hogy valóban érzékeli a billentyüzetünket, elindítunk egy végtelen ciklust, amiben figyeljük történt-e valamilyen esemény. Az eseményeket a ```pygame.event.get()``` parancs figyeli és gyűjti magába. Egy ```for``` ciklus segítségével lépkedünk végig az érzékelt eseményeken (feltéve, hogy épp bekövetkezett valami), ```for event in pygame.event.get():```. Ha észleltünk valamilyen eseményt, akkor azt kinyomtatjuk a képernyőre, ```print(event)```, hogy meggyőződhessünk, valóban a jó eseményt észleljük. Végül a ```time.sleep(0.1)``` paranccsal késleltetjük a program futását, hogy legyen ideje feldolgozni a különböző eseményeket. "
   ]
  },
  {
   "cell_type": "markdown",
   "metadata": {},
   "source": [
    "```dcmotor_car.py```:"
   ]
  },
  {
   "cell_type": "code",
   "execution_count": null,
   "metadata": {},
   "outputs": [],
   "source": [
    "from gpiozero import Motor\n",
    "import sys, pygame, pygame.freetype\n",
    "import time\n",
    "\n",
    "motor_left = Motor(forward=23, backward = 24, enable=25)  #\n",
    "motor_right = Motor(forward=10, backward = 9, enable=11)\n",
    "\n",
    "pygame.init( )\n",
    "\n",
    "#Set canvas parameters\n",
    "size = 500, 500\n",
    "\n",
    "#Set size of display\n",
    "screen = pygame.display.set_mode(size)\n",
    "\n",
    "while 1:\n",
    "    for event in pygame.event.get():\n",
    "        print(event)\n",
    "    time.sleep(0.1)#Wait for 100ms before next button press"
   ]
  },
  {
   "cell_type": "markdown",
   "metadata": {},
   "source": [
    "A fenti kódot lefuttatva egy fekete hátterű ablak jelenik meg a képernyőn, és minden egyes egér mozgatásnál vagy billentyű lenyomásánál, kiírja a képernyőre az egér pozícióját vagy hogy melyik billentyűt nyomtuk meg. "
   ]
  },
  {
   "cell_type": "markdown",
   "metadata": {},
   "source": [
    "### A nyíl jelű billentyűzetek érzékelése pygame-en keresztül"
   ]
  },
  {
   "cell_type": "markdown",
   "metadata": {},
   "source": [
    "Ahogy már említettük, a nyíl jelű billentyűkkel tervezzük a jármű mozgatását. Ebben a fejezetben lekódolunk egy teszt billentyűzet észlelést.\n",
    "\n",
    "Az előző fejezetben már láttuk, hogyan kell észlelni az eseményeket, ```event```. Ezeknek vannak tulajdonságaik, amikre rá lehet kérdezni. Elsőként, megkérdezzük, hogy az esemény típusa, ```event.type```, megegyezik-e az ablak bezárásával (piros X-re kattintás), ```pygame.Quit```. Ha igen, akkor bezáratjuk az ablakot és kilépünk a pythonból, ```sys.exit()```. \n",
    "\n",
    "Következő dolog amit leellenőrzünk, hogy billentyüzet lenyomás történt-e, azaz ```if event.type == pygame.KEYDOWN:```. Ha igen, akkor kivizsgáljuk, hogy a nyíl jelű gombokat nyomták-e le, pl. ```if event.key == pygame.K_RIGHT:```. Az ```event.key``` tartalmazza a billentyűt, amit lenyomtak, míg a ```pygame.K_RIGHT``` a jobbra nyílú billentyűnek felel meg. Ha ezt valóban lenyomták, akkor kinyomtatjuk a képernyőre, hogy mozágs jobbra, ```print('Move right...')```. Ugyanígy leellenőrizzük a balra, ```pygame.K_LEFT```, le ```pygame.K_DOWN```és fel ```pygame.K_UP``` billentyűket is és a hozzájuk tartozó mozgást nyomtatjuk ki a képernyőre. \n",
    "\n",
    "Végül, a motornak addig kellene forognia, amíg a billentyűt lenyomva tartjuk, így a billentyű felengedésével ki kell nyomtatnunk a képernyőre, hogy megállt a motor. Tehát azt is le kell ellenőriznünk, hogy történt-e billentyű felengedés, ```if event.type == pygame.KEYUP:```. Ha igen, akkor kiírjuk, hogy a motorok leálltak. "
   ]
  },
  {
   "cell_type": "markdown",
   "metadata": {},
   "source": [
    "```dcmotor_car.py```:"
   ]
  },
  {
   "cell_type": "code",
   "execution_count": null,
   "metadata": {},
   "outputs": [],
   "source": [
    "from gpiozero import Motor\n",
    "import sys, pygame, pygame.freetype\n",
    "import time\n",
    "\n",
    "motor_left = Motor(forward=23, backward = 24, enable=25)  #\n",
    "motor_right = Motor(forward=10, backward = 9, enable=11)\n",
    "\n",
    "pygame.init( )\n",
    "\n",
    "#Set canvas parameters\n",
    "size = 500, 500\n",
    "\n",
    "#Set size of display\n",
    "screen = pygame.display.set_mode(size)\n",
    "\n",
    "while 1:\n",
    "    for event in pygame.event.get():\n",
    "        # print(event)\n",
    "        if event.type == pygame.QUIT:\n",
    "            sys.exit()\n",
    "            \n",
    "        if event.type == pygame.KEYDOWN:\n",
    "            if event.key == pygame.K_RIGHT:\n",
    "                print('Move right...')\n",
    "\n",
    "            if event.key == pygame.K_LEFT:\n",
    "                print('Move left...')\n",
    "\n",
    "            if event.key == pygame.K_DOWN:\n",
    "                print('Move backward...')\n",
    "\n",
    "            if event.key == pygame.K_UP:\n",
    "                print('Move forward...')\n",
    "\n",
    "        if event.type == pygame.KEYUP:\n",
    "            print('Stop motors...')\n",
    "            \n",
    "    time.sleep(0.1)#Wait for 100ms before next button press"
   ]
  },
  {
   "cell_type": "markdown",
   "metadata": {},
   "source": [
    "Lefuttatva ezt a kódot és nyomkodva a nyíl jelű billentyűket, a képernyőn meg kell jelennie a szövegeknek, jelezve, hogy a mozgás melyik irányba történt."
   ]
  },
  {
   "cell_type": "markdown",
   "metadata": {},
   "source": [
    "### Kerék forgató függvények definiálása"
   ]
  },
  {
   "cell_type": "markdown",
   "metadata": {},
   "source": [
    "Ahhoz, hogy mozgásra bírjuk a kis járművünket a motorok forgatását össze kell hangolni. Azaz, mindegyik mozgási irányhoz meg kell határoznunk, hogy melyik motort merre kell forgatni. Ezt főként megfigyeléssel lehet elérni és a szerkezet összeszerelése után is érdemes még egyszer leellenőrízni, hogy a motorok a megfelelő irányba forognak, létrehozva a kívánt mozgást, nem pedig akadályoztatják egymást, megbénítva így a járművet.\n",
    "\n",
    "Öt mozgásfüggvényt definiálunk. Az utolsó és talán a legegyszerűbb a motorok leállítása, ```stop_motors(m1, m2)```. Itt bemenő paraméterként megadjuk mindkét motort és a függvény belsejében leállítjuk őket a ```stop()``` metódussal. A másik négy függvény az előre, hátra, jobbra és balra mozgásirányokat definiálják. Mindegyiknek három bemenő paramétere van, a két motor objektuma és a sebesség paraméter (mindkét motort ugyanakkora sebességgel mozgatjuk). \n",
    "\n",
    "A mi kódunkban (de ahogy előbb említettük, ezt mindenki maga tesztelje), az előre mozgást, ```move_forward(m1, m2, speed=0.8)```, úgy érjük el, hogy mindkét motort előre forgatjuk. A hátrafele mozgáshoz, ```move_backward(m1, m2, speed=0.8)```, mindkét motort hátrafele forgatjuk. Balra mozgáshoz, ```move_left(mleft, mright, speed=0.8)```, a bal motort hátra mozgatjuk (és ehhez lehetne még a jobb oldali motort előre mozgatni). Jobbra mozgáshoz, ```move_right(mleft, mright, speed=0.8)```, pedig pont az ellenkezőt csináljuk mint az előbb, a jobb oldali motort hátrafele mozgatjuk (és akár a bal oldali motort is lehet előre mozgatni). "
   ]
  },
  {
   "cell_type": "code",
   "execution_count": 1,
   "metadata": {},
   "outputs": [],
   "source": [
    "def move_forward(m1, m2, speed=0.8):\n",
    "    m1.forward(speed=speed)\n",
    "    m2.forward(speed=speed)\n",
    "\n",
    "def move_backward(m1, m2, speed=0.8):\n",
    "    m1.backward(speed=speed)\n",
    "    m2.backward(speed=speed)\n",
    "\n",
    "def move_left(mleft, mright, speed=0.8):\n",
    "    mleft.backward(speed=speed)\n",
    "    #mright.forward(speed=speed)\n",
    "\n",
    "def move_right(mleft, mright, speed=0.8):\n",
    "    #mleft.forward(speed=speed)\n",
    "    mright.backward(speed=speed)\n",
    "\n",
    "def stop_motors(m1, m2):\n",
    "    m1.stop()\n",
    "    m2.stop()\n"
   ]
  },
  {
   "cell_type": "markdown",
   "metadata": {},
   "source": [
    "Mégegyszer kihangsúlyozzuk, hogy a mozgásirányok definiálásához az aktuális összeszerelést kell figyelembe venni és letesztelni még mielőtt terhelés kerülne az autóra. Ha apró zúgás hallatszódik a motorokból, de érdemleges mozgás nincs, ellenőrízzük, hogy a motor mennyire van terhelve, illetve, hogy jó irányba vannak-e definiálva a motorok forgása. "
   ]
  },
  {
   "cell_type": "markdown",
   "metadata": {},
   "source": [
    "### Mozgató függvények meghívása billentyűzettel"
   ]
  },
  {
   "cell_type": "markdown",
   "metadata": {},
   "source": [
    "Most már rendelkezésünkre áll minden építő elem, hogy összerakjuk a járműhöz a vezérlő kódot. Bemásolva a mozgató függvényeket és a billentyűzet ellenőrzésénél, ha teljesül a feltétel meghívjuk ezeket a függvényeket. Például a jobbra billentyű lenyomásánál, ```if event.key == pygame.K_RIGHT:``` meghívjuk a ```move_right(motor_left, motor_right, speed=1)``` mozgató függvényt, majd ha elengedtük a billentyűt, ```f event.type == pygame.KEYUP:```, akkor a ```stop_motors(motor_left, motor_right)``` függvényt hívjuk meg."
   ]
  },
  {
   "cell_type": "markdown",
   "metadata": {},
   "source": [
    "```dcmotor_car.py```:"
   ]
  },
  {
   "cell_type": "code",
   "execution_count": null,
   "metadata": {},
   "outputs": [],
   "source": [
    "from gpiozero import Motor\n",
    "import sys, pygame, pygame.freetype\n",
    "import time\n",
    "\n",
    "\n",
    "motor_left = Motor(forward=23, backward = 24, enable=25)  #\n",
    "motor_right = Motor(forward=10, backward = 9, enable=11)\n",
    "\n",
    "\n",
    "pygame.init( )\n",
    "#Set canvas parameters\n",
    "size = 500, 500\n",
    "#Set size of display\n",
    "screen = pygame.display.set_mode(size)\n",
    "\n",
    "\n",
    "def move_forward(m1, m2, speed=0.8):\n",
    "    m1.forward(speed=speed)\n",
    "    m2.forward(speed=speed)\n",
    "\n",
    "def move_backward(m1, m2, speed=0.8):\n",
    "    m1.backward(speed=speed)\n",
    "    m2.backward(speed=speed)\n",
    "\n",
    "def move_left(mleft, mright, speed=0.8):\n",
    "    mleft.backward(speed=speed)\n",
    "    #mright.forward(speed=speed)\n",
    "\n",
    "def move_right(mleft, mright, speed=0.8):\n",
    "    #mleft.forward(speed=speed)\n",
    "    mright.backward(speed=speed)\n",
    "\n",
    "def stop_motors(m1, m2):\n",
    "    m1.stop()\n",
    "    m2.stop()\n",
    "    \n",
    "    \n",
    "while 1:\n",
    "    for event in pygame.event.get():\n",
    "        # print(event)\n",
    "        if event.type == pygame.QUIT:\n",
    "            sys.exit()\n",
    "        if event.type == pygame.KEYDOWN:\n",
    "            if event.key == pygame.K_RIGHT:\n",
    "                print('Move right...')\n",
    "                move_right(motor_left, motor_right, speed=1)\n",
    "            if event.key == pygame.K_LEFT:\n",
    "                print('Move left...')\n",
    "                move_left(motor_left, motor_right, speed=1)\n",
    "            if event.key == pygame.K_DOWN:\n",
    "                print('Move backward...')\n",
    "                move_backward(motor_left, motor_right, speed=1)\n",
    "            if event.key == pygame.K_UP:\n",
    "                print('Move forward...')\n",
    "                move_forward(motor_left, motor_right, speed=1)\n",
    "\n",
    "        if event.type == pygame.KEYUP:\n",
    "            print('Stop motors...')\n",
    "            stop_motors(motor_left, motor_right)\n",
    "\n",
    "    time.sleep(0.1)#Wait for 100ms before next button press"
   ]
  },
  {
   "cell_type": "markdown",
   "metadata": {},
   "source": [
    "## A projekt tesztelése"
   ]
  },
  {
   "cell_type": "markdown",
   "metadata": {},
   "source": [
    "Miután összeszereltük az áramkört és a kódot is megírtuk, amit pl. ```dcmotor_car.py``` név alatt mentettünk el, megnyithatunk a Raspberry Pi operációs rendszerén egy terminált. A terminálban a ```cd 'mappa név'``` paranccsal elnavigálunk abba a mappába, ahova a ```dcmotor_car.py```-t elmentettük. Ott begépelve a ```python dcmotor_car.py``` parancsot, letesztelhetjük a programunk működését. Ha minden jól megy akkor a program elindítása után megjelenik egy kis ablak a képernyőn és a gép várja a nyíllal megjelölt gombok lenyomását a billentyűzeten. Az autónak a nyílak irányának megfelelően kell elmozdulnia lenyomáskor, majd elengedéskor a motorokat le kell állítsa. \n",
    "\n",
    "Hibaüzenetek esetén ki kell deríteni mi lehetett a probléma, pl. elgépelés, egy modul hiányzik, sorok megfelelő behúzása, idézőjel lemaradása stb. A hibaüzenet legtöbbször segít abban, hogy melyik sorban találta a hibát és hogy mi volt az. Egy kis gyakorlással bele lehet jönni azok értelmezésébe, valamint interneten is rá lehet keresni a hibaüzenet jelentésére és annak lehetséges elhárítására."
   ]
  },
  {
   "cell_type": "markdown",
   "metadata": {},
   "source": [
    "## Mit lehet javítani/továbbfejleszteni?"
   ]
  },
  {
   "cell_type": "markdown",
   "metadata": {},
   "source": [
    "* Írjuk át a kódot és tervezzük át az áramkört úgy, hogy ne a billentyűzetről, hanem gombokról kapja az irányítást.\n",
    "* Tervezzük át az áramkört, hogy 4 LED diódával jelezzük a mozgás irányát a gombok lenyomásakor.\n",
    "\n",
    "Írd meg kommentben, hogy szerinted mivel lehetne még feldobni ezt a kis programot!"
   ]
  },
  {
   "cell_type": "markdown",
   "metadata": {},
   "source": [
    "## Referencia"
   ]
  },
  {
   "cell_type": "markdown",
   "metadata": {},
   "source": [
    "1) gpiozero leírás - [https://gpiozero.readthedocs.io/en/stable/recipes.html](https://gpiozero.readthedocs.io/en/stable/recipes.html)\n",
    "\n",
    "2) Motor objektum leírása - [https://gpiozero.readthedocs.io/en/stable/api_output.html#motor](https://gpiozero.readthedocs.io/en/stable/api_output.html#motor)\n",
    "\n",
    "3) L293D driver leírása - [https://www.ti.com/lit/ds/symlink/l293.pdf](https://www.ti.com/lit/ds/symlink/l293.pdf)\n",
    "\n",
    "4) Pygame leírása - [https://www.pygame.org/news](https://www.pygame.org/news)\n",
    "\n",
    "5) Pygame event - [https://www.raspberry-pi-geek.com/Archive/2014/05/Pygame-modules-for-interactive-programs](https://www.raspberry-pi-geek.com/Archive/2014/05/Pygame-modules-for-interactive-programs)"
   ]
  },
  {
   "cell_type": "code",
   "execution_count": null,
   "metadata": {},
   "outputs": [],
   "source": []
  }
 ],
 "metadata": {
  "kernelspec": {
   "display_name": "Python 3",
   "language": "python",
   "name": "python3"
  },
  "language_info": {
   "codemirror_mode": {
    "name": "ipython",
    "version": 3
   },
   "file_extension": ".py",
   "mimetype": "text/x-python",
   "name": "python",
   "nbconvert_exporter": "python",
   "pygments_lexer": "ipython3",
   "version": "3.7.3"
  },
  "toc": {
   "base_numbering": 1,
   "nav_menu": {},
   "number_sections": true,
   "sideBar": true,
   "skip_h1_title": false,
   "title_cell": "Table of Contents",
   "title_sidebar": "Contents",
   "toc_cell": false,
   "toc_position": {},
   "toc_section_display": true,
   "toc_window_display": false
  }
 },
 "nbformat": 4,
 "nbformat_minor": 2
}
