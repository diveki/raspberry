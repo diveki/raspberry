{
 "cells": [
  {
   "cell_type": "markdown",
   "metadata": {},
   "source": [
    "# Projekt 3 - Sebesség mérés színekkel"
   ]
  },
  {
   "cell_type": "markdown",
   "metadata": {},
   "source": [
    "Megszokhattuk már, hogy autó vezetés közben a gázra lépve a sebességmutató (vagy a fordulatszámmutató) elfordul, jelezve, hogy növekszik a sebességünk (a motor fordulatszáma). A modernebb (elektromos) autóknál mér nem analóg, hanem digitális kijelző van, ahol akár egy növő vastag csík jelzi a sebesség növekedését, akár változtatva a csík színét is a sebesség függvényében. \n",
    "\n",
    "Ebben a projektben egy RGB LED-et használunk majd a motor forgási sebességének megjelenítésére. A piros színtől (lassú) a kékig (gyors) folytonosan változtatjuk a LED színét. A sebesség változtatására nyomógombokat használunk. "
   ]
  },
  {
   "cell_type": "markdown",
   "metadata": {},
   "source": [
    "## Mit fogsz készíteni?"
   ]
  },
  {
   "cell_type": "markdown",
   "metadata": {},
   "source": [
    "Egy 3-6V DC Motorból, 3 nyomógombból, 1 RGB LED-ből és egy L293D vezérlő (driver) chipből álló rendszert építünk, amit a Raspberry Pi-hoz kapcsolunk. A nyomógombok felelnek majd a motor ki/bekapcsolásáért, illetve a forgási sebességének megváltoztatásáért. A sebességet 0.1 egységenként növelhetjük vagy csökkenthetjük. Figyeljünk arra is, hogy a sebesség paraméterünk ne léphesse át a minimum 0 vagy a maximum 1 értékeket. A forgási sebesség nagyságát egy RGB LED különböző színeivel szimbolizáljuk. **Megjegyzés: Mindig használjunk megfelelő drivert a motorral összekötve, hogy csökkentsük bármelyik eszköz károsodásának lehetőségét.**"
   ]
  },
  {
   "cell_type": "markdown",
   "metadata": {},
   "source": [
    "## Mit tanulsz meg?"
   ]
  },
  {
   "cell_type": "markdown",
   "metadata": {},
   "source": [
    "A színes sebességmérő elkészítésével a következőket tanulod meg:\n",
    "\n",
    "* Hogyan tudsz egy DC motort egy áramkörbe beiktatni a hozzá tartozó driverrel és nyomó gombokkal együtt.\n",
    "* Hogyan programozd be a Raspberry Pi GPIO kimeneteleit a **gpiozero** modullal.\n",
    "* **lambda** kifejezés használatát.\n",
    "* Hogyan adjunk át a nyomógombnak olyan függvényeket, amiknek több bemeneti paramétere van.\n",
    "* Hogyan programozzuk be a gomb különböző tulajdonságait egyszerre.\n",
    "* Hogyan kezeljük a globális változókat.\n",
    "* Hogy vezéreljük az RGB LED színét egy függvényen keresztül."
   ]
  },
  {
   "cell_type": "markdown",
   "metadata": {},
   "source": [
    "## A projekt részletekre bontása"
   ]
  },
  {
   "cell_type": "markdown",
   "metadata": {},
   "source": [
    "* Elkészíteni az áramkört.\n",
    "* Inicializálni a Motor, RGB LED és nyomógomb objektumokat.\n",
    "* Definiálni egy függvényt, ami a motor ki- és bekapcsolásáért felel.\n",
    "* Definiálni egy függvényt ami képes a bemenő paraméter függvényében színkódokat előállítani.\n",
    "* Definiálni egy függvényt ami növeli vagy épp csökkenti a motor sebességét, a bemenő paraméterek függvényében. Egyben garantálja is, hogy az új sebesség ne legyen nagyobb (kisebb) mint a maximális (minimális) sebesség.  \n",
    "* Hozzárendelni a megfelelő függvényeket a megfelelő gombokhoz."
   ]
  },
  {
   "cell_type": "markdown",
   "metadata": {},
   "source": [
    "## Áramköri elemek listája"
   ]
  },
  {
   "cell_type": "markdown",
   "metadata": {},
   "source": [
    "a) [Raspberry PI](https://malnapc.hu/yis/raspberry-pi/rpi-panelek) \n",
    "\n",
    "b) DC Motor: [itt vásárolhatsz](https://www.tme.eu/hu/details/oky5022-1/dc-motorok/okystar/)\n",
    "\n",
    "c) [Jumper wires female/male](https://www.ret.hu/shop/product/e-call/jumper-vezetek-szet_53-22-63) \n",
    "\n",
    "d) L293D vezérlő: [itt vásárolhatsz](https://www.tme.eu/hu/details/l293d/motor-es-pwm-driverek/stmicroelectronics/)\n",
    "\n",
    "e) 3 db nyomó gomb: [itt vásárolhatsz](https://hu.farnell.com/schurter/1301-9320/switch-smd-push-12-5mm/dp/1217772?gclid=Cj0KCQjwzZj2BRDVARIsABs3l9K-ACTnuRr-dLVcDUKleNfECM3H3kWS_RfWtmXGMXVJeY9otda4dDcaAvGLEALw_wcB&gross_price=true&mckv=sSFnjERxR_dc|pcrid|434487710397|plid||kword||match||slid||product|1217772|pgrid|101346804139|ptaid|pla-389347076066|&CMP=KNC-GHU-SHOPPING-switches-relays-NEWSTRUCTURE-13-MAY-20) vagy [építhetsz]()\n",
    "\n",
    "f) 4 db AAA vagy AA [ceruza elem]()\n",
    "\n",
    "g) RGB LED, $I_{max}$ = 20 mA-es: [itt vásárolhatsz](https://www.tme.eu/hu/details/osta56a1a-c/tht-led-diodak-egyeb/optosupply/)"
   ]
  },
  {
   "cell_type": "markdown",
   "metadata": {},
   "source": [
    "## A kapcsolási rajz"
   ]
  },
  {
   "cell_type": "markdown",
   "metadata": {},
   "source": [
    "<img src=\"prog02_schema.png\" width=600 height=400 />"
   ]
  },
  {
   "cell_type": "markdown",
   "metadata": {},
   "source": [
    "A fenti ábrához hasonlóan kapcsoljuk össze az áramköri elemeket és a Raspberry Pi-t. Az áramkör részletes összekötési magyarázata a [Motorok]() című bevezető leírásban található.\n",
    "\n",
    "1) Az L293D driver földelés lábait kössük össze egymással és az átellenes oldallal (fekete drót). Egyben az áramforrás (4 db AAA elem a rajzon) negatív végét és a Raspberry Pi egyik földelését is kössük össze az L293D driver földelésével. Így minden elem azonos földelésen lesz.\n",
    "\n",
    "2) Az áramforrás pozitív végét kapcsoljuk a driver *VS* lábára (*8*-as láb, piros drót). Ez adja a feszültséget a motor meghajtásához. \n",
    "\n",
    "3) Kapcsoljuk a Raspberry Pi +5V-os tüskéjét a driver *VSS* (*16*-os) lábával össze (fehér drót). Ez adja a driver működéséhez nélkülözhetetlen tápot. \n",
    "\n",
    "4) A Raspberry Pi *GPIO25*-ös tüskéjét kapcsoljuk az *EN1* (*1*-es) lábra (okkersárga drót). A driver ezen lába szolgál arra, hogy aktiválja a driver *IN1 (2), IN2 (7), OUT1 (3) és OUT2 (6)* lábait, amennyiben magas állapotba kerül. Alacsony állapotból az előbb említett lábak nem kapnak áramot. \n",
    "\n",
    "5) A Raspberry Pi *GPIO23*-as és *GPIO24*-es tüskéit kapcsoljuk az *IN1 (2), IN2 (7)* lábakra a driveren (szürke és narancssárga drótok). Felváltva aktiválva őket vagyunk képesek előre és hátrafele forgatni a motort attől függően, hogy épp melyik van magas állapotban. \n",
    "\n",
    "6) A motor két kimenetét (citromsárga és zöld drótok) kapcsoljuk a driver *OUT1 (3) és OUT2 (6)* lábaira. Az *IN1 és IN2* lábak állapota szabályozza, hogy ezek a lábak, azaz maga a motor, kap-e feszültséget.\n",
    "\n",
    "7) Illesszünk be egy nyomógombot a breadboardba és annak egyik lábát kapcsoljuk a földelésre a másikat pedig a *GPIO17*-es tüskére (lila drót).\n",
    "\n",
    "8) Illesszünk be egy másik nyomógombot a breadboardba és annak egyik lábát kapcsoljuk a földelésre a másikat pedig a *GPIO27*-es tüskére (barna drót).\n",
    "\n",
    "9) Illesszünk be egy harmadik nyomógombot is a breadboardba és annak egyik lábát kapcsoljuk a földelésre a másikat pedig a *GPIO22*-es tskére (pink drót).\n",
    "\n",
    "10) Az RGB LED leghosszabb lábát (közös katód esetén) kössük össze a földeléssel egy jumper drót segítségével.\n",
    "\n",
    "11) A többi láb sorába az ábrának megfelelően kössük be az ellenállásokat.\n",
    "\n",
    "12) A piros (R) lábhoz tartozó ellenállás sorát kössük a **9**-es GPIO tüskéhez, a zöldet (G) a **10**-eshez és a kéket a **11**-hez.\n",
    "\n",
    "**Kétszer is ellenőrizzük le, hogy a bekötésünk rendben van-e. A félrekötött tüskék nagyban növelik a motor vagy a Raspberry Pi tökremenési esélyeit. A motort SEMMIKÉPP SE tápláljuk és irányítsük direktben a Raspberry Pi-ről, mert az szinte biztosan a számítógép sérükéséhez vezet.**"
   ]
  },
  {
   "cell_type": "markdown",
   "metadata": {},
   "source": [
    "## A kód\n",
    "Nyissunk meg egy új python fájlt és mentsük el pl. ```dcmotor_speed.py``` név alatt."
   ]
  },
  {
   "cell_type": "markdown",
   "metadata": {},
   "source": [
    "### A DC motor kipróbálása"
   ]
  },
  {
   "cell_type": "markdown",
   "metadata": {},
   "source": [
    "Miután elkészítettük az áramkört, meg kell írnunk a kódot ami utasítja a Raspberry Pi-t, a motor mozgatására.\n",
    "\n",
    "Először betöltjük a ```gpiozero``` modulból a ```Motor``` objektumot ami lehetővé teszik, hogy a Raspi kommunikáljon a motorral a hozzá tartozó vezérlővel a **GPIO** tüskéken keresztül. Emellett beimportáljuk a ```sleep``` függvényt is, hogy szünetet tarthassunk a python kód lefutásában. "
   ]
  },
  {
   "cell_type": "markdown",
   "metadata": {},
   "source": [
    "```dcmotor_speed.py```:"
   ]
  },
  {
   "cell_type": "code",
   "execution_count": null,
   "metadata": {},
   "outputs": [],
   "source": [
    "from gpiozero import Motor\n",
    "from time import sleep"
   ]
  },
  {
   "cell_type": "markdown",
   "metadata": {},
   "source": [
    "Az objektum beolvasása után inicializálunk egy ```Motor``` objektumot, amit ```motor```-nak nevezünk el. Egyben megmondjuk az objektumnak, hogy a fizikai motor előre forgatásért felelő drótját a *23*-as számú **GPIO** tüskére csatlakoztattuk, míg a hátrafelé forgatásért felelő drótot a *24*-es számú **GPIO** tüskére. Emellett a driveren a kimeneteket aktiváló drótot a *25*-ös számú **GPIO** tüskére csatlakoztattuk. "
   ]
  },
  {
   "cell_type": "markdown",
   "metadata": {},
   "source": [
    "```dcmotor_speed.py```:"
   ]
  },
  {
   "cell_type": "code",
   "execution_count": null,
   "metadata": {},
   "outputs": [],
   "source": [
    "from gpiozero import Motor\n",
    "from time import sleep\n",
    "\n",
    "motor = Motor(forward=23, backward = 24, enable=25)"
   ]
  },
  {
   "cell_type": "markdown",
   "metadata": {},
   "source": [
    "Ezután készen állunk arra, hogy leteszteljük a motor mozgatását és az objektumhoz tartozó egyéb metódusok működését. Elsőnek a motort előre forgatjuk ```motor.forward()```, 5 másodpercen keresztül, majd megállítjuk a ```motor.stop()``` paranccsal és leteszteljük, hogy hátrafele is tud-e forogni, ```motor.backward()```. Hagyjuk forogni 5 másodpercet, majd újra leállítjuk. "
   ]
  },
  {
   "cell_type": "markdown",
   "metadata": {},
   "source": [
    "```dcmotor_speed.py```:"
   ]
  },
  {
   "cell_type": "code",
   "execution_count": null,
   "metadata": {},
   "outputs": [],
   "source": [
    "from gpiozero import Motor\n",
    "from time import sleep\n",
    "\n",
    "motor = Motor(forward=23, backward = 24, enable=25)\n",
    "\n",
    "motor.forward()\n",
    "sleep(5)\n",
    "motor.stop()\n",
    "\n",
    "motor.backward()\n",
    "sleep(5)\n",
    "motor.stop()"
   ]
  },
  {
   "cell_type": "markdown",
   "metadata": {},
   "source": [
    "Ha lefuttatjuk ezt a kódot, kiderül, hogy mindent rendben kötöttünk-e össze az áramkörben. Ha nem az elvárt mozgásokat tapasztaljuk, akkor meg kell keresni a hibát. Nagy valószínűséggel az áramköri kapcsolásokkal van gond."
   ]
  },
  {
   "cell_type": "markdown",
   "metadata": {},
   "source": [
    "### A gombok tesztelése"
   ]
  },
  {
   "cell_type": "markdown",
   "metadata": {},
   "source": [
    "Következő lépésben beimportáljuk a gombokért felelős ```Button``` objektumot is és definiálunk két gombot. Az egyiket a *GPIO17*-re a másikat pedig a *GPIO27*-re, a harmadikat pedig a *GPIO22*-re kötjük. "
   ]
  },
  {
   "cell_type": "markdown",
   "metadata": {},
   "source": [
    "```dcmotor_speed.py```:"
   ]
  },
  {
   "cell_type": "code",
   "execution_count": null,
   "metadata": {},
   "outputs": [],
   "source": [
    "from gpiozero import Motor, Button\n",
    "from time import sleep\n",
    "\n",
    "motor = Motor(forward=23, backward = 24, enable=25)\n",
    "button_start_stop = Button(17)\n",
    "button_faster = Button(27)\n",
    "button_slower = Button(22)"
   ]
  },
  {
   "cell_type": "markdown",
   "metadata": {},
   "source": [
    "Ahhoz, hogy leteszteljük helyesen kötöttük-e be a gombokat és, hogy azok működnek, írunk egy segédfüggvényt ```test()```, amit a gomb lenyomásakor meghívunk majd. A függvény meghívásakor egyszerűen csak kiíratjuk a képernyőre, hogy a gombot megnyomtuk. Végül ezt a függvényt hozzá kell rendelnünk a gombhoz, méghozzá most a gomb lenyomásának pillanatához a ```when_pressed``` metódushoz."
   ]
  },
  {
   "cell_type": "markdown",
   "metadata": {},
   "source": [
    "```dcmotor_speed.py```:"
   ]
  },
  {
   "cell_type": "code",
   "execution_count": null,
   "metadata": {},
   "outputs": [],
   "source": [
    "from gpiozero import Motor, Button\n",
    "from time import sleep\n",
    "\n",
    "motor = Motor(forward=23, backward = 24, enable=25)\n",
    "button_start_stop = Button(17)\n",
    "button_faster = Button(27)\n",
    "button_slower = Button(22)\n",
    "\n",
    "def test():\n",
    "    print('Button is pressed')\n",
    "    \n",
    "button_start_stop.when_pressed = test\n",
    "button_faster.when_pressed = test\n",
    "button_slower.when_pressed = test\n",
    "\n",
    "while True:\n",
    "    pass"
   ]
  },
  {
   "cell_type": "markdown",
   "metadata": {},
   "source": [
    "A kód végén még elindítunk egy végtelen ciklust, ami nem csinál semmit, így csak a gombok lenyomása lesz az egyetlen egy esemény amit a számítógép jelezhet. \n",
    "\n",
    "Mentsük le a kódot és futtasuk le a pythonnal. Teszteljük, hogy a gombok lenyomására megjelenik-e az üzenet a képernyőn. "
   ]
  },
  {
   "cell_type": "markdown",
   "metadata": {},
   "source": [
    "### Az RGB LED tesztelése"
   ]
  },
  {
   "cell_type": "markdown",
   "metadata": {},
   "source": [
    "Először betöltjük a gpiozero modulból az RGBLED objektumot ami lehetővé teszik, hogy a Raspi kommunikáljon a LED-del a GPIO tüskéken keresztül. Ez mellett beolvassuk még a sleep függvényt is, amit a python várakoztatására használunk majd.\n",
    "\n",
    "Ezután leteszteljük, hogy mind a három színünk jól működik-e. Egyenként bekapcsoljuk őket, majd 1 másodpercet várva kikapcsoljuk és áttérünk a következő színre. A LED piros lábát a *GPIO9*-re, a zöldet a *GPIO10*-re míg a kéket a *GPIO11*-re kötjük."
   ]
  },
  {
   "cell_type": "code",
   "execution_count": null,
   "metadata": {},
   "outputs": [],
   "source": [
    "from gpiozero import Motor, Button, RGBLED\n",
    "from time import sleep\n",
    "\n",
    "motor = Motor(forward=23, backward = 24, enable=25)  # Motor(23,24,25)\n",
    "led = RGBLED(red=9, green=10, blue=11, active_high = True)\n",
    "button_start_stop = Button(17)\n",
    "button_faster = Button(27)\n",
    "button_slower = Button(22)\n",
    "\n",
    "led.red = 1  # full red\n",
    "sleep(1)\n",
    "led.red = 0\n",
    "led.green = 1\n",
    "sleep(1)\n",
    "led.green = 0\n",
    "led.blue = 1\n",
    "sleep(1)\n",
    "led.blue = 0"
   ]
  },
  {
   "cell_type": "markdown",
   "metadata": {},
   "source": [
    "Ha minden rendben működött, akkor a program lefuttatásakor mind a három szín megjelenik egyenként a diódán egy másodperces szünetekkel."
   ]
  },
  {
   "cell_type": "markdown",
   "metadata": {},
   "source": [
    "### Színt változtató függvény definiálása"
   ]
  },
  {
   "cell_type": "markdown",
   "metadata": {},
   "source": [
    "A projekt egyik alapköve, hogy a motor sebességének függvényében változtatni tudjuk a LED színét. Tehát, írnunk kell egy függvényt, aminek a bemenő paramétere a sebességhez tartozó érték, amit átalakítunk valahogy RGB színkódba. Ezt a célt többféleképp is el lehet érni. Itt két megoldást mutatunk be, de lehet ötletelni több megoldáson. \n",
    "\n",
    "Az első esetben, feltételezzük, hogy a motor sebességét csakis 0.1 nagyságú lépésekkel változtatjuk. Tudjuk azt is, hogy a sebesség 0 és 1 között mozog, a szélsőértékeket beleértve. Tehát, összesen 11 lépést tehetünk meg így a minimumtól a maximum sebességig, azaz 11 féle színt kell megjelenítenünk a LED-en. A lenti függvényben a ```colors``` változóban tárolunk 11 db RGB színkódot. A függvény bemenő paramétere 0-tól mehet 1-ig 0.1 tizedes pontossággal. A kiválasztandó szín indexét úgy számoljuk ki, hogy a bemenő paramétert ```value```,  megszorozzuk tízzel, majd a végeredményt átalakítjuk integerré. Majd végül visszaadjuk, a szín listának az index által meghatározott elemét."
   ]
  },
  {
   "cell_type": "code",
   "execution_count": 5,
   "metadata": {},
   "outputs": [],
   "source": [
    "def value2rgb(value):\n",
    "    colors = [(1,0,0), (1,0,1), (1,1,0), (0,1,1), (1,1,1), (0.5,0,1), (0.5,0.5,1), (0.2,0.3,0.4), (0.4,0.3,0.2),\n",
    "              (0.3,0.2,0.4), (0.5,0.4,0.2)]\n",
    "    ind = int(value*10)\n",
    "    return colors[ind]"
   ]
  },
  {
   "cell_type": "code",
   "execution_count": 6,
   "metadata": {},
   "outputs": [
    {
     "data": {
      "text/plain": [
       "(0.5, 0, 1)"
      ]
     },
     "execution_count": 6,
     "metadata": {},
     "output_type": "execute_result"
    }
   ],
   "source": [
    "value2rgb(0.5)"
   ]
  },
  {
   "cell_type": "code",
   "execution_count": 7,
   "metadata": {},
   "outputs": [
    {
     "data": {
      "text/plain": [
       "(0.4, 0.3, 0.2)"
      ]
     },
     "execution_count": 7,
     "metadata": {},
     "output_type": "execute_result"
    }
   ],
   "source": [
    "value2rgb(0.8)"
   ]
  },
  {
   "cell_type": "markdown",
   "metadata": {},
   "source": [
    "Előnye ennek a függvénynek, hogy egyszerű és könnyen értelmezhető. Hátránya, hogy nem biztos, hogy valaki 0.1-es lépéssel akarja megváltoztatni a motor sebességét, sőt nem biztos, hogy akar egy tizedes pontossággal tenné ezt. Ebben az esetben a fenti függvény működik, de nem teljesen úgy ahogy szeretnénk:"
   ]
  },
  {
   "cell_type": "code",
   "execution_count": 8,
   "metadata": {},
   "outputs": [
    {
     "data": {
      "text/plain": [
       "(0.4, 0.3, 0.2)"
      ]
     },
     "execution_count": 8,
     "metadata": {},
     "output_type": "execute_result"
    }
   ],
   "source": [
    "value2rgb(0.82461)"
   ]
  },
  {
   "cell_type": "markdown",
   "metadata": {},
   "source": [
    "Mint látjuk, annak ellenére, hogy a 0.82461 nagyobb mint a 0.8, a szín amit a LED megjelenít ugyanaz. Ez az ```int``` parancs kerekítésének köszönhető, ami a tizedes számokat egész számmá kerekíti. Ennek kiküszöbölésére használhatjuk az alábbi függvényt (amit egyébként a Stockoverflow nevű honlapon böngészve meg lehet találni). "
   ]
  },
  {
   "cell_type": "code",
   "execution_count": 9,
   "metadata": {},
   "outputs": [],
   "source": [
    "def value2rgb(minimum, maximum, value):\n",
    "    minimum, maximum = float(minimum), float(maximum)\n",
    "    ratio = 2 * (value-minimum) / (maximum - minimum)\n",
    "    b = int(max(0, 255*(1 - ratio)))/255\n",
    "    r = int(max(0, 255*(ratio - 1)))/255\n",
    "    g = (255 - b - r)/255\n",
    "    return r, g, b"
   ]
  },
  {
   "cell_type": "markdown",
   "metadata": {},
   "source": [
    "Ebben a függvényben nem csak a bemenő sebességértéket ```value``` kell megadni, hanem azt is, hogy mi a lehetséges minimuma (0) és a maximuma (1) ennek a sebességnek. Ennél a függvénynél már más színkódok jönnek ki, ha tizedesben is különböző bemenő sebességet adunk meg. A fenti példákat megismételve:"
   ]
  },
  {
   "cell_type": "code",
   "execution_count": 11,
   "metadata": {},
   "outputs": [
    {
     "data": {
      "text/plain": [
       "(0.6, 0.9976470588235294, 0.0)"
      ]
     },
     "execution_count": 11,
     "metadata": {},
     "output_type": "execute_result"
    }
   ],
   "source": [
    "value2rgb(0,1,0.8)"
   ]
  },
  {
   "cell_type": "code",
   "execution_count": 12,
   "metadata": {},
   "outputs": [
    {
     "data": {
      "text/plain": [
       "(0.6470588235294118, 0.9974625144175316, 0.0)"
      ]
     },
     "execution_count": 12,
     "metadata": {},
     "output_type": "execute_result"
    }
   ],
   "source": [
    "value2rgb(0,1,0.82461)"
   ]
  },
  {
   "cell_type": "markdown",
   "metadata": {},
   "source": [
    "Ha a bemenő sebességekben pici az eltérés a kijövő színekben is kicsi lesz, de folytonosan változó. A továbbiakban erre a függvényre fogunk hagyatkozni."
   ]
  },
  {
   "cell_type": "markdown",
   "metadata": {},
   "source": [
    "### Függvény a motor be- és kikapcsolására"
   ]
  },
  {
   "cell_type": "markdown",
   "metadata": {},
   "source": [
    "Ebben a fejezetben egy olyan függvényt, ```start_stop```, írunk aminek egymás utáni meghívásával be- és kikapcsoljuk a motort. Ehhez először is, definiálunk egy változót, ```on_ff``` ami észben tartja a motor állapotát, azaz ha ki van kapcsolva akkor a változó értéke ```False```, ha be van a motor kapcsolva akkor ```True```. Definiáláskor a motor elviekben nem működik, így ```on_off = True``. \n",
    "\n",
    "Ezután definiáljuk a ```start_stop(button, m)``` függvényt, aminek van egy nyomógomb és egy motor bemenő paramétere (sőt még lehetne egy led bemenő paramétere, ha nagy általánosságra törekednénk). A függvény első sorában meghívjuk a globális változókat, ```on_off, led```. Mivel ez a függvény indítja és állítja meg a motort, így le kell ellenőriznünk, hogy milyen állapotban van: ```if on_off:```. Ha a motor be van kapcsolva (```on_off=True```), akkor átállítjuk az ```on_off``` értékét hamisra, kikapcsoljuk a motort ```m.stop()```, és kikapcsoljuk a LED-et is ```led.off()```. Valamint kiíratjuk a képernyőre, hogy a motort kikapcsoltuk.\n",
    "\n",
    "Viszont, ha a motor a gomb lenyomásakor kikapcsolt állapotban van, akkor az ```on_off``` értékét igazra változtatjuk, jelezve, hogy bekapcsoljuk a motort, majd elindítjuk a motort ```m.forward()```. A motor sebességértékétől függően, meghatározunk egy színt ```color = value2rgb(0, 1, m.value)```, amit a LED-en meg is jelenítünk ```led.color = color```. Végül a képernyőre kinyomtatjuk, hogy a motor be lett kapcsolva."
   ]
  },
  {
   "cell_type": "code",
   "execution_count": 1,
   "metadata": {},
   "outputs": [],
   "source": [
    "on_off = False   # keeps note about the rotation of the motor True-rotates, False-stopped\n",
    "\n",
    "def start_stop(button, m):\n",
    "    global on_off, led\n",
    "    if on_off:\n",
    "        on_off = False\n",
    "        m.stop()\n",
    "        led.off()\n",
    "        print('Motor off...')\n",
    "    else:\n",
    "        on_off = True\n",
    "        m.forward()\n",
    "        color = value2rgb(0, 1, m.value)\n",
    "        led.color = color\n",
    "        print('Motor on...')"
   ]
  },
  {
   "cell_type": "markdown",
   "metadata": {},
   "source": [
    "Evvel az egy függvénnyel képesek leszünk a motort ki és be kapcsolni egy nyomógombot használva. "
   ]
  },
  {
   "cell_type": "markdown",
   "metadata": {},
   "source": [
    "### A motor sebességét vezérlő függvény definiálása"
   ]
  },
  {
   "cell_type": "markdown",
   "metadata": {},
   "source": [
    "A kapcsolási rajzból megmaradó két gombot a motor sebességének befolyásolására fogjuk használni. Most ehhez írunk függvényt. Ez egy általánosan felhasználható függvény lesz, amit mind a két nyomógomb használhat. Bemenő paraméterektől függően más és más lesz az eredmény. Fontos, hogy ilyen általánosan felhasználható függvényeket írjunk, mert csökkentik a kódunk hosszát, illetve ha a jövőben módosítani kell rajta valamit, akkor csak egy helyen kell megtenni, így kisebb a hibázási lehetőség. \n",
    "\n",
    "A függvényünk a ```speed(button, increment = 0.1)``` alakot veszi fel, ahol a bemenő paraméterek között várunk egy nyomógomb objektumot és azt, hogy mennyivel változtassuk meg a sebességet (alapértelmezettben ez, 0.1-re van állítva). Ha pl. csökkenteni akarjuk a sebességet, akkor negatív számot adunk az ```increment``` argumentumnak. A ```button``` argumentummal biztosítjuk, hogy bármelyik általunk megadott nyomógombon működjön ez a függvény. Emellett a ```speed``` függvény felel majd a LED színének a változtatásáért is. \n",
    "\n",
    "A függvény első sorában beolvassuk a globális változókat, ```led, motor```. Igazából ezek is lehetnének bemenő paraméterek, de mivel mind a kettőből csak egy darab van ebben a projektben így ezt a megoldást kényelmesebbnek találtuk. A következő lépésben eltároljuk egy új változóba a motor leendő sebességét, ```new_speed = motor.value + increment```. A ```motor.value``` adja meg az eddigi sebességét a motornak amihez hozzáadjuk az ```increment``` értékét. Ha az utóbbi értéke pozitív, akkor növeljük a sebességet, ha negatív akkor csökkentjük. \n",
    "\n",
    "Mielőtt a ```new_speed``` értékét valóban a motor sebességéhez rendelnénk, leellenőrízzük, hogy egyáltalán bele esik-e a lehetséges sebességtartományba, azaz a 0 és 1 közötti értékbe, ```if new_speed > 0 and new_speed < 1.01:```. Azért adtuk felső feltételnek az 1.01-et, hogy maga az 1 értéke még bele férjen. Ha a feltétel teljesül, azaz jó az új sebesség érték, akkor először kinyomtatjuk a képernyőre azt, majd hozzárendeljük a motor sebességéhez, ```motor.value = new_speed```. Ezután az új sebességet használjuk a LED színének meghatározásához, ```color = value2rgb(0,1,new_speed)```. Végül beállítjuk az új színt, ```led.color = color```. \n",
    "\n",
    "Ha az új sebesség mégsem esne az általunk meghatározott tartományba, akkor kinyomtatjuk a képernyőre, hogy a motor sebessége a tartományon kívül esik és hogy pontosan mennyi is az új sebesség. Viszont nem rendeljük a motorhoz az új értéket védve azt a károsodástól."
   ]
  },
  {
   "cell_type": "code",
   "execution_count": null,
   "metadata": {},
   "outputs": [],
   "source": [
    "def speed(button, increment = 0.1):\n",
    "    global led, motor\n",
    "    new_speed = motor.value + increment\n",
    "    if new_speed > 0 and new_speed < 1.01:\n",
    "        print(f'New speed: {new_speed}')\n",
    "        motor.value = new_speed\n",
    "        color = value2rgb(0, 1, new_speed)\n",
    "        led.color = color\n",
    "    else:\n",
    "        print('Motor speed is out of range of 0 and 1.')\n",
    "        print(f'Current speed is: {motor.value}')"
   ]
  },
  {
   "cell_type": "markdown",
   "metadata": {},
   "source": [
    "### A függvények gombokhoz való rendelése"
   ]
  },
  {
   "cell_type": "markdown",
   "metadata": {},
   "source": [
    "Utolsó lépésként az előbb definiált függvényeket beillesszük a kódunkba és hozzárendeljük őket a megfelelő gombok megfelelő metódusához, használva a ```lambda``` kifejezést, hiszen a gombok metódusai mindig függvényeket várnak értékül. Itt a ```.when_pressed``` metódust fogjuk használni, hiszen azt szeretnénk, hogy a gombok lenyomására aktiválódjanak az egyes függvények. Jól látható, hogy a gyorsításhoz és a lassításhoz ugyanazt a függvényt rendeljük, csak más bemenő paramétereket adunk neki. Mindkét esetben az adott gombhoz tartozó gomb objektum lesz az egyik bemenő paraméter, illetve az ```increment``` értéke az egyiknél pozitív (gyorsítás) a másiknál negatív (lassítás).  "
   ]
  },
  {
   "cell_type": "markdown",
   "metadata": {},
   "source": [
    "```dcmotor_speed.py```:"
   ]
  },
  {
   "cell_type": "code",
   "execution_count": null,
   "metadata": {},
   "outputs": [],
   "source": [
    "from gpiozero import Motor, Button, RGBLED\n",
    "\n",
    "motor = Motor(forward=23, backward = 24, enable=25)  \n",
    "led = RGBLED(red=9, green=10, blue=11, active_high = True)\n",
    "button_start_stop = Button(17)\n",
    "button_faster = Button(27)\n",
    "button_slower = Button(22)\n",
    "\n",
    "on_off = False  \n",
    "\n",
    "\n",
    "def start_stop(button, m):\n",
    "    global on_off, led\n",
    "    if on_off:\n",
    "        on_off = False\n",
    "        m.stop()\n",
    "        led.off()\n",
    "        print('Motor off...')\n",
    "    else:\n",
    "        on_off = True\n",
    "        m.forward()\n",
    "        color = value2rgb(0, 1, m.value)\n",
    "        led.color = color\n",
    "        print('Motor on...')\n",
    "\n",
    "def speed(button, increment = 0.1):\n",
    "    global led, motor\n",
    "    new_speed = motor.value + increment\n",
    "    if new_speed > 0 and new_speed < 1.01:\n",
    "        print(f'New speed: {new_speed}')\n",
    "        motor.value = new_speed\n",
    "        color = value2rgb(0, 1, new_speed)\n",
    "        led.color = color\n",
    "    else:\n",
    "        print('Motor speed is out of range of 0 and 1.')\n",
    "        print(f'Current speed is: {motor.value}')\n",
    "\n",
    "def value2rgb(minimum, maximum, value):\n",
    "    minimum, maximum = float(minimum), float(maximum)\n",
    "    ratio = 2 * (value-minimum) / (maximum - minimum)\n",
    "    b = int(max(0, 255*(1 - ratio)))/255\n",
    "    r = int(max(0, 255*(ratio - 1)))/255\n",
    "    g = (255 - b - r)/255\n",
    "    return r, g, b\n",
    "\n",
    "\n",
    "button_start_stop.when_pressed = lambda : start_stop(button_start_stop, motor)\n",
    "button_faster.when_pressed = lambda : speed(button_faster, increment=0.1)\n",
    "button_slower.when_pressed = lambda : speed(button_slower, increment=-0.1)\n",
    "\n",
    "while True:\n",
    "    pass"
   ]
  },
  {
   "cell_type": "markdown",
   "metadata": {},
   "source": [
    "## A projekt tesztelése"
   ]
  },
  {
   "cell_type": "markdown",
   "metadata": {},
   "source": [
    "Miután összeszereltük az áramkört és a kódot is megírtuk, amit pl. ```dcmotor_speed.py``` név alatt mentettünk el, megnyithatunk a Raspberry Pi operációs rendszerén egy terminált. A terminálban a ```cd 'mappa név'``` paranccsal elnavigálunk abba a mappába, ahova a ```dcmotor_speed.py```-t elmentettük. Ott begépelve a ```python dcmotor_speed.py``` parancsot, letesztelhetjük a programunk működését. Ha minden jól megy akkor a start gomb megnyomása után a LED bekapcsol és a motor elkezd forogni. Ha változtatjuk a sebességét, akkor a LED is változtatja a színét. Ezenfelül a program nem engedi, hogy a sebesség a 0 és 1 intervallumon kívüli értéket vegyen fel.\n",
    "\n",
    "Hibaüzenetek esetén ki kell deríteni mi lehetett a probléma, pl. elgépelés, egy modul hiányzik, sorok megfelelő behúzása, idézőjel lemaradása stb. A hibaüzenet legtöbbször segít abban, hogy melyik sorban találta a hibát és hogy mi volt az. Egy kis gyakorlással bele lehet jönni azok értelmezésébe, valamint interneten is rá lehet keresni a hibaüzenet jelentésére és annak lehetséges elhárítására."
   ]
  },
  {
   "cell_type": "markdown",
   "metadata": {},
   "source": [
    "## Mit lehet javítani/továbbfejleszteni?"
   ]
  },
  {
   "cell_type": "markdown",
   "metadata": {},
   "source": [
    "* A sebesség mértékét az RGB LED villogásának periódusa jelezze. Ha nagy sebesség, gyorsan villog, ha kicsi a sebesség akkor lassan villog a LED.\n",
    "* A gombok funkcionalitását írjuk át, hogy egy gombbal be- és kikapcsoljuk a motort, a másik gombbal előre vagy hátra forgatjuk a motort, míg a harmadik gomb a sebességet változtatja, méghozza, ha gyorsan nyomjuk meg akkor növeli a sebességet, ha sokáig nyomva tartjuk majd elengedjük, akkor lassítja a motort.\n",
    "\n",
    "Írd meg kommentben, hogy szerinted mivel lehetne még feldobni ezt a kis programot!"
   ]
  },
  {
   "cell_type": "markdown",
   "metadata": {},
   "source": [
    "## Referencia"
   ]
  },
  {
   "cell_type": "markdown",
   "metadata": {},
   "source": [
    "1) gpiozero leírás - [https://gpiozero.readthedocs.io/en/stable/recipes.html](https://gpiozero.readthedocs.io/en/stable/recipes.html)\n",
    "\n",
    "2) Motor objektum leírása - [https://gpiozero.readthedocs.io/en/stable/api_output.html#motor](https://gpiozero.readthedocs.io/en/stable/api_output.html#motor)\n",
    "\n",
    "3) L293D driver leírása - [https://www.ti.com/lit/ds/symlink/l293.pdf](https://www.ti.com/lit/ds/symlink/l293.pdf)\n",
    "\n",
    "4) Button objektum leírása - [https://gpiozero.readthedocs.io/en/stable/api_input.html?highlight=button#button](https://gpiozero.readthedocs.io/en/stable/api_input.html?highlight=button#button)\n",
    "\n",
    "5) lambda kifejezés - [https://www.programiz.com/python-programming/anonymous-function](https://www.programiz.com/python-programming/anonymous-function)\n",
    "\n",
    "6) RGBLED objektum leírása - [https://gpiozero.readthedocs.io/en/stable/api_output.html#rgbled](https://gpiozero.readthedocs.io/en/stable/api_output.html#rgbled)"
   ]
  },
  {
   "cell_type": "code",
   "execution_count": null,
   "metadata": {},
   "outputs": [],
   "source": []
  }
 ],
 "metadata": {
  "kernelspec": {
   "display_name": "Python 3",
   "language": "python",
   "name": "python3"
  },
  "language_info": {
   "codemirror_mode": {
    "name": "ipython",
    "version": 3
   },
   "file_extension": ".py",
   "mimetype": "text/x-python",
   "name": "python",
   "nbconvert_exporter": "python",
   "pygments_lexer": "ipython3",
   "version": "3.7.3"
  },
  "toc": {
   "base_numbering": 1,
   "nav_menu": {},
   "number_sections": true,
   "sideBar": true,
   "skip_h1_title": false,
   "title_cell": "Table of Contents",
   "title_sidebar": "Contents",
   "toc_cell": false,
   "toc_position": {},
   "toc_section_display": true,
   "toc_window_display": false
  }
 },
 "nbformat": 4,
 "nbformat_minor": 2
}
