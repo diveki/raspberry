{
 "cells": [
  {
   "cell_type": "markdown",
   "metadata": {},
   "source": [
    "# Projekt 4 - Szerencse kerék"
   ]
  },
  {
   "cell_type": "markdown",
   "metadata": {},
   "source": [
    " A londoni Winter Wonderland vidámparkban sétálva néztétek a felsorakoztatott kalandos és izgalommal teli játékokat. Volt ott óriáskerék, hullámvasút, céllövészet stb. Egyszercsak azt veszitek észre, hogy néhányan egy 2 kg-os Toblerone óriás csokival sétálgatnak. Megkérdezitek őket, hol szerezték és kiderül, hogy egy szerencsekeréken nyerték, ahol a játékvezető megpörgeti a kereket és ha az általad megtett számnál áll meg a kerék, nyertél. \n",
    " \n",
    " Ettől felbuzdúlva, kitaláltátok, hogy ti is készítetek magatoknak egy ilyen kereket. A kereket egy DC motorral hajtjátok meg és egy nyíl jelzi, hogy a keréken levő mezők közül, melyiknél állt meg a motor. A motor elindítását ti is egy nyomógombbal végzitek el. Hogy milyen ajándékok várnak a nyertesekre az a ti fantáziátokra van bízva."
   ]
  },
  {
   "cell_type": "markdown",
   "metadata": {},
   "source": [
    "## Mit fogsz készíteni?"
   ]
  },
  {
   "cell_type": "markdown",
   "metadata": {},
   "source": [
    "Egy 3-6V DC Motorból, 1 nyomógombból és egy L293D vezérlő (driver) chipből álló rendszert építünk, amit a Raspberry Pi-hoz kapcsolunk. A nyomógombbal indítjuk el a motort ami 0 és 5 másodperc között véletlenszerű ideig forog, 0.6 és 1 sebességértékek közti véletlenszerű sebességgel. A motor forgó tengelyére egy kör alakú kartonlapot rögzítünk, aminek az egyik lapjára ráragasszuk a szerencsekerék mintázatunkat. Az így létrejött szerkezetet egy dobozhoz, hungarocellhez vagy falaphoz rögzítjük úgy, hogy a motor biztonságosan forgathassa a szerencsekereket. **Megjegyzés: Mindig használjunk megfelelő drivert a motorral összekötve, hogy csökkentsük bármelyik eszköz károsodásának lehetőségét.**"
   ]
  },
  {
   "cell_type": "markdown",
   "metadata": {},
   "source": [
    "## Mit tanulsz meg?"
   ]
  },
  {
   "cell_type": "markdown",
   "metadata": {},
   "source": [
    "A szerencsekerék elkészítésével a következőket tanulod meg:\n",
    "\n",
    "* Hogyan tudsz egy DC motort egy áramkörbe beiktatni a hozzá tartozó driverrel és nyomó gombbal együtt.\n",
    "* Hogyan programozd be a Raspberry Pi GPIO kimeneteleit a **gpiozero** modullal.\n",
    "* **lambda** kifejezés használatát.\n",
    "* Hogyan adjunk át a nyomógombnak olyan függvényeket, amiknek több bemeneti paramétere van.\n",
    "* Hogyan generáljunk random számokat."
   ]
  },
  {
   "cell_type": "markdown",
   "metadata": {},
   "source": [
    "## A projekt részletekre bontása"
   ]
  },
  {
   "cell_type": "markdown",
   "metadata": {},
   "source": [
    "* Elkészíteni az áramkört.\n",
    "* Inicializálni a Motor és nyomógomb objektumokat.\n",
    "* Definiálni egy függvényt, ami random ideig, random sebességgel forgatja a motort.\n",
    "* Hozzárendelni a függvényt a nyomógombhoz."
   ]
  },
  {
   "cell_type": "markdown",
   "metadata": {},
   "source": [
    "## Áramköri elemek listája"
   ]
  },
  {
   "cell_type": "markdown",
   "metadata": {},
   "source": [
    "a) [Raspberry PI](https://malnapc.hu/yis/raspberry-pi/rpi-panelek) \n",
    "\n",
    "b) DC Motor: [itt vásárolhatsz](https://www.tme.eu/hu/details/oky5022-1/dc-motorok/okystar/)\n",
    "\n",
    "c) [Jumper wires female/male](https://www.ret.hu/shop/product/e-call/jumper-vezetek-szet_53-22-63) \n",
    "\n",
    "d) L293D vezérlő: [itt vásárolhatsz](https://www.tme.eu/hu/details/l293d/motor-es-pwm-driverek/stmicroelectronics/)\n",
    "\n",
    "e) 1 db nyomó gomb: [itt vásárolhatsz](https://hu.farnell.com/schurter/1301-9320/switch-smd-push-12-5mm/dp/1217772?gclid=Cj0KCQjwzZj2BRDVARIsABs3l9K-ACTnuRr-dLVcDUKleNfECM3H3kWS_RfWtmXGMXVJeY9otda4dDcaAvGLEALw_wcB&gross_price=true&mckv=sSFnjERxR_dc|pcrid|434487710397|plid||kword||match||slid||product|1217772|pgrid|101346804139|ptaid|pla-389347076066|&CMP=KNC-GHU-SHOPPING-switches-relays-NEWSTRUCTURE-13-MAY-20) vagy [építhetsz]()\n",
    "\n",
    "f) 4 db AAA vagy AA [ceruza elem]()\n",
    "\n",
    "g) Kb. 10-15 cm átmérőjű kör alakú karton papír\n",
    "\n",
    "h) Szerencsekerék minta pl. [Picúros mintájú]()\n",
    "\n",
    "i) Kb. 20x20x2 cm-es hungarocell lap\n",
    "\n",
    "j) Duncos gumi"
   ]
  },
  {
   "cell_type": "markdown",
   "metadata": {},
   "source": [
    "## A kapcsolási rajz"
   ]
  },
  {
   "cell_type": "markdown",
   "metadata": {},
   "source": [
    "<img src=\"prog03_schema.png\" width=600 height=400 />"
   ]
  },
  {
   "cell_type": "markdown",
   "metadata": {},
   "source": [
    "### Kapcsolási rajz részletező"
   ]
  },
  {
   "cell_type": "markdown",
   "metadata": {},
   "source": [
    "A fenti ábrához hasonlóan kapcsoljuk össze az áramköri elemeket és a Raspberry Pi-t. Az áramkör részletes összekötési magyarázata a [Motorok]() című bevezető leírásban található.\n",
    "\n",
    "1) Az L293D driver földelés lábait kössük össze egymással és az átellenes oldallal (fekete drót). Egyben az áramforrás (4 db AAA elem a rajzon) negatív végét és a Raspberry Pi egyik földelését is kössük össze az L293D driver földelésével. Így minden elem azonos földelésen lesz.\n",
    "\n",
    "2) Az áramforrás pozitív végét kapcsoljuk a driver *VS* lábára (*8*-as láb, piros drót). Ez adja a feszültséget a motor meghajtásához. \n",
    "\n",
    "3) Kapcsoljuk a Raspberry Pi +5V-os tüskéjét a driver *VSS* (*16*-os) lábával össze (fehér drót). Ez adja a driver működéséhez nélkülözhetetlen tápot. \n",
    "\n",
    "4) A Raspberry Pi *GPIO25*-ös tüskéjét kapcsoljuk az *EN1* (*1*-es) lábra (okkersárga drót). A driver ezen lába szolgál arra, hogy aktiválja a driver *IN1 (2), IN2 (7), OUT1 (3) és OUT2 (6)* lábait, amennyiben magas állapotba kerül. Alacsony állapotból az előbb említett lábak nem kapnak áramot. \n",
    "\n",
    "5) A Raspberry Pi *GPIO23*-as és *GPIO24*-es tüskéit kapcsoljuk az *IN1 (2), IN2 (7)* lábakra a driveren (szürke és narancssárga drótok). Felváltva aktiválva őket vagyunk képesek előre és hátrafele forgatni a motort attől függően, hogy épp melyik van magas állapotban. \n",
    "\n",
    "6) A motor két kimenetét (citromsárga és zöld drótok) kapcsoljuk a driver *OUT1 (3) és OUT2 (6)* lábaira. Az *IN1 és IN2* lábak állapota szabályozza, hogy ezek a lábak, azaz maga a motor, kap-e feszültséget.\n",
    "\n",
    "7) Illesszünk be egy nyomógombot a breadboardba és annak egyik lábát kapcsoljuk a földelésre a másikat pedig a *GPIO17*-es tüskére (lila drót).\n",
    "\n",
    "**Kétszer is ellenőrizzük le, hogy a bekötésünk rendben van-e. A félrekötött tüskék nagyban növelik a motor vagy a Raspberry Pi tökremenési esélyeit. A motort SEMMIKÉPP SE tápláljuk és irányítsük direktben a Raspberry Pi-ről, mert az szinte biztosan a számítógép sérükéséhez vezet.**"
   ]
  },
  {
   "cell_type": "markdown",
   "metadata": {},
   "source": [
    "### Projekt összeszerelési útmutató"
   ]
  },
  {
   "cell_type": "markdown",
   "metadata": {},
   "source": [
    "<img src=\"lucky_wheel_1.jpg\" width=600 height=400 />"
   ]
  },
  {
   "cell_type": "markdown",
   "metadata": {},
   "source": [
    "A szerencsekerék összeszereléséhez a fenti képen látható elemek fognak kelleni. Egy alapzat (hungarocell), egy duncosgumi, egy motor és egy keménylapra ragasztott szerencsekerék papír."
   ]
  },
  {
   "cell_type": "markdown",
   "metadata": {},
   "source": [
    "<img src=\"lucky_wheel_2.jpg\" width=600 height=400 />"
   ]
  },
  {
   "cell_type": "markdown",
   "metadata": {},
   "source": [
    "Kb. 20x20x2 cm-es hungarocell lapot vágjunk ki, aminek nagyjából a közepét kb. 1x1 cm-es méretben átlukasztjuk. A hungarocell egyik sarkába helyezzünk (egyelőre ne ragasszuk oda) egy nyíl alakú jelzést (akár papírból is lehet, a lényeg, hogy csúcsos legyen a lyuk felé). Ez a nyíl fogja jelezni a szerencsekeréken, hogy melyik nyereményt kapjuk. "
   ]
  },
  {
   "cell_type": "markdown",
   "metadata": {},
   "source": [
    "<img src=\"lucky_wheel_3.jpg\" width=600 height=400 />"
   ]
  },
  {
   "cell_type": "markdown",
   "metadata": {},
   "source": [
    "Ezután rögzítsük a motort a hungarocellhez egy duncosgumival. Ha kell használjunk kettő duncosgumit, vagy bármilyen más leszorítást. A lényeg, hogy a motor forgása közben maga a motor teste ne mozogjon, csak a tengelye forogjon. "
   ]
  },
  {
   "cell_type": "markdown",
   "metadata": {},
   "source": [
    "<img src=\"lucky_wheel_4.jpg\" width=600 height=400 />"
   ]
  },
  {
   "cell_type": "markdown",
   "metadata": {},
   "source": [
    "Végül helyezzük a szerencsekerék lapját a motor tengelyére. Győződjünk meg róla, hogy a lap nem lötyög és nem esik le könnyen. Egyben igazítsunk a nyílacska pozícióján ha kell úgy, hogy felülről a lapra nézve egyértelműen lássuk melyik mezőre mutat a nyíl. Ha ez meg van, ragasszuk a nyílat a hungarocellhez."
   ]
  },
  {
   "cell_type": "markdown",
   "metadata": {},
   "source": [
    "## A kód\n",
    "Nyissunk meg egy új python fájlt és mentsük el pl. ```dcmotor_lucky_wheel.py``` név alatt."
   ]
  },
  {
   "cell_type": "markdown",
   "metadata": {},
   "source": [
    "### A DC motor kipróbálása"
   ]
  },
  {
   "cell_type": "markdown",
   "metadata": {},
   "source": [
    "Miután elkészítettük az áramkört, meg kell írnunk a kódot ami utasítja a Raspberry Pi-t, a motor mozgatására.\n",
    "\n",
    "Először betöltjük a ```gpiozero``` modulból a ```Motor``` objektumot ami lehetővé teszik, hogy a Raspi kommunikáljon a motorral a hozzá tartozó vezérlővel a **GPIO** tüskéken keresztül. Emellett beimportáljuk a ```sleep``` függvényt is, hogy szünetet tarthassunk a python kód lefutásában, valamint a ```random``` csomagot, hogy véletlenszerű számokat tudjunk generálni. "
   ]
  },
  {
   "cell_type": "markdown",
   "metadata": {},
   "source": [
    "```dcmotor_lucky_wheel.py```:"
   ]
  },
  {
   "cell_type": "code",
   "execution_count": null,
   "metadata": {},
   "outputs": [],
   "source": [
    "from gpiozero import Motor\n",
    "from time import sleep\n",
    "import random"
   ]
  },
  {
   "cell_type": "markdown",
   "metadata": {},
   "source": [
    "Az objektum beolvasása után inicializálunk egy ```Motor``` objektumot, amit ```motor```-nak nevezünk el. Egyben megmondjuk az objektumnak, hogy a fizikai motor előre forgatásért felelő drótját a *23*-as számú **GPIO** tüskére csatlakoztattuk, míg a hátrafelé forgatásért felelő drótot a *24*-es számú **GPIO** tüskére. Emellett a driveren a kimeneteket aktiváló drótot a *25*-ös számú **GPIO** tüskére csatlakoztattuk. "
   ]
  },
  {
   "cell_type": "markdown",
   "metadata": {},
   "source": [
    "```dcmotor_lucky_wheel.py```:"
   ]
  },
  {
   "cell_type": "code",
   "execution_count": null,
   "metadata": {},
   "outputs": [],
   "source": [
    "from gpiozero import Motor\n",
    "from time import sleep\n",
    "import random\n",
    "\n",
    "motor = Motor(forward=23, backward = 24, enable=25)"
   ]
  },
  {
   "cell_type": "markdown",
   "metadata": {},
   "source": [
    "Ezután készen állunk arra, hogy leteszteljük a motor mozgatását és az objektumhoz tartozó egyéb metódusok működését. Elsőnek a motort előre forgatjuk ```motor.forward()```, 5 másodpercen keresztül, majd megállítjuk a ```motor.stop()``` paranccsal és leteszteljük, hogy hátrafele is tud-e forogni, ```motor.backward()```. Hagyjuk forogni 5 másodpercet, majd újra leállítjuk. "
   ]
  },
  {
   "cell_type": "markdown",
   "metadata": {},
   "source": [
    "```dcmotor_lucky_wheel.py```:"
   ]
  },
  {
   "cell_type": "code",
   "execution_count": null,
   "metadata": {},
   "outputs": [],
   "source": [
    "from gpiozero import Motor\n",
    "from time import sleep\n",
    "import random\n",
    "\n",
    "motor = Motor(forward=23, backward = 24, enable=25)\n",
    "\n",
    "motor.forward()\n",
    "sleep(5)\n",
    "motor.stop()\n",
    "\n",
    "motor.backward()\n",
    "sleep(5)\n",
    "motor.stop()"
   ]
  },
  {
   "cell_type": "markdown",
   "metadata": {},
   "source": [
    "Ha lefuttatjuk ezt a kódot, kiderül, hogy mindent rendben kötöttünk-e össze az áramkörben. Ha nem az elvárt mozgásokat tapasztaljuk, akkor meg kell keresni a hibát. Nagy valószínűséggel az áramköri kapcsolásokkal van gond."
   ]
  },
  {
   "cell_type": "markdown",
   "metadata": {},
   "source": [
    "### A gombok tesztelése"
   ]
  },
  {
   "cell_type": "markdown",
   "metadata": {},
   "source": [
    "Következő lépésben beimportáljuk a gombokért felelős ```Button``` objektumot is és definiálunk egy gombot, amit aa *GPIO17*-re kötjük. "
   ]
  },
  {
   "cell_type": "markdown",
   "metadata": {},
   "source": [
    "```dcmotor_lucky_wheel.py```:"
   ]
  },
  {
   "cell_type": "code",
   "execution_count": null,
   "metadata": {},
   "outputs": [],
   "source": [
    "from gpiozero import Motor, Button\n",
    "from time import sleep\n",
    "import random\n",
    "\n",
    "motor = Motor(forward=23, backward = 24, enable=25)\n",
    "button_start = Button(17)"
   ]
  },
  {
   "cell_type": "markdown",
   "metadata": {},
   "source": [
    "Ahhoz, hogy leteszteljük helyesen kötöttük-e be a gombot és, hogy működik, írunk egy segédfüggvényt ```test()```, amit a gomb lenyomásakor meghívunk majd. A függvény meghívásakor egyszerűen csak kiíratjuk a képernyőre, hogy a gombot megnyomtuk. Végül ezt a függvényt hozzá kell rendelnünk a gombhoz, méghozzá most a gomb lenyomásának pillanatához a ```when_pressed``` metódushoz."
   ]
  },
  {
   "cell_type": "markdown",
   "metadata": {},
   "source": [
    "```dcmotor_lucky_wheel.py```:"
   ]
  },
  {
   "cell_type": "code",
   "execution_count": null,
   "metadata": {},
   "outputs": [],
   "source": [
    "from gpiozero import Motor, Button\n",
    "from time import sleep\n",
    "import random\n",
    "\n",
    "motor = Motor(forward=23, backward = 24, enable=25)\n",
    "button_start = Button(17)\n",
    "\n",
    "def test():\n",
    "    print('Button is pressed')\n",
    "    \n",
    "button_start.when_pressed = test\n",
    "\n",
    "while True:\n",
    "    pass"
   ]
  },
  {
   "cell_type": "markdown",
   "metadata": {},
   "source": [
    "A kód végén még elindítunk egy végtelen ciklust, ami nem csinál semmit, így csak a gombok lenyomása lesz az egyetlen egy esemény amit a számítógép jelezhet. \n",
    "\n",
    "Mentsük le a kódot és futtasuk le a pythonnal. Teszteljük, hogy a gombok lenyomására megjelenik-e az üzenet a képernyőn. "
   ]
  },
  {
   "cell_type": "markdown",
   "metadata": {},
   "source": [
    "### Kerék forgató függvény definiálása"
   ]
  },
  {
   "cell_type": "markdown",
   "metadata": {},
   "source": [
    "Elérkeztünk a projekt legfontosabb részéhez, a kerék forgatásához szükséges függvény definiálásához. Nevezzük el, ```start(button, m)``` függvénynek. Kettő bemenő paramétert fogad, az első a gomb, ```button```, amit lenyomunk, a második a motor, ```m```, objektuma.\n",
    "\n",
    "A függvény egyik feladata, hogy véletlenszerű ideig forgassa a kereket 0 és 5 másodperc között. Ehhez létrehozunk egy új változót, ```t_rot```, ami egy véletlenszerű valós szám értékét veszi fel 0 és 5 között, ```t_rot = random.uniform(0,5)```.\n",
    "\n",
    "Ugyanezt a módszert használjuk, hogy a függvényünk második feladatát végrehajtsuk, a véletlenszerű sebesség generálását. Ezt is egy változóhoz rendeljük hozzá, ```speed = random.uniform(0.6, 1)```. Itt 0,6-tól indítjuk a generálást, mert kisebb értékeknél lehet, hogy a motornak nehezére esne már forgatni a kereket (habár ez motor függő). \n",
    "\n",
    "Ha legeneráltuk a két véletlen számot, már csak alkalmaznunk kell őket. Először elkezdjük forgatni a motort a legenerált sebességgel, ```m.forward(speed=speed)```. Ezután hagyjuk azt forogni a legenerált forgási ideig, ```sleep(t_rot)```. Végül megállítjuk a motort, ```m.stop()```."
   ]
  },
  {
   "cell_type": "code",
   "execution_count": 1,
   "metadata": {},
   "outputs": [],
   "source": [
    "def start(button, m):\n",
    "    t_rot = random.uniform(0, 5)\n",
    "    speed = random.uniform(0.6, 1)\n",
    "    m.forward(speed=speed)\n",
    "    sleep(t_rot)\n",
    "    m.stop()"
   ]
  },
  {
   "cell_type": "markdown",
   "metadata": {},
   "source": [
    "A fent definiált függvény általánosan használható tetszőleges gombra és tetszőleges motorra, amiket megadunk bemenő paraméterként. Így ha egy feladatban több motort is kellene evvel a módszerrel forgatni, akkor mindegyikre alkalmazható lenne. "
   ]
  },
  {
   "cell_type": "markdown",
   "metadata": {},
   "source": [
    "### A függvények gombokhoz való rendelése"
   ]
  },
  {
   "cell_type": "markdown",
   "metadata": {},
   "source": [
    "Utolsó lépésként az előbb definiált függvényt beillesszük a kódunkba és hozzárendeljük gomb megfelelő metódusához, használva a ```lambda``` kifejezést, hiszen a gombok metódusai mindig függvényeket várnak értékül. Itt a ```.when_pressed``` metódust fogjuk használni, hiszen azt szeretnénk, hogy a gombok lenyomására aktiválódjanak az egyes függvények. A ```lambda``` kifejezés testébe írjuk a ```start``` függvényt, minthogy azt kell végrehajtani, és annak bemenő paraméterként megadjuk a ```button_start``` gombot és a ```motor``` nevű motort. "
   ]
  },
  {
   "cell_type": "markdown",
   "metadata": {},
   "source": [
    "```dcmotor_lucky_wheel.py```:"
   ]
  },
  {
   "cell_type": "code",
   "execution_count": null,
   "metadata": {},
   "outputs": [],
   "source": [
    "from gpiozero import Motor, Button\n",
    "from time import sleep\n",
    "import random\n",
    "\n",
    "motor = Motor(forward=23, backward = 24, enable=25) \n",
    "button_start = Button(17)\n",
    "\n",
    "\n",
    "def start(button, m):\n",
    "    t_rot = random.uniform(0, 5)\n",
    "    speed = random.uniform(0.6, 1)\n",
    "    m.forward(speed=speed)\n",
    "    sleep(t_rot)\n",
    "    m.stop()\n",
    "\n",
    "\n",
    "button_start.when_pressed = lambda : start(button_start, motor)\n",
    "\n",
    "\n",
    "while True:\n",
    "    pass"
   ]
  },
  {
   "cell_type": "markdown",
   "metadata": {},
   "source": [
    "A kód végére beírunk még egy végtelen ciklust, hogy a program lefutása után a python kód ne álljon meg, hanem folyamatosan várja a gomb lenyomásokat. "
   ]
  },
  {
   "cell_type": "markdown",
   "metadata": {},
   "source": [
    "## A projekt tesztelése"
   ]
  },
  {
   "cell_type": "markdown",
   "metadata": {},
   "source": [
    "Miután összeszereltük az áramkört és a kódot is megírtuk, amit pl. ```dcmotor_lucky_wheel.py``` név alatt mentettünk el, megnyithatunk a Raspberry Pi operációs rendszerén egy terminált. A terminálban a ```cd 'mappa név'``` paranccsal elnavigálunk abba a mappába, ahova a ```dcmotor_lucky_wheel.py```-t elmentettük. Ott begépelve a ```python dcmotor_lucky_wheel.py``` parancsot, letesztelhetjük a programunk működését. Ha minden jól megy akkor a start gomb megnyomása után a motor elkezdi forgatni a kereket és egyszercsak, véletlenszerűen megáll. Ha újra megnyomjuk a gombot, akkor más sebességgel más ideig fog forogni.\n",
    "\n",
    "Hibaüzenetek esetén ki kell deríteni mi lehetett a probléma, pl. elgépelés, egy modul hiányzik, sorok megfelelő behúzása, idézőjel lemaradása stb. A hibaüzenet legtöbbször segít abban, hogy melyik sorban találta a hibát és hogy mi volt az. Egy kis gyakorlással bele lehet jönni azok értelmezésébe, valamint interneten is rá lehet keresni a hibaüzenet jelentésére és annak lehetséges elhárítására."
   ]
  },
  {
   "cell_type": "markdown",
   "metadata": {},
   "source": [
    "## Mit lehet javítani/továbbfejleszteni?"
   ]
  },
  {
   "cell_type": "markdown",
   "metadata": {},
   "source": [
    "* Írjuk át a kódot úgy, hogy a motor ne hirtelen, hanem fokozatosan lassulva álljon meg.\n",
    "* Írjuk át a kódot úgy, hogy az egyik gomb elindítja a kerék forgását és egy másik pedig megállítja. Így a játékos maga dönt afölött, hogy mikor állítja meg a kereket.\n",
    "\n",
    "Írd meg kommentben, hogy szerinted mivel lehetne még feldobni ezt a kis programot!"
   ]
  },
  {
   "cell_type": "markdown",
   "metadata": {},
   "source": [
    "## Referencia"
   ]
  },
  {
   "cell_type": "markdown",
   "metadata": {},
   "source": [
    "1) gpiozero leírás - [https://gpiozero.readthedocs.io/en/stable/recipes.html](https://gpiozero.readthedocs.io/en/stable/recipes.html)\n",
    "\n",
    "2) Motor objektum leírása - [https://gpiozero.readthedocs.io/en/stable/api_output.html#motor](https://gpiozero.readthedocs.io/en/stable/api_output.html#motor)\n",
    "\n",
    "3) L293D driver leírása - [https://www.ti.com/lit/ds/symlink/l293.pdf](https://www.ti.com/lit/ds/symlink/l293.pdf)\n",
    "\n",
    "4) Button objektum leírása - [https://gpiozero.readthedocs.io/en/stable/api_input.html?highlight=button#button](https://gpiozero.readthedocs.io/en/stable/api_input.html?highlight=button#button)\n",
    "\n",
    "5) lambda kifejezés - [https://www.programiz.com/python-programming/anonymous-function](https://www.programiz.com/python-programming/anonymous-function)\n",
    "\n",
    "6) random csomag leírása - [https://docs.python.org/3/library/random.html](https://docs.python.org/3/library/random.html)"
   ]
  },
  {
   "cell_type": "code",
   "execution_count": null,
   "metadata": {},
   "outputs": [],
   "source": []
  }
 ],
 "metadata": {
  "kernelspec": {
   "display_name": "Python 3",
   "language": "python",
   "name": "python3"
  },
  "language_info": {
   "codemirror_mode": {
    "name": "ipython",
    "version": 3
   },
   "file_extension": ".py",
   "mimetype": "text/x-python",
   "name": "python",
   "nbconvert_exporter": "python",
   "pygments_lexer": "ipython3",
   "version": "3.7.4"
  },
  "toc": {
   "base_numbering": 1,
   "nav_menu": {},
   "number_sections": true,
   "sideBar": true,
   "skip_h1_title": false,
   "title_cell": "Table of Contents",
   "title_sidebar": "Contents",
   "toc_cell": false,
   "toc_position": {},
   "toc_section_display": true,
   "toc_window_display": false
  }
 },
 "nbformat": 4,
 "nbformat_minor": 2
}
