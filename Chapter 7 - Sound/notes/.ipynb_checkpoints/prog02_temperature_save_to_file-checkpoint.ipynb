{
 "cells": [
  {
   "cell_type": "markdown",
   "metadata": {},
   "source": [
    "# Projekt 2 - Hőmérséklet mentése fájlba"
   ]
  },
  {
   "cell_type": "markdown",
   "metadata": {},
   "source": [
    "Mint házi ügyeletes szakit, a szüleid megbíztak, hogy készíts egy szoba hőmérsékletét rögzítő berendezést, ugyanis szeretnék látni és kielemezni, hogy különböző időpontokban, hogy változik az otthonotokban a hőmérséklet. \n",
    "\n",
    "Arra kértek, hogy készíts egy programot, ami az általad megadott ideig méri, az általad megadott időközönként az otthon hőmérsékletét. Az eredményt pedig egy fájlba menti le, ami tartalmazza a mérés időpontját és a hőmérsékletet Celsius és Fahrenheit fokokban."
   ]
  },
  {
   "cell_type": "markdown",
   "metadata": {},
   "source": [
    "## Mit fogsz készíteni?"
   ]
  },
  {
   "cell_type": "markdown",
   "metadata": {},
   "source": [
    "Egy DS18b20 szenzorból (és ha kell egy ellenállásból) álló áramkört készítünk, amiből másodpercenként kiolvassuk a hőmérsékletet 30 másodpercen keresztül. Mind a kiolvasás időpontját és a hőmérsékleteket elmentjük egy fájlba, hogy később is felkutathassuk a mért értékeket.  "
   ]
  },
  {
   "cell_type": "markdown",
   "metadata": {},
   "source": [
    "## Mit tanulsz meg?"
   ]
  },
  {
   "cell_type": "markdown",
   "metadata": {},
   "source": [
    "A hőmérő szenzor elkészítésével a következőket tanulod meg:\n",
    "\n",
    "* Hogyan futtas terminál parancsokat Pythonból.\n",
    "* Hogyan keress fájlokat és mappákat az operációs rendszeredben Pythonból a ```glob``` csomaggal.\n",
    "* Hogyan olvassuk ki egy szöveges fájl tartalmát az ```open``` parancs használatával.\n",
    "* Hogyan nyerjünk ki hasznos információt egy szöveges fájlból string parancsokat használva.\n",
    "* Hogyan kezeljük a dátum formátumokat a ```datetime``` csomag segítségével.\n",
    "* Hogyan mentsünk el adatokat fájlokba az ```open``` segítségével."
   ]
  },
  {
   "cell_type": "markdown",
   "metadata": {},
   "source": [
    "## A projekt részletekre bontása"
   ]
  },
  {
   "cell_type": "markdown",
   "metadata": {},
   "source": [
    "* Elkészíteni az áramkört.\n",
    "* Előkészíteni a kommunikációt a thermisztorral (```modprobe``` parancsok futtatása).\n",
    "* Definiálni a hőmérsékletet tartalmazó fájl lokációját.\n",
    "* Kiolvasni a fájl tartalmát az ```open``` parancs segítségével.\n",
    "* Definiálni egy függvényt ami a fájlból kinyeri a hőmérsékletet és a kiolvasás időpontját.\n",
    "* Definiálni egy függvényt, ami az időpontot és a hőmérsékletet olyan formába alakítja, hogy kimenthető legyen fájlba.\n",
    "* Definiálni egy függvényt ami kimenti az adatokat egy fájlba.\n",
    "* Másodpercenként megismételni a hőmérséklet olvasást.\n",
    "* Ellenőrizni, hogy eltelt-e a mérésre megadott időtartam."
   ]
  },
  {
   "cell_type": "markdown",
   "metadata": {},
   "source": [
    "## Áramköri elemek listája"
   ]
  },
  {
   "cell_type": "markdown",
   "metadata": {},
   "source": [
    "a) [Raspberry PI](https://malnapc.hu/yis/raspberry-pi/rpi-panelek) \n",
    "\n",
    "b) DS18b20 szenzor: [itt vásárolhatsz](https://www.tme.eu/hu/details/ds18b20+/homerseklet-jelatalakitok/maxim-integrated/)\n",
    "\n",
    "c) [Jumper wires female/male](https://www.ret.hu/shop/product/e-call/jumper-vezetek-szet_53-22-63) \n",
    "\n",
    "d) Ellenállás: [itt vásárolhatsz](https://www.tme.eu/hu/katalog/metal-film-tht-ellenallasok_112313/?s_order=desc&search=ellenallas&s_field=1000011)"
   ]
  },
  {
   "cell_type": "markdown",
   "metadata": {},
   "source": [
    "## A kapcsolási rajz"
   ]
  },
  {
   "cell_type": "markdown",
   "metadata": {},
   "source": [
    "<img src=\"programok/prog01_schema.png\" width=600 height=400 />"
   ]
  },
  {
   "cell_type": "markdown",
   "metadata": {},
   "source": [
    "A fenti ábrához hasonlóan kapcsoljuk össze az áramköri elemeket és a Raspberry Pi-t. Az áramkör részletes összekötési magyarázata a [Thermisztorok]() című bevezető leírásban található.\n",
    "\n",
    "1) Kössük össze a Raspberry Pi egyik földelését a szenzor GND jelű lábával (fekete drót).\n",
    "\n",
    "2) A szenzor Vcc és Signal lábait kössük össze egy 4.7 kOhmos ellenállással (ez a lépés nem szükséges, ha ez az ellenállás már alapból be van építve). \n",
    "\n",
    "3) A szenzor Signal lábát (középső láb) kössük össze a Raspberryn a *GPIO04*-es tüskével (kék drót). \n",
    "\n",
    "4) A szenzor Vcc lábát kössük a Raspberry 3.3 V-os táp tüskéjére (piros drót). "
   ]
  },
  {
   "cell_type": "markdown",
   "metadata": {},
   "source": [
    "## A kód\n",
    "\n",
    "Nyissunk meg egy új python fájlt és mentsük el pl. ```ds18b20_save2file.py``` név alatt. A ```gpiozero``` csomagnak nincs beépített objektuma ami általánosan a thermisztorokkat tudná kezelni, így minden egyes thermisztorhoz nekünk kell megoldani a szoftveres kommunikációt az adott eszközzel."
   ]
  },
  {
   "cell_type": "markdown",
   "metadata": {},
   "source": [
    "### A DS18b20 hőmérséklet fájljának előkészítése"
   ]
  },
  {
   "cell_type": "markdown",
   "metadata": {},
   "source": [
    "Miután elkészítettük az áramkört, meg kell írnunk a kódot ami utasítja a Raspberry Pi-t, a hőmérséklet kiolvasására.\n",
    "\n",
    "Mint tudjuk a hőmérséklet értékeket a Raspberry egy kernel parancs elindításával fogja majd a *w1_slave* nevű fájlban tárolni. Az előző projektben már megtanultuk, hogyan olvashatjuk ki a hőmérsékletet a fájl tartalmából és most azt fogjuk újra hasznosítani egy kis módosítással. \n",
    "\n",
    "Most a hőmérséklet kiolvasásának pillanatát is rögzítenünk kell és ehhez a ```datetime``` csomagot fogjuk használni."
   ]
  },
  {
   "cell_type": "markdown",
   "metadata": {},
   "source": [
    "#### A datetime csomag"
   ]
  },
  {
   "cell_type": "markdown",
   "metadata": {},
   "source": [
    "A ```datetime``` csomag klasszokat tartalmaz a dátumok és időpontok létrehozására és az azok közti műveletek elvégzésére. Első lépésben beimportáljuk:"
   ]
  },
  {
   "cell_type": "code",
   "execution_count": 1,
   "metadata": {},
   "outputs": [],
   "source": [
    "import datetime as dt"
   ]
  },
  {
   "cell_type": "markdown",
   "metadata": {},
   "source": [
    "Nézzük, hogy jeleníthetjük meg a mostani pillanatot dátummal együtt, illetve milyen műveleteket lehet rajta elvégezni:"
   ]
  },
  {
   "cell_type": "code",
   "execution_count": 12,
   "metadata": {},
   "outputs": [
    {
     "name": "stdout",
     "output_type": "stream",
     "text": [
      "2021-02-16 17:33:13.800384\n",
      "2021-02-17 00:00:00\n",
      "33\n",
      "<class 'datetime.datetime'>\n",
      "16/February/2021\n",
      "<class 'str'>\n",
      "1999-08-11 15:12:33\n",
      "8\n",
      "<class 'datetime.datetime'>\n"
     ]
    }
   ],
   "source": [
    "now = dt.datetime.today()         # elmentjuk a mostani pillanatot, \n",
    "                                  # EV-HONAP-NAP ORA:PERC:MS\n",
    "print(now)\n",
    "tomorrow = dt.datetime(2021,2,17) # letrehozunk egy datetime valtozot\n",
    "print(tomorrow)\n",
    "print(now.minute)                 # lekerjuk a valtozo PERC erteket\n",
    "print(type(now))                  # kinyomtatjuk a datetime tipusat\n",
    "now_string = now.strftime('%d/%B/%Y') # atalakitjuk a datetime objektumot \n",
    "                                      # stringge NAP/HONAP/EV alakban\n",
    "print(now_string)\n",
    "print(type(now_string))                       \n",
    "date_str = '1999-08-11 15:12:33'               # string formaban idopont definialas\n",
    "# string idoforma datetime formava alakitasa\n",
    "date_dt = dt.datetime.strptime(date_str, '%Y-%m-%d %H:%M:%S') \n",
    "print(date_dt)\n",
    "print(date_dt.month)\n",
    "print(type(date_dt))"
   ]
  },
  {
   "cell_type": "markdown",
   "metadata": {},
   "source": [
    "Számunkra jelenleg a legfontosabb dolog amit észben kell tartani, hogy:\n",
    "\n",
    "* miként tudjuk megállapítani a jelen pillanatot, ```datetime.datetiem.today()``` vagy ```datetime.datetiem.now()```, \n",
    "* miként tudjuk a ```datetime``` klasszt string formátummá alakítani, hiszen stringként fogjuk kiírni a fájlba, ```datetime.datetime.strftime()```."
   ]
  },
  {
   "cell_type": "markdown",
   "metadata": {},
   "source": [
    "#### A hőmérséklet kiolvasási időpontjának rögzítése"
   ]
  },
  {
   "cell_type": "markdown",
   "metadata": {},
   "source": [
    "Hasznosítsuk újra az előző projekt kódjának számunkra megfelelő részét, másoljuk ki az új fájlunkba. Ezt egészítsük ki a következő sorokkal (a lenti kódban a kommentelt részek jelzik a hozzáadott sorokat):\n",
    "\n",
    "* importáljuk be a ```datetime``` csomagot\n",
    "* a ```read_temp(file_name)``` függvényben olvassuk ki a hőmérsékletet, így itt rögzítjük a kiolvasás pillanatát a ```now = dt.datetime.today().strftime('%Y-%m-%d %H:%M:%S')``` sorban. A ```'%Y-%m-%d %H:%M:%S'``` kifejezéssel adjuk meg, hogy milyen formátumban szeretnénk a fájlunkban megjeleníteni az időpontot, Év-Hónap-Nap Óra-Perc-Másodperc,\n",
    "* a függvény végén a hőmérsékletekkel együtt a mérés időpontját is visszaadjuk,\n",
    "* egy végtelen ciklusban kiolvassuk a hőmérsékletet és időpillanatot, kinyomtatjuk és másodpercenként megismételjük a műveletet."
   ]
  },
  {
   "cell_type": "markdown",
   "metadata": {},
   "source": [
    "```ds18b20_save2file.py```:"
   ]
  },
  {
   "cell_type": "code",
   "execution_count": 1,
   "metadata": {},
   "outputs": [],
   "source": [
    "import os\n",
    "import glob\n",
    "import time\n",
    "import datetime as dt                 # importáljuk a datetime csomagot\n",
    " \n",
    "os.system('modprobe w1-gpio')\n",
    "os.system('modprobe w1-therm')\n",
    " \n",
    "base_dir = '/sys/bus/w1/devices/'\n",
    "device_folder = glob.glob(base_dir + '28*')[0]\n",
    "device_file = device_folder + '/w1_slave'\n",
    " \n",
    "def read_temp_raw(file_name):\n",
    "    f = open(file_name, 'r')\n",
    "    lines = f.readlines()\n",
    "    f.close()\n",
    "    return lines\n",
    " \n",
    "def read_temp(file_name):\n",
    "    lines = read_temp_raw(file_name)\n",
    "    # rögzítjuk az aktuális időpontot\n",
    "    now = dt.datetime.today().strftime('%Y-%m-%d %H:%M:%S')  \n",
    "    while lines[0].strip()[-3:] != 'YES':\n",
    "        time.sleep(0.2)\n",
    "        lines = read_temp_raw(file_name)\n",
    "    equals_pos = lines[1].find('t=')\n",
    "    if equals_pos != -1:\n",
    "        temp_string = lines[1][equals_pos+2:]\n",
    "        temp_c = float(temp_string) / 1000.0\n",
    "        temp_f = temp_c * 9.0 / 5.0 + 32.0\n",
    "        return temp_c, temp_f, now      # visszaadjuk a hőmérsékleteket és az időpontot\n",
    "    \n",
    "while True:                             # indítunk egy végtelen ciklust\n",
    "\ttc, tf, ts = read_temp(device_file) # kiolvassuk a hőmérsékletet egy adott pillanatban\n",
    "    print(ts, tc, tf)                   # kinyomtatjuk a fenti értékeket\n",
    "    time.sleep(1)                       # várunk egy másodpercet a következő mérés előtt"
   ]
  },
  {
   "cell_type": "markdown",
   "metadata": {},
   "source": [
    "### Adatok előkészítése mentéshez"
   ]
  },
  {
   "cell_type": "markdown",
   "metadata": {},
   "source": [
    "Létrehozunk egy függvényt, ami a *csv* (comma separated values) fájlformátumnak megfelelően rendszerezi az adatainkat. Ez csak annyit tesz, hogy az egymáshoz tartozó értékeket egy sorba írjuk és vesszővel választjuk el őket. A függvényünk, ```prepare2save(tc, tf, ts)```, három bemenő paramétert fogad el, a Celsius és Fahrenheit hőmérsékleteket, valamint a mérés időpontját. A sorok első eleme a mérés időpontja lesz, a második a Celsius hőmérséklet, a harmadik pedig a Fahrenheit hőmérséklet.\n",
    "\n",
    "Szöveges fájlba kimenteni adatokat csak akkor lehet, ha az adat típusa string. Így a fent kinyert hőmérsékletet és időpillanatot elő kell készítenünk a kimentésre. Az időpillanat már string formátumban van, így avval nem kell sokat törődni, de a két számot már át kell alakítani string formátumba. \n",
    "\n",
    "Első lépésként a hőmérsékleteket lekerekítjük kettő tizedes pontosságra, ```round(tc,2)```, majd átalakítjuk string formátumba a ```str(round(tc,2))``` paranccsal. Pythonban stringeket simán az ```+``` jellel tudjuk bővíteni, így a menteni kívánt sorunk a következőképpen fog kinézni:```txt = ts + ',' + str(round(tc,2)) + ',' + str(round(tf,2)) + '\\n'```. Fontos, hogy a sor végére odategyük az új sor jelét, ```\\n```, különben egy sorba mentjük ki az összes mérést. "
   ]
  },
  {
   "cell_type": "code",
   "execution_count": 13,
   "metadata": {},
   "outputs": [],
   "source": [
    "def prepare2save(tc,tf,ts):\n",
    "\ttxt = ts + ',' + str(round(tc,2)) + ',' + str(round(tf,2)) + '\\n'\n",
    "\treturn txt"
   ]
  },
  {
   "cell_type": "markdown",
   "metadata": {},
   "source": [
    "Nézzünk egy példát, hogy jeleníti majd meg a bemenő adatokat:"
   ]
  },
  {
   "cell_type": "code",
   "execution_count": 15,
   "metadata": {},
   "outputs": [
    {
     "name": "stdout",
     "output_type": "stream",
     "text": [
      "1999-08-11 15:12:33,24.46,74.23\n",
      "\n"
     ]
    }
   ],
   "source": [
    "print(prepare2save(24.456, 74.231, '1999-08-11 15:12:33'))"
   ]
  },
  {
   "cell_type": "markdown",
   "metadata": {},
   "source": [
    "### Függvény az adatok kimentéséhez"
   ]
  },
  {
   "cell_type": "markdown",
   "metadata": {},
   "source": [
    "A következő lépésben definiálunk egy függvényt, ```write2file(txt,filename='temperature.csv')``` aminek bemenő paramétereként az elmentendő stringet adjuk meg és hogy mi legyen a fájl neve amibe mentjük. "
   ]
  },
  {
   "cell_type": "code",
   "execution_count": 16,
   "metadata": {},
   "outputs": [],
   "source": [
    "def write2file(txt,filename='temperature.csv'):\n",
    "\tf = open(filename, 'a')\n",
    "\tf.write(txt)\n",
    "\tf.close()"
   ]
  },
  {
   "cell_type": "markdown",
   "metadata": {},
   "source": [
    "Mivel, a hőmérséklet mérések nem egyszerre történnek, hanem minden egyes ciklusban újabbat mérünk, ezért a fájlt az ```'a'``` append vagyis kiegészít argumentummal látjuk el. Így nem íródik fölül a fájl tartalma, hanem minden egyes ciklusban bővül. "
   ]
  },
  {
   "cell_type": "markdown",
   "metadata": {},
   "source": [
    "### A 30 másodperces hőmérséklet mérés fájlba mentése"
   ]
  },
  {
   "cell_type": "markdown",
   "metadata": {},
   "source": [
    "Nem maradt más hátra, mint a fent leírt programrészleteket egybegyúrni és kiegészíteni a hőmérséklet mérés hosszának rögzítésével. Ehhez még a kód elején definiálunk két dolgot: a fájl nevét, ```filename```, amibe el szeretnénk menteni az adatokat illetve, hogy milyen hosszan szeretnénk mérni, ```duration```. A lenti kódban kommentelt sorok jelzik az új információkat a kódból. \n",
    "\n",
    "A függvények definiálása után, kezdőthet a fő rész. Időméréshez két változót definiálunk, ```t0```: jelzi a mérés kezdetét, ```t1```: jelzi az épp aktuális mérési ciklus pillanatát. A kettő különbsége adja meg, hogy mennyi idő telt el a mérés kezdete óta. Ha ez a különbség nagyobb mint a ```duration```-ben definiált időtartam, akkor kilépünk a ```while``` ciklusból és véget ér a python futása. \n",
    "\n",
    "Ha viszont az eltelt idő kisebb, mint a ```duration```, akkor:\n",
    "\n",
    "* kiolvassuk a hőmérsékleteket, \n",
    "* rögzítjük az aktuális ciklus pillanatát, ```t1```, \n",
    "* kinyomtatjuk a képernyőre a mérés kezdetétől eltelt időt másodpercben,\n",
    "* előkészítjük mentésre az adatokat, ```prepare2save```,\n",
    "* elmentjük az adatokat az előre megadott fájlnév alá, ```write2file```,\n",
    "* várunk egy másodpercet a következő mérésig."
   ]
  },
  {
   "cell_type": "markdown",
   "metadata": {},
   "source": [
    "```ds18b20_save2file.py```:"
   ]
  },
  {
   "cell_type": "code",
   "execution_count": null,
   "metadata": {},
   "outputs": [],
   "source": [
    "import os\n",
    "import glob\n",
    "import time\n",
    "import datetime as dt\n",
    " \n",
    "os.system('modprobe w1-gpio')\n",
    "os.system('modprobe w1-therm')\n",
    " \n",
    "base_dir = '/sys/bus/w1/devices/'\n",
    "device_folder = glob.glob(base_dir + '28*')[0]\n",
    "device_file = device_folder + '/w1_slave'\n",
    "\n",
    "filename = 'test.csv'                           # a fájl neve amibe mentünk\n",
    "duration = 30                                   # a mérés hossza\n",
    " \n",
    "def read_temp_raw(file_name):\n",
    "    f = open(file_name, 'r')\n",
    "    lines = f.readlines()\n",
    "    f.close()\n",
    "    return lines\n",
    " \n",
    "def read_temp(file_name):\n",
    "    lines = read_temp_raw(file_name)\n",
    "    now = dt.datetime.today().strftime('%Y-%m-%d %H:%M:%S')\n",
    "    while lines[0].strip()[-3:] != 'YES':\n",
    "        time.sleep(0.2)\n",
    "        lines = read_temp_raw(file_name)\n",
    "    equals_pos = lines[1].find('t=')\n",
    "    if equals_pos != -1:\n",
    "        temp_string = lines[1][equals_pos+2:]\n",
    "        temp_c = float(temp_string) / 1000.0\n",
    "        temp_f = temp_c * 9.0 / 5.0 + 32.0\n",
    "        return temp_c, temp_f, now\n",
    "\n",
    "def write2file(txt,filename='temperature.csv'):\n",
    "\tf = open(filename, 'a')\n",
    "\tf.write(txt)\n",
    "\tf.close()\n",
    "\t\n",
    "def prepare2save(tc,tf,ts):\n",
    "\ttxt = ts + ',' + str(round(tc,2)) + ',' + str(round(tf,2)) + '\\n'\n",
    "\treturn txt\n",
    "\t\n",
    "t0 = time.time()                       # mérés kezdetének pillanata\n",
    "t1 = time.time()                       # az aktuális ciklus kezdetének pillanata\n",
    "\n",
    "while t1 - t0 < duration:              # eltelt-e 30 másodperc a mérés kezdete óta\n",
    "\ttc, tf, ts = read_temp(device_file)       \n",
    "\tt1 = time.time()                   # az aktuális ciklus időpillanata\n",
    "\tprint(t1-t0)                       # a mérés kezdetétől eltelt idő megjelenítése\n",
    "\ttext = prepare2save(tc, tf, ts)    # a mért adatok kimentésre előkészítése\n",
    "\twrite2file(text, filename=filename)# mért adatok kimentése\n",
    "\ttime.sleep(1)"
   ]
  },
  {
   "cell_type": "markdown",
   "metadata": {},
   "source": [
    "## A projekt tesztelése"
   ]
  },
  {
   "cell_type": "markdown",
   "metadata": {},
   "source": [
    "Miután összeszereltük az áramkört és a kódot is megírtuk, amit pl. ```ds18b20_save2file.py``` név alatt mentettünk el, megnyithatunk a Raspberry Pi operációs rendszerén egy terminált. A terminálban a ```cd 'mappa név'``` paranccsal elnavigálunk abba a mappába, ahova a ```ds18b20_save2file.py```-t elmentettük. Ott begépelve a ```python ds18b20_save2file.py``` parancsot, letesztelhetjük a programunk működését. Ha minden jól megy akkor a program elindításával a elmentjük a 30 másodpercen keresztül mért adatokat a *test.csv* nevű fájlba. Közben a képernyőn megjelenik, hogy mennyi idő telt el a kód elindítása óta és a számláló 30 másodpercig megy.\n",
    "\n",
    "Hibaüzenetek esetén ki kell deríteni mi lehetett a probléma, pl. elgépelés, egy modul hiányzik, sorok megfelelő behúzása, idézőjel lemaradása stb. A hibaüzenet legtöbbször segít abban, hogy melyik sorban találta a hibát és hogy mi volt az. Egy kis gyakorlással bele lehet jönni azok értelmezésébe, valamint interneten is rá lehet keresni a hibaüzenet jelentésére és annak lehetséges elhárítására."
   ]
  },
  {
   "cell_type": "markdown",
   "metadata": {},
   "source": [
    "## Mit lehet javítani/továbbfejleszteni?"
   ]
  },
  {
   "cell_type": "markdown",
   "metadata": {},
   "source": [
    "* Változtassuk a mérés hosszát és gyakoriságát.\n",
    "* Módosítsuk a mért adatok lementését úgy, hogy az első sor a fejléc legyen, és a következőket tartalmazza: Datum,t_C,t_F.\n",
    "\n",
    "Írd meg kommentben, hogy szerinted mivel lehetne még feldobni ezt a kis programot!"
   ]
  },
  {
   "cell_type": "markdown",
   "metadata": {},
   "source": [
    "## Referencia"
   ]
  },
  {
   "cell_type": "markdown",
   "metadata": {},
   "source": [
    "1) https://thepihut.com/blogs/raspberry-pi-tutorials/18095732-sensors-temperature-with-the-1-wire-interface-and-the-ds18b20\n",
    "\n",
    "2) http://docs.37sensors.com/#\n",
    "\n",
    "3) https://sensorkit.en.joy-it.net/index.php?title=KY-028_Temperature_Sensor_module_(Thermistor)\n",
    "\n",
    "4) https://www.malnasuli.hu/leckek/homerseklet-merese-1-wire-szenzorral/\n",
    "\n",
    "5) https://www.electronicshub.org/raspberry-pi-ds18b20-tutorial/\n",
    "\n",
    "6) open parancs - https://www.guru99.com/reading-and-writing-files-in-python.html\n",
    "\n",
    "7) glob csomag - https://pymotw.com/2/glob/\n",
    "\n",
    "8) os csomag - https://www.python-course.eu/os_module_shell.php\n",
    "\n",
    "9) string metódusok - https://www.programiz.com/python-programming/string\n",
    "\n",
    "10) datetime csomag - https://www.programiz.com/python-programming/datetime"
   ]
  },
  {
   "cell_type": "code",
   "execution_count": null,
   "metadata": {},
   "outputs": [],
   "source": []
  }
 ],
 "metadata": {
  "kernelspec": {
   "display_name": "Python 3",
   "language": "python",
   "name": "python3"
  },
  "language_info": {
   "codemirror_mode": {
    "name": "ipython",
    "version": 3
   },
   "file_extension": ".py",
   "mimetype": "text/x-python",
   "name": "python",
   "nbconvert_exporter": "python",
   "pygments_lexer": "ipython3",
   "version": "3.7.3"
  },
  "toc": {
   "base_numbering": 1,
   "nav_menu": {},
   "number_sections": true,
   "sideBar": true,
   "skip_h1_title": false,
   "title_cell": "Table of Contents",
   "title_sidebar": "Contents",
   "toc_cell": false,
   "toc_position": {},
   "toc_section_display": true,
   "toc_window_display": false
  }
 },
 "nbformat": 4,
 "nbformat_minor": 2
}
