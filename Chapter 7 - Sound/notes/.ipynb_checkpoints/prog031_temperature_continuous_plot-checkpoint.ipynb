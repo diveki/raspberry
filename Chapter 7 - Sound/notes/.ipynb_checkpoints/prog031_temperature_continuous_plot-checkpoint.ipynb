{
 "cells": [
  {
   "cell_type": "markdown",
   "metadata": {},
   "source": [
    "# Projekt 3 - Hőmérséklet folytonos ábrázolása"
   ]
  },
  {
   "cell_type": "markdown",
   "metadata": {},
   "source": [
    "Papa és mama egyre jobban meg vannak elégedve a probléma megoldó képességeddel és látják milyen szépen elkészíted amit kérnek. Sajnos be kell látniuk, hogy bennük van a hiba, hogy nem gondolják át eléggé mit is szeretnének látni. Így most egy újabb kéréssel állnak eléd, hiszen belátták, hogy az jó, ha látjuk milyen volt a hőmérséklet valamikor, de azt nem látják, hogy pont most milyen az előző pillanatokhoz képest. \n",
    "\n",
    "Megkérnek, hogy készíts egy olyan hőmérsékletmérőt, ami a kiplottolja az utolsó 20 mérést az idő függvényében, azaz folytonosan követhetik, hogy változik a hőmérséklet az adott helységben."
   ]
  },
  {
   "cell_type": "markdown",
   "metadata": {},
   "source": [
    "## Mit fogsz készíteni?"
   ]
  },
  {
   "cell_type": "markdown",
   "metadata": {},
   "source": [
    "Egy DS18b20 szenzorból (és ha kell egy ellenállásból) álló áramkört készítünk, amiből másodpercenként kiolvassuk a hőmérsékletet és azt egy grafikonon ábrázoljuk, ami folytonosan frissíti magát. Egy változtatható paraméterrel beállítjuk, hogy az utolsó 20 mérést ábrázolja a grafikon a mérés pillanatának függvényében.  "
   ]
  },
  {
   "cell_type": "markdown",
   "metadata": {},
   "source": [
    "## Mit tanulsz meg?"
   ]
  },
  {
   "cell_type": "markdown",
   "metadata": {},
   "source": [
    "A hőmérő szenzor elkészítésével a következőket tanulod meg:\n",
    "\n",
    "* Hogyan futtas terminál parancsokat Pythonból.\n",
    "* Hogyan keress fájlokat és mappákat az operációs rendszeredben Pythonból a ```glob``` csomaggal.\n",
    "* Hogyan olvassuk ki egy szöveges fájl tartalmát az ```open``` parancs használatával.\n",
    "* Hogyan nyerjünk ki hasznos információt egy szöveges fájlból string parancsokat használva.\n",
    "* Hogyan kezeljük a dátum formátumokat a ```datetime``` csomag segítségével.\n",
    "* Hogyan frissítsük a plottolásunkat folyamatosan a ```matplotlib``` csomag segítségével."
   ]
  },
  {
   "cell_type": "markdown",
   "metadata": {},
   "source": [
    "## A projekt részletekre bontása"
   ]
  },
  {
   "cell_type": "markdown",
   "metadata": {},
   "source": [
    "* Elkészíteni az áramkört.\n",
    "* Előkészíteni a kommunikációt a thermisztorral (```modprobe``` parancsok futtatása).\n",
    "* Definiálni a hőmérsékletet tartalmazó fájl lokációját.\n",
    "* Kiolvasni a fájl tartalmát az ```open``` parancs segítségével.\n",
    "* Definiálni egy függvényt ami a fájlból kinyeri a hőmérsékletet és a kiolvasás időpontját.\n",
    "* Definiálni egy függvényt, ami feltölti az idő és hőmérséklet listákat adatokkal és gondoskodik arról, hogy bennük mindig 20 mérés legyen.\n",
    "* Előkészíteni a plottolást, cím, tengely nevek, háló stb.\n",
    "* Másodpercenként megismételni egy végtelen ciklusban az új elemek ábrázolását.\n",
    "* Frissíteni a tengelyek paramétereit is, hogy sose menyjenek ki a mért értékek a határértékekből."
   ]
  },
  {
   "cell_type": "markdown",
   "metadata": {},
   "source": [
    "## Áramköri elemek listája"
   ]
  },
  {
   "cell_type": "markdown",
   "metadata": {},
   "source": [
    "a) [Raspberry PI](https://malnapc.hu/yis/raspberry-pi/rpi-panelek) \n",
    "\n",
    "b) DS18b20 szenzor: [itt vásárolhatsz](https://www.tme.eu/hu/details/ds18b20+/homerseklet-jelatalakitok/maxim-integrated/)\n",
    "\n",
    "c) [Jumper wires female/male](https://www.ret.hu/shop/product/e-call/jumper-vezetek-szet_53-22-63) \n",
    "\n",
    "d) Ellenállás: [itt vásárolhatsz](https://www.tme.eu/hu/katalog/metal-film-tht-ellenallasok_112313/?s_order=desc&search=ellenallas&s_field=1000011)"
   ]
  },
  {
   "cell_type": "markdown",
   "metadata": {},
   "source": [
    "## A kapcsolási rajz"
   ]
  },
  {
   "cell_type": "markdown",
   "metadata": {},
   "source": [
    "<img src=\"programok/prog01_schema.png\" width=600 height=400 />"
   ]
  },
  {
   "cell_type": "markdown",
   "metadata": {},
   "source": [
    "A fenti ábrához hasonlóan kapcsoljuk össze az áramköri elemeket és a Raspberry Pi-t. Az áramkör részletes összekötési magyarázata a [Thermisztorok]() című bevezető leírásban található.\n",
    "\n",
    "1) Kössük össze a Raspberry Pi egyik földelését a szenzor GND jelű lábával (fekete drót).\n",
    "\n",
    "2) A szenzor Vcc és Signal lábait kössük össze egy 4.7 kOhmos ellenállással (ez a lépés nem szükséges, ha ez az ellenállás már alapból be van építve). \n",
    "\n",
    "3) A szenzor Signal lábát (középső láb) kössük össze a Raspberryn a *GPIO04*-es tüskével (kék drót). \n",
    "\n",
    "4) A szenzor Vcc lábát kössük a Raspberry 3.3 V-os táp tüskéjére (piros drót). "
   ]
  },
  {
   "cell_type": "markdown",
   "metadata": {},
   "source": [
    "## A kód\n",
    "\n",
    "Nyissunk meg egy új python fájlt és mentsük el pl. ```ds18b20_continuous_plot.py``` név alatt. A ```gpiozero``` csomagnak nincs beépített objektuma ami általánosan a thermisztorokkat tudná kezelni, így minden egyes thermisztorhoz nekünk kell megoldani a szoftveres kommunikációt az adott eszközzel."
   ]
  },
  {
   "cell_type": "markdown",
   "metadata": {},
   "source": [
    "### A DS18b20 hőmérséklet fájljának előkészítése"
   ]
  },
  {
   "cell_type": "markdown",
   "metadata": {},
   "source": [
    "Miután elkészítettük az áramkört, meg kell írnunk a kódot ami utasítja a Raspberry Pi-t, a hőmérséklet kiolvasására.\n",
    "\n",
    "Mint tudjuk a hőmérséklet értékeket a Raspberry egy kernel parancs elindításával fogja majd a *w1_slave* nevű fájlban tárolni. Az előző projektekben már megtanultuk, hogyan olvashatjuk ki a hőmérsékletet a fájl tartalmából és rendelhetjük hozzá a kiolvasás időpontját. Most azt fogjuk újra hasznosítani egy kis módosítással. "
   ]
  },
  {
   "cell_type": "markdown",
   "metadata": {},
   "source": [
    "Hasznosítsuk újra az előző projekt kódjának számunkra megfelelő részét, másoljuk ki az új fájlunkba. Tesztelésképp nyomtassuk ki a képernyőre a mért hőmérsékleteket és a hozzájuk tartozó időpillanatokat."
   ]
  },
  {
   "cell_type": "markdown",
   "metadata": {},
   "source": [
    "```ds18b20_continuous_plot.py```:"
   ]
  },
  {
   "cell_type": "code",
   "execution_count": 1,
   "metadata": {},
   "outputs": [],
   "source": [
    "import os\n",
    "import glob\n",
    "import time\n",
    "import datetime as dt                 \n",
    " \n",
    "os.system('modprobe w1-gpio')\n",
    "os.system('modprobe w1-therm')\n",
    " \n",
    "base_dir = '/sys/bus/w1/devices/'\n",
    "device_folder = glob.glob(base_dir + '28*')[0]\n",
    "device_file = device_folder + '/w1_slave'\n",
    " \n",
    "def read_temp_raw(file_name):\n",
    "    f = open(file_name, 'r')\n",
    "    lines = f.readlines()\n",
    "    f.close()\n",
    "    return lines\n",
    " \n",
    "def read_temp(file_name):\n",
    "    lines = read_temp_raw(file_name)\n",
    "    # rögzítjuk az aktuális időpontot\n",
    "    now = dt.datetime.today().strftime('%Y-%m-%d %H:%M:%S')  \n",
    "    while lines[0].strip()[-3:] != 'YES':\n",
    "        time.sleep(0.2)\n",
    "        lines = read_temp_raw(file_name)\n",
    "    equals_pos = lines[1].find('t=')\n",
    "    if equals_pos != -1:\n",
    "        temp_string = lines[1][equals_pos+2:]\n",
    "        temp_c = float(temp_string) / 1000.0\n",
    "        temp_f = temp_c * 9.0 / 5.0 + 32.0\n",
    "        return temp_c, temp_f, now      \n",
    "    \n",
    "while True:                             \n",
    "\ttc, tf, ts = read_temp(device_file) \n",
    "    print(ts, tc, tf)                   \n",
    "    time.sleep(1)                       "
   ]
  },
  {
   "cell_type": "markdown",
   "metadata": {},
   "source": [
    "### Adatok előkészítése mentéshez"
   ]
  },
  {
   "cell_type": "markdown",
   "metadata": {},
   "source": [
    "Az ábrázoláshoz két bemenő paraméterre van szükségünk, egy idő listára és egy hőmérséklet listára. Ezt a listát folytonosan frissítenünk is kell. Ezt egy ```prepare_data(date, tc, dplot, tplot, maxlen=20)``` függvénnyel tesszük meg, aminek a bemenő paraméterei:\n",
    "\n",
    "* ```date``` az új mérési időpont, amit ```string``` típusban kell megadni,\n",
    "* ```tc``` az újonnan mért hőmérséklet,\n",
    "* ```dplot``` a lista ami tartalmazza azokat az időpillanatokat amit ábrázolni szeretnénk,\n",
    "* ```tplot``` a lista ami tartalmazza azokat a hőmérsékleteket amit ábrázolni szeretnénk,\n",
    "* ```maxlen=20``` pedig a fenti két listának a maximálisan megengedett hosszát mutatja. Evvel szabályozzuk, hogy az elmúlt hány mérést szeretnénk látni a grafikonon."
   ]
  },
  {
   "cell_type": "markdown",
   "metadata": {},
   "source": [
    "Első lépésként a ```string``` formátumú dátumot visszaalakítjuk ```datetime``` típusba, mert azt a ```matplotlib.pyplot```, könnyen tud kezelni, ```dd = dt.datetime.strptime(date, '%Y-%m-%d %H:%M:%S')```. Ezután mind az időlistához, mind a hőmérséklet listához, hozzáadjuk az újonnan mért elemeket. Majd le kell ellenőriznünk, hogy az így kapott lista nem hosszabb, mint az előre megszabott ```maxlen``` érték, ```if len(dplot) > maxlen```. Ha hosszabb, akkor távolítsuk el a listának a legelső elemét ```dplot.pop(0)```, így biztosítjuk, hogy a lista hossza nem lesz nagyobb mint az előre eltervezett méret."
   ]
  },
  {
   "cell_type": "code",
   "execution_count": null,
   "metadata": {},
   "outputs": [],
   "source": [
    "def prepare_data(date, tc, dplot, tplot, maxlen=20):\n",
    "\tdd = dt.datetime.strptime(date, '%Y-%m-%d %H:%M:%S')\n",
    "    dplot.append(dd)\n",
    "\ttplot.append(tc)\n",
    "\tif len(dplot) > maxlen:\n",
    "\t\tdplot.pop(0)\n",
    "\t\ttplot.pop(0)\n",
    "\treturn dplot, tplot"
   ]
  },
  {
   "cell_type": "markdown",
   "metadata": {},
   "source": [
    "### A plottolás előkészítése"
   ]
  },
  {
   "cell_type": "markdown",
   "metadata": {},
   "source": [
    "A plottolás folyamatos frissítéséhez első lépésben létre kell hozni egy ábrát, amit egy ```while``` ciklusban majd folytonosan frissítünk. Ehhez először létrehozunk tároló listákat, ```dplot``` és ```tplot```, amikbe az időpontokat és hőmérsékleteket tároljuk. Hogy elő tudjuk készíteni a grafikont, feltöltjük ezeket a listákat egy tetszőleges elemmel. A ```plt.ion()``` bekapcsolja az interaktív plottolási üzemmódot, ami azt jelenti, hogy plottolás után visszakapjuk a konzolban a gépelés lehetőségét. Inicializálunk egy ábrát amihez jár egy grafikon is (axes), ```figure, ax = plt.subplots(figsize=(8,6))```, és megmondjuk, hogy az ábra mérete mekkora legyen. A grafikonra plottoljuk a tároló listánkat, ```line1, = ax.plot(dplot, tplot, 'o-')```, miközben azt is meghatározzuk, hogy köröket és vonalakat használjunk marker és vonaltípusként, ```o-```. Majd ellátjuk az ábrát magyarázó elemekkel:"
   ]
  },
  {
   "cell_type": "markdown",
   "metadata": {},
   "source": [
    "* ```plt.title(\"Dynamic Plot of temperature\",fontsize=25)``` - címet ad az ábrának 25-ös betűmérettel.\n",
    "* ```plt.xlabel(\"Time\",fontsize=18)``` - megnevezést ad az *x* tengelynek 18-as betűmérettel.\n",
    "* ```plt.ylabel(\"Temperature (C)\",fontsize=18)``` - megnevezést ad az *y* tengelynek 18-as betűmérettel.\n",
    "* ```plt.grid(True)``` - koordinátahálót tesz a grafikonra."
   ]
  },
  {
   "cell_type": "code",
   "execution_count": 2,
   "metadata": {},
   "outputs": [
    {
     "data": {
      "image/png": "[encoded data removed]",
      "text/plain": [
       "<Figure size 576x432 with 1 Axes>"
      ]
     },
     "metadata": {
      "needs_background": "light"
     },
     "output_type": "display_data"
    }
   ],
   "source": [
    "import datetime as dt     \n",
    "import matplotlib.pyplot as plt\n",
    "\n",
    "dplot = [dt.datetime.now()]   # idopont lista inicializalasa\n",
    "tplot = [23.6]\t\t # homerseklet lista inicializalasa\n",
    "\t\n",
    "plt.ion()           # interaktiv abrazolas bekapcsolasa\n",
    "\n",
    "figure, ax = plt.subplots(figsize=(8,6))  # abra es grafikon inicializalasa\n",
    "line1, = ax.plot(dplot, tplot, 'o-')     # a meres plottolasa a grafikonon\n",
    "\n",
    "plt.title(\"Dynamic Plot of temperature\",fontsize=25) # cim hozzaadas\n",
    "\n",
    "plt.xlabel(\"Time\",fontsize=18) # x tengely megnevezes \n",
    "plt.ylabel(\"Temperature (C)\",fontsize=18) # y tengely megnevezes\n",
    "plt.grid(True) # koordinata halo hozzaadas"
   ]
  },
  {
   "cell_type": "markdown",
   "metadata": {},
   "source": [
    "Láthatjuk, hogy egy pont jelenítődik meg a grafikon, hiszen csak egy mérési adatunk van eddig. Az *x* tengelyen a dátumok szépen jelennek meg, mivel a ```datetime``` típust használtuk. "
   ]
  },
  {
   "cell_type": "markdown",
   "metadata": {},
   "source": [
    "### A 30 másodperces hőmérséklet mérés fájlba mentése"
   ]
  },
  {
   "cell_type": "markdown",
   "metadata": {},
   "source": [
    "Összerakva az eddigi elemeket elérkezünk a folytonos mérés ábrázolásához. A lenti kódban kommentekkel jeleztük az eddig nem tárgyalt kódrészleteket.\n",
    "\n",
    "Elsőként egy változóban rögzítjük, ```max_count```, hogy hány mérési adatot szeretnénk egyszerre megjeleníteni. Az ábra előkészítése után elindítjuk a végtelen ```while``` ciklust és feltöltjük benne a tároló listákat az új elemekkel. Az új adatokkal már frissíthetjük mind az *x* és az *y* tengely értékeit az ábrán, ```line1.set_ydata(tplot)```. Mivel nem tudhatjuk, hogy a mért értékek mik lesznek és azok könnyen kimehetnek a legelőször ábrázolt érték tartományból, fontos, hogy az új méréseknek megfelelően frissítsük a tengelyeken a limitjeinket. Pl. az *x* tengelyen mindig a tároló lista legkisebb időpontjától a legnagyobbig terjedjen a tengelyen megjelenített dátum, ```ax.set_xlim(min(dplot),max(dplot))```. Az *y* tengelyen viszont a hőmérséklet tároló legkisebb elemétől kicsit kisebb értéktől a legnagyobb elemétől kicsit nagyobb értékig terjedjen az ábrázolás, ```ax.set_ylim(min(tplot)*0.99,max(tplot)*1.01)```, biztosítva, hogy az összes pontot látni fogjuk. Ezután élesíthetjük ezeket a változásokat, azaz megrajzoltathatjuk, ```figure.canvas.draw()```. A folytonos ábrafrissítéseknél ajánlatos még a bármi jellegű GUI eseményeket is törölni, ```figure.canvas.flush_events()```. És végül egy hasznos utasítással, ```plt.gcf().autofmt_xdate()```, automatikusan esztétikusan és értelmezhetően jelenítjük meg az *x* tengely értékeit. \t"
   ]
  },
  {
   "cell_type": "markdown",
   "metadata": {},
   "source": [
    "```ds18b20_continuous_plot.py```:"
   ]
  },
  {
   "cell_type": "code",
   "execution_count": null,
   "metadata": {},
   "outputs": [],
   "source": [
    "import matplotlib.pyplot as plt\n",
    "import os, glob, time\n",
    "import datetime as dt\n",
    " \n",
    "\n",
    "os.system('modprobe w1-gpio')\n",
    "os.system('modprobe w1-therm')\n",
    " \n",
    "base_dir = '/sys/bus/w1/devices/'\n",
    "device_folder = glob.glob(base_dir + '28*')[0]\n",
    "device_file = device_folder + '/w1_slave'\n",
    "\n",
    " \n",
    "def read_temp_raw(file_name):\n",
    "    f = open(file_name, 'r')\n",
    "    lines = f.readlines()\n",
    "    f.close()\n",
    "    return lines\n",
    " \n",
    "def read_temp(file_name):\n",
    "    lines = read_temp_raw(file_name)\n",
    "    now = dt.datetime.today().strftime('%Y-%m-%d %H:%M:%S')\n",
    "    while lines[0].strip()[-3:] != 'YES':\n",
    "        time.sleep(0.2)\n",
    "        lines = read_temp_raw(file_name)\n",
    "    equals_pos = lines[1].find('t=')\n",
    "    if equals_pos != -1:\n",
    "        temp_string = lines[1][equals_pos+2:]\n",
    "        temp_c = float(temp_string) / 1000.0\n",
    "        temp_f = temp_c * 9.0 / 5.0 + 32.0\n",
    "        return temp_c, temp_f, now\n",
    "\n",
    "def prepare_data(date, tc, dplot, tplot, maxlen=20):\n",
    "\tdd = dt.datetime.strptime(date, '%Y-%m-%d %H:%M:%S')\n",
    "\tdplot.append(dd)\n",
    "\ttplot.append(tc)\n",
    "\tif len(dplot) > maxlen:\n",
    "\t\tdplot.pop(0)\n",
    "\t\ttplot.pop(0)\n",
    "\treturn dplot, tplot\n",
    "\t\n",
    "\n",
    "max_count = 20         # meghatarozni hany merest abrazoljunk egyszerre\n",
    "dplot = [dt.datetime.now()]\n",
    "tplot = [23.6]\t\t\n",
    "\t\n",
    "plt.ion()\n",
    "\n",
    "figure, ax = plt.subplots(figsize=(8,6))\n",
    "line1, = ax.plot(dplot, tplot, 'o-')\n",
    "\n",
    "plt.title(\"Dynamic Plot of temperature\",fontsize=25)\n",
    "\n",
    "plt.xlabel(\"Time\",fontsize=18)\n",
    "plt.ylabel(\"Temperature (C)\",fontsize=18)\n",
    "plt.grid(True)\n",
    "\n",
    "\n",
    "while True:\n",
    "\ttc, tf, ts = read_temp(device_file)\n",
    "\tprint(ts)\n",
    "    # az abrazolnivalo adatok elokeszitese\n",
    "\tdplot, tplot = prepare_data(ts, tc, dplot, tplot, maxlen=max_count)\n",
    "\t\n",
    "\tline1.set_xdata(dplot)    # x tengely adatainak frissitese\n",
    "\tline1.set_ydata(tplot)    # y tengely adatainak frissitese\n",
    "\tax.set_ylim(min(tplot)*0.99,max(tplot)*1.01) # y tengely limitjei\n",
    "\tax.set_xlim(min(dplot),max(dplot))           # x tengely limitjei\n",
    "\tfigure.canvas.draw()    # a valtozasokat rarajzolni az abrara\n",
    "\tfigure.canvas.flush_events()  # kitorol barmilyen fennmarado GUI esemenyt\n",
    "\tplt.gcf().autofmt_xdate()  # szeppe teszi az idopontok megjeleniteset\n",
    "\t\n",
    "\ttime.sleep(1)"
   ]
  },
  {
   "cell_type": "markdown",
   "metadata": {},
   "source": [
    "## A projekt tesztelése"
   ]
  },
  {
   "cell_type": "markdown",
   "metadata": {},
   "source": [
    "Miután összeszereltük az áramkört és a kódot is megírtuk, amit pl. ```ds18b20_continuous_plot.py``` név alatt mentettünk el, megnyithatunk a Raspberry Pi operációs rendszerén egy terminált. A terminálban a ```cd 'mappa név'``` paranccsal elnavigálunk abba a mappába, ahova a ```ds18b20_continuous_plot.py```-t elmentettük. Ott begépelve a ```python ds18b20_continuous_plot.py``` parancsot, letesztelhetjük a programunk működését. Ha minden jól megy akkor a program elindításával a képernyőn megjelenik egy ábra a hőmérséklettel az idő függvényében, ami folytonosan frissül. A régi mérések eltünnek és helyettük újak jelennek meg. \n",
    "\n",
    "Hibaüzenetek esetén ki kell deríteni mi lehetett a probléma, pl. elgépelés, egy modul hiányzik, sorok megfelelő behúzása, idézőjel lemaradása stb. A hibaüzenet legtöbbször segít abban, hogy melyik sorban találta a hibát és hogy mi volt az. Egy kis gyakorlással bele lehet jönni azok értelmezésébe, valamint interneten is rá lehet keresni a hibaüzenet jelentésére és annak lehetséges elhárítására."
   ]
  },
  {
   "cell_type": "markdown",
   "metadata": {},
   "source": [
    "## Mit lehet javítani/továbbfejleszteni?"
   ]
  },
  {
   "cell_type": "markdown",
   "metadata": {},
   "source": [
    "* Változtassuk meg, hogy hány pontot ábrázoljunk egyszerre.\n",
    "* Jelenítsük meg a jelmagyarázatot is a grafikonon.\n",
    "\n",
    "Írd meg kommentben, hogy szerinted mivel lehetne még feldobni ezt a kis programot!"
   ]
  },
  {
   "cell_type": "markdown",
   "metadata": {},
   "source": [
    "## Referencia"
   ]
  },
  {
   "cell_type": "markdown",
   "metadata": {},
   "source": [
    "1) https://thepihut.com/blogs/raspberry-pi-tutorials/18095732-sensors-temperature-with-the-1-wire-interface-and-the-ds18b20\n",
    "\n",
    "2) https://www.electronicshub.org/raspberry-pi-ds18b20-tutorial/\n",
    "\n",
    "3) open parancs - https://www.guru99.com/reading-and-writing-files-in-python.html\n",
    "\n",
    "4) glob csomag - https://pymotw.com/2/glob/\n",
    "\n",
    "5) os csomag - https://www.python-course.eu/os_module_shell.php\n",
    "\n",
    "6) string metódusok - https://www.programiz.com/python-programming/string\n",
    "\n",
    "7) datetime csomag - https://www.programiz.com/python-programming/datetime\n",
    "\n",
    "8) matplotlib.pyplot - https://matplotlib.org/stable/tutorials/introductory/pyplot.html#sphx-glr-tutorials-introductory-pyplot-py"
   ]
  },
  {
   "cell_type": "code",
   "execution_count": null,
   "metadata": {},
   "outputs": [],
   "source": []
  }
 ],
 "metadata": {
  "kernelspec": {
   "display_name": "Python 3",
   "language": "python",
   "name": "python3"
  },
  "language_info": {
   "codemirror_mode": {
    "name": "ipython",
    "version": 3
   },
   "file_extension": ".py",
   "mimetype": "text/x-python",
   "name": "python",
   "nbconvert_exporter": "python",
   "pygments_lexer": "ipython3",
   "version": "3.7.3"
  },
  "toc": {
   "base_numbering": 1,
   "nav_menu": {},
   "number_sections": true,
   "sideBar": true,
   "skip_h1_title": false,
   "title_cell": "Table of Contents",
   "title_sidebar": "Contents",
   "toc_cell": false,
   "toc_position": {},
   "toc_section_display": true,
   "toc_window_display": false
  }
 },
 "nbformat": 4,
 "nbformat_minor": 2
}
