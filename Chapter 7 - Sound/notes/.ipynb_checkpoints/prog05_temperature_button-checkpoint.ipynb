{
 "cells": [
  {
   "cell_type": "markdown",
   "metadata": {},
   "source": [
    "# Projekt 6 - Lázmérő készülék"
   ]
  },
  {
   "cell_type": "markdown",
   "metadata": {},
   "source": [
    "A COVID járvány időszakában nem nehéz amiatt aggódni, hogy vajon elkaptuk-e a vírust vagy sem. Egyik nap arra ébredtél, hogy furcsán érzed magad, mintha kicsit melegebb is lenne a homlokod, fáradtabb is vagy. Első lépésként gondoltad megméred a lázad, de nem találtál lázmérőt. \n",
    "\n",
    "Mint egy ügyes kis tech alkotó, (maker) azonnal eszedbe jutott, hogy van neked thermisztorod, összedobhatsz gyorsan abból is egy lázmérőt. Mint az igazi lázmérőknél, egy gomb lenyomása után csak várunk, amíg a mérő kiírja a hőmérsékletünket."
   ]
  },
  {
   "cell_type": "markdown",
   "metadata": {},
   "source": [
    "## Mit fogsz készíteni?"
   ]
  },
  {
   "cell_type": "markdown",
   "metadata": {},
   "source": [
    "Egy NTCC 10k nevű thermisztorból, egy MCP3008 ADC-ből, egy 10 kOhm ellenállásból és egy nyomógombból álló áramkört fogsz összerakni egy feszültségosztó elrendezésben. Ebben a projektben egy gomb lenyomásával elkezded rögzíteni az aktuális hőmérsékletet 0.8 másodpercenként. Akkor állítod le a mérést, ha a három utolsó mérés mindegyike közötti különbség egyenként kisebb mint 0.01 $^\\circ$C."
   ]
  },
  {
   "cell_type": "markdown",
   "metadata": {},
   "source": [
    "## Mit tanulsz meg?"
   ]
  },
  {
   "cell_type": "markdown",
   "metadata": {},
   "source": [
    "A lázmérő szenzor elkészítésével a következőket tanulod meg:\n",
    "\n",
    "* Hogyan kommunikáljunk egy ADC-vel.\n",
    "* Hogyan használjunk gombokat.\n",
    "* Hogyan használjunk ```if - else``` szerkezetet.\n",
    "* Hogyan kell fájlokat beolvasni az ```open``` használatával.\n",
    "* Hogyan importálunk egy függvényt egy fájból amit mi írtunk.\n",
    "* Hogyan interpolálunk ismeretlen értékekre. \n",
    "* Hogyan számoljuk a thermisztor ellenállását egy feszültségosztóval."
   ]
  },
  {
   "cell_type": "markdown",
   "metadata": {},
   "source": [
    "## A projekt részletekre bontása"
   ]
  },
  {
   "cell_type": "markdown",
   "metadata": {},
   "source": [
    "* Elkészíteni az áramkört.\n",
    "* Importálni az MCP3008, LED objektumokat, ```numpy``` csomagot, függvényt az interpolálásra és fájl beolvasó függvényt.\n",
    "* Inicializálni a gombot és az ADC-t.\n",
    "* Definiálni egy függvényt, ami egy megadott fájlból kinyeri a thermisztor hőmérséklet-ellenállás függését. \n",
    "* Definiálunk egy függvényt ami a mért feszültséget átalakítja ellenállássá a feszültségosztó elve alapján.\n",
    "* Definiálunk egy függvényt, hogy a hőmérséklet-ellenállás függés ismeretlen pontjait interpoláljuk.\n",
    "* Definiálunk egy összehasonlító függvényt ami egyenként összehasonlítja az utolsó három mérés értékét.\n",
    "* A nyomógombbal elindítani a mérést.\n",
    "* Egy végtelen ```while``` ciklusban mérjük a feszültséget, kiszámoljuk az ellenállás változást, abból az aktuális hőmérsékletet, és a hőmérsékleteket és megállapítjuk az összehasonlító függvénnyel, hogy mikor van vége a mérésnek."
   ]
  },
  {
   "cell_type": "markdown",
   "metadata": {},
   "source": [
    "## Áramköri elemek listája"
   ]
  },
  {
   "cell_type": "markdown",
   "metadata": {},
   "source": [
    "a) [Raspberry PI](https://malnapc.hu/yis/raspberry-pi/rpi-panelek) \n",
    "\n",
    "b) NTCC 10k szenzor: [itt vásárolhatsz](https://www.tme.eu/hu/details/ntcc-10k/tht-ntc-merotermisztorok/sr-passives/)\n",
    "\n",
    "c) [Jumper wires female/male](https://www.ret.hu/shop/product/e-call/jumper-vezetek-szet_53-22-63) \n",
    "\n",
    "d) Ellenállás: [itt vásárolhatsz](https://www.tme.eu/hu/katalog/metal-film-tht-ellenallasok_112313/?s_order=desc&search=ellenallas&s_field=1000011)\n",
    "\n",
    "e) MCP3008 I/P ADC: [itt vásárolhatsz](https://www.tme.eu/hu/details/mcp3008-i_p/a-d-konverterek-ic-k/microchip-technology/)\n",
    "\n",
    "f) Nyomó gomb: [itt vásárolhatsz](https://hu.farnell.com/schurter/1301-9320/switch-smd-push-12-5mm/dp/1217772?gclid=Cj0KCQjwzZj2BRDVARIsABs3l9K-ACTnuRr-dLVcDUKleNfECM3H3kWS_RfWtmXGMXVJeY9otda4dDcaAvGLEALw_wcB&gross_price=true&mckv=sSFnjERxR_dc|pcrid|434487710397|plid||kword||match||slid||product|1217772|pgrid|101346804139|ptaid|pla-389347076066|&CMP=KNC-GHU-SHOPPING-switches-relays-NEWSTRUCTURE-13-MAY-20) vagy [építhetsz]()"
   ]
  },
  {
   "cell_type": "markdown",
   "metadata": {},
   "source": [
    "## A kapcsolási rajz"
   ]
  },
  {
   "cell_type": "markdown",
   "metadata": {},
   "source": [
    "<img src=\"schema/prog05_schema.png\" width=800 height=600 />"
   ]
  },
  {
   "cell_type": "markdown",
   "metadata": {},
   "source": [
    "A fenti ábrához hasonlóan kapcsoljuk össze az áramköri elemeket és a Raspberry Pi-t. Az áramkör részletes összekötési magyarázata a [Thermisztorok]() című bevezető leírásban található. **N.B. Ha nem a lent megadott módon kötjük be az ADC-t, akkor figyelni kell arra, hogy a szoftverben a lábak definiálásánál ezt jelezni kell, illetve tudunk kell, hogy akkor nem hardwares SPI kommunikáció lesz.**"
   ]
  },
  {
   "cell_type": "markdown",
   "metadata": {},
   "source": [
    "0) Kössük sorba a NTCC 10k thermisztort és a 10 kOhm ellenállást. A thermisztor üres lábára kapcsoljuk a Raspberry Pi 3.3 V-os tápját, míg az ellenállás üres lábára a földelést. A thermisztor és az ellenállás csatlakozását pedig kössük az MCP3008 CH7-es csatornájára.\n",
    "\n",
    "1) Kössük össze a Raspberry Pi egyik földelését az MCP3008 AGND ás DGND lábaival (fekete drót).\n",
    "\n",
    "2) Kössük az MCP3008 *VDD* és *VREF* nevű lábait a Raspberry Pi 3.3 V-os tüskéjére. \n",
    "\n",
    "3) Kössük az MCP3008 *CLK* nevű lábát a Raspberry Pi *GPIO11* tüskéjére. \n",
    "\n",
    "4) Kössük az MCP3008 *DOUT* nevű lábát a Raspberry Pi *GPIO09* tüskéjére. \n",
    "\n",
    "5) Kössük az MCP3008 *DIN* nevű lábát a Raspberry Pi *GPIO10* tüskéjére.\n",
    "\n",
    "6) Kössük az MCP3008 *CS* nevű lábát a Raspberry Pi *GPIO08* tüskéjére.\n",
    "\n",
    "7) A nyomógomb egyik lábát a földelésre a másikat pedig a *GPIO02*-es tüskére kötjük."
   ]
  },
  {
   "cell_type": "markdown",
   "metadata": {},
   "source": [
    "## A kód\n",
    "\n",
    "Nyissunk meg egy új python fájlt és mentsük el pl. ```ntcc_temperature_button.py``` név alatt. A ```gpiozero``` csomagnak nincs beépített objektuma ami általánosan a thermisztorokkat tudná kezelni, így minden egyes thermisztorhoz nekünk kell megoldani a szoftveres kommunikációt az adott eszközzel."
   ]
  },
  {
   "cell_type": "markdown",
   "metadata": {},
   "source": [
    "### A thermisztor tesztelése"
   ]
  },
  {
   "cell_type": "markdown",
   "metadata": {},
   "source": [
    "Miután elkészítettük az áramkört, meg kell írnunk a kódot ami utasítja a Raspberry Pi-t, a hőmérséklet kiolvasására.\n",
    "\n",
    "Mivel a thermisztor analóg jelet ad ki, amit a Raspberry Pi nem tud értelmezni, közbe iktatünk egy analóg digitális átalakítót, MCP3008. Ez a chip SPI protokolon keresztül kommunikál és a ```gpiozero``` csomagnak van hozzá objektuma, amit a ```Button``` klasszokkal együtt beimportálunk. "
   ]
  },
  {
   "cell_type": "markdown",
   "metadata": {},
   "source": [
    "A konvertert először inicializáljuk (a dokumentációban több példa is szerepel, hogy miképp lehet azt megtenni). Bemenő paraméterként megadjuk, hogy a thermisztoros feszültségosztóból kiolvasott feszültséget a 7-es csatornára csatlakoztattuk. Teszteléshez elég meghívni az objektum ```voltage``` metódusát, amit kiírathatunk a képernyőre."
   ]
  },
  {
   "cell_type": "markdown",
   "metadata": {},
   "source": [
    "```ntcc_temperature_button.py```:"
   ]
  },
  {
   "cell_type": "code",
   "execution_count": 2,
   "metadata": {},
   "outputs": [],
   "source": [
    "from gpiozero import MCP3008, Button\n",
    "\n",
    "mcp = MCP3008(channel=7)\n",
    "\n",
    "while True:\n",
    "\tprint(mcp.voltage)              "
   ]
  },
  {
   "cell_type": "markdown",
   "metadata": {},
   "source": [
    "### Nyomógombok tesztelése"
   ]
  },
  {
   "cell_type": "markdown",
   "metadata": {},
   "source": [
    "Következő lépésben definiálunk egy gombot, amit aa *GPIO02*-re kötünk.  Ahhoz, hogy leteszteljük helyesen kötöttük-e be a gombot és, hogy működik, írunk egy segédfüggvényt ```test()```, amit a gomb lenyomásakor meghívunk majd. A függvény meghívásakor egyszerűen csak kiíratjuk a képernyőre, hogy a gombot megnyomtuk. Végül ezt a függvényt hozzá kell rendelnünk a gombhoz, méghozzá most a gomb lenyomásának pillanatához a ```when_pressed``` metódushoz."
   ]
  },
  {
   "cell_type": "markdown",
   "metadata": {},
   "source": [
    "```ntcc_temperature_button.py```:"
   ]
  },
  {
   "cell_type": "code",
   "execution_count": null,
   "metadata": {},
   "outputs": [],
   "source": [
    "from gpiozero import MCP3008, Button\n",
    "\n",
    "mcp = MCP3008(channel=7)\n",
    "button_start = Button(17)\n",
    "\n",
    "def test():\n",
    "    print('Button is pressed')\n",
    "    \n",
    "button_start.when_pressed = test\n",
    "\n",
    "while True:\n",
    "    pass"
   ]
  },
  {
   "cell_type": "markdown",
   "metadata": {},
   "source": [
    "A kód végén még elindítunk egy végtelen ciklust, ami nem csinál semmit, így csak a gombok lenyomása lesz az egyetlen egy esemény amit a számítógép jelezhet. \n",
    "\n",
    "Mentsük le a kódot és futtasuk le a pythonnal. Teszteljük, hogy a gombok lenyomására megjelenik-e az üzenet a képernyőn. "
   ]
  },
  {
   "cell_type": "markdown",
   "metadata": {},
   "source": [
    "### Régi függvények újrahasznosítása"
   ]
  },
  {
   "cell_type": "markdown",
   "metadata": {},
   "source": [
    "Mivel a projektünk ugyanazon az áramkörön alapszik, mint az előző, így annak függvényeit újrahasznosíthatjuk. A ```read_temp_raw``` függvényt csak beimportáljuk a ```temperature_functions``` modulból (ügyeljünk arra, hogy a modul ugyanabban a mappában legyen mint a mi aktuális fájlunk), míg a ```read_mapping```, ```voltage2resistance``` és a ```interpolate_temperature``` függvényeket csak újra bemásoljuk a végső kódba."
   ]
  },
  {
   "cell_type": "markdown",
   "metadata": {},
   "source": [
    "### Függvény az utolsó 3 mérés összehasonlítására"
   ]
  },
  {
   "cell_type": "markdown",
   "metadata": {},
   "source": [
    "Az egyszerűség kedvéért a hőmérsékletünk megállapításához összehasonlítjuk az utolsó 3 mérés értékét egyenként egymással és ha azok nem térnek el jobban mint egy $\\epsilon$ kis érték, akkor az átlaguk lesz a hőmérsékletünk."
   ]
  },
  {
   "cell_type": "markdown",
   "metadata": {},
   "source": [
    "Ehhez definiálunk egy ```compare(tc, eps=0.01)``` nevű függvényt, aminek a bemenő paraméterei a 3 elemből álló hőmérséklet lista ```tc``` és egy általunk választható kicsi szám ```eps=0.01```, ami megmondja, hogy mekkora egymás utáni hőmérsékletkülönbség esetén van meg a végső hőmérséklet. "
   ]
  },
  {
   "cell_type": "markdown",
   "metadata": {},
   "source": [
    "Egy ```if``` szerkezetben megvizsgáljuk, hogy a 3 mért hőmérséklet különbség abszolút értéke egyenként kisebb-e mint az $\\epsilon$ értéke (0.01 $^\\circ$C), azaz konvergál-e a mérésünk, ```if abs(tc[0]-tc[1]) < eps and abs(tc[0]-tc[2]) < eps and abs(tc[2]-tc[1]) < eps:```. Ha igen, akkor vesszük a 3 mérés átlagát, ```t_mean = sum(tc)/len(tc)```, kiírjuk annak eredményét a képernyőre és végül kilépünk a pythonból, ```sys.exit(0)```. Ha nem, akkor semmi nem történik és kilépünk a függvényből, várunk az újabb meghívásra. "
   ]
  },
  {
   "cell_type": "code",
   "execution_count": 1,
   "metadata": {},
   "outputs": [],
   "source": [
    "def compare(tc, eps=0.01):\n",
    "\tif abs(tc[0]-tc[1]) < eps and abs(tc[0]-tc[2]) < eps and abs(tc[2]-tc[1]) < eps:\n",
    "\t\tt_mean = sum(tc)/len(tc)\n",
    "\t\tprint(f'Your body temperature is: {t_mean:.2f} Celsius degree')\n",
    "\t\tsys.exit(0)"
   ]
  },
  {
   "cell_type": "markdown",
   "metadata": {},
   "source": [
    "### A teljes kód"
   ]
  },
  {
   "cell_type": "markdown",
   "metadata": {},
   "source": [
    "Már csak az eddig leírtak összetákolása van hátra kiegészítve egy kis mérési utasítással. Kommentelt sorok jelzik az új elemeket a kódban."
   ]
  },
  {
   "cell_type": "markdown",
   "metadata": {},
   "source": [
    "A python csomagok és modulok beimportálása és a segéd függvények definiálása után, elsőként beolvassuk a hőmérséklet-ellenállás táblázatot, ```tc, resistance = read_mapping('ntcc.csv')```. Inicializálunk egy üres listát, amiben a mért hőmérsékleteket fogjuk tárolni. Kiíratunk egy üzenetet a képernyőre, hogy a mérés előtt tegyük a kezünket a thermisztorra, majd nyomjuk meg a gombot ami elindítja a mérést, ```button.wait_for_press()```."
   ]
  },
  {
   "cell_type": "markdown",
   "metadata": {},
   "source": [
    "Ezután elindítunk egy végtelen ```while``` ciklust, amiben először bevezetünk egy 0.8 másodperces késleltetést a mérések között, majd kiolvassuk a mért feszültséget a thermisztoron, és az alapján meghatározzuk a thermisztor ellenállásának értékét, ```rt = voltage2resistance(mcp.voltage, v_in=3.3, r=9.82e3)```. Ha meg van az ellenállás, a táblázatból interpolálással megkapjuk a hozzá tartozó hőmérsékletet, ```t_therm = interpolate_temperature(rt, tc, resistance)```. "
   ]
  },
  {
   "cell_type": "markdown",
   "metadata": {},
   "source": [
    "Miután megkaptuk a mért hőmérsékletet, beletesszük a tároló listába, ```t_body.append(t_therm)```. A következő lépésben megvizsgáljuk, hogy a tárolónknak van-e már 3 eleme, ```if len(t_body) < 3:```. Ha nincs, akkor indítunk egy újabb mérést. Ha van, akkor összehasonlítjuk őket, hogy közelít-e már az értékük, ```compare(t_body, eps=0.01)```, majd az összehasonlítás után kitöröljük a tároló első elemét, így biztosítva, hogy mindig csak 3 mérést hasonlítsunk össze. "
   ]
  },
  {
   "cell_type": "markdown",
   "metadata": {},
   "source": [
    "```ntcc_temperature_button.py```:"
   ]
  },
  {
   "cell_type": "code",
   "execution_count": null,
   "metadata": {},
   "outputs": [],
   "source": [
    "from gpiozero import MCP3008, Button\n",
    "import numpy as np                 # numpy importalas\n",
    "import sys,time                    # sys es time importalas\n",
    "from scipy.interpolate import interp1d   # interpolalas importalasa\n",
    "from temperature_functions import read_temp_raw\n",
    "\n",
    "\n",
    "mcp = MCP3008(channel=7)\n",
    "button = Button(2)\n",
    "\n",
    "\n",
    "def read_mapping(name):\n",
    "\tdata = read_temp_raw(name)\n",
    "\tdata.pop(0)\n",
    "\ttc = []\n",
    "\tr = []\n",
    "\tfor line in data:\n",
    "\t\tclean_data = line.strip().split(',')\n",
    "\t\ttc.append(float(clean_data[0]))\n",
    "\t\tr.append(float(clean_data[1])*1000)\n",
    "\treturn np.array(tc), np.array(r)\n",
    "\t\n",
    "def voltage2resistance(v_out, v_in=3.3, r=9.82e3):\n",
    "\treturn r * v_out / (v_in - v_out)\n",
    "\n",
    "def interpolate_temperature(resistance, tc, r):\n",
    "\tf = interp1d(r,tc)\n",
    "\treturn f(resistance)\n",
    "\n",
    "def compare(tc, eps=0.01):\n",
    "\tif abs(tc[0]-tc[1]) < eps and abs(tc[0]-tc[2]) < eps and abs(tc[2]-tc[1]) < eps:\n",
    "\t\tt_mean = sum(tc)/len(tc)\n",
    "\t\tprint(f'Your body temperature is: {t_mean:.2f} Celsius degree')\n",
    "\t\tsys.exit(0)\n",
    "\n",
    "# homerseklet-ellenallas tablazat beolvasasa\n",
    "tc, resistance = read_mapping('ntcc.csv')\t\t\n",
    "t_body = []                     # homerseklet tarolo inicializalas\n",
    "\n",
    "print('Place your hand on the thermistor')   #  tegyuk a kezunk a thermisztorra\n",
    "button.wait_for_press()  # varj a gomb lenyomasaig\n",
    "\n",
    "\n",
    "while True:           # vegtelen ciklus inditasa\n",
    "\ttime.sleep(0.8)   # 0.8s idokesleltetes ket meres kozott\n",
    "    # mert feszultsegbol az ellenallas kiszamitasa\n",
    "\trt = voltage2resistance(mcp.voltage, v_in=3.3, r=9.82e3)\n",
    "    # homersklet meghatarozasa az ellenallas ismereteben\n",
    "\tt_therm = interpolate_temperature(rt, tc, resistance)\n",
    "    # tarolohoz uj homersekletet adni\n",
    "\tt_body.append(t_therm)\n",
    "\t\n",
    "\tif len(t_body) < 3: # ha a tarolo hossza kisebb mint harom\n",
    "\t\tcontinue        # legyen uj meres \n",
    "\telse:               # ha nem kisebb mint 3\n",
    "        # hasonlitsa ossze a 3 meres erteket\n",
    "\t\tcompare(t_body, eps=0.01)\n",
    "        # torolje a tarolobol az elso mert erteket\n",
    "\t\tt_body.pop(0)"
   ]
  },
  {
   "cell_type": "markdown",
   "metadata": {},
   "source": [
    "## A projekt tesztelése"
   ]
  },
  {
   "cell_type": "markdown",
   "metadata": {},
   "source": [
    "Miután összeszereltük az áramkört és a kódot is megírtuk, amit pl. ```ntcc_temperature_button.py``` név alatt mentettünk el, megnyithatunk a Raspberry Pi operációs rendszerén egy terminált. A terminálban a ```cd 'mappa név'``` paranccsal elnavigálunk abba a mappába, ahova a ```ntcc_temperature_button.py```-t elmentettük. Ott begépelve a ```python ntcc_temperature_button.py``` parancsot, letesztelhetjük a programunk működését. Ha minden jól megy akkor a program elindításával megjelenik egy felszólítás a képernyőn, hogy fogjuk meg a thermisztort majd nyomjuk meg a gombot. Ezután a képernyőre kiíródik a mért hőmérséklet, mindaddig, amíg az jelentősen változik.\n",
    "\n",
    "Hibaüzenetek esetén ki kell deríteni mi lehetett a probléma, pl. elgépelés, egy modul hiányzik, sorok megfelelő behúzása, idézőjel lemaradása stb. A hibaüzenet legtöbbször segít abban, hogy melyik sorban találta a hibát és hogy mi volt az. Egy kis gyakorlással bele lehet jönni azok értelmezésébe, valamint interneten is rá lehet keresni a hibaüzenet jelentésére és annak lehetséges elhárítására."
   ]
  },
  {
   "cell_type": "markdown",
   "metadata": {},
   "source": [
    "## Mit lehet javítani/továbbfejleszteni?"
   ]
  },
  {
   "cell_type": "markdown",
   "metadata": {},
   "source": [
    "* Írjunk egy plusz feltételt a ```while``` ciklusba, hogy ha az nem áll meg 15 másodpercen belül, akkor az épp az aktuális utolsó 3 mérés átlaga legyen a hőmérséklet.\n",
    "* A ```t_body``` változót írjuk át ```numpy.array``` formátumúvá, és ennek megfelelően módosítsuk a kód többi részét, beleértve a ```compare``` függvényt is.\n",
    "\n",
    "Írd meg kommentben, hogy szerinted mivel lehetne még feldobni ezt a kis programot!"
   ]
  },
  {
   "cell_type": "markdown",
   "metadata": {},
   "source": [
    "## Referencia"
   ]
  },
  {
   "cell_type": "markdown",
   "metadata": {},
   "source": [
    "1) https://tutorials-raspberrypi.com/mcp3008-read-out-analog-signals-on-the-raspberry-pi/\n",
    "\n",
    "2) MCP3008 - https://gpiozero.readthedocs.io/en/stable/api_spi.html#mcp3008\n",
    "\n",
    "3) Gomb objektum leírása - https://gpiozero.readthedocs.io/en/stable/recipes.html#button\n",
    "\n",
    "4) if-else leírás - https://www.programiz.com/python-programming/if-elif-else\n",
    "\n",
    "5) modul importálás - https://www.programiz.com/python-programming/modules\n",
    "\n",
    "6) interpolálás - https://docs.scipy.org/doc/scipy/reference/tutorial/interpolate.html\n",
    "\n",
    "7) numpy array használata - https://numpy.org/doc/stable/reference/generated/numpy.array.html\n",
    "\n",
    "8) string műveletek - https://www.programiz.com/python-programming/string"
   ]
  },
  {
   "cell_type": "code",
   "execution_count": null,
   "metadata": {},
   "outputs": [],
   "source": []
  }
 ],
 "metadata": {
  "kernelspec": {
   "display_name": "Python 3",
   "language": "python",
   "name": "python3"
  },
  "language_info": {
   "codemirror_mode": {
    "name": "ipython",
    "version": 3
   },
   "file_extension": ".py",
   "mimetype": "text/x-python",
   "name": "python",
   "nbconvert_exporter": "python",
   "pygments_lexer": "ipython3",
   "version": "3.7.3"
  },
  "toc": {
   "base_numbering": 1,
   "nav_menu": {},
   "number_sections": true,
   "sideBar": true,
   "skip_h1_title": false,
   "title_cell": "Table of Contents",
   "title_sidebar": "Contents",
   "toc_cell": false,
   "toc_position": {},
   "toc_section_display": true,
   "toc_window_display": false
  }
 },
 "nbformat": 4,
 "nbformat_minor": 2
}
