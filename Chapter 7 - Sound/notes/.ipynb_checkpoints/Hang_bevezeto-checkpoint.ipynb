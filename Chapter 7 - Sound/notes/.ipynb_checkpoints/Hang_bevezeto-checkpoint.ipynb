{
 "cells": [
  {
   "cell_type": "markdown",
   "metadata": {},
   "source": [
    "# Bevezető - Hang"
   ]
  },
  {
   "cell_type": "markdown",
   "metadata": {},
   "source": [
    "## Mi a hang?"
   ]
  },
  {
   "cell_type": "markdown",
   "metadata": {},
   "source": [
    "Az infravörös sugárzás egy elektromágneses sugárzás és nagyobb a hullámhossza, mint a látható fénynek, rögtön a vörös szín után következik. Ennek megfelelően infravörös sugárzáson a 780 nm és 1 mm közötti hullámhossz tartományt értjük.\n",
    "\n",
    "Az emberi szem nem képes fényként érzékelni, viszont „meleg érzetként” képesek vagyunk felfogni. Emiatt hősugárzásként is szoktuk emlegetni. Lényegében minden testnek van hősugárzása amit meg is lehet figyelni. Ez emberrel ellentétben jó néhány állat képes a spektrum ezen tartományát is érzékelni. \n",
    "\n",
    "Felhasználása az infravörös sugárzásnak szerteágazó, pl. hősugárzós fűtés, IR fényképezés, hőmérséklet mérés, vezeték nélküli kommunikáció, áram megszakítás, távolságmérés, pulzusszámlálás és egyéb orvosi alkalmazások stb.\n"
   ]
  },
  {
   "cell_type": "markdown",
   "metadata": {},
   "source": [
    "## Hang leírása"
   ]
  },
  {
   "cell_type": "markdown",
   "metadata": {},
   "source": [
    "### Hanghullám"
   ]
  },
  {
   "cell_type": "markdown",
   "metadata": {},
   "source": [
    "### A hang amplitúdója"
   ]
  },
  {
   "cell_type": "markdown",
   "metadata": {},
   "source": [
    "### Hullámhossz"
   ]
  },
  {
   "cell_type": "markdown",
   "metadata": {},
   "source": [
    "### Frekvencia"
   ]
  },
  {
   "cell_type": "markdown",
   "metadata": {},
   "source": [
    "### A hang spektruma"
   ]
  },
  {
   "cell_type": "markdown",
   "metadata": {},
   "source": [
    "<img src=\"bevezeto/szenzor.jpg\" width=200 height=200 />"
   ]
  },
  {
   "cell_type": "markdown",
   "metadata": {},
   "source": [
    "<center> IR szenzor"
   ]
  },
  {
   "cell_type": "markdown",
   "metadata": {},
   "source": [
    "## A hang érzékelése/rögzítése\n",
    "\n",
    "Két típust különböztetünk meg:\n",
    "\n",
    "*Aktív IR szenzor*: Két elemből áll, egy IR forrásból és egy IR detektorból. A forrás általában egy IR LED vagy lézer, az IR detektor pedig egy fotodióda vagy pedig egy fototranzisztor. A forrás által kisugárzott infravörös fény a környezetben levő tárgyakról visszaverődve az érzékelőbe jut. \n",
    "\n",
    "*Passzív IR szenzor*: Ez csaj egy IR detektorból áll, nem használnak IR forrást. Két típusuk van, a quantumos és a termális. A termális infravörös szenzorok a környezetből jövő hőt használják detektálásra. A termoelem, piroelektrikus detektorok és a bolométerek tartoznak ebbe a csoportba. A quantum IR szenzorok nagyobb pontossággal érzékelnek és gyorsabbak mint a termális detektorok. Ezeknek a fényérzékenysége hullámhosszfüggő. \n",
    "\n",
    "### IR LED\n",
    "\n",
    "A diódára adott áramforrás a dióda anyagában levő atomok szabad elektronjainak többlet energiát ad, amitől azok magasabb energiájú pályára lépnek. Mivel ez nem stabil állapot, ezért hamarosan relaxálódnak az eredeti állapotukra és a felesleg energiát foton formájában adja le. A LED anyagától függően a leadott energia mértéke más és más, azaz a kibocsátott fény hullámhossza is változik. A LED által kibocsátott fény szöge függ a LED kialakításától. \n",
    "\n",
    "Az IR LED hosszabb lába az anód (pozitív), míg a rövidebb lába a katód (negatív). A LED-ek általános jellemzői közé tartoznak a a tápfeszültség, az energia, az üzemi áram, a hatékonyság (fényteljesítmény), az izzás hőmérséklete (szín), a sugárzási szög, a méret. Az adott alkalmazáshoz megfelelő LED kiválasztásához érdemes figyelembe venni az előző paramétereket, de leginkább a rajta átmenő maximális áramerősséget, hisz ha azt túllépjük, a LED akár le is éghet. "
   ]
  },
  {
   "cell_type": "markdown",
   "metadata": {},
   "source": [
    "### Fül \n",
    "\n",
    "Az infravörös vevők az infravörös sugárzók jeleit  érzékelik. Az IR vevők lehetnek fotodiódák vagy fototranzisztorok. Ezek csak az infravörös fényre érzékenyek. \n",
    "\n",
    "**Fotodióda**\n",
    "\n",
    "A fotodióda működése azon alapszik, hogy a félvezetőben elnyelődő fény elektron-lyuk párokat hoz létre és (típustól függően) diffundálnak vagy alap elektromos tér hatására elmennek az anód és a katód felé, létrehozva az áramot. A fotodiódák ellenállása és kimenő feszültsége változik a rájuk eső fény mennyiségének függvényében. Fontos, hogy az IR fotodiódák meghatározott hullámhosszra érzékenyek, így ha egy jeladóval pl. IR LED-del szeretnénk használni, akkor ugyanazon a hullámhosszon kell működniük. \n",
    "\n",
    "**Fototranzisztor**\n",
    "\n",
    "A fototranzisztorok lényegében sima tranzisztorok, amiket nem fedtek le. A működési alapelve nagyban hasonlít a fotodiódáéhoz. Amit fontos tudni, hogy nagyobb áramerősségeket képes produkálni a fotodiódáknál, és emiatt relatív nagyon érzékenyek már kis fények mellett is. Viszont a válaszidejük sokkal lassabb és nagy feszültségeket sem képesek elviselni.\n"
   ]
  },
  {
   "cell_type": "markdown",
   "metadata": {},
   "source": [
    "### Mikrofon"
   ]
  },
  {
   "cell_type": "markdown",
   "metadata": {},
   "source": [
    "## A hang számítógépes rögzítése"
   ]
  },
  {
   "cell_type": "markdown",
   "metadata": {},
   "source": [
    "### Mintavételezés"
   ]
  },
  {
   "cell_type": "markdown",
   "metadata": {},
   "source": [
    " Digitization\n",
    "1.1 Sampling\n",
    "Digital recording is not a continuous but a discrete process of data acquisition. Sound is recorded\n",
    "through regular samples. These samples are taken at a specified rate, named the sampling\n",
    "frequency or sampling rate f given in Hz or kHz. The most common rate is 44,100 Hz = 44.1\n",
    "kHz but lower rate can be used for low frequency sound (e.g. 22.05 kHz) or higher rate can be\n",
    "used for high frequency sound (up to 192 kHz).\n",
    "Figure 1 shows 5 ms of a pure tone sound (440 Hz) sampled at 44.1 kHz and 22.05 kHz respectively. The discretization of sound digitization should not be underestimated as a too low\n",
    "sampling rate can lead to frequency artefacts.\n",
    "1.2 Quantisation\n",
    "Another important parameter of digitization is the process of quantisation that consists in assigning a numerical value to each sample according to its amplitude. These numerical values are\n",
    "attributed according to a bit scale. A quantisation of 8 bit will assign amplitude values along a\n",
    "scale of 28 = 256 states around 0 (zero). Most recording systems use a 216 = 65536 bit system.\n",
    "Quantisation can be seen as a rounding process. A high bit quantisation will produce values close\n",
    "to reality, i. e. values rounded to a high number of significant digits, when a low bit quantisation\n",
    "will produce values far from reality, i. e. values rounded a low number of significants digits.\n",
    "Low quantisation can lead to impaired quality signal"
   ]
  },
  {
   "cell_type": "markdown",
   "metadata": {},
   "source": [
    "### Fájl formátum\n",
    "\n",
    "Wihtin R, digitized sound can be stored in three categories of files:\n",
    " uncompressed format (.wav): the full information is stored in a heavy file.\n",
    " lossy compressed format (.mp3): the information is reduced. Time, amplitude and frequency parameters can be impaired.\n",
    " losslessly compressed format (.flac): the full information is stored in a reduced size file.\n",
    "All these formats generate binary files, sound being encoded into a succession of 0 and 1. When\n",
    "importing these formats into R through tuneR the data are transformed into a decimal format.\n",
    "This implies an important increase in data size."
   ]
  },
  {
   "cell_type": "markdown",
   "metadata": {},
   "source": [
    "### Referencia\n",
    "\n",
    "1) https://cran.r-project.org/web/packages/seewave/vignettes/seewave_analysis.pdf\n",
    "\n",
    "2) https://blog.paperspace.com/introduction-to-audio-analysis-and-synthesis/\n",
    "\n",
    "3) https://hu.wikipedia.org/wiki/Hang\n",
    "\n",
    "4) https://en.wikipedia.org/wiki/Sound\n",
    "\n",
    "5) https://people.csail.mit.edu/hubert/pyaudio/docs/\n",
    "\n",
    "6) https://makersportal.com/blog/2018/8/23/recording-audio-on-the-raspberry-pi-with-python-and-a-usb-microphone\n"
   ]
  },
  {
   "cell_type": "code",
   "execution_count": null,
   "metadata": {},
   "outputs": [],
   "source": []
  }
 ],
 "metadata": {
  "kernelspec": {
   "display_name": "Python 3",
   "language": "python",
   "name": "python3"
  },
  "language_info": {
   "codemirror_mode": {
    "name": "ipython",
    "version": 3
   },
   "file_extension": ".py",
   "mimetype": "text/x-python",
   "name": "python",
   "nbconvert_exporter": "python",
   "pygments_lexer": "ipython3",
   "version": "3.7.3"
  },
  "toc": {
   "base_numbering": 1,
   "nav_menu": {},
   "number_sections": true,
   "sideBar": true,
   "skip_h1_title": false,
   "title_cell": "Table of Contents",
   "title_sidebar": "Contents",
   "toc_cell": false,
   "toc_position": {},
   "toc_section_display": true,
   "toc_window_display": false
  }
 },
 "nbformat": 4,
 "nbformat_minor": 4
}
