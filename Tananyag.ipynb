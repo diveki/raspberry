{
 "cells": [
  {
   "cell_type": "markdown",
   "metadata": {},
   "source": [
    "# Tananyag"
   ]
  },
  {
   "cell_type": "markdown",
   "metadata": {},
   "source": [
    "## Gombok"
   ]
  },
  {
   "cell_type": "markdown",
   "metadata": {},
   "source": [
    "* Fingópárna\n",
    "* Kiírni a képernyőre ha a gombot megnyomták\n",
    "* Honlapot gombnyomásra kinyitni\n",
    "* Lenyomás és felengedés különválasztása\n",
    "* A lenyomás hosszának mérése\n",
    "* Reflex mérés gombnyomással\n",
    "* Üzenetek kódolása és dekódolása gombokkal\n",
    "* Mp3 lejátszó\n",
    "* Hörcsög etetés"
   ]
  },
  {
   "cell_type": "markdown",
   "metadata": {},
   "source": [
    "## LED"
   ]
  },
  {
   "cell_type": "markdown",
   "metadata": {},
   "source": [
    "* Led tulajdonságainak megismerése\n",
    "* Ledet kapcsolni gombnyomással\n",
    "* Reflexmérés leddel és gombbal\n",
    "* Közlekedési jelzőlámpa\n",
    "* LGB vezérlése 3 gombbal\n",
    "* Beírt szöveg alapján LGB színt beállítani\n",
    "* Interaktív játék, kérdésekre válaszolni és ledek jeleznek, hogy helyes vagy helytelen\n",
    "* Szerencsekerék: LGB-n színeket váltogatni és gombnyomásra megállítani\n",
    "* Coka Colás led lámpa"
   ]
  },
  {
   "cell_type": "markdown",
   "metadata": {},
   "source": [
    "## Szervó és léptető motor"
   ]
  },
  {
   "cell_type": "markdown",
   "metadata": {},
   "source": [
    "* Megforgatni a szervó/léptető motort\n",
    "* Gombnyomásra forgatni\n",
    "* Kettő gombbal előre és hátra forgatni\n",
    "* RGB leddel mutatni a kerék sebességét\n",
    "* Két kerekű, külön meghajtású kocsit készíteni\n",
    "* Órakészítés Ledekkel és gombokkal"
   ]
  },
  {
   "cell_type": "markdown",
   "metadata": {},
   "source": [
    "## Hő és páramérés"
   ]
  },
  {
   "cell_type": "markdown",
   "metadata": {},
   "source": [
    "* Kiírni a képernyőre a hőt/párát\n",
    "* Elmenteni fájlba az értékeket\n",
    "* Plottolni az értékeket\n",
    "* Frissíteni időközönként az ábrát a mérésből\n",
    "* Ledet vezérelni a hő/páramérővel\n",
    "* Gombnyomásra indítani mérést\n",
    "* Honlapon rögzíteni élőben a mért eredményeket"
   ]
  },
  {
   "cell_type": "markdown",
   "metadata": {},
   "source": [
    "## Kamera modul"
   ]
  },
  {
   "cell_type": "markdown",
   "metadata": {},
   "source": [
    "* Kép készítése/mentése\n",
    "* Videó készítése/mentése\n",
    "* Képek online feltöltése\n",
    "* Selfie-bot\n",
    "* Mozgásérzékelés\n",
    "* Tárgy azonosítás/bekeretezés\n",
    "* Autóra szerelt kamera"
   ]
  },
  {
   "cell_type": "markdown",
   "metadata": {},
   "source": [
    "## Infravörös érzékelő"
   ]
  },
  {
   "cell_type": "markdown",
   "metadata": {},
   "source": [
    "* Közelség mérés és kiírás képernyőre\n",
    "* Közelség mérés adatait plottolni\n",
    "* LGB színekkel jelzi, milyen közel vagyunk valamihez\n",
    "* Közelség érzékelős autó\n",
    "* Coka Cola led lámpa kapcsolás érintésre\n",
    "* Szívritmus érzékelés és plottolás\n",
    "* Kém kamera"
   ]
  },
  {
   "cell_type": "markdown",
   "metadata": {},
   "source": [
    "## Hang detektálás és mikrofon"
   ]
  },
  {
   "cell_type": "markdown",
   "metadata": {},
   "source": [
    "* Hang hatására képernyőre üzenet\n",
    "* Tapsra ledet kapcsolni\n",
    "* Coka Cola led tapsra kapcsolása\n",
    "* Kamera bekapcsolása tapsra\n",
    "* Mikrofonnal hangot rögzíteni fájlba\n",
    "* Mikrofonnal hangot plottolni\n",
    "* Hang alapján beléptető rendszer\n",
    "* Szavakkal bekapcsolni/kikapcsolni kamerát"
   ]
  },
  {
   "cell_type": "markdown",
   "metadata": {},
   "source": [
    "## Joystick"
   ]
  },
  {
   "cell_type": "markdown",
   "metadata": {},
   "source": [
    "* Joystick elmozdulását képernyőre kiírni\n",
    "* Led diódákkal jelezni merre mozdult a joystick\n",
    "* Classt készíteni ami kiírja merre mozdult a joystick\n",
    "* Autó vezérlése joystickkal\n",
    "* Joystickkal választani hőmérő és kamera között\n",
    "* Pygame hörcsög irányítás joystickkal\n",
    "* Emelőt készíteni és joysticckal vezérelni"
   ]
  },
  {
   "cell_type": "markdown",
   "metadata": {},
   "source": [
    "## LCD, 7 szegmenses és érintős kijelző"
   ]
  },
  {
   "cell_type": "markdown",
   "metadata": {},
   "source": [
    "* Kiírni üzenetet LCD-re\n",
    "* Hőmérsékletet LCD-re kírni\n",
    "* Gombnyomással változtatni hőmérséklet és pára között\n",
    "* Joystickkel snake játékot játszani LCD kijelzőn\n",
    "* 7 szegmensen számokat kiírni\n",
    "* Kvíz játék: LCD-n kérdés, joystickkel választani, 7 szegmensen visszaszámolni\n",
    "* Coka Cola lámpa és 7 szegmenses hőmérséklet jelző\n",
    "* Érintőképernyő működése"
   ]
  },
  {
   "cell_type": "markdown",
   "metadata": {},
   "source": [
    "## Potenciométer"
   ]
  },
  {
   "cell_type": "markdown",
   "metadata": {},
   "source": [
    "* Számokat változtatni képernyőn/7 szegmenses kijelzőn\n",
    "* Led fényerejének beállítása\n",
    "* Mp3 hangerő szabályozó\n",
    "* Kamera képet editálni"
   ]
  },
  {
   "cell_type": "markdown",
   "metadata": {},
   "source": [
    "## Dőlés kapcsoló"
   ]
  },
  {
   "cell_type": "markdown",
   "metadata": {},
   "source": [
    "* Kiírni az ellenállás értékét dőlésszög függvényében\n",
    "* Ledet ki/be kapcsolni döntéssel\n",
    "* Rablóazonosítás\n",
    "* LCD-re üzenetet írni ha eldől egy tárgy\n",
    "* Autóra szerelni és mérni az út simaságát\n",
    "* L-alakú doboz billentéssel vált idő és hőmérséklet között"
   ]
  },
  {
   "cell_type": "markdown",
   "metadata": {},
   "source": [
    "## Hall érzékelő"
   ]
  },
  {
   "cell_type": "markdown",
   "metadata": {},
   "source": [
    "* Mágneses mező erősségét kiírni a képernyőre/LCD-re\n",
    "* Gól számláló\n",
    "* Biztonsági riasztó\n",
    "* 7 szegmensen sebességet kijelezni"
   ]
  }
 ],
 "metadata": {
  "kernelspec": {
   "display_name": "Python 3",
   "language": "python",
   "name": "python3"
  },
  "language_info": {
   "codemirror_mode": {
    "name": "ipython",
    "version": 3
   },
   "file_extension": ".py",
   "mimetype": "text/x-python",
   "name": "python",
   "nbconvert_exporter": "python",
   "pygments_lexer": "ipython3",
   "version": "3.7.3"
  },
  "toc": {
   "base_numbering": 1,
   "nav_menu": {},
   "number_sections": true,
   "sideBar": true,
   "skip_h1_title": false,
   "title_cell": "Table of Contents",
   "title_sidebar": "Contents",
   "toc_cell": false,
   "toc_position": {},
   "toc_section_display": true,
   "toc_window_display": false
  }
 },
 "nbformat": 4,
 "nbformat_minor": 4
}
